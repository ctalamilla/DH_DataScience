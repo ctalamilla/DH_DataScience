{
 "cells": [
  {
   "cell_type": "code",
   "execution_count": 1,
   "metadata": {
    "slideshow": {
     "slide_type": "skip"
    }
   },
   "outputs": [
    {
     "name": "stdout",
     "output_type": "stream",
     "text": [
      "/media/paulati/Nuevo vol/paula/dh/2021/dsad_2021_paula/common\n",
      "default checking\n",
      "Running command `conda list`... ok\n",
      "jupyterlab=2.2.6 already installed\n",
      "pandas=1.1.5 already installed\n",
      "bokeh=2.2.3 already installed\n",
      "seaborn=0.11.0 already installed\n",
      "matplotlib=3.3.2 already installed\n",
      "ipywidgets=7.5.1 already installed\n",
      "pytest=6.2.1 already installed\n",
      "chardet=4.0.0 already installed\n",
      "psutil=5.7.2 already installed\n",
      "scipy=1.5.2 already installed\n",
      "statsmodels=0.12.1 already installed\n",
      "scikit-learn=0.23.2 already installed\n",
      "xlrd=2.0.1 already installed\n",
      "Running command `conda install --yes nltk=3.5.0`... ok\n",
      "Collecting package metadata (current_repodata.json): ...working... done\n",
      "Solving environment: ...working... done\n",
      "\n",
      "# All requested packages already installed.\n",
      "\n",
      "\n",
      "unidecode=1.1.1 already installed\n",
      "pydotplus=2.0.2 already installed\n",
      "pandas-datareader=0.9.0 already installed\n",
      "flask=1.1.2 already installed\n"
     ]
    }
   ],
   "source": [
    "# initial setup\n",
    "%run \"../../../common/0_notebooks_base_setup.py\"\n"
   ]
  },
  {
   "cell_type": "code",
   "execution_count": 2,
   "metadata": {
    "slideshow": {
     "slide_type": "skip"
    }
   },
   "outputs": [],
   "source": [
    "# NOTA: Esta es la forma de armar html con algun contenido dinamico. No borrar porque sirve como ejemplo\n",
    "\n",
    "# cargo los estilos y la portada:\n",
    "\n",
    "#css_path = '../../../common/dhds.css'\n",
    "\n",
    "#raw_html = '<div class=\"Table\">' \\\n",
    "#    '<div class=\"Row\">' \\\n",
    "#        '<div class=\"Cell grey left\"> <img src=\"' + gs.images_base_url + 'M1/CLASE_02_Python1/Presentacion/img/M1_CLASE_02_portada.png\" align=\"center\" /></div>' \\\n",
    "#        '<div class=\"Cell right\">' \\\n",
    "#            '<div class=\"div-logo\"><img src=\"' + gs.images_base_url + 'common/logo_DH.png\" align=\"center\" width=70% /></div>' \\\n",
    "#            '<div class=\"div-curso\">DATA SCIENCE</div>' \\\n",
    "#            '<div class=\"div-modulo\">MÓDULO 1</div>' \\\n",
    "#            '<div class=\"div-contenido\">Entornos (Conda y Jupyter Notebooks) <br/> Repaso de Python</div>' \\\n",
    "#        '</div>' \\\n",
    "#    '</div>' \\\n",
    "#'</div>'        \n"
   ]
  },
  {
   "cell_type": "code",
   "execution_count": 3,
   "metadata": {
    "slideshow": {
     "slide_type": "skip"
    },
    "tags": [
     "to_remove"
    ]
   },
   "outputs": [],
   "source": [
    "# importante: tagear como slide to remove y generar por linea de comandos \n",
    "#from IPython.display import HTML as html\n",
    "#html(\"<link rel='stylesheet' href='\" + css_path + \"'>\" + raw_html)"
   ]
  },
  {
   "cell_type": "markdown",
   "metadata": {
    "slideshow": {
     "slide_type": "slide"
    }
   },
   "source": [
    "<link rel=\"stylesheet\" href='../../../common/dhds.css'>\n",
    "<div class=\"Table\">\n",
    "    <div class=\"Row\">\n",
    "        <div class=\"Cell grey left\"> <img src=\"https://raw.githubusercontent.com/Digital-House-DATA/ds_blend_2021_img/master/M3/CLASE_20_Intro_ML_1/Presentacion/img/M3_CLASE_20_portada.png\" align=\"center\" width=90% alt=\"Portada\"/> </div >                \n",
    "    <div class=\"Cell right\">\n",
    "            <div class=\"div-logo\"><img src=\"https://raw.githubusercontent.com/Digital-House-DATA/ds_blend_2021_img/master/common/logo_DH.png\" align=\"center\" width=70% /></div> \n",
    "            <div class=\"div-curso\">DATA SCIENCE</div>\n",
    "            <div class=\"div-modulo\">MÓDULO 3</div>            \n",
    "            <div class=\"div-contenido\">Introducción a Machine Learning 2</div>        \n",
    "        </div>\n",
    "    </div>    \n",
    "</div>        "
   ]
  },
  {
   "cell_type": "markdown",
   "metadata": {
    "slideshow": {
     "slide_type": "slide"
    }
   },
   "source": [
    "## Agenda\n",
    "\n",
    "---\n",
    "\n",
    "- Repasar los conceptos de aprendizaje supervisado y  no supervisado\n",
    "\n",
    "- Presentar ejemplos de modelos de aprendizaje supervisado y  no supervisado\n",
    "\n",
    "    - aprendizaje supervisado: Clasificación\n",
    "\n",
    "    - aprendizaje no supervisado: Clustering"
   ]
  },
  {
   "cell_type": "code",
   "execution_count": 4,
   "metadata": {
    "slideshow": {
     "slide_type": "skip"
    }
   },
   "outputs": [],
   "source": [
    "import numpy as np\n",
    "import pandas as pd\n",
    "\n",
    "import seaborn as sns\n",
    "import matplotlib.pyplot as plt\n",
    "%matplotlib inline\n",
    "\n",
    "from sklearn import datasets"
   ]
  },
  {
   "cell_type": "markdown",
   "metadata": {
    "slideshow": {
     "slide_type": "slide"
    }
   },
   "source": [
    "<div class=\"div-dhds-fondo-1\">  Aprendizaje supervisado\n",
    "<img src=\"https://raw.githubusercontent.com/Digital-House-DATA/ds_blend_2021_img/master/M1/CLASE_05_Pandas1/Presentacion/img/M1_CLASE_05_separador.png\" align=\"center\"></img>    \n",
    "</div>\n"
   ]
  },
  {
   "cell_type": "markdown",
   "metadata": {
    "slideshow": {
     "slide_type": "slide"
    }
   },
   "source": [
    "###  Aprendizaje supervisado - repaso\n",
    "\n",
    "---\n",
    "\n",
    "Los algoritmos de aprendizaje supervisado usan tanto las **features** de las observaciones como la variable **target** asociada. \n",
    "\n",
    "Cuando llega una nueva observación (con sus features), el modelo *predice el valor del target asociado*.\n",
    "\n",
    "<img src=\"https://raw.githubusercontent.com/Digital-House-DATA/ds_blend_2021_img/master/M3/CLASE_18_Intro_ML_1/Presentacion/img/M3_CLASE_18_supervisado.jpg\" align=\"center\" alt=\"tablon\" width=70% height=40% />\n",
    "\n",
    "<a href=\"https://www.newtechdojo.com/list-machine-learning-algorithms/\" target=\"_blank\">https://www.newtechdojo.com/list-machine-learning-algorithms/</a>"
   ]
  },
  {
   "cell_type": "markdown",
   "metadata": {
    "slideshow": {
     "slide_type": "subslide"
    }
   },
   "source": [
    "###  Aprendizaje supervisado - repaso\n",
    "\n",
    "---\n",
    "\n",
    "La **supervisión** del aprendizaje se produce cuando usamos el modelo para predecir el target de determinada observación **basados en otras observaciones cuyo target conocemos de antemano**. \n",
    "\n",
    "Disponemos tanto del **valor real** del target como del **valor predicho** y los podemos comparar. \n",
    "\n",
    "Si la variable objetivo es una **variable continua (o cuantitativa)** se trata de un modelo de **regresión**. \n",
    "\n",
    "Si la variable objetivo es una **variable categórica (o cualitativa)**, nos encontramos ante un caso de **clasificación**."
   ]
  },
  {
   "cell_type": "markdown",
   "metadata": {
    "slideshow": {
     "slide_type": "slide"
    }
   },
   "source": [
    "<div class=\"div-dhds-fondo-1\"> Clasificación\n",
    "<img src=\"https://raw.githubusercontent.com/Digital-House-DATA/ds_blend_2021_img/master/M3/CLASE_18_Intro_ML_1/Presentacion/img/M3_CLASE_18_separador.png\" align=\"center\"></img>    \n",
    "</div>"
   ]
  },
  {
   "cell_type": "markdown",
   "metadata": {
    "slideshow": {
     "slide_type": "slide"
    }
   },
   "source": [
    "###  Clasificación\n",
    "\n",
    "---\n",
    "Los métodos de clasificación se pueden usar en aplicaciones tipo:\n",
    "\n",
    "- Predicción de bajas de clientes a la suscripción de un servicio (modelos de *churn*)\n",
    "\n",
    "- Distinción de comentarios positivos y negativos en redes sociales\n",
    "\n",
    "- Filtros de _spam_ en servicios de correo electrónico\n",
    "\n",
    "- Diagnóstico de enfermedades\n",
    "\n",
    "- Detección de fraudes de tarjeta de crédito"
   ]
  },
  {
   "cell_type": "markdown",
   "metadata": {
    "slideshow": {
     "slide_type": "slide"
    }
   },
   "source": [
    "###  Naive Bayes\n",
    "\n",
    "---\n",
    "Hagamos un ejemplo con un algoritmo simple de clasificación, **Naive Bayes**.\n",
    "\n",
    "Asume que todas las features *son independientes entre sí*.\n",
    "\n",
    "Se basa en probabilidades. \n",
    "\n",
    "Es un modelo que se usa *de base*; su performance es un piso para los demás modelos.\n",
    "\n",
    "<p style=\"font-size:14px; font-style:italic;\">\n",
    "<img src=\"https://raw.githubusercontent.com/Digital-House-DATA/ds_blend_2021_img/master/M3/CLASE_20_Intro_ML_1/Presentacion/img/M3_CLASE_20_bayes.png\" align=\"center\" alt=\"bayes\" width=40% />\n",
    "Bayes, Thomas (1763)\n",
    "</p>    "
   ]
  },
  {
   "cell_type": "markdown",
   "metadata": {
    "slideshow": {
     "slide_type": "slide"
    }
   },
   "source": [
    "### Dataset\n",
    "\n",
    "---\n",
    "Disponemos un dataset de semillas de trigo, con algunas de sus características.\n",
    "\n",
    "Como *variable target*, usamos el tipo de variedad: *1 - Kama, 2 - Rosa, 3 - Canadian*.\n",
    "\n",
    "Para consultar detalles del dataset <a href=\"https://archive.ics.uci.edu/ml/datasets/seeds#\" target=\"_blank\">aquí</a>."
   ]
  },
  {
   "cell_type": "code",
   "execution_count": 5,
   "metadata": {
    "slideshow": {
     "slide_type": "fragment"
    }
   },
   "outputs": [
    {
     "name": "stdout",
     "output_type": "stream",
     "text": [
      "Shape:  (210, 8)\n"
     ]
    },
    {
     "data": {
      "text/html": [
       "<div>\n",
       "<style scoped>\n",
       "    .dataframe tbody tr th:only-of-type {\n",
       "        vertical-align: middle;\n",
       "    }\n",
       "\n",
       "    .dataframe tbody tr th {\n",
       "        vertical-align: top;\n",
       "    }\n",
       "\n",
       "    .dataframe thead th {\n",
       "        text-align: right;\n",
       "    }\n",
       "</style>\n",
       "<table border=\"1\" class=\"dataframe\">\n",
       "  <thead>\n",
       "    <tr style=\"text-align: right;\">\n",
       "      <th></th>\n",
       "      <th>area</th>\n",
       "      <th>perimeter</th>\n",
       "      <th>compactness</th>\n",
       "      <th>length</th>\n",
       "      <th>width</th>\n",
       "      <th>coefficient</th>\n",
       "      <th>length_groove</th>\n",
       "      <th>type_wheat</th>\n",
       "    </tr>\n",
       "  </thead>\n",
       "  <tbody>\n",
       "    <tr>\n",
       "      <th>157</th>\n",
       "      <td>12.13</td>\n",
       "      <td>13.73</td>\n",
       "      <td>0.8081</td>\n",
       "      <td>5.394</td>\n",
       "      <td>2.745</td>\n",
       "      <td>4.825</td>\n",
       "      <td>5.220</td>\n",
       "      <td>3</td>\n",
       "    </tr>\n",
       "    <tr>\n",
       "      <th>194</th>\n",
       "      <td>12.11</td>\n",
       "      <td>13.27</td>\n",
       "      <td>0.8639</td>\n",
       "      <td>5.236</td>\n",
       "      <td>2.975</td>\n",
       "      <td>4.132</td>\n",
       "      <td>5.012</td>\n",
       "      <td>3</td>\n",
       "    </tr>\n",
       "    <tr>\n",
       "      <th>160</th>\n",
       "      <td>12.54</td>\n",
       "      <td>13.67</td>\n",
       "      <td>0.8425</td>\n",
       "      <td>5.451</td>\n",
       "      <td>2.879</td>\n",
       "      <td>3.082</td>\n",
       "      <td>5.491</td>\n",
       "      <td>3</td>\n",
       "    </tr>\n",
       "  </tbody>\n",
       "</table>\n",
       "</div>"
      ],
      "text/plain": [
       "     area      perimeter   compactness   length   width   coefficient   \\\n",
       "157     12.13       13.73        0.8081    5.394   2.745         4.825   \n",
       "194     12.11       13.27        0.8639    5.236   2.975         4.132   \n",
       "160     12.54       13.67        0.8425    5.451   2.879         3.082   \n",
       "\n",
       "     length_groove   type_wheat  \n",
       "157           5.220           3  \n",
       "194           5.012           3  \n",
       "160           5.491           3  "
      ]
     },
     "execution_count": 5,
     "metadata": {},
     "output_type": "execute_result"
    }
   ],
   "source": [
    "df_trigo = pd.read_csv('../Data/seeds_dataset.csv')\n",
    "print('Shape: ', df_trigo.shape)\n",
    "df_trigo.sample(3)"
   ]
  },
  {
   "cell_type": "code",
   "execution_count": 6,
   "metadata": {
    "slideshow": {
     "slide_type": "fragment"
    }
   },
   "outputs": [
    {
     "data": {
      "text/plain": [
       "array([1, 2, 3])"
      ]
     },
     "execution_count": 6,
     "metadata": {},
     "output_type": "execute_result"
    }
   ],
   "source": [
    "df_trigo.type_wheat.unique()"
   ]
  },
  {
   "cell_type": "code",
   "execution_count": 7,
   "metadata": {
    "slideshow": {
     "slide_type": "subslide"
    }
   },
   "outputs": [
    {
     "data": {
      "text/html": [
       "<div>\n",
       "<style scoped>\n",
       "    .dataframe tbody tr th:only-of-type {\n",
       "        vertical-align: middle;\n",
       "    }\n",
       "\n",
       "    .dataframe tbody tr th {\n",
       "        vertical-align: top;\n",
       "    }\n",
       "\n",
       "    .dataframe thead th {\n",
       "        text-align: right;\n",
       "    }\n",
       "</style>\n",
       "<table border=\"1\" class=\"dataframe\">\n",
       "  <thead>\n",
       "    <tr style=\"text-align: right;\">\n",
       "      <th></th>\n",
       "      <th>area</th>\n",
       "      <th>perimeter</th>\n",
       "      <th>compactness</th>\n",
       "      <th>length</th>\n",
       "      <th>width</th>\n",
       "      <th>coefficient</th>\n",
       "      <th>length_groove</th>\n",
       "      <th>type_wheat</th>\n",
       "    </tr>\n",
       "  </thead>\n",
       "  <tbody>\n",
       "    <tr>\n",
       "      <th>count</th>\n",
       "      <td>210.000000</td>\n",
       "      <td>210.000000</td>\n",
       "      <td>210.000000</td>\n",
       "      <td>210.000000</td>\n",
       "      <td>210.000000</td>\n",
       "      <td>210.000000</td>\n",
       "      <td>210.000000</td>\n",
       "      <td>210.000000</td>\n",
       "    </tr>\n",
       "    <tr>\n",
       "      <th>mean</th>\n",
       "      <td>14.847524</td>\n",
       "      <td>14.559286</td>\n",
       "      <td>0.870999</td>\n",
       "      <td>5.628533</td>\n",
       "      <td>3.258605</td>\n",
       "      <td>3.700201</td>\n",
       "      <td>5.408071</td>\n",
       "      <td>2.000000</td>\n",
       "    </tr>\n",
       "    <tr>\n",
       "      <th>std</th>\n",
       "      <td>2.909699</td>\n",
       "      <td>1.305959</td>\n",
       "      <td>0.023629</td>\n",
       "      <td>0.443063</td>\n",
       "      <td>0.377714</td>\n",
       "      <td>1.503557</td>\n",
       "      <td>0.491480</td>\n",
       "      <td>0.818448</td>\n",
       "    </tr>\n",
       "    <tr>\n",
       "      <th>min</th>\n",
       "      <td>10.590000</td>\n",
       "      <td>12.410000</td>\n",
       "      <td>0.808100</td>\n",
       "      <td>4.899000</td>\n",
       "      <td>2.630000</td>\n",
       "      <td>0.765100</td>\n",
       "      <td>4.519000</td>\n",
       "      <td>1.000000</td>\n",
       "    </tr>\n",
       "    <tr>\n",
       "      <th>25%</th>\n",
       "      <td>12.270000</td>\n",
       "      <td>13.450000</td>\n",
       "      <td>0.856900</td>\n",
       "      <td>5.262250</td>\n",
       "      <td>2.944000</td>\n",
       "      <td>2.561500</td>\n",
       "      <td>5.045000</td>\n",
       "      <td>1.000000</td>\n",
       "    </tr>\n",
       "    <tr>\n",
       "      <th>50%</th>\n",
       "      <td>14.355000</td>\n",
       "      <td>14.320000</td>\n",
       "      <td>0.873450</td>\n",
       "      <td>5.523500</td>\n",
       "      <td>3.237000</td>\n",
       "      <td>3.599000</td>\n",
       "      <td>5.223000</td>\n",
       "      <td>2.000000</td>\n",
       "    </tr>\n",
       "    <tr>\n",
       "      <th>75%</th>\n",
       "      <td>17.305000</td>\n",
       "      <td>15.715000</td>\n",
       "      <td>0.887775</td>\n",
       "      <td>5.979750</td>\n",
       "      <td>3.561750</td>\n",
       "      <td>4.768750</td>\n",
       "      <td>5.877000</td>\n",
       "      <td>3.000000</td>\n",
       "    </tr>\n",
       "    <tr>\n",
       "      <th>max</th>\n",
       "      <td>21.180000</td>\n",
       "      <td>17.250000</td>\n",
       "      <td>0.918300</td>\n",
       "      <td>6.675000</td>\n",
       "      <td>4.033000</td>\n",
       "      <td>8.456000</td>\n",
       "      <td>6.550000</td>\n",
       "      <td>3.000000</td>\n",
       "    </tr>\n",
       "  </tbody>\n",
       "</table>\n",
       "</div>"
      ],
      "text/plain": [
       "         area      perimeter   compactness      length       width   \\\n",
       "count  210.000000  210.000000    210.000000  210.000000  210.000000   \n",
       "mean    14.847524   14.559286      0.870999    5.628533    3.258605   \n",
       "std      2.909699    1.305959      0.023629    0.443063    0.377714   \n",
       "min     10.590000   12.410000      0.808100    4.899000    2.630000   \n",
       "25%     12.270000   13.450000      0.856900    5.262250    2.944000   \n",
       "50%     14.355000   14.320000      0.873450    5.523500    3.237000   \n",
       "75%     17.305000   15.715000      0.887775    5.979750    3.561750   \n",
       "max     21.180000   17.250000      0.918300    6.675000    4.033000   \n",
       "\n",
       "       coefficient   length_groove   type_wheat  \n",
       "count    210.000000      210.000000  210.000000  \n",
       "mean       3.700201        5.408071    2.000000  \n",
       "std        1.503557        0.491480    0.818448  \n",
       "min        0.765100        4.519000    1.000000  \n",
       "25%        2.561500        5.045000    1.000000  \n",
       "50%        3.599000        5.223000    2.000000  \n",
       "75%        4.768750        5.877000    3.000000  \n",
       "max        8.456000        6.550000    3.000000  "
      ]
     },
     "execution_count": 7,
     "metadata": {},
     "output_type": "execute_result"
    }
   ],
   "source": [
    "df_trigo.describe()"
   ]
  },
  {
   "cell_type": "markdown",
   "metadata": {
    "slideshow": {
     "slide_type": "slide"
    }
   },
   "source": [
    "### Ejemplo\n",
    "\n",
    "---\n",
    "Como vimos en la clase anterior, aplicamos los siete pasos típicos de la metodología para generar el modelo."
   ]
  },
  {
   "cell_type": "code",
   "execution_count": 8,
   "metadata": {
    "slideshow": {
     "slide_type": "fragment"
    }
   },
   "outputs": [],
   "source": [
    "from sklearn.naive_bayes import GaussianNB # 1. Seleccionar una clase de modelo"
   ]
  },
  {
   "cell_type": "markdown",
   "metadata": {
    "slideshow": {
     "slide_type": "fragment"
    }
   },
   "source": [
    "Dejamos los hiperparámetros por default."
   ]
  },
  {
   "cell_type": "code",
   "execution_count": 9,
   "metadata": {
    "slideshow": {
     "slide_type": "fragment"
    }
   },
   "outputs": [],
   "source": [
    "model = GaussianNB() # 2. Elegir los hiperparámetros del modelo. "
   ]
  },
  {
   "cell_type": "markdown",
   "metadata": {
    "slideshow": {
     "slide_type": "fragment"
    }
   },
   "source": [
    "La *matriz X de features* son todas las variables menos *type_wheat*, variedad de trigo, que es la *variable target* a predecir."
   ]
  },
  {
   "cell_type": "code",
   "execution_count": 10,
   "metadata": {
    "slideshow": {
     "slide_type": "fragment"
    }
   },
   "outputs": [],
   "source": [
    "X = df_trigo.drop(['type_wheat'], axis=1) # 3. Preparar matriz de *features* y vector *target*\n",
    "y = df_trigo['type_wheat']"
   ]
  },
  {
   "cell_type": "code",
   "execution_count": 11,
   "metadata": {
    "slideshow": {
     "slide_type": "fragment"
    }
   },
   "outputs": [],
   "source": [
    "# 4. Separar los sets de entrenamiento y de testing\n",
    "from sklearn.model_selection import train_test_split\n",
    "Xtrain, Xtest, ytrain, ytest = train_test_split(X, y,random_state=2)"
   ]
  },
  {
   "cell_type": "markdown",
   "metadata": {
    "colab_type": "text",
    "id": "q21g2iZ1YqdC",
    "slideshow": {
     "slide_type": "slide"
    }
   },
   "source": [
    "El modelo aprende a partir de los datos de **train**."
   ]
  },
  {
   "cell_type": "code",
   "execution_count": 12,
   "metadata": {
    "colab": {},
    "colab_type": "code",
    "id": "S3tOYqLgYqdI",
    "slideshow": {
     "slide_type": "fragment"
    }
   },
   "outputs": [
    {
     "data": {
      "text/plain": [
       "GaussianNB()"
      ]
     },
     "execution_count": 12,
     "metadata": {},
     "output_type": "execute_result"
    }
   ],
   "source": [
    "model.fit(Xtrain, ytrain) # 5. Ajustar el modelo a los datos de entrenamiento"
   ]
  },
  {
   "cell_type": "markdown",
   "metadata": {
    "slideshow": {
     "slide_type": "fragment"
    }
   },
   "source": [
    "Con el modelo entrenado, vamos a predecir las etiquetas del conjunto de test:"
   ]
  },
  {
   "cell_type": "code",
   "execution_count": 13,
   "metadata": {
    "slideshow": {
     "slide_type": "fragment"
    }
   },
   "outputs": [
    {
     "data": {
      "text/plain": [
       "array([1, 3, 1, 3, 1, 3, 1, 1, 1, 3, 1, 3, 3, 3, 2, 2, 1, 3, 3, 2, 1, 2,\n",
       "       1, 3, 1, 1, 2, 1, 1, 1, 1, 2, 1, 2, 1, 2, 1, 2, 1, 1, 1, 3, 1, 2,\n",
       "       3, 1, 3, 2, 2, 3, 2, 2, 1])"
      ]
     },
     "execution_count": 13,
     "metadata": {},
     "output_type": "execute_result"
    }
   ],
   "source": [
    "ypred = model.predict(Xtest) # 6. Predecir etiquetas para datos desconocidos\n",
    "ypred"
   ]
  },
  {
   "cell_type": "markdown",
   "metadata": {
    "slideshow": {
     "slide_type": "slide"
    }
   },
   "source": [
    "Calculamos una métrica para evaluar la performance.\n",
    "\n",
    "Accuracy (precisión) es la proporción de predicciones correctas (tanto verdaderas positivas como verdaderas negativas) entre el número total de casos examinados.\n",
    "\n",
    "<p style=\"font-size:20px;\">\n",
    "$Accuracy = \\frac{TP + TN}{TP + TN + FP + FN}$\n",
    "</p>        \n",
    "\n",
    "$TP$: True Positive, predicho como postivo y con valor positivo\n",
    "\n",
    "$TN$: True Negative, predicho como negativo y con valor negativo\n",
    "\n",
    "$FP$: False Positive, predicho como postivo y con valor negativo\n",
    "\n",
    "$FN$: False Negative, predicho como negativo y con valor positivo    \n",
    "\n"
   ]
  },
  {
   "cell_type": "code",
   "execution_count": 14,
   "metadata": {
    "slideshow": {
     "slide_type": "fragment"
    }
   },
   "outputs": [
    {
     "data": {
      "text/plain": [
       "0.87"
      ]
     },
     "execution_count": 14,
     "metadata": {},
     "output_type": "execute_result"
    }
   ],
   "source": [
    "from sklearn.metrics import accuracy_score # 7. Evaluar la *performance* del modelo\n",
    "round(accuracy_score(ytest, ypred), 2)"
   ]
  },
  {
   "cell_type": "markdown",
   "metadata": {
    "slideshow": {
     "slide_type": "fragment"
    }
   },
   "source": [
    "Obtenemos un valor de **accuracy del 87%**, es decir que 87 de cada 100 casos fueron correctamente predichos. "
   ]
  },
  {
   "cell_type": "markdown",
   "metadata": {
    "slideshow": {
     "slide_type": "slide"
    }
   },
   "source": [
    "<div class=\"div-dhds-fondo-1\">  Aprendizaje no supervisado\n",
    "<img src=\"https://raw.githubusercontent.com/Digital-House-DATA/ds_blend_2021_img/master/M1/CLASE_05_Pandas1/Presentacion/img/M1_CLASE_05_separador.png\" align=\"center\"></img>    \n",
    "</div>\n"
   ]
  },
  {
   "cell_type": "markdown",
   "metadata": {
    "slideshow": {
     "slide_type": "slide"
    }
   },
   "source": [
    "###  Aprendizaje no supervisado - repaso\n",
    "\n",
    "---\n",
    "A diferencia de lo que ocurre en el caso de los algoritmos de regresión o clasificación, el aprendizaje no supervisado **se caracteriza por prescindir de una variable target**. \n",
    "\n",
    "El algoritmo genera los labels o target para cada observación. \n",
    "\n",
    "El foco está puesto en descubrir patrones o grupos en la información que a priori, no son evidentes.\n",
    "\n",
    "<img src=\"https://raw.githubusercontent.com/Digital-House-DATA/ds_blend_2021_img/master/M3/CLASE_18_Intro_ML_1/Presentacion/img/M3_CLASE_18_nosupervisado.jpg\" align=\"center\" alt=\"no supervisado\" width=70% height=40% />\n",
    "\n",
    "<a href=\"https://www.newtechdojo.com/list-machine-learning-algorithms/\" target=\"_blank\">https://www.newtechdojo.com/list-machine-learning-algorithms/</a>"
   ]
  },
  {
   "cell_type": "markdown",
   "metadata": {
    "slideshow": {
     "slide_type": "slide"
    }
   },
   "source": [
    "###  Clustering\n",
    "\n",
    "---\n",
    "\n",
    "El objetivo básico de los algoritmos de _clustering_ es **descubrir grupos o patrones en los datos**:\n",
    "\n",
    "* Agrupando observaciones **similares**.\n",
    "* Generando grupos distintos entre sí. Y en general, disjuntos.\n",
    "\n",
    "Las observaciones son asignadas a uno de los grupos. \n",
    "\n",
    "<img src=\"https://raw.githubusercontent.com/Digital-House-DATA/ds_blend_2021_img/master/M3/CLASE_20_Intro_ML_1/Presentacion/img/M3_CLASE_20_clustering_001.PNG\" align=\"center\" alt=\"clustering 001\" width=70% height=40% />"
   ]
  },
  {
   "cell_type": "code",
   "execution_count": 15,
   "metadata": {
    "slideshow": {
     "slide_type": "skip"
    }
   },
   "outputs": [
    {
     "data": {
      "image/png": "[encoded data removed]",
      "text/plain": [
       "<Figure size 432x216 with 2 Axes>"
      ]
     },
     "metadata": {},
     "output_type": "display_data"
    }
   ],
   "source": [
    "import seaborn as sns\n",
    "import matplotlib.pyplot as plt\n",
    "%matplotlib inline\n",
    "\n",
    "geyser = sns.load_dataset('geyser')\n",
    "sns.set_style('whitegrid')\n",
    "fig, axs = plt.subplots(1, 2, figsize=(6, 3))\n",
    "sns.scatterplot(data=geyser, x='duration', y='waiting', ax=axs[0])\n",
    "sns.scatterplot(data=geyser, x='duration', y='waiting', hue=geyser.kind.tolist(), ax=axs[1], legend=False);\n",
    "plt.show()"
   ]
  },
  {
   "cell_type": "markdown",
   "metadata": {
    "slideshow": {
     "slide_type": "subslide"
    }
   },
   "source": [
    "<img src=\"https://raw.githubusercontent.com/Digital-House-DATA/ds_blend_2021_img/master/M3/CLASE_20_Intro_ML_1/Presentacion/img/M3_CLASE_20_clustering_002.png\" align=\"center\" alt=\"clustering 001\" width=70% height=40% />\n",
    "\n",
    "Otros ejemplos:\n",
    "\n",
    "- Segmentación de productos.\n",
    "- Procesamiento de imagenes.\n",
    "- Astronomía.\n",
    "- Búsqueda de outliers, valores atípicos.\n"
   ]
  },
  {
   "cell_type": "markdown",
   "metadata": {
    "slideshow": {
     "slide_type": "slide"
    }
   },
   "source": [
    "<div class=\"div-dhds-fondo-1\">  K-means\n",
    "<img src=\"https://raw.githubusercontent.com/Digital-House-DATA/ds_blend_2021_img/master/M1/CLASE_05_Pandas1/Presentacion/img/M1_CLASE_05_separador.png\" align=\"center\"></img>    \n",
    "</div>\n"
   ]
  },
  {
   "cell_type": "markdown",
   "metadata": {
    "slideshow": {
     "slide_type": "slide"
    }
   },
   "source": [
    "###  K-means\n",
    "\n",
    "---\n",
    "Vamos a aplicar una **técnica clásica de _clustering_** llamada **K-Means**. \n",
    "\n",
    "Este algoritmo genera grupos de observaciones similares entre sí *sin tener una variable target*.\n",
    "\n",
    "La cantidad de _clusters_ que obtenemos **debe ser especificada de antemano**. \n"
   ]
  },
  {
   "cell_type": "markdown",
   "metadata": {
    "slideshow": {
     "slide_type": "slide"
    }
   },
   "source": [
    "###  K-means\n",
    "\n",
    "---\n",
    "\n",
    "Divide el dataset en K grupos de observaciones **disjuntos**.\n",
    "\n",
    "K es **provisto por nosotros**.\n",
    "\n",
    "Usa **la distancia** para determinar la similaridad entre las observaciones.\n",
    "\n",
    "Cada grupo se define por su **mean**, media, representado por el **centroide**, un punto que no necesariamente es una observación.\n",
    "\n",
    "Cada observación pertenece al grupo cuyo centroide es el más cercano.\n",
    "\n",
    "Realiza varias **iteraciones** hasta converger al modelo entrenado."
   ]
  },
  {
   "cell_type": "markdown",
   "metadata": {
    "slideshow": {
     "slide_type": "subslide"
    }
   },
   "source": [
    "<img src=\"https://raw.githubusercontent.com/Digital-House-DATA/ds_blend_2021_img/master/M3/CLASE_20_Intro_ML_1/Presentacion/img/centroids_iterations.webp\" align=\"center\" alt=\"clustering 001\" width=70% height=40% />\n",
    "\n",
    "https://realpython.com/k-means-clustering-python/"
   ]
  },
  {
   "cell_type": "markdown",
   "metadata": {
    "slideshow": {
     "slide_type": "slide"
    }
   },
   "source": [
    "### Dataset\n",
    "\n",
    "---\n",
    "Usamos un dataset que indica el salario medio según los años de experiencia.\n",
    "\n",
    "Para consultar detalles del dataset <a href=\"https://www.kaggle.com/rohankayan/years-of-experience-and-salary-dataset\">aquí</a>."
   ]
  },
  {
   "cell_type": "code",
   "execution_count": 16,
   "metadata": {
    "slideshow": {
     "slide_type": "fragment"
    }
   },
   "outputs": [
    {
     "data": {
      "text/html": [
       "<div>\n",
       "<style scoped>\n",
       "    .dataframe tbody tr th:only-of-type {\n",
       "        vertical-align: middle;\n",
       "    }\n",
       "\n",
       "    .dataframe tbody tr th {\n",
       "        vertical-align: top;\n",
       "    }\n",
       "\n",
       "    .dataframe thead th {\n",
       "        text-align: right;\n",
       "    }\n",
       "</style>\n",
       "<table border=\"1\" class=\"dataframe\">\n",
       "  <thead>\n",
       "    <tr style=\"text-align: right;\">\n",
       "      <th></th>\n",
       "      <th>YearsExperience</th>\n",
       "      <th>Salary</th>\n",
       "    </tr>\n",
       "  </thead>\n",
       "  <tbody>\n",
       "    <tr>\n",
       "      <th>0</th>\n",
       "      <td>1.1</td>\n",
       "      <td>39343.0</td>\n",
       "    </tr>\n",
       "    <tr>\n",
       "      <th>1</th>\n",
       "      <td>1.3</td>\n",
       "      <td>46205.0</td>\n",
       "    </tr>\n",
       "  </tbody>\n",
       "</table>\n",
       "</div>"
      ],
      "text/plain": [
       "   YearsExperience   Salary\n",
       "0              1.1  39343.0\n",
       "1              1.3  46205.0"
      ]
     },
     "execution_count": 16,
     "metadata": {},
     "output_type": "execute_result"
    }
   ],
   "source": [
    "df_salary = pd.read_csv('../Data/Salary_Data.csv')\n",
    "df_salary.head(2)"
   ]
  },
  {
   "cell_type": "code",
   "execution_count": 17,
   "metadata": {
    "slideshow": {
     "slide_type": "fragment"
    }
   },
   "outputs": [
    {
     "data": {
      "image/png": "[encoded data removed]",
      "text/plain": [
       "<Figure size 432x252 with 1 Axes>"
      ]
     },
     "metadata": {},
     "output_type": "display_data"
    }
   ],
   "source": [
    "sns.set_style('whitegrid')\n",
    "fig = plt.figure(figsize=(6,3.5))\n",
    "sns.scatterplot(data=df_salary, x='YearsExperience', y='Salary')\n",
    "plt.show()"
   ]
  },
  {
   "cell_type": "markdown",
   "metadata": {
    "slideshow": {
     "slide_type": "slide"
    }
   },
   "source": [
    "### Ejemplo\n",
    "\n",
    "---\n",
    "Aplicamos los pasos típicos del workflow de scikit-learn para generar el modelo."
   ]
  },
  {
   "cell_type": "code",
   "execution_count": 18,
   "metadata": {
    "slideshow": {
     "slide_type": "fragment"
    }
   },
   "outputs": [],
   "source": [
    "from sklearn.cluster import KMeans # 1. Seleccionar una clase de modelo"
   ]
  },
  {
   "cell_type": "markdown",
   "metadata": {
    "colab": {},
    "colab_type": "code",
    "id": "Hua9z2EQYqgY",
    "slideshow": {
     "slide_type": "fragment"
    }
   },
   "source": [
    "* n_clusters define *cuántos clusters queremos obtener*."
   ]
  },
  {
   "cell_type": "code",
   "execution_count": 19,
   "metadata": {
    "slideshow": {
     "slide_type": "fragment"
    }
   },
   "outputs": [],
   "source": [
    "kmeans = KMeans(n_clusters=4) # 2. Elegir los hiperparámetros del modelo"
   ]
  },
  {
   "cell_type": "markdown",
   "metadata": {
    "slideshow": {
     "slide_type": "subslide"
    }
   },
   "source": [
    "El algoritmo *calcula distancias* para determinar la similitud entre las observaciones. \n",
    "\n",
    "Para ello, debemos **estandarizar los valores** para que todas las features queden en la misma escala.\n",
    "\n",
    "La clase **`StandardScaler()`**, transforma los datos, para que las variables tengan *media 0 y desvío estándar 1*."
   ]
  },
  {
   "cell_type": "code",
   "execution_count": 20,
   "metadata": {
    "slideshow": {
     "slide_type": "fragment"
    }
   },
   "outputs": [],
   "source": [
    "from sklearn.preprocessing import StandardScaler\n",
    "scaler=StandardScaler()\n",
    "\n",
    "X = df_salary\n",
    "X_scaled=scaler.fit_transform(X) # X_scaled son los datos transformados"
   ]
  },
  {
   "cell_type": "markdown",
   "metadata": {
    "colab": {},
    "colab_type": "code",
    "id": "Hua9z2EQYqgY",
    "slideshow": {
     "slide_type": "fragment"
    }
   },
   "source": [
    "Ajustamos el modelo a los datos estandarizados. No requerimos de dataset de train y test."
   ]
  },
  {
   "cell_type": "code",
   "execution_count": 21,
   "metadata": {
    "slideshow": {
     "slide_type": "fragment"
    }
   },
   "outputs": [
    {
     "data": {
      "text/plain": [
       "KMeans(n_clusters=4)"
      ]
     },
     "execution_count": 21,
     "metadata": {},
     "output_type": "execute_result"
    }
   ],
   "source": [
    "kmeans.fit(X_scaled) # 5. Ajustar el modelo a los datos"
   ]
  },
  {
   "cell_type": "markdown",
   "metadata": {
    "colab": {},
    "colab_type": "code",
    "id": "Hua9z2EQYqgY",
    "slideshow": {
     "slide_type": "fragment"
    }
   },
   "source": [
    "Obtenemos parámetros del modelo:\n",
    "\n",
    "* labels_ : vector con la asignación del cluster a cada observación.\n",
    "* centers_ : Coordenadas de los centroides."
   ]
  },
  {
   "cell_type": "code",
   "execution_count": 22,
   "metadata": {
    "slideshow": {
     "slide_type": "fragment"
    }
   },
   "outputs": [],
   "source": [
    "labels = kmeans.labels_ \n",
    "centroids = kmeans.cluster_centers_"
   ]
  },
  {
   "cell_type": "markdown",
   "metadata": {
    "colab_type": "text",
    "id": "7xLBswdWGLn7",
    "slideshow": {
     "slide_type": "slide"
    }
   },
   "source": [
    "Graficamos los clusters y sus centroides.\n",
    "\n",
    "Observar que la escala de las variables está **estandarizada**."
   ]
  },
  {
   "cell_type": "code",
   "execution_count": 23,
   "metadata": {
    "slideshow": {
     "slide_type": "fragment"
    }
   },
   "outputs": [
    {
     "data": {
      "image/png": "[encoded data removed]",
      "text/plain": [
       "<Figure size 576x360 with 1 Axes>"
      ]
     },
     "metadata": {},
     "output_type": "display_data"
    }
   ],
   "source": [
    "plt.figure(figsize=(8,5))\n",
    "sns.scatterplot(x=X_scaled[:,0],y=X_scaled[:,1],hue=labels,legend='full');\n",
    "plt.xlabel('Años de experiencia',fontsize=15);plt.ylabel('Salario',fontsize=15);\n",
    "plt.scatter(centroids[:,0],centroids[:,1],marker='x',s=50,color='r');"
   ]
  },
  {
   "cell_type": "markdown",
   "metadata": {
    "slideshow": {
     "slide_type": "slide"
    }
   },
   "source": [
    "<div class=\"div-dhds-fondo-1\"> Hands-on\n",
    "<img src=\"https://raw.githubusercontent.com/Digital-House-DATA/ds_blend_2021_img/master/M3/CLASE_18_Intro_ML_1/Presentacion/img/M3_CLASE_18_separador.png\" align=\"center\"></img>    \n",
    "</div>"
   ]
  },
  {
   "cell_type": "markdown",
   "metadata": {
    "slideshow": {
     "slide_type": "slide"
    }
   },
   "source": [
    "###  Ejercicio\n",
    "\n",
    "---\n",
    "Generemos un modelo de clasificación usando la técnica de Naive Bayes.\n",
    "\n",
    "Usaremos el dataset de propinas que provee seaborn, para predecir si el cliente es fumador a partir del total de la cuenta y la propina.\n",
    "\n",
    "`tips = sns.load_dataset(\"tips\")`\n",
    "\n",
    "**\"X\"**, el conjunto de features, se construye solo con las variables *total_bill* y *tips*.\n",
    "\n",
    "*smoker* será nuestra variable target **\"y\"**.\n",
    "\n",
    "Para consultar detalles del dataset <a href=\"https://www.kaggle.com/ranjeetjain3/seaborn-tips-dataset\">aquí</a>."
   ]
  },
  {
   "cell_type": "code",
   "execution_count": 24,
   "metadata": {
    "slideshow": {
     "slide_type": "fragment"
    }
   },
   "outputs": [],
   "source": [
    "import numpy as np\n",
    "import pandas as pd\n",
    "\n",
    "import seaborn as sns\n",
    "import matplotlib.pyplot as plt\n",
    "%matplotlib inline\n",
    "\n",
    "from sklearn import datasets"
   ]
  },
  {
   "cell_type": "code",
   "execution_count": 25,
   "metadata": {
    "slideshow": {
     "slide_type": "subslide"
    }
   },
   "outputs": [
    {
     "name": "stdout",
     "output_type": "stream",
     "text": [
      "(244, 3)\n"
     ]
    },
    {
     "data": {
      "text/html": [
       "<div>\n",
       "<style scoped>\n",
       "    .dataframe tbody tr th:only-of-type {\n",
       "        vertical-align: middle;\n",
       "    }\n",
       "\n",
       "    .dataframe tbody tr th {\n",
       "        vertical-align: top;\n",
       "    }\n",
       "\n",
       "    .dataframe thead th {\n",
       "        text-align: right;\n",
       "    }\n",
       "</style>\n",
       "<table border=\"1\" class=\"dataframe\">\n",
       "  <thead>\n",
       "    <tr style=\"text-align: right;\">\n",
       "      <th></th>\n",
       "      <th>total_bill</th>\n",
       "      <th>tip</th>\n",
       "      <th>smoker</th>\n",
       "    </tr>\n",
       "  </thead>\n",
       "  <tbody>\n",
       "    <tr>\n",
       "      <th>165</th>\n",
       "      <td>24.52</td>\n",
       "      <td>3.48</td>\n",
       "      <td>No</td>\n",
       "    </tr>\n",
       "    <tr>\n",
       "      <th>237</th>\n",
       "      <td>32.83</td>\n",
       "      <td>1.17</td>\n",
       "      <td>Yes</td>\n",
       "    </tr>\n",
       "  </tbody>\n",
       "</table>\n",
       "</div>"
      ],
      "text/plain": [
       "     total_bill   tip smoker\n",
       "165       24.52  3.48     No\n",
       "237       32.83  1.17    Yes"
      ]
     },
     "execution_count": 25,
     "metadata": {},
     "output_type": "execute_result"
    }
   ],
   "source": [
    "df = sns.load_dataset('tips')\n",
    "df_tips = df.drop(['sex', 'day', 'time','size'], axis=1)\n",
    "print(df_tips.shape)\n",
    "df_tips.sample(2)"
   ]
  },
  {
   "cell_type": "code",
   "execution_count": 26,
   "metadata": {
    "slideshow": {
     "slide_type": "fragment"
    }
   },
   "outputs": [
    {
     "data": {
      "text/html": [
       "<div>\n",
       "<style scoped>\n",
       "    .dataframe tbody tr th:only-of-type {\n",
       "        vertical-align: middle;\n",
       "    }\n",
       "\n",
       "    .dataframe tbody tr th {\n",
       "        vertical-align: top;\n",
       "    }\n",
       "\n",
       "    .dataframe thead th {\n",
       "        text-align: right;\n",
       "    }\n",
       "</style>\n",
       "<table border=\"1\" class=\"dataframe\">\n",
       "  <thead>\n",
       "    <tr style=\"text-align: right;\">\n",
       "      <th></th>\n",
       "      <th>count</th>\n",
       "      <th>mean</th>\n",
       "      <th>std</th>\n",
       "      <th>min</th>\n",
       "      <th>25%</th>\n",
       "      <th>50%</th>\n",
       "      <th>75%</th>\n",
       "      <th>max</th>\n",
       "    </tr>\n",
       "  </thead>\n",
       "  <tbody>\n",
       "    <tr>\n",
       "      <th>total_bill</th>\n",
       "      <td>244.0</td>\n",
       "      <td>19.785943</td>\n",
       "      <td>8.902412</td>\n",
       "      <td>3.07</td>\n",
       "      <td>13.3475</td>\n",
       "      <td>17.795</td>\n",
       "      <td>24.1275</td>\n",
       "      <td>50.81</td>\n",
       "    </tr>\n",
       "    <tr>\n",
       "      <th>tip</th>\n",
       "      <td>244.0</td>\n",
       "      <td>2.998279</td>\n",
       "      <td>1.383638</td>\n",
       "      <td>1.00</td>\n",
       "      <td>2.0000</td>\n",
       "      <td>2.900</td>\n",
       "      <td>3.5625</td>\n",
       "      <td>10.00</td>\n",
       "    </tr>\n",
       "  </tbody>\n",
       "</table>\n",
       "</div>"
      ],
      "text/plain": [
       "            count       mean       std   min      25%     50%      75%    max\n",
       "total_bill  244.0  19.785943  8.902412  3.07  13.3475  17.795  24.1275  50.81\n",
       "tip         244.0   2.998279  1.383638  1.00   2.0000   2.900   3.5625  10.00"
      ]
     },
     "execution_count": 26,
     "metadata": {},
     "output_type": "execute_result"
    }
   ],
   "source": [
    "df_tips.describe().T"
   ]
  },
  {
   "cell_type": "markdown",
   "metadata": {
    "slideshow": {
     "slide_type": "fragment"
    }
   },
   "source": [
    "Ninguna variable tiene nulos."
   ]
  },
  {
   "cell_type": "code",
   "execution_count": 27,
   "metadata": {
    "slideshow": {
     "slide_type": "fragment"
    }
   },
   "outputs": [
    {
     "data": {
      "text/plain": [
       "total_bill    0\n",
       "tip           0\n",
       "smoker        0\n",
       "dtype: int64"
      ]
     },
     "execution_count": 27,
     "metadata": {},
     "output_type": "execute_result"
    }
   ],
   "source": [
    "df_tips.isnull().sum()"
   ]
  },
  {
   "cell_type": "markdown",
   "metadata": {
    "slideshow": {
     "slide_type": "slide"
    }
   },
   "source": [
    "Generamos un diagrama de dispersión, con el color indicando la variable *smoker*."
   ]
  },
  {
   "cell_type": "code",
   "execution_count": 28,
   "metadata": {
    "slideshow": {
     "slide_type": "fragment"
    }
   },
   "outputs": [
    {
     "data": {
      "image/png": "[encoded data removed]",
      "text/plain": [
       "<Figure size 432x288 with 1 Axes>"
      ]
     },
     "metadata": {},
     "output_type": "display_data"
    }
   ],
   "source": [
    "sns.set(style=\"darkgrid\")\n",
    "sns.scatterplot(x = \"total_bill\", y = \"tip\", hue=df_tips.smoker.tolist(), data = df_tips)\n",
    "plt.show()"
   ]
  },
  {
   "cell_type": "markdown",
   "metadata": {
    "slideshow": {
     "slide_type": "slide"
    }
   },
   "source": [
    "Aplicamos los siete pasos típicos para generar el modelo.\n",
    "\n",
    "Seleccionamos la clase de modelos Naive Bayes y el método Gaussiano."
   ]
  },
  {
   "cell_type": "code",
   "execution_count": 29,
   "metadata": {
    "slideshow": {
     "slide_type": "fragment"
    }
   },
   "outputs": [],
   "source": [
    "# quitar el símbolo de comentario y completar:\n",
    "# from "
   ]
  },
  {
   "cell_type": "markdown",
   "metadata": {
    "slideshow": {
     "slide_type": "fragment"
    }
   },
   "source": [
    " Dejamos los hiperparámetros por default."
   ]
  },
  {
   "cell_type": "code",
   "execution_count": null,
   "metadata": {
    "slideshow": {
     "slide_type": "fragment"
    }
   },
   "outputs": [],
   "source": []
  },
  {
   "cell_type": "markdown",
   "metadata": {
    "slideshow": {
     "slide_type": "fragment"
    }
   },
   "source": [
    "La *matriz X de features* son todas las variables menos *smoker*, que es la *variable target* a predecir."
   ]
  },
  {
   "cell_type": "code",
   "execution_count": 30,
   "metadata": {
    "slideshow": {
     "slide_type": "fragment"
    }
   },
   "outputs": [],
   "source": [
    "# quitar los símbolos de comentario y completar:\n",
    "# X = \n",
    "# y = "
   ]
  },
  {
   "cell_type": "markdown",
   "metadata": {
    "slideshow": {
     "slide_type": "fragment"
    }
   },
   "source": [
    "Separamos los sets de entrenamiento y de testing"
   ]
  },
  {
   "cell_type": "code",
   "execution_count": 31,
   "metadata": {
    "slideshow": {
     "slide_type": "fragment"
    }
   },
   "outputs": [],
   "source": [
    "from sklearn.model_selection import train_test_split\n",
    "\n",
    "# quitar el símbolo de comentario y completar:\n",
    "# Xtrain, Xtest, ytrain, ytest = "
   ]
  },
  {
   "cell_type": "markdown",
   "metadata": {
    "colab_type": "text",
    "id": "q21g2iZ1YqdC",
    "slideshow": {
     "slide_type": "slide"
    }
   },
   "source": [
    "El modelo aprende a partir de los datos de **train**."
   ]
  },
  {
   "cell_type": "code",
   "execution_count": 32,
   "metadata": {
    "colab": {},
    "colab_type": "code",
    "id": "S3tOYqLgYqdI",
    "slideshow": {
     "slide_type": "fragment"
    }
   },
   "outputs": [],
   "source": [
    "#"
   ]
  },
  {
   "cell_type": "markdown",
   "metadata": {
    "slideshow": {
     "slide_type": "fragment"
    }
   },
   "source": [
    "Con el modelo entrenado, vamos a predecir las etiquetas del conjunto de test:"
   ]
  },
  {
   "cell_type": "code",
   "execution_count": 33,
   "metadata": {
    "slideshow": {
     "slide_type": "fragment"
    }
   },
   "outputs": [],
   "source": [
    "# quitar los símbolos de comentario y completar:\n",
    "\n",
    "# ypred = \n",
    "# ypred"
   ]
  },
  {
   "cell_type": "markdown",
   "metadata": {
    "slideshow": {
     "slide_type": "fragment"
    }
   },
   "source": [
    "Para evaluar la performance del modelo, calcular *accuracy* entre los valores reales y los predichos."
   ]
  },
  {
   "cell_type": "code",
   "execution_count": 34,
   "metadata": {
    "slideshow": {
     "slide_type": "fragment"
    }
   },
   "outputs": [],
   "source": [
    "from sklearn.metrics import accuracy_score\n",
    "#"
   ]
  },
  {
   "cell_type": "markdown",
   "metadata": {
    "slideshow": {
     "slide_type": "slide"
    }
   },
   "source": [
    "###  Preguntas sobre el modelo \n",
    "\n",
    "---"
   ]
  },
  {
   "cell_type": "markdown",
   "metadata": {
    "slideshow": {
     "slide_type": "slide"
    }
   },
   "source": [
    "- Que piensan del valor accuracy = 0.72? Es una buena performance?"
   ]
  },
  {
   "cell_type": "markdown",
   "metadata": {
    "slideshow": {
     "slide_type": "fragment"
    }
   },
   "source": []
  },
  {
   "cell_type": "markdown",
   "metadata": {
    "slideshow": {
     "slide_type": "fragment"
    }
   },
   "source": [
    "- Les parece que alcanza con una sola medida de performance?"
   ]
  },
  {
   "cell_type": "markdown",
   "metadata": {
    "slideshow": {
     "slide_type": "fragment"
    }
   },
   "source": []
  },
  {
   "cell_type": "markdown",
   "metadata": {
    "slideshow": {
     "slide_type": "fragment"
    }
   },
   "source": [
    "- Considerando que Naive Bayes es usado como modelo \"base\", cómo creen que será la performance de otros modelos de clasificación?"
   ]
  },
  {
   "cell_type": "markdown",
   "metadata": {
    "slideshow": {
     "slide_type": "fragment"
    }
   },
   "source": []
  },
  {
   "cell_type": "markdown",
   "metadata": {
    "slideshow": {
     "slide_type": "slide"
    }
   },
   "source": [
    "### Solución\n",
    "\n",
    "----"
   ]
  },
  {
   "cell_type": "markdown",
   "metadata": {
    "slideshow": {
     "slide_type": "slide"
    }
   },
   "source": [
    "Generamos un modelo de clasificación usando la técnica de Naive Bayes.\n",
    "\n",
    "Usamos el dataset de propinas que provee seaborn, para predecir si el cliente es fumador a partir del total de la cuenta y la propina.\n",
    "\n",
    "`tips = sns.load_dataset(\"tips\")`\n",
    "\n",
    "**\"X\"**, el conjunto de features, se construye solo con las variables *total_bill* y *tips*.\n",
    "\n",
    "*smoker* será nuestra variable target **\"y\"**.\n",
    "\n",
    "Para consultar detalles del dataset <a href=\"https://www.kaggle.com/ranjeetjain3/seaborn-tips-dataset\" target=\"_blank\">aquí</a>."
   ]
  },
  {
   "cell_type": "code",
   "execution_count": 35,
   "metadata": {
    "slideshow": {
     "slide_type": "fragment"
    }
   },
   "outputs": [],
   "source": [
    "import numpy as np\n",
    "import pandas as pd\n",
    "\n",
    "import seaborn as sns\n",
    "import matplotlib.pyplot as plt\n",
    "%matplotlib inline\n",
    "\n",
    "from sklearn import datasets"
   ]
  },
  {
   "cell_type": "code",
   "execution_count": 36,
   "metadata": {
    "slideshow": {
     "slide_type": "subslide"
    }
   },
   "outputs": [
    {
     "name": "stdout",
     "output_type": "stream",
     "text": [
      "(244, 3)\n"
     ]
    },
    {
     "data": {
      "text/html": [
       "<div>\n",
       "<style scoped>\n",
       "    .dataframe tbody tr th:only-of-type {\n",
       "        vertical-align: middle;\n",
       "    }\n",
       "\n",
       "    .dataframe tbody tr th {\n",
       "        vertical-align: top;\n",
       "    }\n",
       "\n",
       "    .dataframe thead th {\n",
       "        text-align: right;\n",
       "    }\n",
       "</style>\n",
       "<table border=\"1\" class=\"dataframe\">\n",
       "  <thead>\n",
       "    <tr style=\"text-align: right;\">\n",
       "      <th></th>\n",
       "      <th>total_bill</th>\n",
       "      <th>tip</th>\n",
       "      <th>smoker</th>\n",
       "    </tr>\n",
       "  </thead>\n",
       "  <tbody>\n",
       "    <tr>\n",
       "      <th>105</th>\n",
       "      <td>15.36</td>\n",
       "      <td>1.64</td>\n",
       "      <td>Yes</td>\n",
       "    </tr>\n",
       "    <tr>\n",
       "      <th>106</th>\n",
       "      <td>20.49</td>\n",
       "      <td>4.06</td>\n",
       "      <td>Yes</td>\n",
       "    </tr>\n",
       "  </tbody>\n",
       "</table>\n",
       "</div>"
      ],
      "text/plain": [
       "     total_bill   tip smoker\n",
       "105       15.36  1.64    Yes\n",
       "106       20.49  4.06    Yes"
      ]
     },
     "execution_count": 36,
     "metadata": {},
     "output_type": "execute_result"
    }
   ],
   "source": [
    "df = sns.load_dataset('tips')\n",
    "df_tips = df.drop(['sex', 'day', 'time','size'], axis=1)\n",
    "print(df_tips.shape)\n",
    "df_tips.sample(2)"
   ]
  },
  {
   "cell_type": "code",
   "execution_count": 37,
   "metadata": {
    "slideshow": {
     "slide_type": "fragment"
    }
   },
   "outputs": [
    {
     "data": {
      "text/html": [
       "<div>\n",
       "<style scoped>\n",
       "    .dataframe tbody tr th:only-of-type {\n",
       "        vertical-align: middle;\n",
       "    }\n",
       "\n",
       "    .dataframe tbody tr th {\n",
       "        vertical-align: top;\n",
       "    }\n",
       "\n",
       "    .dataframe thead th {\n",
       "        text-align: right;\n",
       "    }\n",
       "</style>\n",
       "<table border=\"1\" class=\"dataframe\">\n",
       "  <thead>\n",
       "    <tr style=\"text-align: right;\">\n",
       "      <th></th>\n",
       "      <th>count</th>\n",
       "      <th>mean</th>\n",
       "      <th>std</th>\n",
       "      <th>min</th>\n",
       "      <th>25%</th>\n",
       "      <th>50%</th>\n",
       "      <th>75%</th>\n",
       "      <th>max</th>\n",
       "    </tr>\n",
       "  </thead>\n",
       "  <tbody>\n",
       "    <tr>\n",
       "      <th>total_bill</th>\n",
       "      <td>244.0</td>\n",
       "      <td>19.785943</td>\n",
       "      <td>8.902412</td>\n",
       "      <td>3.07</td>\n",
       "      <td>13.3475</td>\n",
       "      <td>17.795</td>\n",
       "      <td>24.1275</td>\n",
       "      <td>50.81</td>\n",
       "    </tr>\n",
       "    <tr>\n",
       "      <th>tip</th>\n",
       "      <td>244.0</td>\n",
       "      <td>2.998279</td>\n",
       "      <td>1.383638</td>\n",
       "      <td>1.00</td>\n",
       "      <td>2.0000</td>\n",
       "      <td>2.900</td>\n",
       "      <td>3.5625</td>\n",
       "      <td>10.00</td>\n",
       "    </tr>\n",
       "  </tbody>\n",
       "</table>\n",
       "</div>"
      ],
      "text/plain": [
       "            count       mean       std   min      25%     50%      75%    max\n",
       "total_bill  244.0  19.785943  8.902412  3.07  13.3475  17.795  24.1275  50.81\n",
       "tip         244.0   2.998279  1.383638  1.00   2.0000   2.900   3.5625  10.00"
      ]
     },
     "execution_count": 37,
     "metadata": {},
     "output_type": "execute_result"
    }
   ],
   "source": [
    "df_tips.describe().T"
   ]
  },
  {
   "cell_type": "markdown",
   "metadata": {
    "slideshow": {
     "slide_type": "fragment"
    }
   },
   "source": [
    "Ninguna variable tiene nulos."
   ]
  },
  {
   "cell_type": "code",
   "execution_count": 38,
   "metadata": {
    "slideshow": {
     "slide_type": "fragment"
    }
   },
   "outputs": [
    {
     "data": {
      "text/plain": [
       "total_bill    0\n",
       "tip           0\n",
       "smoker        0\n",
       "dtype: int64"
      ]
     },
     "execution_count": 38,
     "metadata": {},
     "output_type": "execute_result"
    }
   ],
   "source": [
    "df_tips.isnull().sum()"
   ]
  },
  {
   "cell_type": "markdown",
   "metadata": {
    "slideshow": {
     "slide_type": "slide"
    }
   },
   "source": [
    "Generamos un diagrama de dispersión, con el color indicando la variable *smoker*."
   ]
  },
  {
   "cell_type": "code",
   "execution_count": 39,
   "metadata": {
    "slideshow": {
     "slide_type": "fragment"
    }
   },
   "outputs": [
    {
     "data": {
      "image/png": "[encoded data removed]",
      "text/plain": [
       "<Figure size 432x288 with 1 Axes>"
      ]
     },
     "metadata": {},
     "output_type": "display_data"
    }
   ],
   "source": [
    "sns.set(style=\"darkgrid\")\n",
    "sns.scatterplot(x = \"total_bill\", y = \"tip\", hue=df_tips.smoker.tolist(), data = df_tips)\n",
    "plt.show()"
   ]
  },
  {
   "cell_type": "markdown",
   "metadata": {
    "slideshow": {
     "slide_type": "slide"
    }
   },
   "source": [
    "Aplicamos los siete pasos típicos de la metodología para generar el modelo."
   ]
  },
  {
   "cell_type": "code",
   "execution_count": 40,
   "metadata": {
    "slideshow": {
     "slide_type": "fragment"
    }
   },
   "outputs": [],
   "source": [
    "from sklearn.naive_bayes import GaussianNB # 1. Seleccionar una clase de modelo"
   ]
  },
  {
   "cell_type": "markdown",
   "metadata": {
    "slideshow": {
     "slide_type": "fragment"
    }
   },
   "source": [
    "Dejamos los hiperparámetros por default."
   ]
  },
  {
   "cell_type": "code",
   "execution_count": 41,
   "metadata": {
    "slideshow": {
     "slide_type": "fragment"
    }
   },
   "outputs": [],
   "source": [
    "model = GaussianNB() # 2. Elegir los hiperparámetros del modelo. "
   ]
  },
  {
   "cell_type": "markdown",
   "metadata": {
    "slideshow": {
     "slide_type": "fragment"
    }
   },
   "source": [
    "La *matriz X de features* son todas las variables menos *smoker*, que es la *variable target* a predecir."
   ]
  },
  {
   "cell_type": "code",
   "execution_count": 42,
   "metadata": {
    "slideshow": {
     "slide_type": "fragment"
    }
   },
   "outputs": [],
   "source": [
    "X = df_tips.drop(['smoker'], axis=1) # 3. Preparar matriz de *features* y vector *target*\n",
    "y = df_tips['smoker']"
   ]
  },
  {
   "cell_type": "code",
   "execution_count": 43,
   "metadata": {
    "slideshow": {
     "slide_type": "fragment"
    }
   },
   "outputs": [],
   "source": [
    "# 4. Separar los sets de entrenamiento y de testing\n",
    "from sklearn.model_selection import train_test_split\n",
    "Xtrain, Xtest, ytrain, ytest = train_test_split(X, y, random_state=2)"
   ]
  },
  {
   "cell_type": "markdown",
   "metadata": {
    "colab_type": "text",
    "id": "q21g2iZ1YqdC",
    "slideshow": {
     "slide_type": "slide"
    }
   },
   "source": [
    "El modelo aprende a partir de los datos de **train**."
   ]
  },
  {
   "cell_type": "code",
   "execution_count": 44,
   "metadata": {
    "colab": {},
    "colab_type": "code",
    "id": "S3tOYqLgYqdI",
    "slideshow": {
     "slide_type": "fragment"
    }
   },
   "outputs": [
    {
     "data": {
      "text/plain": [
       "GaussianNB()"
      ]
     },
     "execution_count": 44,
     "metadata": {},
     "output_type": "execute_result"
    }
   ],
   "source": [
    "model.fit(Xtrain, ytrain) # 5. Ajustar el modelo a los datos de entrenamiento"
   ]
  },
  {
   "cell_type": "markdown",
   "metadata": {
    "slideshow": {
     "slide_type": "fragment"
    }
   },
   "source": [
    "Con el modelo entrenado, vamos a predecir las etiquetas del conjunto de test:"
   ]
  },
  {
   "cell_type": "code",
   "execution_count": 45,
   "metadata": {
    "slideshow": {
     "slide_type": "fragment"
    }
   },
   "outputs": [
    {
     "data": {
      "text/plain": [
       "array(['Yes', 'No', 'No', 'No', 'No', 'Yes', 'No', 'No', 'No', 'Yes',\n",
       "       'No', 'No', 'No', 'No', 'No', 'No', 'No', 'No', 'No', 'No', 'No',\n",
       "       'No', 'No', 'No', 'No', 'No', 'No', 'No', 'No', 'No', 'No', 'No',\n",
       "       'No', 'No', 'Yes', 'Yes', 'No', 'No', 'No', 'No', 'Yes', 'No',\n",
       "       'No', 'No', 'No', 'No', 'Yes', 'No', 'No', 'No', 'No', 'Yes', 'No',\n",
       "       'Yes', 'No', 'No', 'No', 'No', 'No', 'No', 'No'], dtype='<U3')"
      ]
     },
     "execution_count": 45,
     "metadata": {},
     "output_type": "execute_result"
    }
   ],
   "source": [
    "ypred = model.predict(Xtest) # 6. Predecir etiquetas para datos desconocidos\n",
    "ypred"
   ]
  },
  {
   "cell_type": "markdown",
   "metadata": {
    "slideshow": {
     "slide_type": "fragment"
    }
   },
   "source": [
    "Calculamos una métrica para evaluar la performance."
   ]
  },
  {
   "cell_type": "code",
   "execution_count": 46,
   "metadata": {
    "slideshow": {
     "slide_type": "fragment"
    }
   },
   "outputs": [
    {
     "data": {
      "text/plain": [
       "0.72"
      ]
     },
     "execution_count": 46,
     "metadata": {},
     "output_type": "execute_result"
    }
   ],
   "source": [
    "from sklearn.metrics import accuracy_score # 7. Evaluar la *performance* del modelo\n",
    "round(accuracy_score(ytest, ypred), 2)"
   ]
  },
  {
   "cell_type": "markdown",
   "metadata": {
    "slideshow": {
     "slide_type": "fragment"
    }
   },
   "source": [
    "Obtenemos un valor de **accuracy del 72%**, es decir que 72 de cada 100 casos fueron correctamente predichos. "
   ]
  },
  {
   "cell_type": "markdown",
   "metadata": {
    "slideshow": {
     "slide_type": "slide"
    }
   },
   "source": [
    "###  Preguntas sobre el modelo \n",
    "\n",
    "---"
   ]
  },
  {
   "cell_type": "markdown",
   "metadata": {
    "slideshow": {
     "slide_type": "fragment"
    }
   },
   "source": [
    "- Que piensan del valor accuracy = 0.72? Es una buena performance?"
   ]
  },
  {
   "cell_type": "markdown",
   "metadata": {
    "slideshow": {
     "slide_type": "fragment"
    }
   },
   "source": [
    "Siempre hay que pensar que la performance se mide sobre el archivo de test, es decir, sobre los datos no vistos por el modelo. En este caso, predecir en casi tres de cada cuatro es una performance razonable. Se puede mejorar."
   ]
  },
  {
   "cell_type": "markdown",
   "metadata": {
    "slideshow": {
     "slide_type": "fragment"
    }
   },
   "source": [
    "- Les parece que alcanza con una sola medida de performance?"
   ]
  },
  {
   "cell_type": "markdown",
   "metadata": {
    "slideshow": {
     "slide_type": "fragment"
    }
   },
   "source": [
    "No. Siempre mejor evaluar el modelo con varias medidas de performance."
   ]
  },
  {
   "cell_type": "markdown",
   "metadata": {
    "slideshow": {
     "slide_type": "fragment"
    }
   },
   "source": [
    "- Considerando que Naive Bayes es usado como modelo \"base\", cómo creen que será la performance de otros modelos de clasificación?"
   ]
  },
  {
   "cell_type": "markdown",
   "metadata": {
    "slideshow": {
     "slide_type": "fragment"
    }
   },
   "source": [
    "Podemos que Naive Bayes tiene una performance \"promedio\" y que en general otros modelos de clasificación la mejoran."
   ]
  },
  {
   "cell_type": "markdown",
   "metadata": {
    "slideshow": {
     "slide_type": "slide"
    }
   },
   "source": [
    "<div class=\"div-dhds-fondo-1\"> Referencias y Material Adicional\n",
    "<img src=\"https://raw.githubusercontent.com/Digital-House-DATA/ds_blend_2021_img/master/M3/CLASE_18_Intro_ML_1/Presentacion/img/M3_CLASE_18_separador.png\" align=\"center\"></img>    \n",
    "</div>"
   ]
  },
  {
   "cell_type": "markdown",
   "metadata": {
    "slideshow": {
     "slide_type": "slide"
    }
   },
   "source": [
    "### Referencias y Material Adicional\n",
    "\n",
    "---\n",
    "\n",
    "Introduction to Machine Learning with Python. Andreas C. Müller, Sarah Guido. O’Reilly Media.\n",
    "\n",
    "An Introduction to Statistical Learning with Applications in R. Gareth James, Daniela Witten, Trevor Hastie, Robert Tibshirani. Springer.\n",
    "\n",
    "<a href =\"https://scikit-learn.org/stable/supervised_learning.html#supervised-learning\" tagert=\"_blank\">Scikit-learn. Aprendizaje Supervisado</a>\n",
    "\n",
    "<a href =\"https://scikit-learn.org/stable/unsupervised_learning.html\" tagert=\"_blank\">Scikit-learn. Aprendizaje no Supervisado</a>"
   ]
  }
 ],
 "metadata": {
  "kernelspec": {
   "display_name": "Python 3",
   "language": "python",
   "name": "python3"
  },
  "language_info": {
   "codemirror_mode": {
    "name": "ipython",
    "version": 3
   },
   "file_extension": ".py",
   "mimetype": "text/x-python",
   "name": "python",
   "nbconvert_exporter": "python",
   "pygments_lexer": "ipython3",
   "version": "3.8.5"
  }
 },
 "nbformat": 4,
 "nbformat_minor": 4
}
