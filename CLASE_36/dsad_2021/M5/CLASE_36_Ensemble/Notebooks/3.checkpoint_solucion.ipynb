{
 "cells": [
  {
   "cell_type": "code",
   "execution_count": 23,
   "id": "improved-forward",
   "metadata": {},
   "outputs": [
    {
     "name": "stdout",
     "output_type": "stream",
     "text": [
      "/media/paulati/Nuevo vol/paula/dh/2021/dsad_2021_paula/common\n",
      "default checking\n",
      "Running command `conda list`... ok\n",
      "jupyterlab=2.2.6 already installed\n",
      "pandas=1.1.5 already installed\n",
      "bokeh=2.2.3 already installed\n",
      "seaborn=0.11.0 already installed\n",
      "matplotlib=3.3.2 already installed\n",
      "ipywidgets=7.5.1 already installed\n",
      "pytest=6.2.1 already installed\n",
      "chardet=4.0.0 already installed\n",
      "psutil=5.7.2 already installed\n",
      "scipy=1.5.2 already installed\n",
      "statsmodels=0.12.1 already installed\n",
      "scikit-learn=0.23.2 already installed\n",
      "xlrd=2.0.1 already installed\n",
      "nltk=3.5 already installed\n",
      "unidecode=1.1.1 already installed\n",
      "pydotplus=2.0.2 already installed\n",
      "pandas-datareader=0.9.0 already installed\n",
      "flask=1.1.2 already installed\n"
     ]
    }
   ],
   "source": [
    "# initial setup\n",
    "%run \"../../../common/0_notebooks_base_setup.py\"\n"
   ]
  },
  {
   "cell_type": "markdown",
   "id": "laden-introduction",
   "metadata": {},
   "source": [
    "---\n",
    "\n",
    "<img src='../../../common/logo_DH.png' align='left' width=35%/>\n"
   ]
  },
  {
   "cell_type": "markdown",
   "id": "democratic-turner",
   "metadata": {},
   "source": [
    "# Modelos de Ensamble"
   ]
  },
  {
   "cell_type": "markdown",
   "id": "super-switzerland",
   "metadata": {},
   "source": [
    "## Introducción\n",
    "\n",
    "Usando el dataset Movie_classification, que vimos en la clase de CART, vamos a entrenar tres modelos base de clasificación, y construir a partir de ellos un ensamble para predecir el valor de la variable Start_Tech_Oscar.\n",
    "\n",
    "Vamos a comparar la performance de los modelos base con la del modelo de ensamble.\n"
   ]
  },
  {
   "cell_type": "markdown",
   "id": "specified-chamber",
   "metadata": {},
   "source": [
    "## Dataset\n",
    "\n",
    "En esta clase usaremos un dataset con info de películas (\"Movie_classification.csv\").  \n",
    "Este dataset esta conformado por los siguientes features:  \n",
    "\n",
    " *   **Marketing expense:**    (float64)    Gasto total en Marketing      \n",
    " *   **Production expense:**   (float64)    Gasto total de Producción\n",
    " *   **Multiplex coverage:**   (float64)    Cobertura promedio de Multiplex\n",
    " *   **Budget:**               (float64)    Presupuesto\n",
    " *   **Movie_length:**         (float64)    Duración de la película\n",
    " *   **Lead_ Actor_Rating:**   (float64)    Puntaje sobre el actor principal\n",
    " *   **Lead_Actress_rating:**  (float64)    Puntaje sobre la actriz principal\n",
    " *   **Director_rating:**      (float64)    Puntaje sobre el Director\n",
    " *   **Producer_rating:**      (float64)    Puntaje sobre el Productor\n",
    " *   **Critic_rating:**        (float64)    Puntaje que le puso la crítica\n",
    " *   **Trailer_views:**        (int64)      Cantidad de vistas del Trailer\n",
    " *   **3D_available:**         (object)     Si esta disponible en 3D (Yes/No)\n",
    " *   **Time_taken:**           (float64)    Duración de la película\n",
    " *   **Twitter_hastags:**      (float64)    Cantidad de menciones en twitter\n",
    " *   **Genre:**                (object)     Genero de la película\n",
    " *   **Avg_age_actors:**       (int64)      Edad promedio de los actores\n",
    " *   **Num_multiplex:**        (int64)      Cantidad de Multiplex\n",
    " *   **Collection:**           (int64)      Recaudación\n",
    " *   **Start_Tech_Oscar:**     (int64)      Si recibió un oscar o no.\n",
    " "
   ]
  },
  {
   "cell_type": "markdown",
   "id": "french-trustee",
   "metadata": {},
   "source": [
    "## Imports"
   ]
  },
  {
   "cell_type": "code",
   "execution_count": 24,
   "id": "several-burst",
   "metadata": {},
   "outputs": [],
   "source": [
    "import pandas as pd\n",
    "import numpy as np\n",
    "from sklearn.model_selection import train_test_split\n",
    "from sklearn.preprocessing import StandardScaler\n",
    "from sklearn.metrics import roc_auc_score, accuracy_score, confusion_matrix\n",
    "from sklearn.naive_bayes import GaussianNB\n",
    "from sklearn.neighbors import KNeighborsClassifier\n",
    "from sklearn import tree\n",
    "from scipy.stats import mode\n",
    "import seaborn as sns"
   ]
  },
  {
   "cell_type": "markdown",
   "id": "bigger-aircraft",
   "metadata": {},
   "source": [
    "## Ejercicio 1\n",
    "\n",
    "Leamos el dataset \"Movie_classification\", eliminemos los registros con valores faltantes y las features categóricas \"Genre\" y \"3D_available\""
   ]
  },
  {
   "cell_type": "code",
   "execution_count": 25,
   "id": "stylish-plaintiff",
   "metadata": {},
   "outputs": [
    {
     "name": "stdout",
     "output_type": "stream",
     "text": [
      "(506, 19)\n"
     ]
    }
   ],
   "source": [
    "data_raw = pd.read_csv(\"../Data/Movie_classification.csv\")\n",
    "print(data_raw.shape)"
   ]
  },
  {
   "cell_type": "code",
   "execution_count": 26,
   "id": "random-angle",
   "metadata": {},
   "outputs": [
    {
     "name": "stdout",
     "output_type": "stream",
     "text": [
      "(494, 19)\n"
     ]
    }
   ],
   "source": [
    "data_no_missing = data_raw.dropna()\n",
    "print(data_no_missing.shape)"
   ]
  },
  {
   "cell_type": "code",
   "execution_count": 27,
   "id": "undefined-photograph",
   "metadata": {},
   "outputs": [
    {
     "name": "stdout",
     "output_type": "stream",
     "text": [
      "(494, 17)\n"
     ]
    }
   ],
   "source": [
    "data = data_no_missing.drop([\"Genre\", \"3D_available\"], axis = 1)\n",
    "print(data.shape)"
   ]
  },
  {
   "cell_type": "code",
   "execution_count": 28,
   "id": "burning-invasion",
   "metadata": {},
   "outputs": [
    {
     "data": {
      "text/html": [
       "<div>\n",
       "<style scoped>\n",
       "    .dataframe tbody tr th:only-of-type {\n",
       "        vertical-align: middle;\n",
       "    }\n",
       "\n",
       "    .dataframe tbody tr th {\n",
       "        vertical-align: top;\n",
       "    }\n",
       "\n",
       "    .dataframe thead th {\n",
       "        text-align: right;\n",
       "    }\n",
       "</style>\n",
       "<table border=\"1\" class=\"dataframe\">\n",
       "  <thead>\n",
       "    <tr style=\"text-align: right;\">\n",
       "      <th></th>\n",
       "      <th>Marketing expense</th>\n",
       "      <th>Production expense</th>\n",
       "      <th>Multiplex coverage</th>\n",
       "      <th>Budget</th>\n",
       "      <th>Movie_length</th>\n",
       "      <th>Lead_ Actor_Rating</th>\n",
       "      <th>Lead_Actress_rating</th>\n",
       "      <th>Director_rating</th>\n",
       "      <th>Producer_rating</th>\n",
       "      <th>Critic_rating</th>\n",
       "      <th>Trailer_views</th>\n",
       "      <th>Time_taken</th>\n",
       "      <th>Twitter_hastags</th>\n",
       "      <th>Avg_age_actors</th>\n",
       "      <th>Num_multiplex</th>\n",
       "      <th>Collection</th>\n",
       "      <th>Start_Tech_Oscar</th>\n",
       "    </tr>\n",
       "  </thead>\n",
       "  <tbody>\n",
       "    <tr>\n",
       "      <th>0</th>\n",
       "      <td>20.1264</td>\n",
       "      <td>59.62</td>\n",
       "      <td>0.462</td>\n",
       "      <td>36524.125</td>\n",
       "      <td>138.7</td>\n",
       "      <td>7.825</td>\n",
       "      <td>8.095</td>\n",
       "      <td>7.910</td>\n",
       "      <td>7.995</td>\n",
       "      <td>7.94</td>\n",
       "      <td>527367</td>\n",
       "      <td>109.60</td>\n",
       "      <td>223.840</td>\n",
       "      <td>23</td>\n",
       "      <td>494</td>\n",
       "      <td>48000</td>\n",
       "      <td>1</td>\n",
       "    </tr>\n",
       "    <tr>\n",
       "      <th>1</th>\n",
       "      <td>20.5462</td>\n",
       "      <td>69.14</td>\n",
       "      <td>0.531</td>\n",
       "      <td>35668.655</td>\n",
       "      <td>152.4</td>\n",
       "      <td>7.505</td>\n",
       "      <td>7.650</td>\n",
       "      <td>7.440</td>\n",
       "      <td>7.470</td>\n",
       "      <td>7.44</td>\n",
       "      <td>494055</td>\n",
       "      <td>146.64</td>\n",
       "      <td>243.456</td>\n",
       "      <td>42</td>\n",
       "      <td>462</td>\n",
       "      <td>43200</td>\n",
       "      <td>0</td>\n",
       "    </tr>\n",
       "    <tr>\n",
       "      <th>2</th>\n",
       "      <td>20.5458</td>\n",
       "      <td>69.14</td>\n",
       "      <td>0.531</td>\n",
       "      <td>39912.675</td>\n",
       "      <td>134.6</td>\n",
       "      <td>7.485</td>\n",
       "      <td>7.570</td>\n",
       "      <td>7.495</td>\n",
       "      <td>7.515</td>\n",
       "      <td>7.44</td>\n",
       "      <td>547051</td>\n",
       "      <td>147.88</td>\n",
       "      <td>2022.400</td>\n",
       "      <td>38</td>\n",
       "      <td>458</td>\n",
       "      <td>69400</td>\n",
       "      <td>1</td>\n",
       "    </tr>\n",
       "    <tr>\n",
       "      <th>3</th>\n",
       "      <td>20.6474</td>\n",
       "      <td>59.36</td>\n",
       "      <td>0.542</td>\n",
       "      <td>38873.890</td>\n",
       "      <td>119.3</td>\n",
       "      <td>6.895</td>\n",
       "      <td>7.035</td>\n",
       "      <td>6.920</td>\n",
       "      <td>7.020</td>\n",
       "      <td>8.26</td>\n",
       "      <td>516279</td>\n",
       "      <td>185.36</td>\n",
       "      <td>225.344</td>\n",
       "      <td>45</td>\n",
       "      <td>472</td>\n",
       "      <td>66800</td>\n",
       "      <td>1</td>\n",
       "    </tr>\n",
       "    <tr>\n",
       "      <th>4</th>\n",
       "      <td>21.3810</td>\n",
       "      <td>59.36</td>\n",
       "      <td>0.542</td>\n",
       "      <td>39701.585</td>\n",
       "      <td>127.7</td>\n",
       "      <td>6.920</td>\n",
       "      <td>7.070</td>\n",
       "      <td>6.815</td>\n",
       "      <td>7.070</td>\n",
       "      <td>8.26</td>\n",
       "      <td>531448</td>\n",
       "      <td>176.48</td>\n",
       "      <td>225.792</td>\n",
       "      <td>55</td>\n",
       "      <td>395</td>\n",
       "      <td>72400</td>\n",
       "      <td>1</td>\n",
       "    </tr>\n",
       "  </tbody>\n",
       "</table>\n",
       "</div>"
      ],
      "text/plain": [
       "   Marketing expense  Production expense  Multiplex coverage     Budget  \\\n",
       "0            20.1264               59.62               0.462  36524.125   \n",
       "1            20.5462               69.14               0.531  35668.655   \n",
       "2            20.5458               69.14               0.531  39912.675   \n",
       "3            20.6474               59.36               0.542  38873.890   \n",
       "4            21.3810               59.36               0.542  39701.585   \n",
       "\n",
       "   Movie_length  Lead_ Actor_Rating  Lead_Actress_rating  Director_rating  \\\n",
       "0         138.7               7.825                8.095            7.910   \n",
       "1         152.4               7.505                7.650            7.440   \n",
       "2         134.6               7.485                7.570            7.495   \n",
       "3         119.3               6.895                7.035            6.920   \n",
       "4         127.7               6.920                7.070            6.815   \n",
       "\n",
       "   Producer_rating  Critic_rating  Trailer_views  Time_taken  Twitter_hastags  \\\n",
       "0            7.995           7.94         527367      109.60          223.840   \n",
       "1            7.470           7.44         494055      146.64          243.456   \n",
       "2            7.515           7.44         547051      147.88         2022.400   \n",
       "3            7.020           8.26         516279      185.36          225.344   \n",
       "4            7.070           8.26         531448      176.48          225.792   \n",
       "\n",
       "   Avg_age_actors  Num_multiplex  Collection  Start_Tech_Oscar  \n",
       "0              23            494       48000                 1  \n",
       "1              42            462       43200                 0  \n",
       "2              38            458       69400                 1  \n",
       "3              45            472       66800                 1  \n",
       "4              55            395       72400                 1  "
      ]
     },
     "execution_count": 28,
     "metadata": {},
     "output_type": "execute_result"
    }
   ],
   "source": [
    "data.head()"
   ]
  },
  {
   "cell_type": "markdown",
   "id": "dynamic-opportunity",
   "metadata": {},
   "source": [
    "## Ejercicio 2\n",
    "\n",
    "Crear los conjuntos de train y test"
   ]
  },
  {
   "cell_type": "code",
   "execution_count": 29,
   "id": "piano-steel",
   "metadata": {},
   "outputs": [
    {
     "name": "stdout",
     "output_type": "stream",
     "text": [
      "(494, 16)\n",
      "(494,)\n"
     ]
    }
   ],
   "source": [
    "X = data.drop(\"Start_Tech_Oscar\", axis = 1)\n",
    "print(X.shape)\n",
    "\n",
    "y = data.Start_Tech_Oscar\n",
    "print(y.shape)\n",
    "\n",
    "X_train, X_test, y_train, y_test = train_test_split(X, y,random_state = 127)\n"
   ]
  },
  {
   "cell_type": "markdown",
   "id": "marked-springfield",
   "metadata": {},
   "source": [
    "## Ejercicio 3\n",
    "\n",
    "Estandarizar las features para los conjuntos de train y test"
   ]
  },
  {
   "cell_type": "code",
   "execution_count": 30,
   "id": "encouraging-possession",
   "metadata": {},
   "outputs": [],
   "source": [
    "scaler = StandardScaler()\n",
    "X_train_scl = scaler.fit_transform(X_train)\n",
    "\n",
    "X_test_scl = scaler.transform(X_test)"
   ]
  },
  {
   "cell_type": "markdown",
   "id": "later-breakdown",
   "metadata": {},
   "source": [
    "## Ejercicio 4\n",
    "\n",
    "Entrenar un modelo Naive Bayes para predecir el valor de \"Start_Tech_Oscar\" y evaluar su perfomance en test mediante\n",
    "\n",
    "* accuracy\n",
    "\n",
    "* matriz de confusión\n",
    "    \n"
   ]
  },
  {
   "cell_type": "code",
   "execution_count": 31,
   "id": "placed-arrest",
   "metadata": {},
   "outputs": [],
   "source": [
    "model_1 = GaussianNB()\n",
    "fit_1 = model_1.fit(X_train_scl, y_train)"
   ]
  },
  {
   "cell_type": "code",
   "execution_count": 32,
   "id": "numeric-shannon",
   "metadata": {},
   "outputs": [
    {
     "name": "stdout",
     "output_type": "stream",
     "text": [
      "0.5887096774193549\n",
      "[[49  7]\n",
      " [44 24]]\n"
     ]
    }
   ],
   "source": [
    "predict_1_cat = fit_1.predict(X_test_scl)\n",
    "accuracy_1 = accuracy_score(y_test, predict_1_cat)\n",
    "print(accuracy_1)\n",
    "conf_mat_1 = confusion_matrix(y_test, predict_1_cat)\n",
    "print(conf_mat_1)"
   ]
  },
  {
   "cell_type": "markdown",
   "id": "dutch-format",
   "metadata": {},
   "source": [
    "## Ejercicio 5\n",
    "\n",
    "Entrenar un modelo KNN para predecir el valor de \"Start_Tech_Oscar\" y evaluar su perfomance en test mediante\n",
    "\n",
    "* accuracy\n",
    "\n",
    "* matriz de confusión\n"
   ]
  },
  {
   "cell_type": "code",
   "execution_count": 33,
   "id": "environmental-premises",
   "metadata": {},
   "outputs": [],
   "source": [
    "model_2 = KNeighborsClassifier()\n",
    "fit_2 = model_2.fit(X_train_scl, y_train)"
   ]
  },
  {
   "cell_type": "code",
   "execution_count": 34,
   "id": "central-bikini",
   "metadata": {},
   "outputs": [
    {
     "name": "stdout",
     "output_type": "stream",
     "text": [
      "0.6370967741935484\n",
      "[[34 22]\n",
      " [23 45]]\n"
     ]
    }
   ],
   "source": [
    "predict_2_cat = fit_2.predict(X_test_scl)\n",
    "accuracy_2 = accuracy_score(y_test, predict_2_cat)\n",
    "print(accuracy_2)\n",
    "conf_mat_2 = confusion_matrix(y_test, predict_2_cat)\n",
    "print(conf_mat_2)"
   ]
  },
  {
   "cell_type": "markdown",
   "id": "harmful-sheep",
   "metadata": {},
   "source": [
    "## Ejercicio 6\n",
    "\n",
    "Entrenar un árbol de clasificación para predecir el valor de \"Start_Tech_Oscar\" y evaluar su perfomance en test mediante\n",
    "\n",
    "* accuracy\n",
    "\n",
    "* matriz de confusión\n"
   ]
  },
  {
   "cell_type": "code",
   "execution_count": 35,
   "id": "hybrid-affairs",
   "metadata": {},
   "outputs": [],
   "source": [
    "model_3 = tree.DecisionTreeClassifier(criterion='gini')\n",
    "fit_3 = model_3.fit(X_train_scl, y_train)"
   ]
  },
  {
   "cell_type": "code",
   "execution_count": 36,
   "id": "criminal-shirt",
   "metadata": {},
   "outputs": [
    {
     "name": "stdout",
     "output_type": "stream",
     "text": [
      "0.6209677419354839\n",
      "[[39 17]\n",
      " [30 38]]\n"
     ]
    }
   ],
   "source": [
    "predict_3_cat = fit_3.predict(X_test_scl)\n",
    "accuracy_3 = accuracy_score(y_test, predict_3_cat)\n",
    "print(accuracy_3)\n",
    "conf_mat_3 = confusion_matrix(y_test, predict_3_cat)\n",
    "print(conf_mat_3)"
   ]
  },
  {
   "cell_type": "markdown",
   "id": "fossil-handbook",
   "metadata": {},
   "source": [
    "## Ejercicio 7\n",
    "\n",
    "\n",
    "Construir un modelo de ensamble usando como modelos base los tres modelos anteriores.\n",
    "\n",
    "Para esto, escribir una función `predict_ensamble`, que calcule el valor de la etiqueta Start_Tech_Oscar como la moda de las respuestas de los predictores base\n",
    "\n",
    " Evaluar la performance del ensamble mediante \n",
    "\n",
    "* accuracy\n",
    "\n",
    "* matriz de confusión\n",
    "\n",
    "\n"
   ]
  },
  {
   "cell_type": "code",
   "execution_count": 37,
   "id": "stainless-finland",
   "metadata": {},
   "outputs": [],
   "source": [
    "def predict_ensamble(X, model_1, model_2, model_3):\n",
    "    y_pred_1 = model_1.predict(X)\n",
    "    y_pred_2 = model_2.predict(X)\n",
    "    y_pred_3 = model_3.predict(X)\n",
    "    result_mode = mode([y_pred_1, y_pred_2, y_pred_3]).mode\n",
    "    result = np.transpose(result_mode)    \n",
    "    return result"
   ]
  },
  {
   "cell_type": "code",
   "execution_count": 38,
   "id": "distant-blake",
   "metadata": {},
   "outputs": [
    {
     "name": "stdout",
     "output_type": "stream",
     "text": [
      "0.6048387096774194\n",
      "[[41 15]\n",
      " [34 34]]\n"
     ]
    }
   ],
   "source": [
    "predict_cat_ensemble = predict_ensamble(X_test_scl, fit_1, fit_2, fit_3)\n",
    "accuracy_ensemble = accuracy_score(y_test, predict_cat_ensemble)\n",
    "print(accuracy_ensemble)\n",
    "predict_cat_ensemble.shape\n",
    "conf_mat_ensemble = confusion_matrix(y_test, predict_cat_ensemble)\n",
    "print(conf_mat_ensemble)"
   ]
  },
  {
   "cell_type": "markdown",
   "id": "turkish-north",
   "metadata": {},
   "source": [
    "## Ejercicio 8\n",
    "\n",
    "¿Cómo es la performance del modelo de ensamble respecto de la obtenida en los modelos base?\n",
    "\n",
    "¿Mejora usando dos modelos en el ensable? ¿Qué modelos usarían?"
   ]
  },
  {
   "cell_type": "markdown",
   "id": "polar-region",
   "metadata": {},
   "source": [
    "En este caso, la performance del modelo de ensamble no es mejor que la del mejor de los modelos base."
   ]
  },
  {
   "cell_type": "code",
   "execution_count": 39,
   "id": "electrical-validation",
   "metadata": {},
   "outputs": [],
   "source": [
    "def predict_ensamble_2(X, model_1, model_2):\n",
    "    y_pred_1 = model_1.predict(X)\n",
    "    y_pred_2 = model_2.predict(X)    \n",
    "    result_mode = mode([y_pred_1, y_pred_2]).mode\n",
    "    result = np.transpose(result_mode)    \n",
    "    return result\n"
   ]
  },
  {
   "cell_type": "code",
   "execution_count": 40,
   "id": "appropriate-daisy",
   "metadata": {},
   "outputs": [
    {
     "name": "stdout",
     "output_type": "stream",
     "text": [
      "0.6290322580645161\n",
      "[[47  9]\n",
      " [37 31]]\n"
     ]
    }
   ],
   "source": [
    "predict_cat_ensemble_2_3 = predict_ensamble_2(X_test_scl, fit_2, fit_3)\n",
    "accuracy_ensemble_2_3 = accuracy_score(y_test, predict_cat_ensemble_2_3)\n",
    "print(accuracy_ensemble_2_3)\n",
    "accuracy_ensemble_2_3.shape\n",
    "conf_mat_ensemble_2_3 = confusion_matrix(y_test, predict_cat_ensemble_2_3)\n",
    "print(conf_mat_ensemble_2_3)"
   ]
  },
  {
   "cell_type": "markdown",
   "id": "partial-reminder",
   "metadata": {},
   "source": [
    "La performance es muy similar al ensamble de tres modelos, peor que la del mejor modelo base.\n",
    "\n",
    "Probamos las combinaciones 1, 2 y 1, 3 (vemos que no mejora):"
   ]
  },
  {
   "cell_type": "code",
   "execution_count": 41,
   "id": "young-organic",
   "metadata": {},
   "outputs": [
    {
     "name": "stdout",
     "output_type": "stream",
     "text": [
      "0.5725806451612904\n",
      "[[51  5]\n",
      " [48 20]]\n"
     ]
    }
   ],
   "source": [
    "predict_cat_ensemble_1_2 = predict_ensamble_2(X_test_scl, fit_1, fit_2)\n",
    "accuracy_ensemble_1_2 = accuracy_score(y_test, predict_cat_ensemble_1_2)\n",
    "print(accuracy_ensemble_1_2)\n",
    "accuracy_ensemble_1_2.shape\n",
    "conf_mat_ensemble_1_2 = confusion_matrix(y_test, predict_cat_ensemble_1_2)\n",
    "print(conf_mat_ensemble_1_2)"
   ]
  },
  {
   "cell_type": "code",
   "execution_count": 42,
   "id": "architectural-thompson",
   "metadata": {},
   "outputs": [
    {
     "name": "stdout",
     "output_type": "stream",
     "text": [
      "0.5806451612903226\n",
      "[[53  3]\n",
      " [49 19]]\n"
     ]
    }
   ],
   "source": [
    "predict_cat_ensemble_1_3 = predict_ensamble_2(X_test_scl, fit_1, fit_3)\n",
    "accuracy_ensemble_1_3 = accuracy_score(y_test, predict_cat_ensemble_1_3)\n",
    "print(accuracy_ensemble_1_3)\n",
    "accuracy_ensemble_1_3.shape\n",
    "conf_mat_ensemble_1_3 = confusion_matrix(y_test, predict_cat_ensemble_1_3)\n",
    "print(conf_mat_ensemble_1_3)"
   ]
  },
  {
   "cell_type": "code",
   "execution_count": null,
   "id": "relative-robertson",
   "metadata": {},
   "outputs": [],
   "source": []
  }
 ],
 "metadata": {
  "kernelspec": {
   "display_name": "Python 3",
   "language": "python",
   "name": "python3"
  },
  "language_info": {
   "codemirror_mode": {
    "name": "ipython",
    "version": 3
   },
   "file_extension": ".py",
   "mimetype": "text/x-python",
   "name": "python",
   "nbconvert_exporter": "python",
   "pygments_lexer": "ipython3",
   "version": "3.8.5"
  }
 },
 "nbformat": 4,
 "nbformat_minor": 5
}
