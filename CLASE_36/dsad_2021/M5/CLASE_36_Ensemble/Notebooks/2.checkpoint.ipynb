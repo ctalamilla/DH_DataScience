{
 "cells": [
  {
   "cell_type": "code",
   "execution_count": null,
   "id": "boolean-retrieval",
   "metadata": {},
   "outputs": [],
   "source": [
    "# initial setup\n",
    "%run \"../../../common/0_notebooks_base_setup.py\"\n"
   ]
  },
  {
   "cell_type": "markdown",
   "id": "mounted-actress",
   "metadata": {},
   "source": [
    "---\n",
    "\n",
    "<img src='../../../common/logo_DH.png' align='left' width=35%/>\n"
   ]
  },
  {
   "cell_type": "markdown",
   "id": "external-claim",
   "metadata": {},
   "source": [
    "# Modelos de Ensamble"
   ]
  },
  {
   "cell_type": "markdown",
   "id": "bored-spread",
   "metadata": {},
   "source": [
    "## Introducción\n",
    "\n",
    "Usando el dataset Movie_classification, que vimos en la clase de CART, vamos a entrenar tres modelos base de clasificación, y construir a partir de ellos un ensamble para predecir el valor de la variable Start_Tech_Oscar.\n",
    "\n",
    "Vamos a comparar la performance de los modelos base con la del modelo de ensamble.\n"
   ]
  },
  {
   "cell_type": "markdown",
   "id": "otherwise-neutral",
   "metadata": {},
   "source": [
    "## Dataset\n",
    "\n",
    "En esta clase usaremos un dataset con info de películas (\"Movie_classification.csv\").  \n",
    "Este dataset esta conformado por los siguientes features:  \n",
    "\n",
    " *   **Marketing expense:**    (float64)    Gasto total en Marketing      \n",
    " *   **Production expense:**   (float64)    Gasto total de Producción\n",
    " *   **Multiplex coverage:**   (float64)    Cobertura promedio de Multiplex\n",
    " *   **Budget:**               (float64)    Presupuesto\n",
    " *   **Movie_length:**         (float64)    Duración de la película\n",
    " *   **Lead_ Actor_Rating:**   (float64)    Puntaje sobre el actor principal\n",
    " *   **Lead_Actress_rating:**  (float64)    Puntaje sobre la actriz principal\n",
    " *   **Director_rating:**      (float64)    Puntaje sobre el Director\n",
    " *   **Producer_rating:**      (float64)    Puntaje sobre el Productor\n",
    " *   **Critic_rating:**        (float64)    Puntaje que le puso la crítica\n",
    " *   **Trailer_views:**        (int64)      Cantidad de vistas del Trailer\n",
    " *   **3D_available:**         (object)     Si esta disponible en 3D (Yes/No)\n",
    " *   **Time_taken:**           (float64)    Duración de la película\n",
    " *   **Twitter_hastags:**      (float64)    Cantidad de menciones en twitter\n",
    " *   **Genre:**                (object)     Genero de la película\n",
    " *   **Avg_age_actors:**       (int64)      Edad promedio de los actores\n",
    " *   **Num_multiplex:**        (int64)      Cantidad de Multiplex\n",
    " *   **Collection:**           (int64)      Recaudación\n",
    " *   **Start_Tech_Oscar:**     (int64)      Si recibió un oscar o no.\n",
    " "
   ]
  },
  {
   "cell_type": "markdown",
   "id": "linear-lawrence",
   "metadata": {},
   "source": [
    "## Imports"
   ]
  },
  {
   "cell_type": "code",
   "execution_count": null,
   "id": "second-culture",
   "metadata": {},
   "outputs": [],
   "source": [
    "import pandas as pd\n",
    "import numpy as np\n",
    "from sklearn.model_selection import train_test_split\n",
    "from sklearn.preprocessing import StandardScaler\n",
    "from sklearn.metrics import roc_auc_score, accuracy_score, confusion_matrix\n",
    "from sklearn.naive_bayes import GaussianNB\n",
    "from sklearn.neighbors import KNeighborsClassifier\n",
    "from sklearn import tree\n",
    "from scipy.stats import mode\n",
    "import seaborn as sns"
   ]
  },
  {
   "cell_type": "markdown",
   "id": "third-interference",
   "metadata": {},
   "source": [
    "## Ejercicio 1\n",
    "\n",
    "Leamos el dataset \"Movie_classification\", eliminemos los registros con valores faltantes y las features categóricas \"Genre\" y \"3D_available\""
   ]
  },
  {
   "cell_type": "code",
   "execution_count": null,
   "id": "fluid-encyclopedia",
   "metadata": {},
   "outputs": [],
   "source": []
  },
  {
   "cell_type": "markdown",
   "id": "hourly-somewhere",
   "metadata": {},
   "source": [
    "## Ejercicio 2\n",
    "\n",
    "Crear los conjuntos de train y test"
   ]
  },
  {
   "cell_type": "code",
   "execution_count": null,
   "id": "comparable-arrangement",
   "metadata": {},
   "outputs": [],
   "source": []
  },
  {
   "cell_type": "markdown",
   "id": "relative-lesbian",
   "metadata": {},
   "source": [
    "## Ejercicio 3\n",
    "\n",
    "Estandarizar las features para los conjuntos de train y test"
   ]
  },
  {
   "cell_type": "code",
   "execution_count": null,
   "id": "surprised-enclosure",
   "metadata": {},
   "outputs": [],
   "source": []
  },
  {
   "cell_type": "markdown",
   "id": "supreme-harmony",
   "metadata": {},
   "source": [
    "## Ejercicio 4\n",
    "\n",
    "Entrenar un modelo Naive Bayes para predecir el valor de \"Start_Tech_Oscar\" y evaluar su perfomance en test mediante\n",
    "\n",
    "* accuracy\n",
    "\n",
    "* matriz de confusión\n",
    "    \n"
   ]
  },
  {
   "cell_type": "code",
   "execution_count": null,
   "id": "attractive-beauty",
   "metadata": {},
   "outputs": [],
   "source": []
  },
  {
   "cell_type": "code",
   "execution_count": null,
   "id": "statistical-sussex",
   "metadata": {},
   "outputs": [],
   "source": []
  },
  {
   "cell_type": "markdown",
   "id": "silver-prefix",
   "metadata": {},
   "source": [
    "## Ejercicio 5\n",
    "\n",
    "Entrenar un modelo KNN para predecir el valor de \"Start_Tech_Oscar\" y evaluar su perfomance en test mediante\n",
    "\n",
    "* accuracy\n",
    "\n",
    "* matriz de confusión\n"
   ]
  },
  {
   "cell_type": "code",
   "execution_count": null,
   "id": "united-joint",
   "metadata": {},
   "outputs": [],
   "source": []
  },
  {
   "cell_type": "code",
   "execution_count": null,
   "id": "general-restaurant",
   "metadata": {},
   "outputs": [],
   "source": []
  },
  {
   "cell_type": "markdown",
   "id": "massive-workshop",
   "metadata": {},
   "source": [
    "## Ejercicio 6\n",
    "\n",
    "Entrenar un árbol de clasificación para predecir el valor de \"Start_Tech_Oscar\" y evaluar su perfomance en test mediante\n",
    "\n",
    "* accuracy\n",
    "\n",
    "* matriz de confusión\n"
   ]
  },
  {
   "cell_type": "code",
   "execution_count": null,
   "id": "upset-windows",
   "metadata": {},
   "outputs": [],
   "source": []
  },
  {
   "cell_type": "code",
   "execution_count": null,
   "id": "overall-hollywood",
   "metadata": {},
   "outputs": [],
   "source": []
  },
  {
   "cell_type": "markdown",
   "id": "changed-cholesterol",
   "metadata": {},
   "source": [
    "## Ejercicio 7\n",
    "\n",
    "\n",
    "Construir un modelo de ensamble usando como modelos base los tres modelos anteriores.\n",
    "\n",
    "Para esto, escribir una función `predict_ensamble`, que calcule el valor de la etiqueta Start_Tech_Oscar como la moda de las respuestas de los predictores base\n",
    "\n",
    " Evaluar la performance del ensamble mediante \n",
    "\n",
    "* accuracy\n",
    "\n",
    "* matriz de confusión\n",
    "\n",
    "\n"
   ]
  },
  {
   "cell_type": "code",
   "execution_count": null,
   "id": "medium-devil",
   "metadata": {},
   "outputs": [],
   "source": []
  },
  {
   "cell_type": "code",
   "execution_count": null,
   "id": "forward-theater",
   "metadata": {},
   "outputs": [],
   "source": []
  },
  {
   "cell_type": "markdown",
   "id": "handmade-underwear",
   "metadata": {},
   "source": [
    "## Ejercicio 8\n",
    "\n",
    "¿Cómo es la performance del modelo de ensamble respecto de la obtenida en los modelos base?\n",
    "\n",
    "¿Mejora usando dos modelos en el ensable? ¿Qué modelos usarían?"
   ]
  },
  {
   "cell_type": "markdown",
   "id": "center-contemporary",
   "metadata": {},
   "source": [
    "En este caso, la performance del modelo de ensamble no es mejor que la del mejor de los modelos base."
   ]
  },
  {
   "cell_type": "code",
   "execution_count": null,
   "id": "understanding-female",
   "metadata": {},
   "outputs": [],
   "source": []
  },
  {
   "cell_type": "code",
   "execution_count": null,
   "id": "alternative-means",
   "metadata": {},
   "outputs": [],
   "source": []
  },
  {
   "cell_type": "code",
   "execution_count": null,
   "id": "peripheral-cuisine",
   "metadata": {},
   "outputs": [],
   "source": []
  }
 ],
 "metadata": {
  "kernelspec": {
   "display_name": "Python 3",
   "language": "python",
   "name": "python3"
  },
  "language_info": {
   "codemirror_mode": {
    "name": "ipython",
    "version": 3
   },
   "file_extension": ".py",
   "mimetype": "text/x-python",
   "name": "python",
   "nbconvert_exporter": "python",
   "pygments_lexer": "ipython3",
   "version": "3.8.5"
  }
 },
 "nbformat": 4,
 "nbformat_minor": 5
}
