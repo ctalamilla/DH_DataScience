{
 "cells": [
  {
   "cell_type": "code",
   "execution_count": null,
   "id": "hollow-prison",
   "metadata": {},
   "outputs": [],
   "source": [
    "# initial setup\n",
    "%run \"../../../common/0_notebooks_base_setup.py\"\n"
   ]
  },
  {
   "cell_type": "markdown",
   "id": "colonial-allah",
   "metadata": {},
   "source": [
    "[<img src=\"https://www.digitalhouse.com/ar/logo-DH.png\" width=\"400\" height=\"200\" align='right'>](http://digitalhouse.com.ar/)"
   ]
  },
  {
   "cell_type": "markdown",
   "id": "latin-cambodia",
   "metadata": {},
   "source": [
    "# Regularización"
   ]
  },
  {
   "cell_type": "markdown",
   "id": "curious-analysis",
   "metadata": {},
   "source": [
    "### Nota:\n",
    "\n",
    "En este ejercicio vamos a escalar las features del dataset usando `MinMaxScaler` con el objetivo de que tengan un ejercicio resuelto de ejemplo con una alternativa a `StandardScaler`, no porque consideremos que en este problema `MinMaxScaler` resulte en una mejor performance que `StandardScaler`.\n",
    "\n",
    "---\n",
    "\n",
    "Aunque la normalización a través de min-max es una técnica de uso común que es útil cuando necesitamos valores en un intervalo acotado, la estandarización puede ser más práctica para muchos algoritmos de aprendizaje automático. \n",
    "\n",
    "La razón es que muchos modelos lineales inicializan las ponderaciones en O o valores aleatorios pequeños cercanos a 0.\n",
    "\n",
    "Usando la estandarización centramos las columnas de features en la media 0 con el desvío estándar 1, así las columnas de features adoptan la forma de una distribución normal, lo que facilita el aprendizaje de los pesos. \n",
    "\n",
    "Además, la estandarización mantiene información útil sobre los valores atípicos y hace que el algoritmo sea menos sensible a ellos en contraste con el escalado min-max, que escala los datos a un rango limitado de valores.\n"
   ]
  },
  {
   "cell_type": "markdown",
   "id": "union-shooting",
   "metadata": {},
   "source": [
    "## Imports"
   ]
  },
  {
   "cell_type": "code",
   "execution_count": null,
   "id": "computational-trouble",
   "metadata": {},
   "outputs": [],
   "source": [
    "import pandas as pd\n",
    "import numpy as np\n",
    "\n",
    "import seaborn as sns\n",
    "\n",
    "from sklearn.model_selection import train_test_split\n",
    "from sklearn.preprocessing import OneHotEncoder\n",
    "from sklearn.preprocessing import MinMaxScaler\n",
    "from sklearn import linear_model\n",
    "from sklearn import metrics\n",
    "\n",
    "import statsmodels.api as sm\n",
    "from statsmodels.tools import eval_measures\n"
   ]
  },
  {
   "cell_type": "markdown",
   "id": "valued-laptop",
   "metadata": {},
   "source": [
    "## Dataset\n",
    "\n",
    "Este dataset contiene los precios y otros atributos de casi 54.000 diamantes.\n",
    "\n",
    "Sus features son:\n",
    "\n",
    "* **price**: price in US dollars (\\$326--\\$18,823).  **Esta es la variable target**.\n",
    "\n",
    "* carat: weight of the diamond (0.2--5.01)\n",
    "\n",
    "* cut: quality of the cut (Fair, Good, Very Good, Premium, Ideal)\n",
    "\n",
    "* color: diamond colour, from J (worst) to D (best)\n",
    "\n",
    "* clarity: a measurement of how clear the diamond is (I1 (worst), SI2, SI1, VS2, VS1, VVS2, VVS1, IF (best))\n",
    "\n",
    "* x: length in mm (0--10.74)\n",
    "\n",
    "* y: width in mm (0--58.9)\n",
    "\n",
    "* z: depth in mm (0--31.8)\n",
    "\n",
    "* depth: total depth percentage = z / mean(x, y) = 2 * z / (x + y) (43--79)\n",
    "\n",
    "* table: width of top of diamond relative to widest point (43--95)\n",
    "\n",
    "Fuente: https://www.kaggle.com/shivam2503/diamonds"
   ]
  },
  {
   "cell_type": "markdown",
   "id": "aging-disposal",
   "metadata": {},
   "source": [
    "## Leemos los datos"
   ]
  },
  {
   "cell_type": "code",
   "execution_count": null,
   "id": "manufactured-subcommittee",
   "metadata": {},
   "outputs": [],
   "source": [
    "data = pd.read_csv('../Data/diamonds.csv')\n",
    "data.head()"
   ]
  },
  {
   "cell_type": "code",
   "execution_count": null,
   "id": "similar-recall",
   "metadata": {},
   "outputs": [],
   "source": [
    "data.shape"
   ]
  },
  {
   "cell_type": "markdown",
   "id": "lonely-concrete",
   "metadata": {},
   "source": [
    "## Ejercicio 1\n",
    "\n",
    "Normalicemos las features y creemos las variables dummies necesarias para poder entrenar un modelo de regresión para predecir el valor de `price` para cada registro\n",
    "\n",
    "https://scikit-learn.org/stable/modules/preprocessing.html#encoding-categorical-features"
   ]
  },
  {
   "cell_type": "code",
   "execution_count": null,
   "id": "artificial-margin",
   "metadata": {},
   "outputs": [],
   "source": []
  },
  {
   "cell_type": "markdown",
   "id": "prospective-division",
   "metadata": {},
   "source": [
    "Otra opción es usar `get_dummies`\n",
    "\n",
    "https://pandas.pydata.org/docs/reference/api/pandas.get_dummies.html"
   ]
  },
  {
   "cell_type": "code",
   "execution_count": null,
   "id": "straight-battery",
   "metadata": {},
   "outputs": [],
   "source": []
  },
  {
   "cell_type": "markdown",
   "id": "square-median",
   "metadata": {},
   "source": [
    "## Ejercicio 2\n",
    "\n",
    "Separemos el conjunto en train y test"
   ]
  },
  {
   "cell_type": "code",
   "execution_count": null,
   "id": "coordinate-romance",
   "metadata": {},
   "outputs": [],
   "source": []
  },
  {
   "cell_type": "markdown",
   "id": "alternative-prompt",
   "metadata": {},
   "source": [
    "## Ejercicio 3\n",
    "\n",
    "Ajustemos una regresión lineal múltiple con los datos del conjunto de entrenamiento usando statsmodels y evaluemos la significancia de cada uno de los coeficientes"
   ]
  },
  {
   "cell_type": "code",
   "execution_count": null,
   "id": "earlier-spoke",
   "metadata": {},
   "outputs": [],
   "source": []
  },
  {
   "cell_type": "markdown",
   "id": "presidential-harassment",
   "metadata": {},
   "source": [
    "## Ejercicio 4\n",
    "\n",
    "Ajustamos el modelo aplicando regularización de Lasso y validación cruzada para estimar el mejor valor de $\\alpha$ para este problema\n",
    "\n",
    "https://scikit-learn.org/stable/modules/generated/sklearn.linear_model.LassoCV.html\n",
    "\n",
    "¿Cuál es el mejor valor de $\\alpha$ para este problema?\n",
    "\n",
    "¿Cuál es el score obtenido ($R^2$) para este modelo en entrenamiento?"
   ]
  },
  {
   "cell_type": "code",
   "execution_count": null,
   "id": "terminal-geneva",
   "metadata": {},
   "outputs": [],
   "source": []
  },
  {
   "cell_type": "markdown",
   "id": "mobile-laugh",
   "metadata": {},
   "source": [
    "## Ejercicio 5 \n",
    "\n",
    "Ajustemos los datos de entrenamiento con una regresión con regularización de Lasso para el valor de $\\alpha$ calculado en el punto anterior usando statsmodels.\n",
    "\n",
    "Usemos scatterplots para mostrar \n",
    "\n",
    "* los valores de los coeficientes de la regresión lineal múltiple obtenidos en el Ejercicio 3, y los valores de los coeficientes de la regresión lineal con regularización de Lasso para el modelo entrenado.\n",
    "\n",
    "* los valores de los residuos en entrenamiento resultado del Ejercicio 3, y los residuos en entrenamiento para el modelo con regularización.\n",
    "\n",
    "https://www.statsmodels.org/0.6.1/generated/statsmodels.regression.linear_model.OLS.fit_regularized.html"
   ]
  },
  {
   "cell_type": "code",
   "execution_count": null,
   "id": "pending-welcome",
   "metadata": {},
   "outputs": [],
   "source": []
  },
  {
   "cell_type": "markdown",
   "id": "capable-contract",
   "metadata": {},
   "source": [
    "## Ejercicio 6\n",
    "\n",
    "Usandos statsmodels y scikit-learn calculemos la performance en test del modelo construído y comparemos los resultados de las dos bibliotecas usando como métricas el error absoluto medio (MAE) y la raiz del error cuadrático medio (RMSE) \n",
    "\n",
    "https://scikit-learn.org/stable/modules/generated/sklearn.linear_model.Lasso.html"
   ]
  },
  {
   "cell_type": "code",
   "execution_count": null,
   "id": "greenhouse-onion",
   "metadata": {},
   "outputs": [],
   "source": []
  },
  {
   "cell_type": "markdown",
   "id": "instructional-peace",
   "metadata": {},
   "source": [
    "Métricas en `statsmodels`\n",
    "\n",
    "https://www.statsmodels.org/stable/generated/statsmodels.tools.eval_measures.rmse.html\n",
    "\n",
    "https://www.statsmodels.org/stable/generated/statsmodels.tools.eval_measures.meanabs.html"
   ]
  },
  {
   "cell_type": "code",
   "execution_count": null,
   "id": "running-legislature",
   "metadata": {},
   "outputs": [],
   "source": []
  },
  {
   "cell_type": "code",
   "execution_count": null,
   "id": "proof-galaxy",
   "metadata": {},
   "outputs": [],
   "source": []
  },
  {
   "cell_type": "code",
   "execution_count": null,
   "id": "concrete-cannon",
   "metadata": {},
   "outputs": [],
   "source": []
  },
  {
   "cell_type": "markdown",
   "id": "medical-budget",
   "metadata": {},
   "source": [
    "Métricas en `scikit-learn`\n",
    "\n",
    "https://scikit-learn.org/stable/modules/generated/sklearn.metrics.mean_squared_error.html#sklearn.metrics.mean_squared_error\n",
    "\n",
    "https://scikit-learn.org/stable/modules/generated/sklearn.metrics.mean_absolute_error.html#sklearn.metrics.mean_absolute_error\n",
    "\n",
    "https://scikit-learn.org/stable/modules/generated/sklearn.metrics.r2_score.html"
   ]
  },
  {
   "cell_type": "code",
   "execution_count": null,
   "id": "biblical-benjamin",
   "metadata": {},
   "outputs": [],
   "source": []
  },
  {
   "cell_type": "code",
   "execution_count": null,
   "id": "emerging-reverse",
   "metadata": {},
   "outputs": [],
   "source": []
  },
  {
   "cell_type": "code",
   "execution_count": null,
   "id": "established-sheriff",
   "metadata": {},
   "outputs": [],
   "source": []
  },
  {
   "cell_type": "markdown",
   "id": "documentary-renewal",
   "metadata": {},
   "source": [
    "## Referencias\n",
    "\n",
    "https://www.kaggle.com/yogendran/intro-to-linear-ridge-and-lasso-regressions\n",
    "    \n",
    "https://towardsdatascience.com/intro-to-regularization-with-ridge-and-lasso-regression-with-sklearn-edcf4c117b7a"
   ]
  }
 ],
 "metadata": {
  "kernelspec": {
   "display_name": "Python 3",
   "language": "python",
   "name": "python3"
  },
  "language_info": {
   "codemirror_mode": {
    "name": "ipython",
    "version": 3
   },
   "file_extension": ".py",
   "mimetype": "text/x-python",
   "name": "python",
   "nbconvert_exporter": "python",
   "pygments_lexer": "ipython3",
   "version": "3.8.5"
  }
 },
 "nbformat": 4,
 "nbformat_minor": 5
}
