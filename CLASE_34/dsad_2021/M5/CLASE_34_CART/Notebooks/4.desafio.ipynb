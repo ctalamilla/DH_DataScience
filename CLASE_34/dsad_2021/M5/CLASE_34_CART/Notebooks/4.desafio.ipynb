{
 "cells": [
  {
   "cell_type": "code",
   "execution_count": null,
   "id": "about-badge",
   "metadata": {},
   "outputs": [],
   "source": [
    "# initial setup\n",
    "%run \"../../../common/0_notebooks_base_setup.py\"\n"
   ]
  },
  {
   "cell_type": "markdown",
   "id": "faced-voice",
   "metadata": {},
   "source": [
    "---\n",
    "\n",
    "<img src='../../../common/logo_DH.png' align='left' width=35%/>\n"
   ]
  },
  {
   "cell_type": "markdown",
   "id": "cognitive-bicycle",
   "metadata": {},
   "source": [
    "## Introducción\n",
    "\n",
    "En este desafío vamos a compara la performance de modelos de árboles de clasificación con el objetivo de mostrar que modelos más complejos no siempre performan mejor que los más simples. \n",
    "\n",
    "Vamos a entrenar varios modelos de clasificación basados en árboles de decisión para predecir si una pelicula va a obtener un premio oscar o no. \n"
   ]
  },
  {
   "cell_type": "markdown",
   "id": "recovered-export",
   "metadata": {},
   "source": [
    "## Dataset\n",
    "\n",
    "En esta clase usaremos un dataset con info de películas (\"Movie_classification.csv\").  \n",
    "Este dataset esta conformado por los siguientes features:  \n",
    "\n",
    " *   **Marketing expense:**    (float64)    Gasto total en Marketing      \n",
    " *   **Production expense:**   (float64)    Gasto total de Producción\n",
    " *   **Multiplex coverage:**   (float64)    Cobertura promedio de Multiplex\n",
    " *   **Budget:**               (float64)    Presupuesto\n",
    " *   **Movie_length:**         (float64)    Duración de la película\n",
    " *   **Lead_ Actor_Rating:**   (float64)    Puntaje sobre el actor principal\n",
    " *   **Lead_Actress_rating:**  (float64)    Puntaje sobre la actriz principal\n",
    " *   **Director_rating:**      (float64)    Puntaje sobre el Director\n",
    " *   **Producer_rating:**      (float64)    Puntaje sobre el Productor\n",
    " *   **Critic_rating:**        (float64)    Puntaje que le puso la crítica\n",
    " *   **Trailer_views:**        (int64)      Cantidad de vistas del Trailer\n",
    " *   **3D_available:**         (object)     Si esta disponible en 3D (Yes/No)\n",
    " *   **Time_taken:**           (float64)    Duración de la película\n",
    " *   **Twitter_hastags:**      (float64)    Cantidad de menciones en twitter\n",
    " *   **Genre:**                (object)     Genero de la película\n",
    " *   **Avg_age_actors:**       (int64)      Edad promedio de los actores\n",
    " *   **Num_multiplex:**        (int64)      Cantidad de Multiplex\n",
    " *   **Collection:**           (int64)      Recaudación\n",
    " *   **Start_Tech_Oscar:**     (int64)      Si recibió un oscar o no.\n",
    " \n",
    " "
   ]
  },
  {
   "cell_type": "markdown",
   "id": "incorporated-cotton",
   "metadata": {},
   "source": [
    "## Imports"
   ]
  },
  {
   "cell_type": "code",
   "execution_count": null,
   "id": "stone-folks",
   "metadata": {},
   "outputs": [],
   "source": [
    "import numpy as np\n",
    "import pandas as pd\n",
    "from sklearn import tree\n",
    "from sklearn.model_selection import GridSearchCV\n",
    "from sklearn.metrics import accuracy_score, confusion_matrix\n",
    "import matplotlib.pyplot as plt\n"
   ]
  },
  {
   "cell_type": "markdown",
   "id": "terminal-palace",
   "metadata": {},
   "source": [
    "## Ejercicio 1\n",
    "\n",
    "Con la preparación de datos que hicimos en la notebook de checkpoint, creemos dos archivos csv uno para los datos de train y otro para los datos de test.\n",
    "\n",
    "Guardemos los archivos en la carpeta Data de esta clase, con los campos separados por tab."
   ]
  },
  {
   "cell_type": "code",
   "execution_count": null,
   "id": "liquid-audio",
   "metadata": {},
   "outputs": [],
   "source": []
  },
  {
   "cell_type": "code",
   "execution_count": null,
   "id": "devoted-technology",
   "metadata": {},
   "outputs": [],
   "source": []
  },
  {
   "cell_type": "markdown",
   "id": "union-eating",
   "metadata": {},
   "source": [
    "## Ejercicio 2\n",
    "\n",
    "Leamos desde la carpeta Data, en instancias de DataFrame, los datos de train y test resultados del paso anterior."
   ]
  },
  {
   "cell_type": "code",
   "execution_count": null,
   "id": "generic-match",
   "metadata": {},
   "outputs": [],
   "source": []
  },
  {
   "cell_type": "code",
   "execution_count": null,
   "id": "fewer-smoke",
   "metadata": {},
   "outputs": [],
   "source": []
  },
  {
   "cell_type": "code",
   "execution_count": null,
   "id": "prescription-peeing",
   "metadata": {},
   "outputs": [],
   "source": []
  },
  {
   "cell_type": "code",
   "execution_count": null,
   "id": "focal-mattress",
   "metadata": {},
   "outputs": [],
   "source": []
  },
  {
   "cell_type": "markdown",
   "id": "scenic-granny",
   "metadata": {},
   "source": [
    "## Ejercicio 3\n",
    "\n",
    "Usando los parametros por default de `DecisionTreeClassifier`entrenemos un modelo de clasificación que prediga si una película es ganadora de Un premio Oscar\n",
    "\n",
    "Grafiquemos el árbol obtenido y observemos la complejidad del modelo creado."
   ]
  },
  {
   "cell_type": "code",
   "execution_count": null,
   "id": "boolean-amino",
   "metadata": {},
   "outputs": [],
   "source": []
  },
  {
   "cell_type": "code",
   "execution_count": null,
   "id": "deadly-tension",
   "metadata": {},
   "outputs": [],
   "source": []
  },
  {
   "cell_type": "markdown",
   "id": "after-shoulder",
   "metadata": {},
   "source": [
    "## Ejercicio 4\n",
    "\n",
    "Sabemos que el modelo por default usa Gini como criterio de pureza.\n",
    "\n",
    "Comparemos el modelo obtenido en el punto anterior con uno que use entropía. \n",
    "\n",
    "Para eso, entrenemos el modelo con todos los parámetros por default, excepto el criterio de pureza, y evaluemos las métricas de accuracy y confusion matrix para ambos modelos.\n",
    "\n",
    "Grafiquemos el modelo obtenido.\n",
    "\n",
    "¿Podemos concluir que la performance de ambos modelos es equivalente?\n",
    "\n",
    "Estos modelos ¿emplean en la clasificación todas las variables disponibles en el dataset? ¿Difieren las variables seleccionadas en cada uno?"
   ]
  },
  {
   "cell_type": "code",
   "execution_count": null,
   "id": "confident-fisher",
   "metadata": {},
   "outputs": [],
   "source": []
  },
  {
   "cell_type": "code",
   "execution_count": null,
   "id": "registered-agent",
   "metadata": {},
   "outputs": [],
   "source": []
  },
  {
   "cell_type": "markdown",
   "id": "rapid-liquid",
   "metadata": {},
   "source": [
    "## Ejercicio 5\n",
    "\n",
    "Elijamos las cuatro variables de mayor importancia como variables predictoras y entrenemos otros dos modelos usando gini y entropia, definiendo como profundidad máxima 7.\n",
    "\n",
    "Comparemos la performance obtenida con los entrenados en los ejercicios anteriores.\n",
    "\n",
    "Grafiquemos estos dos nuevos modelos.\n",
    "\n",
    "¿Qué podemos concluir comparando los cuatro modelos entrenados?\n"
   ]
  },
  {
   "cell_type": "code",
   "execution_count": null,
   "id": "supposed-requirement",
   "metadata": {},
   "outputs": [],
   "source": []
  },
  {
   "cell_type": "code",
   "execution_count": null,
   "id": "electronic-balance",
   "metadata": {},
   "outputs": [],
   "source": []
  }
 ],
 "metadata": {
  "kernelspec": {
   "display_name": "Python 3",
   "language": "python",
   "name": "python3"
  },
  "language_info": {
   "codemirror_mode": {
    "name": "ipython",
    "version": 3
   },
   "file_extension": ".py",
   "mimetype": "text/x-python",
   "name": "python",
   "nbconvert_exporter": "python",
   "pygments_lexer": "ipython3",
   "version": "3.8.5"
  }
 },
 "nbformat": 4,
 "nbformat_minor": 5
}
