{
 "cells": [
  {
   "cell_type": "code",
   "execution_count": null,
   "metadata": {},
   "outputs": [],
   "source": [
    "# initial setup\n",
    "%run \"../../../common/0_notebooks_base_setup.py\"\n"
   ]
  },
  {
   "cell_type": "markdown",
   "metadata": {},
   "source": [
    "---\n",
    "\n",
    "<img src='../../../common/logo_DH.png' align='left' width=35%/>\n"
   ]
  },
  {
   "cell_type": "markdown",
   "metadata": {},
   "source": [
    "# Preprocesamiento del dataset\n",
    "\n",
    "#### Comentario:\n",
    "\n",
    "En esta notebook prepararemos el dataset para el desafío de la clase. Al final de esta notebook se genera el archivo 'dataset_preprocessed.csv' que ya se encuentra en la carpeta 'Datos'. \n",
    "\n",
    "Esta notebook sirve para repasar limpieza, imputación, manejo de fechas y joins con pandas. Se sugiere hacer la práctica de la clase partiendo del dataset ya preprocesado para ver los temas de feature selection y balance de clases y que esta notebook la revisen fuera del horario de clase.\n",
    "\n",
    "---\n",
    "\n",
    "Trabajaremos con un dataset de campañas de marketing. El mismo está representado por un conjunto de tablas relacionales:\n",
    "\n",
    "* train: relaciona id de consumidores, cupones de descuento, campaña de marketing y contiene la variable target 'redemption_status', que dice si el cupón fue canjeado o no.\n",
    "\n",
    "* campaign data: fecha de inicio y finalización de la campaña y tipo de campaña\n",
    "\n",
    "* customer_demographics: rango etareo, estado civil, tamaño de la familia, nro de hijos, nivel de ingresos, propietario/inquilino/hipoteca\n",
    "\n",
    "* coupon_item_mapping: cada cupón da beneficios sobre distintos items\n",
    "\n",
    "* item_data: marca, tipo de marca y categoría del item\n",
    "\n",
    "* customer_transaction_data: datos sobre las compras hechas por los consumidores. No sabemos en qué compra usaron el cupón de descuento, tal vez la promoción sirve para más de una compra.\n",
    "\n",
    "<img src='../Data/marketing/Schema.png'>\n",
    "\n",
    "<b>Origen del dataset:</b>\n",
    "\n",
    "https://www.kaggle.com/vasudeva009/coupon-redemption-smote-feature-selection/data"
   ]
  },
  {
   "cell_type": "code",
   "execution_count": null,
   "metadata": {},
   "outputs": [],
   "source": [
    "import pandas as pd\n",
    "from sklearn.impute import SimpleImputer"
   ]
  },
  {
   "cell_type": "code",
   "execution_count": null,
   "metadata": {},
   "outputs": [],
   "source": [
    "train=pd.read_csv('../Data/marketing/train.csv')\n",
    "cust_dem=pd.read_csv('../Data/marketing/customer_demographics.csv')\n",
    "trans=pd.read_csv('../Data/marketing/customer_transaction_data.csv')\n",
    "coupon_item=pd.read_csv('../Data/marketing/coupon_item_mapping.csv')\n",
    "item_data=pd.read_csv('../Data/marketing/item_data.csv')\n",
    "campaign_data=pd.read_csv('../Data/marketing/campaign_data.csv')"
   ]
  },
  {
   "cell_type": "markdown",
   "metadata": {},
   "source": [
    "---\n",
    "#### Train dataframe"
   ]
  },
  {
   "cell_type": "markdown",
   "metadata": {},
   "source": [
    "* Mirar el dataframe y chequear si hay valores nulos"
   ]
  },
  {
   "cell_type": "code",
   "execution_count": null,
   "metadata": {},
   "outputs": [],
   "source": [
    "display(train.head(3))\n",
    "print('\\nHay nulos:',train.isnull().any().any())"
   ]
  },
  {
   "cell_type": "markdown",
   "metadata": {},
   "source": [
    "---\n",
    "#### Customer demographics dataframe\n",
    "\n",
    "* Chequear si hay nulos\n",
    "* Mirar los dtypes\n",
    "* Imputar los valores nulos por la moda de las columnas\n",
    "* Llevar las columnas de variables categóricas a dtype 'category'"
   ]
  },
  {
   "cell_type": "code",
   "execution_count": null,
   "metadata": {},
   "outputs": [],
   "source": [
    "# cust_dem\n",
    "display(cust_dem.head(3))\n",
    "print('\\n-------------------------')\n",
    "print('Dtypes:\\n') \n",
    "print(cust_dem.dtypes)\n",
    "print('\\n-------------------------')\n",
    "print('Nulos:\\n')      \n",
    "print(cust_dem.isnull().sum())"
   ]
  },
  {
   "cell_type": "markdown",
   "metadata": {},
   "source": [
    "Imputamos valores faltantes por la moda"
   ]
  },
  {
   "cell_type": "code",
   "execution_count": null,
   "metadata": {},
   "outputs": [],
   "source": [
    "# Imputamos valores faltantes\n",
    "imp=SimpleImputer(strategy='most_frequent')\n",
    "cust_dem[['marital_status','no_of_children']]=imp.fit_transform(cust_dem[['marital_status','no_of_children']])\n",
    "print('Nulos:\\n')      \n",
    "print(cust_dem.isnull().sum())"
   ]
  },
  {
   "cell_type": "markdown",
   "metadata": {},
   "source": [
    "Llevamos variables a tipo categóricas"
   ]
  },
  {
   "cell_type": "code",
   "execution_count": null,
   "metadata": {},
   "outputs": [],
   "source": [
    "# categorical variables\n",
    "cust_dem.iloc[:,1:]=cust_dem.iloc[:,1:].astype('category')\n",
    "print('Dtypes:\\n') \n",
    "print(cust_dem.dtypes)"
   ]
  },
  {
   "cell_type": "markdown",
   "metadata": {},
   "source": [
    "---\n",
    "#### Transactions dataframe\n",
    "* Chequear si hay nulos\n",
    "* ver los dtypes\n",
    "* dropear la columna 'dates'"
   ]
  },
  {
   "cell_type": "code",
   "execution_count": null,
   "metadata": {},
   "outputs": [],
   "source": [
    "# trans data\n",
    "display(trans.head(3))\n",
    "print('\\nHay nulos:',trans.isnull().any().any())\n",
    "print('\\nDtypes:\\n') \n",
    "print(trans.dtypes)"
   ]
  },
  {
   "cell_type": "code",
   "execution_count": null,
   "metadata": {},
   "outputs": [],
   "source": [
    "trans=trans.drop('date',axis=1)"
   ]
  },
  {
   "cell_type": "code",
   "execution_count": null,
   "metadata": {},
   "outputs": [],
   "source": [
    "trans.head(3)\n",
    "print('\\nDtypes:\\n') \n",
    "print(trans.dtypes)"
   ]
  },
  {
   "cell_type": "markdown",
   "metadata": {},
   "source": [
    "---\n",
    "#### Coupon-Item dataframe\n",
    "* chequear si hay nulos"
   ]
  },
  {
   "cell_type": "code",
   "execution_count": null,
   "metadata": {},
   "outputs": [],
   "source": [
    "# Coupon item map\n",
    "display(coupon_item.head(3))\n",
    "print('\\nHay nulos:',coupon_item.isnull().any().any())"
   ]
  },
  {
   "cell_type": "markdown",
   "metadata": {},
   "source": [
    "---\n",
    "#### Item dataframe\n",
    "* Chequear si hay nulos\n",
    "* Llevar las columnas categóricas a dtype 'category'"
   ]
  },
  {
   "cell_type": "code",
   "execution_count": null,
   "metadata": {},
   "outputs": [],
   "source": [
    "# Item Data\n",
    "display(item_data.head(3))\n",
    "item_data[['brand','brand_type','category']]=item_data[['brand','brand_type','category']].astype('category')\n",
    "print(item_data.dtypes)\n",
    "print('\\nHay nulos:',item_data.isnull().any().any())"
   ]
  },
  {
   "cell_type": "markdown",
   "metadata": {},
   "source": [
    "---\n",
    "#### Campaign dataframe\n",
    "* Chequear si hay valores nulos\n",
    "* Llevar las columnas start_date y end_date a tipo TimeStamp\n",
    "* Calcular el período de las promos como end_date - start_date\n",
    "* Dropear start_date y end_date"
   ]
  },
  {
   "cell_type": "code",
   "execution_count": null,
   "metadata": {},
   "outputs": [],
   "source": [
    "display(campaign_data.head(3))\n",
    "print(campaign_data.dtypes)\n",
    "print('\\nHay nulos:',campaign_data.isnull().any().any())"
   ]
  },
  {
   "cell_type": "markdown",
   "metadata": {},
   "source": [
    "Calculamos cuanto tiempo duró la promoción"
   ]
  },
  {
   "cell_type": "code",
   "execution_count": null,
   "metadata": {},
   "outputs": [],
   "source": [
    "# Calculamos el período de la promoción\n",
    "\n",
    "start_date=pd.to_datetime(campaign_data['start_date'],dayfirst=True)\n",
    "end_date=pd.to_datetime(campaign_data['end_date'],dayfirst=True)\n",
    "\n",
    "campaign_data['duration']=end_date-start_date # Periodo de validez del cupon\n",
    "campaign_data['duration']=campaign_data['duration'].apply(lambda x: x.days)\n",
    "\n",
    "campaign_data['campaign_type']=campaign_data['campaign_type'].astype('category')\n",
    "\n",
    "campaign_data['month']=start_date.apply(lambda x : x.month).astype('category')\n",
    "campaign_data['year']=start_date.apply(lambda x : x.year).astype('category')\n"
   ]
  },
  {
   "cell_type": "code",
   "execution_count": null,
   "metadata": {},
   "outputs": [],
   "source": [
    "campaign_data=campaign_data.drop(['start_date','end_date'],axis=1)\n",
    "\n",
    "display(campaign_data.head(3))\n",
    "print(campaign_data.dtypes)"
   ]
  },
  {
   "cell_type": "markdown",
   "metadata": {},
   "source": [
    "---\n",
    "#### Merge Dataframes\n",
    "1. Hacer un merge entre train y campaign_data. ¿Qué columna va en 'on'? ¿Qué criterio va en 'how'?\n",
    "2. Hacer un merge de 1. con customer_demographics. ¿Qué columna va en 'on'? ¿Qué criterio va en 'how'?\n",
    "3. Chequear valores nulos en 2.\n",
    "4. Imputamos valores faltantes en las columnas demográficas. Para eso, sampleamos con reposición de la distribución conjunta de atributos demográficos observados.\n",
    "5. Merge con las transacciones promedio por sujeto:\n",
    "* Hacer un groupby por consumidor en el dataframe de transaccions\n",
    "* Agregar el valor medio a las variables continuas ('selling_price','quantity', etc)\n",
    "* merge con el dataframe obtenido en 4. ¿Qué columna va en 'on'? ¿Qué criterio va en 'how'?\n",
    "6. Merge con transacciones promedio por item\n",
    "* a. Hacer un groupby por item en el dataframe de transaccions\n",
    "* b. Calcular el valor medio de las variables continuas\n",
    "* c. Hacer un merge con el dataframe 'coupon_item'\n",
    "* d. Hacer un merge de c. con item_data ¿Qué columna va en 'on'? ¿Qué criterio va en 'how'?\n",
    "* e. Hacer un groupby del dataframe d. agrupando por 'coupon_id'. Para cada grupo calcular la moda de las variables categóricas 'brand','brand_type,'category'\n",
    "* f. Hacer un groupby del dataframe d. agrupando por 'coupon_id'. Para cada grupo calcular la media de las variables continuas.\n",
    "* g. Hacer un merge de d. con e. y luego con f. ¿Qué columna va en 'on'? ¿Qué criterio va en 'how'?\n",
    "7. Guardar el dataframe resultante en un csv para la práctica de la clase."
   ]
  },
  {
   "cell_type": "code",
   "execution_count": null,
   "metadata": {},
   "outputs": [],
   "source": [
    "train.shape,campaign_data.shape, cust_dem.shape,trans.shape,coupon_item.shape,item_data.shape"
   ]
  },
  {
   "cell_type": "markdown",
   "metadata": {},
   "source": [
    "<b>Hacemos un merge entre train y campaign data"
   ]
  },
  {
   "cell_type": "code",
   "execution_count": null,
   "metadata": {},
   "outputs": [],
   "source": [
    "data=pd.merge(train,campaign_data,on='campaign_id',how='left')\n",
    "print(data.shape)\n",
    "data.isnull().sum()\n"
   ]
  },
  {
   "cell_type": "markdown",
   "metadata": {},
   "source": [
    "<b> Merge con los datos demográficos de los consumidores"
   ]
  },
  {
   "cell_type": "code",
   "execution_count": null,
   "metadata": {},
   "outputs": [],
   "source": [
    "data=pd.merge(data,cust_dem,on='customer_id',how='left')\n",
    "data.shape"
   ]
  },
  {
   "cell_type": "code",
   "execution_count": null,
   "metadata": {},
   "outputs": [],
   "source": [
    "data.isnull().sum()"
   ]
  },
  {
   "cell_type": "markdown",
   "metadata": {},
   "source": [
    "<b> Imputamos valores faltentes</b>\n",
    "\n",
    "Vamos a samplear de la distribución conjunta de variables con valores faltantes. De esta manera conservamos la variabilidad de los datos (no imputamos todo por la moda) y la estructura de correlaciones entre variables (no asignamos un valor de age_range incompatible con uno el de family_size)"
   ]
  },
  {
   "cell_type": "code",
   "execution_count": null,
   "metadata": {},
   "outputs": [],
   "source": [
    "# Imputamos valores faltantes sampleando con reposicion de los datos observados\n",
    "# De esta manera preservamos la estructura de correlaciones observada entre las columnas demográficas\n",
    "\n",
    "impute_columns=['age_range','marital_status','rented','family_size','no_of_children','income_bracket']\n",
    "\n",
    "null_mask=data[impute_columns].isnull().all(axis=1)\n",
    "random_samples=data.loc[~null_mask,impute_columns].sample(n=null_mask.sum(),replace=True)\n",
    "data.loc[null_mask,impute_columns]=random_samples.values\n",
    "\n",
    "data.isnull().sum()"
   ]
  },
  {
   "cell_type": "markdown",
   "metadata": {},
   "source": [
    "<b> Merge con información de transacciones promedio por cliente</b>\n",
    "\n",
    "Agregamos la información de la actividad de compras típicas hechas por cada consumidor."
   ]
  },
  {
   "cell_type": "code",
   "execution_count": null,
   "metadata": {},
   "outputs": [],
   "source": [
    "# Merge transactions: calculo la media de los valores de las transacciones por sujeto\n",
    "trans_customer=trans.groupby('customer_id')[['quantity','selling_price','other_discount','coupon_discount']].agg('mean')\n",
    "trans_customer.columns=['mean_'+col+'_cust' for col in trans_customer.columns]\n",
    "trans_customer=trans_customer.reset_index();"
   ]
  },
  {
   "cell_type": "code",
   "execution_count": null,
   "metadata": {},
   "outputs": [],
   "source": [
    "data=pd.merge(data,trans_customer,on='customer_id',how='left')"
   ]
  },
  {
   "cell_type": "code",
   "execution_count": null,
   "metadata": {},
   "outputs": [],
   "source": [
    "data.shape"
   ]
  },
  {
   "cell_type": "code",
   "execution_count": null,
   "metadata": {},
   "outputs": [],
   "source": [
    "data.head(3)"
   ]
  },
  {
   "cell_type": "markdown",
   "metadata": {},
   "source": [
    "<b> Transacciones promedio por item </b>\n",
    "\n",
    "Tenemos el mapeo entre cupón e item. Vamos a agregar información sobre cuánto se consume cada item."
   ]
  },
  {
   "cell_type": "code",
   "execution_count": null,
   "metadata": {},
   "outputs": [],
   "source": [
    "# Merge with item data\n",
    "trans_item=trans.groupby('item_id')[['quantity','selling_price','other_discount','coupon_discount']].mean()\n",
    "trans_item.columns=['mean_'+col+'_item' for col in trans_item.columns]\n",
    "trans_item=trans_item.reset_index()\n",
    "trans_item.head(3)\n"
   ]
  },
  {
   "cell_type": "code",
   "execution_count": null,
   "metadata": {},
   "outputs": [],
   "source": [
    "coupon_item_trans=pd.merge(coupon_item,trans_item,on='item_id',how='inner')\n",
    "coupon_item_trans_brand=pd.merge(coupon_item_trans,item_data,on='item_id',how='left')\n",
    "coupon_item_trans_brand.head(3)"
   ]
  },
  {
   "cell_type": "code",
   "execution_count": null,
   "metadata": {},
   "outputs": [],
   "source": [
    "coupon_item_trans_brand.dtypes"
   ]
  },
  {
   "cell_type": "code",
   "execution_count": null,
   "metadata": {},
   "outputs": [],
   "source": [
    "gb=coupon_item_trans_brand.groupby('coupon_id')\n",
    "coupon_category=gb['category'].apply(lambda x:x.value_counts().index[0])\n",
    "coupon_brand_type=gb['brand_type'].apply(lambda x:x.value_counts().index[0])\n",
    "coupon_brand=gb['brand'].apply(lambda x:x.value_counts().index[0])\n",
    "\n",
    "coupon_brand=pd.concat([pd.DataFrame(coupon_brand),pd.DataFrame(coupon_brand_type),pd.DataFrame(coupon_category)], axis=1).reset_index()\n",
    "coupon_brand.head(3)"
   ]
  },
  {
   "cell_type": "code",
   "execution_count": null,
   "metadata": {},
   "outputs": [],
   "source": [
    "coupon_item_sales=coupon_item_trans_brand.groupby('coupon_id')[['mean_quantity_item','mean_selling_price_item','mean_other_discount_item','mean_coupon_discount_item']].mean()\n",
    "coupon_item_sales.columns=[col+'_coupon' for col in coupon_item_sales]\n",
    "coupon_item_sales=coupon_item_sales.reset_index()\n",
    "coupon_item_sales.head(3)\n"
   ]
  },
  {
   "cell_type": "code",
   "execution_count": null,
   "metadata": {},
   "outputs": [],
   "source": [
    "data=pd.merge(data,coupon_item_sales,on='coupon_id',how='left')"
   ]
  },
  {
   "cell_type": "code",
   "execution_count": null,
   "metadata": {},
   "outputs": [],
   "source": [
    "data=pd.merge(data,coupon_brand,on='coupon_id',how='left')"
   ]
  },
  {
   "cell_type": "code",
   "execution_count": null,
   "metadata": {},
   "outputs": [],
   "source": [
    "data[['brand','brand_type','category']]=data[['brand','brand_type','category']].astype('category')\n",
    "data.dtypes"
   ]
  },
  {
   "cell_type": "code",
   "execution_count": null,
   "metadata": {},
   "outputs": [],
   "source": [
    "data.shape"
   ]
  },
  {
   "cell_type": "code",
   "execution_count": null,
   "metadata": {},
   "outputs": [],
   "source": [
    "# Guardamos los datos\n",
    "data.to_csv('../Data/marketing/data_preprocessed.csv')"
   ]
  },
  {
   "cell_type": "code",
   "execution_count": null,
   "metadata": {},
   "outputs": [],
   "source": []
  }
 ],
 "metadata": {
  "kernelspec": {
   "display_name": "Python 3",
   "language": "python",
   "name": "python3"
  },
  "language_info": {
   "codemirror_mode": {
    "name": "ipython",
    "version": 3
   },
   "file_extension": ".py",
   "mimetype": "text/x-python",
   "name": "python",
   "nbconvert_exporter": "python",
   "pygments_lexer": "ipython3",
   "version": "3.8.5"
  }
 },
 "nbformat": 4,
 "nbformat_minor": 4
}
