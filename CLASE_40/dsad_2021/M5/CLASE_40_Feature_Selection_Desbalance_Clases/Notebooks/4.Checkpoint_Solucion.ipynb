{
 "cells": [
  {
   "cell_type": "code",
   "execution_count": 1,
   "metadata": {},
   "outputs": [
    {
     "name": "stdout",
     "output_type": "stream",
     "text": [
      "/media/paulati/Nuevo vol/paula/dh/2021/dsad_2021_paula/common\n",
      "default checking\n",
      "Running command `conda list`... ok\n",
      "jupyterlab=2.2.6 already installed\n",
      "pandas=1.1.5 already installed\n",
      "bokeh=2.2.3 already installed\n",
      "seaborn=0.11.0 already installed\n",
      "matplotlib=3.3.2 already installed\n",
      "ipywidgets=7.5.1 already installed\n",
      "pytest=6.2.1 already installed\n",
      "chardet=4.0.0 already installed\n",
      "psutil=5.7.2 already installed\n",
      "scipy=1.5.2 already installed\n",
      "statsmodels=0.12.1 already installed\n",
      "scikit-learn=0.23.2 already installed\n",
      "xlrd=2.0.1 already installed\n",
      "nltk=3.5 already installed\n",
      "unidecode=1.1.1 already installed\n",
      "pydotplus=2.0.2 already installed\n",
      "pandas-datareader=0.9.0 already installed\n",
      "flask=1.1.2 already installed\n"
     ]
    }
   ],
   "source": [
    "# initial setup\n",
    "%run \"../../../common/0_notebooks_base_setup.py\"\n"
   ]
  },
  {
   "cell_type": "markdown",
   "metadata": {},
   "source": [
    "---\n",
    "\n",
    "<img src='../../../common/logo_DH.png' align='left' width=35%/>\n"
   ]
  },
  {
   "cell_type": "markdown",
   "metadata": {},
   "source": [
    "## Checkpoint - Desbalance de clases + Feature Selection\n",
    "\n",
    "En este checkpoint trabajaremos con el dataset de préstamos crediticios 'loans.csv'.\n",
    "\n",
    "En la primera parte combinaremos los elementos vistos en la práctica guiada de clases desbalanceadas para resamplear el data set de entrenamiento.\n",
    "\n",
    "Luego implementaremos un modelo de regresión logística combinado con feature selection por eliminación recursiva."
   ]
  },
  {
   "cell_type": "code",
   "execution_count": 2,
   "metadata": {},
   "outputs": [],
   "source": [
    "import numpy as np\n",
    "import pandas as pd\n",
    "import matplotlib.pyplot as plt\n",
    "from sklearn.linear_model import LogisticRegression,LogisticRegressionCV\n",
    "from sklearn.model_selection import train_test_split, StratifiedKFold\n",
    "from sklearn.preprocessing import StandardScaler,OneHotEncoder\n",
    "from imblearn.under_sampling import RandomUnderSampler\n",
    "from imblearn.over_sampling import SMOTENC\n",
    "from sklearn.metrics import accuracy_score,plot_confusion_matrix,roc_auc_score, classification_report, confusion_matrix, precision_recall_curve, auc\n"
   ]
  },
  {
   "cell_type": "code",
   "execution_count": 3,
   "metadata": {},
   "outputs": [
    {
     "data": {
      "text/plain": [
       "0    0.811179\n",
       "1    0.188821\n",
       "Name: bad_loans, dtype: float64"
      ]
     },
     "execution_count": 3,
     "metadata": {},
     "output_type": "execute_result"
    }
   ],
   "source": [
    "loans = pd.read_csv('../Data/loans.csv',low_memory=False)\n",
    "loans.dropna(inplace=True)\n",
    "loans.reset_index(drop=True,inplace=True)\n",
    "loans['bad_loans'].value_counts(normalize=True)"
   ]
  },
  {
   "cell_type": "code",
   "execution_count": 4,
   "metadata": {},
   "outputs": [
    {
     "data": {
      "text/html": [
       "<div>\n",
       "<style scoped>\n",
       "    .dataframe tbody tr th:only-of-type {\n",
       "        vertical-align: middle;\n",
       "    }\n",
       "\n",
       "    .dataframe tbody tr th {\n",
       "        vertical-align: top;\n",
       "    }\n",
       "\n",
       "    .dataframe thead th {\n",
       "        text-align: right;\n",
       "    }\n",
       "</style>\n",
       "<table border=\"1\" class=\"dataframe\">\n",
       "  <thead>\n",
       "    <tr style=\"text-align: right;\">\n",
       "      <th></th>\n",
       "      <th>grade</th>\n",
       "      <th>home_ownership</th>\n",
       "      <th>emp_length_num</th>\n",
       "      <th>sub_grade</th>\n",
       "      <th>short_emp</th>\n",
       "      <th>dti</th>\n",
       "      <th>term</th>\n",
       "      <th>purpose</th>\n",
       "      <th>int_rate</th>\n",
       "      <th>last_delinq_none</th>\n",
       "      <th>last_major_derog_none</th>\n",
       "      <th>revol_util</th>\n",
       "      <th>total_rec_late_fee</th>\n",
       "      <th>payment_inc_ratio</th>\n",
       "      <th>bad_loans</th>\n",
       "    </tr>\n",
       "  </thead>\n",
       "  <tbody>\n",
       "    <tr>\n",
       "      <th>90454</th>\n",
       "      <td>B</td>\n",
       "      <td>OWN</td>\n",
       "      <td>1</td>\n",
       "      <td>B4</td>\n",
       "      <td>1</td>\n",
       "      <td>11.79</td>\n",
       "      <td>36 months</td>\n",
       "      <td>home_improvement</td>\n",
       "      <td>13.11</td>\n",
       "      <td>1</td>\n",
       "      <td>1</td>\n",
       "      <td>87.8</td>\n",
       "      <td>0.0</td>\n",
       "      <td>4.31968</td>\n",
       "      <td>0</td>\n",
       "    </tr>\n",
       "    <tr>\n",
       "      <th>63463</th>\n",
       "      <td>D</td>\n",
       "      <td>MORTGAGE</td>\n",
       "      <td>0</td>\n",
       "      <td>D4</td>\n",
       "      <td>1</td>\n",
       "      <td>24.84</td>\n",
       "      <td>36 months</td>\n",
       "      <td>other</td>\n",
       "      <td>19.05</td>\n",
       "      <td>1</td>\n",
       "      <td>1</td>\n",
       "      <td>62.3</td>\n",
       "      <td>0.0</td>\n",
       "      <td>2.29281</td>\n",
       "      <td>0</td>\n",
       "    </tr>\n",
       "    <tr>\n",
       "      <th>5416</th>\n",
       "      <td>B</td>\n",
       "      <td>RENT</td>\n",
       "      <td>1</td>\n",
       "      <td>B5</td>\n",
       "      <td>1</td>\n",
       "      <td>3.06</td>\n",
       "      <td>36 months</td>\n",
       "      <td>other</td>\n",
       "      <td>12.69</td>\n",
       "      <td>1</td>\n",
       "      <td>1</td>\n",
       "      <td>31.7</td>\n",
       "      <td>0.0</td>\n",
       "      <td>3.01860</td>\n",
       "      <td>0</td>\n",
       "    </tr>\n",
       "  </tbody>\n",
       "</table>\n",
       "</div>"
      ],
      "text/plain": [
       "      grade home_ownership  emp_length_num sub_grade  short_emp    dti  \\\n",
       "90454     B            OWN               1        B4          1  11.79   \n",
       "63463     D       MORTGAGE               0        D4          1  24.84   \n",
       "5416      B           RENT               1        B5          1   3.06   \n",
       "\n",
       "             term           purpose  int_rate  last_delinq_none  \\\n",
       "90454   36 months  home_improvement     13.11                 1   \n",
       "63463   36 months             other     19.05                 1   \n",
       "5416    36 months             other     12.69                 1   \n",
       "\n",
       "       last_major_derog_none  revol_util  total_rec_late_fee  \\\n",
       "90454                      1        87.8                 0.0   \n",
       "63463                      1        62.3                 0.0   \n",
       "5416                       1        31.7                 0.0   \n",
       "\n",
       "       payment_inc_ratio  bad_loans  \n",
       "90454            4.31968          0  \n",
       "63463            2.29281          0  \n",
       "5416             3.01860          0  "
      ]
     },
     "execution_count": 4,
     "metadata": {},
     "output_type": "execute_result"
    }
   ],
   "source": [
    "loans.sample(3)"
   ]
  },
  {
   "cell_type": "markdown",
   "metadata": {},
   "source": [
    "### 1. Train test split \n",
    "\n",
    "Hagamos un train test split estratificado por la variable target (bad loans). \n",
    "\n",
    "¿Cuál es el desbalance de clases?\n",
    "\n",
    "¿Cuál es el ratio clase mayoritaria/minoritaria?"
   ]
  },
  {
   "cell_type": "code",
   "execution_count": 5,
   "metadata": {},
   "outputs": [
    {
     "name": "stdout",
     "output_type": "stream",
     "text": [
      "Tamaño del training set:\n",
      "(91952, 14)\n",
      "\n",
      "Balance de clases:\n",
      "0    74590\n",
      "1    17362\n",
      "Name: bad_loans, dtype: int64\n",
      "\n",
      "Balance de clases norm:\n",
      "0    0.811184\n",
      "1    0.188816\n",
      "Name: bad_loans, dtype: float64\n",
      "\n",
      "Ratio entre las clases:\n",
      "0.23276578629843142\n"
     ]
    }
   ],
   "source": [
    "# Train test split\n",
    "X_train,X_test,y_train,y_test=train_test_split(loans.drop(['bad_loans'],axis=1),\\\n",
    "                                               loans['bad_loans'],stratify=loans['bad_loans'],random_state=0)\n",
    "\n",
    "print('Tamaño del training set:')\n",
    "print(X_train.shape)\n",
    "\n",
    "print('\\nBalance de clases:')\n",
    "print(y_train.value_counts(normalize=False))\n",
    "\n",
    "\n",
    "print('\\nBalance de clases norm:')\n",
    "print(y_train.value_counts(normalize=True))\n",
    "\n",
    "print('\\nRatio entre las clases:')\n",
    "print((y_train==1).sum()/(y_train==0).sum())\n",
    "\n",
    "\n"
   ]
  },
  {
   "cell_type": "markdown",
   "metadata": {},
   "source": [
    "### 2. SMOTE-NC \n",
    "\n",
    "Implementemos la herramienta SMOTENC para resamplear la clase minoritaria en el dataset de entrenamiento. Para ello debemos identificar previamente las variables categóricas y pasarlas como argumento al instanciar el objeto SMOTENC.\n",
    "\n",
    "Usemos un sampling_strategy=0.5, de modo que la clase mayoritaria tenga el doble de observaciones que la minoritaria.\n",
    "\n",
    "¿Cuál es el balance de clases ahora?\n",
    "\n",
    "¿Cuál es el ratio mayoritaria/minoritaria?"
   ]
  },
  {
   "cell_type": "code",
   "execution_count": 6,
   "metadata": {},
   "outputs": [],
   "source": [
    "categorical_cols=(X_train.dtypes=='object').values\n",
    "numerical_cols= ~categorical_cols\n",
    "\n",
    "sm=SMOTENC(categorical_features=categorical_cols ,sampling_strategy=0.5)\n",
    "X_train_os,y_train_os=sm.fit_resample(X_train,y_train)"
   ]
  },
  {
   "cell_type": "code",
   "execution_count": 7,
   "metadata": {},
   "outputs": [
    {
     "name": "stdout",
     "output_type": "stream",
     "text": [
      "Balance de clases:\n",
      "0    74590\n",
      "1    37295\n",
      "Name: bad_loans, dtype: int64\n",
      "\n",
      "Balance de clases norm:\n",
      "0    0.666667\n",
      "1    0.333333\n",
      "Name: bad_loans, dtype: float64\n",
      "\n",
      "Ratio entre las clases:\n",
      "0.5\n",
      "\n",
      "Tamaño de Xtrain:\n",
      "(111885, 14)\n"
     ]
    }
   ],
   "source": [
    "print('Balance de clases:')\n",
    "print(y_train_os.value_counts(normalize=False))\n",
    "\n",
    "print('\\nBalance de clases norm:')\n",
    "print(y_train_os.value_counts(normalize=True))\n",
    "\n",
    "print('\\nRatio entre las clases:')\n",
    "print((y_train_os==1).sum()/(y_train_os==0).sum())\n",
    "\n",
    "print('\\nTamaño de Xtrain:')\n",
    "print(X_train_os.shape)"
   ]
  },
  {
   "cell_type": "markdown",
   "metadata": {},
   "source": [
    "### 3. Undersampling\n",
    "\n",
    "A partir del dataset aumentado en el paso anterior balanceemos las clases sampleando aleatoriamente observaciones de la clase mayoritaria. Para esto usemos un RandomUnderSampler con sampling_strategy='majority' de modo que queden las clases balanceadas.\n",
    "\n",
    "¿Cómo quedó el balance de clases?\n",
    "\n",
    "¿Y el tamaño del dataset de entrenamiento?\n"
   ]
  },
  {
   "cell_type": "code",
   "execution_count": 8,
   "metadata": {},
   "outputs": [
    {
     "name": "stdout",
     "output_type": "stream",
     "text": [
      "Balance de clases:\n",
      "1    37295\n",
      "0    37295\n",
      "Name: bad_loans, dtype: int64\n",
      "\n",
      "Balance de clases norm:\n",
      "1    0.5\n",
      "0    0.5\n",
      "Name: bad_loans, dtype: float64\n",
      "\n",
      "Ratio entre las clases:\n",
      "1.0\n",
      "\n",
      "Tamaño de Xtrain:\n",
      "(74590, 14)\n"
     ]
    }
   ],
   "source": [
    "undersampler=RandomUnderSampler(sampling_strategy='majority');\n",
    "X_train_us,y_train_us=undersampler.fit_resample(X_train_os,y_train_os)\n",
    "\n",
    "print('Balance de clases:')\n",
    "print(y_train_us.value_counts(normalize=False))\n",
    "\n",
    "print('\\nBalance de clases norm:')\n",
    "print(y_train_us.value_counts(normalize=True))\n",
    "\n",
    "print('\\nRatio entre las clases:')\n",
    "print((y_train_us==1).sum()/(y_train_us==0).sum())\n",
    "\n",
    "print('\\nTamaño de Xtrain:')\n",
    "print(X_train_us.shape)"
   ]
  },
  {
   "cell_type": "markdown",
   "metadata": {},
   "source": [
    "### 4. Variables dummy\n",
    "\n",
    "Utilicemos la herramienta OneHotEncoder para llevar a dummies las variables categoricas del training set. Luego transformamos de manera conforme las categóricas del test set."
   ]
  },
  {
   "cell_type": "code",
   "execution_count": 9,
   "metadata": {},
   "outputs": [
    {
     "name": "stdout",
     "output_type": "stream",
     "text": [
      "(74590, 64)\n",
      "(30651, 64)\n"
     ]
    }
   ],
   "source": [
    "# dummy variables\n",
    "\n",
    "enc=OneHotEncoder(drop='first',sparse=False)\n",
    "train_dummies=enc.fit_transform(X_train_us.loc[:,categorical_cols])\n",
    "train_dummies=pd.DataFrame(train_dummies)\n",
    "train_dummies.columns=[x for cat_list in enc.categories_ for x in cat_list[1:]]\n",
    "\n",
    "X_train_final=X_train_us.loc[:,numerical_cols].join(train_dummies)\n",
    "\n",
    "test_dummies=enc.transform(X_test.loc[:,categorical_cols])\n",
    "test_dummies=pd.DataFrame(test_dummies)\n",
    "test_dummies.columns=[x for cat_list in enc.categories_ for x in cat_list[1:]]\n",
    "test_dummies.index=X_test.index\n",
    "\n",
    "X_test_final=X_test.loc[:,numerical_cols].join(test_dummies)\n",
    "\n",
    "y_train_final=y_train_us # solo por nomenclatura\n",
    "y_test_final=y_test # solo por nomenclatura\n",
    "\n",
    "print(X_train_final.shape)\n",
    "print(X_test_final.shape)"
   ]
  },
  {
   "cell_type": "markdown",
   "metadata": {},
   "source": [
    "### 5. Regresión logística\n",
    "\n",
    "Implementemos una regresión logística usando LogisticRegressionCV. \n",
    "\n",
    "¿Qué medida de scoring conviene usar?\n",
    "\n",
    "Veamos las métricas principales de performance en el test set: \n",
    "\n",
    "* matriz de confusión\n",
    "* clasification report\n",
    "* área bajo la curva ROC\n",
    "* área bajo la curva Precision-Recall"
   ]
  },
  {
   "cell_type": "code",
   "execution_count": 10,
   "metadata": {},
   "outputs": [],
   "source": [
    "def logistic_regression_report(X_train,X_test,y_train,y_test):\n",
    "    \n",
    "    scaler=StandardScaler()    \n",
    "        \n",
    "    X_train_sc=scaler.fit_transform(X_train)\n",
    "    X_test_sc=scaler.transform(X_test)\n",
    "        \n",
    "    model=LogisticRegressionCV(scoring='f1')\n",
    "        \n",
    "    model.fit(X_train_sc,y_train)\n",
    "    y_pred=model.predict(X_test_sc)\n",
    "    y_proba=model.predict_proba(X_test_sc)\n",
    "    \n",
    "    print(classification_report(y_test,y_pred))\n",
    "    \n",
    "    print('Area bajo la curva ROC:',np.round(roc_auc_score(y_test,y_proba[:,1]),4))\n",
    "    \n",
    "    precision, recall,threshold=precision_recall_curve(y_test,y_proba[:,1]);\n",
    "\n",
    "    print('Area bajo la curva Precision-Recall:',np.round(auc(recall,precision),4))\n",
    "\n",
    "    plot_confusion_matrix(model,X_test_sc,y_test,cmap='Blues');\n",
    "    \n",
    "    return model\n",
    "    "
   ]
  },
  {
   "cell_type": "code",
   "execution_count": 11,
   "metadata": {},
   "outputs": [
    {
     "name": "stdout",
     "output_type": "stream",
     "text": [
      "              precision    recall  f1-score   support\n",
      "\n",
      "           0       0.87      0.62      0.72     24863\n",
      "           1       0.27      0.60      0.37      5788\n",
      "\n",
      "    accuracy                           0.61     30651\n",
      "   macro avg       0.57      0.61      0.55     30651\n",
      "weighted avg       0.76      0.61      0.65     30651\n",
      "\n",
      "Area bajo la curva ROC: 0.6552\n",
      "Area bajo la curva Precision-Recall: 0.2932\n"
     ]
    },
    {
     "data": {
      "image/png": "[encoded data removed]",
      "text/plain": [
       "<Figure size 432x288 with 2 Axes>"
      ]
     },
     "metadata": {
      "needs_background": "light"
     },
     "output_type": "display_data"
    }
   ],
   "source": [
    "m=logistic_regression_report(X_train_final,X_test_final,y_train_final,y_test_final)"
   ]
  },
  {
   "cell_type": "markdown",
   "metadata": {},
   "source": [
    "### 6. Feature selection\n",
    "\n",
    "Utilicen la herramientsa RFECV combinada con una regresión logística para seleccionar el mejor subset de features. Usen una regresión logística con el hiperparámetro de regularización C ajustado en el punto anterior. \n",
    "\n",
    "Lo correcto sería optimizar este parámetro para cada subset de features, es decir hacer dos validaciones cruzadas anidadas (una para RFE y otra para la regresión logística), pero por \n",
    "economía de cómputo lo haremos con el valor de C fijo.\n",
    "\n",
    "¿Cuáles features fueron seleccionadas?\n",
    "\n",
    "¿Cuáles fueron descartadas?\n",
    "\n",
    "¿Cuál es la performance del modelo?"
   ]
  },
  {
   "cell_type": "code",
   "execution_count": 12,
   "metadata": {},
   "outputs": [
    {
     "data": {
      "text/plain": [
       "RFECV(cv=StratifiedKFold(n_splits=5, random_state=None, shuffle=True),\n",
       "      estimator=LogisticRegression(C=0.000774263682681127), n_jobs=3,\n",
       "      scoring='f1')"
      ]
     },
     "execution_count": 12,
     "metadata": {},
     "output_type": "execute_result"
    }
   ],
   "source": [
    "from sklearn.feature_selection import RFECV\n",
    "from sklearn.model_selection import StratifiedKFold\n",
    "\n",
    "skf = StratifiedKFold(n_splits=5, shuffle = True)\n",
    "\n",
    "model = LogisticRegression(C=m.C_[0]) # La penalización óptima podría depender del nro de Features, pero para no sobrecargar el cómputo no optimizaremos C para cada representación de los datos\n",
    "\n",
    "scaler=StandardScaler()    \n",
    "X_train_sc=scaler.fit_transform(X_train_final)\n",
    "X_test_sc=scaler.transform(X_test_final)\n",
    "\n",
    "\n",
    "selector = RFECV(model, scoring='f1',step = 1, cv=skf, verbose=0,n_jobs=3)\n",
    "selector.fit(X_train_sc, y_train_final)"
   ]
  },
  {
   "cell_type": "code",
   "execution_count": 13,
   "metadata": {},
   "outputs": [
    {
     "data": {
      "text/plain": [
       "(74590, 64)"
      ]
     },
     "execution_count": 13,
     "metadata": {},
     "output_type": "execute_result"
    }
   ],
   "source": [
    "scaler.fit_transform(X_train_final).shape"
   ]
  },
  {
   "cell_type": "code",
   "execution_count": 14,
   "metadata": {},
   "outputs": [
    {
     "name": "stdout",
     "output_type": "stream",
     "text": [
      "              precision    recall  f1-score   support\n",
      "\n",
      "           0       0.87      0.61      0.72     24863\n",
      "           1       0.27      0.60      0.37      5788\n",
      "\n",
      "    accuracy                           0.61     30651\n",
      "   macro avg       0.57      0.61      0.54     30651\n",
      "weighted avg       0.76      0.61      0.65     30651\n",
      "\n",
      "Area bajo la curva ROC: 0.654\n",
      "Area bajo la curva Precision-Recall: 0.2931\n"
     ]
    },
    {
     "data": {
      "text/plain": [
       "LogisticRegressionCV(scoring='f1')"
      ]
     },
     "execution_count": 14,
     "metadata": {},
     "output_type": "execute_result"
    },
    {
     "data": {
      "image/png": "[encoded data removed]",
      "text/plain": [
       "<Figure size 432x288 with 2 Axes>"
      ]
     },
     "metadata": {
      "needs_background": "light"
     },
     "output_type": "display_data"
    }
   ],
   "source": [
    "X_train_reduced=X_train_sc[:,selector.support_]\n",
    "X_test_reduced=X_test_sc[:,selector.support_]\n",
    "logistic_regression_report(X_train_reduced,X_test_reduced,y_train_final,y_test_final)"
   ]
  },
  {
   "cell_type": "code",
   "execution_count": null,
   "metadata": {},
   "outputs": [],
   "source": [
    "print('Features Conservadas:')\n",
    "print(X_train_final.columns[selector.support_])\n",
    "\n",
    "print('\\nFeatures Descartadas')\n",
    "print(X_train_final.columns[~selector.support_])"
   ]
  }
 ],
 "metadata": {
  "kernelspec": {
   "display_name": "Python 3",
   "language": "python",
   "name": "python3"
  },
  "language_info": {
   "codemirror_mode": {
    "name": "ipython",
    "version": 3
   },
   "file_extension": ".py",
   "mimetype": "text/x-python",
   "name": "python",
   "nbconvert_exporter": "python",
   "pygments_lexer": "ipython3",
   "version": "3.8.5"
  }
 },
 "nbformat": 4,
 "nbformat_minor": 4
}
