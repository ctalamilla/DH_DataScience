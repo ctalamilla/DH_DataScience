{
 "cells": [
  {
   "cell_type": "code",
   "execution_count": null,
   "metadata": {},
   "outputs": [],
   "source": [
    "# initial setup\n",
    "%run \"../../../common/0_notebooks_base_setup.py\"\n"
   ]
  },
  {
   "cell_type": "markdown",
   "metadata": {},
   "source": [
    "---\n",
    "\n",
    "<img src='../../../common/logo_DH.png' align='left' width=35%/>\n"
   ]
  },
  {
   "cell_type": "markdown",
   "metadata": {},
   "source": [
    "# Preprocesamiento del dataset\n",
    "\n",
    "#### Comentario:\n",
    "\n",
    "En esta notebook prepararemos el dataset para el desafío de la clase. Al final de esta notebook se genera el archivo 'dataset_preprocessed.csv' que ya se encuentra en la carpeta 'Datos'. \n",
    "\n",
    "Esta notebook sirve para repasar limpieza, imputación, manejo de fechas y joins con pandas. Se sugiere hacer la práctica de la clase partiendo del dataset ya preprocesado para ver los temas de feature selection y balance de clases y que esta notebook la revisen fuera del horario de clase.\n",
    "\n",
    "---\n",
    "\n",
    "Trabajaremos con un dataset de campañas de marketing. El mismo está representado por un conjunto de tablas relacionales:\n",
    "\n",
    "* train: relaciona id de consumidores, cupones de descuento, campaña de marketing y contiene la variable target 'redemption_status', que dice si el cupón fue canjeado o no.\n",
    "\n",
    "* campaign data: fecha de inicio y finalización de la campaña y tipo de campaña\n",
    "\n",
    "* customer_demographics: rango etareo, estado civil, tamaño de la familia, nro de hijos, nivel de ingresos, propietario/inquilino/hipoteca\n",
    "\n",
    "* coupon_item_mapping: cada cupón da beneficios sobre distintos items\n",
    "\n",
    "* item_data: marca, tipo de marca y categoría del item\n",
    "\n",
    "* customer_transaction_data: datos sobre las compras hechas por los consumidores. No sabemos en qué compra usaron el cupón de descuento, tal vez la promoción sirve para más de una compra.\n",
    "\n",
    "<img src='../Data/marketing/Schema.png'>\n",
    "\n",
    "<b>Origen del dataset:</b>\n",
    "\n",
    "https://www.kaggle.com/vasudeva009/coupon-redemption-smote-feature-selection/data"
   ]
  },
  {
   "cell_type": "code",
   "execution_count": null,
   "metadata": {},
   "outputs": [],
   "source": [
    "import pandas as pd\n",
    "from sklearn.impute import SimpleImputer"
   ]
  },
  {
   "cell_type": "code",
   "execution_count": null,
   "metadata": {},
   "outputs": [],
   "source": [
    "train=pd.read_csv('../Data/marketing/train.csv')\n",
    "cust_dem=pd.read_csv('../Data/marketing/customer_demographics.csv')\n",
    "trans=pd.read_csv('../Data/marketing/customer_transaction_data.csv')\n",
    "coupon_item=pd.read_csv('../Data/marketing/coupon_item_mapping.csv')\n",
    "item_data=pd.read_csv('../Data/marketing/item_data.csv')\n",
    "campaign_data=pd.read_csv('../Data/marketing/campaign_data.csv')"
   ]
  },
  {
   "cell_type": "markdown",
   "metadata": {},
   "source": [
    "---\n",
    "#### Train dataframe"
   ]
  },
  {
   "cell_type": "markdown",
   "metadata": {},
   "source": [
    "* Mirar el dataframe y chequear si hay valores nulos"
   ]
  },
  {
   "cell_type": "markdown",
   "metadata": {},
   "source": [
    "---\n",
    "#### Customer demographics dataframe\n",
    "\n",
    "* Chequear si hay nulos\n",
    "* Mirar los dtypes\n",
    "* Imputar los valores nulos por la moda de las columnas\n",
    "* Llevar las columnas de variables categóricas a dtype 'category'"
   ]
  },
  {
   "cell_type": "markdown",
   "metadata": {},
   "source": [
    "---\n",
    "#### Transactions dataframe\n",
    "* Chequear si hay nulos\n",
    "* ver los dtypes\n",
    "* dropear la columna 'dates'"
   ]
  },
  {
   "cell_type": "markdown",
   "metadata": {},
   "source": [
    "---\n",
    "#### Coupon-Item dataframe\n",
    "* chequear si hay nulos"
   ]
  },
  {
   "cell_type": "markdown",
   "metadata": {},
   "source": [
    "---\n",
    "#### Item dataframe\n",
    "* Chequear si hay nulos\n",
    "* Llevar las columnas categóricas a dtype 'category'"
   ]
  },
  {
   "cell_type": "markdown",
   "metadata": {},
   "source": [
    "---\n",
    "#### Campaign dataframe\n",
    "* Chequear si hay valores nulos\n",
    "* Llevar las columnas start_date y end_date a tipo TimeStamp\n",
    "* Calcular el período de las promos como end_date - start_date\n",
    "* Dropear start_date y end_date"
   ]
  },
  {
   "cell_type": "markdown",
   "metadata": {},
   "source": [
    "---\n",
    "#### Merge Dataframes\n",
    "1. Hacer un merge entre train y campaign_data. ¿Qué columna va en 'on'? ¿Qué criterio va en 'how'?\n",
    "2. Hacer un merge de 1. con customer_demographics. ¿Qué columna va en 'on'? ¿Qué criterio va en 'how'?\n",
    "3. Chequear valores nulos en 2.\n",
    "4. Imputamos valores faltantes en las columnas demográficas. Para eso, sampleamos con reposición de la distribución conjunta de atributos demográficos observados.\n",
    "5. Merge con las transacciones promedio por sujeto:\n",
    "* Hacer un groupby por consumidor en el dataframe de transaccions\n",
    "* Agregar el valor medio a las variables continuas ('selling_price','quantity', etc)\n",
    "* merge con el dataframe obtenido en 4. ¿Qué columna va en 'on'? ¿Qué criterio va en 'how'?\n",
    "6. Merge con transacciones promedio por item\n",
    "* a. Hacer un groupby por item en el dataframe de transaccions\n",
    "* b. Calcular el valor medio de las variables continuas\n",
    "* c. Hacer un merge con el dataframe 'coupon_item'\n",
    "* d. Hacer un merge de c. con item_data ¿Qué columna va en 'on'? ¿Qué criterio va en 'how'?\n",
    "* e. Hacer un groupby del dataframe d. agrupando por 'coupon_id'. Para cada grupo calcular la moda de las variables categóricas 'brand','brand_type,'category'\n",
    "* f. Hacer un groupby del dataframe d. agrupando por 'coupon_id'. Para cada grupo calcular la media de las variables continuas.\n",
    "* g. Hacer un merge de d. con e. y luego con f. ¿Qué columna va en 'on'? ¿Qué criterio va en 'how'?\n",
    "7. Guardar el dataframe resultante en un csv para la práctica de la clase."
   ]
  },
  {
   "cell_type": "code",
   "execution_count": null,
   "metadata": {},
   "outputs": [],
   "source": []
  }
 ],
 "metadata": {
  "kernelspec": {
   "display_name": "Python 3",
   "language": "python",
   "name": "python3"
  },
  "language_info": {
   "codemirror_mode": {
    "name": "ipython",
    "version": 3
   },
   "file_extension": ".py",
   "mimetype": "text/x-python",
   "name": "python",
   "nbconvert_exporter": "python",
   "pygments_lexer": "ipython3",
   "version": "3.8.5"
  }
 },
 "nbformat": 4,
 "nbformat_minor": 4
}
