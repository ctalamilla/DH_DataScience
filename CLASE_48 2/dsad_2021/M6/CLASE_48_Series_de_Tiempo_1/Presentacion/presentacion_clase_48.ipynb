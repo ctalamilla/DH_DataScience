{
 "cells": [
  {
   "cell_type": "code",
   "execution_count": null,
   "metadata": {
    "slideshow": {
     "slide_type": "skip"
    }
   },
   "outputs": [],
   "source": [
    "# initial setup\n",
    "%run \"../../../common/0_notebooks_base_setup.py\"\n"
   ]
  },
  {
   "cell_type": "markdown",
   "metadata": {
    "slideshow": {
     "slide_type": "slide"
    }
   },
   "source": [
    "<link rel=\"stylesheet\" href=\"../../../common/dhds.css\">\n",
    "<div class=\"Table\">\n",
    "    <div class=\"Row\">\n",
    "        <div class=\"Cell grey left\"> <img src=\"https://raw.githubusercontent.com/Digital-House-DATA/ds_blend_2021_img/master/M6/CLASE_48_Series_de_Tiempo_1/Presentacion/img/M6_CLASE_48_portada.gif\" align=\"center\" width=\"70%\"/></div>\n",
    "        <div class=\"Cell right\">\n",
    "            <div class=\"div-logo\"><img src=\"https://raw.githubusercontent.com/Digital-House-DATA/ds_blend_2021_img/master/common/logo_DH.png\" align=\"center\" width=70% /></div>\n",
    "            <div class=\"div-curso\">DATA SCIENCE</div>\n",
    "            <div class=\"div-modulo\">MÓDULO 6</div>\n",
    "            <div class=\"div-contenido\">Series de Tiempo 1\n",
    "\n",
    "</div>\n",
    "        </div>\n",
    "    </div>\n",
    "</div>"
   ]
  },
  {
   "cell_type": "markdown",
   "metadata": {
    "slideshow": {
     "slide_type": "slide"
    }
   },
   "source": [
    "### Agenda\n",
    "\n",
    "---\n",
    "\n",
    "- Series de tiempo.\n",
    "   - Definición.\n",
    "   - Componentes.\n",
    "   - Descomposición.\n",
    "---\n",
    "\n",
    "- Modelos básicos para pronósticos.\n",
    "   - Random Walk.\n",
    "   - Media constante.\n",
    "   - Tendencia lineal.\n",
    "   - Tendencia cuadrática.\n",
    "   - Tendencia con transformación logarítmica con y sin Estacionalidad mensual.\n",
    "   - Media movil.\n",
    "   - Single Exponential Smoothing."
   ]
  },
  {
   "cell_type": "markdown",
   "metadata": {
    "slideshow": {
     "slide_type": "slide"
    }
   },
   "source": [
    "<div class=\"div-dhds-fondo-1\"> Introducción\n",
    "<img src=\"https://raw.githubusercontent.com/Digital-House-DATA/ds_blend_2021_img/master/M3/CLASE_21_Regresion_Lineal_Simple/Presentacion/img/M3_CLASE_21_separador.png\" align=\"center\" />\n",
    "\n",
    "</div>"
   ]
  },
  {
   "cell_type": "markdown",
   "metadata": {
    "slideshow": {
     "slide_type": "slide"
    }
   },
   "source": [
    "### Introducción\n",
    "\n",
    "---\n",
    "Una **serie de tiempo** es un conjunto de observaciones tomadas en *intervalos regulares* (lags), **ordenadas** por el momento en que se produjeron.\n",
    "\n",
    "**Time series analysis** (*análisis de series de tiempo*) comprende métodos para *proyectar la evolución*, obtener *estadísticas y otras características* de una variable a lo largo del tiempo.\n",
    "\n",
    "**Time series forecasting** (*Pronóstico de series de tiempo*) es el uso de los modelos para predecir futuros valores.\n",
    "\n",
    "La serie de tiempo se proyecta como una *variable* (eje y) en *función del tiempo* (eje x). \n",
    "\n",
    "<img src=\"https://raw.githubusercontent.com/Digital-House-DATA/ds_blend_2021_img/master/M6/CLASE_48_Series_de_Tiempo_1/Presentacion/img/M6_CLASE_48_001_serie.JPG\" alt=\"serie\" width=50% height=35% align=\"center\"/>"
   ]
  },
  {
   "cell_type": "markdown",
   "metadata": {
    "slideshow": {
     "slide_type": "subslide"
    }
   },
   "source": [
    "Existen muchos ejemplos de datos que se pueden expresar como series de tiempo:\n",
    "\n",
    "- Variables macroeconómicas (PBI, inflación, reservas del BCRA...).\n",
    "\n",
    "- Movimientos comerciales (ventas, compras, pagos a proveedores...).\n",
    "\n",
    "- Datos de producción (horas de horno, material consumido...).\n",
    "\n",
    "- Consumo energético.\n",
    "\n",
    "- Activos financieros.\n",
    "\n",
    "- Variables sociales (mortalidad infantil, pobreza...)."
   ]
  },
  {
   "cell_type": "markdown",
   "metadata": {
    "slideshow": {
     "slide_type": "slide"
    }
   },
   "source": [
    "### Componentes de una serie de tiempo\n",
    "\n",
    "---\n",
    "\n",
    "Podemos encontrar en una serie de tiempo **cuatro componentes**:\n",
    "\n",
    "- **Tendencia** (Trend): es el componente *permanente*, el efecto persistente en el tiempo.\n",
    "\n",
    "- **Estacionalidad** (Seasonality): es un patrón estacional que se *repite con regularidad*. \n",
    "\n",
    "- **Componente aleatoria** (Residual - Remainder): son shocks que no presentan un efecto duradero. Se los define también como ruido o movimientos random.\n",
    "\n",
    "- **Ciclos** (Cycle): otro tipo de dinámica no capturada por la tendencia o estacionalidad. \n",
    "\n",
    "<img src=\"https://raw.githubusercontent.com/Digital-House-DATA/ds_blend_2021_img/master/M6/CLASE_48_Series_de_Tiempo_1/Presentacion/img/M6_CLASE_48_002_componentes.jpg\" alt=\"componentes\" width=50% height=30% align=\"center\"/>"
   ]
  },
  {
   "cell_type": "markdown",
   "metadata": {
    "slideshow": {
     "slide_type": "subslide"
    }
   },
   "source": [
    "El módulo `statsmodels.api`, método `tsa.seasonal_decompose` genera gráficos con: *la serie de tiempo, la tendencia, la estacionalidad y el componente aleatorio*."
   ]
  },
  {
   "cell_type": "code",
   "execution_count": null,
   "metadata": {
    "slideshow": {
     "slide_type": "skip"
    }
   },
   "outputs": [],
   "source": [
    "import pandas as pd\n",
    "import numpy as np\n",
    "\n",
    "import matplotlib.pyplot as plt\n",
    "#import matplotlib as mpl\n",
    "import seaborn as sns\n",
    "\n",
    "import statsmodels.api as sm\n",
    "import statsmodels.formula.api as smf\n",
    "import statsmodels.tsa.api as smt\n",
    "\n",
    "from scipy import stats\n",
    "from statistics import mode\n",
    "\n",
    "import warnings\n",
    "warnings.filterwarnings('ignore')"
   ]
  },
  {
   "cell_type": "code",
   "execution_count": null,
   "metadata": {
    "slideshow": {
     "slide_type": "skip"
    }
   },
   "outputs": [],
   "source": [
    "df = pd.read_excel(\"../Data/Supertienda.xls\")\n",
    "mobiliario = df.loc[df['Categoria'] == 'Mobiliario']"
   ]
  },
  {
   "cell_type": "code",
   "execution_count": null,
   "metadata": {
    "slideshow": {
     "slide_type": "skip"
    }
   },
   "outputs": [],
   "source": [
    "mobiliariogb = mobiliario.groupby('Fecha_pedido')['Ventas'].sum().reset_index()\n",
    "mobiliariogb = mobiliariogb.set_index('Fecha_pedido')\n",
    "y = mobiliariogb['Ventas'].resample('MS').mean()"
   ]
  },
  {
   "cell_type": "code",
   "execution_count": null,
   "metadata": {
    "slideshow": {
     "slide_type": "fragment"
    }
   },
   "outputs": [],
   "source": [
    "import statsmodels.api as sm\n",
    "plt.figure(figsize=(16,10))\n",
    "decomposition = sm.tsa.seasonal_decompose(y, model='additive')\n",
    "decomposition.plot()\n",
    "plt.show()"
   ]
  },
  {
   "cell_type": "markdown",
   "metadata": {
    "slideshow": {
     "slide_type": "slide"
    }
   },
   "source": [
    "### Descomposición de una serie de tiempo\n",
    "\n",
    "---\n",
    "\n",
    "Podemos pensar en descomponer una serie de tiempo en sus componentes. Básicamente, existen dos formas:\n",
    "\n",
    "- **Descomposición aditiva**:$$ y_t = T_t + S_t + C_t + \\varepsilon_t. $$\n",
    "\n",
    "donde T es la tendencia, S es la estacionalidad, C es el ciclo y $ \\varepsilon $ es el error aleatorio.\n",
    "\n",
    "- **Descomposición multiplicativa**: $$ y_t = T_t * S_t * C_t * \\varepsilon_t. $$"
   ]
  },
  {
   "cell_type": "markdown",
   "metadata": {
    "slideshow": {
     "slide_type": "subslide"
    }
   },
   "source": [
    "- La descomposición aditiva es útil cuando la variación estacional se *mantiene relativamente constante* (lineal).\n",
    "\n",
    "  O dicho de otra forma, la altura de sus picos es constante. \n",
    "\n",
    "- La descomposición multiplicativa es útil cuando la *tendencia crece* y la *amplitud de la variación estacional aumenta* (exponencial).\n",
    "\n",
    "  O por el contrario, cuando la tendencia y la amplitud decrecen.\n",
    "\n",
    "<img src=\"https://raw.githubusercontent.com/Digital-House-DATA/ds_blend_2021_img/master/M6/CLASE_48_Series_de_Tiempo_1/Presentacion/img/M6_CLASE_48_003_descomposicion.png\" alt=\"descomposicion\" width=80% height=50% align=\"center\"/>\n"
   ]
  },
  {
   "cell_type": "markdown",
   "metadata": {
    "slideshow": {
     "slide_type": "slide"
    }
   },
   "source": [
    "<div class=\"div-dhds-fondo-1\"> Modelos básicos para pronósticos\n",
    "<img src=\"https://raw.githubusercontent.com/Digital-House-DATA/ds_blend_2021_img/master/M3/CLASE_21_Regresion_Lineal_Simple/Presentacion/img/M3_CLASE_21_separador.png\" align=\"center\" />\n",
    "\n",
    "</div>"
   ]
  },
  {
   "cell_type": "markdown",
   "metadata": {
    "slideshow": {
     "slide_type": "slide"
    }
   },
   "source": [
    "### Introducción\n",
    "\n",
    "---\n",
    "Estudiamos modelos aplicados a los componentes de las series para generar predicciones.\n",
    "\n",
    "Para cada modelo:\n",
    "\n",
    "- Lo *definimos*. \n",
    "\n",
    "- Lo *ajustamos* a los datos de train.\n",
    "\n",
    "- Lo *evaluamos* usado RMSE sobre los datos de test.\n",
    "\n",
    "- Lo *comparamos* con otros modelos."
   ]
  },
  {
   "cell_type": "markdown",
   "metadata": {
    "slideshow": {
     "slide_type": "fragment"
    }
   },
   "source": [
    "Recordemos que el **error cuadrático medio raíz (RMSE)** compara los valores predichos con los valores observados.\n",
    "\n",
    "$${RMSE} = \\sqrt{{\\frac {1}{n}} \\sum _{i=1}^{n}(y_{i}-\\hat{y_{i}})^2}$$"
   ]
  },
  {
   "cell_type": "code",
   "execution_count": null,
   "metadata": {
    "slideshow": {
     "slide_type": "fragment"
    }
   },
   "outputs": [],
   "source": [
    "def RMSE(predicted, actual):\n",
    "    mse = (predicted - actual) ** 2\n",
    "    rmse = np.sqrt(mse.sum() / mse.count())\n",
    "    return rmse"
   ]
  },
  {
   "cell_type": "markdown",
   "metadata": {
    "slideshow": {
     "slide_type": "slide"
    }
   },
   "source": [
    "<div class=\"div-dhds-fondo-1\">  Dataset\n",
    "<img src=\"https://raw.githubusercontent.com/Digital-House-DATA/ds_blend_2021_img/master/M3/CLASE_21_Regresion_Lineal_Simple/Presentacion/img/M3_CLASE_21_separador.png\" align=\"center\" />\n",
    "\n",
    "</div>"
   ]
  },
  {
   "cell_type": "markdown",
   "metadata": {
    "slideshow": {
     "slide_type": "slide"
    }
   },
   "source": [
    "### Dataset\n",
    "\n",
    "---\n",
    "\n",
    "Vamos a usar datos de ventas de una empresa multinacional en varios paises, entre los años 2018 y 2021.\n",
    "\n",
    "Consideramos las ventas de la categoría Muebles."
   ]
  },
  {
   "cell_type": "code",
   "execution_count": null,
   "metadata": {
    "slideshow": {
     "slide_type": "fragment"
    }
   },
   "outputs": [],
   "source": [
    "df = pd.read_excel(\"../Data/Supertienda.xls\")\n",
    "mobiliario = df.loc[df['Categoria'] == 'Mobiliario']\n",
    "mobiliario.head(2)"
   ]
  },
  {
   "cell_type": "markdown",
   "metadata": {
    "slideshow": {
     "slide_type": "fragment"
    }
   },
   "source": [
    "Mensualizamos las ventas por fecha de pedido.\n",
    "\n",
    "Primero agrupamos las ventas por el atributo 'Fecha_pedido'. Y *creamos un índice sobre el atributo* para indicar la fecha que se usa en la serie de tiempo."
   ]
  },
  {
   "cell_type": "code",
   "execution_count": null,
   "metadata": {
    "slideshow": {
     "slide_type": "fragment"
    }
   },
   "outputs": [],
   "source": [
    "mobiliariogb = mobiliario.groupby('Fecha_pedido')['Ventas'].sum().reset_index()\n",
    "mobiliariogb = mobiliariogb.set_index('Fecha_pedido')"
   ]
  },
  {
   "cell_type": "markdown",
   "metadata": {
    "slideshow": {
     "slide_type": "subslide"
    }
   },
   "source": [
    "La función `resample` de Pandas, permite hacer *downsampling*, llevar la serie a un espacio de tiempo más amplio. \n",
    "\n",
    "En nuestro caso, pasamos de días a meses; `MS` indica \"a comienzo de mes\".\n",
    "\n",
    "Y con la función `mean()` agrupamos todas las ventas del mes y le calculamos el promedio."
   ]
  },
  {
   "cell_type": "code",
   "execution_count": null,
   "metadata": {
    "slideshow": {
     "slide_type": "fragment"
    }
   },
   "outputs": [],
   "source": [
    "df_ventas = mobiliariogb['Ventas'].resample('MS').mean().to_frame(); df_ventas.head(2)"
   ]
  },
  {
   "cell_type": "code",
   "execution_count": null,
   "metadata": {
    "slideshow": {
     "slide_type": "fragment"
    }
   },
   "outputs": [],
   "source": [
    "plt.figure(figsize=(4,3)); df_ventas.plot(); plt.show()"
   ]
  },
  {
   "cell_type": "markdown",
   "metadata": {
    "slideshow": {
     "slide_type": "slide"
    }
   },
   "source": [
    "### Dataset\n",
    "\n",
    "---\n",
    "Dividimos el dataset en train y test. Al ser una serie de tiempo, tenemos que poner *`shuffle=False`* (que no mezcle las observaciones), creando una continuidad entre los sets de entrenamiento y de testeo."
   ]
  },
  {
   "cell_type": "code",
   "execution_count": null,
   "metadata": {
    "slideshow": {
     "slide_type": "fragment"
    }
   },
   "outputs": [],
   "source": [
    "from sklearn.model_selection import train_test_split\n",
    "\n",
    "df_train, df_test = train_test_split(df_ventas, test_size=12, random_state=42, shuffle=False)"
   ]
  },
  {
   "cell_type": "markdown",
   "metadata": {
    "slideshow": {
     "slide_type": "fragment"
    }
   },
   "source": [
    "Para train considera los primeros tres años, y para test el último, 2021."
   ]
  },
  {
   "cell_type": "code",
   "execution_count": null,
   "metadata": {
    "slideshow": {
     "slide_type": "fragment"
    }
   },
   "outputs": [],
   "source": [
    "# Vemos los últimos datos del set de entrenamiento:\n",
    "df_train.tail(2)"
   ]
  },
  {
   "cell_type": "code",
   "execution_count": null,
   "metadata": {
    "slideshow": {
     "slide_type": "fragment"
    }
   },
   "outputs": [],
   "source": [
    "# Vemos los primeros datos del set de testeo:\n",
    "df_test.head(2)"
   ]
  },
  {
   "cell_type": "markdown",
   "metadata": {
    "slideshow": {
     "slide_type": "slide"
    }
   },
   "source": [
    "<div class=\"div-dhds-fondo-1\">  Random Walk\n",
    "<img src=\"https://raw.githubusercontent.com/Digital-House-DATA/ds_blend_2021_img/master/M3/CLASE_21_Regresion_Lineal_Simple/Presentacion/img/M3_CLASE_21_separador.png\" align=\"center\" />\n",
    "\n",
    "</div>"
   ]
  },
  {
   "cell_type": "markdown",
   "metadata": {
    "slideshow": {
     "slide_type": "slide"
    }
   },
   "source": [
    "### Definición\n",
    "\n",
    "---\n",
    "\n",
    "Decimos que un proceso $ {Y_t} $ es **random walk** (sigue una trayectoria al azar) si:\n",
    "\n",
    "$$ \\ {Y_t} = Y_ {t-1} + \\varepsilon,  $$\n",
    "   donde $\\varepsilon$ es **ruido blanco** (White Noise). \n",
    "\n",
    "El *ruido blanco* es la parte de la serie que no se puede predecir a partir de la evidencia.\n",
    "\n",
    "Si el modelo de *random walk* sigue a la tendencia, la representamos con una constante $d$, llamada **drift** (deriva). \n",
    "\n",
    "Se genera un modelo **random walk with drift** (con deriva):\n",
    "\n",
    "$$ \\ {Y_t} = Y_ {t-1} + d + \\varepsilon $$\n"
   ]
  },
  {
   "cell_type": "markdown",
   "metadata": {
    "slideshow": {
     "slide_type": "subslide"
    }
   },
   "source": [
    "- La serie de White Noise $ \\varepsilon_t $ cumple con:\n",
    "\n",
    "   - Media (μ) = 0 y la varianza constante. Se puede escribir como $ WN(0,σ²)$ .\n",
    "   \n",
    "   - Es completamente random. Por eso se lo llama ruido.\n",
    "   \n",
    "   - Son observaciones independientes identicamente distribuidas (i.i.d.).\n",
    "   \n",
    "   - Tienen cero correlación entre ellas.\n",
    "   \n",
    "Si las observaciones siguen una distribución normal, se lo llama Gaussian White Noise Gaussiano. "
   ]
  },
  {
   "cell_type": "markdown",
   "metadata": {
    "slideshow": {
     "slide_type": "slide"
    }
   },
   "source": [
    "### Predicción\n",
    "\n",
    "---\n",
    "\n",
    "El caso más simple es suponer que el valor de la serie Yₜ se predice como el valor previo Yₜ₋₁, es decir, que tendremos valor de cambio cero.\n",
    "\n",
    "Se llama *pronóstico ingenuo* (naive).\n",
    "\n",
    "Un ejemplo de la vida real puede ser la estimación de los valores de las acciones."
   ]
  },
  {
   "cell_type": "markdown",
   "metadata": {
    "slideshow": {
     "slide_type": "subslide"
    }
   },
   "source": [
    "Vamos a realizar este modelo.\n",
    "\n",
    "Generamos el desplazamiento de nuestro target en el set de entrenamiento (lag=1):"
   ]
  },
  {
   "cell_type": "code",
   "execution_count": null,
   "metadata": {
    "slideshow": {
     "slide_type": "fragment"
    }
   },
   "outputs": [],
   "source": [
    "df_train[\"VentasShift1\"] = df_train.Ventas.shift()\n",
    "\n",
    "# La primera observación nos va a quedar en nan, la reemplazamos por el valor siguente:\n",
    "df_train[\"VentasShift1\"].fillna(method='bfill', inplace=True)\n",
    "df_train.head(3)"
   ]
  },
  {
   "cell_type": "markdown",
   "metadata": {
    "slideshow": {
     "slide_type": "fragment"
    }
   },
   "source": [
    "Generamos el desplazamiento en el set de test (lag=1):"
   ]
  },
  {
   "cell_type": "code",
   "execution_count": null,
   "metadata": {
    "slideshow": {
     "slide_type": "fragment"
    }
   },
   "outputs": [],
   "source": [
    "df_test[\"VentasShift1\"] = df_test.Ventas.shift()\n",
    "\n",
    "df_test[\"VentasShift1\"].fillna(method='bfill', inplace=True)\n",
    "df_test.head(3)"
   ]
  },
  {
   "cell_type": "markdown",
   "metadata": {
    "slideshow": {
     "slide_type": "subslide"
    }
   },
   "source": [
    "Definimos como *random walk* al desplazamiento en un valor (shift=1)."
   ]
  },
  {
   "cell_type": "code",
   "execution_count": null,
   "metadata": {
    "slideshow": {
     "slide_type": "fragment"
    }
   },
   "outputs": [],
   "source": [
    "df_train[\"RandomWalk\"] = df_train.VentasShift1\n",
    "df_train.plot(kind=\"line\", y = [\"Ventas\", \"RandomWalk\"]);"
   ]
  },
  {
   "cell_type": "markdown",
   "metadata": {
    "slideshow": {
     "slide_type": "subslide"
    }
   },
   "source": [
    "La predicción sobre test es simplemente la última observación registrada en train. "
   ]
  },
  {
   "cell_type": "code",
   "execution_count": null,
   "metadata": {
    "slideshow": {
     "slide_type": "fragment"
    }
   },
   "outputs": [],
   "source": [
    "df_test[\"RandomWalk\"] = pd.Series(df_train[\"Ventas\"][-1], index=df_test.index)"
   ]
  },
  {
   "cell_type": "code",
   "execution_count": null,
   "metadata": {
    "slideshow": {
     "slide_type": "fragment"
    }
   },
   "outputs": [],
   "source": [
    "# POR FAVOR COMPLETÁ CON TU CÓDIGO:\n",
    "df_test.plot(kind=\"line\", y = [\"Ventas\", \"RandomWalk\"]);"
   ]
  },
  {
   "cell_type": "code",
   "execution_count": null,
   "metadata": {
    "slideshow": {
     "slide_type": "fragment"
    }
   },
   "outputs": [],
   "source": [
    "# Calculamos el RMSE y almacenamos los resultados\n",
    "df_Results = pd.DataFrame(columns = [\"Model\", \"RMSE\"])\n",
    "df_Results.loc[0, \"Model\"] = \"Random Walk\"\n",
    "df_Results.loc[0, \"RMSE\"] = RMSE(df_test.RandomWalk, df_test.Ventas)\n",
    "df_Results"
   ]
  },
  {
   "cell_type": "markdown",
   "metadata": {
    "slideshow": {
     "slide_type": "slide"
    }
   },
   "source": [
    "<div class=\"div-dhds-fondo-1\">  Media Constante\n",
    "<img src=\"https://raw.githubusercontent.com/Digital-House-DATA/ds_blend_2021_img/master/M3/CLASE_21_Regresion_Lineal_Simple/Presentacion/img/M3_CLASE_21_separador.png\" align=\"center\" />\n",
    "\n",
    "</div>"
   ]
  },
  {
   "cell_type": "markdown",
   "metadata": {
    "slideshow": {
     "slide_type": "slide"
    }
   },
   "source": [
    "### Definición\n",
    "\n",
    "---\n",
    "\n",
    "La **media constante** es el modelo más básico e ingenuo de todos. \n",
    "\n",
    "Consiste simplemente en tomar *la media del dataset de train* y usarlo para predecir. "
   ]
  },
  {
   "cell_type": "code",
   "execution_count": null,
   "metadata": {
    "slideshow": {
     "slide_type": "fragment"
    }
   },
   "outputs": [],
   "source": [
    "model_mean_pred = df_train['Ventas'].mean()\n",
    "model_mean_pred"
   ]
  },
  {
   "cell_type": "markdown",
   "metadata": {
    "slideshow": {
     "slide_type": "fragment"
    }
   },
   "source": [
    "La media se aplica tanto a train como a test. "
   ]
  },
  {
   "cell_type": "code",
   "execution_count": null,
   "metadata": {
    "slideshow": {
     "slide_type": "fragment"
    }
   },
   "outputs": [],
   "source": [
    "df_train_mc = df_train.copy()\n",
    "df_train_mc['Mean'] = model_mean_pred\n",
    "\n",
    "df_test_mc = df_test.copy()\n",
    "df_test_mc['Mean'] = model_mean_pred"
   ]
  },
  {
   "cell_type": "markdown",
   "metadata": {
    "slideshow": {
     "slide_type": "subslide"
    }
   },
   "source": [
    "Visualmente ya se observa que el método no predice correctamente. "
   ]
  },
  {
   "cell_type": "code",
   "execution_count": null,
   "metadata": {},
   "outputs": [],
   "source": [
    "fig, axes = plt.subplots(1, 2,figsize=(12,6))\n",
    "df_train_mc.plot(ax=axes[0], y = [\"Ventas\",\"Mean\"],title='Train')\n",
    "df_test_mc.plot(ax=axes[1],y = [\"Ventas\",\"Mean\"], title='Test')\n",
    "plt.show()"
   ]
  },
  {
   "cell_type": "markdown",
   "metadata": {
    "slideshow": {
     "slide_type": "subslide"
    }
   },
   "source": [
    "Calculamos la performance con RMSE y la guardamos para comparar con otros modelos."
   ]
  },
  {
   "cell_type": "code",
   "execution_count": null,
   "metadata": {
    "slideshow": {
     "slide_type": "fragment"
    }
   },
   "outputs": [],
   "source": [
    "model_RMSE = RMSE(df_test_mc.Mean, df_test_mc.Ventas)"
   ]
  },
  {
   "cell_type": "code",
   "execution_count": null,
   "metadata": {
    "slideshow": {
     "slide_type": "fragment"
    }
   },
   "outputs": [],
   "source": [
    "df_Results.loc[1, \"Model\"] = \"Mean\"\n",
    "df_Results.loc[1, \"RMSE\"] = model_RMSE\n",
    "df_Results.head()"
   ]
  },
  {
   "cell_type": "markdown",
   "metadata": {
    "slideshow": {
     "slide_type": "slide"
    }
   },
   "source": [
    "<div class=\"div-dhds-fondo-1\">  Tendencia Lineal\n",
    "<img src=\"https://raw.githubusercontent.com/Digital-House-DATA/ds_blend_2021_img/master/M3/CLASE_21_Regresion_Lineal_Simple/Presentacion/img/M3_CLASE_21_separador.png\" align=\"center\" />\n",
    "\n",
    "</div>"
   ]
  },
  {
   "cell_type": "markdown",
   "metadata": {
    "slideshow": {
     "slide_type": "slide"
    }
   },
   "source": [
    "### Definición\n",
    "\n",
    "---\n",
    "\n",
    "Recordemos que el componente de la serie **tendencia** corresponde a la **evolución de largo plazo**. \n",
    "\n",
    "Podemos modelar la tendencia de diferentes maneras, de acuerdo a su dinámica. \n",
    "\n",
    "- La **tendencia lineal** representa una recta para predecir.\n",
    "\n",
    "  $$ T_t = \\beta_0 + \\beta_1 TIME_t + \\varepsilon_t. $$\n",
    "\n",
    "Donde *TIME*, llamada “dummy de tiempo”, es una secuencia que representa al tiempo."
   ]
  },
  {
   "cell_type": "code",
   "execution_count": null,
   "metadata": {
    "slideshow": {
     "slide_type": "fragment"
    }
   },
   "outputs": [],
   "source": [
    "df_ventas[\"timeIndex\"] = pd.Series(np.arange(len(df_ventas['Ventas'])), index=df_ventas.index)\n",
    "df_ventas.timeIndex.head(3)"
   ]
  },
  {
   "cell_type": "markdown",
   "metadata": {
    "slideshow": {
     "slide_type": "fragment"
    }
   },
   "source": [
    "Volvemos a hacer los datasets de train y test con la nueva variable."
   ]
  },
  {
   "cell_type": "code",
   "execution_count": null,
   "metadata": {
    "slideshow": {
     "slide_type": "fragment"
    }
   },
   "outputs": [],
   "source": [
    "from sklearn.model_selection import train_test_split\n",
    "df_train, df_test = train_test_split(df_ventas, test_size=12, random_state=42, shuffle=False)"
   ]
  },
  {
   "cell_type": "markdown",
   "metadata": {
    "slideshow": {
     "slide_type": "slide"
    }
   },
   "source": [
    "### Predicción\n",
    "\n",
    "---\n",
    "Para generar la recta, usamos un modelo de *regresión lineal* entre \"Ventas\" y \"timeIndex\". \n",
    "\n",
    "El módulo `statmodels` nos permite ajustar modelos con su API, usando fórmulas estilo R.\n",
    "\n",
    "La sentencia:\n",
    "   `smf.ols(formula='Ventas ~ timeIndex', data = df_train).fit()`\n",
    "\n",
    "Nos indica que haremos regresión lineal (`ols`), con dos variables (`formula`).\n",
    "    \n",
    "Para mas detalles,  [ver aquí](http://www.statsmodels.org/dev/examples/notebooks/generated/formulas.html)."
   ]
  },
  {
   "cell_type": "code",
   "execution_count": null,
   "metadata": {
    "slideshow": {
     "slide_type": "fragment"
    }
   },
   "outputs": [],
   "source": [
    "import statsmodels.api as sm\n",
    "sm.OLS.from_formula"
   ]
  },
  {
   "cell_type": "code",
   "execution_count": null,
   "metadata": {
    "slideshow": {
     "slide_type": "fragment"
    }
   },
   "outputs": [],
   "source": [
    "import statsmodels.formula.api as smf\n",
    "model_linear = smf.ols(formula='Ventas ~ timeIndex', data = df_train).fit()"
   ]
  },
  {
   "cell_type": "markdown",
   "metadata": {
    "slideshow": {
     "slide_type": "subslide"
    }
   },
   "source": [
    "Generamos las predicciones del modelo sobre *train y test*."
   ]
  },
  {
   "cell_type": "code",
   "execution_count": null,
   "metadata": {
    "slideshow": {
     "slide_type": "fragment"
    }
   },
   "outputs": [],
   "source": [
    "df_train[\"LinearTrend\"] = model_linear.predict(df_train.timeIndex)\n",
    "df_test[\"LinearTrend\"] = model_linear.predict(df_test.timeIndex)"
   ]
  },
  {
   "cell_type": "markdown",
   "metadata": {
    "slideshow": {
     "slide_type": "fragment"
    }
   },
   "source": [
    "Visualmente observamos que la recta ajusta mejor que la media constante. "
   ]
  },
  {
   "cell_type": "code",
   "execution_count": null,
   "metadata": {
    "slideshow": {
     "slide_type": "fragment"
    }
   },
   "outputs": [],
   "source": [
    "fig, axes = plt.subplots(1, 2,figsize=(12,6))\n",
    "df_train.plot(kind = \"line\", y = [\"Ventas\",\"LinearTrend\"],ax=axes[0],title='Train');\n",
    "df_test.plot(kind = \"line\", y = [\"Ventas\",\"LinearTrend\"],ax=axes[1],title='Test');\n",
    "plt.show()"
   ]
  },
  {
   "cell_type": "markdown",
   "metadata": {
    "slideshow": {
     "slide_type": "subslide"
    }
   },
   "source": [
    "Calculamos la performance con RMSE. Y confirmamos analíticamente que es mejor que Mean."
   ]
  },
  {
   "cell_type": "code",
   "execution_count": null,
   "metadata": {
    "slideshow": {
     "slide_type": "fragment"
    }
   },
   "outputs": [],
   "source": [
    "model_RMSE = RMSE(df_test.LinearTrend, df_test.Ventas)"
   ]
  },
  {
   "cell_type": "code",
   "execution_count": null,
   "metadata": {
    "slideshow": {
     "slide_type": "fragment"
    }
   },
   "outputs": [],
   "source": [
    "df_Results.loc[2, \"Model\"] = \"LinearTrend\"\n",
    "df_Results.loc[2, \"RMSE\"] = model_RMSE\n",
    "df_Results.head()"
   ]
  },
  {
   "cell_type": "markdown",
   "metadata": {
    "slideshow": {
     "slide_type": "subslide"
    }
   },
   "source": [
    "`statmodels` nos permite ver los resultados de la regresión lineal."
   ]
  },
  {
   "cell_type": "code",
   "execution_count": null,
   "metadata": {
    "slideshow": {
     "slide_type": "fragment"
    }
   },
   "outputs": [],
   "source": [
    "model_linear.summary()"
   ]
  },
  {
   "cell_type": "markdown",
   "metadata": {
    "slideshow": {
     "slide_type": "slide"
    }
   },
   "source": [
    "<div class=\"div-dhds-fondo-1\"> Tendencia cuadrática\n",
    "<img src=\"https://raw.githubusercontent.com/Digital-House-DATA/ds_blend_2021_img/master/M5/CLASE_34_CART/Presentacion/img/M5_CLASE_34_separador.png\" align=\"center\" />\n",
    "\n",
    "</div>"
   ]
  },
  {
   "cell_type": "markdown",
   "metadata": {
    "slideshow": {
     "slide_type": "slide"
    }
   },
   "source": [
    "### Definición\n",
    "\n",
    "---\n",
    "Si la tendencia presenta una dinámica no lineal, podemos incluir un **término cuadrático** al modelo. \n",
    "\n",
    "Lo obtenemos simplemente elevando al cuadrado a la dummy de tiempo:\n",
    "\n",
    "$$ T_t = \\beta_0 + \\beta_1 TIME_t + \\beta_2 TIME^{2}_t +\\varepsilon_t. $$"
   ]
  },
  {
   "cell_type": "code",
   "execution_count": null,
   "metadata": {
    "slideshow": {
     "slide_type": "fragment"
    }
   },
   "outputs": [],
   "source": [
    "df_ventas[\"timeIndex_sq\"] = df_ventas[\"timeIndex\"]**2\n",
    "df_ventas.timeIndex_sq.head(3)"
   ]
  },
  {
   "cell_type": "markdown",
   "metadata": {
    "slideshow": {
     "slide_type": "fragment"
    }
   },
   "source": [
    "Volvemos a hacer los datasets de train y test con la nueva variable."
   ]
  },
  {
   "cell_type": "code",
   "execution_count": null,
   "metadata": {
    "slideshow": {
     "slide_type": "fragment"
    }
   },
   "outputs": [],
   "source": [
    "from sklearn.model_selection import train_test_split\n",
    "df_train, df_test = train_test_split(df_ventas, test_size=12, random_state=42, shuffle=False)"
   ]
  },
  {
   "cell_type": "markdown",
   "metadata": {
    "slideshow": {
     "slide_type": "slide"
    }
   },
   "source": [
    "### Predicción\n",
    "\n",
    "---\n",
    "En este modelo, incorporamos el valor cuadrático a la fórmula."
   ]
  },
  {
   "cell_type": "code",
   "execution_count": null,
   "metadata": {
    "slideshow": {
     "slide_type": "fragment"
    }
   },
   "outputs": [],
   "source": [
    "import statsmodels.formula.api as smf\n",
    "model_quadratic = smf.ols('Ventas ~ timeIndex + timeIndex_sq', data = df_train).fit()"
   ]
  },
  {
   "cell_type": "markdown",
   "metadata": {
    "slideshow": {
     "slide_type": "fragment"
    }
   },
   "source": [
    "Generamos las predicciones del modelo sobre *train y test*."
   ]
  },
  {
   "cell_type": "code",
   "execution_count": null,
   "metadata": {
    "slideshow": {
     "slide_type": "fragment"
    }
   },
   "outputs": [],
   "source": [
    "df_train[\"QuadraticTrend\"] = model_quadratic.predict(df_train[[\"timeIndex\",\"timeIndex_sq\"]])\n",
    "df_test[\"QuadraticTrend\"] = model_quadratic.predict(df_test[[\"timeIndex\",\"timeIndex_sq\"]])"
   ]
  },
  {
   "cell_type": "markdown",
   "metadata": {
    "slideshow": {
     "slide_type": "subslide"
    }
   },
   "source": [
    "Observamos visualmente las predicciones."
   ]
  },
  {
   "cell_type": "code",
   "execution_count": null,
   "metadata": {
    "slideshow": {
     "slide_type": "fragment"
    }
   },
   "outputs": [],
   "source": [
    "fig, axes = plt.subplots(1, 2,figsize=(12,6))\n",
    "df_train.plot(kind = \"line\", y = [\"Ventas\",\"QuadraticTrend\"],ax=axes[0],title='Train');\n",
    "df_test.plot(kind = \"line\", y = [\"Ventas\",\"QuadraticTrend\"],ax=axes[1],title='Test');\n",
    "plt.show()"
   ]
  },
  {
   "cell_type": "markdown",
   "metadata": {
    "slideshow": {
     "slide_type": "subslide"
    }
   },
   "source": [
    "Calculamos la performance con RMSE. En este dataset, sigue ajustando mejor la tendencia lineal."
   ]
  },
  {
   "cell_type": "code",
   "execution_count": null,
   "metadata": {
    "slideshow": {
     "slide_type": "fragment"
    }
   },
   "outputs": [],
   "source": [
    "model_RMSE = RMSE(df_test.QuadraticTrend, df_test.Ventas)"
   ]
  },
  {
   "cell_type": "code",
   "execution_count": null,
   "metadata": {
    "slideshow": {
     "slide_type": "fragment"
    }
   },
   "outputs": [],
   "source": [
    "df_Results.loc[3, \"Model\"] = \"QuadraticTrend\"\n",
    "df_Results.loc[3, \"RMSE\"] = model_RMSE\n",
    "df_Results.head()"
   ]
  },
  {
   "cell_type": "code",
   "execution_count": null,
   "metadata": {
    "slideshow": {
     "slide_type": "subslide"
    }
   },
   "outputs": [],
   "source": [
    "model_quadratic.summary()"
   ]
  },
  {
   "cell_type": "markdown",
   "metadata": {
    "slideshow": {
     "slide_type": "slide"
    }
   },
   "source": [
    "<div class=\"div-dhds-fondo-1\"> Tendencia con transformación logarítmica\n",
    "<img src=\"https://raw.githubusercontent.com/Digital-House-DATA/ds_blend_2021_img/master/M5/CLASE_34_CART/Presentacion/img/M5_CLASE_34_separador.png\" align=\"center\" />\n",
    "\n",
    "</div>"
   ]
  },
  {
   "cell_type": "markdown",
   "metadata": {
    "slideshow": {
     "slide_type": "slide"
    }
   },
   "source": [
    "### Definición\n",
    "\n",
    "---\n",
    "En algunos casos, la varianza de la serie aumenta con el paso del tiempo. \n",
    "\n",
    "Hacer una **transformación logarítmica** de la serie puede ayudar a estabilizar la varianza.\n",
    "\n",
    "- Generamos el modelo *sobre el logaritmo de las ventas*, y sus predicciones.\n",
    "\n",
    "- *Volvemos a transformar* las predicciones a un valor de ventas, con una función exponencial.\n",
    "\n",
    "- Este último valor será la *predicción final*, el cual evaluamos."
   ]
  },
  {
   "cell_type": "markdown",
   "metadata": {
    "slideshow": {
     "slide_type": "subslide"
    }
   },
   "source": [
    "Trasformamos en logaritmo las ventas y las graficamos."
   ]
  },
  {
   "cell_type": "code",
   "execution_count": null,
   "metadata": {
    "slideshow": {
     "slide_type": "fragment"
    }
   },
   "outputs": [],
   "source": [
    "df_train['log_Ventas'] = np.log(df_train['Ventas'])\n",
    "df_test['log_Ventas'] = np.log(df_test['Ventas'])"
   ]
  },
  {
   "cell_type": "code",
   "execution_count": null,
   "metadata": {
    "slideshow": {
     "slide_type": "fragment"
    }
   },
   "outputs": [],
   "source": [
    "fig, axes = plt.subplots(1, 2,figsize=(10,5))\n",
    "df_train.plot(kind = \"line\", y = [\"log_Ventas\"],ax=axes[0],title='Train');\n",
    "df_test.plot(kind = \"line\", y = [\"log_Ventas\"],ax=axes[1],title='Test');\n",
    "plt.show()"
   ]
  },
  {
   "cell_type": "markdown",
   "metadata": {
    "slideshow": {
     "slide_type": "slide"
    }
   },
   "source": [
    "### Predicción\n",
    "\n",
    "---\n",
    "Generamos el modelo de regresión lineal usando el logaritmo de las ventas."
   ]
  },
  {
   "cell_type": "code",
   "execution_count": null,
   "metadata": {
    "slideshow": {
     "slide_type": "fragment"
    }
   },
   "outputs": [],
   "source": [
    "import statsmodels.formula.api as smf\n",
    "model_log = smf.ols('log_Ventas ~ timeIndex ', data = df_train).fit()"
   ]
  },
  {
   "cell_type": "markdown",
   "metadata": {
    "slideshow": {
     "slide_type": "fragment"
    }
   },
   "source": [
    "Y las predicciones del modelo sobre *train y test*."
   ]
  },
  {
   "cell_type": "code",
   "execution_count": null,
   "metadata": {
    "slideshow": {
     "slide_type": "fragment"
    }
   },
   "outputs": [],
   "source": [
    "df_train[\"LogTrend\"] = model_log.predict(df_train[[\"timeIndex\"]])\n",
    "df_test[\"LogTrend\"] = model_log.predict(df_test[[\"timeIndex\"]])"
   ]
  },
  {
   "cell_type": "markdown",
   "metadata": {},
   "source": [
    "Recuperamos el valor predicho de la venta aplicando la función exponencial sobre las predicciones."
   ]
  },
  {
   "cell_type": "code",
   "execution_count": null,
   "metadata": {},
   "outputs": [],
   "source": [
    "df_train['back_LogTrend'] = np.exp(df_train['LogTrend'])\n",
    "df_test['back_LogTrend'] = np.exp(df_test['LogTrend'])"
   ]
  },
  {
   "cell_type": "markdown",
   "metadata": {
    "slideshow": {
     "slide_type": "subslide"
    }
   },
   "source": [
    "Observamos visualmente las ventas predichas vs el valor real."
   ]
  },
  {
   "cell_type": "code",
   "execution_count": null,
   "metadata": {
    "slideshow": {
     "slide_type": "fragment"
    }
   },
   "outputs": [],
   "source": [
    "fig, axes = plt.subplots(1, 2,figsize=(10,5))\n",
    "df_train.plot(kind = \"line\", y = [\"Ventas\",\"back_LogTrend\"],ax=axes[0],title='Train');\n",
    "df_test.plot(kind = \"line\", y = [\"Ventas\",\"back_LogTrend\"],ax=axes[1],title='Test');\n",
    "plt.show()"
   ]
  },
  {
   "cell_type": "markdown",
   "metadata": {
    "slideshow": {
     "slide_type": "subslide"
    }
   },
   "source": [
    "Calculamos la performance con RMSE. El modelo ajusta mejor que los anteriores para este dataset."
   ]
  },
  {
   "cell_type": "code",
   "execution_count": null,
   "metadata": {
    "slideshow": {
     "slide_type": "fragment"
    }
   },
   "outputs": [],
   "source": [
    "model_RMSE = RMSE(df_test.back_LogTrend, df_test.Ventas)"
   ]
  },
  {
   "cell_type": "code",
   "execution_count": null,
   "metadata": {
    "slideshow": {
     "slide_type": "fragment"
    }
   },
   "outputs": [],
   "source": [
    "df_Results.loc[4, \"Model\"] = \"back_LogTrend\"\n",
    "df_Results.loc[4, \"RMSE\"] = model_RMSE\n",
    "df_Results.head()"
   ]
  },
  {
   "cell_type": "code",
   "execution_count": null,
   "metadata": {
    "slideshow": {
     "slide_type": "subslide"
    }
   },
   "outputs": [],
   "source": [
    "model_log.summary()"
   ]
  },
  {
   "cell_type": "markdown",
   "metadata": {
    "slideshow": {
     "slide_type": "slide"
    }
   },
   "source": [
    "<div class=\"div-dhds-fondo-1\"> Transformación logarítmica <br/>  + estacionalidad mensual\n",
    "<img src=\"https://raw.githubusercontent.com/Digital-House-DATA/ds_blend_2021_img/master/M5/CLASE_34_CART/Presentacion/img/M5_CLASE_34_separador.png\" align=\"center\" />\n",
    "\n",
    "</div>"
   ]
  },
  {
   "cell_type": "markdown",
   "metadata": {
    "slideshow": {
     "slide_type": "slide"
    }
   },
   "source": [
    "### Definición\n",
    "\n",
    "---\n",
    "\n",
    "Recordemos que la  **estacionalidad** (Seasonality) es un patrón estacional que se *repite con regularidad*. \n",
    "\n",
    "Podemos modelar la estacionalidad utilizando variables dummy. En el siguiente ejemplo modelamos una estacionalidad trimestral:\n",
    "\n",
    "<img src=\"https://raw.githubusercontent.com/Digital-House-DATA/ds_blend_2021_img/master/M6/CLASE_48_Series_de_Tiempo_1/Presentacion/img/M6_CLASE_48_004_estacionalidad.png\" alt=\"estacionalidad\" width=50% height=30% align=\"center\"/>\n",
    "\n",
    "$$ S_t = \\sum_{i=1}^{s} \\gamma_iD_it  + \\varepsilon_t. $$\n",
    "\n",
    "Se pueden crear otros tipos de dummies, por ejemplo por días de vacaciones/feriados, etc."
   ]
  },
  {
   "cell_type": "markdown",
   "metadata": {
    "slideshow": {
     "slide_type": "subslide"
    }
   },
   "source": [
    "Establecemos variables dummy para los meses de la fecha de pedido de las ventas."
   ]
  },
  {
   "cell_type": "code",
   "execution_count": null,
   "metadata": {
    "slideshow": {
     "slide_type": "fragment"
    }
   },
   "outputs": [],
   "source": [
    "# Creamos columna con el mes\n",
    "df_train['month'] = [d.strftime('%b') for d in df_train.index]\n",
    "df_test['month']  = [d.strftime('%b') for d in df_test.index]"
   ]
  },
  {
   "cell_type": "code",
   "execution_count": null,
   "metadata": {
    "slideshow": {
     "slide_type": "fragment"
    }
   },
   "outputs": [],
   "source": [
    "# Creamos las variables dummies de mes\n",
    "dummies_mes_train = pd.get_dummies(df_train['month'])\n",
    "dummies_mes_test = pd.get_dummies(df_test['month'])"
   ]
  },
  {
   "cell_type": "code",
   "execution_count": null,
   "metadata": {
    "slideshow": {
     "slide_type": "fragment"
    }
   },
   "outputs": [],
   "source": [
    "# Hacemos el join entre el DataFrame con la serie de tiempo y las dummies\n",
    "df_train = df_train.join(dummies_mes_train)\n",
    "df_test = df_test.join(dummies_mes_test)"
   ]
  },
  {
   "cell_type": "code",
   "execution_count": null,
   "metadata": {
    "slideshow": {
     "slide_type": "fragment"
    }
   },
   "outputs": [],
   "source": [
    "df_train.head(4)"
   ]
  },
  {
   "cell_type": "markdown",
   "metadata": {
    "slideshow": {
     "slide_type": "slide"
    }
   },
   "source": [
    "### Predicción\n",
    "\n",
    "---\n",
    "Generamos el modelo de regresión lineal como en el caso anterior, agregando al logaritmo de las ventas, la estacionalidad (las variables dummies de mes)."
   ]
  },
  {
   "cell_type": "code",
   "execution_count": null,
   "metadata": {},
   "outputs": [],
   "source": [
    "model_log_est = smf.ols('log_Ventas ~ timeIndex + Apr + Aug + Dec + Feb + Jan + Jul + Jun + Mar + May + Nov + Oct + Sep',\\\n",
    "                          data = df_train).fit()"
   ]
  },
  {
   "cell_type": "markdown",
   "metadata": {
    "slideshow": {
     "slide_type": "fragment"
    }
   },
   "source": [
    "Y las predicciones del modelo sobre *train y test*."
   ]
  },
  {
   "cell_type": "code",
   "execution_count": null,
   "metadata": {},
   "outputs": [],
   "source": [
    "df_train['model_log_est'] = model_log_est.predict(df_train[[\"timeIndex\",\"Apr\",\"Aug\", \"Dec\", \"Feb\", \"Jan\",\\\n",
    "                                               \"Jul\", \"Jun\", \"Mar\", \"May\",\"Nov\", \"Oct\", \"Sep\"]])\n",
    "\n",
    "df_test['model_log_est'] = model_log_est.predict(df_test[[\"timeIndex\",\"Apr\",\"Aug\", \"Dec\", \"Feb\", \"Jan\",\\\n",
    "                                               \"Jul\", \"Jun\", \"Mar\", \"May\",\"Nov\", \"Oct\", \"Sep\"]])"
   ]
  },
  {
   "cell_type": "markdown",
   "metadata": {},
   "source": [
    "Recuperamos el valor predicho de la venta aplicando la función exponencial sobre las predicciones."
   ]
  },
  {
   "cell_type": "code",
   "execution_count": null,
   "metadata": {},
   "outputs": [],
   "source": [
    "df_train['back_LogEstTrend'] = np.exp(df_train['model_log_est'])\n",
    "df_test['back_LogEstTrend'] = np.exp(df_test['model_log_est'])"
   ]
  },
  {
   "cell_type": "markdown",
   "metadata": {
    "slideshow": {
     "slide_type": "subslide"
    }
   },
   "source": [
    "Observamos visualmente las ventas predichas vs el valor real."
   ]
  },
  {
   "cell_type": "code",
   "execution_count": null,
   "metadata": {
    "slideshow": {
     "slide_type": "fragment"
    }
   },
   "outputs": [],
   "source": [
    "fig, axes = plt.subplots(1, 2,figsize=(10,5))\n",
    "df_train.plot(kind = \"line\", y = [\"Ventas\",\"back_LogEstTrend\"],ax=axes[0],title='Train');\n",
    "df_test.plot(kind = \"line\", y = [\"Ventas\",\"back_LogEstTrend\"],ax=axes[1],title='Test');\n",
    "plt.show()"
   ]
  },
  {
   "cell_type": "markdown",
   "metadata": {
    "slideshow": {
     "slide_type": "subslide"
    }
   },
   "source": [
    "Calculamos la performance con RMSE. El modelo ajusta mucho mejor que todos los anteriores."
   ]
  },
  {
   "cell_type": "code",
   "execution_count": null,
   "metadata": {
    "slideshow": {
     "slide_type": "fragment"
    }
   },
   "outputs": [],
   "source": [
    "model_RMSE = RMSE(df_test.back_LogEstTrend, df_test.Ventas)"
   ]
  },
  {
   "cell_type": "code",
   "execution_count": null,
   "metadata": {
    "slideshow": {
     "slide_type": "fragment"
    }
   },
   "outputs": [],
   "source": [
    "df_Results.loc[5, \"Model\"] = \"back_LogEstTrend\"\n",
    "df_Results.loc[5, \"RMSE\"] = model_RMSE\n",
    "df_Results.head()"
   ]
  },
  {
   "cell_type": "code",
   "execution_count": null,
   "metadata": {
    "slideshow": {
     "slide_type": "subslide"
    }
   },
   "outputs": [],
   "source": [
    "model_log_est.summary()"
   ]
  },
  {
   "cell_type": "markdown",
   "metadata": {
    "slideshow": {
     "slide_type": "slide"
    }
   },
   "source": [
    "<div class=\"div-dhds-fondo-1\"> Media Movil\n",
    "<img src=\"https://raw.githubusercontent.com/Digital-House-DATA/ds_blend_2021_img/master/M5/CLASE_34_CART/Presentacion/img/M5_CLASE_34_separador.png\" align=\"center\" />\n",
    "\n",
    "</div>"
   ]
  },
  {
   "cell_type": "markdown",
   "metadata": {
    "slideshow": {
     "slide_type": "slide"
    }
   },
   "source": [
    "### Definición\n",
    "\n",
    "---\n",
    "**Media movil** (Moving Average o Rolling Mean) es un *promedio* de los valores de una serie temporal *para un período de tiempo determinado* (la ventana de estimación).\n",
    "\n",
    "El tamaño de la ventana de estimación $M$ es la cantidad de observaciones usadas para estimar.\n",
    "\n",
    "Veamos el tipo de media movil llamado **media móvil simple** (Simple Moving Average).\n",
    "\n",
    "que se expresa:\n",
    "$$ {SMA_t} =\\frac{1}{M}. (x_{t} + x_{t-1} + x_{t-2} + ... x_{M-(t-1)})$$\n",
    "        donde el valor para el tiempo $t$, es un promedio de los M valores reales previos.\n",
    "\n",
    "Es un *indicador de tendencia* ya que produce un **suavizado** sobre la serie temporal.\n",
    "\n",
    "No la vamos a usar para predecir, pero puede ser útil como método de preprocesamiento de la serie."
   ]
  },
  {
   "cell_type": "markdown",
   "metadata": {
    "slideshow": {
     "slide_type": "subslide"
    }
   },
   "source": [
    "Veamos la diferencia entre casos diarios y la media movil semanal de casos de covid-19.\n",
    "\n",
    "<img src=\"https://raw.githubusercontent.com/Digital-House-DATA/ds_blend_2021_img/master/M6/CLASE_48_Series_de_Tiempo_1/Presentacion/img/M6_CLASE_48_005_media_movil.JPG\" alt=\"estacionalidad\" width=80% height=50% align=\"center\"/>"
   ]
  },
  {
   "cell_type": "markdown",
   "metadata": {
    "slideshow": {
     "slide_type": "slide"
    }
   },
   "source": [
    "### Ejemplo\n",
    "\n",
    "---\n",
    "La forma más fácil para calcular **SMA** es usando el método de Pandas `Series.rolling`.\n",
    "\n",
    "Las primeras filas contienen valores nulos, pues recién después de M observaciones se puede calcular el promedio. Pero usando el argumento `min_periods=1` podemos resolverlo.\n",
    "\n",
    "<img src=\"https://raw.githubusercontent.com/Digital-House-DATA/ds_blend_2021_img/master/M6/CLASE_48_Series_de_Tiempo_1/Presentacion/img/M6_CLASE_48_006_media_movil.png\" alt=\"media_movil\" width=70% height=25% align=\"center\"/>"
   ]
  },
  {
   "cell_type": "markdown",
   "metadata": {
    "slideshow": {
     "slide_type": "subslide"
    }
   },
   "source": [
    "Observemos que a mayor ventana, más suave la serie calculada."
   ]
  },
  {
   "cell_type": "code",
   "execution_count": null,
   "metadata": {
    "slideshow": {
     "slide_type": "fragment"
    }
   },
   "outputs": [],
   "source": [
    "df_ventas[\"sma_5\"] = df_ventas.Ventas.rolling(5,min_periods=1).mean()\n",
    "df_ventas[\"sma_15\"] = df_ventas.Ventas.rolling(15,min_periods=1).mean()"
   ]
  },
  {
   "cell_type": "code",
   "execution_count": null,
   "metadata": {
    "slideshow": {
     "slide_type": "fragment"
    }
   },
   "outputs": [],
   "source": [
    "df_ventas.plot(kind = \"line\", y = [\"Ventas\",\"sma_5\",\"sma_15\"],title='SMA');"
   ]
  },
  {
   "cell_type": "markdown",
   "metadata": {
    "slideshow": {
     "slide_type": "slide"
    }
   },
   "source": [
    "<div class=\"div-dhds-fondo-1\"> Single Exponential Smoothing\n",
    "<img src=\"https://raw.githubusercontent.com/Digital-House-DATA/ds_blend_2021_img/master/M5/CLASE_34_CART/Presentacion/img/M5_CLASE_34_separador.png\" align=\"center\" />\n",
    "\n",
    "</div>"
   ]
  },
  {
   "cell_type": "markdown",
   "metadata": {
    "slideshow": {
     "slide_type": "slide"
    }
   },
   "source": [
    "### Definición\n",
    "\n",
    "---\n",
    "Recién vimos con *Media movil*, que los métodos de suavizado son *promedios ponderados* de observaciones pasadas. \n",
    "\n",
    "En el caso de **suavizamiento exponencial simple**, los pesos siguen una caída exponencial; le da más peso a las observaciones recientes y menos peso a las antiguas. \n",
    "\n",
    "Podemos expresarlo como:\n",
    "\n",
    "$$ \\widehat{y_t} =\\alpha . y_{t-1}  + (1 - \\alpha ) . \\widehat{y}_{t -1} $$\n",
    "\n",
    "Donde $\\widehat{y_t}$ es el valor predicho para el tiempo $t$, que es un promedio ponderado entre el valor previo predicho $\\widehat{y}_{t -1}$ y el valor actual $y_{t-1}$.\n",
    "\n",
    "$\\alpha$  se conoce como **smoothing parameter**; toma valores entre 0 y 1. \n",
    "\n",
    "Este método es adecuado para pronosticar datos *sin una tendencia ni un patrón estacional claro*."
   ]
  },
  {
   "cell_type": "markdown",
   "metadata": {
    "slideshow": {
     "slide_type": "subslide"
    }
   },
   "source": [
    "Viendo la expresión:\n",
    "\n",
    "$$ \\widehat{y_t} =\\alpha . y_{t-1}  + (1 - \\alpha ) . \\widehat{y}_{t -1} $$\n",
    "\n",
    "- Si $\\alpha$ es igual a 1, todas las predicciones *son iguales al último valor observado*. Se le llama un **método ingenuo (naive)**.\n",
    "\n",
    "- Por otro lado, si consideramos la **media constante**, todas las predicciones *son iguales al promedio de los valores observados*.\n",
    "\n",
    "En general se trabaja entre estos dos extremos. La expresión generalizada de **Single Exponential Smoothing**:\n",
    "\n",
    "$$ \\widehat{y_t} =\\alpha . y_{t-1}  + \\alpha . (1 - \\alpha ) . y_{t-2}  + \\alpha . (1 - \\alpha )^2. y_{t-3} ...$$\n",
    "\n",
    "Muestra que el peso de las observaciones **decrece en forma exponencial** a medida que son más antiguas.\n",
    "\n",
    "Y $\\alpha$ nos indica *el ratio de caída*. Más cerca de uno, decae más rápido."
   ]
  },
  {
   "cell_type": "markdown",
   "metadata": {
    "slideshow": {
     "slide_type": "slide"
    }
   },
   "source": [
    "### Predicción\n",
    "\n",
    "---\n",
    "Generamos tres modelos variando el  **smoothing factor $\\alpha$** (0.3, 0.5 y 0.8)."
   ]
  },
  {
   "cell_type": "code",
   "execution_count": null,
   "metadata": {
    "slideshow": {
     "slide_type": "fragment"
    }
   },
   "outputs": [],
   "source": [
    "from statsmodels.tsa.holtwinters import SimpleExpSmoothing\n",
    "model_exp_smoothing_3 = SimpleExpSmoothing(df_train.Ventas).fit(smoothing_level=0.3,optimized=False)\n",
    "model_exp_smoothing_5 = SimpleExpSmoothing(df_train.Ventas).fit(smoothing_level=0.5,optimized=False)\n",
    "model_exp_smoothing_8 = SimpleExpSmoothing(df_train.Ventas).fit(smoothing_level=0.8,optimized=False)"
   ]
  },
  {
   "cell_type": "markdown",
   "metadata": {
    "slideshow": {
     "slide_type": "fragment"
    }
   },
   "source": [
    "Vemos los resultados sobre los datos de train."
   ]
  },
  {
   "cell_type": "code",
   "execution_count": null,
   "metadata": {
    "slideshow": {
     "slide_type": "fragment"
    }
   },
   "outputs": [],
   "source": [
    "df_train.plot(kind = \"line\", y = \"Ventas\",color='black')\n",
    "model_exp_smoothing_3.fittedvalues.plot(label=\"alpha=0.3\",color='b');\n",
    "model_exp_smoothing_5.fittedvalues.plot(label=\"alpha=0.5\",color='g');\n",
    "model_exp_smoothing_8.fittedvalues.plot(label=\"alpha=0.8\",color='r');\n",
    "plt.legend();"
   ]
  },
  {
   "cell_type": "markdown",
   "metadata": {
    "slideshow": {
     "slide_type": "subslide"
    }
   },
   "source": [
    "Hacemos las predicciones del modelo sobre *test*."
   ]
  },
  {
   "cell_type": "code",
   "execution_count": null,
   "metadata": {
    "slideshow": {
     "slide_type": "fragment"
    }
   },
   "outputs": [],
   "source": [
    "df_test[\"Simple_Smoothing_3\"] = model_exp_smoothing_3.forecast(len(df_test))\n",
    "df_test[\"Simple_Smoothing_5\"] = model_exp_smoothing_5.forecast(len(df_test))\n",
    "df_test[\"Simple_Smoothing_8\"] = model_exp_smoothing_8.forecast(len(df_test))"
   ]
  },
  {
   "cell_type": "markdown",
   "metadata": {
    "slideshow": {
     "slide_type": "fragment"
    }
   },
   "source": [
    "El modelo con  $\\alpha$ = 0.3 es el que mejor predice."
   ]
  },
  {
   "cell_type": "code",
   "execution_count": null,
   "metadata": {
    "slideshow": {
     "slide_type": "fragment"
    }
   },
   "outputs": [],
   "source": [
    "model_RMSE_3 = RMSE(df_test[\"Simple_Smoothing_3\"], df_test.Ventas)\n",
    "model_RMSE_5 = RMSE(df_test[\"Simple_Smoothing_5\"], df_test.Ventas)\n",
    "model_RMSE_8 = RMSE(df_test[\"Simple_Smoothing_8\"], df_test.Ventas)"
   ]
  },
  {
   "cell_type": "code",
   "execution_count": null,
   "metadata": {
    "slideshow": {
     "slide_type": "fragment"
    }
   },
   "outputs": [],
   "source": [
    "# Calculamos el RMSE y almacenamos los resultados\n",
    "df_Results.loc[6, \"Model\"] = \"Simple Smoothing a=0.3\"; df_Results.loc[6, \"RMSE\"] = model_RMSE_3\n",
    "df_Results.loc[7, \"Model\"] = \"Simple Smoothing a=0.5\"; df_Results.loc[7, \"RMSE\"] = model_RMSE_5\n",
    "df_Results.loc[8, \"Model\"] = \"Simple Smoothing a=0.8\"; df_Results.loc[8, \"RMSE\"] = model_RMSE_8\n",
    "df_Results"
   ]
  },
  {
   "cell_type": "markdown",
   "metadata": {
    "slideshow": {
     "slide_type": "slide"
    }
   },
   "source": [
    "<div class=\"div-dhds-fondo-1\"> Conclusiones\n",
    "<img src=\"https://raw.githubusercontent.com/Digital-House-DATA/ds_blend_2021_img/master/M5/CLASE_34_CART/Presentacion/img/M5_CLASE_34_separador.png\" align=\"center\" />\n",
    "\n",
    "</div>"
   ]
  },
  {
   "cell_type": "markdown",
   "metadata": {
    "slideshow": {
     "slide_type": "slide"
    }
   },
   "source": [
    "## Conclusiones\n",
    "\n",
    "---"
   ]
  },
  {
   "cell_type": "markdown",
   "metadata": {
    "slideshow": {
     "slide_type": "fragment"
    }
   },
   "source": [
    "Una serie de tiempo tiene los componentes:\n",
    "\n",
    "- **Tendencia**: el componente “permanente”, el efecto que persiste en el largo plazo.\n",
    "- **Estacionalidad**: los movimientos periódicos de la serie.\n",
    "- **Componente aleatoria**: son shocks que no presentan un efecto duradero.\n",
    "- **Ciclos**: se entiende por cualquier tipo de dinámica no capturada por la tendencia o la estacionalidad. \n",
    "\n",
    "Para modelar la tendencia y la estacionalidad podemos usar *dummies de tiempo y estacionales*. \n",
    "\n",
    "Existen varios *modelos para predecir* los nuevos valores de la serie: Tendencia lineal, Tendencia Cuadrática, Transformación logarítmica con y sin estacionalidad mensual y Single Exponential Smoothing.\n",
    "\n",
    "La *media movil* es útil para \"suavizar\" la serie."
   ]
  },
  {
   "cell_type": "markdown",
   "metadata": {
    "slideshow": {
     "slide_type": "slide"
    }
   },
   "source": [
    "<div class=\"div-dhds-fondo-1\"> Hands-on\n",
    "<img src=\"https://raw.githubusercontent.com/Digital-House-DATA/ds_blend_2021_img/master/M3/CLASE_21_Regresion_Lineal_Simple/Presentacion/img/M3_CLASE_21_separador.png\" align=\"center\" />\n",
    "\n",
    "</div>"
   ]
  },
  {
   "cell_type": "markdown",
   "metadata": {
    "slideshow": {
     "slide_type": "slide"
    }
   },
   "source": [
    "### Ejercicio\n",
    "\n",
    "----\n",
    "\n",
    "A partir del dataset de ventas, seleccionar la categoría de Tecnología y\n",
    "\n",
    "- Generar la serie de tiempo sobre las ventas y graficarla.\n",
    "- Graficar los componentes de la serie.\n",
    "- Generar un modelo de Tendencia lineal y validarlo. "
   ]
  },
  {
   "cell_type": "code",
   "execution_count": null,
   "metadata": {
    "colab": {},
    "colab_type": "code",
    "id": "p2PHSRoPK8OK",
    "slideshow": {
     "slide_type": "fragment"
    }
   },
   "outputs": [],
   "source": [
    "import numpy as np\n",
    "import pandas as pd\n",
    "import matplotlib.pyplot as plt\n",
    "import seaborn as sns\n",
    "%matplotlib inline\n",
    "import warnings\n",
    "warnings.filterwarnings('ignore')"
   ]
  },
  {
   "cell_type": "markdown",
   "metadata": {
    "slideshow": {
     "slide_type": "slide"
    }
   },
   "source": [
    "### Ejercicio\n",
    "\n",
    "----\n",
    "A partir del dataset filtrado por Tecnología, generamos la serie de tiempo y la graficamos."
   ]
  },
  {
   "cell_type": "code",
   "execution_count": null,
   "metadata": {
    "slideshow": {
     "slide_type": "fragment"
    }
   },
   "outputs": [],
   "source": [
    "df = pd.read_excel(\"../Data/Supertienda.xls\")\n",
    "#tecno = df.loc[df['Categoria'] == '.....']"
   ]
  },
  {
   "cell_type": "code",
   "execution_count": null,
   "metadata": {
    "slideshow": {
     "slide_type": "fragment"
    }
   },
   "outputs": [],
   "source": [
    "#tecno.head(2)"
   ]
  },
  {
   "cell_type": "code",
   "execution_count": null,
   "metadata": {
    "slideshow": {
     "slide_type": "fragment"
    }
   },
   "outputs": [],
   "source": [
    "#tecnogb = tecno.groupby('.....')['.....'].sum().reset_index()\n",
    "#tecnogb = tecnogb.set_index('.....')"
   ]
  },
  {
   "cell_type": "code",
   "execution_count": null,
   "metadata": {
    "slideshow": {
     "slide_type": "fragment"
    }
   },
   "outputs": [],
   "source": [
    "#df_ventas_t = tecnogb['.....'].resample('..').mean().to_frame(); \n",
    "#df_ventas_t.head(2)"
   ]
  },
  {
   "cell_type": "markdown",
   "metadata": {
    "slideshow": {
     "slide_type": "fragment"
    }
   },
   "source": [
    "Graficamos la serie."
   ]
  },
  {
   "cell_type": "code",
   "execution_count": null,
   "metadata": {
    "slideshow": {
     "slide_type": "fragment"
    }
   },
   "outputs": [],
   "source": [
    "#plt.figure(figsize=(4,3)); ........plot(); plt.show()"
   ]
  },
  {
   "cell_type": "markdown",
   "metadata": {
    "slideshow": {
     "slide_type": "slide"
    }
   },
   "source": [
    "### Ejercicio\n",
    "\n",
    "----\n",
    "Graficamos los componentes de la serie de tiempo (Tendencia, Estacionalidad y la Componente aleatoria)."
   ]
  },
  {
   "cell_type": "code",
   "execution_count": null,
   "metadata": {
    "slideshow": {
     "slide_type": "fragment"
    }
   },
   "outputs": [],
   "source": [
    "import statsmodels.api as sm\n",
    "plt.figure(figsize=(16,10))\n",
    "#decomposition = sm.tsa.seasonal_decompose(....., .....)\n",
    "#decomposition.plot()\n",
    "plt.show()"
   ]
  },
  {
   "cell_type": "markdown",
   "metadata": {
    "slideshow": {
     "slide_type": "slide"
    }
   },
   "source": [
    "### Ejercicio\n",
    "\n",
    "----\n",
    "Generamos el modelo de Tendencia Lineal: lo ajustamos sobre train, creamos las predicciones, las graficamos sobre train y test, y evaluamos el modelo con RMSE.\n",
    "\n",
    "Previamente definimos la variable “dummy de tiempo”, la secuencia que representa al tiempo."
   ]
  },
  {
   "cell_type": "code",
   "execution_count": null,
   "metadata": {
    "slideshow": {
     "slide_type": "fragment"
    }
   },
   "outputs": [],
   "source": [
    "#df_ventas_t[\"timeIndex\"] = pd.Series(np.arange(len(......['.....'])), index=..........index)\n",
    "#df_ventas_t.timeIndex.head(3)"
   ]
  },
  {
   "cell_type": "markdown",
   "metadata": {
    "slideshow": {
     "slide_type": "fragment"
    }
   },
   "source": [
    "Hacemos los datasets de train y test. Recordar que tenemos que usar `shuffle=False`."
   ]
  },
  {
   "cell_type": "code",
   "execution_count": null,
   "metadata": {
    "slideshow": {
     "slide_type": "fragment"
    }
   },
   "outputs": [],
   "source": [
    "from sklearn.model_selection import train_test_split\n",
    "#df_train_t, df_test_t = train_test_split(...., test_size=12, random_state=42,.......)"
   ]
  },
  {
   "cell_type": "markdown",
   "metadata": {
    "slideshow": {
     "slide_type": "fragment"
    }
   },
   "source": [
    "Creamos un modelo de *regresión lineal* entre \"Ventas\" y \"timeIndex\". "
   ]
  },
  {
   "cell_type": "code",
   "execution_count": null,
   "metadata": {
    "slideshow": {
     "slide_type": "fragment"
    }
   },
   "outputs": [],
   "source": [
    "import statsmodels.formula.api as smf\n",
    "#model_linear = smf.ols(formula='..... ~ ......', data = .....).fit()"
   ]
  },
  {
   "cell_type": "markdown",
   "metadata": {
    "slideshow": {
     "slide_type": "subslide"
    }
   },
   "source": [
    "Generamos las predicciones del modelo sobre *train y test*."
   ]
  },
  {
   "cell_type": "code",
   "execution_count": null,
   "metadata": {
    "slideshow": {
     "slide_type": "fragment"
    }
   },
   "outputs": [],
   "source": [
    "#df_train_t[\"LinearTrend\"] = model_linear.predict(.......timeIndex)\n",
    "#df_test_t[\"LinearTrend\"] = model_linear.predict(.......timeIndex)"
   ]
  },
  {
   "cell_type": "markdown",
   "metadata": {
    "slideshow": {
     "slide_type": "fragment"
    }
   },
   "source": [
    "Chequeamos visualmente las predicciones. "
   ]
  },
  {
   "cell_type": "code",
   "execution_count": null,
   "metadata": {
    "slideshow": {
     "slide_type": "fragment"
    }
   },
   "outputs": [],
   "source": [
    "fig, axes = plt.subplots(1, 2,figsize=(12,6))\n",
    "#df_train_t.plot(kind = \"line\", y = [\".....\",\".....\"],ax=axes[0],title='Train');\n",
    "#df_test_t.plot(kind = \"line\", y = [\".....\",\"......\"],ax=axes[1],title='Test');\n",
    "plt.show()"
   ]
  },
  {
   "cell_type": "markdown",
   "metadata": {
    "slideshow": {
     "slide_type": "fragment"
    }
   },
   "source": [
    "Calculamos la performance con RMSE."
   ]
  },
  {
   "cell_type": "code",
   "execution_count": null,
   "metadata": {
    "slideshow": {
     "slide_type": "fragment"
    }
   },
   "outputs": [],
   "source": [
    "def RMSE(predicted, actual):\n",
    "    mse = (predicted - actual) ** 2\n",
    "    rmse = np.sqrt(mse.sum() / mse.count())\n",
    "    return rmse"
   ]
  },
  {
   "cell_type": "code",
   "execution_count": null,
   "metadata": {
    "slideshow": {
     "slide_type": "fragment"
    }
   },
   "outputs": [],
   "source": [
    "#model_RMSE = RMSE(..... , .......)"
   ]
  },
  {
   "cell_type": "code",
   "execution_count": null,
   "metadata": {
    "slideshow": {
     "slide_type": "fragment"
    }
   },
   "outputs": [],
   "source": [
    "#df_Results = pd.DataFrame(columns = [\"Model\", \"RMSE\"])\n",
    "#df_Results.loc[0, \"Model\"] = \"LinearTrend\"\n",
    "#df_Results.loc[0, \"RMSE\"] = model_RMSE\n",
    "#df_Results.head()"
   ]
  },
  {
   "cell_type": "markdown",
   "metadata": {
    "slideshow": {
     "slide_type": "slide"
    }
   },
   "source": [
    "### Solución\n",
    "\n",
    "---"
   ]
  },
  {
   "cell_type": "markdown",
   "metadata": {
    "slideshow": {
     "slide_type": "slide"
    }
   },
   "source": [
    "### Ejercicio\n",
    "\n",
    "----\n",
    "\n",
    "A partir del dataset de ventas, seleccionar la categoría de Tecnología y\n",
    "\n",
    "- Generar la serie de tiempo sobre las ventas y graficarla.\n",
    "- Graficar los componentes de la serie.\n",
    "- Generar un modelo de Tendencia lineal y validarlo. "
   ]
  },
  {
   "cell_type": "markdown",
   "metadata": {
    "slideshow": {
     "slide_type": "slide"
    }
   },
   "source": [
    "### Ejercicio\n",
    "\n",
    "----\n",
    "A partir del dataset filtrado por Tecnología, generamos la serie de tiempo y la graficamos."
   ]
  },
  {
   "cell_type": "code",
   "execution_count": null,
   "metadata": {
    "slideshow": {
     "slide_type": "fragment"
    }
   },
   "outputs": [],
   "source": [
    "df = pd.read_excel(\"../Data/Supertienda.xls\")\n",
    "tecno = df.loc[df['Categoria'] == 'Tecnología']"
   ]
  },
  {
   "cell_type": "code",
   "execution_count": null,
   "metadata": {
    "slideshow": {
     "slide_type": "fragment"
    }
   },
   "outputs": [],
   "source": [
    "tecno.head(2)"
   ]
  },
  {
   "cell_type": "code",
   "execution_count": null,
   "metadata": {
    "slideshow": {
     "slide_type": "fragment"
    }
   },
   "outputs": [],
   "source": [
    "tecnogb = tecno.groupby('Fecha_pedido')['Ventas'].sum().reset_index()\n",
    "tecnogb = tecnogb.set_index('Fecha_pedido')"
   ]
  },
  {
   "cell_type": "code",
   "execution_count": null,
   "metadata": {
    "slideshow": {
     "slide_type": "fragment"
    }
   },
   "outputs": [],
   "source": [
    "df_ventas_t = tecnogb['Ventas'].resample('MS').mean().to_frame(); \n",
    "df_ventas_t.head(2)"
   ]
  },
  {
   "cell_type": "markdown",
   "metadata": {
    "slideshow": {
     "slide_type": "subslide"
    }
   },
   "source": [
    "Graficamos la serie."
   ]
  },
  {
   "cell_type": "code",
   "execution_count": null,
   "metadata": {
    "slideshow": {
     "slide_type": "fragment"
    }
   },
   "outputs": [],
   "source": [
    "plt.figure(figsize=(4,3)); df_ventas_t.plot(); plt.show()"
   ]
  },
  {
   "cell_type": "markdown",
   "metadata": {
    "slideshow": {
     "slide_type": "slide"
    }
   },
   "source": [
    "### Ejercicio\n",
    "\n",
    "----\n",
    "Graficamos los componentes de la serie de tiempo (Tendencia, Estacionalidad y la Componente aleatoria)."
   ]
  },
  {
   "cell_type": "code",
   "execution_count": null,
   "metadata": {
    "slideshow": {
     "slide_type": "fragment"
    }
   },
   "outputs": [],
   "source": [
    "import statsmodels.api as sm\n",
    "plt.figure(figsize=(16,10))\n",
    "decomposition = sm.tsa.seasonal_decompose(df_ventas_t, model='additive')\n",
    "decomposition.plot()\n",
    "plt.show()"
   ]
  },
  {
   "cell_type": "markdown",
   "metadata": {
    "slideshow": {
     "slide_type": "slide"
    }
   },
   "source": [
    "### Ejercicio\n",
    "\n",
    "----\n",
    "Generamos el modelo de Tendencia Lineal: lo ajustamos sobre train, creamos las predicciones, las graficamos sobre train y test, y evaluamos el modelo con RMSE.\n",
    "\n",
    "Previamente definimos la variable “dummy de tiempo”, la secuencia que representa al tiempo."
   ]
  },
  {
   "cell_type": "code",
   "execution_count": null,
   "metadata": {
    "slideshow": {
     "slide_type": "fragment"
    }
   },
   "outputs": [],
   "source": [
    "df_ventas_t[\"timeIndex\"] = pd.Series(np.arange(len(df_ventas_t['Ventas'])), index=df_ventas_t.index)\n",
    "df_ventas_t.timeIndex.head(3)"
   ]
  },
  {
   "cell_type": "markdown",
   "metadata": {
    "slideshow": {
     "slide_type": "fragment"
    }
   },
   "source": [
    "Hacemos los datasets de train y test. Recordar que tenemos que usar `shuffle=False`."
   ]
  },
  {
   "cell_type": "code",
   "execution_count": null,
   "metadata": {
    "slideshow": {
     "slide_type": "fragment"
    }
   },
   "outputs": [],
   "source": [
    "from sklearn.model_selection import train_test_split\n",
    "df_train_t, df_test_t = train_test_split(df_ventas_t, test_size=12, random_state=42, shuffle=False)"
   ]
  },
  {
   "cell_type": "markdown",
   "metadata": {
    "slideshow": {
     "slide_type": "subslide"
    }
   },
   "source": [
    "Creamos un modelo de *regresión lineal* entre \"Ventas\" y \"timeIndex\". "
   ]
  },
  {
   "cell_type": "code",
   "execution_count": null,
   "metadata": {
    "slideshow": {
     "slide_type": "fragment"
    }
   },
   "outputs": [],
   "source": [
    "import statsmodels.formula.api as smf\n",
    "model_linear = smf.ols(formula='Ventas ~ timeIndex', data = df_train_t).fit()"
   ]
  },
  {
   "cell_type": "markdown",
   "metadata": {
    "slideshow": {
     "slide_type": "fragment"
    }
   },
   "source": [
    "Generamos las predicciones del modelo sobre *train y test*."
   ]
  },
  {
   "cell_type": "code",
   "execution_count": null,
   "metadata": {
    "slideshow": {
     "slide_type": "fragment"
    }
   },
   "outputs": [],
   "source": [
    "df_train_t[\"LinearTrend\"] = model_linear.predict(df_train_t.timeIndex)\n",
    "df_test_t[\"LinearTrend\"] = model_linear.predict(df_test_t.timeIndex)"
   ]
  },
  {
   "cell_type": "markdown",
   "metadata": {
    "slideshow": {
     "slide_type": "subslide"
    }
   },
   "source": [
    "Chequeamos visualmente las predicciones. "
   ]
  },
  {
   "cell_type": "code",
   "execution_count": null,
   "metadata": {
    "slideshow": {
     "slide_type": "fragment"
    }
   },
   "outputs": [],
   "source": [
    "fig, axes = plt.subplots(1, 2,figsize=(12,6))\n",
    "df_train_t.plot(kind = \"line\", y = [\"Ventas\",\"LinearTrend\"],ax=axes[0],title='Train');\n",
    "df_test_t.plot(kind = \"line\", y = [\"Ventas\",\"LinearTrend\"],ax=axes[1],title='Test');\n",
    "plt.show()"
   ]
  },
  {
   "cell_type": "markdown",
   "metadata": {
    "slideshow": {
     "slide_type": "subslide"
    }
   },
   "source": [
    "Calculamos la performance con RMSE."
   ]
  },
  {
   "cell_type": "code",
   "execution_count": null,
   "metadata": {
    "slideshow": {
     "slide_type": "fragment"
    }
   },
   "outputs": [],
   "source": [
    "def RMSE(predicted, actual):\n",
    "    mse = (predicted - actual) ** 2\n",
    "    rmse = np.sqrt(mse.sum() / mse.count())\n",
    "    return rmse"
   ]
  },
  {
   "cell_type": "code",
   "execution_count": null,
   "metadata": {
    "slideshow": {
     "slide_type": "fragment"
    }
   },
   "outputs": [],
   "source": [
    "model_RMSE = RMSE(df_test_t.LinearTrend, df_test_t.Ventas)\n",
    "print('Evaluacion RMSE: ',model_RMSE)"
   ]
  },
  {
   "cell_type": "markdown",
   "metadata": {
    "slideshow": {
     "slide_type": "slide"
    }
   },
   "source": [
    "<div class=\"div-dhds-fondo-1\"> Referencias y Material Adicional\n",
    "<img src=\"https://raw.githubusercontent.com/Digital-House-DATA/ds_blend_2021_img/master/M3/CLASE_21_Regresion_Lineal_Simple/Presentacion/img/M3_CLASE_21_separador.png\" align=\"center\" />\n",
    "\n",
    "</div>"
   ]
  },
  {
   "cell_type": "markdown",
   "metadata": {
    "slideshow": {
     "slide_type": "slide"
    }
   },
   "source": [
    "### Referencias y Material Adicional\n",
    "\n",
    "---\n",
    "\n",
    "<a href=\"https://www.statsmodels.org/stable/index.html\" target=\"_blank\">statmodels</a>\n",
    "\n",
    "<a href=\"https://pandas.pydata.org/pandas-docs/version/0.23/timeseries.html\" target=\"_blank\">Pandas - Time Series / Date functionality</a>\n",
    "\n",
    "<a href=\"https://konstantin-rink.medium.com/your-comprehensive-guide-to-the-basics-of-time-series-modeling-f673398b5df3\" target=\"_blank\">Your comprehensive guide to the basics of Time Series Modeling</a>\n",
    "\n",
    "<a href=\"https://otexts.com/fpp2/\" target=\"_blank\">Forecasting: Principles and Practice</a>\n",
    "\n",
    "<a href=\"https://towardsdatascience.com/pandas-resample-tricks-you-should-know-for-manipulating-time-series-data-7e9643a7e7f3\" target=\"_blank\">Pandas resample() tricks you should know for manipulating time-series data</a>\n",
    "\n",
    "<a href=\"https://towardsdatascience.com/time-series-in-python-exponential-smoothing-and-arima-processes-2c67f2a52788\" target=\"_blank\">Time Series in Python — Exponential Smoothing and ARIMA processes</a>\n",
    "\n",
    "<a href=\"https://www.analyticsvidhya.com/blog/2018/02/time-series-forecasting-methods/\" target=\"_blank\">Time Series Forecasting Methods</a>\n",
    "\n",
    "<a href=\"https://towardsdatascience.com/moving-averages-in-python-16170e20f6c\" target=\"_blank\">Moving averages with Python</a>"
   ]
  }
 ],
 "metadata": {
  "kernelspec": {
   "display_name": "Python 3",
   "language": "python",
   "name": "python3"
  },
  "language_info": {
   "codemirror_mode": {
    "name": "ipython",
    "version": 3
   },
   "file_extension": ".py",
   "mimetype": "text/x-python",
   "name": "python",
   "nbconvert_exporter": "python",
   "pygments_lexer": "ipython3",
   "version": "3.8.5"
  }
 },
 "nbformat": 4,
 "nbformat_minor": 4
}
