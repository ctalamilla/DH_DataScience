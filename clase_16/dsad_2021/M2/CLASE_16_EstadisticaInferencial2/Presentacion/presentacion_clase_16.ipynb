{
 "cells": [
  {
   "cell_type": "code",
   "execution_count": 1,
   "metadata": {
    "slideshow": {
     "slide_type": "skip"
    }
   },
   "outputs": [],
   "source": [
    "# initial setup\n",
    "#%run \"../../../common/0_notebooks_base_setup.py\"\n"
   ]
  },
  {
   "cell_type": "code",
   "execution_count": 2,
   "metadata": {
    "slideshow": {
     "slide_type": "skip"
    }
   },
   "outputs": [],
   "source": [
    "#import pandas as pd\n",
    "#import numpy as np\n",
    "#from datetime import *"
   ]
  },
  {
   "cell_type": "markdown",
   "metadata": {
    "slideshow": {
     "slide_type": "slide"
    }
   },
   "source": [
    "<link rel=\"stylesheet\" href=\"../../../common/dhds.css\">\n",
    "<div class=\"Table\">\n",
    "    <div class=\"Row\">\n",
    "        <div class=\"Cell grey left\"> <img src=\"https://raw.githubusercontent.com/Digital-House-DATA/ds_blend_2021_img/master/M2/CLASE_16_EstadisticaInferencial2/Presentacion/img/M2_CLASE_16_portada.png\" align=\"center\" /></div>\n",
    "        <div class=\"Cell right\">\n",
    "            <div class=\"div-logo\"><img src=\"https://raw.githubusercontent.com/Digital-House-DATA/ds_blend_2021_img/master/common/logo_DH.png\" align=\"center\" width=70% /></div>\n",
    "            <div class=\"div-curso\">DATA SCIENCE</div>\n",
    "            <div class=\"div-modulo\">MÓDULO 2</div>\n",
    "            <div class=\"div-contenido\">Estadística Inferencial 2</div>\n",
    "        </div>\n",
    "    </div>\n",
    "</div>"
   ]
  },
  {
   "cell_type": "markdown",
   "metadata": {
    "slideshow": {
     "slide_type": "slide"
    }
   },
   "source": [
    "### Agenda\n",
    "\n",
    "---\n",
    "\n",
    "- Pruebas de hipótesis para una población.\n",
    "\n",
    "- Prueba de hipótesis para dos poblaciones. Caso de grupo de tratamiento y de control. \n",
    "\n",
    "- Aplicación A/B Testing.\n"
   ]
  },
  {
   "cell_type": "markdown",
   "metadata": {
    "slideshow": {
     "slide_type": "slide"
    }
   },
   "source": [
    "<div class=\"div-dhds-fondo-1\">Prueba de Hipótesis\n",
    "\n",
    "<img src=\"https://raw.githubusercontent.com/Digital-House-DATA/ds_blend_2021_img/master/M2/CLASE_16_EstadisticaInferencial2/Presentacion/img/M2_CLASE_16_separador.png\" align=\"center\"></img>    \n",
    "</div>\n"
   ]
  },
  {
   "cell_type": "markdown",
   "metadata": {
    "slideshow": {
     "slide_type": "slide"
    }
   },
   "source": [
    "### Prueba de Hipótesis\n",
    "\n",
    "---\n",
    "\n",
    "La esencia de probar una hipótesis estadística es decidir si la afirmación realizada se encuentra apoyada o no por la evidencia muestral.\n",
    "\n",
    "<img src=\"https://raw.githubusercontent.com/Digital-House-DATA/ds_blend_2021_img/master/M2/CLASE_15_EstadisticaInferencial1/Presentacion/img/M2_CLASE_15_distribucion_medias_muestrales.png\" width=\"80%\" align=\"center\" />\n",
    "\n",
    "\n",
    "\n"
   ]
  },
  {
   "cell_type": "markdown",
   "metadata": {
    "slideshow": {
     "slide_type": "slide"
    }
   },
   "source": [
    "### Repaso Teorema Central del Límite\n",
    "\n",
    "---\n",
    "\n",
    "Sea $X_1, X_2, .., X_n$ un conjunto de variables aleatorias, independientes, e idénticamente distribuídas de una distribución con media $\\mu$ y varianza $\\sigma^2 \\neq 0$. Entonces, si $n$ es suficientemente grande, la variable aleatoria \n",
    "\n",
    "\\begin{equation}\n",
    "\\bar {X} = {\\frac {1}{n}} \\sum _{i=1}^{n}X_{i}\n",
    "\\end{equation}\n",
    "\n",
    "tienen aproximadamete una distribución normal con $\\mu_{\\bar{X}} = \\mu$ y $\\sigma^2_{\\bar{X}} = \\frac{\\sigma^2}{n}$\n",
    "\n",
    "\n",
    "\n",
    "#### Condiciones del TCL\n",
    "\n",
    "* **Independencia**. Las observaciones tienen que provenir de un muestreo aleatorio y deben ser independientes. Si el muestreo es sin reemplazo, entonces n < 10% de la población.\n",
    "\n",
    "* Si la **distribución** de una población es muy **asimétrica**, **n deberá ser muy grande** (a veces se menciona un n=30 como aproximación, pero en realidad depende de cuán asimétrica es la población). Si la población tiene distribución normal, no hay condiciones sobre n.\n"
   ]
  },
  {
   "cell_type": "markdown",
   "metadata": {
    "slideshow": {
     "slide_type": "slide"
    }
   },
   "source": [
    "### Test de hipótesis para la media poblacional - Ejemplo\n",
    "\n",
    "---\n",
    "\n",
    "Un investigador de mercados y hábitos de comportamiento afirma que el tiempo que los niños de tres a cinco años dedican a ver la televisión cada semana es en promedio **22 horas**. \n",
    "\n",
    "Frente a este estudio, una empresa de investigación de mercados cree que la media es mayor y para probar su hipótesis toma una **muestra de 64 observaciones** procedentes de la misma población, obteniendo como resultado una **media de 25 y desvío estándar de 6 horas**. \n",
    "\n",
    "Verifiquemos si la afirmación del investigador es realmente cierta utilizando un nivel de significación del 5%.\n",
    "\n",
    "**¿Qué sabemos?**\n",
    "\n",
    "* Tenemos una hipótesis sobre la media poblacional: $\\mu = 22$\n",
    "\n",
    "* Tenemos una muestra: $n=64$, $\\bar{X}=25hs$, $S = 6hs$\n",
    "\n",
    "Queremos saber si la muestra provee **evidencia para rechazar nuestra hipótesis** sobre la media poblacional.\n",
    "\n"
   ]
  },
  {
   "cell_type": "markdown",
   "metadata": {
    "slideshow": {
     "slide_type": "subslide"
    }
   },
   "source": [
    "Planteamos nuestra hipótesis:\n",
    "\n",
    "$H_0: \\mu = 22$\n",
    "\n",
    "$H_a: \\mu > 22$\n",
    "\n",
    "\n",
    "Proponemos un estadístico de prueba:\n",
    "<p style=\"font-size: 20px\">\n",
    "\\begin{equation}\n",
    " Z = {\\frac {\\bar{X} - \\mu_0}{\\sigma / \\sqrt(n)}}\n",
    "\\end{equation}\n",
    "</p>    \n",
    "<p style=\"font-size: 20px\">\n",
    "\\begin{equation}\n",
    " Z = {\\frac {\\bar{X} - \\mu_0}{\\sigma / \\sqrt(n)}} = {\\frac {25 - 22}{6 / \\sqrt(64)}} = 4\n",
    "\\end{equation}    \n",
    "</p>\n"
   ]
  },
  {
   "cell_type": "markdown",
   "metadata": {
    "slideshow": {
     "slide_type": "subslide"
    }
   },
   "source": [
    "\n",
    "<a href=\"https://homepage.divms.uiowa.edu/~mbognar/applets/normal.html\" target=\"_blank\">Calculadora Distribución Normal</a>\n",
    "\n",
    "<img src=\"https://raw.githubusercontent.com/Digital-House-DATA/ds_blend_2021_img/master/M2/CLASE_16_EstadisticaInferencial2/Presentacion/img/M2_CLASE_16_normal_distribution_calculator.png\" width=\"50%\" align=\"center\"/>\n",
    "\n",
    "Vemos que la **probabilidad** de haber obtenido una muestra aleatoria de tamaño 64 y media muestral 25 hs, asumiendo que la media poblacional sean 22 hs, es **casi nula**. Tenemos argumentos para **rechazar la hipótesis nula** y afirmar que muy probablemente la media poblacional sea mayor a 22 hs semanales."
   ]
  },
  {
   "cell_type": "markdown",
   "metadata": {
    "slideshow": {
     "slide_type": "slide"
    }
   },
   "source": [
    "### Tests de Hipótesis\n",
    "\n",
    "---\n",
    "\n",
    "1. Las hipótesis: siempre sobre un <b>parámetro poblacional</b>.\n",
    "    \n",
    "2. Hipótesis <b>nula</b> vs. hipótesis <b>alternativa</b>.\n",
    "\n",
    "3. Nivel de significancia (<b>alpha</b>).\n"
   ]
  },
  {
   "cell_type": "markdown",
   "metadata": {
    "slideshow": {
     "slide_type": "slide"
    }
   },
   "source": [
    "### Pasos en un test de hipótesis\n",
    "\n",
    "---\n",
    "\n",
    "1. Formular las hipótesis nula y alternativa.\n",
    "\n",
    "2. Identificar el estadístico de prueba apropiado y su distribución bajo la hipótesis nula (asumiendo que ésta es cierta).\n",
    "\n",
    "3. Fijar el nivel de significación (la probabilidad de equivocarme al rechazar H0 que estoy dispuesto a tolerar).\n",
    "\n",
    "4. Establecer la regla de decisión (dado el nivel de significancia, tendré valores críticos que separan la región de no rechazo de la de rechazo).\n",
    "\n",
    "5. Recolectar datos y calcular el valor muestral del estadístico de prueba.\n",
    "\n",
    "6. Tomar la decisión estadística.\n",
    "\n",
    "<p style=\"font-size: 20px\">\n",
    "$Estadístico\\ de\\ prueba =  \\frac{Valor\\ muestral\\ del\\ estadístico\\ de\\ prueba\\ -\\ Valor\\ del\\ parametro\\ poblacional\\ bajo\\ H_0 }{Error\\ estandar\\ del\\ estadístico\\ muestral}$\n",
    "</p>"
   ]
  },
  {
   "cell_type": "markdown",
   "metadata": {
    "slideshow": {
     "slide_type": "slide"
    }
   },
   "source": [
    "### p-value\n",
    "\n",
    "---\n",
    "\n",
    "#### Definición:\n",
    "\n",
    "p-value es la probabilidad de obtener el valor observado o valores más extremos del estadístico de prueba si la hipótesis nula fuese cierta.\n",
    "\n",
    "¿Entre qué valores se mueve p-value?\n",
    "\n",
    "#### Regla de decisión:\n",
    "\n",
    "Si p-value < nivel de significancia, entonces rechazo $H_0$.\n",
    "\n",
    "¿Qué valor esperaríamos obtener para rechazar la $H_0$? ¿Una probabilidad grande o una pequeña?\n",
    "\n",
    "\n",
    "\n",
    "**Entonces a menor p-value, menor es la probabilidad de que el resultado obtenido sea producto del azar**\n"
   ]
  },
  {
   "cell_type": "markdown",
   "metadata": {
    "slideshow": {
     "slide_type": "subslide"
    }
   },
   "source": [
    "Supongamos que, dado un conjunto de datos, se computa el estadístico de prueba y el p-value resulta de 0.001. \n",
    "\n",
    "Partamos de que $H_0$ es cierta e imaginemos a otros investigadores repitiendo el experimento en idénticas condiciones.\n",
    "\n",
    "Ese valor del p-value dice que, si $H_0$  es cierta, sólo 1 de cada 1000 investigadores puede obtener un valor del estadístico tan extremo como el obtenido.\n",
    "\n",
    "Notemos que el **p-value NO es la probabilidad de que $H_0$  sea cierta**.\n",
    "\n",
    "Sin importar la cantidad de repeticiones del experimento, $H_0$ es siempre cierta o falsa.\n"
   ]
  },
  {
   "cell_type": "markdown",
   "metadata": {
    "slideshow": {
     "slide_type": "slide"
    }
   },
   "source": [
    "<div class=\"div-dhds-fondo-1\">Test para una población\n",
    "\n",
    "<img src=\"https://raw.githubusercontent.com/Digital-House-DATA/ds_blend_2021_img/master/M2/CLASE_16_EstadisticaInferencial2/Presentacion/img/M2_CLASE_16_separador.png\" align=\"center\"></img>    \n",
    "</div>\n"
   ]
  },
  {
   "cell_type": "markdown",
   "metadata": {
    "slideshow": {
     "slide_type": "slide"
    }
   },
   "source": [
    "### Test para la media de una población\n",
    "\n",
    "---\n",
    "\n",
    "#### Hipótesis nula y alternativa\n",
    "\n",
    "##### Hipótesis unilaterales\n",
    "\n",
    "$H_0: \\mu = \\mu_0$;\n",
    "$H_a: \\mu > \\mu_0$\n",
    "\n",
    "\n",
    "$H_0: \\mu = \\mu_0$;\n",
    "$H_a: \\mu < \\mu_0$\n",
    "\n",
    "\n",
    "##### Hipótesis bilaterales\n",
    "\n",
    "$H_0: \\mu = \\mu_0$;\n",
    "$H_a: \\mu \\ne \\mu_0$\n"
   ]
  },
  {
   "cell_type": "markdown",
   "metadata": {
    "slideshow": {
     "slide_type": "slide"
    }
   },
   "source": [
    "#### Estadístico de prueba (Test para la media de una población con varianza conocida)\n",
    "<p style=\"font-size: 18px\">\n",
    "$Z = {\\frac {\\bar{X} - \\mu_0}{\\sigma / \\sqrt(n)}}$\n",
    "</p>\n",
    "Bajo $H_0$, manteniendo que $H_0$ es verdadera, este estadístico tiene distribución normal estándar (con media 0 y desvío 1).\n",
    "\n",
    "**Nota: si la varianza no es conocida pero podemos asumir la normalidad de la distribución de la media muestral, podemos utilizar al desvío estándar de la muestra como estimador de sigma**.\n"
   ]
  },
  {
   "cell_type": "markdown",
   "metadata": {
    "slideshow": {
     "slide_type": "slide"
    }
   },
   "source": [
    "### Ejemplo. Test para la media de una población normal con varianza conocida.\n",
    "\n",
    "---\n",
    "\n",
    "Fijamos nivel de significancia (**alpha**) en 5%. \n",
    "\n",
    "Se obtiene una muestra de **n = 25** donde la **media muestral** es **80.94**. Por otra parte, se sabe que el **desvío poblacional** es **11.6**.\n",
    "\n",
    "$H_0: \\mu = 85$\n",
    "\n",
    "$H_a: \\mu < 85$\n",
    "\n",
    "\n",
    "El valor del estadístico resulta\n",
    "\n",
    "<p style=\"font-size: 16px\">\n",
    "$Z = {\\frac {80.94\\ -\\ 85}{11.6\\ /\\ \\sqrt(25)}} = -1.75$\n",
    "</p>\n"
   ]
  },
  {
   "cell_type": "markdown",
   "metadata": {
    "slideshow": {
     "slide_type": "subslide"
    }
   },
   "source": [
    "Calculamos el valor crítico usando <a href=\"https://homepage.divms.uiowa.edu/~mbognar/applets/normal.html\" target=\"_blank\">Calculadora Distribución Normal</a>:\n",
    "\n",
    "Para $P(X < x) = 0.05$ obtenemos $x = -1.645$\n",
    "\n",
    "El enfoque de la **región crítica** nos dice que rechacemos la hipótesis nula en el nivel $\\alpha= 0.05$ si $Z < -1.645$. \n",
    "\n",
    "Por lo tanto, rechazamos la hipótesis nula porque $Z = -1.75 < -1.645$ y, por lo tanto, cae en la región de rechazo\n",
    "\n",
    "<img src=\"https://raw.githubusercontent.com/Digital-House-DATA/ds_blend_2021_img/master/M2/CLASE_16_EstadisticaInferencial2/Presentacion/img/M2_CLASE_16_region_critica_media_poblacional_con_varianza_conocida.png\" width=\"50%\" align=\"center\" />"
   ]
  },
  {
   "cell_type": "markdown",
   "metadata": {
    "slideshow": {
     "slide_type": "subslide"
    }
   },
   "source": [
    "Otra forma de tomar la decisión es mediante el cálculo del **p-value**\n",
    "\n",
    "<img src=\"https://raw.githubusercontent.com/Digital-House-DATA/ds_blend_2021_img/master/M2/CLASE_16_EstadisticaInferencial2/Presentacion/img/M2_CLASE_16_pvalue_media_poblacional_con_varianza_conocida.png\" width=\"50%\" align=\"center\" />\n",
    "\n",
    "En este enfoque rechazamos la hipótesis nula si el p-value es menor que el nivel $\\alpha= 0.05$. \n",
    "\n",
    "Calculamos el p-value usando <a href=\"https://homepage.divms.uiowa.edu/~mbognar/applets/normal.html\" target=\"_blank\">Calculadora Distribución Normal</a>:\n",
    "\n",
    "Para $x = -1.75$ obtenemos Probabilidad(X < x) = 0.04006\n",
    "\n",
    "Entonces el p-value que es Probabilidad(Z < -1.75) = 0.0401 < 0.05\n"
   ]
  },
  {
   "cell_type": "markdown",
   "metadata": {
    "slideshow": {
     "slide_type": "slide"
    }
   },
   "source": [
    "#### Estadístico de prueba (Test para la media de una población con varianza desconocida)\n",
    "\n",
    "Si no conocemos la varianza poblacional y no podemos asegurar las condiciones de normalidad de la distribución de la media muestral, entonces utilizamos el **estadístico de prueba T-Student con n - 1 grados de libertad**:\n",
    "\n",
    "<p style=\"font-size: 18px\">\n",
    "$T = {\\frac {\\bar{X}\\ -\\ \\mu_0}{S\\ /\\ \\sqrt(n)}}$\n",
    "</p>\n",
    "\n"
   ]
  },
  {
   "cell_type": "markdown",
   "metadata": {
    "slideshow": {
     "slide_type": "slide"
    }
   },
   "source": [
    "### Ejemplo. Test para la media de una población normal con varianza desconocida.\n",
    "\n",
    "---\n",
    "\n",
    "Muestra de **n = 100**\n",
    "\n",
    "Media muestral de 130.1 con una desviación estándar de 21.21.\n",
    "\n",
    "$H_0: \\mu = 120$\n",
    "\n",
    "$H_a: \\mu \\ne 120$\n",
    "\n",
    "El valor del estadístico resulta:\n",
    "\n",
    "<p style=\"font-size: 16px\">\n",
    "$T = {\\frac {130.1\\ -\\ 120}{21.21\\ /\\ \\sqrt(100)}}\\ =\\ 4.762$\n",
    "</p>\n"
   ]
  },
  {
   "cell_type": "markdown",
   "metadata": {
    "slideshow": {
     "slide_type": "subslide"
    }
   },
   "source": [
    "Calculamos el valor crítico usando <a href=\"https://homepage.divms.uiowa.edu/~mbognar/applets/t.html\" target=\"_blank\">Calculadora Distribución t de Student</a>:\n",
    "\n",
    "Para $P(X < x) = 0.025$ obtenemos $x = -1.98422$\n",
    "\n",
    "El enfoque de la **región crítica** nos dice que rechacemos la hipótesis nula en el nivel $\\alpha\\ =\\ 0.05$ si $T\\ \\ge\\ T_{0.025, 99} = 1.9842$ o si $T\\ \\le\\ T_{0.025, 99}\\ =\\ -1.9842$\n",
    "\n",
    "Por lo tanto, rechazamos la hipótesis nula porque $T = 4.762 > 1.9842$ y por lo tanto cae en la región de rechazo\n",
    "\n",
    "<img src=\"https://raw.githubusercontent.com/Digital-House-DATA/ds_blend_2021_img/master/M2/CLASE_16_EstadisticaInferencial2/Presentacion/img/M2_CLASE_16_region_critica_media_poblacional_con_varianza_desconocida.png\" width=\"50%\" align=\"center\" />\n",
    "\n",
    "\n"
   ]
  },
  {
   "cell_type": "markdown",
   "metadata": {
    "slideshow": {
     "slide_type": "subslide"
    }
   },
   "source": [
    "\n",
    "Sacamos la misma conclusión al usar el enfoque del **p-value**. \n",
    "\n",
    "En este enfoque rechazamos la hipótesis nula si el p-value es menor que el nivel $\\alpha= 0.05$. \n",
    "\n",
    "Si calculamos el p-value usando <a href=\"https://homepage.divms.uiowa.edu/~mbognar/applets/t.html\" target=\"_blank\">Calculadora Distribución t de Student</a>:\n",
    "\n",
    "Para $x = 4.762$ obtenemos Probabilidad(X > x) = 0, $2 \\times 0 = 0 \\lt 0.05$ entonces rechazamos $H_0$\n",
    "\n",
    "Podemos pensarlo también como p-value es $2 \\times Probabilidad(T_{99} > 4.762)$\n",
    "\n",
    "$2 \\times P (T_{99} > 4.762) < 2 \\times P (T_{99} > 1.9842) = 2 (0.025) = 0.05$. \n",
    "\n",
    "Rechazamos $H_0$ porque p-value < 0.05.\n",
    "\n",
    "<img src=\"https://raw.githubusercontent.com/Digital-House-DATA/ds_blend_2021_img/master/M2/CLASE_16_EstadisticaInferencial2/Presentacion/img/M2_CLASE_16_pvalue_media_poblacional_con_varianza_desconocida.png\" width=\"50%\" align=\"center\" />\n"
   ]
  },
  {
   "cell_type": "markdown",
   "metadata": {
    "slideshow": {
     "slide_type": "slide"
    }
   },
   "source": [
    "### Test para la proporción\n",
    "\n",
    "---\n",
    "\n",
    "Se tira un dado con 4 caras (tetraedro) 1000 veces y se registra que salen 290 veces el número 4.\n",
    "\n",
    "¿Hay evidencia para concluir que el dado está sesgado, es decir, que se observan más veces el número 4 que lo esperado?\n",
    "\n",
    "<img src=\"https://raw.githubusercontent.com/Digital-House-DATA/ds_blend_2021_img/master/M2/CLASE_16_EstadisticaInferencial2/Presentacion/img/M2_CLASE_16_test_proporcion.png\" width=\"40%\" align=\"center\"/>\n"
   ]
  },
  {
   "cell_type": "markdown",
   "metadata": {
    "slideshow": {
     "slide_type": "subslide"
    }
   },
   "source": [
    "Si el dado está equilibrado, cada cara tiene probabilidad 0.25 de aparecer. \n",
    "\n",
    "Supongamos inicialmente que este es el caso:\n",
    "\n",
    "$H_0: p = 0.25$\n",
    "\n",
    "En base a la muestra la proporción observada resulta:\n",
    "\n",
    "$\\hat{p} = \\frac{y}{n} = \\frac{290}{1000} = 0.29$\n",
    "\n",
    "\n",
    "Según el Teorema Central del Límite, la proporción muestral $$\\hat{p} = \\frac{y}{n}$$ tiene distribución asintóticamente normal con media (bajo $H_0$) $$p_0 = 0.25$$ y desvío estándar (bajo $H_0$) $$ \\sqrt{\\frac{p_0(1\\ -\\ p_0)}{n}} = \\sqrt{\\frac{0.25(0.75)}{1000}} = 0.01369$$\n",
    "\n"
   ]
  },
  {
   "cell_type": "markdown",
   "metadata": {
    "slideshow": {
     "slide_type": "subslide"
    }
   },
   "source": [
    "Bajo $H_0$, es decir manteniendo que $H_0$ es verdadera, este estadístico tiene distribución asintótica normal estándar (con media 0 y desvío 1) $$ Z =\\frac{ \\hat{p} - p_0}{\\sqrt{\\frac{p_0(1-p_0)}{n}}}$$\n",
    "\n",
    "<img src=\"https://raw.githubusercontent.com/Digital-House-DATA/ds_blend_2021_img/master/M2/CLASE_16_EstadisticaInferencial2/Presentacion/img/M2_CLASE_16_estadistico_test_proporcion.png\" width=\"40%\" align=\"center\"/>"
   ]
  },
  {
   "cell_type": "markdown",
   "metadata": {
    "slideshow": {
     "slide_type": "subslide"
    }
   },
   "source": [
    "Buscamos testear \n",
    "\n",
    "$H_0$ que dice *la probabilidad en la población de obtener un 4 es igual igual a 0.25*\n",
    "\n",
    "versus \n",
    "\n",
    "$H_a$ que dice que *esta probabilidad es mayor que 0.25*\n",
    "\n",
    "Si fijamos el nivel de significancia en 0.05, entonces rechazamos si $Z \\gt z_{critico}$\n",
    "\n",
    "Calculamos $z_{critico}$ usando <a href=\"https://homepage.divms.uiowa.edu/~mbognar/applets/normal.html\" target=\"_blank\">Calculadora Distribución Normal</a>:\n",
    "\n",
    "Para $P(X > x) = 0.05$ obtenemos $x = 1.645$\n",
    "\n",
    "Entonces con nivel de significancia 0.05, rechazamos $H_0$ si $Z \\gt 1.645$\n",
    "\n",
    "<img src=\"https://raw.githubusercontent.com/Digital-House-DATA/ds_blend_2021_img/master/M2/CLASE_16_EstadisticaInferencial2/Presentacion/img/M2_CLASE_16_decision_test_proporcion.png\" width=\"40%\" align=\"center\"/>\n",
    "\n"
   ]
  },
  {
   "cell_type": "markdown",
   "metadata": {
    "slideshow": {
     "slide_type": "slide"
    }
   },
   "source": [
    "### ¿Qué pasa si no podemos aplicar el TCL para realizar un test de hipótesis para una proporción?\n",
    "\n",
    "\n",
    "---\n",
    "\n",
    "\n",
    "Imaginemos que sospechamos que una moneda está cargada. Queremos testearlo. Para eso, decidimos hacer **10 tiradas**.\n",
    "\n",
    "Una estrategia es contrastar hipótesis.\n",
    "\n",
    "Puedo construir una **distribución muestral** de cada una de las tiradas de la moneda suponiendo que la moneda está equilibrada (esa sería la $H_0$)).\n",
    "\n",
    "De hecho, podemos hacerlo utilizando la **distribución binomial**\n",
    "\n"
   ]
  },
  {
   "cell_type": "markdown",
   "metadata": {
    "slideshow": {
     "slide_type": "slide"
    }
   },
   "source": [
    "Podemos calcular las probabilidades de obtener 0, 1, 2, ..., 10 caras en 10 tiradas de una moneda.\n",
    "\n",
    "Mediante la  distribución binomial podemos calcular las probabilidades de obtener x éxitos en n repeticiones de un experimento\n",
    "\n",
    "* ¿Cuál es el experimento, cuál es el éxito y cuántas repeticiones hay en este caso?\n",
    "\n",
    "* ¿Qué suceso es más probable (si la moneda NO está cargada)?\n",
    "\n",
    "* ¿Cuándo rechazaríamos la hipótesis de que la moneda NO está cargada?\n",
    " "
   ]
  },
  {
   "cell_type": "markdown",
   "metadata": {
    "slideshow": {
     "slide_type": "slide"
    }
   },
   "source": [
    "#### Recordemos la distribución binomial\n",
    "\n",
    "<p style=\"font-size: 20px\">\n",
    "\\begin{equation}\n",
    " f(x) =  {n \\choose x} \\ p^x \\ (1-p)^{n-x}, \\ 0 \\le p \\le 1\n",
    "\\end{equation}\n",
    "</p>    \n",
    "\n",
    "<p style=\"font-size: 20px\">\n",
    "\\begin{equation}\n",
    "    {n \\choose x} = \\frac{n!}{x!(n-x)!}\n",
    "\\end{equation}\n",
    "</p>    \n",
    "\n",
    "Entonces para 10 tiradas (n = 10)\n",
    "\n",
    "0 caras: $f(0) = {n \\choose 0} \\ p^0 \\ (1-p)^{n-0} = 1 \\times 1 \\times (1-p)^{n} = \\frac{1}{2}^{10} = \\frac{1}{1024}$\n",
    "\n",
    "1 cara:  $f(1) = {n \\choose 1} \\ p^1 \\ (1-p)^{n-1} = \\frac{n!}{1!(n-1)!} \\times p \\times (1-p)^{n-1} = n p (1-p)^{n-1} = 10 \\times \\frac{1}{2} \\times \\frac{1}{2}^9 = \\frac{10}{1024}$\n",
    "\n",
    "...\n",
    "\n",
    "En python calculamos f(x) de este modo \n",
    "\n",
    "```pyhton\n",
    "from scipy.stats import binom    \n",
    "binom.pmf(x, n, p)\n",
    "```\n"
   ]
  },
  {
   "cell_type": "markdown",
   "metadata": {
    "slideshow": {
     "slide_type": "slide"
    }
   },
   "source": [
    "Calculemos los valores de probabilidad de sacar 0 caras, 1 cara, 2 caras, ... , 10 caras en 10 tiradas de la moneda"
   ]
  },
  {
   "cell_type": "code",
   "execution_count": 3,
   "metadata": {
    "slideshow": {
     "slide_type": "fragment"
    }
   },
   "outputs": [
    {
     "data": {
      "text/plain": [
       "0     0.001\n",
       "1     0.010\n",
       "2     0.044\n",
       "3     0.117\n",
       "4     0.205\n",
       "5     0.246\n",
       "6     0.205\n",
       "7     0.117\n",
       "8     0.044\n",
       "9     0.010\n",
       "10    0.001\n",
       "dtype: float64"
      ]
     },
     "execution_count": 3,
     "metadata": {},
     "output_type": "execute_result"
    }
   ],
   "source": [
    "import pandas as pd\n",
    "import seaborn as sns\n",
    "from scipy.stats import binom\n",
    "\n",
    "n = 10\n",
    "\n",
    "p = 0.5\n",
    "\n",
    "probs = []\n",
    "for x in range(0, n+1):\n",
    "    f_x = binom.pmf(x, n, p)\n",
    "    probs.append(round(f_x, 3))\n",
    "    \n",
    "probs_serie = pd.Series(probs, index = range(0, n+1))\n",
    "\n",
    "probs_serie"
   ]
  },
  {
   "cell_type": "markdown",
   "metadata": {
    "slideshow": {
     "slide_type": "slide"
    }
   },
   "source": [
    "Grafiquemos estas probabilidades"
   ]
  },
  {
   "cell_type": "code",
   "execution_count": 4,
   "metadata": {
    "slideshow": {
     "slide_type": "fragment"
    }
   },
   "outputs": [
    {
     "data": {
      "image/png": "[encoded data removed]",
      "text/plain": [
       "<Figure size 432x288 with 1 Axes>"
      ]
     },
     "metadata": {
      "needs_background": "light"
     },
     "output_type": "display_data"
    }
   ],
   "source": [
    "sns.barplot(x= probs_serie.index, y=probs_serie.values, color = \"steelblue\");"
   ]
  },
  {
   "cell_type": "markdown",
   "metadata": {
    "slideshow": {
     "slide_type": "fragment"
    }
   },
   "source": [
    "Este gráfico representa la distribución de probabilidad de obtener de 0 a 10 caras en 10 tiradas de una moneda que no está cargada.\n",
    "\n",
    "Es decir, representa la distribución de probabilidad de obtener de 0 a 10 caras en 10 tiradas de una moneda si $H_0$ es verdadera\n"
   ]
  },
  {
   "cell_type": "markdown",
   "metadata": {
    "slideshow": {
     "slide_type": "slide"
    }
   },
   "source": [
    "\n",
    "Ahora definimos un alpha de 0.1 y tiramos la moneda 10 veces y obtenemos 7 caras ...\n",
    "\n",
    "¿Qué dirían sobre $H_0$?\n",
    "\n",
    "¿Y si hubiéramos obtenido 1 cara en 10 tiradas?\n"
   ]
  },
  {
   "cell_type": "markdown",
   "metadata": {
    "slideshow": {
     "slide_type": "slide"
    }
   },
   "source": [
    "$H_0: p = 0.5$    \n",
    "\n",
    "$H_a: p \\ne 0.5$\n",
    "\n",
    "$\\alpha = 0.1$\n",
    "\n",
    "Definimos los valores críticos $xc_{1}$ y $xc_{2}$\n",
    "\n",
    "$xc_{1}$: el mayor entero que acumula una probabilidad menor o igual a $\\alpha / 2$\n",
    "\n",
    "$xc_{2}$: el menor entero que acumula una probabilidad mayor o igual a $1 - \\alpha / 2$\n",
    "\n",
    "Regla de decisión:\n",
    "\n",
    "Rechazamos $H_0$ si $x < xc_{1}$ ó si $x > xc_{2}$\n"
   ]
  },
  {
   "cell_type": "markdown",
   "metadata": {
    "slideshow": {
     "slide_type": "slide"
    }
   },
   "source": [
    "Calculemos las probabilidades acumuladas para determinar los valores críticos"
   ]
  },
  {
   "cell_type": "code",
   "execution_count": 5,
   "metadata": {
    "slideshow": {
     "slide_type": "fragment"
    }
   },
   "outputs": [
    {
     "data": {
      "text/plain": [
       "0     0.001\n",
       "1     0.011\n",
       "2     0.055\n",
       "3     0.172\n",
       "4     0.377\n",
       "5     0.623\n",
       "6     0.828\n",
       "7     0.945\n",
       "8     0.989\n",
       "9     0.999\n",
       "10    1.000\n",
       "dtype: float64"
      ]
     },
     "execution_count": 5,
     "metadata": {},
     "output_type": "execute_result"
    }
   ],
   "source": [
    "n = 10\n",
    "\n",
    "p = 0.5\n",
    "\n",
    "cumulative_probs = []\n",
    "for x in range(0, n+1):\n",
    "    f_x = binom.cdf(x, n, p)\n",
    "    cumulative_probs.append(round(f_x, 3))\n",
    "    \n",
    "cumulative_probs_serie = pd.Series(cumulative_probs, index = range(0, n+1))\n",
    "\n",
    "cumulative_probs_serie"
   ]
  },
  {
   "cell_type": "markdown",
   "metadata": {
    "slideshow": {
     "slide_type": "fragment"
    }
   },
   "source": [
    "Entonces \n",
    "$xc_1 = 1$ y $xc_2 = 8$, y como 7 no está en la región de rechazo, no rechazamos $H_0$"
   ]
  },
  {
   "cell_type": "markdown",
   "metadata": {
    "slideshow": {
     "slide_type": "slide"
    }
   },
   "source": [
    "<div class=\"div-dhds-fondo-1\">Tipos de errores en test de hipótesis\n",
    "<img src=\"https://raw.githubusercontent.com/Digital-House-DATA/ds_blend_2021_img/master/M2/CLASE_16_EstadisticaInferencial2/Presentacion/img/M2_CLASE_16_separador.png\" align=\"center\"></img>    \n",
    "</div>\n"
   ]
  },
  {
   "cell_type": "markdown",
   "metadata": {
    "slideshow": {
     "slide_type": "slide"
    }
   },
   "source": [
    "### Tipos de errores en test de hipótesis\n",
    "\n",
    "---\n",
    "\n",
    "Al realizar un test de hipótesis, podemos incurrir en dos tipos de errores:\n",
    "\n",
    "* Error de Tipo I \n",
    "\n",
    "* Error de Tipo II\n",
    "\n",
    "\n",
    "<img src=\"https://raw.githubusercontent.com/Digital-House-DATA/ds_blend_2021_img/master/M2/CLASE_16_EstadisticaInferencial2/Presentacion/img/M2_CLASE_16_tipos_error.png\" width=\"70%\" align=\"center\">\n",
    "\n",
    "Debemos definir el nivel máximo de error que estamos dispuesto a tolerar.\n",
    "\n",
    "Dado que trabajamos con muestras, nunca podemos estar 100% seguros de si hemos tomado la decisión correcta al rechazar o no una $H_0$. ¿Por qué?"
   ]
  },
  {
   "cell_type": "markdown",
   "metadata": {
    "slideshow": {
     "slide_type": "subslide"
    }
   },
   "source": [
    "$\\alpha$ y $\\beta$ varían en forma inversa ¿por qué?\n",
    "\n",
    "<img src=\"https://raw.githubusercontent.com/Digital-House-DATA/ds_blend_2021_img/master/M2/CLASE_16_EstadisticaInferencial2/Presentacion/img/M2_CLASE_16_tipos_error_alpha_beta.png\" width=\"70%\" align=\"center\">\n",
    "\n",
    "\n",
    "\n"
   ]
  },
  {
   "cell_type": "markdown",
   "metadata": {
    "slideshow": {
     "slide_type": "slide"
    }
   },
   "source": [
    "<div class=\"div-dhds-fondo-1\">Test de hipótesis para dos poblaciones\n",
    "\n",
    "<img src=\"https://raw.githubusercontent.com/Digital-House-DATA/ds_blend_2021_img/master/M2/CLASE_16_EstadisticaInferencial2/Presentacion/img/M2_CLASE_16_separador.png\" align=\"center\"></img>    \n",
    "</div>\n"
   ]
  },
  {
   "cell_type": "markdown",
   "metadata": {
    "slideshow": {
     "slide_type": "slide"
    }
   },
   "source": [
    "### Test de diferencia de medias con poblaciones independientes\n",
    "\n",
    "---\n",
    "\n",
    "**Estudio sobre el efecto de jugar videojuegos durante el almuerzo y su efecto sobre el consumo de snacks durante la tarde**\n",
    "\n",
    "Muestra: 44 pacientes, 22 mujeres y 22 hombres.\n",
    "\n",
    "Se estratifica por género y se los divide aleatoriamente en dos grupos de 22 personas.\n",
    "\n",
    "Al grupo 1 se le pide que juegue a un videojuego mientras almuerzan, intentando ganar la mayor cantidad de puntos posibles.\n",
    "\n",
    "Al grupo de control se le pide que almuerce sin distracciones.\n",
    "\n",
    "A los dos grupos se les provee el mismo almuerzo y los mismos snacks durante la tarde.\n",
    "\n",
    "El objetivo es determinar si el grupo que jugó a los videojuegos consume significativamente más snacks que el grupo de control.\n"
   ]
  },
  {
   "cell_type": "markdown",
   "metadata": {
    "slideshow": {
     "slide_type": "slide"
    }
   },
   "source": [
    "Datos\n",
    "\n",
    "<img src=\"https://raw.githubusercontent.com/Digital-House-DATA/ds_blend_2021_img/master/M2/CLASE_16_EstadisticaInferencial2/Presentacion/img/M2_CLASE_16_test_dos_poblaciones_datos.png\" width=\"80%\" align=\"center\" />"
   ]
  },
  {
   "cell_type": "markdown",
   "metadata": {
    "slideshow": {
     "slide_type": "slide"
    }
   },
   "source": [
    "### Intervalo de confianza para la diferencia de medias muestrales\n",
    "\n",
    "---\n",
    "\n",
    "<p style=\"font-size: 20px\">\n",
    "\\begin{equation}\n",
    " (\\bar{x}_1 - \\bar{x}_2)\\ \\pm \\ t_{df}.SE_{(\\bar{x}_1 - \\bar{x}_2)}\n",
    "\\end{equation}\n",
    "</p>    \n",
    "\n",
    "<p style=\"font-size: 20px\">\n",
    "\\begin{equation}\n",
    " SE_{(\\bar{x}_1 - \\bar{x}_2)} = \\sqrt{\\frac{S_1^2}{n_1} + \\frac{S_2^2}{n_2}}\n",
    "\\end{equation}\n",
    "</p>    \n",
    "\n",
    "<p style=\"font-size: 20px\">\n",
    "\\begin{equation}\n",
    " df = min(n_1 - 1, n_2 - 1)\n",
    "\\end{equation}\n",
    "</p>    \n",
    "\n",
    "\n"
   ]
  },
  {
   "cell_type": "markdown",
   "metadata": {
    "slideshow": {
     "slide_type": "slide"
    }
   },
   "source": [
    "Intervalo de confianza con nivel de confianza de 95% para la diferencia de medias:\n",
    "\n",
    "<p style=\"font-size: 20px\">\n",
    "\\begin{equation}\n",
    " df = min(22 - 1, 22 - 1) = 21\n",
    "\\end{equation}\n",
    "</p>    \n",
    "\n",
    "<p style=\"font-size: 20px\">\n",
    "\\begin{equation}\n",
    " SE_{(\\bar{x}_1 - \\bar{x}_2)} = \\sqrt{\\frac{S_1^2}{n_1} + \\frac{S_2^2}{n_2}} = \\sqrt{\\frac{45.1^2}{22} + \\frac{26.4^2}{22}} = 11.14\n",
    "\\end{equation}\n",
    "</p>    \n"
   ]
  },
  {
   "cell_type": "code",
   "execution_count": 6,
   "metadata": {
    "slideshow": {
     "slide_type": "fragment"
    }
   },
   "outputs": [
    {
     "name": "stdout",
     "output_type": "stream",
     "text": [
      "1.8297977714906857 48.17020222850931\n"
     ]
    }
   ],
   "source": [
    "import math\n",
    "from scipy import stats\n",
    "\n",
    "df = 21\n",
    "\n",
    "se = math.sqrt((45.1**2) / 22 + (26.4**2) / 22)\n",
    "                      \n",
    "alpha = 0.05\n",
    "t_df = stats.t.ppf(alpha / 2, df=df)\n",
    "\n",
    "ic_min = (52.1 - 27.1) + t_df * se\n",
    "ic_max = (52.1 - 27.1) - t_df * se\n",
    "\n",
    "print(ic_min, ic_max)\n"
   ]
  },
  {
   "cell_type": "markdown",
   "metadata": {
    "slideshow": {
     "slide_type": "fragment"
    }
   },
   "source": [
    "<p style=\"font-size: 20px\">\n",
    "\\begin{equation}\n",
    "    ic = (1.83, 48.17)\n",
    "\\end{equation}\n",
    "</p>    \n",
    "    "
   ]
  },
  {
   "cell_type": "markdown",
   "metadata": {
    "slideshow": {
     "slide_type": "slide"
    }
   },
   "source": [
    "Test de Hipótesis\n",
    "\n",
    "<img src=\"https://raw.githubusercontent.com/Digital-House-DATA/ds_blend_2021_img/master/M2/CLASE_16_EstadisticaInferencial2/Presentacion/img/M2_CLASE_16_test_dos_poblaciones_pvalue.png\" width=\"50%\" align=\"center\" />\n",
    "\n",
    "$H_0: \\bar{x_2} - \\bar{x_1} = 0$\n",
    "\n",
    "$H_1: \\bar{x_2} - \\bar{x_1} \\ne 0$\n",
    "\n",
    "Estadístico:\n",
    "\n",
    "$$T = \\frac{(52.1 - 27.1) - 0}{11.14} = 2.24$$\n",
    "\n"
   ]
  },
  {
   "cell_type": "markdown",
   "metadata": {
    "slideshow": {
     "slide_type": "subslide"
    }
   },
   "source": [
    "p-value de T:"
   ]
  },
  {
   "cell_type": "code",
   "execution_count": 7,
   "metadata": {
    "slideshow": {
     "slide_type": "fragment"
    }
   },
   "outputs": [
    {
     "name": "stdout",
     "output_type": "stream",
     "text": [
      "0.03603696215678864\n"
     ]
    }
   ],
   "source": [
    "x = 2.24\n",
    "p_val_gt = stats.t.cdf(x, df)\n",
    "p_val = 2 * (1 - p_val_gt)\n",
    "print(p_val)"
   ]
  },
  {
   "cell_type": "markdown",
   "metadata": {
    "slideshow": {
     "slide_type": "fragment"
    }
   },
   "source": [
    "**Entonces p-value es 3.6% por lo tanto para un nivel de significancia de 5% rechazamos la hipótesis nula**"
   ]
  },
  {
   "cell_type": "markdown",
   "metadata": {
    "slideshow": {
     "slide_type": "slide"
    }
   },
   "source": [
    "### A/B testing \n",
    "\n",
    "---\n",
    "\n",
    "<img src=\"https://raw.githubusercontent.com/Digital-House-DATA/ds_blend_2021_img/master/M2/CLASE_16_EstadisticaInferencial2/Presentacion/img/M2_CLASE_16_ab_testing.png\" width=\"80%\" align=\"center\"/>"
   ]
  },
  {
   "cell_type": "markdown",
   "metadata": {
    "slideshow": {
     "slide_type": "slide"
    }
   },
   "source": [
    "### A/B/C/D  testing \n",
    "\n",
    "---\n",
    "\n",
    "<img src=\"https://raw.githubusercontent.com/Digital-House-DATA/ds_blend_2021_img/master/M2/CLASE_16_EstadisticaInferencial2/Presentacion/img/M2_CLASE_16_abcd_testing.png\" width=\"80%\" align=\"center\"/>\n"
   ]
  },
  {
   "cell_type": "markdown",
   "metadata": {
    "slideshow": {
     "slide_type": "slide"
    }
   },
   "source": [
    "### Ejemplo A/B testing \n",
    "\n",
    "---\n",
    "\n",
    "Apliquemos un ejemplo...\n",
    "\n",
    "Una de tus principales responsabilidades es la optimización de las conversiones.\n",
    "\n",
    "Uno de tus anunciantes ha desarrollado un nuevo producto, y el VP de Advertisements quiere tu ayuda eligiendo entre el anuncio A y el anuncio B.\n",
    "\n",
    "Decidís aplicar  A/B testing para definir cuál es el mejor anuncio...\n",
    "\n"
   ]
  },
  {
   "cell_type": "markdown",
   "metadata": {
    "slideshow": {
     "slide_type": "subslide"
    }
   },
   "source": [
    "Digamos que $N_A$ personas ven el anuncio A y que de éstas, $n_A$ hacen click en él.\n",
    "\n",
    "Podemos pensar en cada vista de un anuncio como una prueba de Bernoulli donde $p_A$ es la probabilidad que alguien haga click en el anuncio A.\n",
    "\n",
    "Entonces, si $N_A$ es grande, como es el caso aquí, sabemos que $n_A / N_A$  es aproximadamente una variable aleatoria **normal con media** $p_A$ **y desvío estándar**  $\\sigma_{A} = \\sqrt{p_A(1-p_A) / N_A}$\n"
   ]
  },
  {
   "cell_type": "markdown",
   "metadata": {
    "slideshow": {
     "slide_type": "subslide"
    }
   },
   "source": [
    "Analogamente, si $N_B$ es grande $n_B / N_B$  es aproximadamente una variable aleatoria **normal con media** $p_B$ **y desvío estándar**  $\\sigma_{B} = \\sqrt{p_B(1-p_B) / N_B}$\n",
    "\n",
    "Si asumimos que estas dos normales son independientes (lo que parece razonable porque las pruebas Bernoulli individuales deben serlo), entonces su diferencia debe ser también normal con media  $p_B- p_A$ y desvío estándar  $\\sqrt{\\sigma_{A}^2 + \\sigma_{B}^2}$\n",
    "\n",
    "Esto significa que podemos testear como hipótesis nula que $p_B - p_A$ es cero ($p_B$ y $p_A$ son iguales) usando el estadístico: \n",
    "\n",
    "<p style=\"font-size: 16px\">\n",
    "\\begin{equation}\n",
    "\\frac{p_B - p_A}{\\sqrt{\\sigma_{A}^2 + \\sigma_{B}^2}}\n",
    "\\end{equation}\n",
    "</p>    \n",
    "\n",
    "que sigue aproximadamente una distribución normal estándar.\n",
    "\n",
    "\n"
   ]
  },
  {
   "cell_type": "code",
   "execution_count": 8,
   "metadata": {
    "slideshow": {
     "slide_type": "subslide"
    }
   },
   "outputs": [],
   "source": [
    "import math\n",
    "\n",
    "def estimated_parameters(N, n):\n",
    "    p = n / N\n",
    "    sigma = math.sqrt(p * (1-p) / N)\n",
    "    return p, sigma\n",
    "\n",
    "def a_b_test_estatistic(N_A, n_A, N_B, n_B):\n",
    "    p_A, sigma_A = estimated_parameters(N_A, n_A)\n",
    "    p_B, sigma_B = estimated_parameters(N_B, n_B)\n",
    "    return(p_B - p_A) / math.sqrt(sigma_A**2 + sigma_B**2)\n",
    "    "
   ]
  },
  {
   "cell_type": "markdown",
   "metadata": {
    "slideshow": {
     "slide_type": "subslide"
    }
   },
   "source": [
    "Por ejemplo si A obtiene 200 clicks de 1000 vistas y B obtiene 180 clicks de 1000 vistas, el estadístico es igual a\n"
   ]
  },
  {
   "cell_type": "code",
   "execution_count": 9,
   "metadata": {
    "slideshow": {
     "slide_type": "fragment"
    }
   },
   "outputs": [
    {
     "name": "stdout",
     "output_type": "stream",
     "text": [
      "-1.1403464899034472\n"
     ]
    },
    {
     "data": {
      "text/plain": [
       "0.127070988271118"
      ]
     },
     "execution_count": 9,
     "metadata": {},
     "output_type": "execute_result"
    }
   ],
   "source": [
    "z = a_b_test_estatistic(1000, 200, 1000, 180)\n",
    "print(z)\n",
    "\n",
    "p_value = stats.norm.cdf(z)\n",
    "p_value"
   ]
  },
  {
   "cell_type": "markdown",
   "metadata": {
    "slideshow": {
     "slide_type": "fragment"
    }
   },
   "source": [
    "Como es un test a dos colas, la probabilidad de encontrar una valor tan extremo como el del estadístico z es 2 * 12.7% = 25.4%\n",
    "\n",
    "Este valor es muy alto, por lo tanto no podemos rechazar la hipótesis nula que dice que $p_B$ y $p_A$ son iguales"
   ]
  },
  {
   "cell_type": "markdown",
   "metadata": {
    "slideshow": {
     "slide_type": "slide"
    }
   },
   "source": [
    "Por otro lado, si B sólo obtuviera 150 clicks tendríamos"
   ]
  },
  {
   "cell_type": "code",
   "execution_count": 10,
   "metadata": {
    "slideshow": {
     "slide_type": "fragment"
    }
   },
   "outputs": [
    {
     "name": "stdout",
     "output_type": "stream",
     "text": [
      "-2.948839123097944\n"
     ]
    },
    {
     "data": {
      "text/plain": [
       "0.0015948498531084291"
      ]
     },
     "execution_count": 10,
     "metadata": {},
     "output_type": "execute_result"
    }
   ],
   "source": [
    "z = a_b_test_estatistic(1000, 200, 1000, 150)\n",
    "print(z)\n",
    "\n",
    "p_value = stats.norm.cdf(z)\n",
    "p_value"
   ]
  },
  {
   "cell_type": "markdown",
   "metadata": {
    "slideshow": {
     "slide_type": "fragment"
    }
   },
   "source": [
    "Como es un test a dos colas, la probabilidad de encontrar una valor tan extremo como el del estadístico z es 2 * 0.16% = 0.32%\n",
    "\n",
    "Esto dice que sólo existe una probabilidad de 0.3% de ver una diferencia tan grande si los anuncios fueran igualmente efectivos.\n",
    "\n",
    "Este valor tan bajo, permite rechazar la hipótesis nula con un nivel de significancia del 1%."
   ]
  },
  {
   "cell_type": "markdown",
   "metadata": {
    "slideshow": {
     "slide_type": "slide"
    }
   },
   "source": [
    "\n",
    "<img src=\"https://raw.githubusercontent.com/Digital-House-DATA/ds_blend_2021_img/master/M2/CLASE_16_EstadisticaInferencial2/Presentacion/img/M2_CLASE_16_end.jpg\" width=\"80%\" align=\"center\" />\n",
    "\n",
    "\n"
   ]
  },
  {
   "cell_type": "markdown",
   "metadata": {
    "slideshow": {
     "slide_type": "slide"
    }
   },
   "source": [
    "<div class=\"div-dhds-fondo-1\"> Hands-on\n",
    "<img src=\"https://raw.githubusercontent.com/Digital-House-DATA/ds_blend_2021_img/master/M2/CLASE_16_EstadisticaInferencial2/Presentacion/img/M2_CLASE_16_separador.png\" align=\"center\" />\n",
    "\n",
    "</div>"
   ]
  },
  {
   "cell_type": "markdown",
   "metadata": {
    "slideshow": {
     "slide_type": "slide"
    }
   },
   "source": [
    "### Ejercicio 1\n",
    "\n",
    "---\n",
    "\n",
    "El banco donde trabajamos emitió un anuncio diciendo que el 90% de sus clientes están satisfechos con los servicios del banco. \n",
    "\n",
    "Como nosotros mismos no estábamos muy satisfechos, sospechamos que el anuncio era falso. \n",
    "\n",
    "Estudiamos una muestra aleatoria de 80 clientes del banco y descubrimos que solo el 80%, por ciento están satisfechos.\n",
    "\n",
    "Contrastemos la hipótesis de que el porcentaje real de clientes satisfechos es 90%, frente a la alternativa de que el porcentaje real es menor que eso.\n",
    "\n"
   ]
  },
  {
   "cell_type": "markdown",
   "metadata": {
    "slideshow": {
     "slide_type": "subslide"
    }
   },
   "source": [
    "La siguiente tabla resume los resultados de 1000 simulaciones, cada una simulando una muestra de 80 clientes, asumiendo que hay 90% de clientes satisfechos.\n",
    "\n",
    "<img src=\"https://raw.githubusercontent.com/Digital-House-DATA/ds_blend_2021_img/master/M2/CLASE_16_EstadisticaInferencial2/Presentacion/img/M2_CLASE_16_hands_on.png\" width=\"50%\" align=\"center\" />\n",
    "\n",
    "1. Mostrar un un gráfico los resultados obtenidos en las simulaciones\n",
    "\n",
    "2. Según las simulaciones, ¿cuál es la probabilidad de obtener una muestra con 80% de clientes satisfechos o menos?\n",
    "\n",
    "3. Acordemos que si el resultado observado tiene una probabilidad menor que 1% bajo la hipótesis nula, rechazaremos la hipótesis. ¿Qué deberíamos concluir con respecto a la hipótesis?"
   ]
  },
  {
   "cell_type": "markdown",
   "metadata": {
    "slideshow": {
     "slide_type": "slide"
    }
   },
   "source": [
    "### Ejercicio 2\n",
    "\n",
    "---\n",
    "\n",
    "Para el ejercicio de lanzar la moneda 10 veces, que vimos hace un rato:\n",
    "\n",
    "1. ¿Cuál es la regla de decisión usando el p-valor? \n",
    "\n",
    "2. Calcularlo y comparar el resultado con el obtenido con la regla de decisión que usa los valores críticos.\n",
    "\n",
    "Calculemos las probabilidades necesarias a partir de este fragmento de código:"
   ]
  },
  {
   "cell_type": "code",
   "execution_count": 11,
   "metadata": {
    "slideshow": {
     "slide_type": "fragment"
    }
   },
   "outputs": [],
   "source": [
    "n = 10\n",
    "\n",
    "p = 0.5\n",
    "\n",
    "cumulative_probs = []\n",
    "for x in range(0, n+1):\n",
    "    f_x = binom.cdf(x, n, p)\n",
    "    cumulative_probs.append(round(f_x, 3))\n",
    "    \n",
    "cumulative_probs_serie = pd.Series(cumulative_probs, index = range(0, n+1))\n"
   ]
  },
  {
   "cell_type": "markdown",
   "metadata": {
    "slideshow": {
     "slide_type": "slide"
    }
   },
   "source": [
    "#### Solución\n",
    "\n",
    "---\n"
   ]
  },
  {
   "cell_type": "markdown",
   "metadata": {
    "slideshow": {
     "slide_type": "slide"
    }
   },
   "source": [
    "### Ejercicio 1\n",
    "\n",
    "---\n",
    "\n",
    "1."
   ]
  },
  {
   "cell_type": "code",
   "execution_count": 12,
   "metadata": {
    "slideshow": {
     "slide_type": "fragment"
    }
   },
   "outputs": [
    {
     "data": {
      "image/png": "[encoded data removed]",
      "text/plain": [
       "<Figure size 432x288 with 1 Axes>"
      ]
     },
     "metadata": {
      "needs_background": "light"
     },
     "output_type": "display_data"
    }
   ],
   "source": [
    "values = [5, 24, 72, 181, 281, 272, 136, 27, 2]\n",
    "prop = [80, 82.5, 85, 87.5, 90, 92.5, 95, 97.5, 100]\n",
    "data = pd.Series(values, index=prop)\n",
    "sns.barplot(x= data.index, y=data.values, color = \"steelblue\");"
   ]
  },
  {
   "cell_type": "markdown",
   "metadata": {
    "slideshow": {
     "slide_type": "fragment"
    }
   },
   "source": [
    "Este gráfico representa la distribución de probabilidad de obtener x% de aprobación en 1000 muestras de una población si $H_0$ es verdadera."
   ]
  },
  {
   "cell_type": "markdown",
   "metadata": {
    "slideshow": {
     "slide_type": "subslide"
    }
   },
   "source": [
    "2."
   ]
  },
  {
   "cell_type": "code",
   "execution_count": 13,
   "metadata": {
    "slideshow": {
     "slide_type": "fragment"
    }
   },
   "outputs": [
    {
     "data": {
      "text/plain": [
       "0.005"
      ]
     },
     "execution_count": 13,
     "metadata": {},
     "output_type": "execute_result"
    }
   ],
   "source": [
    "prob = 5 / data.sum()\n",
    "prob"
   ]
  },
  {
   "cell_type": "markdown",
   "metadata": {
    "slideshow": {
     "slide_type": "subslide"
    }
   },
   "source": [
    "3. "
   ]
  },
  {
   "cell_type": "markdown",
   "metadata": {
    "slideshow": {
     "slide_type": "fragment"
    }
   },
   "source": [
    "Como es muy baja (5 por mil) la probabilidad de obtener un resultado de 80% o menos asumiendo que el verdadero valor de porcentaje de aprobación es 90%, deberíamos concluir que rechazamos $H_0$ porque la probabilidad obtenida es menor al 1%."
   ]
  },
  {
   "cell_type": "markdown",
   "metadata": {
    "slideshow": {
     "slide_type": "slide"
    }
   },
   "source": [
    "### Ejercicio 2\n",
    "\n",
    "---\n",
    "\n",
    "1. \n",
    "\n",
    "\n",
    "El p-valor es la probabilidad de encontra un valor tan extremo como el observado asumiendo que $H_0$ es verdadera.\n",
    "\n",
    "Para este problema habíamos definido\n",
    "\n",
    "$H_0: p = 0.5$    \n",
    "\n",
    "$H_a: p \\ne 0.5$\n",
    "\n",
    "$\\alpha = 0.1$\n",
    "\n",
    "La regla de decisión es rechazar $H_0$ si el p-valor es menor a $\\alpha/2$\n",
    "\n",
    "\n",
    "2.\n",
    "\n",
    "El problema nos pedía evaluar $H_0$ cuando tiramos la moneda 10 veces y obtenemos **7 caras**, y cuando obtenemos **1 cara**\n",
    "\n",
    "Podemos calcular la probabilidad de observar un resultado de 7 o más como 1 menos la probabilidad acumulada en 6:\n"
   ]
  },
  {
   "cell_type": "code",
   "execution_count": 14,
   "metadata": {
    "slideshow": {
     "slide_type": "subslide"
    }
   },
   "outputs": [
    {
     "name": "stdout",
     "output_type": "stream",
     "text": [
      "0     0.001\n",
      "1     0.011\n",
      "2     0.055\n",
      "3     0.172\n",
      "4     0.377\n",
      "5     0.623\n",
      "6     0.828\n",
      "7     0.945\n",
      "8     0.989\n",
      "9     0.999\n",
      "10    1.000\n",
      "dtype: float64\n",
      "0.17200000000000004\n"
     ]
    }
   ],
   "source": [
    "print(cumulative_probs_serie)\n",
    "\n",
    "prob_7_o_mas = 1 - cumulative_probs_serie[6]\n",
    "print(prob_7_o_mas)"
   ]
  },
  {
   "cell_type": "code",
   "execution_count": 15,
   "metadata": {
    "slideshow": {
     "slide_type": "fragment"
    }
   },
   "outputs": [
    {
     "data": {
      "text/plain": [
       "False"
      ]
     },
     "execution_count": 15,
     "metadata": {},
     "output_type": "execute_result"
    }
   ],
   "source": [
    "prob_7_o_mas < 0.1/2"
   ]
  },
  {
   "cell_type": "code",
   "execution_count": 16,
   "metadata": {
    "slideshow": {
     "slide_type": "subslide"
    }
   },
   "outputs": [
    {
     "name": "stdout",
     "output_type": "stream",
     "text": [
      "0     0.001\n",
      "1     0.011\n",
      "2     0.055\n",
      "3     0.172\n",
      "4     0.377\n",
      "5     0.623\n",
      "6     0.828\n",
      "7     0.945\n",
      "8     0.989\n",
      "9     0.999\n",
      "10    1.000\n",
      "dtype: float64\n",
      "0.011\n"
     ]
    }
   ],
   "source": [
    "print(cumulative_probs_serie)\n",
    "\n",
    "prob_1_o_menos = cumulative_probs_serie[1]\n",
    "print(prob_1_o_menos)"
   ]
  },
  {
   "cell_type": "code",
   "execution_count": 17,
   "metadata": {
    "slideshow": {
     "slide_type": "fragment"
    }
   },
   "outputs": [
    {
     "data": {
      "text/plain": [
       "True"
      ]
     },
     "execution_count": 17,
     "metadata": {},
     "output_type": "execute_result"
    }
   ],
   "source": [
    "prob_1_o_menos < 0.1/2"
   ]
  },
  {
   "cell_type": "markdown",
   "metadata": {
    "slideshow": {
     "slide_type": "fragment"
    }
   },
   "source": [
    "Entonces si obtenemos 7 caras no podemos rechazar $H_0$, y si obtenemos 1 cara rechazamos $H_0$\n",
    "\n",
    "Estos resultados coinciden con los obtenidos usando el planteo de los valores críticos, y son alternativas de solución al mismo problema."
   ]
  },
  {
   "cell_type": "markdown",
   "metadata": {
    "slideshow": {
     "slide_type": "slide"
    }
   },
   "source": [
    "<div class=\"div-dhds-fondo-1\"> Material Adicional\n",
    "<img src=\"https://raw.githubusercontent.com/Digital-House-DATA/ds_blend_2021_img/master/M2/CLASE_16_EstadisticaInferencial2/Presentacion/img/M2_CLASE_16_separador.png\" align=\"center\" />\n",
    "\n",
    "</div>"
   ]
  },
  {
   "cell_type": "markdown",
   "metadata": {
    "slideshow": {
     "slide_type": "slide"
    }
   },
   "source": [
    "### Material Adicional\n",
    "\n",
    "---\n",
    "\n",
    "Test de hipótesis en una muestra\n",
    "\n",
    "https://www.khanacademy.org/math/statistics-probability/significance-tests-one-sample\n",
    "\n",
    "    \n",
    "Test de diferencias entre dos muestras\n",
    "    \n",
    "https://www.khanacademy.org/math/statistics-probability/significance-tests-confidence-intervals-two-samples\n",
    "    "
   ]
  }
 ],
 "metadata": {
  "kernelspec": {
   "display_name": "Python 3",
   "language": "python",
   "name": "python3"
  },
  "language_info": {
   "codemirror_mode": {
    "name": "ipython",
    "version": 3
   },
   "file_extension": ".py",
   "mimetype": "text/x-python",
   "name": "python",
   "nbconvert_exporter": "python",
   "pygments_lexer": "ipython3",
   "version": "3.8.5"
  }
 },
 "nbformat": 4,
 "nbformat_minor": 4
}
