{
 "cells": [
  {
   "cell_type": "code",
   "execution_count": 1,
   "metadata": {},
   "outputs": [
    {
     "name": "stdout",
     "output_type": "stream",
     "text": [
      "/media/paulati/Nuevo vol/paula/dh/2021/dsad_2021_paula/common\n",
      "default checking\n",
      "Running command `conda list`... ok\n",
      "jupyterlab=2.2.6 already installed\n",
      "pandas=1.1.5 already installed\n",
      "bokeh=2.2.3 already installed\n",
      "seaborn=0.11.0 already installed\n",
      "matplotlib=3.3.2 already installed\n",
      "ipywidgets=7.5.1 already installed\n",
      "pytest=6.2.1 already installed\n",
      "chardet=4.0.0 already installed\n",
      "psutil=5.7.2 already installed\n",
      "scipy=1.5.2 already installed\n",
      "statsmodels=0.12.1 already installed\n",
      "scikit-learn=0.23.2 already installed\n",
      "xlrd=2.0.1 already installed\n",
      "Running command `conda install --yes nltk=3.5.0`... ok\n",
      "Collecting package metadata (current_repodata.json): ...working... done\n",
      "Solving environment: ...working... done\n",
      "\n",
      "# All requested packages already installed.\n",
      "\n",
      "\n",
      "unidecode=1.1.1 already installed\n",
      "pydotplus=2.0.2 already installed\n",
      "pandas-datareader=0.9.0 already installed\n",
      "flask=1.1.2 already installed\n"
     ]
    }
   ],
   "source": [
    "%run \"../../../common/0_notebooks_base_setup.py\"    "
   ]
  },
  {
   "cell_type": "markdown",
   "metadata": {},
   "source": [
    "---\n",
    "\n",
    "<img src='../../../common/logo_DH.png' align='left' width=35%/>\n"
   ]
  },
  {
   "cell_type": "markdown",
   "metadata": {},
   "source": [
    "# Estadística Inferencial - Test de Hipótesis"
   ]
  },
  {
   "cell_type": "markdown",
   "metadata": {},
   "source": [
    "<a id=\"section_toc\"></a> \n",
    "## Tabla de Contenidos\n",
    "\n",
    "\n",
    "[Intro](#section_intro)\n",
    "\n",
    "[Imports](#section_imports)\n",
    "\n",
    "[Recordemos de la notebook de Probabilidad](#section_repaso)\n",
    "\n",
    "[H0 y H1](#section_H0_H1)\n",
    "\n",
    "[Pasos en un test de hipótesis](#section_pasos)\n",
    "\n",
    "[p-value](#section_pvalue)\n",
    "\n",
    "[Teorema central del límite](#section_tcl)\n",
    "\n",
    "[Ejemplo de test de hipótesis para la media poblacional](#section_ejemplo_test_media_poblacional)\n",
    "\n",
    "[Test de hipótesis para una población](#section_test_una_poblacion)\n",
    "\n",
    "$\\hspace{.5cm}$[Especificación de las hipótesis nula y alternativa](#section_especificacion_H0_H1)\n",
    "\n",
    "$\\hspace{.5cm}$[Tests para la media de una población normal con varianza conocida](#section_test_media_poblacion_normal_varianza_conocida)\n",
    "\n",
    "$\\hspace{.5cm}$[Tests para la media de una población normal con varianza desconocida](#section_test_media_poblacion_normal_varianza_desconocida)\n",
    "\n",
    "$\\hspace{.5cm}$[Test para la proporción](#section_test_proporcion)\n",
    "\n",
    "$\\hspace{.5cm}$[Interpretación del nivel de significación de un test](#section_interpretacion_alfa)\n",
    "\n",
    "[En resumen](#section_resumen)\n",
    "\n",
    "[Tipos de error en test de hipótesis](#section_tipos_error)\n",
    "\n",
    "[A/B Testing](#section_ab_testing)\n",
    "\n"
   ]
  },
  {
   "cell_type": "markdown",
   "metadata": {},
   "source": [
    "<a id=\"section_intro\"></a> \n",
    "## Intro\n",
    "\n",
    "[volver a TOC](#section_toc)\n",
    "\n",
    "Dentro de la inferencia estadística, un contraste de hipótesis (también denominado test de hipótesis o prueba de significación) es un procedimiento para decidir si una propiedad que se supone en una población estadística es compatible con lo observado en una muestra de dicha población.\n",
    "\n"
   ]
  },
  {
   "cell_type": "markdown",
   "metadata": {},
   "source": [
    "<a id=\"section_imports\"></a> \n",
    "## Imports\n",
    "\n",
    "[volver a TOC](#section_toc)\n"
   ]
  },
  {
   "cell_type": "code",
   "execution_count": 2,
   "metadata": {},
   "outputs": [],
   "source": [
    "import scipy.stats as stats\n",
    "import math\n",
    "import numpy as np\n",
    "import seaborn as sns\n",
    "import matplotlib.pyplot as plt\n",
    "import numpy as np\n",
    "import pandas as pd"
   ]
  },
  {
   "cell_type": "markdown",
   "metadata": {},
   "source": [
    "<a id=\"section_repaso\"></a> \n",
    "## Recordemos de la notebook de Probabilidad\n",
    "\n",
    "[volver a TOC](#section_toc)\n",
    "\n",
    "\n",
    "La **distribución de probabilidad de una variable aleatoria X**, también llamada **función de distribución** de X es la función $F_X(x)$, que asigna a cada evento definido sobre la variable aleatoria $X$ una probabilidad dada por la siguiente expresión:\n",
    "\n",
    "\\begin{equation}\n",
    "  F_X(x) = P(X \\le x)\n",
    "\\end{equation}\n",
    "\n",
    "Usando `scipy.stats`, `stats.norm.cdf(z)` calcula  $F_X(z)$\n",
    "\n",
    "https://docs.scipy.org/doc/scipy/reference/generated/scipy.stats.norm.html\n"
   ]
  },
  {
   "cell_type": "code",
   "execution_count": 3,
   "metadata": {},
   "outputs": [
    {
     "data": {
      "image/png": "[encoded data removed]",
      "text/plain": [
       "<Figure size 432x288 with 1 Axes>"
      ]
     },
     "metadata": {
      "needs_background": "light"
     },
     "output_type": "display_data"
    }
   ],
   "source": [
    "z = -0.5\n",
    "\n",
    "# Plot the normal distribution\n",
    "samples = 100\n",
    "x_plot = np.linspace(-5, 5, samples)\n",
    "y_plot = stats.norm.pdf(x_plot, 0, 1)\n",
    "plt.plot(x_plot, y_plot)\n",
    "\n",
    "# Plot the critical region\n",
    "x_crit = np.linspace(-5, z, samples)\n",
    "y_crit = stats.norm.pdf(x_crit, 0, 1)\n",
    "# colorea la region de rechazo de H0:\n",
    "plt.fill_between(x_crit,  y_crit, alpha=.5)\n",
    "\n",
    "# Plot the z score, linea naranja:\n",
    "plt.plot([z, z], [0, stats.norm.pdf(z)], '--')\n",
    "\n",
    "plt.plot([-5, z], [stats.norm.pdf(z), stats.norm.pdf(z)], '--')\n",
    "\n",
    "# Show legend\n",
    "plt.legend(['dist normal N(0,1)', 'z (coord en eje x)', 'pdf(z) (coord en eje y)', 'F_X(z) = p(X  <= z)'])\n",
    "plt.show()"
   ]
  },
  {
   "cell_type": "markdown",
   "metadata": {},
   "source": [
    "\n",
    "Si dado una valor alfa de probabilidad acumulada $F_X(x) = \\alpha $ queremos saber cuál es el valor de x que corresponde a ese valor de $\\alpha$ usamos `stats.norm.ppf`\n",
    "\n",
    "`stats.norm.ppf(alfa)` devuelve un valor $z$, cuyo probabilidad acumulada $F_X(z)$ es igual a $\\alpha $\n",
    "\n",
    "<a id=\"section_H0_H1\"></a> \n",
    "## H0 y H1\n",
    "\n",
    "[volver a TOC](#section_toc)\n",
    "\n",
    "\n",
    "Se denomina hipótesis nula $H_{0}$, a la hipótesis que se desea contrastar, que identificamos con la hipótesis de no cambio, no diferencia, no mejora, etc. \n",
    "\n",
    "$H_{0}$ representa la hipótesis que mantendremos a no ser que los datos indiquen su falsedad. \n",
    "\n",
    "La hipótesis $H_{0}$ nunca se considera probada, aunque sí puede ser rechazada por los datos. \n",
    "\n",
    "A partir de una muestra de la población en estudio, se extrae un estadístico (esto es, un valor que es función de la muestra) cuya distribución de probabilidad esté relacionada con la hipótesis en estudio y sea conocida. \n",
    "\n",
    "Definimos como región de rechazo al conjunto de valores que es más improbable bajo la hipótesis $H_{0}$, esto es el conjunto de valores para el que rechazaremos la hipótesis nula si el valor del estadístico observado pertenece a ese conjunto.\n",
    "\n",
    "La probabilidad de que se obtenga un valor del estadístico que esté en la región de rechazo aun siendo cierta la hipótesis nula puede calcularse. De esta manera, se puede escoger dicha región de tal forma que la probabilidad de cometer este error sea suficientemente pequeña.\n",
    "\n",
    "<a id=\"section_pasos\"></a> \n",
    "## Pasos en un test de hipótesis\n",
    "\n",
    "[volver a TOC](#section_toc)\n",
    "\n",
    "\n",
    "1) Formular las hipótesis nula (H0) y alternativa (H1).\n",
    "\n",
    "2) Identificar el estadístico de prueba  apropiado y su distribución bajo la hipótesis nula (asumiendo que ésta es cierta).\n",
    "\n",
    "3) Fijar el nivel de significación (la probabilidad de equivocarme al rechazar H0 que estoy dispuesto a tolerar).\n",
    "\n",
    "4) Establecer la regla de decisión (dado el nivel de significación, calculamos valores críticos que separan la región de no rechazo de la de rechazo).\n",
    "\n",
    "5) Recolectar datos y calcular el valor muestral del estadístico de prueba.\n",
    "\n",
    "6) Tomar la decisión estadística.\n",
    "\n",
    "En forma general:\n",
    "\n",
    "$${estadistico \\text{ } de \\text{ } test} = \\frac{estadistico \\text{ } muestral \\text{ }-\\text{ }valor \\text{ } del \\text{ } parametro \\text{ }poblacional \\text{ } bajo \\text{ }H_0}{error \\text{ } estandar \\text{ } del \\text{ } estadistico \\text{ } muestral}$$\n",
    "\n",
    "\n",
    "<a id=\"section_pvalue\"></a> \n",
    "## p-value\n",
    "\n",
    "[volver a TOC](#section_toc)\n",
    "\n",
    "\n",
    "El p-value es la probabilidad de obtener el valor observado o valores más extremos del estadístico de prueba si la hipótesis nula fuese cierta.\n",
    "\n",
    "Si p-value es menor que nivel de significación (alfa), entonces rechazo H0. \n",
    "\n",
    "Esta es una forma alternativa de fijar la regla de decisión, sin calcular los valores críticos.\n",
    "\n",
    "\n",
    "<a id=\"section_tcl\"></a> \n",
    "## Teorema central del límite\n",
    "\n",
    "[volver a TOC](#section_toc)\n",
    "\n",
    "\n",
    "Sea $X_1, X_2, ..., X_n$ un conjunto de variables aleatorias, independientes e identicamente distribuídas de una distribución con media $\\mu$ y varianza $\\sigma^2 \\neq 0$. Entonces si $n$ es suficientemente grande, la variable aleatoria $\\hat{X} = \\frac{1}{n} \\sum _{i=1}^{n}{X_i}$ tiene aproximadamente una distribución normal con $\\mu_{\\hat{X}} = \\mu$ y ${\\sigma_{\\hat{X}}^2} = {\\frac{\\sigma^2}{n}}$\n",
    "\n"
   ]
  },
  {
   "cell_type": "markdown",
   "metadata": {},
   "source": [
    "---\n",
    "\n",
    "<a id=\"section_ejemplo_test_media_poblacional\"></a> \n",
    "## Ejemplo de test de hipótesis para la media poblacional\n",
    "\n",
    "[volver a TOC](#section_toc)\n",
    "\n",
    "\n",
    "\n",
    "Un investigador de mercados y hábitos de comportamiento afirma que el tiempo que los niños de tres a cinco años dedican a ver la televisión cada semana es en promedio **22 horas**. \n",
    "\n",
    "Frente a este estudio, una empresa de investigación de mercados cree que la media es mayor y para probar su hipótesis toma una **muestra de 64 observaciones** procedentes de la misma población, obteniendo como resultado una **media de 25 y desvío estándar de 6 horas**. \n",
    "\n",
    "Verifique si la afirmación del investigador es realmente cierta utilizando un **nivel de significación del 5%**.\n",
    "\n",
    "¿Qué sabemos? \n",
    "- Tenemos una hipótesis sobre la media poblacional\n",
    "- Tenemos una muestra\n",
    "- Queremos saber si la muestra nos puede proveer evidencia para rechazar nuestra hipótesis sobre la media poblacional.\n",
    "\n",
    "Queremos saber si la muestra nos puede proveer evidencia para rechazar nuestra hipótesis sobre la media poblacional.\n",
    "\n",
    "Planteamos las hipótesis ($\\mu$ el la media poblacional):\n",
    "\n",
    "H0: $\\mu$ = 22\n",
    "\n",
    "H1: $\\mu$ > 22\n",
    "\n",
    "Por TCL y suponiendo H0 verdadera, la media muestral tiene distribución normal con media 22 y sigma = 6 / sqrt(64). \n",
    "\n",
    "Entonces la variable aleatoria $Z = \\frac{media\\text{ }muestral - media\\text{ }H0}{\\sigma / \\sqrt{n}}$ tiene distribución $N(0,1)$ y podemos calcular valores críticos usando `stats.norm.cdf` que dado un valor de Z nos devuelve la probabilidad acumulada para ese Z\n",
    "\n",
    "https://docs.scipy.org/doc/scipy-0.16.0/reference/generated/scipy.stats.norm.html\n"
   ]
  },
  {
   "cell_type": "code",
   "execution_count": 4,
   "metadata": {},
   "outputs": [
    {
     "name": "stdout",
     "output_type": "stream",
     "text": [
      "estadístico de test: 4.0\n",
      "nivel de significación: 0.05\n"
     ]
    }
   ],
   "source": [
    "media_muestral = 25\n",
    "media_H0 = 22\n",
    "sd = 6\n",
    "n = 64\n",
    "\n",
    "#construimos el estadístico de test Z:\n",
    "Z = (media_muestral - media_H0 ) / (sd/math.sqrt(n))\n",
    "print('estadístico de test:', Z)\n",
    "\n",
    "alpha = 0.05\n",
    "print('nivel de significación:', alpha)\n"
   ]
  },
  {
   "cell_type": "markdown",
   "metadata": {},
   "source": [
    "Calculemos la probabilidad de obtener un valor de 4 o más extremo para Z dado que Z tiene distribución $N(0, 1)$\n",
    "\n",
    "Prob(Z >= 4) = 1 - Prob(Z < 4) = 1 - `stats.norm.cdf(Z)`"
   ]
  },
  {
   "cell_type": "code",
   "execution_count": 5,
   "metadata": {},
   "outputs": [
    {
     "data": {
      "text/plain": [
       "3.167124183311998e-05"
      ]
     },
     "execution_count": 5,
     "metadata": {},
     "output_type": "execute_result"
    }
   ],
   "source": [
    "1 - stats.norm.cdf(Z)"
   ]
  },
  {
   "cell_type": "markdown",
   "metadata": {},
   "source": [
    "Que resulta en un numero muy chico. Esto quiere decir que si H0 es verdadera, es muy baja la probabilidad de encontrar un valor de 4 (que corresponde a la media muestral de 25) o más. Y como este número es menor a 0.05 que es el nivel de significación del test, entonces rechazamos H0.\n",
    "\n",
    "Podemos llegar a la misma conclusión de otra forma. Calculemos ahora los valores que definen la región de rechazo y grafiquemos.\n",
    "\n",
    "`stats.norm.ppf` recibe como parámetro una valor para alpha y devuelve el valor de Z cuya probabilidad acumulada es alpha."
   ]
  },
  {
   "cell_type": "code",
   "execution_count": 6,
   "metadata": {},
   "outputs": [
    {
     "data": {
      "text/plain": [
       "1.6448536269514722"
      ]
     },
     "execution_count": 6,
     "metadata": {},
     "output_type": "execute_result"
    }
   ],
   "source": [
    "# necesitamos el valor de Z por derecha, hacemos 1 - significación o equivalentemente multipliamos por -1 el resultado con el alpha de 0.05\n",
    "alpha = 1 - 0.05\n",
    "z_critico = stats.norm.ppf(alpha)\n",
    "z_critico"
   ]
  },
  {
   "cell_type": "code",
   "execution_count": 7,
   "metadata": {},
   "outputs": [
    {
     "data": {
      "image/png": "[encoded data removed]",
      "text/plain": [
       "<Figure size 432x288 with 1 Axes>"
      ]
     },
     "metadata": {
      "needs_background": "light"
     },
     "output_type": "display_data"
    }
   ],
   "source": [
    "critical_value = z_critico\n",
    "\n",
    "# Plot the normal distribution\n",
    "samples = 100\n",
    "x_plot = np.linspace(-5, 5, samples)\n",
    "y_plot = stats.norm.pdf(x_plot, 0, 1)\n",
    "plt.plot(x_plot, y_plot)\n",
    "\n",
    "# Plot the critical region\n",
    "x_crit = np.linspace(critical_value, 5, samples)\n",
    "y_crit = stats.norm.pdf(x_crit, 0, 1)\n",
    "# colorea la region de rechazo de H0:\n",
    "plt.fill_between(x_crit,  y_crit, alpha=.5)\n",
    "\n",
    "# Plot the z score, linea naranja:\n",
    "plt.plot([Z, Z], [0, stats.norm.pdf(Z)])\n",
    "\n",
    "# Show legend\n",
    "plt.legend(['z critico', 'z score'])\n",
    "plt.show()"
   ]
  },
  {
   "cell_type": "markdown",
   "metadata": {},
   "source": [
    "Vemos que la región de rechazo es la coloreada de celeste, que empieza en el valor `z_critico`\n",
    "\n",
    "Este valor indica que la probabilidad de obtener un valor como ese o más extremo, cuando H0 es verdadera es 0.05. \n",
    "\n",
    "Como el valor que obtuvimos está dentro de la región de rechazo, rechazamos H0."
   ]
  },
  {
   "cell_type": "markdown",
   "metadata": {},
   "source": [
    "<a id=\"section_test_una_poblacion\"></a> \n",
    "## Test de hipótesis para una población\n",
    "\n",
    "[volver a TOC](#section_toc)\n",
    "\n",
    "\n",
    "<a id=\"section_especificacion_H0_H1\"></a> \n",
    "### Especificación de las hipótesis nula y alternativa\n",
    "\n",
    "[volver a TOC](#section_toc)\n",
    "\n",
    "\n",
    "Hipótesis unilaterales\n",
    "\n",
    "H0: $\\mu = \\mu0$    \n",
    "H1: $\\mu > \\mu0$\n",
    "\n",
    "H0: $\\mu = \\mu0$    \n",
    "H1: $\\mu < \\mu0$\n",
    "\n",
    "\n",
    "Hipótesis bilaterales\n",
    "\n",
    "H0: $\\mu = \\mu0$    \n",
    "H1: $\\mu \\neq \\mu0$\n",
    "\n",
    "\n",
    "<a id=\"section_test_media_poblacion_normal_varianza_conocida\"></a> \n",
    "### Tests para la media de una población normal con varianza conocida\n",
    "\n",
    "[volver a TOC](#section_toc)\n",
    "\n",
    "#### Estadístico de prueba\n",
    "\n",
    "$$Z = \\frac{\\bar{X} - \\mu0}{\\sigma / \\sqrt{n}}$$\n",
    "\n",
    "Bajo H0, es decir si suponemos que H0 es verdadera, este estadístico tiene distribución normal estándar (con media 0 y desvío 1).\n",
    "\n",
    "Si la varianza no es conocida pero podemos asumir la normalidad de la distribución de la media muestral, podemos utilizar al desvío estándar de la muestra como estimador de sigma.\n",
    "\n",
    "#### Ejemplo\n",
    "\n",
    "Fijamos nivel de significación (alpha) en 5%. \n",
    "Tenemos una muestra de n=25 donde la media muestral es 80.94. Por otra parte, se sabe que el desvío poblacional es  11.6.\n",
    "H0: $\\mu  = 85$\n",
    "H1: $\\mu  < 85$\n",
    "\n",
    "El valor del estadístico resulta:\n"
   ]
  },
  {
   "cell_type": "code",
   "execution_count": 8,
   "metadata": {},
   "outputs": [
    {
     "data": {
      "text/plain": [
       "-1.750000000000001"
      ]
     },
     "execution_count": 8,
     "metadata": {},
     "output_type": "execute_result"
    }
   ],
   "source": [
    "Z = (80.94 - 85) / (11.6 / math.sqrt(25))\n",
    "Z"
   ]
  },
  {
   "cell_type": "markdown",
   "metadata": {},
   "source": [
    "Evaluando de acuerdo a la región crítica, calculamos `z_critico`"
   ]
  },
  {
   "cell_type": "code",
   "execution_count": 9,
   "metadata": {},
   "outputs": [
    {
     "data": {
      "text/plain": [
       "-1.6448536269514729"
      ]
     },
     "execution_count": 9,
     "metadata": {},
     "output_type": "execute_result"
    }
   ],
   "source": [
    "alpha = 0.05\n",
    "z_critico = stats.norm.ppf(alpha)\n",
    "z_critico"
   ]
  },
  {
   "cell_type": "markdown",
   "metadata": {},
   "source": [
    "Y vemos que `Z` es menor que `z_critico` entonces rechazamos H0. \n",
    "\n",
    "Representamos gráficamente este resultado"
   ]
  },
  {
   "cell_type": "code",
   "execution_count": 10,
   "metadata": {},
   "outputs": [
    {
     "data": {
      "image/png": "[encoded data removed]",
      "text/plain": [
       "<Figure size 432x288 with 1 Axes>"
      ]
     },
     "metadata": {
      "needs_background": "light"
     },
     "output_type": "display_data"
    }
   ],
   "source": [
    "critical_value = z_critico\n",
    "\n",
    "# Plot the normal distribution\n",
    "samples = 100\n",
    "x_plot = np.linspace(-3.5, 3.5, samples)\n",
    "y_plot = stats.norm.pdf(x_plot, 0, 1)\n",
    "plt.plot(x_plot, y_plot)\n",
    "\n",
    "# Plot the critical region\n",
    "x_crit = np.linspace(critical_value, -3.5, samples)\n",
    "y_crit = stats.norm.pdf(x_crit, 0, 1)\n",
    "# colorea la region de rechazo de H0:\n",
    "plt.fill_between(x_crit,  y_crit, alpha=.5)\n",
    "\n",
    "# Plot the z score, linea naranja:\n",
    "plt.plot([Z, Z], [0, stats.norm.pdf(Z)])\n",
    "\n",
    "# Show legend\n",
    "plt.legend(['z critico', 'z score'])\n",
    "plt.show()"
   ]
  },
  {
   "cell_type": "markdown",
   "metadata": {},
   "source": [
    "Otra forma de tomar la decisión es mediante el cálculo del p-value: rechazamos H0 si p-value es menor que el nivel de significación alpha.\n",
    "\n",
    "Calculemos p-value usando `stats.norm.cdf` que nos devuelve la probabilidad acumulada para el valor pasado como parámetro"
   ]
  },
  {
   "cell_type": "code",
   "execution_count": 11,
   "metadata": {},
   "outputs": [
    {
     "data": {
      "text/plain": [
       "0.04005915686381699"
      ]
     },
     "execution_count": 11,
     "metadata": {},
     "output_type": "execute_result"
    }
   ],
   "source": [
    "p_value = stats.norm.cdf(Z)\n",
    "p_value"
   ]
  },
  {
   "cell_type": "markdown",
   "metadata": {},
   "source": [
    "Vemos que p_value es menor que 0.05, por lo tanto rechazamos H0."
   ]
  },
  {
   "cell_type": "markdown",
   "metadata": {},
   "source": [
    "<a id=\"section_test_media_poblacion_normal_varianza_desconocida\"></a> \n",
    "### Tests para la media de una población normal con varianza desconocida\n",
    "\n",
    "[volver a TOC](#section_toc)\n",
    "\n",
    "\n",
    "Si no conocemos la varianza poblacional y no podemos asegurar las condiciones de normalidad de la distribución de la media muestral, entonces utilizamos el estadístico de prueba T-Student con n - 1 grados de libertad.\n",
    "\n",
    "#### Estadístico de prueba\n",
    "\n",
    "$$T = \\frac{\\bar{X} - \\mu0}{S / \\sqrt{n}}$$\n",
    "\n",
    "#### Ejemplo\n",
    "\n",
    "Muestra de n = 100\n",
    "\n",
    "Media muestral de 130.1 con una desviación estándar de 21.21.\n",
    "\n",
    "H0: $\\mu = 120$\n",
    "\n",
    "H1: $\\mu \\neq 120$\n",
    "\n",
    " El valor del estadístico resulta:\n",
    "\n"
   ]
  },
  {
   "cell_type": "code",
   "execution_count": 12,
   "metadata": {},
   "outputs": [
    {
     "data": {
      "text/plain": [
       "4.761904761904759"
      ]
     },
     "execution_count": 12,
     "metadata": {},
     "output_type": "execute_result"
    }
   ],
   "source": [
    "T = (130.1 - 120) / (21.21 / math.sqrt(100))\n",
    "T"
   ]
  },
  {
   "cell_type": "markdown",
   "metadata": {},
   "source": [
    "Usando el enfoque de región crítica, calculemos los valores de t_critico_izq, t_critico_der\n",
    "\n",
    "Para eso usamos la función `stats.t.ppf`\n",
    "\n",
    "https://docs.scipy.org/doc/scipy-0.16.0/reference/generated/scipy.stats.t.html"
   ]
  },
  {
   "cell_type": "code",
   "execution_count": 13,
   "metadata": {},
   "outputs": [
    {
     "data": {
      "text/plain": [
       "-1.9842169515086832"
      ]
     },
     "execution_count": 13,
     "metadata": {},
     "output_type": "execute_result"
    }
   ],
   "source": [
    "alpha = 0.05\n",
    "grados_libertad = 99\n",
    "t_critico = stats.t.ppf(alpha / 2, df=grados_libertad)\n",
    "t_critico"
   ]
  },
  {
   "cell_type": "markdown",
   "metadata": {},
   "source": [
    "Rechazamos la hipótesis nula  al nivel $\\alpha = 0.05$ si \n",
    "\n",
    "$T \\ge T_{0.025, 99} = 1.9842$ \n",
    "\n",
    "o si \n",
    "\n",
    "$T \\le T_{0.025, 99} = -1.9842$\n",
    "\n",
    "Por lo tanto, rechazamos la hipótesis nula: T = 4.762 > 1.9842 porque T cae en la región de rechazo"
   ]
  },
  {
   "cell_type": "code",
   "execution_count": 14,
   "metadata": {},
   "outputs": [
    {
     "name": "stdout",
     "output_type": "stream",
     "text": [
      "T:  4.761904761904759\n"
     ]
    },
    {
     "data": {
      "image/png": "[encoded data removed]",
      "text/plain": [
       "<Figure size 432x288 with 1 Axes>"
      ]
     },
     "metadata": {
      "needs_background": "light"
     },
     "output_type": "display_data"
    }
   ],
   "source": [
    "critical_value = t_critico\n",
    "\n",
    "# Plot the normal distribution\n",
    "samples = 1000\n",
    "x_plot = np.linspace(-5, 5, samples)\n",
    "y_plot = stats.t.pdf(x_plot, df = grados_libertad)\n",
    "plt.plot(x_plot, y_plot)\n",
    "\n",
    "# Plot the critical region\n",
    "x_crit_left = np.linspace( critical_value, -3.5, samples)\n",
    "x_crit_right = np.linspace(- critical_value, 3.5, samples)\n",
    "y_crit_left = stats.t.pdf(x_crit_left, df = grados_libertad)\n",
    "y_crit_right = stats.t.pdf(x_crit_right, df = grados_libertad)\n",
    "# colorea la region de rechazo de H0:\n",
    "plt.fill_between(x_crit_left, y_crit_left, alpha=.5, color = \"blue\")\n",
    "plt.fill_between(x_crit_right, y_crit_right, alpha=.5, color = \"blue\")\n",
    "\n",
    "# Plot the z score, linea naranja:\n",
    "plt.plot([T, T], [0, stats.t.pdf(T, df = grados_libertad)])\n",
    "print('T: ', T)\n",
    "# Show legend\n",
    "plt.legend(['t critico', 't score'])\n",
    "plt.show()"
   ]
  },
  {
   "cell_type": "markdown",
   "metadata": {},
   "source": [
    "Tenemos la misma conclusión al usar el enfoque del p-value. \n",
    "\n",
    "Este enfoque nos dice que rechacemos la hipótesis nula al nivel $\\alpha = 0.05$ si el valor $ p-value \\lt \\alpha / 2 = 0.025$\n",
    "\n",
    "La probabilidad de obtener un valor como T o más extremo es 1 - probabilidad acumulada en T. Este valor es menor que 0.025 por lo tanto rechazamos H0"
   ]
  },
  {
   "cell_type": "code",
   "execution_count": 15,
   "metadata": {},
   "outputs": [
    {
     "data": {
      "text/plain": [
       "3.281350908546088e-06"
      ]
     },
     "execution_count": 15,
     "metadata": {},
     "output_type": "execute_result"
    }
   ],
   "source": [
    "p_value = 1 - stats.t.cdf(T, df = grados_libertad)\n",
    "p_value"
   ]
  },
  {
   "cell_type": "markdown",
   "metadata": {},
   "source": [
    "<a id=\"section_test_proporcion\"></a> \n",
    "### Test para la proporción\n",
    "\n",
    "[volver a TOC](#section_toc)"
   ]
  },
  {
   "cell_type": "markdown",
   "metadata": {},
   "source": [
    "#### Ejemplo\n",
    "\n",
    "Se tira un dado con 4 caras (tetraedro) 1000 veces y se registra que salen 290 veces el número 4.\n",
    "\n",
    "¿Hay evidencia para concluir que el dado está sesgado, es decir, que se observan más veces el número 4 que lo esperado?\n",
    "\n",
    "Si el dado está equilibrado, cada cara tiene probabilidad 0.25 de aparecer. Supongamos inicialmente que este es el caso:\n",
    "\n",
    "H0: p = 0.25\n",
    "\n",
    "En base  a la muestra la proporción observada resulta:"
   ]
  },
  {
   "cell_type": "code",
   "execution_count": 16,
   "metadata": {},
   "outputs": [
    {
     "data": {
      "text/plain": [
       "0.29"
      ]
     },
     "execution_count": 16,
     "metadata": {},
     "output_type": "execute_result"
    }
   ],
   "source": [
    "p_hat = 290 / 1000\n",
    "p_hat"
   ]
  },
  {
   "cell_type": "markdown",
   "metadata": {},
   "source": [
    "Según el Teorema Central del Límite, la proporción muestral tiene distribución asintóticamente normal con media (bajo H0) p0 = 0.25 y desvío estándar (bajo H0) \n",
    "\n",
    "$$\\sqrt \\frac {p_0 (1 - p_0)}{n}$$\n",
    "\n",
    "Por lo que, bajo H0, este estadístico tiene distribución normal estándar (con media 0 y desvío 1):\n",
    "\n",
    "$$Z = \\frac {\\hat{p} - p_0} {\\sqrt \\frac {p_0 (1 - p_0)}{n}}$$\n",
    "\n",
    "Establecemos\n",
    "\n",
    "H0: probabilidad de obtener un 4 = 0.25\n",
    "\n",
    "H1: probabilidad de obtener un 4 > 0.25\n",
    "\n",
    "Nivel de significación alfa: 0.05\n",
    "\n",
    "Calulamos el valor de `z_critico`"
   ]
  },
  {
   "cell_type": "code",
   "execution_count": 17,
   "metadata": {},
   "outputs": [
    {
     "data": {
      "text/plain": [
       "1.6448536269514729"
      ]
     },
     "execution_count": 17,
     "metadata": {},
     "output_type": "execute_result"
    }
   ],
   "source": [
    "alpha = 0.05\n",
    "z_critico = (-1) * stats.norm.ppf(alpha)\n",
    "z_critico"
   ]
  },
  {
   "cell_type": "markdown",
   "metadata": {},
   "source": [
    "Entonces rechazamos si Z es mayor que `z_critico`"
   ]
  },
  {
   "cell_type": "code",
   "execution_count": 18,
   "metadata": {},
   "outputs": [
    {
     "data": {
      "text/plain": [
       "2.9211869733608844"
      ]
     },
     "execution_count": 18,
     "metadata": {},
     "output_type": "execute_result"
    }
   ],
   "source": [
    "p0 = 0.25 # p bajo H0\n",
    "Z = (p_hat - p0) / (math.sqrt(p0 * (1-p0) / 1000))\n",
    "Z"
   ]
  },
  {
   "cell_type": "markdown",
   "metadata": {},
   "source": [
    "Como `Z` es mayor que `z_critico`, rechazamos H0"
   ]
  },
  {
   "cell_type": "markdown",
   "metadata": {},
   "source": [
    "<a id=\"section_interpretacion_alfa\"></a> \n",
    "### Interpretación del nivel de significación $\\alpha$ de un test\n",
    "\n",
    "[volver a TOC](#section_toc)\n",
    "\n",
    "\n",
    "**El nivel de significación indica la proporción de veces que nos vamos a equivocar rechazando $ H_0 $ cuando $ H_0 $ es verdadera, al tomar muestras de la misma población y aplicar la regla de decisión basados en un valor crítico (que fue elegido en base a un nivel de significación $\\alpha$ ).** \n",
    "\n",
    "Para ver eso, generemos un array de 5000 puntos con distribución normal de media 2 y desvío 1. Consideramos a esta serie nuestra población. \n",
    "Platenamos como \n",
    "\n",
    "H0: $\\mu = 2$\n",
    "\n",
    "H1: $\\mu \\neq 2$\n",
    "\n",
    "El nivel de significación del test es 0.05, es un test a dos colas (porque rechazamos a H0 con valores muy bajos o muy altos)\n",
    "\n",
    "Ahora vamos a generar 1000 muestras de la población con 100 elementos cada una y vamos a testear H0 en cada una de esas muestras.\n",
    "\n",
    "El estadístico de test es \n",
    "\n",
    "$$Z = \\frac{\\bar{X} - \\mu0}{\\sigma / \\sqrt{n}}$$\n",
    "\n",
    "Y contamos la cantidad de rechazos en esas muestras.\n"
   ]
  },
  {
   "cell_type": "code",
   "execution_count": 19,
   "metadata": {},
   "outputs": [
    {
     "data": {
      "image/png": "[encoded data removed]",
      "text/plain": [
       "<Figure size 432x288 with 1 Axes>"
      ]
     },
     "metadata": {
      "needs_background": "light"
     },
     "output_type": "display_data"
    }
   ],
   "source": [
    "random_generator = np.random.default_rng()\n",
    "data_poblacion = random_generator.normal(loc=2, scale=1, size = 5000)\n",
    "sns.histplot(data_poblacion, kde = True, stat = 'density');"
   ]
  },
  {
   "cell_type": "markdown",
   "metadata": {},
   "source": [
    "Como el test es a dos colas, necesitamos dos valores críticos:\n",
    "* z_critico_izq que es el valor que deja a su izquierda una probabilidad acumulada de 0.025 (la mitad de la significación del test)    \n",
    "* z_critico_der que es el valor que deja a su izquierda una probabilidad acumulada de 0.975 (=1-0.025) (la otra mitad de la significación del test, por derecha)    \n",
    "\n",
    "Como la distribución es simétrica, z_critico_izq es igual a -1 * z_critico_der\n",
    "\n",
    "Observemos que usamos los mismo valores críticos para evaluar la hipótesis en todas las muestras, porque los valores críticos dependen solamente de \n",
    "* el valor de significación del test, \n",
    "* la distribución del estadístico de test, N(0,1) en este caso"
   ]
  },
  {
   "cell_type": "code",
   "execution_count": 20,
   "metadata": {},
   "outputs": [
    {
     "name": "stdout",
     "output_type": "stream",
     "text": [
      "-1.9599639845400545 1.959963984540054\n"
     ]
    }
   ],
   "source": [
    "alpha = 0.05\n",
    "z_critico_izq = stats.norm.ppf(alpha/2)\n",
    "z_critico_der = stats.norm.ppf(1 - alpha/2)\n",
    "print(z_critico_izq, z_critico_der)"
   ]
  },
  {
   "cell_type": "code",
   "execution_count": 21,
   "metadata": {},
   "outputs": [
    {
     "name": "stdout",
     "output_type": "stream",
     "text": [
      "proporción de rechazos:  0.06\n"
     ]
    }
   ],
   "source": [
    "sample_count = 1000\n",
    "sample_size = 100\n",
    "\n",
    "mu_0 = 2\n",
    "sd = 1\n",
    "\n",
    "rechazos = []\n",
    "\n",
    "for i in range(sample_count):\n",
    "    # creo la muestra\n",
    "    data_sample = random_generator.choice(data_poblacion, size = sample_size,  replace=False)\n",
    "    media_muestral = data_sample.mean()\n",
    "    # calculo Z\n",
    "    Z = (media_muestral - mu_0 ) / (sd/math.sqrt(sample_size))\n",
    "    # aplico la regla de decisión\n",
    "    rechazo = (Z < z_critico_izq) or (Z > z_critico_der)\n",
    "    # guardo el resultado en la lista rechazos\n",
    "    rechazos.append(rechazo)\n",
    "\n",
    "\n",
    "print(\"proporción de rechazos: \", sum(rechazos) / sample_count)"
   ]
  },
  {
   "cell_type": "markdown",
   "metadata": {},
   "source": [
    "Vemos entonces que la proporción de rechazo equivocado (porque sabemos que la población realmente tienen media 2 porque así la construímos) es aproximadamente el valor de alfa.\n",
    "\n",
    "Como ejercicio pueden modificar los valores de las variables `alpha` `sample_count` `sample_size` y verificar que esta relación se sigue cumpliendo."
   ]
  },
  {
   "cell_type": "markdown",
   "metadata": {},
   "source": [
    "<a id=\"section_resumen\"></a> \n",
    "## En resumen\n",
    "\n",
    "[volver a TOC](#section_toc)\n",
    "\n",
    "\n",
    "Para todos los casos de test que vimos vamos a:\n",
    "\n",
    "* Plantear H0 y H1 sobre el parámetro poblacional\n",
    "\n",
    "* Definir el valor de significación del test ($\\alpha$)\n",
    "\n",
    "* Definir una regla de rechazo dependiendo del tipo de relación <, > o !=\n",
    "\n",
    "* Calcular el valor del estadístico de prueba, que es una transformación del valor observado / calculado sobre la muestra.\n",
    "\n",
    "* Calcular los valores críticos / Calcular el p-value\n",
    "\n",
    "* Aplicar la regla de rechazo con el valor del estadístico de prueba y los valores críticos / el p-value"
   ]
  },
  {
   "cell_type": "markdown",
   "metadata": {},
   "source": [
    "---\n",
    "\n",
    "<a id=\"section_tipos_error\"></a> \n",
    "## Tipos de error en test de hipótesis\n",
    "\n",
    "[volver a TOC](#section_toc)\n",
    "\n",
    "\n",
    "Al realizar un test de hipótesis, podemos incurrir en dos tipos de errores:\n",
    "\n",
    "* Error de Tipo I\n",
    "\n",
    "* Error de Tipo II\n",
    "\n",
    "\n",
    "|Comparación|TYPE I ERROR|TYPE II ERROR|\n",
    "|---|:---:|:---|\n",
    "|Significado|rechazo H0 cuando H0 es verdadera|no rechazo H0 cuando H0 es falsa|\n",
    "|Equivalente a|Falso positivo|Falso negativo|\n",
    "|¿Qué es?|Es un rechazo incorrecto de la hipótesis nula que es verdadera|Es un no rechazo incorrecto de la hipótesis nula que es falsa |\n",
    "|Representa| Un falso hit|Un miss|\n",
    "|Probabilidad de cometer este error|Igual al nivel de significación del test|Igual al poder del test|\n",
    "|Se representa como|$\\alpha$|$\\beta$|\n",
    "\n",
    "---\n",
    "\n",
    "![Image](img/possible-outcomes.jpg)\n",
    "\n",
    "---\n",
    "\n",
    "Alfa y Beta varían en forma inversa… ¿por qué?\n",
    "\n",
    "![Image](img/errores_tipo_1_2.png)"
   ]
  },
  {
   "cell_type": "markdown",
   "metadata": {},
   "source": [
    "\n",
    "\n",
    "<a id=\"section_ab_testing\"></a> \n",
    "## A/B Testing\n",
    "\n",
    "[volver a TOC](#section_toc)\n",
    "\n",
    "\n",
    "### Ejemplo\n",
    "\n",
    "Una de tus principales responsabilidades es la optimización de las conversiones.\n",
    "\n",
    "Uno de tus anunciantes ha desarrollado un nuevo producto, y el VP de Advertisements quiere tu ayuda eligiendo entre el anuncio A y el anuncio B.\n",
    "\n",
    "Decidís aplicar  A/B testing para definir cuál es el mejor anuncio.\n",
    "\n",
    "$N_A$ es la cantidad de personas ven el anuncio A y que de éstas, $n_A$ hacen click en él.\n",
    "\n",
    "Podemos pensar en cada vista de un anuncio como una prueba de Bernoulli donde $p_A$ es la probabilidad que alguien haga click en el anuncio A.\n",
    "\n",
    "Entonces, si $N_A$ es grande, como es el caso aquí, sabemos que $n_A/N_A$ es aproximadamente una variable aleatoria normal con media $p_A$ y desvío estándar  $\\sigma_A = \\sqrt{\\frac {p_A (1 - p_A)} {N_A}}$\n",
    "\n",
    "Analogamente, $n_B/N_B$ es aproximadamente una variable aleatoria normal con media $p_B$ y desvío estándar $\\sigma_B = \\sqrt{\\frac {p_B (1 - p_B)} {N_B}}$\n",
    "\n",
    "Si asumimos que estas dos normales son independientes (lo que parece razonable porque las pruebas Bernoulli individuales deben serlo), entonces su diferencia debe ser también normal con media  pB- pA y  desvío estándar  \n",
    "\n",
    "Si asumimos que estas dos normales son independientes (parece razonable porque las pruebas Bernoulli individuales deben serlo), entonces su diferencia debe ser también normal con media $p_B - p_A$ y  desvío estándar $\\sqrt{\\sigma_A^2 + \\sigma_B^2}$\n",
    "\n",
    "Esto significa que podemos testear la hipótesis nula\n",
    "\n",
    "H0: $(p_B - p_A) = 0$\n",
    "\n",
    "usando el estadístico que tiene distribución aproximada $N(0,1)$:\n",
    "\n",
    "$Z = \\frac{p_B - p_A}{\\sqrt{\\sigma_A^2 + \\sigma_B^2}}$\n",
    "\n",
    "\n",
    "![Image](img/AB_testing.png)"
   ]
  }
 ],
 "metadata": {
  "kernelspec": {
   "display_name": "Python 3",
   "language": "python",
   "name": "python3"
  },
  "language_info": {
   "codemirror_mode": {
    "name": "ipython",
    "version": 3
   },
   "file_extension": ".py",
   "mimetype": "text/x-python",
   "name": "python",
   "nbconvert_exporter": "python",
   "pygments_lexer": "ipython3",
   "version": "3.8.5"
  }
 },
 "nbformat": 4,
 "nbformat_minor": 4
}
