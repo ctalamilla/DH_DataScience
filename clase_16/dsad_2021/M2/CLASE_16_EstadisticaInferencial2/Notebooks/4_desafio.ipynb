{
 "cells": [
  {
   "cell_type": "code",
   "execution_count": null,
   "metadata": {},
   "outputs": [],
   "source": [
    "%run \"../../../common/0_notebooks_base_setup.py\"    "
   ]
  },
  {
   "cell_type": "markdown",
   "metadata": {},
   "source": [
    "## Imports"
   ]
  },
  {
   "cell_type": "code",
   "execution_count": null,
   "metadata": {},
   "outputs": [],
   "source": [
    "import numpy as np\n",
    "import pandas as pd\n",
    "import scipy\n",
    "import seaborn as sns\n",
    "import matplotlib.pyplot as plt\n",
    "from scipy import stats\n",
    "import math\n",
    "import datetime\n"
   ]
  },
  {
   "cell_type": "markdown",
   "metadata": {},
   "source": [
    "---\n",
    "\n",
    "## Test de Hipótesis"
   ]
  },
  {
   "cell_type": "markdown",
   "metadata": {},
   "source": [
    "### Data\n",
    "\n",
    "El dataset que usamos en esta parte contiene reportes de  [Federal Aviation Administration Wildlife Strike Database](http://wildlife.faa.gov/database.aspx) correspondientes a los años 2012 y 2013 en el estado de California, USA.\n",
    "\n",
    "Usaremos los datos diarios de frecuencia de incidentes de golpes a fauna silvestre.\n",
    "\n",
    "### Leemos los datos"
   ]
  },
  {
   "cell_type": "code",
   "execution_count": null,
   "metadata": {},
   "outputs": [],
   "source": [
    "# Load the data from a csv file. \n",
    "data_location = \"../Data/wildlife.csv\"\n",
    "data = pd.read_csv(data_location)\n",
    "data.head()\n"
   ]
  },
  {
   "cell_type": "markdown",
   "metadata": {},
   "source": [
    "### Ejercicio: Preparación de los datos\n",
    "\n",
    "Construyamos un dataset que tenga como columnas\n",
    "\n",
    "* la fecha del incidente, de tipo datetime\n",
    "\n",
    "Ayuda: https://pandas.pydata.org/pandas-docs/stable/reference/api/pandas.to_datetime.html\n",
    "\n",
    "* la cantidad de incidentes en esa fecha, de tipo int \n",
    "\n",
    "Ayuda: https://pandas.pydata.org/pandas-docs/stable/reference/api/pandas.DataFrame.groupby.html\n"
   ]
  },
  {
   "cell_type": "code",
   "execution_count": null,
   "metadata": {},
   "outputs": [],
   "source": []
  },
  {
   "cell_type": "markdown",
   "metadata": {},
   "source": [
    "### Ejercicio: Preparación de los datos - continuación\n",
    "\n",
    "Queremos que el DataFrame que creamos en el paso anterior tenga un registro por cada día del año 2012 y 2013.\n",
    "\n",
    "Para eso vamos a: \n",
    "\n",
    "1) Asignar el valor del campo INCIDENT_DATE como índice del DataFrame construído en el punto anterior \n",
    "\n",
    "2) Crear un nuevo DataFrame que tenga sólo un índice y ninguna columna, que sea todas las fechas existentes durante los años 2012 y 2013 \n",
    "\n",
    "Ayuda: `pandas.date_range` https://pandas.pydata.org/pandas-docs/stable/reference/api/pandas.date_range.html\n",
    "\n",
    "3) Hacer un join entre los DataFrame 1) y 2). Con esto vamos a conseguir que en el DataFrame resultado haya valores null en el campo INCIDENT_COUNT para las fechas que no estaban en el DataFrame resultado del ejercicio anterior.\n",
    "\n",
    "Ayuda: https://pandas.pydata.org/pandas-docs/stable/reference/api/pandas.DataFrame.join.html\n",
    "\n",
    "4) Por último, completamos los valores nulos de INCIDENT_COUNT en el nuevo DataFrame con el valor cero\n",
    "\n",
    "Ayuda: https://pandas.pydata.org/pandas-docs/stable/reference/api/pandas.DataFrame.fillna.html\n"
   ]
  },
  {
   "cell_type": "code",
   "execution_count": null,
   "metadata": {},
   "outputs": [],
   "source": []
  },
  {
   "cell_type": "code",
   "execution_count": null,
   "metadata": {},
   "outputs": [],
   "source": []
  },
  {
   "cell_type": "code",
   "execution_count": null,
   "metadata": {},
   "outputs": [],
   "source": []
  },
  {
   "cell_type": "code",
   "execution_count": null,
   "metadata": {},
   "outputs": [],
   "source": []
  },
  {
   "cell_type": "code",
   "execution_count": null,
   "metadata": {},
   "outputs": [],
   "source": []
  },
  {
   "cell_type": "markdown",
   "metadata": {},
   "source": [
    "### Ejercicio: Exploratorio\n",
    "\n",
    "Usemos un gráficos de barras para representar los valores de frecuencia de accidentes en los años 2012 y 2013 (por separado)\n",
    "\n",
    "Para eso, agregamos al DataFrame una columna de tipo int que indique el mes que corresponde al valor de index de cada registro.\n",
    "\n",
    "Y usemos los valores de esta nueva columna como eje x."
   ]
  },
  {
   "cell_type": "code",
   "execution_count": null,
   "metadata": {},
   "outputs": [],
   "source": []
  },
  {
   "cell_type": "code",
   "execution_count": null,
   "metadata": {},
   "outputs": [],
   "source": [
    "# magia!\n",
    "# https://pandas.pydata.org/pandas-docs/stable/user_guide/indexing.html#selection-by-label\n",
    "data_2012 = data_2012_2013['2012']\n",
    "data_2013 = data_2012_2013['2013']\n"
   ]
  },
  {
   "cell_type": "code",
   "execution_count": null,
   "metadata": {},
   "outputs": [],
   "source": []
  },
  {
   "cell_type": "markdown",
   "metadata": {},
   "source": [
    "### Ejercicio: Test de hipótesis\n",
    "\n",
    "Asumamos que la Federal Aviation Administration lanzó en el 2013 un nuevo programa de prevención de incidentes con fauna silvestre.\n",
    "\n",
    "Queremos saber si hay una baja significativa en el número diario de incidentes del año 2013 respecto del 2012.\n",
    "\n",
    "Elegimos como nivel de significación (alfa) 0.05\n",
    "\n",
    "Una probabilidad menor a 0.05 rechaza la hipótesis nula.\n",
    "\n",
    "La hipótesis nula es que la media de incidentes del 2012 es la media poblacional y es igual a la media poblacional de incidentes del 2013.\n",
    "\n",
    "La hipótesis alternativa es que la media de incidentes del 2013 es menor que la del 2012.\n",
    "\n",
    "|Hypothesis|$\\alpha = .05$|   |\n",
    "|---|:---:|:---|\n",
    "|Null|$H_0:$|$\\mu = \\bar{x}_{2013}$|\n",
    "|Alternative|$H_a:$|$\\mu \\gt \\bar{x}_{2013} $|\n",
    "\n",
    "Calculemos la media de incidentes y desvío para los años 2012 y 2013"
   ]
  },
  {
   "cell_type": "code",
   "execution_count": null,
   "metadata": {},
   "outputs": [],
   "source": []
  },
  {
   "cell_type": "markdown",
   "metadata": {},
   "source": [
    "Notamos que la media de incidentes del 2013 es un poco menor que la del 2102.\n",
    "\n",
    "Queremos saber si esta diferencia se debe a la variación normal de estos dato, es decir que la diferencia se puede adjudicar al azar. \n",
    "\n",
    "Para eso, calculemos el z-score y usemos un nivel de significación 0.05\n",
    "\n"
   ]
  },
  {
   "cell_type": "code",
   "execution_count": null,
   "metadata": {},
   "outputs": [],
   "source": []
  },
  {
   "cell_type": "markdown",
   "metadata": {},
   "source": [
    "Calculamos valores críticos:"
   ]
  },
  {
   "cell_type": "code",
   "execution_count": null,
   "metadata": {},
   "outputs": [],
   "source": []
  },
  {
   "cell_type": "markdown",
   "metadata": {},
   "source": [
    "Grafiquemos datos con distribución normal, la región de rechazo, y el valor de zscore obtenido\n",
    "\n",
    "(Nota: Hay que modificar este código para que tome las variables a las que ustedes asignaron los resultados)"
   ]
  },
  {
   "cell_type": "code",
   "execution_count": null,
   "metadata": {},
   "outputs": [],
   "source": [
    "# Plot the normal distribution\n",
    "samples = 100\n",
    "x_plot = np.linspace(-3.5, 3.5, samples)\n",
    "y_plot = stats.norm.pdf(x_plot, 0, 1)\n",
    "plt.plot(x_plot, y_plot)\n",
    "\n",
    "# Plot the critical region\n",
    "x_crit = np.linspace(-3.5, critical_value, samples)\n",
    "y_crit = stats.norm.pdf(x_crit, 0, 1)\n",
    "# colorea la region de rechazo de H0:\n",
    "plt.fill_between(x_crit,  y_crit, alpha=.5)\n",
    "\n",
    "# Plot the z score, linea naranja:\n",
    "plt.plot([zscore, zscore], [0, stats.norm.pdf(zscore)])\n",
    "\n",
    "# Show legend\n",
    "plt.legend(['critical region', 'z score'])\n",
    "plt.show()"
   ]
  },
  {
   "cell_type": "markdown",
   "metadata": {},
   "source": [
    "Como zscore no es menor que critical_value, no podemos rechazar H0.\n",
    "\n",
    "Esto indica que podemos obtener por azar una media muestral con ese valor de la misma población real.\n",
    "\n",
    "En otras palabras, no hay diferencia significativa en los promedios de incidentes en 2012 y 2013.\n"
   ]
  },
  {
   "cell_type": "markdown",
   "metadata": {},
   "source": [
    "---\n",
    "\n",
    "## A/B Testing"
   ]
  },
  {
   "cell_type": "markdown",
   "metadata": {},
   "source": [
    "### Dataset\n",
    "\n",
    "Los datos corresponden a las visitas de usuarios a un sitio web.\n",
    "\n",
    "Este sitio tiene dos versiones de la landing: old_page y new_page\n",
    "\n",
    "El campo \"converted\" indica si un usuario hizo click o no, idicados con 1 o 0 respectivamente, en la pagina que vio.\n",
    "\n",
    "El objetivo es determinar si la nueva versión de la página tiene más proporción de clicks que la vieja.\n",
    "\n",
    "https://www.kaggle.com/zhangluyuan/ab-testing"
   ]
  },
  {
   "cell_type": "code",
   "execution_count": null,
   "metadata": {},
   "outputs": [],
   "source": [
    "data_location = \"../Data/ab_data.csv\"\n",
    "data = pd.read_csv(data_location, sep=\",\")\n",
    "data.head()"
   ]
  },
  {
   "cell_type": "markdown",
   "metadata": {},
   "source": [
    "Tenemos que eliminar todos los registros que sean \n",
    "* 'control' y 'new_page' \n",
    "* 'treatment' y 'old_page'\n",
    "\n",
    "Miremos cuántos no están en esas condiciones"
   ]
  },
  {
   "cell_type": "code",
   "execution_count": null,
   "metadata": {},
   "outputs": [],
   "source": []
  },
  {
   "cell_type": "markdown",
   "metadata": {},
   "source": [
    "Eliminemos los registros detectados en el paso anterior"
   ]
  },
  {
   "cell_type": "code",
   "execution_count": null,
   "metadata": {},
   "outputs": [],
   "source": []
  },
  {
   "cell_type": "code",
   "execution_count": null,
   "metadata": {},
   "outputs": [],
   "source": []
  },
  {
   "cell_type": "markdown",
   "metadata": {},
   "source": [
    "Eliminemos los registros duplicados"
   ]
  },
  {
   "cell_type": "code",
   "execution_count": null,
   "metadata": {},
   "outputs": [],
   "source": []
  },
  {
   "cell_type": "markdown",
   "metadata": {},
   "source": [
    "Calculemos la probabilidad de conversion independiente de la página"
   ]
  },
  {
   "cell_type": "code",
   "execution_count": null,
   "metadata": {},
   "outputs": [],
   "source": []
  },
  {
   "cell_type": "markdown",
   "metadata": {},
   "source": [
    "Calculemos la probabilidad de convertir si el usuario ve la página nueva"
   ]
  },
  {
   "cell_type": "code",
   "execution_count": null,
   "metadata": {},
   "outputs": [],
   "source": [
    "new_mask = data_ab.landing_page == 'new_page'\n",
    "new_converted_mask = np.logical_and(new_mask, data_ab.converted == 1)\n",
    "new_converted_mask.sum() / new_mask.sum()"
   ]
  },
  {
   "cell_type": "markdown",
   "metadata": {},
   "source": [
    "Calculemos la probabilidad de convertir si si el usuario ve la página vieja"
   ]
  },
  {
   "cell_type": "code",
   "execution_count": null,
   "metadata": {},
   "outputs": [],
   "source": [
    "old_mask = data_ab.landing_page == 'old_page'\n",
    "old_converted_mask = np.logical_and(old_mask, data_ab.converted == 1)\n",
    "old_converted_mask.sum() / old_mask.sum()"
   ]
  },
  {
   "cell_type": "markdown",
   "metadata": {},
   "source": [
    "Calculemos la probabilidad de ver la página nueva"
   ]
  },
  {
   "cell_type": "code",
   "execution_count": null,
   "metadata": {},
   "outputs": [],
   "source": [
    "new_mask.sum() / data_ab.shape[0]"
   ]
  },
  {
   "cell_type": "markdown",
   "metadata": {},
   "source": [
    "Definimos una función que calcula los estimadores de los parámetros de una distribución de Bernoulli"
   ]
  },
  {
   "cell_type": "code",
   "execution_count": null,
   "metadata": {},
   "outputs": [],
   "source": [
    "def estimated_parameters(N, n):\n",
    "    p = n/N\n",
    "    sigma = math.sqrt(p*(1-p)/N)\n",
    "    return p, sigma"
   ]
  },
  {
   "cell_type": "markdown",
   "metadata": {},
   "source": [
    "Definimos una función que calcula el estadístico de un A/B Test"
   ]
  },
  {
   "cell_type": "code",
   "execution_count": null,
   "metadata": {},
   "outputs": [],
   "source": [
    "def a_b_test_statistic(N_A,n_A,N_B,n_B):\n",
    "    p_A, sigma_A = estimated_parameters(N_A, n_A)\n",
    "    p_B, sigma_B = estimated_parameters(N_B, n_B)\n",
    "    return (p_B - p_A)/math.sqrt(sigma_A**2 + sigma_B**2)"
   ]
  },
  {
   "cell_type": "markdown",
   "metadata": {},
   "source": [
    "Calculemos el valor del estadístico definido por esta función y los valores críticos y p-value para decidir si rechazamos H0 con un nivel de significación del 5%."
   ]
  },
  {
   "cell_type": "code",
   "execution_count": null,
   "metadata": {},
   "outputs": [],
   "source": []
  },
  {
   "cell_type": "markdown",
   "metadata": {},
   "source": [
    "H0: p_new = p_old\n",
    "\n",
    "H1: p_new != p_old"
   ]
  },
  {
   "cell_type": "code",
   "execution_count": null,
   "metadata": {},
   "outputs": [],
   "source": []
  },
  {
   "cell_type": "code",
   "execution_count": null,
   "metadata": {},
   "outputs": [],
   "source": []
  },
  {
   "cell_type": "code",
   "execution_count": null,
   "metadata": {},
   "outputs": [],
   "source": []
  },
  {
   "cell_type": "markdown",
   "metadata": {},
   "source": [
    "**Bonus track**:\n",
    "    \n",
    "Más adelante en este curso vamos ver la biblioteca statsmodels, que ahora vamos a mencionar porque nos permite calcular z-score y p-value para nuestro problema, y compararlo con los resultados que obtuvimos con nuestras funciones.\n",
    "\n",
    "https://www.statsmodels.org/0.6.1/generated/statsmodels.stats.proportion.proportions_ztest.html"
   ]
  },
  {
   "cell_type": "code",
   "execution_count": null,
   "metadata": {},
   "outputs": [],
   "source": [
    "import statsmodels.api as sm"
   ]
  },
  {
   "cell_type": "code",
   "execution_count": null,
   "metadata": {},
   "outputs": [],
   "source": [
    "z_score, p_value = sm.stats.proportions_ztest([n_control_old, n_treatment_new], [N_control_old, N_treatment_new], \n",
    "                                              alternative='two-sided')\n",
    "z_score, p_value"
   ]
  },
  {
   "cell_type": "markdown",
   "metadata": {},
   "source": [
    "## Referencias\n",
    "\n",
    "Test de Hipótesis\n",
    "https://github.com/leonvanbokhorst/NoteBooks-Statistics-and-MachineLearning/blob/master/0014%20Hypothesis%20Testing%20with%20Bird%20Strike%20Incidents.ipynb\n",
    "\n",
    "A/B testing\n",
    "https://www.kaggle.com/shweta112/a-b-testing-analysis\n",
    "\n",
    "A/B testing, un ejemplo (un poco más difícil) para analizar \n",
    "\n",
    "https://www.kaggle.com/tammyrotem/ab-tests-with-python\n",
    "    \n",
    "https://github.com/baumanab/udacity_ABTesting#summary\n",
    "        \n",
    "https://github.com/TammyRotem/A-B_Tests_with_Python/blob/master/AB_Testing_with_Python.ipynb        \n"
   ]
  }
 ],
 "metadata": {
  "kernelspec": {
   "display_name": "Python 3",
   "language": "python",
   "name": "python3"
  },
  "language_info": {
   "codemirror_mode": {
    "name": "ipython",
    "version": 3
   },
   "file_extension": ".py",
   "mimetype": "text/x-python",
   "name": "python",
   "nbconvert_exporter": "python",
   "pygments_lexer": "ipython3",
   "version": "3.8.5"
  }
 },
 "nbformat": 4,
 "nbformat_minor": 4
}
