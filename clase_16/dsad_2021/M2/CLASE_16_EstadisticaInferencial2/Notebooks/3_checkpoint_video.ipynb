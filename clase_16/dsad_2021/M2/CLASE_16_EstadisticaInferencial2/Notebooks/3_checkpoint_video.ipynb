{
 "cells": [
  {
   "cell_type": "code",
   "execution_count": 1,
   "metadata": {},
   "outputs": [
    {
     "name": "stdout",
     "output_type": "stream",
     "text": [
      "/media/paulati/Nuevo vol/paula/dh/2021/dsad_2021_paula/common\n",
      "default checking\n",
      "Running command `conda list`... ok\n",
      "jupyterlab=2.2.6 already installed\n",
      "pandas=1.1.5 already installed\n",
      "bokeh=2.2.3 already installed\n",
      "seaborn=0.11.0 already installed\n",
      "matplotlib=3.3.2 already installed\n",
      "ipywidgets=7.5.1 already installed\n",
      "pytest=6.2.1 already installed\n",
      "chardet=4.0.0 already installed\n",
      "psutil=5.7.2 already installed\n",
      "scipy=1.5.2 already installed\n",
      "statsmodels=0.12.1 already installed\n",
      "scikit-learn=0.23.2 already installed\n",
      "xlrd=2.0.1 already installed\n",
      "Running command `conda install --yes nltk=3.5.0`... ok\n",
      "Collecting package metadata (current_repodata.json): ...working... done\n",
      "Solving environment: ...working... done\n",
      "\n",
      "# All requested packages already installed.\n",
      "\n",
      "\n",
      "unidecode=1.1.1 already installed\n",
      "pydotplus=2.0.2 already installed\n",
      "pandas-datareader=0.9.0 already installed\n",
      "flask=1.1.2 already installed\n"
     ]
    }
   ],
   "source": [
    "%run \"../../../common/0_notebooks_base_setup.py\"    "
   ]
  },
  {
   "cell_type": "markdown",
   "metadata": {},
   "source": [
    "---\n",
    "\n",
    "<img src='../../../common/logo_DH.png' align='left' width=35%/>\n"
   ]
  },
  {
   "cell_type": "markdown",
   "metadata": {},
   "source": [
    "# Estadística Inferencial"
   ]
  },
  {
   "cell_type": "markdown",
   "metadata": {},
   "source": [
    "## Imports"
   ]
  },
  {
   "cell_type": "code",
   "execution_count": 2,
   "metadata": {},
   "outputs": [],
   "source": [
    "import scipy.stats as stats\n",
    "import pandas as pd\n",
    "import numpy as np\n",
    "import math\n",
    "import seaborn as sns\n",
    "import matplotlib.pyplot as plt"
   ]
  },
  {
   "cell_type": "markdown",
   "metadata": {},
   "source": [
    "## Ejercicio: Tests sobre una proporción\n",
    "\n",
    "Fuimos contratados por una empresa de lotería para averiguar la proporción de clientes que compra determinado producto. La firma va a mantener su plan de marketing actual si esta proporción es de 50% o más pero va a triplicar su gasto en publicidad en caso contrario. \n",
    "\n",
    "El dataset que vamos a usar es de datos sintéticos (construido por nosotros) usando la función `generar`\n",
    "https://numpy.org/doc/1.18/reference/random/generated/numpy.random.Generator.binomial.html#numpy.random.Generator.binomial"
   ]
  },
  {
   "cell_type": "code",
   "execution_count": 3,
   "metadata": {},
   "outputs": [],
   "source": [
    "def generar(trials, p, obs):\n",
    "    random_generator = np.random.default_rng()\n",
    "    data = random_generator.binomial(trials, p, obs)\n",
    "    result = pd.DataFrame(data, columns= ['compra'])\n",
    "    return result "
   ]
  },
  {
   "cell_type": "code",
   "execution_count": 4,
   "metadata": {},
   "outputs": [
    {
     "data": {
      "image/png": "[encoded data removed]",
      "text/plain": [
       "<Figure size 432x288 with 1 Axes>"
      ]
     },
     "metadata": {
      "needs_background": "light"
     },
     "output_type": "display_data"
    }
   ],
   "source": [
    "p_generacion = 0.4\n",
    "trials = 1\n",
    "obs  = 100\n",
    "data_ej3 = generar(trials, p_generacion, obs)\n",
    "\n",
    "#sns.distplot(data_ej3)\n",
    "sns.histplot(data_ej3, kde = True, stat = 'density', binrange=(-0.5, 1.5));\n"
   ]
  },
  {
   "cell_type": "markdown",
   "metadata": {},
   "source": [
    "### 1. ¿Cuál es la hipótesis nula y cuál es la alternativa?\n"
   ]
  },
  {
   "cell_type": "markdown",
   "metadata": {},
   "source": [
    "$H_{0}$ es la opción más costosa en caso de rechazar equivocadamente, es decir rechazarla cuando $H_{0}$ es verdadera. \n",
    "\n",
    "En este caso si le decimos a la firma que su market share es menos del 50% va a invertir mucho dinero en publicidad. \n",
    "\n",
    "Por lo tanto definimos \n",
    "\n",
    "$H_{0}$ : proporción de clientes que compra es mayor o igual a 50%\n",
    "\n",
    "$H_{1}$ : proporción de clientes que compra es menor de 50%. \n"
   ]
  },
  {
   "cell_type": "markdown",
   "metadata": {},
   "source": [
    "### 2. ¿Cuál es el valor empírico del estimador de la proporción de clientes que compra?"
   ]
  },
  {
   "cell_type": "code",
   "execution_count": 5,
   "metadata": {},
   "outputs": [
    {
     "data": {
      "text/plain": [
       "0.39"
      ]
     },
     "execution_count": 5,
     "metadata": {},
     "output_type": "execute_result"
    }
   ],
   "source": [
    "market_share_muestral = data_ej3.compra.sum() / data_ej3.shape[0]\n",
    "market_share_muestral"
   ]
  },
  {
   "cell_type": "markdown",
   "metadata": {},
   "source": [
    "### 3. ¿Cuáles son la media y el desvío estándar poblacionales?"
   ]
  },
  {
   "cell_type": "markdown",
   "metadata": {},
   "source": [
    "Bajo $H_{0}$, es decir suponiendo que $H_{0}$ es verdadera, cada $X_i$ (cada variable que mide si una persona responde si o no a la pregunta de si compra el producto) tiene distribución Bernoulli. \n",
    "\n",
    "Bajo $H_{0}$ se cumple $p>=0.5$\n",
    "\n",
    "Tomemos el valor del parámetro $p$ de la distribución Bernoulli menos favorable a $H_{0}$ dentro de aquellos posibles. \n",
    "\n",
    "En este caso entonces \n",
    "\n",
    "$E(X_i)=p=0.5$\n",
    "\n",
    "$V(X_i)=p * (1-p)=0.5*0.5$  "
   ]
  },
  {
   "cell_type": "markdown",
   "metadata": {},
   "source": [
    "### 4.  ¿Qué distribución tiene la proporción de clientes que compran determinado producto si asumimos que n es lo suficientemente grande?"
   ]
  },
  {
   "cell_type": "markdown",
   "metadata": {},
   "source": [
    "Calculamos la proporción de clientes como la media muestral. \n",
    "\n",
    "La media muestral es una suma de variables Bernoulli (cada una con iguales parámetros e inpendientes entre sí) dividido el tamaño muestral. \n",
    "\n",
    "Si n es \"lo suficientemente grande\" la media muestral tiene distribución normal con media igual a $E(Xi)$ y  varianza igual a $ V(Xi)/n $. \n",
    "\n",
    "Sabemos entonces que asintóticamente la media muestral estandarizada tiene distribucion $N(0,1)$. "
   ]
  },
  {
   "cell_type": "markdown",
   "metadata": {},
   "source": [
    "### 5. Definamos un test de hipótesis (estadístico de prueba y regla de decisión) para la hipótesis 3.1 con un nivel de significación de 0.05. "
   ]
  },
  {
   "cell_type": "markdown",
   "metadata": {},
   "source": [
    "Usamos como estadístico de prueba la media muestral estandarizada del punto anterior. \n",
    "\n",
    "Definimos una regla que deja probabilidad $ 0.05 $ de rechazar cuando $ H_0 $ es verdadera. \n",
    "\n",
    "Buscamos un valor $ z_{\\alpha} $ que deja área $ 0.05 $ en la cola izquierda de una distribución normal estándar (la distribución conocida del estadístico de prueba asumiendo que $ H_0 $ es verdadera). \n",
    "\n",
    "Rechazamos $ H_0 $ si el estadístico de prueba resulta por debajo de ese valor de corte. "
   ]
  },
  {
   "cell_type": "markdown",
   "metadata": {},
   "source": [
    "### 6.  ¿Qué decisión tomamos en base a la muestra?"
   ]
  },
  {
   "cell_type": "code",
   "execution_count": 6,
   "metadata": {},
   "outputs": [
    {
     "name": "stdout",
     "output_type": "stream",
     "text": [
      "-1.6448536269514729\n",
      "-2.1999999999999997\n",
      "True\n",
      "estadístico prueba: -2.1999999999999997\n",
      "estadístico z     : -1.6448536269514729\n",
      "rechazo True\n"
     ]
    }
   ],
   "source": [
    "alpha=0.05\n",
    "z = stats.norm.ppf(alpha)\n",
    "print(z)\n",
    "\n",
    "#asumiendo que H0 es verdadera, mu = E(X_i) = 0.5\n",
    "p = 0.5\n",
    "mu_H0 = p \n",
    "var_H0 = p * (1-p)\n",
    "\n",
    "estadistico_prueba = (market_share_muestral - mu_H0)/(np.sqrt(var_H0 / obs))\n",
    "print(estadistico_prueba)\n",
    "\n",
    "rechazo = (estadistico_prueba < z )\n",
    "print(rechazo)\n",
    "\n",
    "print('estadístico prueba:', estadistico_prueba)\n",
    "print('estadístico z     :', z)\n",
    "print('rechazo', rechazo)"
   ]
  },
  {
   "cell_type": "markdown",
   "metadata": {},
   "source": [
    "### 7. ¿Cuál es el p-valor?"
   ]
  },
  {
   "cell_type": "code",
   "execution_count": 7,
   "metadata": {},
   "outputs": [
    {
     "data": {
      "text/plain": [
       "0.013903447513498616"
      ]
     },
     "execution_count": 7,
     "metadata": {},
     "output_type": "execute_result"
    }
   ],
   "source": [
    "p_value = stats.norm.cdf(estadistico_prueba)\n",
    "p_value"
   ]
  },
  {
   "cell_type": "markdown",
   "metadata": {},
   "source": [
    "### 8. Construyamos un intervalo de confianza de 95% para la proporción de clientes que compra.  "
   ]
  },
  {
   "cell_type": "code",
   "execution_count": 8,
   "metadata": {},
   "outputs": [
    {
     "name": "stdout",
     "output_type": "stream",
     "text": [
      "1.9599639845400545\n",
      "El límite inferior del IC al 95% de confianza para p es  0.29440276921149167\n",
      "El límite superior del IC al 95% de confianza para p es  0.48559723078850836\n"
     ]
    }
   ],
   "source": [
    "var = market_share_muestral * (1-market_share_muestral)\n",
    "standard_error = np.sqrt(var / obs)\n",
    "\n",
    "z_nc95 = np.abs(stats.norm.ppf(alpha/2))\n",
    "print(z_nc95)\n",
    "\n",
    "li = market_share_muestral - z_nc95 * standard_error\n",
    "ls = market_share_muestral + z_nc95 * standard_error\n",
    "\n",
    "print (\"El límite inferior del IC al 95% de confianza para p es \", li)\n",
    "print (\"El límite superior del IC al 95% de confianza para p es \", ls)"
   ]
  },
  {
   "cell_type": "code",
   "execution_count": 9,
   "metadata": {},
   "outputs": [
    {
     "data": {
      "text/plain": [
       "0.39"
      ]
     },
     "execution_count": 9,
     "metadata": {},
     "output_type": "execute_result"
    }
   ],
   "source": [
    "market_share_muestral"
   ]
  }
 ],
 "metadata": {
  "kernelspec": {
   "display_name": "Python 3",
   "language": "python",
   "name": "python3"
  },
  "language_info": {
   "codemirror_mode": {
    "name": "ipython",
    "version": 3
   },
   "file_extension": ".py",
   "mimetype": "text/x-python",
   "name": "python",
   "nbconvert_exporter": "python",
   "pygments_lexer": "ipython3",
   "version": "3.8.5"
  }
 },
 "nbformat": 4,
 "nbformat_minor": 4
}
