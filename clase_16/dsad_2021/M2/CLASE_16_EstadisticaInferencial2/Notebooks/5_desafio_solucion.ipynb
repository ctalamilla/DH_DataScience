{
 "cells": [
  {
   "cell_type": "code",
   "execution_count": 1,
   "metadata": {},
   "outputs": [
    {
     "name": "stdout",
     "output_type": "stream",
     "text": [
      "/media/paulati/Nuevo vol/paula/dh/2021/dsad_2021_paula/common\n",
      "default checking\n",
      "Running command `conda list`... ok\n",
      "jupyterlab=2.2.6 already installed\n",
      "pandas=1.1.5 already installed\n",
      "bokeh=2.2.3 already installed\n",
      "seaborn=0.11.0 already installed\n",
      "matplotlib=3.3.2 already installed\n",
      "ipywidgets=7.5.1 already installed\n",
      "pytest=6.2.1 already installed\n",
      "chardet=4.0.0 already installed\n",
      "psutil=5.7.2 already installed\n",
      "scipy=1.5.2 already installed\n",
      "statsmodels=0.12.1 already installed\n",
      "scikit-learn=0.23.2 already installed\n",
      "xlrd=2.0.1 already installed\n",
      "Running command `conda install --yes nltk=3.5.0`... ok\n",
      "Collecting package metadata (current_repodata.json): ...working... done\n",
      "Solving environment: ...working... done\n",
      "\n",
      "# All requested packages already installed.\n",
      "\n",
      "\n",
      "unidecode=1.1.1 already installed\n",
      "pydotplus=2.0.2 already installed\n",
      "pandas-datareader=0.9.0 already installed\n",
      "flask=1.1.2 already installed\n"
     ]
    }
   ],
   "source": [
    "%run \"../../../common/0_notebooks_base_setup.py\"    "
   ]
  },
  {
   "cell_type": "markdown",
   "metadata": {},
   "source": [
    "## Imports"
   ]
  },
  {
   "cell_type": "code",
   "execution_count": 2,
   "metadata": {},
   "outputs": [],
   "source": [
    "import numpy as np\n",
    "import pandas as pd\n",
    "import scipy\n",
    "import seaborn as sns\n",
    "import matplotlib.pyplot as plt\n",
    "from scipy import stats\n",
    "import math\n",
    "import datetime\n"
   ]
  },
  {
   "cell_type": "markdown",
   "metadata": {},
   "source": [
    "---\n",
    "\n",
    "## Test de Hipótesis"
   ]
  },
  {
   "cell_type": "markdown",
   "metadata": {},
   "source": [
    "### Data\n",
    "\n",
    "El dataset que usamos en esta parte contiene reportes de  [Federal Aviation Administration Wildlife Strike Database](http://wildlife.faa.gov/database.aspx) correspondientes a los años 2012 y 2013 en el estado de California, USA.\n",
    "\n",
    "Usaremos los datos diarios de frecuencia de incidentes de golpes a fauna silvestre.\n",
    "\n",
    "### Leemos los datos"
   ]
  },
  {
   "cell_type": "code",
   "execution_count": 3,
   "metadata": {},
   "outputs": [
    {
     "data": {
      "text/html": [
       "<div>\n",
       "<style scoped>\n",
       "    .dataframe tbody tr th:only-of-type {\n",
       "        vertical-align: middle;\n",
       "    }\n",
       "\n",
       "    .dataframe tbody tr th {\n",
       "        vertical-align: top;\n",
       "    }\n",
       "\n",
       "    .dataframe thead th {\n",
       "        text-align: right;\n",
       "    }\n",
       "</style>\n",
       "<table border=\"1\" class=\"dataframe\">\n",
       "  <thead>\n",
       "    <tr style=\"text-align: right;\">\n",
       "      <th></th>\n",
       "      <th>INCIDENT_DATE</th>\n",
       "      <th>STATE</th>\n",
       "      <th>AIRPORT_ID</th>\n",
       "      <th>AIRPORT</th>\n",
       "      <th>OPID</th>\n",
       "      <th>OPERATOR</th>\n",
       "      <th>ATYPE</th>\n",
       "      <th>TYPE_ENG</th>\n",
       "      <th>SPECIES_ID</th>\n",
       "      <th>SPECIES</th>\n",
       "      <th>...</th>\n",
       "      <th>REPORTED_NAME</th>\n",
       "      <th>REPORTED_TITLE</th>\n",
       "      <th>REPORTED_DATE</th>\n",
       "      <th>SOURCE</th>\n",
       "      <th>PERSON</th>\n",
       "      <th>NR_INJURIES</th>\n",
       "      <th>NR_FATALITIES</th>\n",
       "      <th>LUPDATE</th>\n",
       "      <th>TRANSFER</th>\n",
       "      <th>INDICATED_DAMAGE</th>\n",
       "    </tr>\n",
       "  </thead>\n",
       "  <tbody>\n",
       "    <tr>\n",
       "      <th>0</th>\n",
       "      <td>12/31/2013 0:00</td>\n",
       "      <td>CA</td>\n",
       "      <td>KHWD</td>\n",
       "      <td>HAYWARD EXECUTIVE ARPT</td>\n",
       "      <td>UNK</td>\n",
       "      <td>UNKNOWN</td>\n",
       "      <td>UNKNOWN</td>\n",
       "      <td>NaN</td>\n",
       "      <td>YI005</td>\n",
       "      <td>Barn swallow</td>\n",
       "      <td>...</td>\n",
       "      <td>Deleted</td>\n",
       "      <td>Deleted</td>\n",
       "      <td>NaN</td>\n",
       "      <td>FAA Form 5200-7-E</td>\n",
       "      <td>Carcass Found</td>\n",
       "      <td>NaN</td>\n",
       "      <td>NaN</td>\n",
       "      <td>4/24/2014 0:00</td>\n",
       "      <td>False</td>\n",
       "      <td>False</td>\n",
       "    </tr>\n",
       "    <tr>\n",
       "      <th>1</th>\n",
       "      <td>12/31/2013 0:00</td>\n",
       "      <td>CA</td>\n",
       "      <td>KSMF</td>\n",
       "      <td>SACRAMENTO INTL</td>\n",
       "      <td>PCM</td>\n",
       "      <td>WESTAIR</td>\n",
       "      <td>C-208</td>\n",
       "      <td>C</td>\n",
       "      <td>J2104</td>\n",
       "      <td>Northern pintail</td>\n",
       "      <td>...</td>\n",
       "      <td>Deleted</td>\n",
       "      <td>Deleted</td>\n",
       "      <td>NaN</td>\n",
       "      <td>Multiple</td>\n",
       "      <td>Airport Operations</td>\n",
       "      <td>NaN</td>\n",
       "      <td>NaN</td>\n",
       "      <td>4/24/2014 0:00</td>\n",
       "      <td>False</td>\n",
       "      <td>True</td>\n",
       "    </tr>\n",
       "    <tr>\n",
       "      <th>2</th>\n",
       "      <td>12/31/2013 0:00</td>\n",
       "      <td>CA</td>\n",
       "      <td>KSNA</td>\n",
       "      <td>JOHN WAYNE-ORANGE COUNTY ARPT</td>\n",
       "      <td>BUS</td>\n",
       "      <td>BUSINESS</td>\n",
       "      <td>C-650</td>\n",
       "      <td>D</td>\n",
       "      <td>H4105</td>\n",
       "      <td>Double-crested cormorant</td>\n",
       "      <td>...</td>\n",
       "      <td>Deleted</td>\n",
       "      <td>Deleted</td>\n",
       "      <td>NaN</td>\n",
       "      <td>FAA Form 5200-7-E</td>\n",
       "      <td>Pilot</td>\n",
       "      <td>NaN</td>\n",
       "      <td>NaN</td>\n",
       "      <td>4/24/2014 0:00</td>\n",
       "      <td>False</td>\n",
       "      <td>True</td>\n",
       "    </tr>\n",
       "    <tr>\n",
       "      <th>3</th>\n",
       "      <td>12/30/2013 0:00</td>\n",
       "      <td>CA</td>\n",
       "      <td>KSMF</td>\n",
       "      <td>SACRAMENTO INTL</td>\n",
       "      <td>UNK</td>\n",
       "      <td>UNKNOWN</td>\n",
       "      <td>UNKNOWN</td>\n",
       "      <td>NaN</td>\n",
       "      <td>1A1</td>\n",
       "      <td>Virginia opossum</td>\n",
       "      <td>...</td>\n",
       "      <td>Deleted</td>\n",
       "      <td>Deleted</td>\n",
       "      <td>NaN</td>\n",
       "      <td>FAA Form 5200-7-E</td>\n",
       "      <td>Carcass Found</td>\n",
       "      <td>NaN</td>\n",
       "      <td>NaN</td>\n",
       "      <td>4/24/2014 0:00</td>\n",
       "      <td>False</td>\n",
       "      <td>False</td>\n",
       "    </tr>\n",
       "    <tr>\n",
       "      <th>4</th>\n",
       "      <td>12/30/2013 0:00</td>\n",
       "      <td>CA</td>\n",
       "      <td>KMER</td>\n",
       "      <td>CASTLE ARPT</td>\n",
       "      <td>BUS</td>\n",
       "      <td>BUSINESS</td>\n",
       "      <td>PA-44 SEMINOLE</td>\n",
       "      <td>A</td>\n",
       "      <td>K33</td>\n",
       "      <td>Hawks</td>\n",
       "      <td>...</td>\n",
       "      <td>Deleted</td>\n",
       "      <td>Deleted</td>\n",
       "      <td>NaN</td>\n",
       "      <td>Multiple</td>\n",
       "      <td>Tower</td>\n",
       "      <td>NaN</td>\n",
       "      <td>NaN</td>\n",
       "      <td>4/24/2014 0:00</td>\n",
       "      <td>False</td>\n",
       "      <td>True</td>\n",
       "    </tr>\n",
       "  </tbody>\n",
       "</table>\n",
       "<p>5 rows × 93 columns</p>\n",
       "</div>"
      ],
      "text/plain": [
       "     INCIDENT_DATE STATE AIRPORT_ID                        AIRPORT OPID  \\\n",
       "0  12/31/2013 0:00    CA       KHWD         HAYWARD EXECUTIVE ARPT  UNK   \n",
       "1  12/31/2013 0:00    CA       KSMF                SACRAMENTO INTL  PCM   \n",
       "2  12/31/2013 0:00    CA       KSNA  JOHN WAYNE-ORANGE COUNTY ARPT  BUS   \n",
       "3  12/30/2013 0:00    CA       KSMF                SACRAMENTO INTL  UNK   \n",
       "4  12/30/2013 0:00    CA       KMER                    CASTLE ARPT  BUS   \n",
       "\n",
       "   OPERATOR           ATYPE TYPE_ENG SPECIES_ID                   SPECIES  \\\n",
       "0   UNKNOWN         UNKNOWN      NaN      YI005              Barn swallow   \n",
       "1   WESTAIR           C-208        C      J2104          Northern pintail   \n",
       "2  BUSINESS           C-650        D      H4105  Double-crested cormorant   \n",
       "3   UNKNOWN         UNKNOWN      NaN        1A1          Virginia opossum   \n",
       "4  BUSINESS  PA-44 SEMINOLE        A        K33                     Hawks   \n",
       "\n",
       "   ... REPORTED_NAME  REPORTED_TITLE REPORTED_DATE             SOURCE  \\\n",
       "0  ...       Deleted         Deleted           NaN  FAA Form 5200-7-E   \n",
       "1  ...       Deleted         Deleted           NaN           Multiple   \n",
       "2  ...       Deleted         Deleted           NaN  FAA Form 5200-7-E   \n",
       "3  ...       Deleted         Deleted           NaN  FAA Form 5200-7-E   \n",
       "4  ...       Deleted         Deleted           NaN           Multiple   \n",
       "\n",
       "               PERSON NR_INJURIES NR_FATALITIES         LUPDATE  TRANSFER  \\\n",
       "0       Carcass Found         NaN           NaN  4/24/2014 0:00     False   \n",
       "1  Airport Operations         NaN           NaN  4/24/2014 0:00     False   \n",
       "2               Pilot         NaN           NaN  4/24/2014 0:00     False   \n",
       "3       Carcass Found         NaN           NaN  4/24/2014 0:00     False   \n",
       "4               Tower         NaN           NaN  4/24/2014 0:00     False   \n",
       "\n",
       "   INDICATED_DAMAGE  \n",
       "0             False  \n",
       "1              True  \n",
       "2              True  \n",
       "3             False  \n",
       "4              True  \n",
       "\n",
       "[5 rows x 93 columns]"
      ]
     },
     "execution_count": 3,
     "metadata": {},
     "output_type": "execute_result"
    }
   ],
   "source": [
    "# Load the data from a csv file. \n",
    "data_location = \"../Data/wildlife.csv\"\n",
    "data = pd.read_csv(data_location)\n",
    "data.head()\n"
   ]
  },
  {
   "cell_type": "markdown",
   "metadata": {},
   "source": [
    "### Ejercicio: Preparación de los datos\n",
    "\n",
    "Construyamos un dataset que tenga como columnas\n",
    "\n",
    "* la fecha del incidente, de tipo datetime\n",
    "\n",
    "Ayuda: https://pandas.pydata.org/pandas-docs/stable/reference/api/pandas.to_datetime.html\n",
    "\n",
    "* la cantidad de incidentes en esa fecha, de tipo int \n",
    "\n",
    "Ayuda: https://pandas.pydata.org/pandas-docs/stable/reference/api/pandas.DataFrame.groupby.html\n"
   ]
  },
  {
   "cell_type": "code",
   "execution_count": 4,
   "metadata": {},
   "outputs": [
    {
     "data": {
      "text/plain": [
       "INCIDENT_DATE     datetime64[ns]\n",
       "INCIDENT_COUNT             int64\n",
       "dtype: object"
      ]
     },
     "execution_count": 4,
     "metadata": {},
     "output_type": "execute_result"
    }
   ],
   "source": [
    "data.INCIDENT_DATE = pd.to_datetime(data.INCIDENT_DATE)\n",
    "data_fecha = data[['INCIDENT_DATE']]\n",
    "data_fecha_count = data_fecha.groupby('INCIDENT_DATE')['INCIDENT_DATE'].size()\n",
    "data_fecha_count.name = \"INCIDENT_COUNT\"\n",
    "data_fecha_count = data_fecha_count.reset_index()\n",
    "data_fecha_count.dtypes"
   ]
  },
  {
   "cell_type": "markdown",
   "metadata": {},
   "source": [
    "### Ejercicio: Preparación de los datos - continuación\n",
    "\n",
    "Queremos que el DataFrame que creamos en el paso anterior tenga un registro por cada día del año 2012 y 2013.\n",
    "\n",
    "Para eso vamos a: \n",
    "\n",
    "1) Asignar el valor del campo INCIDENT_DATE como índice del DataFrame construído en el punto anterior \n",
    "\n",
    "2) Crear un nuevo DataFrame que tenga sólo un índice y ninguna columna, que sea todas las fechas existentes durante los años 2012 y 2013 \n",
    "\n",
    "Ayuda: `pandas.date_range` https://pandas.pydata.org/pandas-docs/stable/reference/api/pandas.date_range.html\n",
    "\n",
    "3) Hacer un join entre los DataFrame 1) y 2). Con esto vamos a conseguir que en el DataFrame resultado haya valores null en el campo INCIDENT_COUNT para las fechas que no estaban en el DataFrame resultado del ejercicio anterior.\n",
    "\n",
    "Ayuda: https://pandas.pydata.org/pandas-docs/stable/reference/api/pandas.DataFrame.join.html\n",
    "\n",
    "4) Por último, completamos los valores nulos de INCIDENT_COUNT en el nuevo DataFrame con el valor cero\n",
    "\n",
    "Ayuda: https://pandas.pydata.org/pandas-docs/stable/reference/api/pandas.DataFrame.fillna.html\n"
   ]
  },
  {
   "cell_type": "code",
   "execution_count": 5,
   "metadata": {},
   "outputs": [
    {
     "data": {
      "text/html": [
       "<div>\n",
       "<style scoped>\n",
       "    .dataframe tbody tr th:only-of-type {\n",
       "        vertical-align: middle;\n",
       "    }\n",
       "\n",
       "    .dataframe tbody tr th {\n",
       "        vertical-align: top;\n",
       "    }\n",
       "\n",
       "    .dataframe thead th {\n",
       "        text-align: right;\n",
       "    }\n",
       "</style>\n",
       "<table border=\"1\" class=\"dataframe\">\n",
       "  <thead>\n",
       "    <tr style=\"text-align: right;\">\n",
       "      <th></th>\n",
       "      <th>INCIDENT_COUNT</th>\n",
       "    </tr>\n",
       "    <tr>\n",
       "      <th>INCIDENT_DATE</th>\n",
       "      <th></th>\n",
       "    </tr>\n",
       "  </thead>\n",
       "  <tbody>\n",
       "    <tr>\n",
       "      <th>2012-01-02</th>\n",
       "      <td>1</td>\n",
       "    </tr>\n",
       "    <tr>\n",
       "      <th>2012-01-04</th>\n",
       "      <td>2</td>\n",
       "    </tr>\n",
       "    <tr>\n",
       "      <th>2012-01-05</th>\n",
       "      <td>5</td>\n",
       "    </tr>\n",
       "    <tr>\n",
       "      <th>2012-01-06</th>\n",
       "      <td>3</td>\n",
       "    </tr>\n",
       "    <tr>\n",
       "      <th>2012-01-07</th>\n",
       "      <td>2</td>\n",
       "    </tr>\n",
       "  </tbody>\n",
       "</table>\n",
       "</div>"
      ],
      "text/plain": [
       "               INCIDENT_COUNT\n",
       "INCIDENT_DATE                \n",
       "2012-01-02                  1\n",
       "2012-01-04                  2\n",
       "2012-01-05                  5\n",
       "2012-01-06                  3\n",
       "2012-01-07                  2"
      ]
     },
     "execution_count": 5,
     "metadata": {},
     "output_type": "execute_result"
    }
   ],
   "source": [
    "data_fecha_count.index = data_fecha_count.INCIDENT_DATE\n",
    "data_fecha_count = data_fecha_count.drop(['INCIDENT_DATE'], axis=1)\n",
    "data_fecha_count.head()"
   ]
  },
  {
   "cell_type": "code",
   "execution_count": 6,
   "metadata": {},
   "outputs": [
    {
     "data": {
      "text/html": [
       "<div>\n",
       "<style scoped>\n",
       "    .dataframe tbody tr th:only-of-type {\n",
       "        vertical-align: middle;\n",
       "    }\n",
       "\n",
       "    .dataframe tbody tr th {\n",
       "        vertical-align: top;\n",
       "    }\n",
       "\n",
       "    .dataframe thead th {\n",
       "        text-align: right;\n",
       "    }\n",
       "</style>\n",
       "<table border=\"1\" class=\"dataframe\">\n",
       "  <thead>\n",
       "    <tr style=\"text-align: right;\">\n",
       "      <th></th>\n",
       "    </tr>\n",
       "  </thead>\n",
       "  <tbody>\n",
       "    <tr>\n",
       "      <th>2012-01-01</th>\n",
       "    </tr>\n",
       "    <tr>\n",
       "      <th>2012-01-02</th>\n",
       "    </tr>\n",
       "    <tr>\n",
       "      <th>2012-01-03</th>\n",
       "    </tr>\n",
       "    <tr>\n",
       "      <th>2012-01-04</th>\n",
       "    </tr>\n",
       "    <tr>\n",
       "      <th>2012-01-05</th>\n",
       "    </tr>\n",
       "    <tr>\n",
       "      <th>...</th>\n",
       "    </tr>\n",
       "    <tr>\n",
       "      <th>2013-12-27</th>\n",
       "    </tr>\n",
       "    <tr>\n",
       "      <th>2013-12-28</th>\n",
       "    </tr>\n",
       "    <tr>\n",
       "      <th>2013-12-29</th>\n",
       "    </tr>\n",
       "    <tr>\n",
       "      <th>2013-12-30</th>\n",
       "    </tr>\n",
       "    <tr>\n",
       "      <th>2013-12-31</th>\n",
       "    </tr>\n",
       "  </tbody>\n",
       "</table>\n",
       "<p>731 rows × 0 columns</p>\n",
       "</div>"
      ],
      "text/plain": [
       "Empty DataFrame\n",
       "Columns: []\n",
       "Index: [2012-01-01 00:00:00, 2012-01-02 00:00:00, 2012-01-03 00:00:00, 2012-01-04 00:00:00, 2012-01-05 00:00:00, 2012-01-06 00:00:00, 2012-01-07 00:00:00, 2012-01-08 00:00:00, 2012-01-09 00:00:00, 2012-01-10 00:00:00, 2012-01-11 00:00:00, 2012-01-12 00:00:00, 2012-01-13 00:00:00, 2012-01-14 00:00:00, 2012-01-15 00:00:00, 2012-01-16 00:00:00, 2012-01-17 00:00:00, 2012-01-18 00:00:00, 2012-01-19 00:00:00, 2012-01-20 00:00:00, 2012-01-21 00:00:00, 2012-01-22 00:00:00, 2012-01-23 00:00:00, 2012-01-24 00:00:00, 2012-01-25 00:00:00, 2012-01-26 00:00:00, 2012-01-27 00:00:00, 2012-01-28 00:00:00, 2012-01-29 00:00:00, 2012-01-30 00:00:00, 2012-01-31 00:00:00, 2012-02-01 00:00:00, 2012-02-02 00:00:00, 2012-02-03 00:00:00, 2012-02-04 00:00:00, 2012-02-05 00:00:00, 2012-02-06 00:00:00, 2012-02-07 00:00:00, 2012-02-08 00:00:00, 2012-02-09 00:00:00, 2012-02-10 00:00:00, 2012-02-11 00:00:00, 2012-02-12 00:00:00, 2012-02-13 00:00:00, 2012-02-14 00:00:00, 2012-02-15 00:00:00, 2012-02-16 00:00:00, 2012-02-17 00:00:00, 2012-02-18 00:00:00, 2012-02-19 00:00:00, 2012-02-20 00:00:00, 2012-02-21 00:00:00, 2012-02-22 00:00:00, 2012-02-23 00:00:00, 2012-02-24 00:00:00, 2012-02-25 00:00:00, 2012-02-26 00:00:00, 2012-02-27 00:00:00, 2012-02-28 00:00:00, 2012-02-29 00:00:00, 2012-03-01 00:00:00, 2012-03-02 00:00:00, 2012-03-03 00:00:00, 2012-03-04 00:00:00, 2012-03-05 00:00:00, 2012-03-06 00:00:00, 2012-03-07 00:00:00, 2012-03-08 00:00:00, 2012-03-09 00:00:00, 2012-03-10 00:00:00, 2012-03-11 00:00:00, 2012-03-12 00:00:00, 2012-03-13 00:00:00, 2012-03-14 00:00:00, 2012-03-15 00:00:00, 2012-03-16 00:00:00, 2012-03-17 00:00:00, 2012-03-18 00:00:00, 2012-03-19 00:00:00, 2012-03-20 00:00:00, 2012-03-21 00:00:00, 2012-03-22 00:00:00, 2012-03-23 00:00:00, 2012-03-24 00:00:00, 2012-03-25 00:00:00, 2012-03-26 00:00:00, 2012-03-27 00:00:00, 2012-03-28 00:00:00, 2012-03-29 00:00:00, 2012-03-30 00:00:00, 2012-03-31 00:00:00, 2012-04-01 00:00:00, 2012-04-02 00:00:00, 2012-04-03 00:00:00, 2012-04-04 00:00:00, 2012-04-05 00:00:00, 2012-04-06 00:00:00, 2012-04-07 00:00:00, 2012-04-08 00:00:00, 2012-04-09 00:00:00, ...]\n",
       "\n",
       "[731 rows x 0 columns]"
      ]
     },
     "execution_count": 6,
     "metadata": {},
     "output_type": "execute_result"
    }
   ],
   "source": [
    "date_from = datetime.date(day=1, month=1, year=2012)\n",
    "date_to = datetime.date(day=31, month=12, year=2013)\n",
    "fechas_2012_2013 = pd.date_range(date_from, date_to, freq='D')\n",
    "\n",
    "dates_df = pd.DataFrame(index = fechas_2012_2013)\n",
    "dates_df"
   ]
  },
  {
   "cell_type": "code",
   "execution_count": 7,
   "metadata": {},
   "outputs": [
    {
     "data": {
      "text/plain": [
       "(731, 1)"
      ]
     },
     "execution_count": 7,
     "metadata": {},
     "output_type": "execute_result"
    }
   ],
   "source": [
    "data_2012_2013 = data_fecha_count.join(dates_df, how='right')\n",
    "data_2012_2013.shape"
   ]
  },
  {
   "cell_type": "code",
   "execution_count": 8,
   "metadata": {},
   "outputs": [
    {
     "data": {
      "text/html": [
       "<div>\n",
       "<style scoped>\n",
       "    .dataframe tbody tr th:only-of-type {\n",
       "        vertical-align: middle;\n",
       "    }\n",
       "\n",
       "    .dataframe tbody tr th {\n",
       "        vertical-align: top;\n",
       "    }\n",
       "\n",
       "    .dataframe thead th {\n",
       "        text-align: right;\n",
       "    }\n",
       "</style>\n",
       "<table border=\"1\" class=\"dataframe\">\n",
       "  <thead>\n",
       "    <tr style=\"text-align: right;\">\n",
       "      <th></th>\n",
       "      <th>INCIDENT_COUNT</th>\n",
       "    </tr>\n",
       "  </thead>\n",
       "  <tbody>\n",
       "    <tr>\n",
       "      <th>2012-01-01</th>\n",
       "      <td>NaN</td>\n",
       "    </tr>\n",
       "    <tr>\n",
       "      <th>2012-01-02</th>\n",
       "      <td>1.0</td>\n",
       "    </tr>\n",
       "    <tr>\n",
       "      <th>2012-01-03</th>\n",
       "      <td>NaN</td>\n",
       "    </tr>\n",
       "    <tr>\n",
       "      <th>2012-01-04</th>\n",
       "      <td>2.0</td>\n",
       "    </tr>\n",
       "    <tr>\n",
       "      <th>2012-01-05</th>\n",
       "      <td>5.0</td>\n",
       "    </tr>\n",
       "  </tbody>\n",
       "</table>\n",
       "</div>"
      ],
      "text/plain": [
       "            INCIDENT_COUNT\n",
       "2012-01-01             NaN\n",
       "2012-01-02             1.0\n",
       "2012-01-03             NaN\n",
       "2012-01-04             2.0\n",
       "2012-01-05             5.0"
      ]
     },
     "execution_count": 8,
     "metadata": {},
     "output_type": "execute_result"
    }
   ],
   "source": [
    "data_2012_2013.head()"
   ]
  },
  {
   "cell_type": "code",
   "execution_count": 9,
   "metadata": {},
   "outputs": [
    {
     "data": {
      "text/html": [
       "<div>\n",
       "<style scoped>\n",
       "    .dataframe tbody tr th:only-of-type {\n",
       "        vertical-align: middle;\n",
       "    }\n",
       "\n",
       "    .dataframe tbody tr th {\n",
       "        vertical-align: top;\n",
       "    }\n",
       "\n",
       "    .dataframe thead th {\n",
       "        text-align: right;\n",
       "    }\n",
       "</style>\n",
       "<table border=\"1\" class=\"dataframe\">\n",
       "  <thead>\n",
       "    <tr style=\"text-align: right;\">\n",
       "      <th></th>\n",
       "      <th>INCIDENT_COUNT</th>\n",
       "    </tr>\n",
       "  </thead>\n",
       "  <tbody>\n",
       "    <tr>\n",
       "      <th>2012-01-01</th>\n",
       "      <td>0.0</td>\n",
       "    </tr>\n",
       "    <tr>\n",
       "      <th>2012-01-02</th>\n",
       "      <td>1.0</td>\n",
       "    </tr>\n",
       "    <tr>\n",
       "      <th>2012-01-03</th>\n",
       "      <td>0.0</td>\n",
       "    </tr>\n",
       "    <tr>\n",
       "      <th>2012-01-04</th>\n",
       "      <td>2.0</td>\n",
       "    </tr>\n",
       "    <tr>\n",
       "      <th>2012-01-05</th>\n",
       "      <td>5.0</td>\n",
       "    </tr>\n",
       "  </tbody>\n",
       "</table>\n",
       "</div>"
      ],
      "text/plain": [
       "            INCIDENT_COUNT\n",
       "2012-01-01             0.0\n",
       "2012-01-02             1.0\n",
       "2012-01-03             0.0\n",
       "2012-01-04             2.0\n",
       "2012-01-05             5.0"
      ]
     },
     "execution_count": 9,
     "metadata": {},
     "output_type": "execute_result"
    }
   ],
   "source": [
    "data_2012_2013.fillna(value = 0, axis= 1, inplace=True)\n",
    "data_2012_2013.head()"
   ]
  },
  {
   "cell_type": "markdown",
   "metadata": {},
   "source": [
    "### Ejercicio: Exploratorio\n",
    "\n",
    "Usemos un gráficos de barras para representar los valores de frecuencia de accidentes en los años 2012 y 2013 (por separado)\n",
    "\n",
    "Para eso, agregamos al DataFrame una columna de tipo int que indique el mes que corresponde al valor de index de cada registro.\n",
    "\n",
    "Y usemos los valores de esta nueva columna como eje x."
   ]
  },
  {
   "cell_type": "code",
   "execution_count": 10,
   "metadata": {},
   "outputs": [
    {
     "data": {
      "text/html": [
       "<div>\n",
       "<style scoped>\n",
       "    .dataframe tbody tr th:only-of-type {\n",
       "        vertical-align: middle;\n",
       "    }\n",
       "\n",
       "    .dataframe tbody tr th {\n",
       "        vertical-align: top;\n",
       "    }\n",
       "\n",
       "    .dataframe thead th {\n",
       "        text-align: right;\n",
       "    }\n",
       "</style>\n",
       "<table border=\"1\" class=\"dataframe\">\n",
       "  <thead>\n",
       "    <tr style=\"text-align: right;\">\n",
       "      <th></th>\n",
       "      <th>INCIDENT_COUNT</th>\n",
       "      <th>plot_month</th>\n",
       "    </tr>\n",
       "  </thead>\n",
       "  <tbody>\n",
       "    <tr>\n",
       "      <th>2012-01-01</th>\n",
       "      <td>0.0</td>\n",
       "      <td>1</td>\n",
       "    </tr>\n",
       "    <tr>\n",
       "      <th>2012-01-02</th>\n",
       "      <td>1.0</td>\n",
       "      <td>1</td>\n",
       "    </tr>\n",
       "    <tr>\n",
       "      <th>2012-01-03</th>\n",
       "      <td>0.0</td>\n",
       "      <td>1</td>\n",
       "    </tr>\n",
       "  </tbody>\n",
       "</table>\n",
       "</div>"
      ],
      "text/plain": [
       "            INCIDENT_COUNT  plot_month\n",
       "2012-01-01             0.0           1\n",
       "2012-01-02             1.0           1\n",
       "2012-01-03             0.0           1"
      ]
     },
     "execution_count": 10,
     "metadata": {},
     "output_type": "execute_result"
    }
   ],
   "source": [
    "data_2012_2013[\"plot_month\"] = [x.month for x in data_2012_2013.index]\n",
    "data_2012_2013.head(3)"
   ]
  },
  {
   "cell_type": "code",
   "execution_count": 11,
   "metadata": {},
   "outputs": [
    {
     "data": {
      "image/png": "[encoded data removed]",
      "text/plain": [
       "<Figure size 432x288 with 2 Axes>"
      ]
     },
     "metadata": {
      "needs_background": "light"
     },
     "output_type": "display_data"
    }
   ],
   "source": [
    "# magia!\n",
    "# https://pandas.pydata.org/pandas-docs/stable/user_guide/indexing.html#selection-by-label\n",
    "data_2012 = data_2012_2013['2012']\n",
    "data_2013 = data_2012_2013['2013']\n",
    "\n",
    "fig, (ax1, ax2) = plt.subplots(2, 1, sharex=True, sharey=True)\n",
    "sns.barplot(x=data_2012.plot_month, y= data_2012.INCIDENT_COUNT, ax=ax1)\n",
    "sns.barplot(x=data_2013.plot_month, y = data_2013.INCIDENT_COUNT, ax=ax2)\n",
    "ax1.set_title('Wildlife Strike Incidents 2012')\n",
    "ax2.set_title('Wildlife Strike Incidents 2013')\n",
    "ax1.set_xlabel('')\n",
    "ax2.set_xlabel('')\n",
    "plt.show()"
   ]
  },
  {
   "cell_type": "code",
   "execution_count": 12,
   "metadata": {},
   "outputs": [
    {
     "data": {
      "text/html": [
       "<div>\n",
       "<style scoped>\n",
       "    .dataframe tbody tr th:only-of-type {\n",
       "        vertical-align: middle;\n",
       "    }\n",
       "\n",
       "    .dataframe tbody tr th {\n",
       "        vertical-align: top;\n",
       "    }\n",
       "\n",
       "    .dataframe thead th {\n",
       "        text-align: right;\n",
       "    }\n",
       "</style>\n",
       "<table border=\"1\" class=\"dataframe\">\n",
       "  <thead>\n",
       "    <tr style=\"text-align: right;\">\n",
       "      <th></th>\n",
       "      <th>INCIDENT_COUNT</th>\n",
       "      <th>plot_month</th>\n",
       "    </tr>\n",
       "  </thead>\n",
       "  <tbody>\n",
       "    <tr>\n",
       "      <th>2012-01-01</th>\n",
       "      <td>0.0</td>\n",
       "      <td>1</td>\n",
       "    </tr>\n",
       "    <tr>\n",
       "      <th>2012-01-02</th>\n",
       "      <td>1.0</td>\n",
       "      <td>1</td>\n",
       "    </tr>\n",
       "    <tr>\n",
       "      <th>2012-01-03</th>\n",
       "      <td>0.0</td>\n",
       "      <td>1</td>\n",
       "    </tr>\n",
       "    <tr>\n",
       "      <th>2012-01-04</th>\n",
       "      <td>2.0</td>\n",
       "      <td>1</td>\n",
       "    </tr>\n",
       "    <tr>\n",
       "      <th>2012-01-05</th>\n",
       "      <td>5.0</td>\n",
       "      <td>1</td>\n",
       "    </tr>\n",
       "    <tr>\n",
       "      <th>...</th>\n",
       "      <td>...</td>\n",
       "      <td>...</td>\n",
       "    </tr>\n",
       "    <tr>\n",
       "      <th>2012-12-27</th>\n",
       "      <td>1.0</td>\n",
       "      <td>12</td>\n",
       "    </tr>\n",
       "    <tr>\n",
       "      <th>2012-12-28</th>\n",
       "      <td>1.0</td>\n",
       "      <td>12</td>\n",
       "    </tr>\n",
       "    <tr>\n",
       "      <th>2012-12-29</th>\n",
       "      <td>0.0</td>\n",
       "      <td>12</td>\n",
       "    </tr>\n",
       "    <tr>\n",
       "      <th>2012-12-30</th>\n",
       "      <td>4.0</td>\n",
       "      <td>12</td>\n",
       "    </tr>\n",
       "    <tr>\n",
       "      <th>2012-12-31</th>\n",
       "      <td>1.0</td>\n",
       "      <td>12</td>\n",
       "    </tr>\n",
       "  </tbody>\n",
       "</table>\n",
       "<p>366 rows × 2 columns</p>\n",
       "</div>"
      ],
      "text/plain": [
       "            INCIDENT_COUNT  plot_month\n",
       "2012-01-01             0.0           1\n",
       "2012-01-02             1.0           1\n",
       "2012-01-03             0.0           1\n",
       "2012-01-04             2.0           1\n",
       "2012-01-05             5.0           1\n",
       "...                    ...         ...\n",
       "2012-12-27             1.0          12\n",
       "2012-12-28             1.0          12\n",
       "2012-12-29             0.0          12\n",
       "2012-12-30             4.0          12\n",
       "2012-12-31             1.0          12\n",
       "\n",
       "[366 rows x 2 columns]"
      ]
     },
     "execution_count": 12,
     "metadata": {},
     "output_type": "execute_result"
    }
   ],
   "source": [
    "data_2012"
   ]
  },
  {
   "cell_type": "markdown",
   "metadata": {},
   "source": [
    "### Ejercicio: Test de hipótesis\n",
    "\n",
    "Asumamos que la Federal Aviation Administration lanzó en el 2013 un nuevo programa de prevención de incidentes con fauna silvestre.\n",
    "\n",
    "Queremos saber si hay una baja significativa en el número diario de incidentes del año 2013 respecto del 2012.\n",
    "\n",
    "Elegimos como nivel de significación (alfa) 0.05\n",
    "\n",
    "Una probabilidad menor a 0.05 rechaza la hipótesis nula.\n",
    "\n",
    "La hipótesis nula es que la media de incidentes del 2012 es la media poblacional y es igual a la media poblacional de incidentes del 2013.\n",
    "\n",
    "La hipótesis alternativa es que la media de incidentes del 2013 es menor que la del 2012.\n",
    "\n",
    "|Hypothesis|$\\alpha = .05$|   |\n",
    "|---|:---:|:---|\n",
    "|Null|$H_0:$|$\\mu = \\bar{x}_{2013}$|\n",
    "|Alternative|$H_a:$|$\\mu \\gt \\bar{x}_{2013} $|\n",
    "\n",
    "Calculemos la media de incidentes y desvío para los años 2012 y 2013"
   ]
  },
  {
   "cell_type": "code",
   "execution_count": 13,
   "metadata": {},
   "outputs": [
    {
     "name": "stdout",
     "output_type": "stream",
     "text": [
      "2.5546448087431695 1.6818182461905782\n",
      "2.4328767123287673 2.0752369647905557\n"
     ]
    }
   ],
   "source": [
    "xbar_2012 = data_2012.INCIDENT_COUNT.mean()\n",
    "sd_2012 = data_2012.INCIDENT_COUNT.std()\n",
    "print(xbar_2012, sd_2012)\n",
    "\n",
    "xbar_2013 = data_2013.INCIDENT_COUNT.mean()\n",
    "sd_2013 = data_2013.INCIDENT_COUNT.std()\n",
    "print(xbar_2013, sd_2013)"
   ]
  },
  {
   "cell_type": "markdown",
   "metadata": {},
   "source": [
    "Notamos que la media de incidentes del 2013 es un poco menor que la del 2102.\n",
    "\n",
    "Queremos saber si esta diferencia se debe a la variación normal de estos dato, es decir que la diferencia se puede adjudicar al azar. \n",
    "\n",
    "Para eso, calculemos el z-score y usemos un nivel de significación 0.05\n",
    "\n"
   ]
  },
  {
   "cell_type": "code",
   "execution_count": 14,
   "metadata": {},
   "outputs": [
    {
     "data": {
      "text/plain": [
       "-1.3832506697924576"
      ]
     },
     "execution_count": 14,
     "metadata": {},
     "output_type": "execute_result"
    }
   ],
   "source": [
    "mu = xbar_2012\n",
    "sigma = sd_2012\n",
    "n = data_2013.shape[0]\n",
    "se = sigma / math.sqrt(n)\n",
    "zscore = (xbar_2013 - mu) / se\n",
    "zscore"
   ]
  },
  {
   "cell_type": "markdown",
   "metadata": {},
   "source": [
    "Calculamos valores críticos:"
   ]
  },
  {
   "cell_type": "code",
   "execution_count": 15,
   "metadata": {},
   "outputs": [
    {
     "data": {
      "text/plain": [
       "-1.6448536269514729"
      ]
     },
     "execution_count": 15,
     "metadata": {},
     "output_type": "execute_result"
    }
   ],
   "source": [
    "alpha = .05\n",
    "critical_value = stats.norm.ppf(alpha)\n",
    "critical_value"
   ]
  },
  {
   "cell_type": "markdown",
   "metadata": {},
   "source": [
    "Grafiquemos datos con distribución normal, la región de rechazo, y el valor de zscore obtenido"
   ]
  },
  {
   "cell_type": "code",
   "execution_count": 16,
   "metadata": {},
   "outputs": [
    {
     "data": {
      "image/png": "[encoded data removed]",
      "text/plain": [
       "<Figure size 432x288 with 1 Axes>"
      ]
     },
     "metadata": {
      "needs_background": "light"
     },
     "output_type": "display_data"
    }
   ],
   "source": [
    "# Plot the normal distribution\n",
    "samples = 100\n",
    "x_plot = np.linspace(-3.5, 3.5, samples)\n",
    "y_plot = stats.norm.pdf(x_plot, 0, 1)\n",
    "plt.plot(x_plot, y_plot)\n",
    "\n",
    "# Plot the critical region\n",
    "x_crit = np.linspace(-3.5, critical_value, samples)\n",
    "y_crit = stats.norm.pdf(x_crit, 0, 1)\n",
    "# colorea la region de rechazo de H0:\n",
    "plt.fill_between(x_crit,  y_crit, alpha=.5)\n",
    "\n",
    "# Plot the z score, linea naranja:\n",
    "plt.plot([zscore, zscore], [0, stats.norm.pdf(zscore)])\n",
    "\n",
    "# Show legend\n",
    "plt.legend(['critical region', 'z score'])\n",
    "plt.show()"
   ]
  },
  {
   "cell_type": "markdown",
   "metadata": {},
   "source": [
    "Como zscore no es menor que critical_value, no podemos rechazar H0.\n",
    "\n",
    "Esto indica que podemos obtener por azar una media muestral con ese valor de la misma población real.\n",
    "\n",
    "En otras palabras, no hay diferencia significativa en los promedios de incidentes en 2012 y 2013.\n"
   ]
  },
  {
   "cell_type": "markdown",
   "metadata": {},
   "source": [
    "---\n",
    "\n",
    "## A/B Testing"
   ]
  },
  {
   "cell_type": "markdown",
   "metadata": {},
   "source": [
    "### Dataset\n",
    "\n",
    "Los datos corresponden a las visitas de usuarios a un sitio web.\n",
    "\n",
    "Este sitio tiene dos versiones de la landing: old_page y new_page\n",
    "\n",
    "El campo \"converted\" indica si un usuario hizo click o no, idicados con 1 o 0 respectivamente, en la pagina que vio.\n",
    "\n",
    "El objetivo es determinar si la nueva versión de la página tiene más proporción de clicks que la vieja.\n",
    "\n",
    "https://www.kaggle.com/zhangluyuan/ab-testing"
   ]
  },
  {
   "cell_type": "code",
   "execution_count": 17,
   "metadata": {},
   "outputs": [
    {
     "data": {
      "text/html": [
       "<div>\n",
       "<style scoped>\n",
       "    .dataframe tbody tr th:only-of-type {\n",
       "        vertical-align: middle;\n",
       "    }\n",
       "\n",
       "    .dataframe tbody tr th {\n",
       "        vertical-align: top;\n",
       "    }\n",
       "\n",
       "    .dataframe thead th {\n",
       "        text-align: right;\n",
       "    }\n",
       "</style>\n",
       "<table border=\"1\" class=\"dataframe\">\n",
       "  <thead>\n",
       "    <tr style=\"text-align: right;\">\n",
       "      <th></th>\n",
       "      <th>user_id</th>\n",
       "      <th>timestamp</th>\n",
       "      <th>group</th>\n",
       "      <th>landing_page</th>\n",
       "      <th>converted</th>\n",
       "    </tr>\n",
       "  </thead>\n",
       "  <tbody>\n",
       "    <tr>\n",
       "      <th>0</th>\n",
       "      <td>851104</td>\n",
       "      <td>2017-01-21 22:11:48.556739</td>\n",
       "      <td>control</td>\n",
       "      <td>old_page</td>\n",
       "      <td>0</td>\n",
       "    </tr>\n",
       "    <tr>\n",
       "      <th>1</th>\n",
       "      <td>804228</td>\n",
       "      <td>2017-01-12 08:01:45.159739</td>\n",
       "      <td>control</td>\n",
       "      <td>old_page</td>\n",
       "      <td>0</td>\n",
       "    </tr>\n",
       "    <tr>\n",
       "      <th>2</th>\n",
       "      <td>661590</td>\n",
       "      <td>2017-01-11 16:55:06.154213</td>\n",
       "      <td>treatment</td>\n",
       "      <td>new_page</td>\n",
       "      <td>0</td>\n",
       "    </tr>\n",
       "    <tr>\n",
       "      <th>3</th>\n",
       "      <td>853541</td>\n",
       "      <td>2017-01-08 18:28:03.143765</td>\n",
       "      <td>treatment</td>\n",
       "      <td>new_page</td>\n",
       "      <td>0</td>\n",
       "    </tr>\n",
       "    <tr>\n",
       "      <th>4</th>\n",
       "      <td>864975</td>\n",
       "      <td>2017-01-21 01:52:26.210827</td>\n",
       "      <td>control</td>\n",
       "      <td>old_page</td>\n",
       "      <td>1</td>\n",
       "    </tr>\n",
       "  </tbody>\n",
       "</table>\n",
       "</div>"
      ],
      "text/plain": [
       "   user_id                   timestamp      group landing_page  converted\n",
       "0   851104  2017-01-21 22:11:48.556739    control     old_page          0\n",
       "1   804228  2017-01-12 08:01:45.159739    control     old_page          0\n",
       "2   661590  2017-01-11 16:55:06.154213  treatment     new_page          0\n",
       "3   853541  2017-01-08 18:28:03.143765  treatment     new_page          0\n",
       "4   864975  2017-01-21 01:52:26.210827    control     old_page          1"
      ]
     },
     "execution_count": 17,
     "metadata": {},
     "output_type": "execute_result"
    }
   ],
   "source": [
    "data_location = \"../Data/ab_data.csv\"\n",
    "data = pd.read_csv(data_location, sep=\",\")\n",
    "data.head()"
   ]
  },
  {
   "cell_type": "code",
   "execution_count": 18,
   "metadata": {},
   "outputs": [
    {
     "data": {
      "text/plain": [
       "(294478, 5)"
      ]
     },
     "execution_count": 18,
     "metadata": {},
     "output_type": "execute_result"
    }
   ],
   "source": [
    "data.shape"
   ]
  },
  {
   "cell_type": "markdown",
   "metadata": {},
   "source": [
    "Tenemos que eliminar todos los registros que sean \n",
    "* 'control' y 'new_page' \n",
    "* 'treatment' y 'old_page'\n",
    "\n",
    "Miremos cuántos no están en esas condiciones"
   ]
  },
  {
   "cell_type": "code",
   "execution_count": 19,
   "metadata": {},
   "outputs": [
    {
     "name": "stdout",
     "output_type": "stream",
     "text": [
      "1928 1965\n"
     ]
    }
   ],
   "source": [
    "control_mask = data.group == 'control'\n",
    "treatment_mask = data.group == 'treatment'\n",
    "new_mask = data.landing_page == 'new_page'\n",
    "old_mask = data.landing_page == 'old_page'\n",
    "control_new_mask = np.logical_and(control_mask, new_mask)\n",
    "treatment_old_mask = np.logical_and(treatment_mask, old_mask)\n",
    "print(control_new_mask.sum(), treatment_old_mask.sum())"
   ]
  },
  {
   "cell_type": "markdown",
   "metadata": {},
   "source": [
    "Eliminemos los registros detectados en el paso anterior"
   ]
  },
  {
   "cell_type": "code",
   "execution_count": 20,
   "metadata": {},
   "outputs": [
    {
     "data": {
      "text/plain": [
       "(292550, 5)"
      ]
     },
     "execution_count": 20,
     "metadata": {},
     "output_type": "execute_result"
    }
   ],
   "source": [
    "control_new_index_to_drop = data.index[control_new_mask]\n",
    "data_clean_1 = data.drop(index = control_new_index_to_drop, axis=0)\n",
    "data_clean_1.shape"
   ]
  },
  {
   "cell_type": "code",
   "execution_count": 21,
   "metadata": {},
   "outputs": [
    {
     "data": {
      "text/plain": [
       "(290585, 5)"
      ]
     },
     "execution_count": 21,
     "metadata": {},
     "output_type": "execute_result"
    }
   ],
   "source": [
    "treatment_old_index_to_drop = data.index[treatment_old_mask]\n",
    "data_clean_2 = data_clean_1.drop(index = treatment_old_index_to_drop, axis=0)\n",
    "data_clean_2.shape"
   ]
  },
  {
   "cell_type": "markdown",
   "metadata": {},
   "source": [
    "Eliminemos los registros duplicados"
   ]
  },
  {
   "cell_type": "code",
   "execution_count": 22,
   "metadata": {},
   "outputs": [
    {
     "data": {
      "text/plain": [
       "(290584, 5)"
      ]
     },
     "execution_count": 22,
     "metadata": {},
     "output_type": "execute_result"
    }
   ],
   "source": [
    "data_ab = data_clean_2.drop_duplicates(subset ='user_id',keep ='first', inplace = False)\n",
    "data_ab.shape"
   ]
  },
  {
   "cell_type": "markdown",
   "metadata": {},
   "source": [
    "Calculemos la probabilidad de conversion independiente de la página"
   ]
  },
  {
   "cell_type": "code",
   "execution_count": 23,
   "metadata": {},
   "outputs": [
    {
     "data": {
      "text/plain": [
       "0.11959708724499628"
      ]
     },
     "execution_count": 23,
     "metadata": {},
     "output_type": "execute_result"
    }
   ],
   "source": [
    "converted_mask = data_ab.converted == 1\n",
    "converted_mask.sum() / data_ab.shape[0]"
   ]
  },
  {
   "cell_type": "markdown",
   "metadata": {},
   "source": [
    "Calculemos la probabilidad de convertir si el usuario ve la página nueva"
   ]
  },
  {
   "cell_type": "code",
   "execution_count": 24,
   "metadata": {},
   "outputs": [
    {
     "data": {
      "text/plain": [
       "0.11880806551510564"
      ]
     },
     "execution_count": 24,
     "metadata": {},
     "output_type": "execute_result"
    }
   ],
   "source": [
    "new_mask = data_ab.landing_page == 'new_page'\n",
    "new_converted_mask = np.logical_and(new_mask, data_ab.converted == 1)\n",
    "new_converted_mask.sum() / new_mask.sum()"
   ]
  },
  {
   "cell_type": "markdown",
   "metadata": {},
   "source": [
    "Calculemos la probabilidad de convertir si si el usuario ve la página vieja"
   ]
  },
  {
   "cell_type": "code",
   "execution_count": 25,
   "metadata": {},
   "outputs": [
    {
     "data": {
      "text/plain": [
       "0.1203863045004612"
      ]
     },
     "execution_count": 25,
     "metadata": {},
     "output_type": "execute_result"
    }
   ],
   "source": [
    "old_mask = data_ab.landing_page == 'old_page'\n",
    "old_converted_mask = np.logical_and(old_mask, data_ab.converted == 1)\n",
    "old_converted_mask.sum() / old_mask.sum()"
   ]
  },
  {
   "cell_type": "markdown",
   "metadata": {},
   "source": [
    "Calculemos la probabilidad de ver la página nueva"
   ]
  },
  {
   "cell_type": "code",
   "execution_count": 26,
   "metadata": {},
   "outputs": [
    {
     "data": {
      "text/plain": [
       "0.5000619442226688"
      ]
     },
     "execution_count": 26,
     "metadata": {},
     "output_type": "execute_result"
    }
   ],
   "source": [
    "new_mask.sum() / data_ab.shape[0]"
   ]
  },
  {
   "cell_type": "markdown",
   "metadata": {},
   "source": [
    "Definimos una función que calcula los estimadores de los parámetros de una distribución de Bernoulli"
   ]
  },
  {
   "cell_type": "code",
   "execution_count": 27,
   "metadata": {},
   "outputs": [],
   "source": [
    "def estimated_parameters(N, n):\n",
    "    p = n/N\n",
    "    sigma = math.sqrt(p*(1-p)/N)\n",
    "    return p, sigma"
   ]
  },
  {
   "cell_type": "markdown",
   "metadata": {},
   "source": [
    "Definimos una función que calcula el estadístico de un A/B Test"
   ]
  },
  {
   "cell_type": "code",
   "execution_count": 28,
   "metadata": {},
   "outputs": [],
   "source": [
    "def a_b_test_statistic(N_A,n_A,N_B,n_B):\n",
    "    p_A, sigma_A = estimated_parameters(N_A, n_A)\n",
    "    p_B, sigma_B = estimated_parameters(N_B, n_B)\n",
    "    return (p_B - p_A)/math.sqrt(sigma_A**2 + sigma_B**2)"
   ]
  },
  {
   "cell_type": "markdown",
   "metadata": {},
   "source": [
    "Calculemos el valor del estadístico definido por esta función y los valores críticos y p-value para decidir si rechazamos H0."
   ]
  },
  {
   "cell_type": "code",
   "execution_count": 29,
   "metadata": {},
   "outputs": [
    {
     "name": "stdout",
     "output_type": "stream",
     "text": [
      "145274 17489\n"
     ]
    }
   ],
   "source": [
    "control_old_page_mask = data_ab.landing_page == \"old_page\"\n",
    "control_old_page = data_ab.loc[control_old_page_mask, :]\n",
    "N_control_old = control_old_page.shape[0]\n",
    "n_control_old = control_old_page.converted.sum()\n",
    "print(N_control_old, n_control_old)"
   ]
  },
  {
   "cell_type": "code",
   "execution_count": 30,
   "metadata": {},
   "outputs": [
    {
     "name": "stdout",
     "output_type": "stream",
     "text": [
      "145310 17264\n"
     ]
    }
   ],
   "source": [
    "treatment_new_page_mask = data_ab.landing_page == \"new_page\"\n",
    "treatment_new_page = data_ab.loc[treatment_new_page_mask, :]\n",
    "N_treatment_new = treatment_new_page.shape[0]\n",
    "n_treatment_new = treatment_new_page.converted.sum()\n",
    "print(N_treatment_new, n_treatment_new)"
   ]
  },
  {
   "cell_type": "markdown",
   "metadata": {},
   "source": [
    "H0: p_new = p_old\n",
    "\n",
    "H1: p_new != p_old"
   ]
  },
  {
   "cell_type": "code",
   "execution_count": 31,
   "metadata": {},
   "outputs": [
    {
     "data": {
      "text/plain": [
       "(0.1203863045004612, 0.0008537694007860813)"
      ]
     },
     "execution_count": 31,
     "metadata": {},
     "output_type": "execute_result"
    }
   ],
   "source": [
    "estimated_parameters(N_control_old, n_control_old)"
   ]
  },
  {
   "cell_type": "markdown",
   "metadata": {},
   "source": [
    "Entonces para la versión vieja, el valor estimado de p es 0.120 y sigma 0.0008"
   ]
  },
  {
   "cell_type": "code",
   "execution_count": 32,
   "metadata": {},
   "outputs": [
    {
     "data": {
      "text/plain": [
       "(0.11880806551510564, 0.0008488099612462211)"
      ]
     },
     "execution_count": 32,
     "metadata": {},
     "output_type": "execute_result"
    }
   ],
   "source": [
    "estimated_parameters(N_treatment_new, n_treatment_new)"
   ]
  },
  {
   "cell_type": "markdown",
   "metadata": {},
   "source": [
    "Entonces para la versión nueva, el valor estimado de p es 0.118 y sigma 0.0008\n",
    "\n",
    "No parece haber diferencia entre los resultados de ambas versiones"
   ]
  },
  {
   "cell_type": "code",
   "execution_count": 33,
   "metadata": {},
   "outputs": [
    {
     "data": {
      "text/plain": [
       "1.9599639845400545"
      ]
     },
     "execution_count": 33,
     "metadata": {},
     "output_type": "execute_result"
    }
   ],
   "source": [
    "## Definimos un nivel de significación del 5%. Vamos a hacer un test a dos colas:\n",
    "alpha=0.05\n",
    "z_crit = np.abs(stats.norm.ppf(alpha/2))\n",
    "z_crit"
   ]
  },
  {
   "cell_type": "markdown",
   "metadata": {},
   "source": [
    "Entonces los valores críticos, que definen las regiones de rechazo, son -1.96 y 1.96\n",
    "\n",
    "Calculamos el estadítico para el test"
   ]
  },
  {
   "cell_type": "code",
   "execution_count": 34,
   "metadata": {},
   "outputs": [
    {
     "data": {
      "text/plain": [
       "1.310927148830192"
      ]
     },
     "execution_count": 34,
     "metadata": {},
     "output_type": "execute_result"
    }
   ],
   "source": [
    "z_est = a_b_test_statistic(N_treatment_new,n_treatment_new,N_control_old,n_control_old)\n",
    "z_est"
   ]
  },
  {
   "cell_type": "markdown",
   "metadata": {},
   "source": [
    "El valor del estadítico está fuera de la región de rechazo, porque no verifica z_est < -1.96, ni z_est > 1.96. Por lo tanto no rechazamos H0.\n",
    "\n",
    "Veamos qué concluimos usando p-value:"
   ]
  },
  {
   "cell_type": "code",
   "execution_count": 35,
   "metadata": {},
   "outputs": [
    {
     "data": {
      "text/plain": [
       "0.18988237758848625"
      ]
     },
     "execution_count": 35,
     "metadata": {},
     "output_type": "execute_result"
    }
   ],
   "source": [
    "p_value = 2 * stats.norm.cdf((-1) * z_est)\n",
    "p_value"
   ]
  },
  {
   "cell_type": "markdown",
   "metadata": {},
   "source": [
    "El valor de p_value es 0.18.\n",
    "\n",
    "Rechazamos H0 cuando p-value es menor que el nvel de significación del test (0.05 para este ejercicio)\n",
    "\n",
    "Como 0.18 no es menor que 0.05 (el nivel de significación), entonces no rechazamos H0."
   ]
  },
  {
   "cell_type": "markdown",
   "metadata": {},
   "source": [
    "**Bonus track**:\n",
    "    \n",
    "Más adelante en este curso vamos ver la biblioteca statsmodels, que ahora vamos a mencionar porque nos permite calcular z-score y p-value para nuestro problema, y compararlo con los resultados que obtuvimos con nuestras funciones.\n",
    "\n",
    "https://www.statsmodels.org/0.6.1/generated/statsmodels.stats.proportion.proportions_ztest.html"
   ]
  },
  {
   "cell_type": "code",
   "execution_count": 36,
   "metadata": {},
   "outputs": [],
   "source": [
    "import statsmodels.api as sm"
   ]
  },
  {
   "cell_type": "code",
   "execution_count": 37,
   "metadata": {},
   "outputs": [
    {
     "data": {
      "text/plain": [
       "(1.3109241984234394, 0.18988337448195103)"
      ]
     },
     "execution_count": 37,
     "metadata": {},
     "output_type": "execute_result"
    }
   ],
   "source": [
    "z_score, p_value = sm.stats.proportions_ztest([n_control_old, n_treatment_new], [N_control_old, N_treatment_new], \n",
    "                                              alternative='two-sided')\n",
    "z_score, p_value"
   ]
  },
  {
   "cell_type": "markdown",
   "metadata": {},
   "source": [
    "## Referencias\n",
    "\n",
    "Test de Hipótesis\n",
    "https://github.com/leonvanbokhorst/NoteBooks-Statistics-and-MachineLearning/blob/master/0014%20Hypothesis%20Testing%20with%20Bird%20Strike%20Incidents.ipynb\n",
    "\n",
    "A/B testing\n",
    "https://www.kaggle.com/shweta112/a-b-testing-analysis\n",
    "\n",
    "A/B testing, un ejemplo (un poco más difícil) para analizar \n",
    "\n",
    "https://www.kaggle.com/tammyrotem/ab-tests-with-python\n",
    "    \n",
    "https://github.com/baumanab/udacity_ABTesting#summary\n",
    "        \n",
    "https://github.com/TammyRotem/A-B_Tests_with_Python/blob/master/AB_Testing_with_Python.ipynb        \n"
   ]
  }
 ],
 "metadata": {
  "kernelspec": {
   "display_name": "Python 3",
   "language": "python",
   "name": "python3"
  },
  "language_info": {
   "codemirror_mode": {
    "name": "ipython",
    "version": 3
   },
   "file_extension": ".py",
   "mimetype": "text/x-python",
   "name": "python",
   "nbconvert_exporter": "python",
   "pygments_lexer": "ipython3",
   "version": "3.8.5"
  }
 },
 "nbformat": 4,
 "nbformat_minor": 4
}
