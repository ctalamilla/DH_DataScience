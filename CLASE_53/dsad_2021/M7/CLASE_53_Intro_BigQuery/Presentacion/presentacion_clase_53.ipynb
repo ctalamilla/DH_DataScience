{
 "cells": [
  {
   "cell_type": "code",
   "execution_count": 1,
   "metadata": {
    "slideshow": {
     "slide_type": "skip"
    }
   },
   "outputs": [
    {
     "name": "stdout",
     "output_type": "stream",
     "text": [
      "/media/paulati/Nuevo vol/paula/dh/2021/dsad_2021_paula/common\n",
      "default checking\n",
      "Running command `conda list`... ok\n",
      "jupyterlab=2.2.6 already installed\n",
      "pandas=1.3.0 already installed\n",
      "bokeh=2.2.3 already installed\n",
      "seaborn=0.11.0 already installed\n",
      "matplotlib=3.3.2 already installed\n",
      "ipywidgets=7.5.1 already installed\n",
      "pytest=6.2.1 already installed\n",
      "chardet=4.0.0 already installed\n",
      "psutil=5.7.2 already installed\n",
      "scipy=1.5.2 already installed\n",
      "statsmodels=0.12.1 already installed\n",
      "scikit-learn=0.23.2 already installed\n",
      "xlrd=2.0.1 already installed\n",
      "nltk=3.5 already installed\n",
      "unidecode=1.1.1 already installed\n",
      "pydotplus=2.0.2 already installed\n",
      "pandas-datareader=0.10.0 already installed\n",
      "flask=1.1.2 already installed\n"
     ]
    }
   ],
   "source": [
    "# initial setup\n",
    "%run \"../../../common/0_notebooks_base_setup.py\"\n"
   ]
  },
  {
   "cell_type": "markdown",
   "metadata": {
    "slideshow": {
     "slide_type": "slide"
    }
   },
   "source": [
    "<link rel=\"stylesheet\" href=\"../../../common/dhds.css\">\n",
    "<div class=\"Table\">\n",
    "    <div class=\"Row\">\n",
    "        <div class=\"Cell grey left\"> <img src=\"https://raw.githubusercontent.com/Digital-House-DATA/ds_blend_2021_img/master/M7/CLASE_53_Intro_BigQuery/Presentacion/img/M7_CLASE_53_portada.jpg\" align=\"center\" width=\"70%\"/></div>\n",
    "        <div class=\"Cell right\">\n",
    "            <div class=\"div-logo\"><img src=\"https://raw.githubusercontent.com/Digital-House-DATA/ds_blend_2021_img/master/common/logo_DH.png\" align=\"center\" width=70% /></div>\n",
    "            <div class=\"div-curso\">DATA SCIENCE</div>\n",
    "            <div class=\"div-modulo\">MÓDULO 7</div>\n",
    "            <div class=\"div-contenido\">Introducción a BigQuery\n",
    "\n",
    "</div>\n",
    "        </div>\n",
    "    </div>\n",
    "</div>"
   ]
  },
  {
   "cell_type": "markdown",
   "metadata": {
    "slideshow": {
     "slide_type": "slide"
    }
   },
   "source": [
    "### Agenda\n",
    "\n",
    "---\n",
    "\n",
    "- Bases de datos relacionales.\n",
    "   - Definición.\n",
    "   - Estructura de los datos.\n",
    "   - Lenguaje SQL.\n",
    "\n",
    "---\n",
    "\n",
    "- SQLite.\n",
    "   - Conexión y Cursor.\n",
    "   - Consultas usando SQL.\n",
    "   - Tipos de Joins.\n",
    "\n",
    "---\n",
    "\n",
    "- BigQuery.\n",
    "   - Google Cloud.\n",
    "   - Operaciones sobre BigQuery.\n",
    "   - BigQuery ML."
   ]
  },
  {
   "cell_type": "markdown",
   "metadata": {
    "slideshow": {
     "slide_type": "slide"
    }
   },
   "source": [
    "<div class=\"div-dhds-fondo-1\"> Bases de datos Relacionales\n",
    "<img src=\"https://raw.githubusercontent.com/Digital-House-DATA/ds_blend_2021_img/master/M3/CLASE_21_Regresion_Lineal_Simple/Presentacion/img/M3_CLASE_21_separador.png\" align=\"center\" />\n",
    "\n",
    "</div>"
   ]
  },
  {
   "cell_type": "markdown",
   "metadata": {
    "slideshow": {
     "slide_type": "slide"
    }
   },
   "source": [
    "### Definición\n",
    "\n",
    "---\n",
    "La base de datos relacional es un *tipo de base de datos* que cumple con el *modelo relacional*.\n",
    "\n",
    "Una base de datos es una **colección organizada de información estructurada**.\n",
    "\n",
    "En el modelo relacional todos los datos son almacenados en relaciones, donde cada relación es un conjunto de datos, una **tabla**. \n",
    "\n",
    "<img src=\"https://raw.githubusercontent.com/Digital-House-DATA/ds_blend_2021_img/master/M7/CLASE_53_Intro_BigQuery/Presentacion/img/M7_CLASE_53_004_modelo.png\" alt=\"modelo\" width=60% height=45% align=\"center\"/>\n",
    "\n",
    "Una base de datos relacional es, en esencia, un **conjunto de tablas** (o relaciones) formadas por *filas* (registros o tuplas) y *columnas* (atributos o campos).\n",
    "\n",
    "Cada columna tiene un nombre. Cada registro tiene un valor para cada atributo."
   ]
  },
  {
   "cell_type": "markdown",
   "metadata": {
    "slideshow": {
     "slide_type": "subslide"
    }
   },
   "source": [
    "Una base de datos relacional es usualmente controlada por un **sistema de gestión de base de datos** (RDBMS - relational database management system).\n",
    "\n",
    "También se lo llama *motor de bases de datos relacionales*.\n",
    "\n",
    "<img src=\"https://raw.githubusercontent.com/Digital-House-DATA/ds_blend_2021_img/master/M7/CLASE_53_Intro_BigQuery/Presentacion/img/M7_CLASE_53_005_rdbms.png\" alt=\"rdbms\" width=50% height=40% align=\"center\"/>"
   ]
  },
  {
   "cell_type": "markdown",
   "metadata": {
    "slideshow": {
     "slide_type": "subslide"
    }
   },
   "source": [
    "Existen distintos motores de bases de datos que varían en su potencia y escalabilidad. \n",
    "\n",
    "Algunos como Mysql o PostgreSQL son *Open Source*.\n",
    "\n",
    "<img src=\"https://raw.githubusercontent.com/Digital-House-DATA/ds_blend_2021_img/master/M7/CLASE_53_Intro_BigQuery/Presentacion/img/M7_CLASE_53_006_bd_ejemplos.png\" alt=\"bd_ejemplos\" width=50% height=40% align=\"center\"/>"
   ]
  },
  {
   "cell_type": "markdown",
   "metadata": {
    "slideshow": {
     "slide_type": "slide"
    }
   },
   "source": [
    "### Estructura\n",
    "\n",
    "---\n",
    "Supongamos una base de datos que tiene tres tablas:\n",
    "\n",
    "<img src=\"https://raw.githubusercontent.com/Digital-House-DATA/ds_blend_2021_img/master/M7/CLASE_53_Intro_BigQuery/Presentacion/img/M7_CLASE_53_007_tablas.png\" alt=\"tablas\" width=70% height=55% align=\"center\"/>\n",
    "\n",
    "Cada tabla debe tener al menos una columna con valores únicos para cada registro. Se la llama **clave primaria** (Primary key).\n",
    "\n",
    "Por ejemplo, la tabla de libros tiene la columna o atributo `Codigo libro`, con un valor distinto en cada fila.\n",
    "\n",
    "Las claves garantizan no tener registros duplicados."
   ]
  },
  {
   "cell_type": "markdown",
   "metadata": {
    "slideshow": {
     "slide_type": "subslide"
    }
   },
   "source": [
    "<img src=\"https://raw.githubusercontent.com/Digital-House-DATA/ds_blend_2021_img/master/M7/CLASE_53_Intro_BigQuery/Presentacion/img/M7_CLASE_53_007_tablas.png\" alt=\"tablas\" width=50% height=40% align=\"center\"/>\n",
    "\n",
    "La **relación entre una tabla padre y un hijo** se lleva a cabo por medio de las claves primarias y las **claves foráneas** (Foreign Key).\n",
    "\n",
    "Las *claves foráneas* identifican una columna o grupo de columnas en una tabla que se refiere a una columna o grupo de columnas en otra tabla.\n",
    "\n",
    "- Por ejemplo, la tabla de devoluciones indica el libro, el lector que lo devolvió y la fecha.\n",
    "\n",
    "   - La columna `Codigo libro` es una clave foránea; debe tener un valor que se encuentre en la columna Codigo libro de la tabla de libros.\n",
    "   - La columna `Codigo Lector` también; debe tener un valor que se encuentre en la columna Codigo Lector de la tabla de lectores.\n",
    "\n",
    "Las claves primarias y foráneas garantizan la **integridad** de la base de datos."
   ]
  },
  {
   "cell_type": "markdown",
   "metadata": {
    "slideshow": {
     "slide_type": "slide"
    }
   },
   "source": [
    "### Lenguaje SQL\n",
    "\n",
    "---\n",
    "SQL (Structured Query Language) es el **lenguaje estándar ANSI/ISO** de definición, manipulación y control de bases de datos (BD) relacionales.\n",
    "\n",
    "Posee comandos referentes a:\n",
    "\n",
    "- Definición de datos (o DDL en inglés):\n",
    "  - La creación de la estructura o esquema de base de datos. \n",
    "  - La modificación de dicha estructura.\n",
    "\n",
    "\n",
    "- Manipulación de datos (o DML en inglés):\n",
    "  - La inserción de datos en tablas.\n",
    "  - Las consultas sobre los datos de estas tablas.\n",
    "  - La actualización de los datos contenidos en estas tablas.\n",
    "  - La eliminación de los registros de estas tablas.\n",
    "  \n",
    "  \n",
    "- Control:\n",
    "  - Control de Transacciones como unidad de trabajo lógica.\n",
    "  - Autorizar privilegios de acceso a las tablas y otros elementos de base de datos."
   ]
  },
  {
   "cell_type": "markdown",
   "metadata": {
    "slideshow": {
     "slide_type": "subslide"
    }
   },
   "source": [
    "La sentencia básica de consulta es:\n",
    "\n",
    "`SELECT column1, column2, ...\n",
    "FROM table_name\n",
    "WHERE condition\n",
    "ORDER BY column1, column2, ... ASC|DESC;`\n",
    "\n",
    "Donde: \n",
    "- `SELECT` indica las columnas que consultamos.\n",
    "- `FROM` el nombre de la tabla.\n",
    "- `WHERE` son las condiciones que se aplican sobre los datos.\n",
    "- `ORDER BY` los campos por los que se ordena la salida."
   ]
  },
  {
   "cell_type": "markdown",
   "metadata": {
    "slideshow": {
     "slide_type": "subslide"
    }
   },
   "source": [
    "Veamos algunos ejemplos de consultas usando SQL, a partir de una tabla de automoviles llamada *dbo.automobile* con 199 autos.\n",
    "\n",
    "Más adelante veremos más ejemplos usando la base de datos SQLite.\n",
    "\n",
    "<img src=\"https://raw.githubusercontent.com/Digital-House-DATA/ds_blend_2021_img/master/M7/CLASE_53_Intro_BigQuery/Presentacion/img/M7_CLASE_53_008_sql_tabla.JPG\" alt=\"sql_tabla\" width=40% height=35% align=\"center\"/>\n",
    "\n",
    "- Buscar los autos con precio mayor a 30000 y con potencia menor a 200 y ordenarlos por precio.\n",
    "\n",
    "`select make, horsepower, price \n",
    "from dbo.automobile\n",
    "where price > 30000 AND horsepower < 200\n",
    "order by price`\n",
    "\n",
    "<TABLE>\n",
    "\t<TR><TD>make</TD> <TD>horsepower</TD> <TD>price</TD></TR>\n",
    "\t<TR><TD>mercedes-benz</TD> <TD>155</TD> <TD>35056</TD></TR>\n",
    "\t<TR><TD>bmw</TD> <TD>182</TD> <TD>36880</TD></TR>\n",
    "\t<TR><TD>mercedes-benz</TD> <TD>184</TD> <TD>40960</TD></TR>\n",
    "\t<TR><TD>bmw</TD> <TD>182</TD> <TD>41315</TD></TR>\n",
    "</TABLE>"
   ]
  },
  {
   "cell_type": "markdown",
   "metadata": {
    "slideshow": {
     "slide_type": "subslide"
    }
   },
   "source": [
    "Podemos **agrupar** en forma similar a lo que hacemos con **groupby de Pandas**.\n",
    "\n",
    "- Contar los autos por marca. `as` permite nombrar con un alias a la columna.\n",
    "\n",
    "`select make, count(*) as total \n",
    "from dbo.automobile\n",
    "group by make\n",
    "order by total desc`\n",
    "\n",
    "<TABLE>\n",
    "\t<TR><TD>toyota</TD> <TD>32</TD></TR>\n",
    "\t<TR><TD>nissan</TD> <TD>18</TD></TR>\n",
    "\t<TR><TD>mitsubishi</TD> <TD>13</TD></TR>\n",
    "\t<TR><TD>honda</TD> <TD>13</TD></TR>\n",
    "\t<TR><TD>...</TD> <TD>...</TD></TR>\n",
    "</TABLE>"
   ]
  },
  {
   "cell_type": "markdown",
   "metadata": {
    "slideshow": {
     "slide_type": "slide"
    }
   },
   "source": [
    "### Bases de datos NO relacionales\n",
    "\n",
    "---\n",
    "Las **bases de datos no relacionales** son un sistema de almacenamiento de información que se caracteriza por *no usar el lenguaje SQL* para las consultas. \n",
    "\n",
    "Esto no significa que no puedan usar el lenguaje SQL, pero *no lo hacen como herramienta de consulta, sino como apoyo*. \n",
    "\n",
    "Por ello también se les suele llamar **Base de datos NoSQL**.\n",
    "\n",
    "**No trabajan con estructuras definidas**. Es decir, los datos no se almacenan en tablas, y la información tampoco se organiza en registros o campos.\n",
    "\n",
    "Pueden almacenar documentos, gráficos, archivos con formatos xml, etc.\n",
    "\n",
    "Tienen una gran escalabilidad y están pensadas para la gestión de grandes volúmenes de datos."
   ]
  },
  {
   "cell_type": "markdown",
   "metadata": {
    "slideshow": {
     "slide_type": "subslide"
    }
   },
   "source": [
    "Existen una gran variedad de motor de bases de datos no sql. \n",
    "\n",
    "Por ejemplo, MongoDB guarda documentos en formato JSON, lo que permite mantener estructuras anidadas.\n",
    "\n",
    "<img src=\"https://raw.githubusercontent.com/Digital-House-DATA/ds_blend_2021_img/master/M7/CLASE_53_Intro_BigQuery/Presentacion/img/M7_CLASE_53_009_nobd_ejemplos.png\" alt=\"nobd_ejemplos\" width=50% height=40% align=\"center\"/>"
   ]
  },
  {
   "cell_type": "markdown",
   "metadata": {
    "slideshow": {
     "slide_type": "slide"
    }
   },
   "source": [
    "<div class=\"div-dhds-fondo-1\"> SQLite\n",
    "<img src=\"https://raw.githubusercontent.com/Digital-House-DATA/ds_blend_2021_img/master/M5/CLASE_34_CART/Presentacion/img/M5_CLASE_34_separador.png\" align=\"center\" />\n",
    "\n",
    "</div>"
   ]
  },
  {
   "cell_type": "markdown",
   "metadata": {
    "slideshow": {
     "slide_type": "slide"
    }
   },
   "source": [
    "### Introducción\n",
    "\n",
    "---\n",
    "Vamos a ver más consultas SQL usando una base de datos relacional.\n",
    "\n",
    "**SQLite** es un motor de bases de datos relacionales para ambientes de \"laboratorio\" o prototipos.\n",
    "\n",
    "Es una herramienta de *software libre*, que permite almacenar información tanto en *dispositivos móviles como en computadoras y desarrollo Web*.\n",
    "\n",
    "El motor de SQLite soporta todo tipo de consultas usando el *lenguaje SQL*.\n",
    "\n",
    "Para conocer más sobre SQLite ver <a href=\"https://www.sqlite.org/index.html\" target=\"_blank\">aquí</a>."
   ]
  },
  {
   "cell_type": "markdown",
   "metadata": {
    "slideshow": {
     "slide_type": "slide"
    }
   },
   "source": [
    "### SQLite en Python\n",
    "\n",
    "---\n",
    "Vamos a trabajar con una base de datos SQLite desde Python.\n",
    "\n",
    "Elegimos SQLite porque **no tenemos que instalar cosas nuevas en la PC**.\n",
    "\n",
    "La idea es construir y consultar datasets de otra forma distinta a los archivos csv."
   ]
  },
  {
   "cell_type": "markdown",
   "metadata": {
    "slideshow": {
     "slide_type": "fragment"
    }
   },
   "source": [
    "- **No necesitamos instalar** el módulo sqlite, pues viene incluído en la librería estándar."
   ]
  },
  {
   "cell_type": "code",
   "execution_count": 2,
   "metadata": {
    "slideshow": {
     "slide_type": "skip"
    }
   },
   "outputs": [],
   "source": [
    "import pandas as pd\n",
    "import numpy as np\n",
    "import matplotlib.pyplot as plt"
   ]
  },
  {
   "cell_type": "code",
   "execution_count": 3,
   "metadata": {
    "slideshow": {
     "slide_type": "fragment"
    }
   },
   "outputs": [],
   "source": [
    "import sqlite3\n",
    "import warnings\n",
    "warnings.filterwarnings('ignore')"
   ]
  },
  {
   "cell_type": "markdown",
   "metadata": {
    "slideshow": {
     "slide_type": "subslide"
    }
   },
   "source": [
    "- El método `connect` establece una **conexión**.\n",
    "\n",
    "Una **conexión a base de datos** es la forma en que un servidor de base de datos y su cliente se comunican. \n",
    "\n",
    "El cliente y el servidor pueden o no estar en una misma máquina.\n",
    "\n",
    "El cliente utiliza una conexión a base de datos para enviar comandos y recibir respuestas del servidor.\n",
    "\n",
    "En este ejemplo, *desde un programa Python nos conectamos a la base de datos que se crea en memoria*."
   ]
  },
  {
   "cell_type": "code",
   "execution_count": 4,
   "metadata": {
    "slideshow": {
     "slide_type": "fragment"
    }
   },
   "outputs": [],
   "source": [
    "# Conexión a la base de datos\n",
    "conn = sqlite3.connect(':memory:')"
   ]
  },
  {
   "cell_type": "markdown",
   "metadata": {
    "slideshow": {
     "slide_type": "slide"
    }
   },
   "source": [
    "### SQLite en Python\n",
    "\n",
    "---\n",
    "Luego tenemos que crear sobre la conexión, un **cursor**.\n",
    "\n",
    "Un cursor es una estructura de control que usamos para ejecutar comandos SQL y recorrer (y procesar) los registros del resultado de una consulta."
   ]
  },
  {
   "cell_type": "code",
   "execution_count": 5,
   "metadata": {
    "slideshow": {
     "slide_type": "fragment"
    }
   },
   "outputs": [],
   "source": [
    "# Cursor a la base de datos\n",
    "cursor = conn.cursor()"
   ]
  },
  {
   "cell_type": "markdown",
   "metadata": {
    "slideshow": {
     "slide_type": "subslide"
    }
   },
   "source": [
    "Los métodos más importantes del cursor son:\n",
    "\n",
    "- `.execute`: ejecuta un comando SQL. Podemos crear tablas; insertar, modificar y eliminar registros, y también generar consultas.\n",
    "\n",
    "Cuando realizamos una consulta, los registros (o filas) que obtenemos quedan en el cursor. Lo llamamos **conjunto resultado**.\n",
    "\n",
    "Para acceder a ellos, debemos recorrer el cursor. Es similar a recorrer un vector y traer los elementos de a uno, o todos juntos.\n",
    "\n",
    "- `.fetchone`: extrae la siguiente fila del conjunto resultado de la consulta. Devuelve una\n",
    "secuencia o None cuando no queda datos.\n",
    "\n",
    "- `.fetchall`: extrae todas las filas que queden sin consumir del conjunto resultado. Devuelve una lista.\n",
    "\n",
    "Finalmente:\n",
    "\n",
    "- `.close`: cierra el cursor. El cursor queda inhabilitado a partir de ese momento "
   ]
  },
  {
   "cell_type": "markdown",
   "metadata": {
    "slideshow": {
     "slide_type": "subslide"
    }
   },
   "source": [
    "Veamos un ejemplo: \n",
    "- creamos una tabla.\n",
    "- insertamos (agregamos) dos registros.\n",
    "- los consultamos.\n",
    "- los guardamos en una lista y los mostramos."
   ]
  },
  {
   "cell_type": "code",
   "execution_count": 6,
   "metadata": {
    "slideshow": {
     "slide_type": "fragment"
    }
   },
   "outputs": [
    {
     "name": "stdout",
     "output_type": "stream",
     "text": [
      "<class 'list'>\n",
      "[(1, 'Perez, Ricardo', 'Bogota'), (2, 'Artigas, Beatriz', 'Montevideo')]\n"
     ]
    }
   ],
   "source": [
    "# Creo la tabla\n",
    "cursor.execute(\"\"\"CREATE TABLE Clientes\n",
    " (ID integer primary key, nombre text, localidad text)\"\"\")\n",
    "# Inserto dos registros\n",
    "cursor.execute(\"INSERT INTO Clientes VALUES (1, 'Perez, Ricardo', 'Bogota')\")\n",
    "cursor.execute(\"INSERT INTO Clientes VALUES (2, 'Artigas, Beatriz', 'Montevideo')\")\n",
    "# Guardo los cambios\n",
    "conn.commit()\n",
    "# Consulto todas los registros\n",
    "query = \"SELECT * FROM Clientes\"\n",
    "# Dejo el conjunto resultado en una lista\n",
    "clientes = cursor.execute(query).fetchall()\n",
    "print(type(clientes)); print(clientes)"
   ]
  },
  {
   "cell_type": "code",
   "execution_count": 7,
   "metadata": {},
   "outputs": [],
   "source": [
    "# Cierro la conexión a la base de datos\n",
    "conn.close()"
   ]
  },
  {
   "cell_type": "markdown",
   "metadata": {
    "slideshow": {
     "slide_type": "slide"
    }
   },
   "source": [
    "### Consultas\n",
    "\n",
    "---\n",
    "Ahora vamos a trabajar con una base de datos que contenga tablas para poder consultar.\n",
    "\n",
    "La **base de datos Northwind** es un conjunto de tablas que recrea un esquema de ERP con clientes, pedidos, inventario, compras, proveedores, etc.\n",
    "\n",
    "<img src=\"https://raw.githubusercontent.com/Digital-House-DATA/ds_blend_2021_img/master/M7/CLASE_53_Intro_BigQuery/Presentacion/img/M7_CLASE_53_012_northwind.png\" alt=\"northwind\" width=120% height=50% align=\"center\"/>"
   ]
  },
  {
   "cell_type": "markdown",
   "metadata": {
    "slideshow": {
     "slide_type": "subslide"
    }
   },
   "source": [
    "En este ejemplo, *desde un programa Python nos conectamos a una base de datos ya creada*.\n",
    "\n",
    "Es como realizar un read_csv de Pandas, pero para acceder a un conjunto de tablas. En los dos casos obtenemos un dataframe con los datos."
   ]
  },
  {
   "cell_type": "code",
   "execution_count": 8,
   "metadata": {
    "slideshow": {
     "slide_type": "fragment"
    }
   },
   "outputs": [],
   "source": [
    "conn = sqlite3.connect('../Data/Northwind_small.sqlite')\n",
    "cursor = conn.cursor()"
   ]
  },
  {
   "cell_type": "markdown",
   "metadata": {
    "slideshow": {
     "slide_type": "fragment"
    }
   },
   "source": [
    "Un **schema** de la base de datos es una tabla con *la descripción de todas las tablas, índices y otros objetos* de la base contenidos en la base.\n",
    "\n",
    "Es útil comenzar consultando el schema para conocer todas las tablas de la base. Comprobamos que son las del modelo de datos Northwind.\n",
    "\n",
    "Más sobre <a href=\"https://www.sqlite.org/schematab.html\" target=\"_blank\">schemas</a>."
   ]
  },
  {
   "cell_type": "code",
   "execution_count": 9,
   "metadata": {
    "slideshow": {
     "slide_type": "fragment"
    }
   },
   "outputs": [
    {
     "name": "stdout",
     "output_type": "stream",
     "text": [
      "[('Employee',), ('Category',), ('Customer',), ('Shipper',), ('Supplier',), ('Order',), ('Product',), ('OrderDetail',), ('CustomerCustomerDemo',), ('CustomerDemographic',), ('Region',), ('Territory',), ('EmployeeTerritory',)]\n"
     ]
    }
   ],
   "source": [
    "query = \"SELECT name FROM sqlite_schema WHERE type = 'table'\"\n",
    "tablas = cursor.execute(query).fetchall()\n",
    "print(tablas)"
   ]
  },
  {
   "cell_type": "markdown",
   "metadata": {
    "slideshow": {
     "slide_type": "slide"
    }
   },
   "source": [
    "### Consultas\n",
    "\n",
    "---\n",
    "Generemos consultas sobre la base de datos. Usemos el modelo de datos que describe las tablas para resolverlas.\n",
    "\n",
    "Todo sobre el comando SELECT con SQLite se encuentra <a href=\"https://www.sqlite.org/lang_select.html\" target=\"_blank\">aquí</a>."
   ]
  },
  {
   "cell_type": "markdown",
   "metadata": {
    "slideshow": {
     "slide_type": "fragment"
    }
   },
   "source": [
    "- Traer todos los empleados cuyo apellido comience con 'D'. \n",
    "  Observar que:\n",
    "    - select indica las columnas a seleccionar.\n",
    "    - from, la tabla que se consulta.\n",
    "    - where, las condiciones.\n",
    "    - order, las columnas usadas para ordenar.\n",
    "    \n",
    "Devuelve una lista, donde cada elemento es una **tupla** que representa un registro del conjunto resultado."
   ]
  },
  {
   "cell_type": "code",
   "execution_count": 10,
   "metadata": {
    "slideshow": {
     "slide_type": "fragment"
    }
   },
   "outputs": [
    {
     "data": {
      "text/plain": [
       "[('Davolio', 'Nancy'), ('Dodsworth', 'Anne')]"
      ]
     },
     "execution_count": 10,
     "metadata": {},
     "output_type": "execute_result"
    }
   ],
   "source": [
    "query = \"select LastName, FirstName from Employee where LastName like 'D%' order by LastName\"\n",
    "empleados = cursor.execute(query).fetchall()\n",
    "empleados"
   ]
  },
  {
   "cell_type": "markdown",
   "metadata": {
    "slideshow": {
     "slide_type": "subslide"
    }
   },
   "source": [
    "Transformamos la lista en un Dataframe. Y agregamos los nombres de las columnas."
   ]
  },
  {
   "cell_type": "code",
   "execution_count": 11,
   "metadata": {
    "slideshow": {
     "slide_type": "fragment"
    }
   },
   "outputs": [
    {
     "data": {
      "text/html": [
       "<div>\n",
       "<style scoped>\n",
       "    .dataframe tbody tr th:only-of-type {\n",
       "        vertical-align: middle;\n",
       "    }\n",
       "\n",
       "    .dataframe tbody tr th {\n",
       "        vertical-align: top;\n",
       "    }\n",
       "\n",
       "    .dataframe thead th {\n",
       "        text-align: right;\n",
       "    }\n",
       "</style>\n",
       "<table border=\"1\" class=\"dataframe\">\n",
       "  <thead>\n",
       "    <tr style=\"text-align: right;\">\n",
       "      <th></th>\n",
       "      <th>LastName</th>\n",
       "      <th>FirstName</th>\n",
       "    </tr>\n",
       "  </thead>\n",
       "  <tbody>\n",
       "    <tr>\n",
       "      <th>0</th>\n",
       "      <td>Davolio</td>\n",
       "      <td>Nancy</td>\n",
       "    </tr>\n",
       "    <tr>\n",
       "      <th>1</th>\n",
       "      <td>Dodsworth</td>\n",
       "      <td>Anne</td>\n",
       "    </tr>\n",
       "  </tbody>\n",
       "</table>\n",
       "</div>"
      ],
      "text/plain": [
       "    LastName FirstName\n",
       "0    Davolio     Nancy\n",
       "1  Dodsworth      Anne"
      ]
     },
     "execution_count": 11,
     "metadata": {},
     "output_type": "execute_result"
    }
   ],
   "source": [
    "names = [description[0] for description in cursor.description]\n",
    "df_empleados = pd.DataFrame(empleados, columns=names)\n",
    "df_empleados"
   ]
  },
  {
   "cell_type": "markdown",
   "metadata": {
    "slideshow": {
     "slide_type": "subslide"
    }
   },
   "source": [
    "Realicemos **agrupamientos**, simil groupby de Pandas.\n",
    "  \n",
    "- Disponemos distintas funciones: count(*) cuenta, sum(*) suma, etc. Se pueden ver <a href=\"https://www.sqlite.org/lang_aggfunc.html\" target=\"_blank\">aquí</a>.\n",
    "- Group by indica la columna por la que agrupamos.\n",
    "- limit n trae los primeros n registros de la consulta.\n",
    "\n",
    "---\n",
    "\n",
    "   - Traer los 5 países con mayor cantidad de clientes, ordenados en forma descendente.   "
   ]
  },
  {
   "cell_type": "code",
   "execution_count": 12,
   "metadata": {
    "slideshow": {
     "slide_type": "fragment"
    }
   },
   "outputs": [
    {
     "data": {
      "text/html": [
       "<div>\n",
       "<style scoped>\n",
       "    .dataframe tbody tr th:only-of-type {\n",
       "        vertical-align: middle;\n",
       "    }\n",
       "\n",
       "    .dataframe tbody tr th {\n",
       "        vertical-align: top;\n",
       "    }\n",
       "\n",
       "    .dataframe thead th {\n",
       "        text-align: right;\n",
       "    }\n",
       "</style>\n",
       "<table border=\"1\" class=\"dataframe\">\n",
       "  <thead>\n",
       "    <tr style=\"text-align: right;\">\n",
       "      <th></th>\n",
       "      <th>Country</th>\n",
       "      <th>total</th>\n",
       "    </tr>\n",
       "  </thead>\n",
       "  <tbody>\n",
       "    <tr>\n",
       "      <th>0</th>\n",
       "      <td>USA</td>\n",
       "      <td>13</td>\n",
       "    </tr>\n",
       "    <tr>\n",
       "      <th>1</th>\n",
       "      <td>Germany</td>\n",
       "      <td>11</td>\n",
       "    </tr>\n",
       "    <tr>\n",
       "      <th>2</th>\n",
       "      <td>France</td>\n",
       "      <td>11</td>\n",
       "    </tr>\n",
       "    <tr>\n",
       "      <th>3</th>\n",
       "      <td>Brazil</td>\n",
       "      <td>9</td>\n",
       "    </tr>\n",
       "    <tr>\n",
       "      <th>4</th>\n",
       "      <td>UK</td>\n",
       "      <td>7</td>\n",
       "    </tr>\n",
       "  </tbody>\n",
       "</table>\n",
       "</div>"
      ],
      "text/plain": [
       "   Country  total\n",
       "0      USA     13\n",
       "1  Germany     11\n",
       "2   France     11\n",
       "3   Brazil      9\n",
       "4       UK      7"
      ]
     },
     "execution_count": 12,
     "metadata": {},
     "output_type": "execute_result"
    }
   ],
   "source": [
    "query = \"select Country, count(ID) as total from Customer group by Country order by total desc limit 5\"\n",
    "clientes = cursor.execute(query).fetchall()\n",
    "\n",
    "names = [description[0] for description in cursor.description]\n",
    "df_clientes = pd.DataFrame(clientes, columns=names)\n",
    "df_clientes"
   ]
  },
  {
   "cell_type": "markdown",
   "metadata": {
    "slideshow": {
     "slide_type": "slide"
    }
   },
   "source": [
    "### Joins\n",
    "\n",
    "---\n",
    "Generalmente necesitamos combinar información de distintas tablas.\n",
    "\n",
    "Cuando trabajamos con bases de datos relacionales, el modelo de datos representa además de las tablas, *como se vinculan entre sí*.\n",
    "\n",
    "Por ejemplo en Northwind, la tabla Customers (clientes) se relaciona con la tabla Orders (Pedidos).\n",
    "\n",
    "La relación se dice que es **de 1 a muchos**: cada cliente puede tener de 0 a N pedidos. \n",
    "\n",
    "Ambas tablas se relacionan por el campo CustomerID.\n",
    "\n",
    "<img src=\"https://raw.githubusercontent.com/Digital-House-DATA/ds_blend_2021_img/master/M7/CLASE_53_Intro_BigQuery/Presentacion/img/M7_CLASE_53_013_northwind_1.JPG\" alt=\"northwind\" width=80% height=50% align=\"center\"/>"
   ]
  },
  {
   "cell_type": "markdown",
   "metadata": {
    "slideshow": {
     "slide_type": "slide"
    }
   },
   "source": [
    "### Joins\n",
    "\n",
    "---\n",
    "**JOIN** (unir, combinar) en SQL, significa combinar registros de una o más tablas en una base de datos.\n",
    "\n",
    "Existen varios tipos de Joins:\n",
    "\n",
    "<img src=\"https://raw.githubusercontent.com/Digital-House-DATA/ds_blend_2021_img/master/M7/CLASE_53_Intro_BigQuery/Presentacion/img/M7_CLASE_53_014_joins.png\" alt=\"northwind\" width=70% height=50% align=\"center\"/>\n",
    "\n",
    "- **INNER JOIN**: Busca *coincidencias entre las dos tablas*, en función de una columna en común. \n",
    "\n",
    "- **LEFT JOIN**: Trae **todos** los registros de la tabla de la izquierda y los datos de la otra tabla *cuando coinciden*. Si no los deja con valores nulos.\n",
    "\n",
    "- **RIGHT JOIN**: Similar a LEFT JOIN, pero desde la tabla de la derecha.\n",
    "\n",
    "- **FULL OUTER JOIN**: Una combinación de LEFT JOIN y RIGHT JOIN.\n",
    "\n",
    "Para conocer más sobre joins ver <a href=\"https://programacionymas.com/blog/como-funciona-inner-left-right-full-join\" target=\"_blank\">aquí</a>."
   ]
  },
  {
   "cell_type": "markdown",
   "metadata": {
    "slideshow": {
     "slide_type": "slide"
    }
   },
   "source": [
    "### INNER JOIN\n",
    "\n",
    "---\n",
    "Generemos un INNER JOIN entre las tablas Supplier (Proveedores) y Product (Productos)."
   ]
  },
  {
   "cell_type": "code",
   "execution_count": 13,
   "metadata": {
    "slideshow": {
     "slide_type": "fragment"
    }
   },
   "outputs": [],
   "source": [
    "def consulta(query):\n",
    "    resultado = cursor.execute(query).fetchall()\n",
    "    names = [description[0] for description in cursor.description]\n",
    "    df_resultado = pd.DataFrame(resultado, columns=names)\n",
    "    return df_resultado"
   ]
  },
  {
   "cell_type": "markdown",
   "metadata": {
    "slideshow": {
     "slide_type": "fragment"
    }
   },
   "source": [
    "Veamos los clientes que empiecen con la letra Q, en la tabla de Clientes."
   ]
  },
  {
   "cell_type": "code",
   "execution_count": 14,
   "metadata": {
    "slideshow": {
     "slide_type": "fragment"
    }
   },
   "outputs": [
    {
     "data": {
      "text/html": [
       "<div>\n",
       "<style scoped>\n",
       "    .dataframe tbody tr th:only-of-type {\n",
       "        vertical-align: middle;\n",
       "    }\n",
       "\n",
       "    .dataframe tbody tr th {\n",
       "        vertical-align: top;\n",
       "    }\n",
       "\n",
       "    .dataframe thead th {\n",
       "        text-align: right;\n",
       "    }\n",
       "</style>\n",
       "<table border=\"1\" class=\"dataframe\">\n",
       "  <thead>\n",
       "    <tr style=\"text-align: right;\">\n",
       "      <th></th>\n",
       "      <th>Id</th>\n",
       "      <th>CompanyName</th>\n",
       "      <th>ContactName</th>\n",
       "      <th>ContactTitle</th>\n",
       "      <th>Address</th>\n",
       "      <th>City</th>\n",
       "      <th>Region</th>\n",
       "      <th>PostalCode</th>\n",
       "      <th>Country</th>\n",
       "      <th>Phone</th>\n",
       "      <th>Fax</th>\n",
       "    </tr>\n",
       "  </thead>\n",
       "  <tbody>\n",
       "    <tr>\n",
       "      <th>0</th>\n",
       "      <td>QUEDE</td>\n",
       "      <td>Que Delícia</td>\n",
       "      <td>Bernardo Batista</td>\n",
       "      <td>Accounting Manager</td>\n",
       "      <td>Rua da Panificadora, 12</td>\n",
       "      <td>Rio de Janeiro</td>\n",
       "      <td>South America</td>\n",
       "      <td>02389-673</td>\n",
       "      <td>Brazil</td>\n",
       "      <td>(21) 555-4252</td>\n",
       "      <td>(21) 555-4545</td>\n",
       "    </tr>\n",
       "    <tr>\n",
       "      <th>1</th>\n",
       "      <td>QUEEN</td>\n",
       "      <td>Queen Cozinha</td>\n",
       "      <td>Lúcia Carvalho</td>\n",
       "      <td>Marketing Assistant</td>\n",
       "      <td>Alameda dos Canàrios, 891</td>\n",
       "      <td>Sao Paulo</td>\n",
       "      <td>South America</td>\n",
       "      <td>05487-020</td>\n",
       "      <td>Brazil</td>\n",
       "      <td>(11) 555-1189</td>\n",
       "      <td>None</td>\n",
       "    </tr>\n",
       "    <tr>\n",
       "      <th>2</th>\n",
       "      <td>QUICK</td>\n",
       "      <td>QUICK-Stop</td>\n",
       "      <td>Horst Kloss</td>\n",
       "      <td>Accounting Manager</td>\n",
       "      <td>Taucherstraße 10</td>\n",
       "      <td>Cunewalde</td>\n",
       "      <td>Western Europe</td>\n",
       "      <td>01307</td>\n",
       "      <td>Germany</td>\n",
       "      <td>0372-035188</td>\n",
       "      <td>None</td>\n",
       "    </tr>\n",
       "  </tbody>\n",
       "</table>\n",
       "</div>"
      ],
      "text/plain": [
       "      Id    CompanyName       ContactName         ContactTitle  \\\n",
       "0  QUEDE    Que Delícia  Bernardo Batista   Accounting Manager   \n",
       "1  QUEEN  Queen Cozinha    Lúcia Carvalho  Marketing Assistant   \n",
       "2  QUICK     QUICK-Stop       Horst Kloss   Accounting Manager   \n",
       "\n",
       "                     Address            City          Region PostalCode  \\\n",
       "0    Rua da Panificadora, 12  Rio de Janeiro   South America  02389-673   \n",
       "1  Alameda dos Canàrios, 891       Sao Paulo   South America  05487-020   \n",
       "2           Taucherstraße 10       Cunewalde  Western Europe      01307   \n",
       "\n",
       "   Country          Phone            Fax  \n",
       "0   Brazil  (21) 555-4252  (21) 555-4545  \n",
       "1   Brazil  (11) 555-1189           None  \n",
       "2  Germany    0372-035188           None  "
      ]
     },
     "execution_count": 14,
     "metadata": {},
     "output_type": "execute_result"
    }
   ],
   "source": [
    "df_clientes = consulta(\"select * from Customer where Id like 'Q%'\")\n",
    "df_clientes"
   ]
  },
  {
   "cell_type": "markdown",
   "metadata": {
    "slideshow": {
     "slide_type": "subslide"
    }
   },
   "source": [
    "Y los clientes que empiecen con la letra Q que realizaron pedidos; es decir que se encuentren en la tabla de Pedidos.\n",
    "\n",
    "Usamos la sentencia `DISTINCT` para indicar que si encuentra varios pedidos de un mismo cliente, solo trae uno. "
   ]
  },
  {
   "cell_type": "code",
   "execution_count": 15,
   "metadata": {
    "slideshow": {
     "slide_type": "fragment"
    }
   },
   "outputs": [
    {
     "data": {
      "text/html": [
       "<div>\n",
       "<style scoped>\n",
       "    .dataframe tbody tr th:only-of-type {\n",
       "        vertical-align: middle;\n",
       "    }\n",
       "\n",
       "    .dataframe tbody tr th {\n",
       "        vertical-align: top;\n",
       "    }\n",
       "\n",
       "    .dataframe thead th {\n",
       "        text-align: right;\n",
       "    }\n",
       "</style>\n",
       "<table border=\"1\" class=\"dataframe\">\n",
       "  <thead>\n",
       "    <tr style=\"text-align: right;\">\n",
       "      <th></th>\n",
       "      <th>CustomerId</th>\n",
       "    </tr>\n",
       "  </thead>\n",
       "  <tbody>\n",
       "    <tr>\n",
       "      <th>0</th>\n",
       "      <td>QUEDE</td>\n",
       "    </tr>\n",
       "    <tr>\n",
       "      <th>1</th>\n",
       "      <td>QUICK</td>\n",
       "    </tr>\n",
       "    <tr>\n",
       "      <th>2</th>\n",
       "      <td>QUEE</td>\n",
       "    </tr>\n",
       "  </tbody>\n",
       "</table>\n",
       "</div>"
      ],
      "text/plain": [
       "  CustomerId\n",
       "0      QUEDE\n",
       "1      QUICK\n",
       "2       QUEE"
      ]
     },
     "execution_count": 15,
     "metadata": {},
     "output_type": "execute_result"
    }
   ],
   "source": [
    "df_pedidos = consulta(\"select distinct CustomerID from [Order] where CustomerID like 'Q%'\")\n",
    "df_pedidos"
   ]
  },
  {
   "cell_type": "markdown",
   "metadata": {
    "slideshow": {
     "slide_type": "fragment"
    }
   },
   "source": [
    "Veamos algunos registros en detalle de la tabla de Pedidos."
   ]
  },
  {
   "cell_type": "code",
   "execution_count": 16,
   "metadata": {
    "slideshow": {
     "slide_type": "fragment"
    }
   },
   "outputs": [
    {
     "data": {
      "text/html": [
       "<div>\n",
       "<style scoped>\n",
       "    .dataframe tbody tr th:only-of-type {\n",
       "        vertical-align: middle;\n",
       "    }\n",
       "\n",
       "    .dataframe tbody tr th {\n",
       "        vertical-align: top;\n",
       "    }\n",
       "\n",
       "    .dataframe thead th {\n",
       "        text-align: right;\n",
       "    }\n",
       "</style>\n",
       "<table border=\"1\" class=\"dataframe\">\n",
       "  <thead>\n",
       "    <tr style=\"text-align: right;\">\n",
       "      <th></th>\n",
       "      <th>Id</th>\n",
       "      <th>CustomerId</th>\n",
       "      <th>EmployeeId</th>\n",
       "      <th>OrderDate</th>\n",
       "      <th>RequiredDate</th>\n",
       "      <th>ShippedDate</th>\n",
       "      <th>ShipVia</th>\n",
       "      <th>Freight</th>\n",
       "      <th>ShipName</th>\n",
       "      <th>ShipAddress</th>\n",
       "      <th>ShipCity</th>\n",
       "      <th>ShipRegion</th>\n",
       "      <th>ShipPostalCode</th>\n",
       "      <th>ShipCountry</th>\n",
       "    </tr>\n",
       "  </thead>\n",
       "  <tbody>\n",
       "    <tr>\n",
       "      <th>0</th>\n",
       "      <td>10261</td>\n",
       "      <td>QUEDE</td>\n",
       "      <td>4</td>\n",
       "      <td>2012-07-19</td>\n",
       "      <td>2012-08-16</td>\n",
       "      <td>2012-07-30</td>\n",
       "      <td>2</td>\n",
       "      <td>3.05</td>\n",
       "      <td>Que Delícia</td>\n",
       "      <td>Rua da Panificadora, 12</td>\n",
       "      <td>Rio de Janeiro</td>\n",
       "      <td>South America</td>\n",
       "      <td>02389-673</td>\n",
       "      <td>Brazil</td>\n",
       "    </tr>\n",
       "    <tr>\n",
       "      <th>1</th>\n",
       "      <td>10273</td>\n",
       "      <td>QUICK</td>\n",
       "      <td>3</td>\n",
       "      <td>2012-08-05</td>\n",
       "      <td>2012-09-02</td>\n",
       "      <td>2012-08-12</td>\n",
       "      <td>3</td>\n",
       "      <td>76.07</td>\n",
       "      <td>QUICK-Stop</td>\n",
       "      <td>Taucherstraße 10</td>\n",
       "      <td>Cunewalde</td>\n",
       "      <td>Western Europe</td>\n",
       "      <td>01307</td>\n",
       "      <td>Germany</td>\n",
       "    </tr>\n",
       "    <tr>\n",
       "      <th>2</th>\n",
       "      <td>10285</td>\n",
       "      <td>QUICK</td>\n",
       "      <td>1</td>\n",
       "      <td>2012-08-20</td>\n",
       "      <td>2012-09-17</td>\n",
       "      <td>2012-08-26</td>\n",
       "      <td>2</td>\n",
       "      <td>76.83</td>\n",
       "      <td>QUICK-Stop</td>\n",
       "      <td>Taucherstraße 10</td>\n",
       "      <td>Cunewalde</td>\n",
       "      <td>Western Europe</td>\n",
       "      <td>01307</td>\n",
       "      <td>Germany</td>\n",
       "    </tr>\n",
       "    <tr>\n",
       "      <th>3</th>\n",
       "      <td>10286</td>\n",
       "      <td>QUICK</td>\n",
       "      <td>8</td>\n",
       "      <td>2012-08-21</td>\n",
       "      <td>2012-09-18</td>\n",
       "      <td>2012-08-30</td>\n",
       "      <td>3</td>\n",
       "      <td>229.24</td>\n",
       "      <td>QUICK-Stop</td>\n",
       "      <td>Taucherstraße 10</td>\n",
       "      <td>Cunewalde</td>\n",
       "      <td>Western Europe</td>\n",
       "      <td>01307</td>\n",
       "      <td>Germany</td>\n",
       "    </tr>\n",
       "  </tbody>\n",
       "</table>\n",
       "</div>"
      ],
      "text/plain": [
       "      Id CustomerId  EmployeeId   OrderDate RequiredDate ShippedDate  ShipVia  \\\n",
       "0  10261      QUEDE           4  2012-07-19   2012-08-16  2012-07-30        2   \n",
       "1  10273      QUICK           3  2012-08-05   2012-09-02  2012-08-12        3   \n",
       "2  10285      QUICK           1  2012-08-20   2012-09-17  2012-08-26        2   \n",
       "3  10286      QUICK           8  2012-08-21   2012-09-18  2012-08-30        3   \n",
       "\n",
       "   Freight     ShipName              ShipAddress        ShipCity  \\\n",
       "0     3.05  Que Delícia  Rua da Panificadora, 12  Rio de Janeiro   \n",
       "1    76.07   QUICK-Stop         Taucherstraße 10       Cunewalde   \n",
       "2    76.83   QUICK-Stop         Taucherstraße 10       Cunewalde   \n",
       "3   229.24   QUICK-Stop         Taucherstraße 10       Cunewalde   \n",
       "\n",
       "       ShipRegion ShipPostalCode ShipCountry  \n",
       "0   South America      02389-673      Brazil  \n",
       "1  Western Europe          01307     Germany  \n",
       "2  Western Europe          01307     Germany  \n",
       "3  Western Europe          01307     Germany  "
      ]
     },
     "execution_count": 16,
     "metadata": {},
     "output_type": "execute_result"
    }
   ],
   "source": [
    "df_pedidos = consulta(\"select * from [Order] where CustomerID like 'Q%'\")\n",
    "df_pedidos.head(4)"
   ]
  },
  {
   "cell_type": "markdown",
   "metadata": {
    "slideshow": {
     "slide_type": "subslide"
    }
   },
   "source": [
    "Podemos ver que los clientes QUEDE y QUICK realizaron pedidos, pero QUEEN no.\n",
    "\n",
    "AL hacer un INNER JOIN entre Customer y Order **solo traerá pedidos de los clientes QUEDE y QUICK**, los que están en la intersección entre las dos tablas. \n",
    "\n",
    "La sentencia general es la siguiente:\n",
    "\n",
    "`\n",
    "SELECT a.a1, a.a2, b.b1, b.b2\n",
    "  FROM tabla_izquierda a\n",
    "INNER JOIN tabla_derecha b on a.f = b.f`\n",
    "\n",
    "Donde:\n",
    "- en SELECT agregamos los campos que seleccionamos, con *un alias como prefijo*.\n",
    "  \n",
    "  a.a1 significa el campo a1 de la tabla con el alias a.\n",
    "- en FROM ubicamos la tabla de la izquierda y le agregamos *un alias (a)*\n",
    "- en INNER JOIN ubicamos la tabla de la derecha con otro alias, y la relación entre los campos de ambas tablas.\n",
    "  \n",
    "  En el ejemplo, relacionamos ambas tablas por el ID del CLiente.\n",
    "- en WHERE agregamos las condiciones que necesitemos.  "
   ]
  },
  {
   "cell_type": "code",
   "execution_count": 17,
   "metadata": {
    "slideshow": {
     "slide_type": "subslide"
    }
   },
   "outputs": [
    {
     "data": {
      "text/html": [
       "<div>\n",
       "<style scoped>\n",
       "    .dataframe tbody tr th:only-of-type {\n",
       "        vertical-align: middle;\n",
       "    }\n",
       "\n",
       "    .dataframe tbody tr th {\n",
       "        vertical-align: top;\n",
       "    }\n",
       "\n",
       "    .dataframe thead th {\n",
       "        text-align: right;\n",
       "    }\n",
       "</style>\n",
       "<table border=\"1\" class=\"dataframe\">\n",
       "  <thead>\n",
       "    <tr style=\"text-align: right;\">\n",
       "      <th></th>\n",
       "      <th>Cliente</th>\n",
       "      <th>CompanyName</th>\n",
       "      <th>IDPedido</th>\n",
       "      <th>FechaPedido</th>\n",
       "    </tr>\n",
       "  </thead>\n",
       "  <tbody>\n",
       "    <tr>\n",
       "      <th>0</th>\n",
       "      <td>QUEDE</td>\n",
       "      <td>Que Delícia</td>\n",
       "      <td>10261</td>\n",
       "      <td>2012-07-19</td>\n",
       "    </tr>\n",
       "    <tr>\n",
       "      <th>1</th>\n",
       "      <td>QUICK</td>\n",
       "      <td>QUICK-Stop</td>\n",
       "      <td>10273</td>\n",
       "      <td>2012-08-05</td>\n",
       "    </tr>\n",
       "    <tr>\n",
       "      <th>2</th>\n",
       "      <td>QUICK</td>\n",
       "      <td>QUICK-Stop</td>\n",
       "      <td>10285</td>\n",
       "      <td>2012-08-20</td>\n",
       "    </tr>\n",
       "    <tr>\n",
       "      <th>3</th>\n",
       "      <td>QUICK</td>\n",
       "      <td>QUICK-Stop</td>\n",
       "      <td>10286</td>\n",
       "      <td>2012-08-21</td>\n",
       "    </tr>\n",
       "    <tr>\n",
       "      <th>4</th>\n",
       "      <td>QUEDE</td>\n",
       "      <td>Que Delícia</td>\n",
       "      <td>10291</td>\n",
       "      <td>2012-08-27</td>\n",
       "    </tr>\n",
       "    <tr>\n",
       "      <th>...</th>\n",
       "      <td>...</td>\n",
       "      <td>...</td>\n",
       "      <td>...</td>\n",
       "      <td>...</td>\n",
       "    </tr>\n",
       "    <tr>\n",
       "      <th>32</th>\n",
       "      <td>QUICK</td>\n",
       "      <td>QUICK-Stop</td>\n",
       "      <td>10962</td>\n",
       "      <td>2014-03-19</td>\n",
       "    </tr>\n",
       "    <tr>\n",
       "      <th>33</th>\n",
       "      <td>QUEDE</td>\n",
       "      <td>Que Delícia</td>\n",
       "      <td>10989</td>\n",
       "      <td>2014-03-31</td>\n",
       "    </tr>\n",
       "    <tr>\n",
       "      <th>34</th>\n",
       "      <td>QUICK</td>\n",
       "      <td>QUICK-Stop</td>\n",
       "      <td>10991</td>\n",
       "      <td>2014-04-01</td>\n",
       "    </tr>\n",
       "    <tr>\n",
       "      <th>35</th>\n",
       "      <td>QUICK</td>\n",
       "      <td>QUICK-Stop</td>\n",
       "      <td>10996</td>\n",
       "      <td>2014-04-02</td>\n",
       "    </tr>\n",
       "    <tr>\n",
       "      <th>36</th>\n",
       "      <td>QUICK</td>\n",
       "      <td>QUICK-Stop</td>\n",
       "      <td>11021</td>\n",
       "      <td>2014-04-14</td>\n",
       "    </tr>\n",
       "  </tbody>\n",
       "</table>\n",
       "<p>37 rows × 4 columns</p>\n",
       "</div>"
      ],
      "text/plain": [
       "   Cliente  CompanyName  IDPedido FechaPedido\n",
       "0    QUEDE  Que Delícia     10261  2012-07-19\n",
       "1    QUICK   QUICK-Stop     10273  2012-08-05\n",
       "2    QUICK   QUICK-Stop     10285  2012-08-20\n",
       "3    QUICK   QUICK-Stop     10286  2012-08-21\n",
       "4    QUEDE  Que Delícia     10291  2012-08-27\n",
       "..     ...          ...       ...         ...\n",
       "32   QUICK   QUICK-Stop     10962  2014-03-19\n",
       "33   QUEDE  Que Delícia     10989  2014-03-31\n",
       "34   QUICK   QUICK-Stop     10991  2014-04-01\n",
       "35   QUICK   QUICK-Stop     10996  2014-04-02\n",
       "36   QUICK   QUICK-Stop     11021  2014-04-14\n",
       "\n",
       "[37 rows x 4 columns]"
      ]
     },
     "execution_count": 17,
     "metadata": {},
     "output_type": "execute_result"
    }
   ],
   "source": [
    "query = \"SELECT c.ID as Cliente, c.CompanyName, O.ID as IDPedido, O.OrderDate as FechaPedido \\\n",
    "           FROM Customer C \\\n",
    "          INNER JOIN [Order] O on C.ID = O.CustomerID \\\n",
    "          where CustomerID like 'Q%'\"\n",
    "df_pedidos = consulta(query)\n",
    "pd.set_option('display.max_rows', 10)\n",
    "df_pedidos"
   ]
  },
  {
   "cell_type": "markdown",
   "metadata": {
    "slideshow": {
     "slide_type": "slide"
    }
   },
   "source": [
    "### LEFT JOIN\n",
    "\n",
    "---\n",
    "Generemos un LEFT JOIN entre las tablas Supplier (Proveedores) y Product (Productos).\n",
    "\n",
    "Vamos a usar el mismo ejemplo, los clientes que empiecen con la letra Q.\n",
    "\n",
    "---"
   ]
  },
  {
   "cell_type": "markdown",
   "metadata": {
    "slideshow": {
     "slide_type": "fragment"
    }
   },
   "source": [
    "Habiamos visto que los clientes QUEDE y QUICK realizaron pedidos, pero QUEEN no.\n",
    "\n",
    "AL hacer un LEFT JOIN entre Customer y Order **trae también el registro del cliente QUEEN**, pero como no tiene pedidos **los completa con nulos**.\n",
    "\n",
    "La sentencia general es similar a INNER JOIN:\n",
    "\n",
    "`\n",
    "SELECT a.a1, a.a2, b.b1, b.b2\n",
    "  FROM tabla_izquierda a\n",
    "LEFT JOIN tabla_derecha b on a.f = b.f`"
   ]
  },
  {
   "cell_type": "markdown",
   "metadata": {
    "slideshow": {
     "slide_type": "subslide"
    }
   },
   "source": [
    "Vamos a hacer el LEFT JOIN, pero en la condición le pedimos que solo seleccione al cliente QUEEN.\n",
    "\n",
    "Comprobamos que completa los datos del pedido con nulos."
   ]
  },
  {
   "cell_type": "code",
   "execution_count": 18,
   "metadata": {
    "slideshow": {
     "slide_type": "fragment"
    }
   },
   "outputs": [
    {
     "data": {
      "text/html": [
       "<div>\n",
       "<style scoped>\n",
       "    .dataframe tbody tr th:only-of-type {\n",
       "        vertical-align: middle;\n",
       "    }\n",
       "\n",
       "    .dataframe tbody tr th {\n",
       "        vertical-align: top;\n",
       "    }\n",
       "\n",
       "    .dataframe thead th {\n",
       "        text-align: right;\n",
       "    }\n",
       "</style>\n",
       "<table border=\"1\" class=\"dataframe\">\n",
       "  <thead>\n",
       "    <tr style=\"text-align: right;\">\n",
       "      <th></th>\n",
       "      <th>Cliente</th>\n",
       "      <th>CompanyName</th>\n",
       "      <th>IDPedido</th>\n",
       "      <th>FechaPedido</th>\n",
       "    </tr>\n",
       "  </thead>\n",
       "  <tbody>\n",
       "    <tr>\n",
       "      <th>0</th>\n",
       "      <td>QUEEN</td>\n",
       "      <td>Queen Cozinha</td>\n",
       "      <td>None</td>\n",
       "      <td>None</td>\n",
       "    </tr>\n",
       "  </tbody>\n",
       "</table>\n",
       "</div>"
      ],
      "text/plain": [
       "  Cliente    CompanyName IDPedido FechaPedido\n",
       "0   QUEEN  Queen Cozinha     None        None"
      ]
     },
     "execution_count": 18,
     "metadata": {},
     "output_type": "execute_result"
    }
   ],
   "source": [
    "query = \"SELECT c.ID as Cliente, c.CompanyName, O.ID as IDPedido, O.OrderDate as FechaPedido \\\n",
    "           FROM Customer C \\\n",
    "          LEFT JOIN [Order] O on C.ID = O.CustomerID \\\n",
    "          where C.ID ='QUEEN'\"\n",
    "df_pedidos = consulta(query)\n",
    "pd.set_option('display.max_rows', 10)\n",
    "df_pedidos"
   ]
  },
  {
   "cell_type": "markdown",
   "metadata": {
    "slideshow": {
     "slide_type": "slide"
    }
   },
   "source": [
    "### Instalación de SQLite (opcional)\n",
    "\n",
    "---\n",
    "Les dejamos las instrucciones para instalar la base SQLite en sus PCs; y poder trabajar los datos con una interfaz gráfica llamada SQLite Browser.\n",
    "\n",
    "Para descargar el instalador de SQLite ir a la página: https://www.sqlite.org/download.html\n",
    "\n",
    "- Para Windows seleccionar: sqlite-tools-win32-x86-3360000.zip:\n",
    "\n",
    "<img src=\"https://raw.githubusercontent.com/Digital-House-DATA/ds_blend_2021_img/master/M7/CLASE_53_Intro_BigQuery/Presentacion/img/M7_CLASE_53_010_instalacion.JPG\" alt=\"instalacion\" width=15% height=20% align=\"center\"/>\n",
    "\n",
    "- Para Mac seleccionar: sqlite-tools-osx-x86-3360000.zip:\n",
    "\n",
    "<img src=\"https://raw.githubusercontent.com/Digital-House-DATA/ds_blend_2021_img/master/M7/CLASE_53_Intro_BigQuery/Presentacion/img/M7_CLASE_53_011_instalacion_mac.JPG\" alt=\"instalacion_mac\" width=30% height=40% align=\"center\"/>\n",
    "\n",
    "Luego, en ambos casos, al finalizar la descarga:\n",
    "  1. Crear una carpeta nueva, por ejemplo, `C:\\sqlite`\n",
    "  2. Extraer el contenido del archivo descargado previamente en esa carpeta.\n",
    "  3. Ver el archivo sqlite3.exe en la carpeta; es el ejecutable."
   ]
  },
  {
   "cell_type": "markdown",
   "metadata": {
    "slideshow": {
     "slide_type": "subslide"
    }
   },
   "source": [
    "### Instalación de SQLite Browser\n",
    "\n",
    "---\n",
    "SQLite Browser es una aplicación gratuita que nos permite administrar y consultar una base de datos SQLite **mediante una interfaz gráfica**.\n",
    "\n",
    "Para descargar el instalador de SQLite Browser ir a la página: https://sqlitebrowser.org/dl/\n",
    "\n",
    "Seleccionar el archivo **DB Browser for SQLite - Standard installer** (32 bit\n",
    "o 64 bits según corresponda), e instalarlo como cualquier programa.\n",
    "\n",
    "Para Mac seleccionar **DB Browser for SQLite**.\n",
    "\n",
    "También se ofrece una versión portable, para ejecutar el programa sin necesidad de instalarlo."
   ]
  },
  {
   "cell_type": "markdown",
   "metadata": {
    "slideshow": {
     "slide_type": "slide"
    }
   },
   "source": [
    "<div class=\"div-dhds-fondo-1\"> BigQuery\n",
    "<img src=\"https://raw.githubusercontent.com/Digital-House-DATA/ds_blend_2021_img/master/M5/CLASE_34_CART/Presentacion/img/M5_CLASE_34_separador.png\" align=\"center\" />\n",
    "\n",
    "</div>"
   ]
  },
  {
   "cell_type": "markdown",
   "metadata": {
    "slideshow": {
     "slide_type": "slide"
    }
   },
   "source": [
    "### Introducción\n",
    "\n",
    "---\n",
    "*Google Cloud* consiste en un **conjunto de recursos físicos y virtuales** disponibles en centros de datos de Google en todo el mundo.\n",
    "\n",
    "Para acceder a los recursos, nos ofrecen **servicios**, entre los que se encuentran:\n",
    "\n",
    "- BigQuery.\n",
    "\n",
    "- Cloud Storage: almacenamiento seguro, duradero, escalable y con redundancia.\n",
    "  \n",
    "- Google Kubernetes: Ofrece distintas plantillas de infraestructura para las aplicaciones.\n",
    "\n",
    "<img src=\"https://raw.githubusercontent.com/Digital-House-DATA/ds_blend_2021_img/master/M7/CLASE_53_Intro_BigQuery/Presentacion/img/M7_CLASE_53_001_cloud.JPG\" alt=\"cloud\" width=70% height=55% align=\"center\"/>"
   ]
  },
  {
   "cell_type": "markdown",
   "metadata": {
    "slideshow": {
     "slide_type": "subslide"
    }
   },
   "source": [
    "Todos los servicios de Google Cloud que usamos deben pertenecer a un **proyecto**. \n",
    "\n",
    "El proyecto puede considerarse la entidad organizadora, donde describimos la configuración, los permisos y metadatos que definen a los servicios.\n",
    "\n",
    "Al proyecto le asignamos un nombre, y Google Cloud le asigna un ID.\n",
    "\n",
    "<img src=\"https://raw.githubusercontent.com/Digital-House-DATA/ds_blend_2021_img/master/M7/CLASE_53_Intro_BigQuery/Presentacion/img/M7_CLASE_53_002_proyecto.JPG\" alt=\"proyecto\" width=50% height=40% align=\"center\"/>\n",
    "\n",
    "Para mas detalles ver <a href=\"https://cloud.google.com/docs/overview\" target=\"_blank\">aquí</a>"
   ]
  },
  {
   "cell_type": "markdown",
   "metadata": {
    "slideshow": {
     "slide_type": "subslide"
    }
   },
   "source": [
    "Para interactuar con los servicios, una forma es usar la consola llamada **Google Cloud Console**.\n",
    "\n",
    "Proporciona una interfaz gráfica de usuario basada en la Web que permite administrar los proyectos y servicios de Google Cloud.\n",
    "\n",
    "<img src=\"https://raw.githubusercontent.com/Digital-House-DATA/ds_blend_2021_img/master/M7/CLASE_53_Intro_BigQuery/Presentacion/img/M7_CLASE_53_003_console.JPG\" alt=\"console\" width=100% height=80% align=\"center\"/>"
   ]
  },
  {
   "cell_type": "markdown",
   "metadata": {
    "slideshow": {
     "slide_type": "slide"
    }
   },
   "source": [
    "### BigQuery\n",
    "\n",
    "---\n",
    "\n",
    "Google BigQuery es un *repositorio de datos* para empresas que permite almacenar y consultar **grandes conjuntos grandes de datos**, usando el *poder de procesamiento* de la infraestructura de Google.\n",
    " \n",
    "Algunas características son:\n",
    "\n",
    "- Permite manejar el *control de acceso* a los datos.\n",
    "\n",
    "- Proporciona un *lenguaje similar a SQL* para consultar los datos.\n",
    "\n",
    "- Los datos se organizan en *tablas*.\n",
    "\n",
    "- BigQuery GIS permite generar análisis geoespaciales.\n",
    "\n",
    "- BigQuery Omni permite realizar estadísticas de múltiples nubes."
   ]
  },
  {
   "cell_type": "markdown",
   "metadata": {
    "slideshow": {
     "slide_type": "subslide"
    }
   },
   "source": [
    "En BigQuery *se cobra* por el almacenamiento, las consultas y las inserciones de transmisión, pero la carga y la exportación de datos son gratuitas.\n",
    "\n",
    "Tiene un <a href=\"https://cloud.google.com/bigquery/pricing#free-tier\" target=\"_blank\">Nivel de uso gratuito</a> , que consiste en:\n",
    "\n",
    "- Almacenamiento: Los 10 primeros GB del mes son gratuitos.\n",
    "- Consultas: El primer TB de datos de consultas procesado del mes es gratuito.\n",
    "- Consultas CREATE MODEL de BigQuery ML: Los 10 primeros GB de datos de consultas con declaraciones CREATE MODEL son gratuitos."
   ]
  },
  {
   "cell_type": "markdown",
   "metadata": {
    "slideshow": {
     "slide_type": "slide"
    }
   },
   "source": [
    "### Operaciones\n",
    "\n",
    "---\n",
    "En la notebook **intro_BigQuery** vemos como se usa, desde la Consola de Google y las notebooks.\n",
    "\n",
    "Los pasos más importantes son:\n",
    "\n",
    "- Crear un usuario en la consola de Google Cloud. \n",
    "\n",
    "- Crear un proyecto.\n",
    "\n",
    "- Crear una Cuenta de servicio. \n",
    "  Es un tipo especial de cuenta que usa una aplicación o una instancia de máquina virtual (VM), **no una persona**.\n",
    "  \n",
    "  BigQuery puede ejecutarse como una cuenta de servicio, y esa cuenta puede obtener permisos para acceder a los recursos que necesita.\n",
    "  \n",
    "  Permite generar las credenciales para usar BigQuery desde las notebooks."
   ]
  },
  {
   "cell_type": "markdown",
   "metadata": {
    "slideshow": {
     "slide_type": "subslide"
    }
   },
   "source": [
    "- Usar *datasets públicos* para consultar.\n",
    "\n",
    "- Generar *consultas usando el lenguaje SQL*.\n",
    "\n",
    "- Guardar los resultados en *tablas* dentro de nuestro proyecto en Google Cloud.\n",
    "\n",
    "- Guardar los resultados en *dataframe Pandas* de la notebook."
   ]
  },
  {
   "cell_type": "markdown",
   "metadata": {
    "slideshow": {
     "slide_type": "slide"
    }
   },
   "source": [
    "### BigQuery ML\n",
    "\n",
    "---\n",
    "BigQuery ML permite a los usuarios **crear y ejecutar modelos de aprendizaje automático** en BigQuery mediante consultas de SQL.\n",
    "\n",
    "Los modelos se crean a partir de datos estructurados o semiestructurados almacenados en BigQuery. \n",
    "\n",
    "El comando CREATE MODEL en BigQuery entrena el modelo.\n",
    "\n",
    "- Por ejemplo, a partir de un dataset de nacimientos, creamos un modelo, indicando en `OPTIONS` que es una regresión lineal y `weight_pounds` la variable target.\n",
    "\n",
    "`CREATE MODEL bqml_tutorial.natality_model\n",
    "OPTIONS (model_type='linear_reg', input_label_cols=['weight_pounds']) AS\n",
    "SELECT  weight_pounds, is_male,  gestation_weeks,  mother_age, mother_race\n",
    "FROM  bigquery-public-data.samples.natality`"
   ]
  },
  {
   "cell_type": "markdown",
   "metadata": {
    "slideshow": {
     "slide_type": "slide"
    }
   },
   "source": [
    "<div class=\"div-dhds-fondo-1\"> Conclusiones\n",
    "<img src=\"https://raw.githubusercontent.com/Digital-House-DATA/ds_blend_2021_img/master/M5/CLASE_34_CART/Presentacion/img/M5_CLASE_34_separador.png\" align=\"center\" />\n",
    "\n",
    "</div>"
   ]
  },
  {
   "cell_type": "markdown",
   "metadata": {
    "slideshow": {
     "slide_type": "slide"
    }
   },
   "source": [
    "## Conclusiones\n",
    "\n",
    "---\n",
    "Las **bases de datos relacionales** nos permiten almacenar los datos en varias tablas y vincularlas.\n",
    "\n",
    "Podemos conectarnos a la base y generar comandos para crear tablas, manejar los datos y consultarlos.\n",
    "\n",
    "---\n",
    "\n",
    "**SQLite** es una base de datos que nos permite manejar una base de datos desde Python\n",
    "\n",
    "---\n",
    "\n",
    "Vimos distintos **JOIN**, formas de relacionar las tablas.\n",
    "\n",
    "---\n",
    "\n",
    "**BIGQUERY** es un repositorio de datos ofrecido por Google y basado en la plataforma Google Cloud.\n",
    "\n",
    "Nos permite almacenar información y consultarla, desde la consola de Google y desde nuestras Notebooks.\n",
    "\n",
    "Tener presente que tiene un *Nivel de uso gratuito*, pero superado esos límites se debe pagar."
   ]
  },
  {
   "cell_type": "markdown",
   "metadata": {
    "slideshow": {
     "slide_type": "slide"
    }
   },
   "source": [
    "<div class=\"div-dhds-fondo-1\"> Hands-on\n",
    "<img src=\"https://raw.githubusercontent.com/Digital-House-DATA/ds_blend_2021_img/master/M3/CLASE_21_Regresion_Lineal_Simple/Presentacion/img/M3_CLASE_21_separador.png\" align=\"center\" />\n",
    "\n",
    "</div>"
   ]
  },
  {
   "cell_type": "markdown",
   "metadata": {
    "slideshow": {
     "slide_type": "slide"
    }
   },
   "source": [
    "### Ejercicio\n",
    "\n",
    "----\n",
    "\n",
    "Vamos a realizar consultas sobre la base de datos relacional NorthWind.\n",
    "\n",
    "<img src=\"https://raw.githubusercontent.com/Digital-House-DATA/ds_blend_2021_img/master/M7/CLASE_53_Intro_BigQuery/Presentacion/img/M7_CLASE_53_012_northwind.png\" alt=\"northwind\" width=120% height=50% align=\"center\"/>"
   ]
  },
  {
   "cell_type": "markdown",
   "metadata": {
    "slideshow": {
     "slide_type": "subslide"
    }
   },
   "source": [
    "### Ejercicio\n",
    "\n",
    "----\n",
    "\n",
    "- Seleccionar los productos con precio unitario mayor a 60 y con stock, ordenados por los que tienen más stock. \n",
    "\n",
    "- Seleccionar las 3 regiones con más Proveedores (Supplier).\n",
    "\n",
    "- Seleccionar los productos que venden los proveedores de la región 'North America' \n",
    "\n",
    "**NOTA**: es recomendable listar unos registros de las tablas a consultar, para conocer todas las columnas y los datos."
   ]
  },
  {
   "cell_type": "code",
   "execution_count": 19,
   "metadata": {
    "colab": {},
    "colab_type": "code",
    "id": "p2PHSRoPK8OK",
    "slideshow": {
     "slide_type": "skip"
    }
   },
   "outputs": [],
   "source": [
    "import numpy as np\n",
    "import pandas as pd\n",
    "import matplotlib.pyplot as plt\n",
    "import seaborn as sns\n",
    "%matplotlib inline"
   ]
  },
  {
   "cell_type": "code",
   "execution_count": 20,
   "metadata": {
    "slideshow": {
     "slide_type": "fragment"
    }
   },
   "outputs": [],
   "source": [
    "conn = sqlite3.connect('../Data/Northwind_small.sqlite')\n",
    "cursor = conn.cursor()"
   ]
  },
  {
   "cell_type": "code",
   "execution_count": 21,
   "metadata": {
    "slideshow": {
     "slide_type": "fragment"
    }
   },
   "outputs": [],
   "source": [
    "def consulta(query):\n",
    "    resultado = cursor.execute(query).fetchall()\n",
    "    names = [description[0] for description in cursor.description]\n",
    "    df_resultado = pd.DataFrame(resultado, columns=names)\n",
    "    return df_resultado"
   ]
  },
  {
   "cell_type": "markdown",
   "metadata": {
    "slideshow": {
     "slide_type": "slide"
    }
   },
   "source": [
    "### Solución\n",
    "\n",
    "---"
   ]
  },
  {
   "cell_type": "code",
   "execution_count": 22,
   "metadata": {
    "colab": {},
    "colab_type": "code",
    "id": "p2PHSRoPK8OK",
    "slideshow": {
     "slide_type": "skip"
    }
   },
   "outputs": [],
   "source": [
    "import numpy as np\n",
    "import pandas as pd\n",
    "import matplotlib.pyplot as plt\n",
    "import seaborn as sns\n",
    "%matplotlib inline"
   ]
  },
  {
   "cell_type": "code",
   "execution_count": 23,
   "metadata": {
    "slideshow": {
     "slide_type": "fragment"
    }
   },
   "outputs": [],
   "source": [
    "conn = sqlite3.connect('../Data/Northwind_small.sqlite')\n",
    "cursor = conn.cursor()"
   ]
  },
  {
   "cell_type": "code",
   "execution_count": 24,
   "metadata": {
    "slideshow": {
     "slide_type": "fragment"
    }
   },
   "outputs": [],
   "source": [
    "def consulta(query):\n",
    "    resultado = cursor.execute(query).fetchall()\n",
    "    names = [description[0] for description in cursor.description]\n",
    "    df_resultado = pd.DataFrame(resultado, columns=names)\n",
    "    return df_resultado"
   ]
  },
  {
   "cell_type": "markdown",
   "metadata": {
    "slideshow": {
     "slide_type": "slide"
    }
   },
   "source": [
    "### Ejercicio\n",
    "\n",
    "----\n",
    "- Seleccionar los productos con precio unitario mayor a 60 y con stock, ordenados por los que tienen más stock. "
   ]
  },
  {
   "cell_type": "code",
   "execution_count": 25,
   "metadata": {
    "slideshow": {
     "slide_type": "fragment"
    }
   },
   "outputs": [
    {
     "data": {
      "text/html": [
       "<div>\n",
       "<style scoped>\n",
       "    .dataframe tbody tr th:only-of-type {\n",
       "        vertical-align: middle;\n",
       "    }\n",
       "\n",
       "    .dataframe tbody tr th {\n",
       "        vertical-align: top;\n",
       "    }\n",
       "\n",
       "    .dataframe thead th {\n",
       "        text-align: right;\n",
       "    }\n",
       "</style>\n",
       "<table border=\"1\" class=\"dataframe\">\n",
       "  <thead>\n",
       "    <tr style=\"text-align: right;\">\n",
       "      <th></th>\n",
       "      <th>Id</th>\n",
       "      <th>ProductName</th>\n",
       "      <th>SupplierId</th>\n",
       "      <th>CategoryId</th>\n",
       "      <th>QuantityPerUnit</th>\n",
       "      <th>UnitPrice</th>\n",
       "      <th>UnitsInStock</th>\n",
       "      <th>UnitsOnOrder</th>\n",
       "      <th>ReorderLevel</th>\n",
       "      <th>Discontinued</th>\n",
       "    </tr>\n",
       "  </thead>\n",
       "  <tbody>\n",
       "    <tr>\n",
       "      <th>0</th>\n",
       "      <td>1</td>\n",
       "      <td>Chai</td>\n",
       "      <td>1</td>\n",
       "      <td>1</td>\n",
       "      <td>10 boxes x 20 bags</td>\n",
       "      <td>18.0</td>\n",
       "      <td>39</td>\n",
       "      <td>0</td>\n",
       "      <td>10</td>\n",
       "      <td>0</td>\n",
       "    </tr>\n",
       "    <tr>\n",
       "      <th>1</th>\n",
       "      <td>2</td>\n",
       "      <td>Chang</td>\n",
       "      <td>1</td>\n",
       "      <td>1</td>\n",
       "      <td>24 - 12 oz bottles</td>\n",
       "      <td>19.0</td>\n",
       "      <td>17</td>\n",
       "      <td>40</td>\n",
       "      <td>25</td>\n",
       "      <td>0</td>\n",
       "    </tr>\n",
       "    <tr>\n",
       "      <th>2</th>\n",
       "      <td>3</td>\n",
       "      <td>Aniseed Syrup</td>\n",
       "      <td>1</td>\n",
       "      <td>2</td>\n",
       "      <td>12 - 550 ml bottles</td>\n",
       "      <td>10.0</td>\n",
       "      <td>13</td>\n",
       "      <td>70</td>\n",
       "      <td>25</td>\n",
       "      <td>0</td>\n",
       "    </tr>\n",
       "  </tbody>\n",
       "</table>\n",
       "</div>"
      ],
      "text/plain": [
       "   Id    ProductName  SupplierId  CategoryId      QuantityPerUnit  UnitPrice  \\\n",
       "0   1           Chai           1           1   10 boxes x 20 bags       18.0   \n",
       "1   2          Chang           1           1   24 - 12 oz bottles       19.0   \n",
       "2   3  Aniseed Syrup           1           2  12 - 550 ml bottles       10.0   \n",
       "\n",
       "   UnitsInStock  UnitsOnOrder  ReorderLevel  Discontinued  \n",
       "0            39             0            10             0  \n",
       "1            17            40            25             0  \n",
       "2            13            70            25             0  "
      ]
     },
     "execution_count": 25,
     "metadata": {},
     "output_type": "execute_result"
    }
   ],
   "source": [
    "df_productos = consulta(\"select * from [Product]\")\n",
    "df_productos.head(3)"
   ]
  },
  {
   "cell_type": "code",
   "execution_count": 26,
   "metadata": {
    "slideshow": {
     "slide_type": "subslide"
    }
   },
   "outputs": [
    {
     "data": {
      "text/html": [
       "<div>\n",
       "<style scoped>\n",
       "    .dataframe tbody tr th:only-of-type {\n",
       "        vertical-align: middle;\n",
       "    }\n",
       "\n",
       "    .dataframe tbody tr th {\n",
       "        vertical-align: top;\n",
       "    }\n",
       "\n",
       "    .dataframe thead th {\n",
       "        text-align: right;\n",
       "    }\n",
       "</style>\n",
       "<table border=\"1\" class=\"dataframe\">\n",
       "  <thead>\n",
       "    <tr style=\"text-align: right;\">\n",
       "      <th></th>\n",
       "      <th>Id</th>\n",
       "      <th>ProductName</th>\n",
       "      <th>SupplierId</th>\n",
       "      <th>CategoryId</th>\n",
       "      <th>QuantityPerUnit</th>\n",
       "      <th>UnitPrice</th>\n",
       "      <th>UnitsInStock</th>\n",
       "      <th>UnitsOnOrder</th>\n",
       "      <th>ReorderLevel</th>\n",
       "      <th>Discontinued</th>\n",
       "    </tr>\n",
       "  </thead>\n",
       "  <tbody>\n",
       "    <tr>\n",
       "      <th>0</th>\n",
       "      <td>18</td>\n",
       "      <td>Carnarvon Tigers</td>\n",
       "      <td>7</td>\n",
       "      <td>8</td>\n",
       "      <td>16 kg pkg.</td>\n",
       "      <td>62.5</td>\n",
       "      <td>42</td>\n",
       "      <td>0</td>\n",
       "      <td>0</td>\n",
       "      <td>0</td>\n",
       "    </tr>\n",
       "    <tr>\n",
       "      <th>1</th>\n",
       "      <td>20</td>\n",
       "      <td>Sir Rodney's Marmalade</td>\n",
       "      <td>8</td>\n",
       "      <td>3</td>\n",
       "      <td>30 gift boxes</td>\n",
       "      <td>81.0</td>\n",
       "      <td>40</td>\n",
       "      <td>0</td>\n",
       "      <td>0</td>\n",
       "      <td>0</td>\n",
       "    </tr>\n",
       "    <tr>\n",
       "      <th>2</th>\n",
       "      <td>9</td>\n",
       "      <td>Mishi Kobe Niku</td>\n",
       "      <td>4</td>\n",
       "      <td>6</td>\n",
       "      <td>18 - 500 g pkgs.</td>\n",
       "      <td>97.0</td>\n",
       "      <td>29</td>\n",
       "      <td>0</td>\n",
       "      <td>0</td>\n",
       "      <td>1</td>\n",
       "    </tr>\n",
       "    <tr>\n",
       "      <th>3</th>\n",
       "      <td>38</td>\n",
       "      <td>Côte de Blaye</td>\n",
       "      <td>18</td>\n",
       "      <td>1</td>\n",
       "      <td>12 - 75 cl bottles</td>\n",
       "      <td>263.5</td>\n",
       "      <td>17</td>\n",
       "      <td>0</td>\n",
       "      <td>15</td>\n",
       "      <td>0</td>\n",
       "    </tr>\n",
       "  </tbody>\n",
       "</table>\n",
       "</div>"
      ],
      "text/plain": [
       "   Id             ProductName  SupplierId  CategoryId     QuantityPerUnit  \\\n",
       "0  18        Carnarvon Tigers           7           8          16 kg pkg.   \n",
       "1  20  Sir Rodney's Marmalade           8           3       30 gift boxes   \n",
       "2   9         Mishi Kobe Niku           4           6    18 - 500 g pkgs.   \n",
       "3  38           Côte de Blaye          18           1  12 - 75 cl bottles   \n",
       "\n",
       "   UnitPrice  UnitsInStock  UnitsOnOrder  ReorderLevel  Discontinued  \n",
       "0       62.5            42             0             0             0  \n",
       "1       81.0            40             0             0             0  \n",
       "2       97.0            29             0             0             1  \n",
       "3      263.5            17             0            15             0  "
      ]
     },
     "execution_count": 26,
     "metadata": {},
     "output_type": "execute_result"
    }
   ],
   "source": [
    "query = \"select * from Product \\\n",
    "         where UnitPrice > 60 and UnitsInStock > 0 \\\n",
    "         order by UnitsInStock desc\"\n",
    "df = consulta(query)\n",
    "df"
   ]
  },
  {
   "cell_type": "markdown",
   "metadata": {
    "slideshow": {
     "slide_type": "slide"
    }
   },
   "source": [
    "### Ejercicio\n",
    "\n",
    "----\n",
    "- Seleccionar las 3 regiones con más Proveedores (Supplier).\n"
   ]
  },
  {
   "cell_type": "code",
   "execution_count": 27,
   "metadata": {
    "slideshow": {
     "slide_type": "fragment"
    }
   },
   "outputs": [
    {
     "data": {
      "text/html": [
       "<div>\n",
       "<style scoped>\n",
       "    .dataframe tbody tr th:only-of-type {\n",
       "        vertical-align: middle;\n",
       "    }\n",
       "\n",
       "    .dataframe tbody tr th {\n",
       "        vertical-align: top;\n",
       "    }\n",
       "\n",
       "    .dataframe thead th {\n",
       "        text-align: right;\n",
       "    }\n",
       "</style>\n",
       "<table border=\"1\" class=\"dataframe\">\n",
       "  <thead>\n",
       "    <tr style=\"text-align: right;\">\n",
       "      <th></th>\n",
       "      <th>Id</th>\n",
       "      <th>CompanyName</th>\n",
       "      <th>ContactName</th>\n",
       "      <th>ContactTitle</th>\n",
       "      <th>Address</th>\n",
       "      <th>City</th>\n",
       "      <th>Region</th>\n",
       "      <th>PostalCode</th>\n",
       "      <th>Country</th>\n",
       "      <th>Phone</th>\n",
       "      <th>Fax</th>\n",
       "      <th>HomePage</th>\n",
       "    </tr>\n",
       "  </thead>\n",
       "  <tbody>\n",
       "    <tr>\n",
       "      <th>0</th>\n",
       "      <td>1</td>\n",
       "      <td>Exotic Liquids</td>\n",
       "      <td>Charlotte Cooper</td>\n",
       "      <td>Purchasing Manager</td>\n",
       "      <td>49 Gilbert St.</td>\n",
       "      <td>London</td>\n",
       "      <td>British Isles</td>\n",
       "      <td>EC1 4SD</td>\n",
       "      <td>UK</td>\n",
       "      <td>(171) 555-2222</td>\n",
       "      <td>None</td>\n",
       "      <td>None</td>\n",
       "    </tr>\n",
       "    <tr>\n",
       "      <th>1</th>\n",
       "      <td>2</td>\n",
       "      <td>New Orleans Cajun Delights</td>\n",
       "      <td>Shelley Burke</td>\n",
       "      <td>Order Administrator</td>\n",
       "      <td>P.O. Box 78934</td>\n",
       "      <td>New Orleans</td>\n",
       "      <td>North America</td>\n",
       "      <td>70117</td>\n",
       "      <td>USA</td>\n",
       "      <td>(100) 555-4822</td>\n",
       "      <td>None</td>\n",
       "      <td>#CAJUN.HTM#</td>\n",
       "    </tr>\n",
       "    <tr>\n",
       "      <th>2</th>\n",
       "      <td>3</td>\n",
       "      <td>Grandma Kelly's Homestead</td>\n",
       "      <td>Regina Murphy</td>\n",
       "      <td>Sales Representative</td>\n",
       "      <td>707 Oxford Rd.</td>\n",
       "      <td>Ann Arbor</td>\n",
       "      <td>North America</td>\n",
       "      <td>48104</td>\n",
       "      <td>USA</td>\n",
       "      <td>(313) 555-5735</td>\n",
       "      <td>(313) 555-3349</td>\n",
       "      <td>None</td>\n",
       "    </tr>\n",
       "  </tbody>\n",
       "</table>\n",
       "</div>"
      ],
      "text/plain": [
       "   Id                 CompanyName       ContactName          ContactTitle  \\\n",
       "0   1              Exotic Liquids  Charlotte Cooper    Purchasing Manager   \n",
       "1   2  New Orleans Cajun Delights     Shelley Burke   Order Administrator   \n",
       "2   3   Grandma Kelly's Homestead     Regina Murphy  Sales Representative   \n",
       "\n",
       "          Address         City         Region PostalCode Country  \\\n",
       "0  49 Gilbert St.       London  British Isles    EC1 4SD      UK   \n",
       "1  P.O. Box 78934  New Orleans  North America      70117     USA   \n",
       "2  707 Oxford Rd.    Ann Arbor  North America      48104     USA   \n",
       "\n",
       "            Phone             Fax     HomePage  \n",
       "0  (171) 555-2222            None         None  \n",
       "1  (100) 555-4822            None  #CAJUN.HTM#  \n",
       "2  (313) 555-5735  (313) 555-3349         None  "
      ]
     },
     "execution_count": 27,
     "metadata": {},
     "output_type": "execute_result"
    }
   ],
   "source": [
    "df_proveedores = consulta(\"select * from [Supplier]\")\n",
    "df_proveedores.head(3)"
   ]
  },
  {
   "cell_type": "code",
   "execution_count": 28,
   "metadata": {
    "slideshow": {
     "slide_type": "subslide"
    }
   },
   "outputs": [
    {
     "data": {
      "text/html": [
       "<div>\n",
       "<style scoped>\n",
       "    .dataframe tbody tr th:only-of-type {\n",
       "        vertical-align: middle;\n",
       "    }\n",
       "\n",
       "    .dataframe tbody tr th {\n",
       "        vertical-align: top;\n",
       "    }\n",
       "\n",
       "    .dataframe thead th {\n",
       "        text-align: right;\n",
       "    }\n",
       "</style>\n",
       "<table border=\"1\" class=\"dataframe\">\n",
       "  <thead>\n",
       "    <tr style=\"text-align: right;\">\n",
       "      <th></th>\n",
       "      <th>Region</th>\n",
       "      <th>total</th>\n",
       "    </tr>\n",
       "  </thead>\n",
       "  <tbody>\n",
       "    <tr>\n",
       "      <th>0</th>\n",
       "      <td>Western Europe</td>\n",
       "      <td>6</td>\n",
       "    </tr>\n",
       "    <tr>\n",
       "      <th>1</th>\n",
       "      <td>North America</td>\n",
       "      <td>6</td>\n",
       "    </tr>\n",
       "    <tr>\n",
       "      <th>2</th>\n",
       "      <td>Northern Europe</td>\n",
       "      <td>4</td>\n",
       "    </tr>\n",
       "  </tbody>\n",
       "</table>\n",
       "</div>"
      ],
      "text/plain": [
       "            Region  total\n",
       "0   Western Europe      6\n",
       "1    North America      6\n",
       "2  Northern Europe      4"
      ]
     },
     "execution_count": 28,
     "metadata": {},
     "output_type": "execute_result"
    }
   ],
   "source": [
    "query = \"select Region,count(*) as total from [Supplier] \\\n",
    "         group by Region \\\n",
    "         order by total desc \\\n",
    "         limit 3\"\n",
    "df = consulta(query)\n",
    "df"
   ]
  },
  {
   "cell_type": "markdown",
   "metadata": {
    "slideshow": {
     "slide_type": "slide"
    }
   },
   "source": [
    "### Ejercicio\n",
    "\n",
    "----\n",
    "- Seleccionar los productos que venden los proveedores de la región 'North America' "
   ]
  },
  {
   "cell_type": "code",
   "execution_count": 29,
   "metadata": {
    "slideshow": {
     "slide_type": "subslide"
    }
   },
   "outputs": [
    {
     "data": {
      "text/html": [
       "<div>\n",
       "<style scoped>\n",
       "    .dataframe tbody tr th:only-of-type {\n",
       "        vertical-align: middle;\n",
       "    }\n",
       "\n",
       "    .dataframe tbody tr th {\n",
       "        vertical-align: top;\n",
       "    }\n",
       "\n",
       "    .dataframe thead th {\n",
       "        text-align: right;\n",
       "    }\n",
       "</style>\n",
       "<table border=\"1\" class=\"dataframe\">\n",
       "  <thead>\n",
       "    <tr style=\"text-align: right;\">\n",
       "      <th></th>\n",
       "      <th>Proveedor</th>\n",
       "      <th>ProductName</th>\n",
       "    </tr>\n",
       "  </thead>\n",
       "  <tbody>\n",
       "    <tr>\n",
       "      <th>0</th>\n",
       "      <td>New Orleans Cajun Delights</td>\n",
       "      <td>Chef Anton's Cajun Seasoning</td>\n",
       "    </tr>\n",
       "    <tr>\n",
       "      <th>1</th>\n",
       "      <td>New Orleans Cajun Delights</td>\n",
       "      <td>Chef Anton's Gumbo Mix</td>\n",
       "    </tr>\n",
       "    <tr>\n",
       "      <th>2</th>\n",
       "      <td>Grandma Kelly's Homestead</td>\n",
       "      <td>Grandma's Boysenberry Spread</td>\n",
       "    </tr>\n",
       "    <tr>\n",
       "      <th>3</th>\n",
       "      <td>Grandma Kelly's Homestead</td>\n",
       "      <td>Uncle Bob's Organic Dried Pears</td>\n",
       "    </tr>\n",
       "    <tr>\n",
       "      <th>4</th>\n",
       "      <td>Grandma Kelly's Homestead</td>\n",
       "      <td>Northwoods Cranberry Sauce</td>\n",
       "    </tr>\n",
       "    <tr>\n",
       "      <th>5</th>\n",
       "      <td>Bigfoot Breweries</td>\n",
       "      <td>Sasquatch Ale</td>\n",
       "    </tr>\n",
       "    <tr>\n",
       "      <th>6</th>\n",
       "      <td>Bigfoot Breweries</td>\n",
       "      <td>Steeleye Stout</td>\n",
       "    </tr>\n",
       "    <tr>\n",
       "      <th>7</th>\n",
       "      <td>New England Seafood Cannery</td>\n",
       "      <td>Boston Crab Meat</td>\n",
       "    </tr>\n",
       "    <tr>\n",
       "      <th>8</th>\n",
       "      <td>New England Seafood Cannery</td>\n",
       "      <td>Jack's New England Clam Chowder</td>\n",
       "    </tr>\n",
       "    <tr>\n",
       "      <th>9</th>\n",
       "      <td>Ma Maison</td>\n",
       "      <td>Tourtière</td>\n",
       "    </tr>\n",
       "    <tr>\n",
       "      <th>10</th>\n",
       "      <td>Ma Maison</td>\n",
       "      <td>Pâté chinois</td>\n",
       "    </tr>\n",
       "    <tr>\n",
       "      <th>11</th>\n",
       "      <td>Forêts d'érables</td>\n",
       "      <td>Sirop d'érable</td>\n",
       "    </tr>\n",
       "    <tr>\n",
       "      <th>12</th>\n",
       "      <td>Forêts d'érables</td>\n",
       "      <td>Tarte au sucre</td>\n",
       "    </tr>\n",
       "    <tr>\n",
       "      <th>13</th>\n",
       "      <td>New Orleans Cajun Delights</td>\n",
       "      <td>Louisiana Fiery Hot Pepper Sauce</td>\n",
       "    </tr>\n",
       "    <tr>\n",
       "      <th>14</th>\n",
       "      <td>New Orleans Cajun Delights</td>\n",
       "      <td>Louisiana Hot Spiced Okra</td>\n",
       "    </tr>\n",
       "    <tr>\n",
       "      <th>15</th>\n",
       "      <td>Bigfoot Breweries</td>\n",
       "      <td>Laughing Lumberjack Lager</td>\n",
       "    </tr>\n",
       "  </tbody>\n",
       "</table>\n",
       "</div>"
      ],
      "text/plain": [
       "                      Proveedor                       ProductName\n",
       "0    New Orleans Cajun Delights      Chef Anton's Cajun Seasoning\n",
       "1    New Orleans Cajun Delights            Chef Anton's Gumbo Mix\n",
       "2     Grandma Kelly's Homestead      Grandma's Boysenberry Spread\n",
       "3     Grandma Kelly's Homestead   Uncle Bob's Organic Dried Pears\n",
       "4     Grandma Kelly's Homestead        Northwoods Cranberry Sauce\n",
       "5             Bigfoot Breweries                     Sasquatch Ale\n",
       "6             Bigfoot Breweries                    Steeleye Stout\n",
       "7   New England Seafood Cannery                  Boston Crab Meat\n",
       "8   New England Seafood Cannery   Jack's New England Clam Chowder\n",
       "9                     Ma Maison                         Tourtière\n",
       "10                    Ma Maison                      Pâté chinois\n",
       "11             Forêts d'érables                    Sirop d'érable\n",
       "12             Forêts d'érables                    Tarte au sucre\n",
       "13   New Orleans Cajun Delights  Louisiana Fiery Hot Pepper Sauce\n",
       "14   New Orleans Cajun Delights         Louisiana Hot Spiced Okra\n",
       "15            Bigfoot Breweries         Laughing Lumberjack Lager"
      ]
     },
     "execution_count": 29,
     "metadata": {},
     "output_type": "execute_result"
    }
   ],
   "source": [
    "query = \"SELECT S.CompanyName as Proveedor, P.ProductName \\\n",
    "           FROM Supplier S \\\n",
    "          INNER JOIN [Product] P on S.ID = P.SupplierID \\\n",
    "          where S.Region = 'North America'\"\n",
    "df_pedidos = consulta(query)\n",
    "pd.set_option('display.max_rows', None)\n",
    "df_pedidos"
   ]
  },
  {
   "cell_type": "markdown",
   "metadata": {
    "slideshow": {
     "slide_type": "slide"
    }
   },
   "source": [
    "<div class=\"div-dhds-fondo-1\"> Referencias y Material Adicional\n",
    "<img src=\"https://raw.githubusercontent.com/Digital-House-DATA/ds_blend_2021_img/master/M3/CLASE_21_Regresion_Lineal_Simple/Presentacion/img/M3_CLASE_21_separador.png\" align=\"center\" />\n",
    "\n",
    "</div>"
   ]
  },
  {
   "cell_type": "markdown",
   "metadata": {
    "slideshow": {
     "slide_type": "slide"
    }
   },
   "source": [
    "### Referencias y Material Adicional\n",
    "\n",
    "---\n",
    "<a href=\"https://www.sqlite.org/index.html\" target=\"_blank\">SQLite home</a>\n",
    "\n",
    "<a href=\"https://cloud.google.com/docs/overview\" target=\"_blank\">Google Cloud overview</a>\n",
    "\n",
    "<a href=\"https://cloud.google.com/bigquery/docs/quickstarts\" target=\"_blank\">BigQuery - Guías de inicio rápido</a>\n"
   ]
  }
 ],
 "metadata": {
  "kernelspec": {
   "display_name": "Python 3",
   "language": "python",
   "name": "python3"
  },
  "language_info": {
   "codemirror_mode": {
    "name": "ipython",
    "version": 3
   },
   "file_extension": ".py",
   "mimetype": "text/x-python",
   "name": "python",
   "nbconvert_exporter": "python",
   "pygments_lexer": "ipython3",
   "version": "3.8.5"
  }
 },
 "nbformat": 4,
 "nbformat_minor": 4
}
