{
 "cells": [
  {
   "cell_type": "code",
   "execution_count": null,
   "metadata": {},
   "outputs": [],
   "source": [
    "# initial setup\n",
    "%run \"../../../common/0_notebooks_base_setup.py\"\n"
   ]
  },
  {
   "cell_type": "markdown",
   "metadata": {},
   "source": [
    "<img src='../../../common/logo_DH.png' align='left' width=35%/>"
   ]
  },
  {
   "cell_type": "markdown",
   "metadata": {},
   "source": [
    "# BigQuery ML"
   ]
  },
  {
   "cell_type": "markdown",
   "metadata": {},
   "source": [
    "## Intro\n",
    "\n",
    "Clustering K-means\n",
    "\n",
    "https://cloud.google.com/bigquery-ml/docs/kmeans-tutorial\n",
    "\n",
    "BigQuery ML admite aprendizaje no supervisado. \n",
    "\n",
    "Podemos aplicar el algoritmo k-means para agrupar datos en clusters. \n",
    "\n",
    "Usaremos un modelo de k-means en BigQuery ML para crear clústeres de datos en el conjunto de datos públicos de Alquileres de bicicletas de Londres (https://console.cloud.google.com/marketplace/details/greater-london-authority/london-bicycles). \n",
    "\n",
    "Los datos de Alquileres de bicicletas de Londres contienen la cantidad de alquileres del Esquema de alquileres de bicicletas Santander de Londres desde 2011 hasta el presente. \n",
    "\n",
    "Los datos incluyen marcas de tiempo de inicio y parada, nombres de estaciones y duración del viaje.\n",
    "\n",
    "Las consultas usan funciones geográficas (https://cloud.google.com/bigquery/docs/reference/standard-sql/geography_functions) disponibles en BigQuery GIS. Si desean obtener más información sobre BigQuery GIS, consulten Introducción a BigQuery GIS (https://cloud.google.com/bigquery/docs/gis-intro)."
   ]
  },
  {
   "cell_type": "markdown",
   "metadata": {},
   "source": [
    "## Ejercicio 1\n",
    "\n",
    "En la página de selección de proyectos de Cloud Console, selecciona o crea un proyecto de Cloud.\n",
    "\n",
    "https://console.cloud.google.com/projectselector2/home/dashboard\n",
    "\n",
    "(Puede ser clase-37)\n",
    "\n",
    "Crear un dataset `bqml_tutorial` para almacenar el modelo. En Ubicación de datos (Data location), seleccionemos European Union (EU).\n",
    "El conjunto de datos públicos de Alquileres de bicicletas de Londres se almacena en la ubicación multiregión EU.\n"
   ]
  },
  {
   "cell_type": "markdown",
   "metadata": {},
   "source": [
    "Solución:\n",
    "\n",
    "https://cloud.google.com/bigquery-ml/docs/kmeans-tutorial#step_one_create_your_dataset"
   ]
  },
  {
   "cell_type": "markdown",
   "metadata": {},
   "source": [
    "## Ejercicio 2\n",
    "\n",
    "Agruparemos en clusters las estaciones de bicicletas en función de los siguientes atributos:\n",
    "\n",
    "* Duración de los alquileres\n",
    "* Cantidad de viajes por día\n",
    "* Distancia desde el centro de la ciudad\n",
    "\n",
    "\n",
    "Examinemos los datos de entrenamiento ejecutando esta consulta en https://console.cloud.google.com/bigquery\n",
    "\n",
    "<code>\n",
    "WITH\n",
    "  hs AS (\n",
    "  SELECT\n",
    "    h.start_station_name AS station_name,\n",
    "    IF\n",
    "    (EXTRACT(DAYOFWEEK\n",
    "      FROM\n",
    "        h.start_date) = 1\n",
    "      OR EXTRACT(DAYOFWEEK\n",
    "      FROM\n",
    "        h.start_date) = 7,\n",
    "      \"weekend\",\n",
    "      \"weekday\") AS isweekday,\n",
    "    h.duration,\n",
    "    ST_DISTANCE(ST_GEOGPOINT(s.longitude,\n",
    "        s.latitude),\n",
    "      ST_GEOGPOINT(-0.1,\n",
    "        51.5))/1000 AS distance_from_city_center\n",
    "  FROM\n",
    "    `bigquery-public-data.london_bicycles.cycle_hire` AS h\n",
    "  JOIN\n",
    "    `bigquery-public-data.london_bicycles.cycle_stations` AS s\n",
    "  ON\n",
    "    h.start_station_id = s.id\n",
    "  WHERE\n",
    "    h.start_date BETWEEN CAST('2015-01-01 00:00:00' AS TIMESTAMP)\n",
    "    AND CAST('2016-01-01 00:00:00' AS TIMESTAMP) ),\n",
    "  stationstats AS (\n",
    "  SELECT\n",
    "    station_name,\n",
    "    AVG(duration) AS duration,\n",
    "    COUNT(duration) AS num_trips,\n",
    "    MAX(distance_from_city_center) AS distance_from_city_center\n",
    "  FROM\n",
    "    hs\n",
    "  GROUP BY\n",
    "    station_name )\n",
    "SELECT\n",
    "  *\n",
    "FROM\n",
    "  stationstats\n",
    "ORDER BY\n",
    "  distance_from_city_center ASC\n",
    "</code>\n",
    "\n",
    "\n",
    "Esta consulta extrae datos sobre el alquiler de bicicletas, incluidos start_station_name y duration, y los une con la información de la estación, incluida distance-from-city-center. \n",
    "\n",
    "Luego, calcula los atributos de la estación en stationstats, incluida la duración promedio de los viajes y la cantidad de viajes, y pasa por el atributo de estación distance_from_city_center.\n",
    "\n",
    "En esta consulta, se usa `WITH` para definir subconsultas. \n",
    "\n",
    "También se usan las funciones de BigQuery GIS ST_DISTANCE y ST_GEOGPOINT."
   ]
  },
  {
   "cell_type": "markdown",
   "metadata": {},
   "source": [
    "Solución:\n",
    "\n",
    "https://cloud.google.com/bigquery-ml/docs/kmeans-tutorial#step_two_examine_your_training_data"
   ]
  },
  {
   "cell_type": "markdown",
   "metadata": {},
   "source": [
    "## Ejercicio 3\n",
    "\n",
    "Crear un modelo de k-means\n",
    "\n",
    "Podemos crear y entrenar un modelo k-means mediante la declaración `CREATE MODEL` con la opción `model_type=kmeans`. \n",
    "\n",
    "En la siguiente consulta, se agrega una declaración CREATE MODEL a la consulta anterior y se quitan los campos id en los datos.\n",
    "\n",
    "Ejecutemosla en https://console.cloud.google.com/bigquery\n",
    "\n",
    "<code>\n",
    "CREATE OR REPLACE MODEL\n",
    "  bqml_tutorial.london_station_clusters OPTIONS(model_type='kmeans',\n",
    "    num_clusters=4) AS\n",
    "WITH\n",
    "  hs AS (\n",
    "  SELECT\n",
    "    h.start_station_name AS station_name,\n",
    "  IF\n",
    "    (EXTRACT(DAYOFWEEK\n",
    "      FROM\n",
    "        h.start_date) = 1\n",
    "      OR EXTRACT(DAYOFWEEK\n",
    "      FROM\n",
    "        h.start_date) = 7,\n",
    "      \"weekend\",\n",
    "      \"weekday\") AS isweekday,\n",
    "    h.duration,\n",
    "    ST_DISTANCE(ST_GEOGPOINT(s.longitude,\n",
    "        s.latitude),\n",
    "      ST_GEOGPOINT(-0.1,\n",
    "        51.5))/1000 AS distance_from_city_center\n",
    "  FROM\n",
    "    `bigquery-public-data.london_bicycles.cycle_hire` AS h\n",
    "  JOIN\n",
    "    `bigquery-public-data.london_bicycles.cycle_stations` AS s\n",
    "  ON\n",
    "    h.start_station_id = s.id\n",
    "  WHERE\n",
    "    h.start_date BETWEEN CAST('2015-01-01 00:00:00' AS TIMESTAMP)\n",
    "    AND CAST('2016-01-01 00:00:00' AS TIMESTAMP) ),\n",
    "  stationstats AS (\n",
    "  SELECT\n",
    "    station_name,\n",
    "    isweekday,\n",
    "    AVG(duration) AS duration,\n",
    "    COUNT(duration) AS num_trips,\n",
    "    MAX(distance_from_city_center) AS distance_from_city_center\n",
    "  FROM\n",
    "    hs\n",
    "  GROUP BY\n",
    "    station_name, isweekday)\n",
    "SELECT\n",
    "  * EXCEPT(station_name, isweekday)\n",
    "FROM\n",
    "  stationstats\n",
    "</code>\n",
    "\n",
    "La declaración `CREATE MODEL` especifica la cantidad deseada de clusters: cuatro. \n",
    "\n",
    "En la declaración `SELECT`, `EXCEPT` excluye la columna station_name porque station_name no es un atributo. La consulta crea una fila única por station_name y en la declaración SELECT solo se mencionan los atributos.\n",
    "\n",
    "Si omitimos la opción num_clusters, BigQuery ML elegirá un valor predeterminado razonable según la cantidad total de filas en los datos de entrenamiento. \n",
    "\n",
    "También podemos realizar el ajuste de hiperparámetros para encontrar una cantidad apropiada. Con el fin de determinar una cantidad óptima de clústeres, deberíamos ejecutar la consulta CREATE MODEL para diferentes valores de num_clusters, buscar la medida de error y elegir el punto en el que la medida de error esté en su valor mínimo. Podemos obtener la medida de error seleccionando un modelo y haciendo click en la pestaña Entrenamiento.\n"
   ]
  },
  {
   "cell_type": "markdown",
   "metadata": {},
   "source": [
    "En la IU web de BigQuery, en la sección Recursos, expandiendo el nombre del proyecto, y haciendo click en bqml_tutorial y, luego en london_station_clusters vemos el modelo entrenado.\n",
    "\n",
    "Haciendo click en la pestaña Esquema (Schema) vemos que el modelo enumera los tres atributos de estación que BigQuery ML usó para realizar el agrupamiento. \n",
    "\n",
    "Haciendo click en la pestaña Evaluación (Evaluation) vemos visualizaciones de los clusters identificados por el modelo k-means. En Numerical features, los gráficos de barras muestran hasta 10 de los valores de atributos numéricos más importantes para cada centroide. Podemos seleccionar qué atributos visualizar en el menú desplegable."
   ]
  },
  {
   "cell_type": "markdown",
   "metadata": {},
   "source": [
    "Solución:\n",
    "    \n",
    "https://cloud.google.com/bigquery-ml/docs/kmeans-tutorial#step_three_create_a_k-means_model"
   ]
  },
  {
   "cell_type": "markdown",
   "metadata": {},
   "source": [
    "## Ejercicio 4\n",
    "\n",
    "Predecir a qué cluster pertenece una estación.\n",
    "\n",
    "Para identificar el cluster al que pertenece una estación en particular, usamos la función `ML.PREDICT`. La siguiente consulta predice el clúster de cada estación que tiene la string \"Kennington\" en su nombre.\n",
    "\n",
    "<code>\n",
    "WITH\n",
    "  hs AS (\n",
    "  SELECT\n",
    "    h.start_station_name AS station_name,\n",
    "    IF\n",
    "    (EXTRACT(DAYOFWEEK\n",
    "      FROM\n",
    "        h.start_date) = 1\n",
    "      OR EXTRACT(DAYOFWEEK\n",
    "      FROM\n",
    "        h.start_date) = 7,\n",
    "      \"weekend\",\n",
    "      \"weekday\") AS isweekday,\n",
    "    h.duration,\n",
    "    ST_DISTANCE(ST_GEOGPOINT(s.longitude,\n",
    "        s.latitude),\n",
    "      ST_GEOGPOINT(-0.1,\n",
    "        51.5))/1000 AS distance_from_city_center\n",
    "  FROM\n",
    "    `bigquery-public-data.london_bicycles.cycle_hire` AS h\n",
    "  JOIN\n",
    "    `bigquery-public-data.london_bicycles.cycle_stations` AS s\n",
    "  ON\n",
    "    h.start_station_id = s.id\n",
    "  WHERE\n",
    "    h.start_date BETWEEN CAST('2015-01-01 00:00:00' AS TIMESTAMP)\n",
    "    AND CAST('2016-01-01 00:00:00' AS TIMESTAMP) ),\n",
    "  stationstats AS (\n",
    "  SELECT\n",
    "    station_name,\n",
    "    AVG(duration) AS duration,\n",
    "    COUNT(duration) AS num_trips,\n",
    "    MAX(distance_from_city_center) AS distance_from_city_center\n",
    "  FROM\n",
    "    hs\n",
    "  GROUP BY\n",
    "    station_name )\n",
    "SELECT\n",
    "  * EXCEPT(nearest_centroids_distance)\n",
    "FROM\n",
    "  ML.PREDICT( MODEL bqml_tutorial.london_station_clusters,\n",
    "    (\n",
    "    SELECT\n",
    "      *\n",
    "    FROM\n",
    "      stationstats\n",
    "    WHERE\n",
    "      REGEXP_CONTAINS(station_name, 'Kennington')))\n",
    "    \n",
    "</code>\n",
    "\n",
    "En esta consulta, se usa la función `REGEXP_CONTAINS` para buscar todas las entradas en la columna station_name que contienen la string \"Kennington\". La función `ML.PREDICT` usa esos valores para predecir qué clusters contendrían esas estaciones."
   ]
  },
  {
   "cell_type": "markdown",
   "metadata": {},
   "source": [
    "Solución:\n",
    "\n",
    "https://cloud.google.com/bigquery-ml/docs/kmeans-tutorial#use_ml.predict"
   ]
  },
  {
   "cell_type": "markdown",
   "metadata": {},
   "source": [
    "## Ejercicio 5\n",
    "\n",
    "Tratar de interpretar los diferentes clústeres usando los gráficos de barras de los resultados de la evaluación del modelo y responder:\n",
    "\n",
    "* Supongamos que necesitas experimentar con un tipo nuevo de anclaje. ¿Qué clúster de estaciones deberías elegir para realizar este experimento? \n",
    "\n",
    "* Supongamos que deseas abastecer algunas estaciones con bicicletas de carrera. ¿Qué estaciones debes elegir? "
   ]
  },
  {
   "cell_type": "markdown",
   "metadata": {},
   "source": [
    "Solución:\n",
    "\n",
    "https://cloud.google.com/bigquery-ml/docs/kmeans-tutorial#step_five_use_your_model_to_make_data-driven_decisions\n",
    "\n",
    "Cluster#3 muestra una estación de la ciudad muy demandada que se encuentra cerca del centro de la ciudad. \n",
    "\n",
    "Cluster#2 muestra la segunda estación de la ciudad que es menos demandada. \n",
    "\n",
    "Cluster#1 muestra una estación lejos del centro de la ciudad, menos demandada, con alquileres de mayor duración. \n",
    "\n",
    "Cluster#4 muestra otra estación lejos del centro de la ciudad, con pocos viajes que son más cortos. \n",
    "\n",
    "En función de estos resultados, podemos usar los datos para tomar decisiones fundamentadas. Por ejemplo:\n",
    "\n",
    "Supongamos que necesitas experimentar con un tipo nuevo de anclaje. \n",
    "¿Qué clúster de estaciones deberías elegir para realizar este experimento? \n",
    "Las estaciones en Cluster#1, Cluster#2 o Cluster#4 parecen elecciones lógicas porque no son las estaciones más concurridas.\n",
    "\n",
    "Supongamos que deseas abastecer algunas estaciones con bicicletas de carrera. ¿Qué estaciones debes elegir? Cluster#1 es el grupo de estaciones que están lejos del centro de la ciudad y tienen los viajes más largos. Estas son las posibles candidatas para las bicicletas de carrera."
   ]
  },
  {
   "cell_type": "markdown",
   "metadata": {},
   "source": [
    "## Referencia\n",
    "\n",
    "https://cloud.google.com/bigquery-ml/docs/kmeans-tutorial    "
   ]
  }
 ],
 "metadata": {
  "kernelspec": {
   "display_name": "Python 3",
   "language": "python",
   "name": "python3"
  },
  "language_info": {
   "codemirror_mode": {
    "name": "ipython",
    "version": 3
   },
   "file_extension": ".py",
   "mimetype": "text/x-python",
   "name": "python",
   "nbconvert_exporter": "python",
   "pygments_lexer": "ipython3",
   "version": "3.8.5"
  }
 },
 "nbformat": 4,
 "nbformat_minor": 4
}
