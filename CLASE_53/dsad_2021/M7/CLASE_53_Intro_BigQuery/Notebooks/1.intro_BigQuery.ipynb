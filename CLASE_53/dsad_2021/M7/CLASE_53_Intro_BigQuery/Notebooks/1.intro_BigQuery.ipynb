{
 "cells": [
  {
   "cell_type": "code",
   "execution_count": null,
   "metadata": {},
   "outputs": [],
   "source": [
    "# initial setup\n",
    "%run \"../../../common/0_notebooks_base_setup.py\"\n"
   ]
  },
  {
   "cell_type": "markdown",
   "metadata": {},
   "source": [
    "<img src='../../../common/logo_DH.png' align='left' width=35%/>"
   ]
  },
  {
   "cell_type": "markdown",
   "metadata": {},
   "source": [
    "## Setup Bibliotecas\n",
    "\n",
    "Para instalar las bibliotecas que necesitamos en esta práctica, quiten el símbolo de comenatrio y ejecuten esta celda. \n",
    "\n",
    "Sólo es necesario hacerlo una vez, por eso están comentadas por default."
   ]
  },
  {
   "cell_type": "code",
   "execution_count": null,
   "metadata": {},
   "outputs": [],
   "source": [
    "#! pip install --upgrade google-cloud-storage\n",
    "#! pip install --upgrade google-cloud-bigquery-storage\n",
    "#! pip install --upgrade google-cloud-bigquery[bqstorage,pandas]"
   ]
  },
  {
   "cell_type": "markdown",
   "metadata": {},
   "source": [
    "# BigQuery"
   ]
  },
  {
   "cell_type": "markdown",
   "metadata": {},
   "source": [
    "## Intro\n",
    "\n",
    "El objetivo de esta clase es presentarles una introducción básica a BigQuery, para que sean capaces de descargar datasets que les puedan ser útiles y que conozcan cómo usar BigQuery en la creación de modelos de machine learning.\n"
   ]
  },
  {
   "cell_type": "markdown",
   "metadata": {},
   "source": [
    "## Imports"
   ]
  },
  {
   "cell_type": "code",
   "execution_count": null,
   "metadata": {},
   "outputs": [],
   "source": [
    "import os\n",
    "from google.cloud import bigquery\n",
    "#from google.cloud import bigquery_storage_v1beta1\n",
    "import google.auth\n",
    "import pandas as pd"
   ]
  },
  {
   "cell_type": "markdown",
   "metadata": {},
   "source": [
    "## Creación de una cuenta\n",
    "\n",
    "* Crear un usuario en la consola de Google Cloud https://console.cloud.google.com/\n",
    "\n",
    "Con una cuenta de google (**no es necesario poner datos de tarjeta de crédito ni activar una cuenta con $300 dolares iniciales bonificados**)\n",
    "\n",
    "* Crear un proyecto: clase-37\n",
    "\n",
    "* Configurar la autenticación:\n",
    "\n",
    "    En Cloud Console, en la página Crear una clave de cuenta de servicio.\n",
    "https://console.cloud.google.com/apis/credentials/serviceaccountkey\n",
    "\n",
    "    Seleccionamos el proyecto clase-37\n",
    "    \n",
    "    Seleccionar Crear Cuenta de servicio\n",
    "\n",
    "    En paso 1, Ingresar un nombre en el campo Nombre de cuenta de servicio, y click en Crear y Continuar.\n",
    "\n",
    "    En paso 2, Seleccionamos la función Propietario. Y click en boton LISTO.\n",
    "\n",
    "    Aparece una lista con la cuenta de servicio. Seleccionar en Acciones, Administrar claves.\n",
    "    \n",
    "    Click en Agregar claves, y Crear clave nueva.\n",
    "    \n",
    "    Dejar seleccionado JSON y click en Crear. Se descargará un archivo JSON que contiene tus claves a tu computadora."
   ]
  },
  {
   "cell_type": "markdown",
   "metadata": {},
   "source": [
    "## Setup local de Google Account\n",
    "\n",
    "Paso 3 de https://cloud.google.com/bigquery/docs/quickstarts/quickstart-client-libraries?authuser=1\n",
    "\n",
    "Seteo como variable de entorno GOOGLE_APPLICATION_CREDENTIALS el path del json que descargué en el paso anterior:"
   ]
  },
  {
   "cell_type": "code",
   "execution_count": null,
   "metadata": {},
   "outputs": [],
   "source": [
    "#credential_path = \"C:\\\\Users\\\\ncopo\\\\Desktop\\\\clase-53-ea6d944e9e65.json\"\n",
    "credential_path = \"/media/paulati/Nuevo vol/paula/dh/2021/dsad_2021_paula/M7/CLASE_53/Data/clase-37-e9f8bf18d574.json\"\n",
    "os.environ['GOOGLE_APPLICATION_CREDENTIALS'] = credential_path"
   ]
  },
  {
   "cell_type": "markdown",
   "metadata": {},
   "source": [
    "## Consola BigQuery\n",
    "\n",
    "En esta parte vamos a ejecutar algunas consultas en la consola de BigQuery sobre datos disponibles en bigquery-public-data\n",
    "\n",
    "https://console.cloud.google.com/bigquery?project=bigquery-public-data\n",
    "\n",
    "\n",
    "https://console.cloud.google.com/bigquery\n",
    "\n",
    "Ejecutemos esta consulta y guardemos los resultados en un archivo cvs en nuestra máquina.\n",
    "<code>\n",
    "SELECT corpus\n",
    "FROM `bigquery-public-data.samples.shakespeare`\n",
    "GROUP BY corpus;\n",
    "</code>\n",
    "\n",
    "\n",
    "Otras consultas \n",
    "\n",
    "https://www.kaggle.com/paultimothymooney/how-to-query-the-bigquery-sample-tables"
   ]
  },
  {
   "cell_type": "markdown",
   "metadata": {},
   "source": [
    "Podemos explorar los datos disponibles usando la caja de búsqueda de Recursos (en el panel izquierdo)\n",
    "\n",
    "https://console.cloud.google.com/bigquery?project=bigquery-public-data&authuser=2&p=bigquery-public-data&d=covid19_ecdc&page=dataset\n"
   ]
  },
  {
   "cell_type": "markdown",
   "metadata": {},
   "source": [
    "## Query\n",
    "\n",
    "https://cloud.google.com/bigquery/docs/quickstarts/quickstart-client-libraries?authuser=2\n",
    "\n",
    "**Documentación**\n",
    "\n",
    "Client: \n",
    "https://googleapis.dev/python/bigquery/latest/generated/google.cloud.bigquery.client.Client.html\n",
    "\n",
    "query:\n",
    "https://googleapis.dev/python/bigquery/latest/generated/google.cloud.bigquery.client.Client.html#google.cloud.bigquery.client.Client.query\n",
    "\n",
    "QueryJob: \n",
    "https://googleapis.dev/python/bigquery/latest/generated/google.cloud.bigquery.job.QueryJob.html#google.cloud.bigquery.job.QueryJob\n",
    "\n",
    "QueryJob.result: \n",
    "https://googleapis.dev/python/bigquery/latest/generated/google.cloud.bigquery.job.QueryJob.html#google.cloud.bigquery.job.QueryJob.result\n",
    "\n",
    "\n",
    "RowIterator: \n",
    "https://googleapis.dev/python/bigquery/latest/generated/google.cloud.bigquery.table.RowIterator.html#google.cloud.bigquery.table.RowIterator"
   ]
  },
  {
   "cell_type": "code",
   "execution_count": null,
   "metadata": {},
   "outputs": [],
   "source": [
    "client = bigquery.Client()"
   ]
  },
  {
   "cell_type": "code",
   "execution_count": null,
   "metadata": {},
   "outputs": [],
   "source": [
    "query_job = client.query(\"\"\"\n",
    "    SELECT\n",
    "      CONCAT(\n",
    "        'https://stackoverflow.com/questions/',\n",
    "        CAST(id as STRING)) as url,\n",
    "      view_count\n",
    "    FROM `bigquery-public-data.stackoverflow.posts_questions`\n",
    "    WHERE tags like '%google-bigquery%'\n",
    "    ORDER BY view_count DESC\n",
    "    LIMIT 10\"\"\")\n",
    "\n",
    "results = query_job.result()  # Waits for job to complete.\n"
   ]
  },
  {
   "cell_type": "markdown",
   "metadata": {},
   "source": [
    "Veamos como iterar sobre los resultados"
   ]
  },
  {
   "cell_type": "code",
   "execution_count": null,
   "metadata": {},
   "outputs": [],
   "source": [
    "results.total_rows\n",
    "#results.to_dataframe()\n",
    "itr = iter(results)\n",
    "first_row = next(itr)"
   ]
  },
  {
   "cell_type": "code",
   "execution_count": null,
   "metadata": {},
   "outputs": [],
   "source": [
    "print(results.total_rows)"
   ]
  },
  {
   "cell_type": "code",
   "execution_count": null,
   "metadata": {},
   "outputs": [],
   "source": [
    "first_row"
   ]
  },
  {
   "cell_type": "code",
   "execution_count": null,
   "metadata": {},
   "outputs": [],
   "source": [
    "second_row = next(itr)\n",
    "second_row"
   ]
  },
  {
   "cell_type": "markdown",
   "metadata": {},
   "source": [
    "Para volver a iterar sobre los resultados de la consulta, necesitamos repetirla.\n",
    "\n",
    "Observar que si lo corro dos veces da error porque el iterador llego al final\n"
   ]
  },
  {
   "cell_type": "code",
   "execution_count": null,
   "metadata": {},
   "outputs": [],
   "source": [
    "for row in results:\n",
    "    print(\"{} : {} views\".format(row.url, row.view_count))"
   ]
  },
  {
   "cell_type": "markdown",
   "metadata": {},
   "source": [
    "Entonces repetimos la consulta usando el mismo objeto `QueryJob` para poder volver a recorrer los resultados:"
   ]
  },
  {
   "cell_type": "code",
   "execution_count": null,
   "metadata": {},
   "outputs": [],
   "source": [
    "results = query_job.result()  # Waits for job to complete."
   ]
  },
  {
   "cell_type": "markdown",
   "metadata": {},
   "source": [
    "Podemos crear un objeto de tipo `pandas.DataFrame` a partir de la instancia de `RowIterator`\n",
    "\n",
    "https://googleapis.dev/python/bigquery/latest/generated/google.cloud.bigquery.job.QueryJob.html#google.cloud.bigquery.job.QueryJob.to_dataframe"
   ]
  },
  {
   "cell_type": "code",
   "execution_count": null,
   "metadata": {},
   "outputs": [],
   "source": [
    "# en teoria esto funciona, pero no:\n",
    "#results_df = results.to_dataframe()\n",
    "\n",
    "#así que armamos el dataframe a mano:"
   ]
  },
  {
   "cell_type": "markdown",
   "metadata": {},
   "source": [
    "El `schema` contiene la metadata del resultado, que es la descripción de cada uno de los campos que lo conforman."
   ]
  },
  {
   "cell_type": "code",
   "execution_count": null,
   "metadata": {},
   "outputs": [],
   "source": [
    "results.schema"
   ]
  },
  {
   "cell_type": "code",
   "execution_count": null,
   "metadata": {},
   "outputs": [],
   "source": [
    "column_headers = [field.name for field in results.schema]\n",
    "rows = [row.values() for row in results]\n",
    "results_df = pd.DataFrame(rows, columns=column_headers)"
   ]
  },
  {
   "cell_type": "code",
   "execution_count": null,
   "metadata": {},
   "outputs": [],
   "source": [
    "results_df"
   ]
  },
  {
   "cell_type": "markdown",
   "metadata": {},
   "source": [
    "Guardamos esos resultados en un archivo local:"
   ]
  },
  {
   "cell_type": "code",
   "execution_count": null,
   "metadata": {},
   "outputs": [],
   "source": [
    "results_df.to_csv('../Data/stackoverflow.csv', sep='\\t', index=False)"
   ]
  },
  {
   "cell_type": "markdown",
   "metadata": {},
   "source": [
    "Vuelvo a ejecutar el job para iterar sobre las filas y mostrar los resultados:"
   ]
  },
  {
   "cell_type": "code",
   "execution_count": null,
   "metadata": {},
   "outputs": [],
   "source": [
    "results = query_job.result()  # Waits for job to complete.\n",
    "\n",
    "for row in results:\n",
    "    print(\"{} : {} views\".format(row.url, row.view_count))"
   ]
  },
  {
   "cell_type": "markdown",
   "metadata": {},
   "source": [
    "## Guardar los resultados de la consulta en un tabla\n",
    "\n",
    "https://cloud.google.com/bigquery/docs/writing-results?authuser=1#saving_query_results_to_a_table\n",
    "\n",
    "En la consola de BigQuery https://console.cloud.google.com/bigquery creamos un dataset llamado `resultados_queries` y dentro de ese dataset vamos a escribir los resultados de la consulta en una tabla llamada `prueba_1`"
   ]
  },
  {
   "cell_type": "code",
   "execution_count": null,
   "metadata": {},
   "outputs": [],
   "source": [
    "# cado uno tiene un id distinto acá\n",
    "project_id = 'clase-53' #'clase-37-286014' \n",
    "\n",
    "# TODO(developer): Set table_id to the ID of the destination table.\n",
    "table_id = project_id + \".resultados_queries.prueba_1\"\n",
    "\n",
    "job_config = bigquery.QueryJobConfig(destination=table_id)\n",
    "\n",
    "sql = \"\"\"\n",
    "    SELECT corpus\n",
    "    FROM `bigquery-public-data.samples.shakespeare`\n",
    "    GROUP BY corpus;\n",
    "\"\"\"\n",
    "\n",
    "# Start the query, passing in the extra configuration.\n",
    "query_job = client.query(sql, job_config=job_config)  # Make an API request.\n",
    "query_job.result()  # Wait for the job to complete.\n",
    "\n",
    "print(\"Query results loaded to the table {}\".format(table_id))"
   ]
  },
  {
   "cell_type": "markdown",
   "metadata": {},
   "source": [
    "Podemos descargar los resultados desde la UI "
   ]
  },
  {
   "cell_type": "markdown",
   "metadata": {},
   "source": [
    "## Delete table\n",
    "\n",
    "https://googleapis.dev/python/bigquery/latest/generated/google.cloud.bigquery.client.Client.html#google.cloud.bigquery.client.Client.delete_table\n",
    "    \n"
   ]
  },
  {
   "cell_type": "code",
   "execution_count": null,
   "metadata": {},
   "outputs": [],
   "source": [
    "client.delete_table(table_id, not_found_ok = True)"
   ]
  },
  {
   "cell_type": "markdown",
   "metadata": {},
   "source": [
    "## Descargar datos de tablas\n",
    "\n",
    "https://cloud.google.com/bigquery/docs/bigquery-storage-python-pandas#download_table_data_using_the_client_library"
   ]
  },
  {
   "cell_type": "code",
   "execution_count": null,
   "metadata": {},
   "outputs": [],
   "source": [
    "import google.auth\n",
    "from google.cloud import bigquery\n",
    "#from google.cloud import bigquery_storage_v1beta1\n",
    "\n",
    "# Explicitly create a credentials object. This allows you to use the same\n",
    "# credentials for both the BigQuery and BigQuery Storage clients, avoiding\n",
    "# unnecessary API calls to fetch duplicate authentication tokens.\n",
    "credentials, your_project_id = google.auth.default(\n",
    "    scopes=[\"https://www.googleapis.com/auth/cloud-platform\"]\n",
    ")\n",
    "\n",
    "# Make clients.\n",
    "bqclient = bigquery.Client(\n",
    "    credentials=credentials,\n",
    "    project=your_project_id,\n",
    ")\n",
    "\n",
    "#bqstorageclient = bigquery_storage_v1beta1.BigQueryStorageClient(\n",
    "#    credentials=credentials\n",
    "#)"
   ]
  },
  {
   "cell_type": "code",
   "execution_count": null,
   "metadata": {},
   "outputs": [],
   "source": [
    "# Download a table.\n",
    "table = bigquery.TableReference.from_string(\n",
    "    \"bigquery-public-data.utility_us.country_code_iso\"\n",
    ")\n",
    "rows = bqclient.list_rows(\n",
    "    table,\n",
    "    selected_fields=[\n",
    "        bigquery.SchemaField(\"country_name\", \"STRING\"),\n",
    "        bigquery.SchemaField(\"fips_code\", \"STRING\"),\n",
    "    ],\n",
    ")\n",
    "\n",
    "# no anda!!\n",
    "#dataframe = rows.to_dataframe(bqstorage_client=bqstorageclient)\n",
    "\n",
    "# opción:\n",
    "column_headers = [field.name for field in rows.schema]\n",
    "rows_df = [row.values() for row in rows]\n",
    "dataframe = pd.DataFrame(rows_df, columns=column_headers)\n",
    "\n",
    "print(dataframe.head())\n",
    "\n"
   ]
  },
  {
   "cell_type": "markdown",
   "metadata": {},
   "source": [
    "## Visualización\n",
    "\n",
    "https://cloud.google.com/bigquery/docs/visualize-jupyter?authuser=1\n",
    "\n"
   ]
  },
  {
   "cell_type": "code",
   "execution_count": null,
   "metadata": {},
   "outputs": [],
   "source": [
    "query_job = client.query(\"\"\"\n",
    "    SELECT\n",
    "    source_year AS year,\n",
    "    COUNT(is_male) AS birth_count\n",
    "    FROM `bigquery-public-data.samples.natality`\n",
    "    GROUP BY year\n",
    "    ORDER BY year DESC\n",
    "    LIMIT 15\"\"\")\n",
    "\n",
    "total_births = query_job.result()  # Waits for job to complete.\n",
    "\n",
    "column_headers = [field.name for field in total_births.schema]\n",
    "rows = [row.values() for row in total_births]\n",
    "total_births_df = pd.DataFrame(rows, columns=column_headers)"
   ]
  },
  {
   "cell_type": "code",
   "execution_count": null,
   "metadata": {},
   "outputs": [],
   "source": [
    "total_births_df.head()"
   ]
  },
  {
   "cell_type": "markdown",
   "metadata": {},
   "source": [
    "Graficamos el resultado"
   ]
  },
  {
   "cell_type": "code",
   "execution_count": null,
   "metadata": {},
   "outputs": [],
   "source": [
    "%matplotlib inline\n",
    "total_births_df.plot(kind='bar', x='year', y='birth_count');"
   ]
  },
  {
   "cell_type": "code",
   "execution_count": null,
   "metadata": {},
   "outputs": [],
   "source": [
    "query_job = client.query(\"\"\"\n",
    "    SELECT\n",
    "    wday,\n",
    "    SUM(CASE WHEN is_male THEN 1 ELSE 0 END) AS male_births,\n",
    "    SUM(CASE WHEN is_male THEN 0 ELSE 1 END) AS female_births\n",
    "    FROM `bigquery-public-data.samples.natality`\n",
    "    WHERE wday IS NOT NULL\n",
    "    GROUP BY wday\n",
    "    ORDER BY wday ASC\"\"\")\n",
    "\n",
    "births_by_weekday = query_job.result()  # Waits for job to complete.\n",
    "\n",
    "column_headers = [field.name for field in births_by_weekday.schema]\n",
    "rows = [row.values() for row in births_by_weekday]\n",
    "births_by_weekday_df = pd.DataFrame(rows, columns=column_headers)"
   ]
  },
  {
   "cell_type": "code",
   "execution_count": null,
   "metadata": {},
   "outputs": [],
   "source": [
    "births_by_weekday_df.plot(x='wday');"
   ]
  },
  {
   "cell_type": "markdown",
   "metadata": {},
   "source": [
    " Observemos que la cantidad de nacimientos disminuye de forma drástica el domingo (1) y el sábado (7)"
   ]
  }
 ],
 "metadata": {
  "kernelspec": {
   "display_name": "Python 3",
   "language": "python",
   "name": "python3"
  },
  "language_info": {
   "codemirror_mode": {
    "name": "ipython",
    "version": 3
   },
   "file_extension": ".py",
   "mimetype": "text/x-python",
   "name": "python",
   "nbconvert_exporter": "python",
   "pygments_lexer": "ipython3",
   "version": "3.8.5"
  }
 },
 "nbformat": 4,
 "nbformat_minor": 4
}
