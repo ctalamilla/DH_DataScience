{
 "cells": [
  {
   "cell_type": "code",
   "execution_count": 1,
   "metadata": {},
   "outputs": [
    {
     "name": "stdout",
     "output_type": "stream",
     "text": [
      "/media/paulati/Nuevo vol/paula/dh/2021/dsad_2021/common\n",
      "default checking\n",
      "Running command `conda list`... ok\n",
      "jupyterlab=2.2.6 already installed\n",
      "pandas=1.1.5 already installed\n",
      "bokeh=2.2.3 already installed\n",
      "seaborn=0.11.0 already installed\n",
      "matplotlib=3.3.2 already installed\n",
      "ipywidgets=7.5.1 already installed\n",
      "pytest=6.2.1 already installed\n",
      "chardet=4.0.0 already installed\n",
      "psutil=5.7.2 already installed\n",
      "scipy=1.5.2 already installed\n",
      "statsmodels=0.12.1 already installed\n",
      "scikit-learn=0.23.2 already installed\n",
      "xlrd=2.0.1 already installed\n",
      "Running command `conda install --yes nltk=3.5.0`... ok\n",
      "Collecting package metadata (current_repodata.json): ...working... done\n",
      "Solving environment: ...working... done\n",
      "\n",
      "# All requested packages already installed.\n",
      "\n",
      "\n",
      "unidecode=1.1.1 already installed\n",
      "pydotplus=2.0.2 already installed\n",
      "pandas-datareader=0.9.0 already installed\n",
      "flask=1.1.2 already installed\n"
     ]
    }
   ],
   "source": [
    "# initial setup\n",
    "%run \"../../../common/0_notebooks_base_setup.py\""
   ]
  },
  {
   "cell_type": "markdown",
   "metadata": {},
   "source": [
    "---\n",
    "\n",
    "<img src='../../../common/logo_DH.png' align='left' width=35%/>\n"
   ]
  },
  {
   "cell_type": "markdown",
   "metadata": {},
   "source": [
    "<a id=\"section_toc\"></a> \n",
    "## Tabla de Contenidos\n",
    "\n",
    "[Intro](#section_intro)\n",
    "\n",
    "$\\hspace{.5cm}$[Definiciones](#section_definiciones)\n",
    "\n",
    "$\\hspace{.5cm}$[Tipos de variables](#section_tipos_variables)\n",
    "\n",
    "[Dataset](#section_dataset)\n",
    "\n",
    "[Problema](#section_problema)\n",
    "\n",
    "[Imports](#section_imports)\n",
    "\n",
    "[Eliminación de duplicados](#section_eliminacion_duplicados)\n",
    "\n",
    "[Reemplazo de valores](#section_reemplazo_valores)\n",
    "\n",
    "[Renombre de índices](#section_renombre_indices)\n",
    "\n",
    "[Discretización y binarización de variables](#section_discretizacion)\n",
    "\n",
    "[Mapeo y transformación de datos](#section_map_transform)\n",
    "\n",
    "[Variables categóricas y dummies](#section_cat_dummies)\n",
    "\n",
    "[Algunos métodos de la clase string](#section_string)\n",
    "\n",
    "\n",
    "---\n"
   ]
  },
  {
   "cell_type": "markdown",
   "metadata": {},
   "source": [
    "<a id=\"section_intro\"></a> \n",
    "## Intro\n",
    "\n",
    "[volver a TOC](#section_toc)\n",
    "\n",
    "<a id=\"section_definiciones\"></a> \n",
    "### Definiciones\n",
    "\n",
    "**Data Wrangling**:\n",
    "\n",
    "Proceso de limpieza y unificación de conjuntos de datos desordenados y complejos para facilitar su acceso, exploración, análisis o modelización posterior.\n",
    "\n",
    "**Data munging**:\n",
    "\n",
    "Proceso de limpiar, preparar y validar los datos.\n",
    "\n",
    "**Extract, Transform and Load (ETL)**:\n",
    "\n",
    "Extraer, transformar y cargar los datos.\n",
    "\n",
    "**Exploratory data analysis (EDA)**:\n",
    "\n",
    "Resumir las principales características de un dataset, a menudo con métodos visuales, sin usar un modelo estadístico o de machine learning. \n",
    "\n",
    "\n",
    "<a id=\"section_tipos_variables\"></a> \n",
    "### Tipos de variables\n",
    "\n",
    "Las variables pueden ser caracterizadas como:\n",
    "\n",
    "* **Cuantitativas**: \n",
    "\n",
    "$\\hspace{.5cm}$ toman valores numéricos, como en el caso de del ingreso de una persona  o el precio de una casa.  \n",
    "\n",
    "* **Cualitativas**: \n",
    "\n",
    "$\\hspace{.5cm}$ toman valores en una de K diferentes clases o categorías.\n",
    "\n",
    "$\\hspace{.5cm}$ Variables cualitativas con dos posibles valores se denomina binaria o dicotómica.\n",
    "\n",
    "$\\hspace{.5cm}$ Tipos de variable cualitativa:\n",
    "\n",
    "$\\hspace{.5cm}$ **Nominal/Categórica**:\n",
    "\n",
    "$\\hspace{.5cm}$ toman valores entre categorías nombradas.\n",
    "\n",
    "$\\hspace{.5cm}$ Se suele asignar valores o rótulos numéricos a las variables categóricas:Estado civil, 0 si soltero y 1 si casado y 2 si divorciado. Los números utilizados para rotular son arbitrarios. En general, el software asume que los valores numéricos reflejan cantidades algebraicas y, por tanto, un orden.\n",
    "\n",
    "$\\hspace{.5cm}$ La principal medida de posición es la moda. \n",
    "\n",
    "$\\hspace{.5cm}$ La mediana y la media no están definidas (y en general cualquier operación numérica tampoco).\n",
    "\n",
    "$\\hspace{.5cm}$ **Ordinal**:\n",
    "\n",
    "$\\hspace{.5cm}$ Es una variable categórica con un orden definido. \n",
    "\n",
    "Un ejemplo puede ser la variable rango_etario, que toma valores \"niño\", \"adolescente\", \"adulto\", \"adulto mayor\" donde está definido un orden \"niño\" < \"adolescente\" < \"adulto\" < \"adulto mayor\"\n",
    "\n",
    "\n",
    "* **Dummy (variable indicadora)** \n",
    "\n",
    "$\\hspace{.5cm}$ son variables cualitativas que toma valores 0 o 1 para indicar la ausencia o presencia de algún atributo o efecto categórico.\n",
    "\n",
    "$\\hspace{.5cm}$ Formalmente una variable dummy puede ser expresada mediante una función indicadora:\n",
    "\n",
    "\\begin{equation}\n",
    "  D_i = \\mathbb{I}_A(x_i) = \\begin{cases} \n",
    "    1, & \\text{si $x_i \\in$ A}\\\\  \n",
    "    0, & \\text{si $x_i \\notin $ A}.\n",
    "  \\end{cases}\n",
    "\\end{equation}\n",
    "\n",
    "$\\hspace{.5cm}$**¿Cuál es la relación entre variables categóricas y variables dummies?**\n",
    "\n",
    " Una variable categórica con N categorías puede ser expresada en términos de N−1 variables dummies (one-hot encoding).\n",
    "\n",
    " Resuelve el problema de interpretar las etiquetas numéricas como un intervalo.\n",
    "\n",
    " Si las categorías tienen muchos valores aumenta considerablemente la dimensionalidad de los datos.\n",
    "\n"
   ]
  },
  {
   "cell_type": "markdown",
   "metadata": {},
   "source": [
    "---\n",
    "\n",
    "<a id=\"section_dataset\"></a> \n",
    "## Dataset\n",
    "\n",
    "[volver a TOC](#section_toc)\n",
    "\n",
    "\n",
    "https://www.kaggle.com/kevinzmith/honey-with-neonic-pesticide\n",
    "\n",
    "Este dataset está inspirado en la producción de miel en EE. UU. Comprende el período 1998-2017. \n",
    "\n",
    "Incluye datos del Proyecto de Síntesis Nacional de Pesticidas de USGS, lo que permite evaluar las conexiones estadísticas entre la producción de miel y el uso de pesticidas neonicotinoides (neónicos).\n",
    "\n",
    "Los datos muestran algunos datos interesantes:\n",
    "* El uso neónico en EE. UU. comenzó alrededor de 2003, pero la disminución de la producción de miel comenzó en años anteriores.\n",
    "* Algunos estados, como Kansas, han visto devastación de colonias de abejas a partir de 2003, cuando el uso neónico recién comenzaba.\n",
    "* Otros estados, como Dakota del Norte, tienen un número aproximadamente estable de colonias de abejas, a pesar del mayor uso de neonics\n",
    "\n",
    "Los campos de este dataset son:\n",
    "\n",
    "* numcol: Número de colonias productoras de miel. Las colonias productoras de miel son el número máximo de colonias de las cuales se extrajo miel durante el año. Es posible tomar miel de colonias que no sobrevivieron durante todo el año.\n",
    "\n",
    "* yieldpercol: Rendimiento de miel por colonia. La unidad es libras\n",
    "\n",
    "* totalprod: TProducción total (numcol x yieldpercol). La unidad es libras\n",
    "\n",
    "* stocks: Se refiere a las existencias en poder de los productores. La unidad es libras\n",
    "\n",
    "* priceperlb: Se refiere al precio promedio por libra en función de las ventas ampliadas. La unidad es dólares.\n",
    "\n",
    "* prodvalue: Valor de producción (totalprod x priceperlb). La unidad es dólares.\n",
    "\n",
    "From USGS Data\n",
    "\n",
    "* nCLOTHIANIDIN: La cantidad en kg de CLOTHIANIDIN aplicado\n",
    "\n",
    "* nIMIDACLOPRID: La cantidad en kg de IMIDACLOPRID aplicado\n",
    "\n",
    "* nTHIAMETHOXAM: La cantidad en kg de THIAMETHOXAM aplicado\n",
    "\n",
    "* nACETAMIPRID: La cantidad en kg de ACETAMIPRID aplicado\n",
    "\n",
    "* nTHIACLOPRID: La cantidad en kg de THIACLOPRID aplicado\n",
    "\n",
    "* nAllNeonic: La cantidad en kg de todos los Neonics aplicados = (nCLOTHIANIDIN + nIMIDACLOPRID + nTHIAMETHOXAM + nACETAMIPRID + nTHIACLOPRID)\n",
    "\n"
   ]
  },
  {
   "cell_type": "markdown",
   "metadata": {},
   "source": [
    "---\n",
    "\n",
    "<a id=\"section_problema\"></a> \n",
    "## Problema\n",
    "\n",
    "[volver a TOC](#section_toc)\n",
    "\n",
    "\n",
    "Usaremos los datos de producción de miel en EEUU para presentar y ejercitar métodos de pandas muy usados en las tareas de data wrangling."
   ]
  },
  {
   "cell_type": "markdown",
   "metadata": {},
   "source": [
    "---\n",
    "\n",
    "<a id=\"section_imports\"></a> \n",
    "## Imports\n",
    "\n",
    "[volver a TOC](#section_toc)\n"
   ]
  },
  {
   "cell_type": "code",
   "execution_count": 2,
   "metadata": {},
   "outputs": [],
   "source": [
    "import pandas as pd\n",
    "import numpy as np"
   ]
  },
  {
   "cell_type": "markdown",
   "metadata": {},
   "source": [
    "Leemos los datos, vemos de qué tipos son las columnas, y mostramos los primeros registros del DataFrame para verificar que cargamos bien los datos."
   ]
  },
  {
   "cell_type": "code",
   "execution_count": 3,
   "metadata": {},
   "outputs": [
    {
     "name": "stdout",
     "output_type": "stream",
     "text": [
      "state             object\n",
      "numcol           float64\n",
      "yieldpercol        int64\n",
      "totalprod        float64\n",
      "stocks           float64\n",
      "priceperlb       float64\n",
      "prodvalue        float64\n",
      "year               int64\n",
      "StateName         object\n",
      "Region            object\n",
      "nCLOTHIANIDIN    float64\n",
      "nIMIDACLOPRID    float64\n",
      "nTHIAMETHOXAM    float64\n",
      "nACETAMIPRID     float64\n",
      "nTHIACLOPRID     float64\n",
      "nAllNeonic       float64\n",
      "dtype: object\n"
     ]
    },
    {
     "data": {
      "text/html": [
       "<div>\n",
       "<style scoped>\n",
       "    .dataframe tbody tr th:only-of-type {\n",
       "        vertical-align: middle;\n",
       "    }\n",
       "\n",
       "    .dataframe tbody tr th {\n",
       "        vertical-align: top;\n",
       "    }\n",
       "\n",
       "    .dataframe thead th {\n",
       "        text-align: right;\n",
       "    }\n",
       "</style>\n",
       "<table border=\"1\" class=\"dataframe\">\n",
       "  <thead>\n",
       "    <tr style=\"text-align: right;\">\n",
       "      <th></th>\n",
       "      <th>state</th>\n",
       "      <th>numcol</th>\n",
       "      <th>yieldpercol</th>\n",
       "      <th>totalprod</th>\n",
       "      <th>stocks</th>\n",
       "      <th>priceperlb</th>\n",
       "      <th>prodvalue</th>\n",
       "      <th>year</th>\n",
       "      <th>StateName</th>\n",
       "      <th>Region</th>\n",
       "      <th>nCLOTHIANIDIN</th>\n",
       "      <th>nIMIDACLOPRID</th>\n",
       "      <th>nTHIAMETHOXAM</th>\n",
       "      <th>nACETAMIPRID</th>\n",
       "      <th>nTHIACLOPRID</th>\n",
       "      <th>nAllNeonic</th>\n",
       "    </tr>\n",
       "  </thead>\n",
       "  <tbody>\n",
       "    <tr>\n",
       "      <th>0</th>\n",
       "      <td>AL</td>\n",
       "      <td>11000.0</td>\n",
       "      <td>56</td>\n",
       "      <td>616000.0</td>\n",
       "      <td>209000.0</td>\n",
       "      <td>1.49</td>\n",
       "      <td>918000.0</td>\n",
       "      <td>2007</td>\n",
       "      <td>Alabama</td>\n",
       "      <td>South</td>\n",
       "      <td>7696.2</td>\n",
       "      <td>3258.1</td>\n",
       "      <td>4149.6</td>\n",
       "      <td>0.0</td>\n",
       "      <td>0.0</td>\n",
       "      <td>15103.9</td>\n",
       "    </tr>\n",
       "    <tr>\n",
       "      <th>1</th>\n",
       "      <td>AL</td>\n",
       "      <td>11000.0</td>\n",
       "      <td>72</td>\n",
       "      <td>792000.0</td>\n",
       "      <td>230000.0</td>\n",
       "      <td>1.21</td>\n",
       "      <td>958000.0</td>\n",
       "      <td>2006</td>\n",
       "      <td>Alabama</td>\n",
       "      <td>South</td>\n",
       "      <td>680.0</td>\n",
       "      <td>4230.2</td>\n",
       "      <td>5371.6</td>\n",
       "      <td>0.0</td>\n",
       "      <td>0.0</td>\n",
       "      <td>10281.8</td>\n",
       "    </tr>\n",
       "    <tr>\n",
       "      <th>2</th>\n",
       "      <td>AL</td>\n",
       "      <td>12000.0</td>\n",
       "      <td>86</td>\n",
       "      <td>1032000.0</td>\n",
       "      <td>103000.0</td>\n",
       "      <td>1.18</td>\n",
       "      <td>1218000.0</td>\n",
       "      <td>2002</td>\n",
       "      <td>Alabama</td>\n",
       "      <td>South</td>\n",
       "      <td>0.0</td>\n",
       "      <td>1178.8</td>\n",
       "      <td>840.4</td>\n",
       "      <td>0.0</td>\n",
       "      <td>0.0</td>\n",
       "      <td>2019.2</td>\n",
       "    </tr>\n",
       "  </tbody>\n",
       "</table>\n",
       "</div>"
      ],
      "text/plain": [
       "  state   numcol  yieldpercol  totalprod    stocks  priceperlb  prodvalue  \\\n",
       "0    AL  11000.0           56   616000.0  209000.0        1.49   918000.0   \n",
       "1    AL  11000.0           72   792000.0  230000.0        1.21   958000.0   \n",
       "2    AL  12000.0           86  1032000.0  103000.0        1.18  1218000.0   \n",
       "\n",
       "   year StateName Region  nCLOTHIANIDIN  nIMIDACLOPRID  nTHIAMETHOXAM  \\\n",
       "0  2007   Alabama  South         7696.2         3258.1         4149.6   \n",
       "1  2006   Alabama  South          680.0         4230.2         5371.6   \n",
       "2  2002   Alabama  South            0.0         1178.8          840.4   \n",
       "\n",
       "   nACETAMIPRID  nTHIACLOPRID  nAllNeonic  \n",
       "0           0.0           0.0     15103.9  \n",
       "1           0.0           0.0     10281.8  \n",
       "2           0.0           0.0      2019.2  "
      ]
     },
     "execution_count": 3,
     "metadata": {},
     "output_type": "execute_result"
    }
   ],
   "source": [
    "data_location = \"../Data/vHoneyNeonic_v02.csv\"\n",
    "data = pd.read_csv(data_location, sep=\",\")\n",
    "print(data.dtypes)\n",
    "data.head(3)"
   ]
  },
  {
   "cell_type": "markdown",
   "metadata": {},
   "source": [
    "Construimos un nuevo DataFrame que tiene la información asociada a los distintos estados de EEUU "
   ]
  },
  {
   "cell_type": "code",
   "execution_count": 4,
   "metadata": {},
   "outputs": [],
   "source": [
    "data_state = data.loc[:, [\"state\", \"StateName\", \"Region\"]]"
   ]
  },
  {
   "cell_type": "markdown",
   "metadata": {},
   "source": [
    "---\n",
    "\n",
    "<a id=\"section_eliminacion_duplicados\"></a> \n",
    "\n",
    "## Eliminación de duplicados\n",
    "\n",
    "[volver a TOC](#section_toc)\n",
    "\n",
    "\n",
    "Para determinar si un DataFrame tiene registros duplicados, primero debemos **definir en qué campos deben coincidir los valores de los registros para considerar que son iguales**.\n",
    "\n",
    "El método `duplicated` de pandas permite definir en el argumento `subset` una lista de columnas a evaluar cuando queremos determinar si dos registros son duplicados. Si no establecemos el valor de este argumento, sólo seran duplicados aquellos registros cuyos valores coincidan en todos los campos.\n",
    "\n",
    "El argumento `keep` toma valores\n",
    "* first: devuelve False (no duplicado) el primer registro encontrado, y True (duplicados) todas las demás apariciones\n",
    "* last: devuelve False (no duplicado) el último registro encontrado, y True (duplicados) todas las demás apariciones\n",
    "* False: devuelve True (duplicado) todos los registros duplicados\n",
    "\n",
    "https://pandas.pydata.org/pandas-docs/stable/reference/api/pandas.DataFrame.duplicated.html\n",
    "\n",
    "\n",
    "El método `drop_duplicates` de pandas devuelve un nuevo DataFrame sin registros duplicados.Los argumentos `subset` y `keep` tienen el mismo comportamiento que en `duplicated`\n",
    "\n",
    "https://pandas.pydata.org/pandas-docs/stable/reference/api/pandas.DataFrame.drop_duplicates.html"
   ]
  },
  {
   "cell_type": "markdown",
   "metadata": {},
   "source": [
    "**Ejercicio**:\n",
    "    \n",
    "A partir del DataFrame data, construyamos otro DataFrame con los datos de estado: \"state\", \"StateName\", \"Region\" y asignemoslo a la variable data_state.\n",
    "\n",
    "Veamos si tiene registros duplicados de dos formas distintas:\n",
    "* Evaluando data\n",
    "* Evaluando data_state\n",
    "\n",
    "Creemos otro DataFrame sin registros duplicados."
   ]
  },
  {
   "cell_type": "code",
   "execution_count": 5,
   "metadata": {},
   "outputs": [
    {
     "name": "stdout",
     "output_type": "stream",
     "text": [
      "registros duplicados en data_state:  True\n",
      "cantidad de registros duplicados en data_state:  781\n",
      "registros duplicados en data (considerando datos de estado):  True\n",
      "cantidad de registros duplicados en data (considerando datos de estado):  781\n",
      "tam con duplicados:  (825, 3)\n",
      "tam sin duplicados:  (44, 3)\n"
     ]
    }
   ],
   "source": [
    "data_state = data.loc[:, [\"state\", \"StateName\", \"Region\"]]\n",
    "\n",
    "#Evaluando data_state\n",
    "data_state_duplicates_mask = data_state.duplicated(keep=\"first\")\n",
    "print(\"registros duplicados en data_state: \", any(data_state_duplicates_mask))\n",
    "print(\"cantidad de registros duplicados en data_state: \", data_state_duplicates_mask.sum())\n",
    "\n",
    "#Evaluando data\n",
    "data_duplicates_statefields =  data.duplicated(subset=[\"state\", \"StateName\", \"Region\"], keep=\"first\")\n",
    "print(\"registros duplicados en data (considerando datos de estado): \", any(data_duplicates_statefields))\n",
    "print(\"cantidad de registros duplicados en data (considerando datos de estado): \", data_duplicates_statefields.sum())\n",
    "\n",
    "data_state_nodup = data_state.drop_duplicates(keep=\"first\")\n",
    "print(\"tam con duplicados: \", data_state.shape)\n",
    "print(\"tam sin duplicados: \", data_state_nodup.shape)"
   ]
  },
  {
   "cell_type": "markdown",
   "metadata": {},
   "source": [
    "Entonces, podríamos mantener los datos de estado en un DataFrame independiente, y mantener en cada registro un campo identificador de estado (que puede ser `state` en este ejemplo) que nos permita mapear con los datos adicionales.\n",
    "\n",
    "Observemos que si bien contamos duplicados en data y en data_state, sólo hacemos drop en data_state. Si lo hicieramos en data perderíamos toda la información de produción por año para cada estado."
   ]
  },
  {
   "cell_type": "markdown",
   "metadata": {},
   "source": [
    "---\n",
    "\n",
    "<a id=\"section_reemplazo_valores\"></a> \n",
    "\n",
    "## Reemplazo de valores\n",
    "\n",
    "[volver a TOC](#section_toc)\n",
    "\n",
    "\n",
    "El método `replace` ofrece varias formas de efectuar reemplazos sobre una serie de Pandas:\n",
    "\n",
    "* Un valor viejo por un valor nuevo.\n",
    "    \n",
    "* Una lista de valores viejos por un valor nuevo.\n",
    "    \n",
    "* Una lista de valores viejos por una lista de valores nuevos.\n",
    "    \n",
    "* Un diccionario que mapee valores nuevos y viejos.\n",
    "\n",
    "\n",
    "https://pandas.pydata.org/pandas-docs/stable/reference/api/pandas.DataFrame.replace.html\n",
    "\n"
   ]
  },
  {
   "cell_type": "markdown",
   "metadata": {},
   "source": [
    "### Un valor viejo por un valor nuevo\n",
    "\n",
    "Reemplacemos las apariciones de \"South\" por \"south\""
   ]
  },
  {
   "cell_type": "code",
   "execution_count": 6,
   "metadata": {},
   "outputs": [
    {
     "data": {
      "text/html": [
       "<div>\n",
       "<style scoped>\n",
       "    .dataframe tbody tr th:only-of-type {\n",
       "        vertical-align: middle;\n",
       "    }\n",
       "\n",
       "    .dataframe tbody tr th {\n",
       "        vertical-align: top;\n",
       "    }\n",
       "\n",
       "    .dataframe thead th {\n",
       "        text-align: right;\n",
       "    }\n",
       "</style>\n",
       "<table border=\"1\" class=\"dataframe\">\n",
       "  <thead>\n",
       "    <tr style=\"text-align: right;\">\n",
       "      <th></th>\n",
       "      <th>state</th>\n",
       "      <th>numcol</th>\n",
       "      <th>yieldpercol</th>\n",
       "      <th>totalprod</th>\n",
       "      <th>stocks</th>\n",
       "      <th>priceperlb</th>\n",
       "      <th>prodvalue</th>\n",
       "      <th>year</th>\n",
       "      <th>StateName</th>\n",
       "      <th>Region</th>\n",
       "      <th>nCLOTHIANIDIN</th>\n",
       "      <th>nIMIDACLOPRID</th>\n",
       "      <th>nTHIAMETHOXAM</th>\n",
       "      <th>nACETAMIPRID</th>\n",
       "      <th>nTHIACLOPRID</th>\n",
       "      <th>nAllNeonic</th>\n",
       "    </tr>\n",
       "  </thead>\n",
       "  <tbody>\n",
       "    <tr>\n",
       "      <th>0</th>\n",
       "      <td>AL</td>\n",
       "      <td>11000.0</td>\n",
       "      <td>56</td>\n",
       "      <td>616000.0</td>\n",
       "      <td>209000.0</td>\n",
       "      <td>1.49</td>\n",
       "      <td>918000.0</td>\n",
       "      <td>2007</td>\n",
       "      <td>Alabama</td>\n",
       "      <td>south</td>\n",
       "      <td>7696.2</td>\n",
       "      <td>3258.1</td>\n",
       "      <td>4149.6</td>\n",
       "      <td>0.0</td>\n",
       "      <td>0.0</td>\n",
       "      <td>15103.9</td>\n",
       "    </tr>\n",
       "    <tr>\n",
       "      <th>1</th>\n",
       "      <td>AL</td>\n",
       "      <td>11000.0</td>\n",
       "      <td>72</td>\n",
       "      <td>792000.0</td>\n",
       "      <td>230000.0</td>\n",
       "      <td>1.21</td>\n",
       "      <td>958000.0</td>\n",
       "      <td>2006</td>\n",
       "      <td>Alabama</td>\n",
       "      <td>south</td>\n",
       "      <td>680.0</td>\n",
       "      <td>4230.2</td>\n",
       "      <td>5371.6</td>\n",
       "      <td>0.0</td>\n",
       "      <td>0.0</td>\n",
       "      <td>10281.8</td>\n",
       "    </tr>\n",
       "    <tr>\n",
       "      <th>2</th>\n",
       "      <td>AL</td>\n",
       "      <td>12000.0</td>\n",
       "      <td>86</td>\n",
       "      <td>1032000.0</td>\n",
       "      <td>103000.0</td>\n",
       "      <td>1.18</td>\n",
       "      <td>1218000.0</td>\n",
       "      <td>2002</td>\n",
       "      <td>Alabama</td>\n",
       "      <td>south</td>\n",
       "      <td>0.0</td>\n",
       "      <td>1178.8</td>\n",
       "      <td>840.4</td>\n",
       "      <td>0.0</td>\n",
       "      <td>0.0</td>\n",
       "      <td>2019.2</td>\n",
       "    </tr>\n",
       "  </tbody>\n",
       "</table>\n",
       "</div>"
      ],
      "text/plain": [
       "  state   numcol  yieldpercol  totalprod    stocks  priceperlb  prodvalue  \\\n",
       "0    AL  11000.0           56   616000.0  209000.0        1.49   918000.0   \n",
       "1    AL  11000.0           72   792000.0  230000.0        1.21   958000.0   \n",
       "2    AL  12000.0           86  1032000.0  103000.0        1.18  1218000.0   \n",
       "\n",
       "   year StateName Region  nCLOTHIANIDIN  nIMIDACLOPRID  nTHIAMETHOXAM  \\\n",
       "0  2007   Alabama  south         7696.2         3258.1         4149.6   \n",
       "1  2006   Alabama  south          680.0         4230.2         5371.6   \n",
       "2  2002   Alabama  south            0.0         1178.8          840.4   \n",
       "\n",
       "   nACETAMIPRID  nTHIACLOPRID  nAllNeonic  \n",
       "0           0.0           0.0     15103.9  \n",
       "1           0.0           0.0     10281.8  \n",
       "2           0.0           0.0      2019.2  "
      ]
     },
     "execution_count": 6,
     "metadata": {},
     "output_type": "execute_result"
    }
   ],
   "source": [
    "data_south = data.replace(\"South\", \"south\")\n",
    "data_south.head(3)"
   ]
  },
  {
   "cell_type": "markdown",
   "metadata": {},
   "source": [
    "### Una lista de valores viejos por un valor nuevo\n",
    "\n",
    "Reemplacemos todos los valores del campo totalprod por np.NaN\n",
    "\n",
    "Para ese creemos una lista de valores únicos con los valores de la columna data.totalprod"
   ]
  },
  {
   "cell_type": "code",
   "execution_count": 7,
   "metadata": {},
   "outputs": [],
   "source": [
    "to_be_replaced = data.totalprod.unique()\n",
    "data_totalprod_null = data.replace(to_be_replaced, np.NaN)"
   ]
  },
  {
   "cell_type": "markdown",
   "metadata": {},
   "source": [
    "Observemos que en este reemplazo no estamos especificando sobre qué columna estamos reemplazando, entonces reemplaza los valores que están en el primer argumento en cualquier campo que aparezcan.\n",
    "\n",
    "Veamos qué porcentaje de nulos había en el DatFrame original y cuántos hay en data_totalprod_null"
   ]
  },
  {
   "cell_type": "code",
   "execution_count": 8,
   "metadata": {},
   "outputs": [
    {
     "data": {
      "text/plain": [
       "state            0.000000\n",
       "numcol           0.000000\n",
       "yieldpercol      0.000000\n",
       "totalprod        0.000000\n",
       "stocks           0.000000\n",
       "priceperlb       0.000000\n",
       "prodvalue        0.000000\n",
       "year             0.000000\n",
       "StateName        0.000000\n",
       "Region           0.000000\n",
       "nCLOTHIANIDIN    0.077576\n",
       "nIMIDACLOPRID    0.077576\n",
       "nTHIAMETHOXAM    0.077576\n",
       "nACETAMIPRID     0.077576\n",
       "nTHIACLOPRID     0.077576\n",
       "nAllNeonic       0.077576\n",
       "dtype: float64"
      ]
     },
     "execution_count": 8,
     "metadata": {},
     "output_type": "execute_result"
    }
   ],
   "source": [
    "data.isnull().sum() / data.shape[0]"
   ]
  },
  {
   "cell_type": "code",
   "execution_count": 9,
   "metadata": {},
   "outputs": [
    {
     "data": {
      "text/plain": [
       "state            0.000000\n",
       "numcol           0.073939\n",
       "yieldpercol      0.000000\n",
       "totalprod        1.000000\n",
       "stocks           0.156364\n",
       "priceperlb       0.000000\n",
       "prodvalue        0.113939\n",
       "year             0.000000\n",
       "StateName        0.000000\n",
       "Region           0.000000\n",
       "nCLOTHIANIDIN    0.077576\n",
       "nIMIDACLOPRID    0.077576\n",
       "nTHIAMETHOXAM    0.077576\n",
       "nACETAMIPRID     0.077576\n",
       "nTHIACLOPRID     0.077576\n",
       "nAllNeonic       0.077576\n",
       "dtype: float64"
      ]
     },
     "execution_count": 9,
     "metadata": {},
     "output_type": "execute_result"
    }
   ],
   "source": [
    "data_totalprod_null.isnull().sum() / data_totalprod_null.shape[0]"
   ]
  },
  {
   "cell_type": "markdown",
   "metadata": {},
   "source": [
    "Vemos que reemplazó todos los valores de `totalprod` y algunos de los valores en `numcol` `stocks` y `prodvalue`"
   ]
  },
  {
   "cell_type": "markdown",
   "metadata": {},
   "source": [
    "### Una lista de valores viejos por una lista de valores nuevos\n",
    "\n",
    "Reemplacemos los valores del campo state por otros que sean el resultado de concatenar el campo region con el campo state, para cada valor de state."
   ]
  },
  {
   "cell_type": "code",
   "execution_count": 10,
   "metadata": {},
   "outputs": [
    {
     "name": "stdout",
     "output_type": "stream",
     "text": [
      "44\n",
      "44\n"
     ]
    }
   ],
   "source": [
    "valores_viejos = data.state.unique()\n",
    "valores_nuevos = (data.Region + \"_\" + data.state).unique()\n",
    "print(len(valores_viejos))\n",
    "print(len(valores_nuevos))"
   ]
  },
  {
   "cell_type": "code",
   "execution_count": 11,
   "metadata": {},
   "outputs": [
    {
     "data": {
      "text/html": [
       "<div>\n",
       "<style scoped>\n",
       "    .dataframe tbody tr th:only-of-type {\n",
       "        vertical-align: middle;\n",
       "    }\n",
       "\n",
       "    .dataframe tbody tr th {\n",
       "        vertical-align: top;\n",
       "    }\n",
       "\n",
       "    .dataframe thead th {\n",
       "        text-align: right;\n",
       "    }\n",
       "</style>\n",
       "<table border=\"1\" class=\"dataframe\">\n",
       "  <thead>\n",
       "    <tr style=\"text-align: right;\">\n",
       "      <th></th>\n",
       "      <th>state</th>\n",
       "      <th>numcol</th>\n",
       "      <th>yieldpercol</th>\n",
       "      <th>totalprod</th>\n",
       "      <th>stocks</th>\n",
       "      <th>priceperlb</th>\n",
       "      <th>prodvalue</th>\n",
       "      <th>year</th>\n",
       "      <th>StateName</th>\n",
       "      <th>Region</th>\n",
       "      <th>nCLOTHIANIDIN</th>\n",
       "      <th>nIMIDACLOPRID</th>\n",
       "      <th>nTHIAMETHOXAM</th>\n",
       "      <th>nACETAMIPRID</th>\n",
       "      <th>nTHIACLOPRID</th>\n",
       "      <th>nAllNeonic</th>\n",
       "    </tr>\n",
       "  </thead>\n",
       "  <tbody>\n",
       "    <tr>\n",
       "      <th>2</th>\n",
       "      <td>South_AL</td>\n",
       "      <td>12000.0</td>\n",
       "      <td>86</td>\n",
       "      <td>1032000.0</td>\n",
       "      <td>103000.0</td>\n",
       "      <td>1.18</td>\n",
       "      <td>1218000.0</td>\n",
       "      <td>2002</td>\n",
       "      <td>Alabama</td>\n",
       "      <td>South</td>\n",
       "      <td>0.0</td>\n",
       "      <td>1178.8</td>\n",
       "      <td>840.4</td>\n",
       "      <td>0.0</td>\n",
       "      <td>0.0</td>\n",
       "      <td>2019.2</td>\n",
       "    </tr>\n",
       "    <tr>\n",
       "      <th>256</th>\n",
       "      <td>Midwest_KS</td>\n",
       "      <td>7000.0</td>\n",
       "      <td>79</td>\n",
       "      <td>553000.0</td>\n",
       "      <td>260000.0</td>\n",
       "      <td>4.18</td>\n",
       "      <td>2312000.0</td>\n",
       "      <td>2017</td>\n",
       "      <td>Kansas</td>\n",
       "      <td>Midwest</td>\n",
       "      <td>NaN</td>\n",
       "      <td>NaN</td>\n",
       "      <td>NaN</td>\n",
       "      <td>NaN</td>\n",
       "      <td>NaN</td>\n",
       "      <td>NaN</td>\n",
       "    </tr>\n",
       "    <tr>\n",
       "      <th>396</th>\n",
       "      <td>South_MS</td>\n",
       "      <td>17000.0</td>\n",
       "      <td>72</td>\n",
       "      <td>1224000.0</td>\n",
       "      <td>649000.0</td>\n",
       "      <td>0.69</td>\n",
       "      <td>845000.0</td>\n",
       "      <td>2000</td>\n",
       "      <td>Mississippi</td>\n",
       "      <td>South</td>\n",
       "      <td>0.0</td>\n",
       "      <td>682.0</td>\n",
       "      <td>169.4</td>\n",
       "      <td>0.0</td>\n",
       "      <td>0.0</td>\n",
       "      <td>851.4</td>\n",
       "    </tr>\n",
       "    <tr>\n",
       "      <th>675</th>\n",
       "      <td>South_TX</td>\n",
       "      <td>133000.0</td>\n",
       "      <td>70</td>\n",
       "      <td>9310000.0</td>\n",
       "      <td>2607000.0</td>\n",
       "      <td>2.08</td>\n",
       "      <td>19365000.0</td>\n",
       "      <td>2016</td>\n",
       "      <td>Texas</td>\n",
       "      <td>South</td>\n",
       "      <td>0.0</td>\n",
       "      <td>13523.5</td>\n",
       "      <td>6855.4</td>\n",
       "      <td>2400.9</td>\n",
       "      <td>0.0</td>\n",
       "      <td>22779.8</td>\n",
       "    </tr>\n",
       "    <tr>\n",
       "      <th>345</th>\n",
       "      <td>Midwest_MI</td>\n",
       "      <td>91000.0</td>\n",
       "      <td>63</td>\n",
       "      <td>5733000.0</td>\n",
       "      <td>1835000.0</td>\n",
       "      <td>2.49</td>\n",
       "      <td>14275000.0</td>\n",
       "      <td>2014</td>\n",
       "      <td>Michigan</td>\n",
       "      <td>Midwest</td>\n",
       "      <td>45281.4</td>\n",
       "      <td>17131.4</td>\n",
       "      <td>20021.4</td>\n",
       "      <td>794.3</td>\n",
       "      <td>1107.0</td>\n",
       "      <td>84335.5</td>\n",
       "    </tr>\n",
       "  </tbody>\n",
       "</table>\n",
       "</div>"
      ],
      "text/plain": [
       "          state    numcol  yieldpercol  totalprod     stocks  priceperlb  \\\n",
       "2      South_AL   12000.0           86  1032000.0   103000.0        1.18   \n",
       "256  Midwest_KS    7000.0           79   553000.0   260000.0        4.18   \n",
       "396    South_MS   17000.0           72  1224000.0   649000.0        0.69   \n",
       "675    South_TX  133000.0           70  9310000.0  2607000.0        2.08   \n",
       "345  Midwest_MI   91000.0           63  5733000.0  1835000.0        2.49   \n",
       "\n",
       "      prodvalue  year    StateName   Region  nCLOTHIANIDIN  nIMIDACLOPRID  \\\n",
       "2     1218000.0  2002      Alabama    South            0.0         1178.8   \n",
       "256   2312000.0  2017       Kansas  Midwest            NaN            NaN   \n",
       "396    845000.0  2000  Mississippi    South            0.0          682.0   \n",
       "675  19365000.0  2016        Texas    South            0.0        13523.5   \n",
       "345  14275000.0  2014     Michigan  Midwest        45281.4        17131.4   \n",
       "\n",
       "     nTHIAMETHOXAM  nACETAMIPRID  nTHIACLOPRID  nAllNeonic  \n",
       "2            840.4           0.0           0.0      2019.2  \n",
       "256            NaN           NaN           NaN         NaN  \n",
       "396          169.4           0.0           0.0       851.4  \n",
       "675         6855.4        2400.9           0.0     22779.8  \n",
       "345        20021.4         794.3        1107.0     84335.5  "
      ]
     },
     "execution_count": 11,
     "metadata": {},
     "output_type": "execute_result"
    }
   ],
   "source": [
    "data_state_modif = data.replace(valores_viejos, valores_nuevos)\n",
    "data_state_modif.sample(5)"
   ]
  },
  {
   "cell_type": "markdown",
   "metadata": {},
   "source": [
    "Observemos que las listas de valores viejos y valores nuevos deben tener la misma longitud."
   ]
  },
  {
   "cell_type": "markdown",
   "metadata": {},
   "source": [
    "### Un diccionario que mapee valores nuevos y viejos\n",
    "\n",
    "Hagamos el mismo reemplazo que en el punto anterior pero usando un diccionario.\n",
    "\n",
    "En este caso se reemplazaran todas las apariciones en el DataFrame de las claves del diccionario por los valores asociados a esas claves."
   ]
  },
  {
   "cell_type": "code",
   "execution_count": 12,
   "metadata": {},
   "outputs": [
    {
     "data": {
      "text/plain": [
       "{'AL': 'South_AL',\n",
       " 'AR': 'South_AR',\n",
       " 'AZ': 'West_AZ',\n",
       " 'CA': 'West_CA',\n",
       " 'CO': 'West_CO',\n",
       " 'FL': 'South_FL',\n",
       " 'GA': 'South_GA',\n",
       " 'HI': 'West_HI',\n",
       " 'IA': 'Midwest_IA',\n",
       " 'ID': 'West_ID',\n",
       " 'IL': 'Midwest_IL',\n",
       " 'IN': 'Midwest_IN',\n",
       " 'KS': 'Midwest_KS',\n",
       " 'KY': 'South_KY',\n",
       " 'LA': 'South_LA',\n",
       " 'MD': 'South_MD',\n",
       " 'ME': 'Northeast_ME',\n",
       " 'MI': 'Midwest_MI',\n",
       " 'MN': 'Midwest_MN',\n",
       " 'MO': 'Midwest_MO',\n",
       " 'MS': 'South_MS',\n",
       " 'MT': 'West_MT',\n",
       " 'NC': 'South_NC',\n",
       " 'ND': 'Midwest_ND',\n",
       " 'NE': 'Midwest_NE',\n",
       " 'NJ': 'Northeast_NJ',\n",
       " 'NM': 'West_NM',\n",
       " 'NV': 'West_NV',\n",
       " 'NY': 'Northeast_NY',\n",
       " 'OH': 'Midwest_OH',\n",
       " 'OK': 'South_OK',\n",
       " 'OR': 'West_OR',\n",
       " 'PA': 'Northeast_PA',\n",
       " 'SC': 'South_SC',\n",
       " 'SD': 'Midwest_SD',\n",
       " 'TN': 'South_TN',\n",
       " 'TX': 'South_TX',\n",
       " 'UT': 'West_UT',\n",
       " 'VA': 'South_VA',\n",
       " 'VT': 'Northeast_VT',\n",
       " 'WA': 'West_WA',\n",
       " 'WI': 'Midwest_WI',\n",
       " 'WV': 'South_WV',\n",
       " 'WY': 'West_WY'}"
      ]
     },
     "execution_count": 12,
     "metadata": {},
     "output_type": "execute_result"
    }
   ],
   "source": [
    "mapping = dict(zip(valores_viejos, valores_nuevos))\n",
    "mapping"
   ]
  },
  {
   "cell_type": "code",
   "execution_count": 13,
   "metadata": {},
   "outputs": [
    {
     "data": {
      "text/html": [
       "<div>\n",
       "<style scoped>\n",
       "    .dataframe tbody tr th:only-of-type {\n",
       "        vertical-align: middle;\n",
       "    }\n",
       "\n",
       "    .dataframe tbody tr th {\n",
       "        vertical-align: top;\n",
       "    }\n",
       "\n",
       "    .dataframe thead th {\n",
       "        text-align: right;\n",
       "    }\n",
       "</style>\n",
       "<table border=\"1\" class=\"dataframe\">\n",
       "  <thead>\n",
       "    <tr style=\"text-align: right;\">\n",
       "      <th></th>\n",
       "      <th>state</th>\n",
       "      <th>numcol</th>\n",
       "      <th>yieldpercol</th>\n",
       "      <th>totalprod</th>\n",
       "      <th>stocks</th>\n",
       "      <th>priceperlb</th>\n",
       "      <th>prodvalue</th>\n",
       "      <th>year</th>\n",
       "      <th>StateName</th>\n",
       "      <th>Region</th>\n",
       "      <th>nCLOTHIANIDIN</th>\n",
       "      <th>nIMIDACLOPRID</th>\n",
       "      <th>nTHIAMETHOXAM</th>\n",
       "      <th>nACETAMIPRID</th>\n",
       "      <th>nTHIACLOPRID</th>\n",
       "      <th>nAllNeonic</th>\n",
       "    </tr>\n",
       "  </thead>\n",
       "  <tbody>\n",
       "    <tr>\n",
       "      <th>616</th>\n",
       "      <td>Northeast_PA</td>\n",
       "      <td>30000.0</td>\n",
       "      <td>37</td>\n",
       "      <td>1110000.0</td>\n",
       "      <td>377000.0</td>\n",
       "      <td>2.13</td>\n",
       "      <td>2364000.0</td>\n",
       "      <td>2010</td>\n",
       "      <td>Pennsylvania</td>\n",
       "      <td>Northeast</td>\n",
       "      <td>5339.0</td>\n",
       "      <td>4065.1</td>\n",
       "      <td>3886.9</td>\n",
       "      <td>1214.6</td>\n",
       "      <td>473.1</td>\n",
       "      <td>14978.7</td>\n",
       "    </tr>\n",
       "    <tr>\n",
       "      <th>245</th>\n",
       "      <td>Midwest_KS</td>\n",
       "      <td>14000.0</td>\n",
       "      <td>80</td>\n",
       "      <td>1120000.0</td>\n",
       "      <td>683000.0</td>\n",
       "      <td>1.18</td>\n",
       "      <td>1322000.0</td>\n",
       "      <td>2004</td>\n",
       "      <td>Kansas</td>\n",
       "      <td>Midwest</td>\n",
       "      <td>7479.3</td>\n",
       "      <td>10636.1</td>\n",
       "      <td>3575.9</td>\n",
       "      <td>20.2</td>\n",
       "      <td>0.0</td>\n",
       "      <td>21711.5</td>\n",
       "    </tr>\n",
       "    <tr>\n",
       "      <th>311</th>\n",
       "      <td>Northeast_ME</td>\n",
       "      <td>11000.0</td>\n",
       "      <td>41</td>\n",
       "      <td>451000.0</td>\n",
       "      <td>266000.0</td>\n",
       "      <td>1.21</td>\n",
       "      <td>546000.0</td>\n",
       "      <td>2002</td>\n",
       "      <td>Maine</td>\n",
       "      <td>Northeast</td>\n",
       "      <td>0.0</td>\n",
       "      <td>4659.4</td>\n",
       "      <td>301.6</td>\n",
       "      <td>0.0</td>\n",
       "      <td>0.0</td>\n",
       "      <td>4961.0</td>\n",
       "    </tr>\n",
       "    <tr>\n",
       "      <th>792</th>\n",
       "      <td>South_WV</td>\n",
       "      <td>6000.0</td>\n",
       "      <td>40</td>\n",
       "      <td>240000.0</td>\n",
       "      <td>50000.0</td>\n",
       "      <td>3.85</td>\n",
       "      <td>924000.0</td>\n",
       "      <td>2017</td>\n",
       "      <td>West Virginia</td>\n",
       "      <td>South</td>\n",
       "      <td>NaN</td>\n",
       "      <td>NaN</td>\n",
       "      <td>NaN</td>\n",
       "      <td>NaN</td>\n",
       "      <td>NaN</td>\n",
       "      <td>NaN</td>\n",
       "    </tr>\n",
       "    <tr>\n",
       "      <th>59</th>\n",
       "      <td>West_AZ</td>\n",
       "      <td>55000.0</td>\n",
       "      <td>60</td>\n",
       "      <td>3300000.0</td>\n",
       "      <td>1485000.0</td>\n",
       "      <td>0.64</td>\n",
       "      <td>2112000.0</td>\n",
       "      <td>1998</td>\n",
       "      <td>Arizona</td>\n",
       "      <td>West</td>\n",
       "      <td>0.0</td>\n",
       "      <td>4814.2</td>\n",
       "      <td>0.0</td>\n",
       "      <td>0.0</td>\n",
       "      <td>0.0</td>\n",
       "      <td>4814.2</td>\n",
       "    </tr>\n",
       "    <tr>\n",
       "      <th>753</th>\n",
       "      <td>West_WA</td>\n",
       "      <td>56000.0</td>\n",
       "      <td>63</td>\n",
       "      <td>3528000.0</td>\n",
       "      <td>1376000.0</td>\n",
       "      <td>0.98</td>\n",
       "      <td>3457000.0</td>\n",
       "      <td>2004</td>\n",
       "      <td>Washington</td>\n",
       "      <td>West</td>\n",
       "      <td>23.6</td>\n",
       "      <td>5227.5</td>\n",
       "      <td>1679.7</td>\n",
       "      <td>6923.3</td>\n",
       "      <td>1762.5</td>\n",
       "      <td>15616.6</td>\n",
       "    </tr>\n",
       "    <tr>\n",
       "      <th>292</th>\n",
       "      <td>South_LA</td>\n",
       "      <td>43000.0</td>\n",
       "      <td>81</td>\n",
       "      <td>3483000.0</td>\n",
       "      <td>279000.0</td>\n",
       "      <td>1.88</td>\n",
       "      <td>6548000.0</td>\n",
       "      <td>2017</td>\n",
       "      <td>Louisiana</td>\n",
       "      <td>South</td>\n",
       "      <td>NaN</td>\n",
       "      <td>NaN</td>\n",
       "      <td>NaN</td>\n",
       "      <td>NaN</td>\n",
       "      <td>NaN</td>\n",
       "      <td>NaN</td>\n",
       "    </tr>\n",
       "  </tbody>\n",
       "</table>\n",
       "</div>"
      ],
      "text/plain": [
       "            state   numcol  yieldpercol  totalprod     stocks  priceperlb  \\\n",
       "616  Northeast_PA  30000.0           37  1110000.0   377000.0        2.13   \n",
       "245    Midwest_KS  14000.0           80  1120000.0   683000.0        1.18   \n",
       "311  Northeast_ME  11000.0           41   451000.0   266000.0        1.21   \n",
       "792      South_WV   6000.0           40   240000.0    50000.0        3.85   \n",
       "59        West_AZ  55000.0           60  3300000.0  1485000.0        0.64   \n",
       "753       West_WA  56000.0           63  3528000.0  1376000.0        0.98   \n",
       "292      South_LA  43000.0           81  3483000.0   279000.0        1.88   \n",
       "\n",
       "     prodvalue  year      StateName     Region  nCLOTHIANIDIN  nIMIDACLOPRID  \\\n",
       "616  2364000.0  2010   Pennsylvania  Northeast         5339.0         4065.1   \n",
       "245  1322000.0  2004         Kansas    Midwest         7479.3        10636.1   \n",
       "311   546000.0  2002          Maine  Northeast            0.0         4659.4   \n",
       "792   924000.0  2017  West Virginia      South            NaN            NaN   \n",
       "59   2112000.0  1998        Arizona       West            0.0         4814.2   \n",
       "753  3457000.0  2004     Washington       West           23.6         5227.5   \n",
       "292  6548000.0  2017      Louisiana      South            NaN            NaN   \n",
       "\n",
       "     nTHIAMETHOXAM  nACETAMIPRID  nTHIACLOPRID  nAllNeonic  \n",
       "616         3886.9        1214.6         473.1     14978.7  \n",
       "245         3575.9          20.2           0.0     21711.5  \n",
       "311          301.6           0.0           0.0      4961.0  \n",
       "792            NaN           NaN           NaN         NaN  \n",
       "59             0.0           0.0           0.0      4814.2  \n",
       "753         1679.7        6923.3        1762.5     15616.6  \n",
       "292            NaN           NaN           NaN         NaN  "
      ]
     },
     "execution_count": 13,
     "metadata": {},
     "output_type": "execute_result"
    }
   ],
   "source": [
    "data_dict = data.replace(mapping)\n",
    "data_dict.sample(7)"
   ]
  },
  {
   "cell_type": "markdown",
   "metadata": {},
   "source": [
    "---\n",
    "\n",
    "<a id=\"section_renombre_indices\"></a> \n",
    "\n",
    "## Renombre de índices \n",
    "\n",
    "[volver a TOC](#section_toc)\n",
    "\n",
    "\n",
    "El método `rename` nos permite cambiar las etiquetas de los ejes índices y columnas.\n",
    "\n",
    "El primer argumento `mapper` es un diccionario que tiene como claves las etiquetas a reemplazar y como valores las etiquetas de reemplazo.\n",
    "\n",
    "El argumento `axis` indica si el reemplazo es sobre el índice o sobre las columnas\n",
    "\n",
    "El argumento `index` es un diccionario. `mapper, axis=0` es equivalente a  `index=mapper`\n",
    "\n",
    "El argumento `columns` es un diccionario. `mapper, axis=1` es equivalente a `columns=mapper`\n",
    "\n",
    "https://pandas.pydata.org/pandas-docs/stable/reference/api/pandas.DataFrame.rename.html"
   ]
  },
  {
   "cell_type": "markdown",
   "metadata": {},
   "source": [
    "Renombremos dos columnas usando los argumentos mapper y axis"
   ]
  },
  {
   "cell_type": "code",
   "execution_count": 14,
   "metadata": {},
   "outputs": [
    {
     "name": "stdout",
     "output_type": "stream",
     "text": [
      "Index(['state', 'numcol', 'yieldpercol', 'totalprod', 'stocks', 'priceperlb',\n",
      "       'prodvalue', 'year', 'StateName', 'Region', 'nCLOTHIANIDIN',\n",
      "       'nIMIDACLOPRID', 'nTHIAMETHOXAM', 'nACETAMIPRID', 'nTHIACLOPRID',\n",
      "       'nAllNeonic'],\n",
      "      dtype='object')\n",
      "Index(['state', 'numcol', 'yieldpercol', 'totalprod', 'stocks', 'priceperlb',\n",
      "       'prodvalue', 'year', 'StateName', 'Region', 'nCLOTHIANIDIN',\n",
      "       'nimidacloprid', 'nthiamethoxam', 'nACETAMIPRID', 'nTHIACLOPRID',\n",
      "       'nAllNeonic'],\n",
      "      dtype='object')\n"
     ]
    }
   ],
   "source": [
    "mapper = {\n",
    "    'nIMIDACLOPRID': 'nimidacloprid', \n",
    "    'nTHIAMETHOXAM': 'nthiamethoxam'    \n",
    "}\n",
    "data_renamed_cols = data.rename(mapper, axis = 1)\n",
    "print(data.columns)\n",
    "print(data_renamed_cols.columns)"
   ]
  },
  {
   "cell_type": "markdown",
   "metadata": {},
   "source": [
    "Repitamoslo usando el argumento columns"
   ]
  },
  {
   "cell_type": "code",
   "execution_count": 15,
   "metadata": {},
   "outputs": [
    {
     "name": "stdout",
     "output_type": "stream",
     "text": [
      "Index(['state', 'numcol', 'yieldpercol', 'totalprod', 'stocks', 'priceperlb',\n",
      "       'prodvalue', 'year', 'StateName', 'Region', 'nCLOTHIANIDIN',\n",
      "       'nIMIDACLOPRID', 'nTHIAMETHOXAM', 'nACETAMIPRID', 'nTHIACLOPRID',\n",
      "       'nAllNeonic'],\n",
      "      dtype='object')\n",
      "Index(['state', 'numcol', 'yieldpercol', 'totalprod', 'stocks', 'priceperlb',\n",
      "       'prodvalue', 'year', 'StateName', 'Region', 'nCLOTHIANIDIN',\n",
      "       'nimidacloprid', 'nthiamethoxam', 'nACETAMIPRID', 'nTHIACLOPRID',\n",
      "       'nAllNeonic'],\n",
      "      dtype='object')\n"
     ]
    }
   ],
   "source": [
    "data_renamed_cols_2 = data.rename(columns = mapper)\n",
    "print(data.columns)\n",
    "print(data_renamed_cols_2.columns)"
   ]
  },
  {
   "cell_type": "markdown",
   "metadata": {},
   "source": [
    "Observemos que sólo se modifican las columnas (o índices) que están especificados en el diccionario de mapping. No hace falta incluir aquellos que no queremos renombrar"
   ]
  },
  {
   "cell_type": "markdown",
   "metadata": {},
   "source": [
    "---\n",
    "\n",
    "<a id=\"section_discretizacion\"></a> \n",
    "\n",
    "## Discretización y binarización de variables\n",
    "\n",
    "[volver a TOC](#section_toc)\n",
    "\n",
    "\n",
    "El proceso de transformar una variable numérica en categórica se llama discretización. \n",
    "\n",
    "El método `cut` separa valores en intervalos discretos, devolviendo el intervalo semi-cerrado al que pertenece cada valor. Permite transformar variables continuas en categóricas .\n",
    "\n",
    "El argumento `bins` puede ser un entero que indica la cantidad de intervalos de igual \"ancho\" a construir, o puede ser una lista en la que especificamos los límites de cada categoría.\n",
    "\n",
    "El argumento `right` indica si el intervalos incluye el valor límite por la derecha.\n",
    "\n",
    "https://pandas.pydata.org/pandas-docs/stable/reference/api/pandas.cut.html\n"
   ]
  },
  {
   "cell_type": "markdown",
   "metadata": {},
   "source": [
    "Queremos definir categorias sobre la variable `numcol` que representa la cantidad de colonias productoras.\n",
    "\n",
    "Veamos algunas estadísticas sobre esta variable\n"
   ]
  },
  {
   "cell_type": "code",
   "execution_count": 16,
   "metadata": {},
   "outputs": [
    {
     "data": {
      "text/plain": [
       "count       825.00000\n",
       "mean      61889.69697\n",
       "std       92857.22783\n",
       "min        2000.00000\n",
       "25%        9000.00000\n",
       "50%       26000.00000\n",
       "75%       65000.00000\n",
       "max      510000.00000\n",
       "Name: numcol, dtype: float64"
      ]
     },
     "execution_count": 16,
     "metadata": {},
     "output_type": "execute_result"
    }
   ],
   "source": [
    "data.numcol.describe()"
   ]
  },
  {
   "cell_type": "markdown",
   "metadata": {},
   "source": [
    "Vemos que el mínimo es 2000 y el máximo 510.000.\n",
    "Definamos estas categoriás:\n",
    "* entre 2000 y 10000    \n",
    "* entre 10000 y 300000\n",
    "* entre 300000 y 65000\n",
    "* más de 65000\n",
    "\n",
    "Pra eso construimos la lista bins con esos valores"
   ]
  },
  {
   "cell_type": "code",
   "execution_count": 17,
   "metadata": {},
   "outputs": [
    {
     "data": {
      "text/plain": [
       "CategoricalDtype(categories=[[2000, 10000), [10000, 30000), [30000, 65000), [65000, 600000)],\n",
       "              ordered=True)"
      ]
     },
     "execution_count": 17,
     "metadata": {},
     "output_type": "execute_result"
    }
   ],
   "source": [
    "# Defino los valores de corte\n",
    "bins = [2000, 10000, 30000, 65000, 600000]\n",
    "\n",
    "numcol_categories = pd.cut(data.numcol, bins, right=False)\n",
    "numcol_categories.dtype"
   ]
  },
  {
   "cell_type": "markdown",
   "metadata": {},
   "source": [
    "Y como esta variable es categórica, podemos usar el método `value_counts` para saber cuantos registros hay en cada categoría.\n",
    "\n",
    "¿Qué pasa si usamos `value_counts` sobre `data.numcol`?"
   ]
  },
  {
   "cell_type": "code",
   "execution_count": 18,
   "metadata": {},
   "outputs": [
    {
     "data": {
      "text/plain": [
       "[10000, 30000)     228\n",
       "[2000, 10000)      215\n",
       "[65000, 600000)    211\n",
       "[30000, 65000)     171\n",
       "Name: numcol, dtype: int64"
      ]
     },
     "execution_count": 18,
     "metadata": {},
     "output_type": "execute_result"
    }
   ],
   "source": [
    "numcol_categories.value_counts()"
   ]
  },
  {
   "cell_type": "markdown",
   "metadata": {},
   "source": [
    "Creamos categorías con etiquetas asociadas usando el argumento `labels`"
   ]
  },
  {
   "cell_type": "code",
   "execution_count": 19,
   "metadata": {},
   "outputs": [
    {
     "data": {
      "text/plain": [
       "muy pocas    240\n",
       "pocas        210\n",
       "muchas       203\n",
       "normal       171\n",
       "Name: numcol, dtype: int64"
      ]
     },
     "execution_count": 19,
     "metadata": {},
     "output_type": "execute_result"
    }
   ],
   "source": [
    "group_labels = ['muy pocas', 'pocas', 'normal', 'muchas' ]\n",
    "numcol_categories_labels = pd.cut(data.numcol, bins, labels=group_labels)\n",
    "numcol_categories_labels.value_counts()"
   ]
  },
  {
   "cell_type": "markdown",
   "metadata": {},
   "source": [
    "### Cuantilos\n",
    "\n",
    "Una alternativa a especificar arbitrariamente los límites de los intervalos es usar cuantilos. \n",
    "\n",
    "Por definición en cada uno de esos conjuntos habrá igual cantidad de elementos.\n",
    "\n",
    "pandas provee el método `qcut` para construirlos.\n",
    "\n",
    "https://pandas.pydata.org/pandas-docs/stable/reference/api/pandas.qcut.html"
   ]
  },
  {
   "cell_type": "markdown",
   "metadata": {},
   "source": [
    "Usando qcut construyamos cuatro categorías para los valores de `data.numcol`\n",
    "\n",
    "Estableciendo en True el valor del argumento `retbins` el método devuelve la categorías y los valores umbral de los bins construídos"
   ]
  },
  {
   "cell_type": "code",
   "execution_count": 20,
   "metadata": {},
   "outputs": [
    {
     "data": {
      "text/plain": [
       "muy pocas    215\n",
       "normal       205\n",
       "muchas       203\n",
       "pocas        202\n",
       "Name: numcol, dtype: int64"
      ]
     },
     "execution_count": 20,
     "metadata": {},
     "output_type": "execute_result"
    }
   ],
   "source": [
    "numcol_qcategories, numcol_qbins = pd.qcut(data.numcol, 4, labels = group_labels, retbins=True)\n",
    "numcol_qcategories.value_counts()"
   ]
  },
  {
   "cell_type": "code",
   "execution_count": 21,
   "metadata": {},
   "outputs": [
    {
     "data": {
      "text/plain": [
       "array([  2000.,   9000.,  26000.,  65000., 510000.])"
      ]
     },
     "execution_count": 21,
     "metadata": {},
     "output_type": "execute_result"
    }
   ],
   "source": [
    "numcol_qbins"
   ]
  },
  {
   "cell_type": "markdown",
   "metadata": {},
   "source": [
    "---\n",
    "\n",
    "<a id=\"section_map_transform\"></a> \n",
    "\n",
    "## Mapeo y transformación de datos\n",
    "\n",
    "[volver a TOC](#section_toc)\n",
    "\n",
    "\n",
    "A partir de un diccionario, podemos crear una nueva columna en un Dataframe donde \n",
    "\n",
    "1) las claves del diccionario se vinculen con la Series de valores de una columna del DataFrame original\n",
    "\n",
    "2) y para cada registro se asigne, en la nueva columna, el valor del diccionario cuya clave es el valor de la Serie 1) en ese registro.\n",
    "\n",
    "**Ejercicio**:\n",
    "\n",
    "Usando un diccionario cambiemos los valores de las categorias definidas en el ejercicio anterior para numcol, para todos los registros de data."
   ]
  },
  {
   "cell_type": "markdown",
   "metadata": {},
   "source": [
    "Agregamos las categorías de numcol asociadas a cada registro al DatFrama data"
   ]
  },
  {
   "cell_type": "code",
   "execution_count": 22,
   "metadata": {},
   "outputs": [
    {
     "name": "stdout",
     "output_type": "stream",
     "text": [
      "Index(['state', 'numcol', 'yieldpercol', 'totalprod', 'stocks', 'priceperlb',\n",
      "       'prodvalue', 'year', 'StateName', 'Region', 'nCLOTHIANIDIN',\n",
      "       'nIMIDACLOPRID', 'nTHIAMETHOXAM', 'nACETAMIPRID', 'nTHIACLOPRID',\n",
      "       'nAllNeonic', 'numcol_cat'],\n",
      "      dtype='object')\n",
      "(825, 16)\n",
      "(825, 17)\n"
     ]
    }
   ],
   "source": [
    "# renombro la series para que no queden dos columnas con el mismo nombre como resultado de concat:\n",
    "numcol_qcategories.name = \"numcol_cat\"\n",
    "data_numcol_cat = pd.concat([data, numcol_qcategories], axis = 1, )\n",
    "print(data_numcol_cat.columns)\n",
    "print(data.shape)\n",
    "print(data_numcol_cat.shape)"
   ]
  },
  {
   "cell_type": "markdown",
   "metadata": {},
   "source": [
    "Construyamos un diccionario que defina este mapeo y usemos ese diccionario para cambiar los valores originales\n",
    "    \n",
    "* pocas -> insuficiente\n",
    "* muy pocas -> insuficiente\n",
    "* normal -> suficiente\n",
    "* muchas -> suficiente\n",
    "\n",
    "Las claves están asociadas a la columna `numcol_cat` y los nuevos valores de cada registro estarán determinados por el valor de ese registro en la columna `numcol_cat` y el mapeo que define el diccionario."
   ]
  },
  {
   "cell_type": "code",
   "execution_count": 23,
   "metadata": {},
   "outputs": [],
   "source": [
    "numcol_cat_mapper = {\n",
    "   'pocas': 'insuficiente', \n",
    "    'muy pocas': 'insuficiente',\n",
    "    'normal': 'suficiente',\n",
    "    'muchas': 'suficiente'\n",
    "}"
   ]
  },
  {
   "cell_type": "code",
   "execution_count": 24,
   "metadata": {},
   "outputs": [
    {
     "data": {
      "text/html": [
       "<div>\n",
       "<style scoped>\n",
       "    .dataframe tbody tr th:only-of-type {\n",
       "        vertical-align: middle;\n",
       "    }\n",
       "\n",
       "    .dataframe tbody tr th {\n",
       "        vertical-align: top;\n",
       "    }\n",
       "\n",
       "    .dataframe thead th {\n",
       "        text-align: right;\n",
       "    }\n",
       "</style>\n",
       "<table border=\"1\" class=\"dataframe\">\n",
       "  <thead>\n",
       "    <tr style=\"text-align: right;\">\n",
       "      <th></th>\n",
       "      <th>state</th>\n",
       "      <th>numcol</th>\n",
       "      <th>yieldpercol</th>\n",
       "      <th>totalprod</th>\n",
       "      <th>stocks</th>\n",
       "      <th>priceperlb</th>\n",
       "      <th>prodvalue</th>\n",
       "      <th>year</th>\n",
       "      <th>StateName</th>\n",
       "      <th>Region</th>\n",
       "      <th>nCLOTHIANIDIN</th>\n",
       "      <th>nIMIDACLOPRID</th>\n",
       "      <th>nTHIAMETHOXAM</th>\n",
       "      <th>nACETAMIPRID</th>\n",
       "      <th>nTHIACLOPRID</th>\n",
       "      <th>nAllNeonic</th>\n",
       "      <th>numcol_cat</th>\n",
       "    </tr>\n",
       "  </thead>\n",
       "  <tbody>\n",
       "    <tr>\n",
       "      <th>668</th>\n",
       "      <td>TX</td>\n",
       "      <td>106000.0</td>\n",
       "      <td>59</td>\n",
       "      <td>6254000.0</td>\n",
       "      <td>1689000.0</td>\n",
       "      <td>2.10</td>\n",
       "      <td>13133000.0</td>\n",
       "      <td>2013</td>\n",
       "      <td>Texas</td>\n",
       "      <td>South</td>\n",
       "      <td>49624.0</td>\n",
       "      <td>54520.1</td>\n",
       "      <td>37905.6</td>\n",
       "      <td>871.2</td>\n",
       "      <td>0.0</td>\n",
       "      <td>142920.9</td>\n",
       "      <td>suficiente</td>\n",
       "    </tr>\n",
       "    <tr>\n",
       "      <th>692</th>\n",
       "      <td>UT</td>\n",
       "      <td>25000.0</td>\n",
       "      <td>57</td>\n",
       "      <td>1425000.0</td>\n",
       "      <td>157000.0</td>\n",
       "      <td>1.28</td>\n",
       "      <td>1824000.0</td>\n",
       "      <td>2003</td>\n",
       "      <td>Utah</td>\n",
       "      <td>West</td>\n",
       "      <td>0.0</td>\n",
       "      <td>45.7</td>\n",
       "      <td>1.7</td>\n",
       "      <td>12.2</td>\n",
       "      <td>0.0</td>\n",
       "      <td>59.6</td>\n",
       "      <td>insuficiente</td>\n",
       "    </tr>\n",
       "    <tr>\n",
       "      <th>510</th>\n",
       "      <td>NM</td>\n",
       "      <td>15000.0</td>\n",
       "      <td>64</td>\n",
       "      <td>960000.0</td>\n",
       "      <td>739000.0</td>\n",
       "      <td>0.72</td>\n",
       "      <td>691000.0</td>\n",
       "      <td>2000</td>\n",
       "      <td>New Mexico</td>\n",
       "      <td>West</td>\n",
       "      <td>0.0</td>\n",
       "      <td>735.3</td>\n",
       "      <td>0.0</td>\n",
       "      <td>0.0</td>\n",
       "      <td>0.0</td>\n",
       "      <td>735.3</td>\n",
       "      <td>insuficiente</td>\n",
       "    </tr>\n",
       "    <tr>\n",
       "      <th>356</th>\n",
       "      <td>MN</td>\n",
       "      <td>126000.0</td>\n",
       "      <td>62</td>\n",
       "      <td>7812000.0</td>\n",
       "      <td>1016000.0</td>\n",
       "      <td>1.86</td>\n",
       "      <td>14530000.0</td>\n",
       "      <td>2017</td>\n",
       "      <td>Minnesota</td>\n",
       "      <td>Midwest</td>\n",
       "      <td>NaN</td>\n",
       "      <td>NaN</td>\n",
       "      <td>NaN</td>\n",
       "      <td>NaN</td>\n",
       "      <td>NaN</td>\n",
       "      <td>NaN</td>\n",
       "      <td>suficiente</td>\n",
       "    </tr>\n",
       "    <tr>\n",
       "      <th>233</th>\n",
       "      <td>IN</td>\n",
       "      <td>8000.0</td>\n",
       "      <td>53</td>\n",
       "      <td>424000.0</td>\n",
       "      <td>119000.0</td>\n",
       "      <td>1.50</td>\n",
       "      <td>636000.0</td>\n",
       "      <td>2007</td>\n",
       "      <td>Indiana</td>\n",
       "      <td>Midwest</td>\n",
       "      <td>45215.8</td>\n",
       "      <td>7096.6</td>\n",
       "      <td>10117.2</td>\n",
       "      <td>40.6</td>\n",
       "      <td>10.2</td>\n",
       "      <td>62480.4</td>\n",
       "      <td>insuficiente</td>\n",
       "    </tr>\n",
       "  </tbody>\n",
       "</table>\n",
       "</div>"
      ],
      "text/plain": [
       "    state    numcol  yieldpercol  totalprod     stocks  priceperlb  \\\n",
       "668    TX  106000.0           59  6254000.0  1689000.0        2.10   \n",
       "692    UT   25000.0           57  1425000.0   157000.0        1.28   \n",
       "510    NM   15000.0           64   960000.0   739000.0        0.72   \n",
       "356    MN  126000.0           62  7812000.0  1016000.0        1.86   \n",
       "233    IN    8000.0           53   424000.0   119000.0        1.50   \n",
       "\n",
       "      prodvalue  year   StateName   Region  nCLOTHIANIDIN  nIMIDACLOPRID  \\\n",
       "668  13133000.0  2013       Texas    South        49624.0        54520.1   \n",
       "692   1824000.0  2003        Utah     West            0.0           45.7   \n",
       "510    691000.0  2000  New Mexico     West            0.0          735.3   \n",
       "356  14530000.0  2017   Minnesota  Midwest            NaN            NaN   \n",
       "233    636000.0  2007     Indiana  Midwest        45215.8         7096.6   \n",
       "\n",
       "     nTHIAMETHOXAM  nACETAMIPRID  nTHIACLOPRID  nAllNeonic    numcol_cat  \n",
       "668        37905.6         871.2           0.0    142920.9    suficiente  \n",
       "692            1.7          12.2           0.0        59.6  insuficiente  \n",
       "510            0.0           0.0           0.0       735.3  insuficiente  \n",
       "356            NaN           NaN           NaN         NaN    suficiente  \n",
       "233        10117.2          40.6          10.2     62480.4  insuficiente  "
      ]
     },
     "execution_count": 24,
     "metadata": {},
     "output_type": "execute_result"
    }
   ],
   "source": [
    "data_numcol_cat['numcol_cat'] = data_numcol_cat['numcol_cat'].map(numcol_cat_mapper)\n",
    "data_numcol_cat.sample(5)"
   ]
  },
  {
   "cell_type": "markdown",
   "metadata": {},
   "source": [
    "Observemos que aplicamos map sobre una columna, no sobre el DataFrame compelto como hacemos con el método `replace`"
   ]
  },
  {
   "cell_type": "code",
   "execution_count": 25,
   "metadata": {},
   "outputs": [
    {
     "data": {
      "text/plain": [
       "insuficiente    417\n",
       "suficiente      408\n",
       "Name: numcol_cat, dtype: int64"
      ]
     },
     "execution_count": 25,
     "metadata": {},
     "output_type": "execute_result"
    }
   ],
   "source": [
    "data_numcol_cat.numcol_cat.value_counts()"
   ]
  },
  {
   "cell_type": "markdown",
   "metadata": {},
   "source": [
    "---\n",
    "\n",
    "<a id=\"section_cat_dummies\"></a> \n",
    "\n",
    "## Variables categóricas y dummies\n",
    "\n",
    "[volver a TOC](#section_toc)\n",
    "\n",
    "Pandas provee con el método pd.get_dummies que recibe una Serie o una lista de Series y realiza el one hot encoding.\n",
    "\n",
    "Recordemos que una variable con k categorías se puede representar con k-1 variables.\n",
    "\n",
    "Por eso un parámetro clave de pd.get_dummies es drop_first = True que genera k-1 categorías en lugar de k.\n",
    "\n",
    "El argumento prefix nos permite establecer un prefijo para el nombre de cada una de las columnas de categorías que representan la variable. Este argumento es especialmente útil cuando construimos dummies de más de una columna de un DataFrame, para evitar confusiones sobre cuál es las variable original que corresponde a cada columna de categoría.\n",
    "\n",
    "**Ejercicio**:\n",
    "\n",
    "Creemos variabels dummies que representen los valores de numcol_qcategories"
   ]
  },
  {
   "cell_type": "code",
   "execution_count": 26,
   "metadata": {},
   "outputs": [
    {
     "data": {
      "text/html": [
       "<div>\n",
       "<style scoped>\n",
       "    .dataframe tbody tr th:only-of-type {\n",
       "        vertical-align: middle;\n",
       "    }\n",
       "\n",
       "    .dataframe tbody tr th {\n",
       "        vertical-align: top;\n",
       "    }\n",
       "\n",
       "    .dataframe thead th {\n",
       "        text-align: right;\n",
       "    }\n",
       "</style>\n",
       "<table border=\"1\" class=\"dataframe\">\n",
       "  <thead>\n",
       "    <tr style=\"text-align: right;\">\n",
       "      <th></th>\n",
       "      <th>numcol_pocas</th>\n",
       "      <th>numcol_normal</th>\n",
       "      <th>numcol_muchas</th>\n",
       "    </tr>\n",
       "  </thead>\n",
       "  <tbody>\n",
       "    <tr>\n",
       "      <th>0</th>\n",
       "      <td>1</td>\n",
       "      <td>0</td>\n",
       "      <td>0</td>\n",
       "    </tr>\n",
       "    <tr>\n",
       "      <th>1</th>\n",
       "      <td>1</td>\n",
       "      <td>0</td>\n",
       "      <td>0</td>\n",
       "    </tr>\n",
       "    <tr>\n",
       "      <th>2</th>\n",
       "      <td>1</td>\n",
       "      <td>0</td>\n",
       "      <td>0</td>\n",
       "    </tr>\n",
       "    <tr>\n",
       "      <th>3</th>\n",
       "      <td>1</td>\n",
       "      <td>0</td>\n",
       "      <td>0</td>\n",
       "    </tr>\n",
       "    <tr>\n",
       "      <th>4</th>\n",
       "      <td>1</td>\n",
       "      <td>0</td>\n",
       "      <td>0</td>\n",
       "    </tr>\n",
       "    <tr>\n",
       "      <th>...</th>\n",
       "      <td>...</td>\n",
       "      <td>...</td>\n",
       "      <td>...</td>\n",
       "    </tr>\n",
       "    <tr>\n",
       "      <th>820</th>\n",
       "      <td>0</td>\n",
       "      <td>1</td>\n",
       "      <td>0</td>\n",
       "    </tr>\n",
       "    <tr>\n",
       "      <th>821</th>\n",
       "      <td>0</td>\n",
       "      <td>1</td>\n",
       "      <td>0</td>\n",
       "    </tr>\n",
       "    <tr>\n",
       "      <th>822</th>\n",
       "      <td>0</td>\n",
       "      <td>1</td>\n",
       "      <td>0</td>\n",
       "    </tr>\n",
       "    <tr>\n",
       "      <th>823</th>\n",
       "      <td>0</td>\n",
       "      <td>1</td>\n",
       "      <td>0</td>\n",
       "    </tr>\n",
       "    <tr>\n",
       "      <th>824</th>\n",
       "      <td>0</td>\n",
       "      <td>1</td>\n",
       "      <td>0</td>\n",
       "    </tr>\n",
       "  </tbody>\n",
       "</table>\n",
       "<p>825 rows × 3 columns</p>\n",
       "</div>"
      ],
      "text/plain": [
       "     numcol_pocas  numcol_normal  numcol_muchas\n",
       "0               1              0              0\n",
       "1               1              0              0\n",
       "2               1              0              0\n",
       "3               1              0              0\n",
       "4               1              0              0\n",
       "..            ...            ...            ...\n",
       "820             0              1              0\n",
       "821             0              1              0\n",
       "822             0              1              0\n",
       "823             0              1              0\n",
       "824             0              1              0\n",
       "\n",
       "[825 rows x 3 columns]"
      ]
     },
     "execution_count": 26,
     "metadata": {},
     "output_type": "execute_result"
    }
   ],
   "source": [
    "numcol_qcategories_dummies = pd.get_dummies(numcol_qcategories, drop_first = True, prefix='numcol')\n",
    "numcol_qcategories_dummies"
   ]
  },
  {
   "cell_type": "markdown",
   "metadata": {},
   "source": [
    "Observemos que eliminó la primer categoría \"muy pocas\""
   ]
  },
  {
   "cell_type": "markdown",
   "metadata": {},
   "source": [
    "---\n",
    "\n",
    "<a id=\"section_string\"></a> \n",
    "\n",
    "## Algunos métodos de la clase string\n",
    "\n",
    "[volver a TOC](#section_toc)\n",
    "\n",
    "(Estos métodos ya los presentamos en la clase de Limpieza de Datos, si no los recuerdan pueden repasarlos a continuación.)\n",
    "\n",
    "https://docs.python.org/3/library/string.html\n",
    "\n",
    "A continuación presentamos algunos métodos sobre string que son muy usados en data wrangling, aplicados en funciones lambda.\n"
   ]
  },
  {
   "cell_type": "markdown",
   "metadata": {},
   "source": [
    "### `split`\n",
    "\n",
    "Devuelve una lista de palabras en un string separadas por el delimitador pasado como parámetro\n",
    "\n",
    "https://docs.python.org/3/library/stdtypes.html#str.split"
   ]
  },
  {
   "cell_type": "code",
   "execution_count": 27,
   "metadata": {},
   "outputs": [
    {
     "data": {
      "text/plain": [
       "['a', 'b', '  guido', ' asjd', ' kle', ' askl']"
      ]
     },
     "execution_count": 27,
     "metadata": {},
     "output_type": "execute_result"
    }
   ],
   "source": [
    "cadena = 'a,b,  guido, asjd, kle, askl'\n",
    "separador = ','\n",
    "cadena_en_partes = cadena.split(separador)\n",
    "cadena_en_partes "
   ]
  },
  {
   "cell_type": "markdown",
   "metadata": {},
   "source": [
    "### `strip`\n",
    "\n",
    "Devuelve una copia de un string, eliminando del comienzo y fin de la cadena los caracteres pasados como parámetro. Si no especificamos el valor del argumento, elimina espacios.\n",
    "\n",
    "https://docs.python.org/3/library/stdtypes.html#str.strip"
   ]
  },
  {
   "cell_type": "code",
   "execution_count": 28,
   "metadata": {},
   "outputs": [
    {
     "name": "stdout",
     "output_type": "stream",
     "text": [
      "Este es el primer ejemplo....wow!!!\n",
      "Este es el segundo ejemplo....wow!!!\n",
      "    0000000Este es el segundo ejemplo....wow!!!\n"
     ]
    }
   ],
   "source": [
    "texto = \"   Este es el primer ejemplo....wow!!!   \";\n",
    "texto_sin_espacios = texto.strip()\n",
    "print(texto_sin_espacios)\n",
    "\n",
    "texto1 = \"0000000Este es el segundo ejemplo....wow!!!0000000\";\n",
    "texto1_sin_ceros = texto1.strip('0')\n",
    "print(texto1_sin_ceros)\n",
    "\n",
    "texto2 = \"    0000000Este es el segundo ejemplo....wow!!!0000000\";\n",
    "texto2_sin_ceros = texto2.strip('0')\n",
    "print(texto2_sin_ceros)\n"
   ]
  },
  {
   "cell_type": "markdown",
   "metadata": {},
   "source": [
    "Observemos que en texto2 no eliminó los espacios iniciales, sólo el caracter establecido en el argumento."
   ]
  },
  {
   "cell_type": "markdown",
   "metadata": {},
   "source": [
    "### `find`\n",
    "\n",
    "Devuelve el mínimo índice donde encontramos como substring el valor pasado como parámetro.\n",
    "\n",
    "Si no lo encuentra devuelve -1\n",
    "\n",
    "https://docs.python.org/3/library/stdtypes.html#str.find"
   ]
  },
  {
   "cell_type": "code",
   "execution_count": 29,
   "metadata": {},
   "outputs": [
    {
     "data": {
      "text/plain": [
       "'a,b,  guido, asjd, kle, askl'"
      ]
     },
     "execution_count": 29,
     "metadata": {},
     "output_type": "execute_result"
    }
   ],
   "source": [
    "cadena"
   ]
  },
  {
   "cell_type": "code",
   "execution_count": 30,
   "metadata": {},
   "outputs": [
    {
     "data": {
      "text/plain": [
       "-1"
      ]
     },
     "execution_count": 30,
     "metadata": {},
     "output_type": "execute_result"
    }
   ],
   "source": [
    "cadena.find(':')"
   ]
  },
  {
   "cell_type": "code",
   "execution_count": 31,
   "metadata": {},
   "outputs": [
    {
     "data": {
      "text/plain": [
       "13"
      ]
     },
     "execution_count": 31,
     "metadata": {},
     "output_type": "execute_result"
    }
   ],
   "source": [
    "cadena.find('as')"
   ]
  },
  {
   "cell_type": "code",
   "execution_count": 32,
   "metadata": {},
   "outputs": [
    {
     "data": {
      "text/plain": [
       "13"
      ]
     },
     "execution_count": 32,
     "metadata": {},
     "output_type": "execute_result"
    }
   ],
   "source": [
    "cadena.find('asj')"
   ]
  },
  {
   "cell_type": "code",
   "execution_count": 33,
   "metadata": {},
   "outputs": [
    {
     "data": {
      "text/plain": [
       "-1"
      ]
     },
     "execution_count": 33,
     "metadata": {},
     "output_type": "execute_result"
    }
   ],
   "source": [
    "cadena.find('asp')"
   ]
  },
  {
   "cell_type": "markdown",
   "metadata": {},
   "source": [
    "Observemos que devuelve el índice del comienzo del string buscado"
   ]
  },
  {
   "cell_type": "markdown",
   "metadata": {},
   "source": [
    "### `index`\n",
    "\n",
    "Es similar a find pero devuelve una excepción de tip `ValueError` cuando no encuentra el valor buscado\n",
    "\n",
    "https://docs.python.org/3/library/stdtypes.html#str.index"
   ]
  },
  {
   "cell_type": "code",
   "execution_count": 34,
   "metadata": {},
   "outputs": [
    {
     "data": {
      "text/plain": [
       "1"
      ]
     },
     "execution_count": 34,
     "metadata": {},
     "output_type": "execute_result"
    }
   ],
   "source": [
    "cadena.index(',')"
   ]
  },
  {
   "cell_type": "code",
   "execution_count": 35,
   "metadata": {},
   "outputs": [
    {
     "ename": "ValueError",
     "evalue": "substring not found",
     "output_type": "error",
     "traceback": [
      "\u001b[0;31m---------------------------------------------------------------------------\u001b[0m",
      "\u001b[0;31mValueError\u001b[0m                                Traceback (most recent call last)",
      "\u001b[0;32m<ipython-input-35-590f262efa53>\u001b[0m in \u001b[0;36m<module>\u001b[0;34m\u001b[0m\n\u001b[0;32m----> 1\u001b[0;31m \u001b[0mcadena\u001b[0m\u001b[0;34m.\u001b[0m\u001b[0mindex\u001b[0m\u001b[0;34m(\u001b[0m\u001b[0;34m':'\u001b[0m\u001b[0;34m)\u001b[0m\u001b[0;34m\u001b[0m\u001b[0;34m\u001b[0m\u001b[0m\n\u001b[0m",
      "\u001b[0;31mValueError\u001b[0m: substring not found"
     ]
    }
   ],
   "source": [
    "cadena.index(':')"
   ]
  },
  {
   "cell_type": "markdown",
   "metadata": {},
   "source": [
    "### `count`\n",
    "\n",
    "Devuelve la cantidad de apariciones del valor pasado como parámetro\n",
    "\n",
    "https://docs.python.org/3/library/stdtypes.html#str.count"
   ]
  },
  {
   "cell_type": "code",
   "execution_count": null,
   "metadata": {},
   "outputs": [],
   "source": [
    "cadena.count(',')"
   ]
  },
  {
   "cell_type": "code",
   "execution_count": null,
   "metadata": {},
   "outputs": [],
   "source": [
    "cadena.count('as')"
   ]
  },
  {
   "cell_type": "markdown",
   "metadata": {},
   "source": [
    "### `replace`\n",
    "\n",
    "Devuelve una copia del string con todas las ocurrencias del primer argumento reemplazadas por el segundo argumento\n",
    "\n",
    "https://docs.python.org/3/library/stdtypes.html#str.replace"
   ]
  },
  {
   "cell_type": "code",
   "execution_count": null,
   "metadata": {},
   "outputs": [],
   "source": [
    "cadena_punto_y_coma = cadena.replace(',', ';')\n",
    "cadena_punto_y_coma"
   ]
  },
  {
   "cell_type": "code",
   "execution_count": null,
   "metadata": {},
   "outputs": [],
   "source": [
    "cadena_qw = cadena.replace('as', 'qw')\n",
    "cadena_qw"
   ]
  },
  {
   "cell_type": "markdown",
   "metadata": {},
   "source": [
    "---\n",
    "\n",
    "#### Referencias\n",
    "\n",
    "Python for Data Analysis. Wes McKinney. Cap 12\n",
    "\n",
    "\n",
    "https://docs.python.org/3/library/string.html"
   ]
  }
 ],
 "metadata": {
  "kernelspec": {
   "display_name": "Python 3",
   "language": "python",
   "name": "python3"
  },
  "language_info": {
   "codemirror_mode": {
    "name": "ipython",
    "version": 3
   },
   "file_extension": ".py",
   "mimetype": "text/x-python",
   "name": "python",
   "nbconvert_exporter": "python",
   "pygments_lexer": "ipython3",
   "version": "3.8.5"
  }
 },
 "nbformat": 4,
 "nbformat_minor": 4
}
