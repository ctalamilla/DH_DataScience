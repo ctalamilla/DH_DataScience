{
 "cells": [
  {
   "cell_type": "code",
   "execution_count": null,
   "id": "sunrise-combat",
   "metadata": {},
   "outputs": [],
   "source": [
    "# initial setup\n",
    "%run \"../../../common/0_notebooks_base_setup.py\"\n"
   ]
  },
  {
   "cell_type": "markdown",
   "id": "liable-danger",
   "metadata": {},
   "source": [
    "---\n",
    "\n",
    "<img src='../../../common/logo_DH.png' align='left' width=35%/>"
   ]
  },
  {
   "cell_type": "markdown",
   "id": "changed-carry",
   "metadata": {},
   "source": [
    "# Descenso gradiente"
   ]
  },
  {
   "cell_type": "markdown",
   "id": "stylish-values",
   "metadata": {},
   "source": [
    "Vamos a usar el dataset de propiedades en Boston (https://www.kaggle.com/c/boston-housing) y tratar de predecir el valor de `medv` usando una regresión lineal múltiple.\n",
    "\n",
    "Para eso, vamos a modificar la clase `MyGradientDescent` presentada en el encuentro sincrónico y usarla para entrenar un modelo de regresión lineal múltiple y uno simple."
   ]
  },
  {
   "cell_type": "markdown",
   "id": "happy-basement",
   "metadata": {},
   "source": [
    "Ayuda: \n",
    "\n",
    "<p style=\"font-size:16px;\">\n",
    "$h =  \\beta_0 + \\beta_1. X_1 + \\beta_2. X_2 + \\beta_3. X_3 + ... + \\beta_m. X_m$\n",
    "</p>\n",
    "\n",
    "i es el índice de la fila en el dataset\n",
    "\n",
    "<p style=\"font-size:16px;\">\n",
    "$h_i =  \\beta_0 + \\beta_1. X_{i1} + \\beta_2. X_{i2} + \\beta_3. X_{i3} + ... + \\beta_m. X_{im}$\n",
    "</p>    \n",
    "\n",
    "Update: \n",
    "\n",
    "<p style=\"font-size:16px;\">\n",
    "$\\beta_0 = \\beta_0 - \\alpha \\frac{1}{N} \\sum (h_i - y_i)$\n",
    "</p>    \n",
    "<p style=\"font-size:16px;\">\n",
    "$\\beta_i = \\beta_i - \\alpha \\frac{1}{N} \\sum (h_i - y_i). X_i$\n",
    "</p>    \n",
    "\n",
    "Costo (error cuadrático medio): \n",
    "<p style=\"font-size:16px;\">    \n",
    "$J(\\beta_0, ..., \\beta_m) = \\frac{1}{N} \\sum_{i=1}^N (h_i - y_i)^2  $\n",
    "</p>\n",
    "Gradiente: \n",
    "\n",
    "<p style=\"font-size:16px;\">    \n",
    "$\\frac{\\partial J(\\beta_0, ..., \\beta_m)}{\\partial \\beta_j} = \\frac{2}{N} \\sum_{i=1}^N (h_i - y_i). X_{ij} $\n",
    "</p>    \n",
    "\n",
    "N es el número de observaciones o filas del dataset\n",
    "\n",
    "Entonces \n",
    "\n",
    "$\\beta_0 = \\beta_0 - \\alpha .\\frac{2}{N} \\sum_{i=1}^N (h_i - y_i). X_{i0}$\n",
    "\n",
    "como $X_{i0} = 1$ queda:\n",
    "\n",
    "$\\beta_0 = \\beta_0 - \\alpha .\\frac{2}{N} \\sum_{i=1}^N (h_i - y_i)$\n",
    "\n",
    "$\\beta_1 = \\beta_1 - \\alpha .\\frac{2}{N} \\sum_{i=1}^N (h_i - y_i). X_{i1}$\n",
    "\n",
    "$\\beta_2 = \\beta_2 - \\alpha .\\frac{2}{N} \\sum_{i=1}^N (h_i - y_i). X_{i2}$\n",
    "\n",
    "... \n",
    "\n",
    "$\\beta_j = \\beta_j - \\alpha .\\frac{2}{N} \\sum_{i=1}^N (h_i - y_i). X_{ij}$\n",
    "\n",
    "\n",
    "$\\alpha$ = Learning Rate"
   ]
  },
  {
   "cell_type": "markdown",
   "id": "subtle-somewhere",
   "metadata": {},
   "source": [
    "## Imports"
   ]
  },
  {
   "cell_type": "code",
   "execution_count": null,
   "id": "pleased-vatican",
   "metadata": {},
   "outputs": [],
   "source": [
    "import pandas as pd\n",
    "import numpy as np\n",
    "import matplotlib.pyplot as plt\n",
    "import seaborn as sns\n",
    "\n",
    "from sklearn.model_selection import train_test_split\n",
    "from sklearn.metrics import mean_squared_error\n",
    "from sklearn.preprocessing import StandardScaler"
   ]
  },
  {
   "cell_type": "markdown",
   "id": "historical-settlement",
   "metadata": {},
   "source": [
    "## Ejercicio 1\n",
    "\n",
    "Leer los datos del archivo `Data/boston_data.csv` en un dataframe y construir un heatmap de correlaciones entre sus columnas"
   ]
  },
  {
   "cell_type": "code",
   "execution_count": null,
   "id": "instrumental-range",
   "metadata": {},
   "outputs": [],
   "source": [
    "data = pd.read_csv('../Data/boston_data.csv')\n",
    "\n",
    "data.head()"
   ]
  },
  {
   "cell_type": "code",
   "execution_count": null,
   "id": "cheap-school",
   "metadata": {},
   "outputs": [],
   "source": [
    "sns.heatmap(data.corr());"
   ]
  },
  {
   "cell_type": "markdown",
   "id": "hawaiian-frame",
   "metadata": {},
   "source": [
    "## Ejercicio 2 \n",
    "\n",
    "La variable target del modelo es `medv`.\n",
    "\n",
    "Seleccionar como variables predictoras las tres variables que tengan mayor correlación (en valor absoluto) con la variable target.\n",
    "\n",
    "Construir los conjuntos de train y test y normalizar las features."
   ]
  },
  {
   "cell_type": "code",
   "execution_count": null,
   "id": "seven-marine",
   "metadata": {},
   "outputs": [],
   "source": [
    "abs(data.corr()['medv']).sort_values()"
   ]
  },
  {
   "cell_type": "code",
   "execution_count": null,
   "id": "caring-jamaica",
   "metadata": {},
   "outputs": [],
   "source": [
    "features = ['lstat', 'rm', 'ptratio']\n",
    "X_features = data[features]\n",
    "y = data['medv']"
   ]
  },
  {
   "cell_type": "code",
   "execution_count": null,
   "id": "advisory-consensus",
   "metadata": {},
   "outputs": [],
   "source": [
    "X_train, X_test, y_train, y_test = train_test_split(X_features, y, random_state = 12)"
   ]
  },
  {
   "cell_type": "code",
   "execution_count": null,
   "id": "elegant-wednesday",
   "metadata": {},
   "outputs": [],
   "source": [
    "scaler = StandardScaler()\n",
    "X_train_scl = scaler.fit_transform(X_train)\n",
    "X_test_scl = scaler.transform(X_test)"
   ]
  },
  {
   "cell_type": "markdown",
   "id": "disabled-wheat",
   "metadata": {},
   "source": [
    "## Ejercicio 3\n",
    "\n",
    "Modificar la clase `MyGradientDescent` presentada en el encuentro sincrónico para resolver ahora una regresión **múltiple** usando descenso gradiente.\n",
    "\n",
    "```\n",
    "\n",
    "class MyGradientDescent():\n",
    "    def __init__(self, learning_rate):\n",
    "        self.learning_rate = learning_rate\n",
    "        self.beta1 = 0\n",
    "        self.beta0 = 0\n",
    "          \n",
    "    def fit(self, X, y, epochs = 100):\n",
    "        N = len(X)\n",
    "        history = []\n",
    "        \n",
    "        for e in range(epochs):\n",
    "            for i in range(N):\n",
    "                Xi = X[i, :]\n",
    "                yi = y.iloc[i]                 \n",
    "                \n",
    "                hi = self.beta1 * Xi + self.beta0\n",
    "                f = hi - yi\n",
    "                \n",
    "                self.beta1 -= self.learning_rate * 2 / N * f * Xi\n",
    "                self.beta0 -= self.learning_rate * 2 / N * f \n",
    "\n",
    "            loss = 0\n",
    "            loss = mean_squared_error(y, (self.beta1 * X + self.beta0))\n",
    "                                      \n",
    "            if e % 100 == 0:\n",
    "                print(f\"Epoch: {e}, Loss: {loss})\")\n",
    "            \n",
    "            history.append(loss)\n",
    "                                      \n",
    "        return history\n",
    "                \n",
    "    def predict(self, X):\n",
    "        return self.beta1 * X + self.beta0\n",
    "\n",
    "\n",
    "```\n",
    "\n",
    "Tener en cuenta las fórmulas presentadas en la ayuda al inicio de la notebook."
   ]
  },
  {
   "cell_type": "code",
   "execution_count": null,
   "id": "going-marketplace",
   "metadata": {},
   "outputs": [],
   "source": [
    "class MyGradientDescentMultiple():\n",
    "    \n",
    "    def __init__(self, learning_rate, m):\n",
    "        self.learning_rate = learning_rate\n",
    "        self.betas = np.repeat(0, m)\n",
    "        self.beta0 = 0\n",
    "          \n",
    "    def fit(self, X, y, epochs = 100):\n",
    "        N = len(X)\n",
    "        m = X.shape[1] \n",
    "        history = []\n",
    "        \n",
    "        for e in range(epochs):\n",
    "            gradiente_0 = 0\n",
    "            gradiente = np.repeat(0, m)\n",
    "            for i in range(N):\n",
    "                Xi = X[i, :]\n",
    "                yi = y.iloc[i]                 \n",
    "\n",
    "                hi = np.dot(Xi, self.betas) + self.beta0    \n",
    "                gradiente = gradiente + (hi - yi) * Xi\n",
    "                gradiente_0 = gradiente_0 + (hi - yi)\n",
    "\n",
    "\n",
    "            self.beta0 = self.beta0 - self.learning_rate * 2 / N * gradiente_0   \n",
    "            self.betas = self.betas - self.learning_rate * 2 / N * gradiente\n",
    "                    \n",
    "            pred = np.dot(X, self.betas) + self.beta0\n",
    "            loss = mean_squared_error(y, pred)\n",
    "                                      \n",
    "            if e % 100 == 0:\n",
    "                print(f\"Epoch: {e}, Loss: {loss})\")\n",
    "            \n",
    "            history.append(loss)\n",
    "                                      \n",
    "        return history\n",
    "            \n",
    "    def predict(self, X):\n",
    "        return np.dot(X, self.betas) + self.beta0"
   ]
  },
  {
   "cell_type": "markdown",
   "id": "adjacent-heaven",
   "metadata": {},
   "source": [
    "## Ejercicio 4\n",
    "\n",
    "Entrenar la regresión lineal múltiple con tres variables predictoras usando la clase que definieron en el ejercicio 3.\n",
    "\n",
    "Evaluar la performance en test mediante el error cuadrático medio."
   ]
  },
  {
   "cell_type": "code",
   "execution_count": null,
   "id": "executive-celebrity",
   "metadata": {},
   "outputs": [],
   "source": [
    "model = MyGradientDescentMultiple(learning_rate = 0.01, m = 3)\n",
    "history = model.fit(X_train_scl, y_train, 1000)\n",
    "\n",
    "predictions = model.predict(X_test_scl)"
   ]
  },
  {
   "cell_type": "code",
   "execution_count": null,
   "id": "celtic-bubble",
   "metadata": {},
   "outputs": [],
   "source": [
    "mean_squared_error(y_test, predictions)"
   ]
  },
  {
   "cell_type": "markdown",
   "id": "concrete-sunglasses",
   "metadata": {},
   "source": [
    "## Ejercicio 5\n",
    "\n",
    "Graficar el valor de pérdida en función de las épocas"
   ]
  },
  {
   "cell_type": "code",
   "execution_count": null,
   "id": "cardiovascular-perth",
   "metadata": {},
   "outputs": [],
   "source": [
    "sns.lineplot(x = range(len(history)), y = history);"
   ]
  },
  {
   "cell_type": "markdown",
   "id": "genetic-sunset",
   "metadata": {},
   "source": [
    "## Ejercicio 6\n",
    "\n",
    "Usar la misma clase del ejercicio 3 para ajustar una regresión lineal simple cuya variable predictora sea `lstat` y comprobar que esta clase da el mismo resultado que `MyGradientDescent`\n",
    "\n",
    "Graficar en un scatterplot los datos de test y los predichos por el modelo."
   ]
  },
  {
   "cell_type": "code",
   "execution_count": null,
   "id": "future-feedback",
   "metadata": {},
   "outputs": [],
   "source": [
    "features = ['lstat']\n",
    "X_features = data[features]\n",
    "y = data['medv']"
   ]
  },
  {
   "cell_type": "code",
   "execution_count": null,
   "id": "adapted-communist",
   "metadata": {},
   "outputs": [],
   "source": [
    "X_train, X_test, y_train, y_test = train_test_split(X_features, y, random_state = 12)"
   ]
  },
  {
   "cell_type": "code",
   "execution_count": null,
   "id": "addressed-psychiatry",
   "metadata": {},
   "outputs": [],
   "source": [
    "scaler = StandardScaler()\n",
    "X_train_scl = scaler.fit_transform(X_train)\n",
    "X_test_scl = scaler.transform(X_test)"
   ]
  },
  {
   "cell_type": "code",
   "execution_count": null,
   "id": "assured-characterization",
   "metadata": {},
   "outputs": [],
   "source": [
    "model_simple = MyGradientDescentMultiple(learning_rate = 0.01, m = 1)\n",
    "history = model_simple.fit(X_train_scl, y_train, 1000)\n",
    "\n",
    "predictions = model_simple.predict(X_test_scl)"
   ]
  },
  {
   "cell_type": "code",
   "execution_count": null,
   "id": "shared-franklin",
   "metadata": {},
   "outputs": [],
   "source": [
    "print(model_simple.betas)\n",
    "print(model_simple.beta0)"
   ]
  },
  {
   "cell_type": "code",
   "execution_count": null,
   "id": "superior-discount",
   "metadata": {},
   "outputs": [],
   "source": [
    "mean_squared_error(y_test, predictions)"
   ]
  },
  {
   "cell_type": "code",
   "execution_count": null,
   "id": "resident-rhythm",
   "metadata": {},
   "outputs": [],
   "source": [
    "sns.lineplot(x = range(len(history)), y = history);"
   ]
  },
  {
   "cell_type": "code",
   "execution_count": null,
   "id": "small-madagascar",
   "metadata": {},
   "outputs": [],
   "source": [
    "sns.scatterplot(x = X_test_scl[:, 0], y = y_test )\n",
    "sns.lineplot(x = X_test_scl[:, 0], y = predictions, color=\"orange\");"
   ]
  },
  {
   "cell_type": "markdown",
   "id": "enormous-district",
   "metadata": {},
   "source": [
    "Ahora veamos que devuelve `MyGradientDescent`"
   ]
  },
  {
   "cell_type": "code",
   "execution_count": null,
   "id": "soviet-destiny",
   "metadata": {},
   "outputs": [],
   "source": [
    "class MyGradientDescent():\n",
    "    def __init__(self, learning_rate):\n",
    "        self.learning_rate = learning_rate\n",
    "        self.beta1 = 0\n",
    "        self.beta0 = 0\n",
    "          \n",
    "    def fit(self, X, y, epochs = 100):\n",
    "        N = len(X)\n",
    "        history = []\n",
    "        \n",
    "        for e in range(epochs):\n",
    "            for i in range(N):\n",
    "                Xi = X[i, :]\n",
    "                yi = y.iloc[i] \n",
    "                \n",
    "                hi = self.beta1 * Xi + self.beta0\n",
    "                f = hi - yi\n",
    "                \n",
    "                self.beta1 -= self.learning_rate * 2 / N * f * Xi\n",
    "                self.beta0 -= self.learning_rate * 2 / N * f \n",
    "\n",
    "            loss = 0\n",
    "            loss = mean_squared_error(y, (self.beta1 * X + self.beta0))\n",
    "                                      \n",
    "            if e % 100 == 0:\n",
    "                print(f\"Epoch: {e}, Loss: {loss})\")\n",
    "            \n",
    "            history.append(loss)\n",
    "                                      \n",
    "        return history\n",
    "                \n",
    "    def predict(self, X):\n",
    "        return self.beta1 * X + self.beta0"
   ]
  },
  {
   "cell_type": "code",
   "execution_count": null,
   "id": "potential-knock",
   "metadata": {},
   "outputs": [],
   "source": [
    "model_lineal_simple = MyGradientDescent(learning_rate = 0.01)\n",
    "history = model_lineal_simple.fit(X_train_scl, y_train, 1000)\n",
    "\n",
    "predictions = model_lineal_simple.predict(X_test_scl)"
   ]
  },
  {
   "cell_type": "code",
   "execution_count": null,
   "id": "behind-sullivan",
   "metadata": {},
   "outputs": [],
   "source": [
    "print(model_lineal_simple.beta1)\n",
    "print(model_lineal_simple.beta0)"
   ]
  },
  {
   "cell_type": "code",
   "execution_count": null,
   "id": "level-calvin",
   "metadata": {},
   "outputs": [],
   "source": [
    "mean_squared_error(y_test, predictions)"
   ]
  },
  {
   "cell_type": "markdown",
   "id": "fifty-former",
   "metadata": {},
   "source": [
    "## Ejercicio 7 - Opcional\n",
    "\n",
    "Intenten entrenar un modelo con cinco variables predictoras. \n",
    "\n",
    "Posiblemente tengan que probar distintos valores de learning rate para conseguir resultados aceptables."
   ]
  },
  {
   "cell_type": "markdown",
   "id": "valuable-washington",
   "metadata": {},
   "source": [
    "## Conclusión\n",
    "\n",
    "Implementando de forma más general la clase `MyGradientDescent` logramos usar el mismo código para resolver regresiones lineales simples y múltiples con descenso gradiente."
   ]
  },
  {
   "cell_type": "markdown",
   "id": "destroyed-cornwall",
   "metadata": {},
   "source": [
    "## Referencias\n",
    "\n",
    "---\n",
    "\n",
    "https://towardsdatascience.com/multivariate-linear-regression-in-python-step-by-step-128c2b127171\n",
    "\n",
    "https://towardsdatascience.com/gradient-descent-in-python-a0d07285742f\n"
   ]
  }
 ],
 "metadata": {
  "kernelspec": {
   "display_name": "Python 3",
   "language": "python",
   "name": "python3"
  },
  "language_info": {
   "codemirror_mode": {
    "name": "ipython",
    "version": 3
   },
   "file_extension": ".py",
   "mimetype": "text/x-python",
   "name": "python",
   "nbconvert_exporter": "python",
   "pygments_lexer": "ipython3",
   "version": "3.8.5"
  }
 },
 "nbformat": 4,
 "nbformat_minor": 5
}
