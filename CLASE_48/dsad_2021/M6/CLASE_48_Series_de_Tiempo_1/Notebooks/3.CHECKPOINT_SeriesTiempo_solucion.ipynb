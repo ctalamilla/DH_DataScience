{
 "cells": [
  {
   "cell_type": "code",
   "execution_count": null,
   "metadata": {},
   "outputs": [],
   "source": [
    "# initial setup\n",
    "%run \"../../../common/0_notebooks_base_setup.py\"\n"
   ]
  },
  {
   "cell_type": "markdown",
   "metadata": {},
   "source": [
    "<img src='../../../common/logo_DH.png' align='left' width=35%/>"
   ]
  },
  {
   "cell_type": "markdown",
   "metadata": {},
   "source": [
    "# Series de Tiempo - Checkpoint\n",
    "\n",
    "<br/> \n",
    "\n",
    "<div id=\"caja11\" style=\"float:left;width: 100%;\">\n",
    "  <div style=\"float:left;width: 9%;\"><img src=\"../../../common/icons/haciendo_foco.png\" style=\"align:left\"/> </div>\n",
    "  <br>\n",
    "  <div style=\"float:left;width: 85%;\">\n",
    "      <label>Vamos a poner en práctica lo aprendido en la notebook de práctica guiada.</label>\n",
    "  <div style=\"float:left;width: 85%;\">\n",
    "      <label>Es importante que antes de la clase resuelvan esta notebook ya que es fundamental que sepan utilizar las herramientas que vimos en la práctica guiada para después trabajar el caso práctico en la clase.</label>        \n",
    "</div>    \n",
    "</div>"
   ]
  },
  {
   "cell_type": "code",
   "execution_count": null,
   "metadata": {},
   "outputs": [],
   "source": [
    "import pandas as pd\n",
    "import numpy as np\n",
    "\n",
    "import matplotlib.pyplot as plt\n",
    "import matplotlib as mpl\n",
    "import seaborn as sns\n",
    "%matplotlib inline\n",
    "\n",
    "import statsmodels.api as sm\n",
    "import statsmodels.formula.api as smf\n",
    "import statsmodels.tsa.api as smt\n",
    "\n",
    "from scipy import stats\n",
    "from statistics import mode\n",
    "\n",
    "from sklearn.model_selection import train_test_split\n",
    "\n",
    "from statsmodels.tsa.stattools import adfuller\n",
    "from statsmodels.tsa.stattools import acf, pacf\n",
    "from statsmodels.graphics.tsaplots import plot_acf, plot_pacf\n",
    "from statsmodels.tsa.arima_model import ARIMA\n",
    "\n",
    "import warnings\n",
    "warnings.filterwarnings('ignore')\n",
    "\n",
    "from checkpoint_series_tiempo import *"
   ]
  },
  {
   "cell_type": "markdown",
   "metadata": {},
   "source": [
    "#### Pongamos en práctica las herramientas que vimos en la práctica guiada: \n",
    "\n",
    "En este caso, nuestra variable de interés el el precio de la cebolla en India. Contamos con un dataset con información desagregada por ciudad. "
   ]
  },
  {
   "cell_type": "code",
   "execution_count": null,
   "metadata": {},
   "outputs": [],
   "source": [
    "df = pd.read_csv('../Data/cebolla_india.csv')\n",
    "df.shape"
   ]
  },
  {
   "cell_type": "code",
   "execution_count": null,
   "metadata": {},
   "outputs": [],
   "source": [
    "df.head()"
   ]
  },
  {
   "cell_type": "markdown",
   "metadata": {},
   "source": [
    "El dataset tiene tres columnas (features o variables) sobre la ubicación del mercado mayorista donde se vendió cebolla:\n",
    "\n",
    "* **state**: esta es la abreviatura de 2/3 letras para el estado en India (PB es Punjab, etc.)\n",
    "* **ciudad**: esta es la ciudad en India (ABOHAR, BANGALORE y así sucesivamente)\n",
    "* **mercado**: esta es una cadena con la combinación del estado y la ciudad\n",
    "\n",
    "Tres están relacionados con la fecha de la transacción: \n",
    "\n",
    "* **mes**: mes en enero, febrero y así sucesivamente\n",
    "* **año**: año (YYYY)\n",
    "* **fecha**: la combinación de los dos anteriores\n",
    "\n",
    "Cuatro son acerca de la cantidad y el precio en este mercado mayorista (todas numéricas).\n",
    "\n",
    "* **cantidad**: la cantidad de cebolla que llega al mercado en ese mes en quintales (100 kg)\n",
    "* **priceMin**: el precio mínimo en el mes en Rs./quintal\n",
    "* **priceMax**: el precio máximo en el mes en Rs./quintal\n",
    "* **priceMod**: el precio modal en el mes en Rs./quintal"
   ]
  },
  {
   "cell_type": "markdown",
   "metadata": {},
   "source": [
    "Fijate de qué tipo son las columnas del DataFrame:"
   ]
  },
  {
   "cell_type": "code",
   "execution_count": null,
   "metadata": {},
   "outputs": [],
   "source": [
    "# POR FAVOR COMPLETÁ CON TU CÓDIGO:\n",
    "df.dtypes"
   ]
  },
  {
   "cell_type": "markdown",
   "metadata": {},
   "source": [
    "Podés observar que \"date\" es un object. Transformala a un datetime:"
   ]
  },
  {
   "cell_type": "code",
   "execution_count": null,
   "metadata": {},
   "outputs": [],
   "source": [
    "# POR FAVOR COMPLETÁ CON TU CÓDIGO:\n",
    "\n",
    "df['date'] = pd.to_datetime(df['date'])\n",
    "\n",
    "df['date'].dtype"
   ]
  },
  {
   "cell_type": "markdown",
   "metadata": {},
   "source": [
    "Vamos a analizar el volumen de ventas por ciudad. Hacé un groupby por ciudad y sumá las cantidades vendidas ('quantity'):"
   ]
  },
  {
   "cell_type": "code",
   "execution_count": null,
   "metadata": {},
   "outputs": [],
   "source": [
    "# POR FAVOR COMPLETÁ CON TU CÓDIGO:\n",
    "df.groupby('city')['quantity'].sum().sort_values(ascending=False).head()"
   ]
  },
  {
   "cell_type": "markdown",
   "metadata": {},
   "source": [
    "Vamos a restringir nuestro análisis solamente a la ciudad de Bangalore. Generá un DataFrame nuevo conservando solamente a la serie de tiempo de Bangalore:"
   ]
  },
  {
   "cell_type": "code",
   "execution_count": null,
   "metadata": {},
   "outputs": [],
   "source": [
    "# POR FAVOR COMPLETÁ CON TU CÓDIGO:\n",
    "dfBang = df.loc[df.city == 'BANGALORE'].copy()"
   ]
  },
  {
   "cell_type": "markdown",
   "metadata": {},
   "source": [
    "Hacé un sort del DataFrame para que las observaciones queden ordenadas en el tiempo:"
   ]
  },
  {
   "cell_type": "code",
   "execution_count": null,
   "metadata": {},
   "outputs": [],
   "source": [
    "# POR FAVOR COMPLETÁ CON TU CÓDIGO:\n",
    "dfBang = dfBang.sort_values(by = \"date\")"
   ]
  },
  {
   "cell_type": "markdown",
   "metadata": {},
   "source": [
    "Reindexá el DataFrame para que el index sea \"date\" con frecuencia mensual:"
   ]
  },
  {
   "cell_type": "code",
   "execution_count": null,
   "metadata": {},
   "outputs": [],
   "source": [
    "# POR FAVOR COMPLETÁ CON TU CÓDIGO:\n",
    "dfBang.index = pd.PeriodIndex(dfBang.date, freq='M')\n",
    "dfBang.head()"
   ]
  },
  {
   "cell_type": "markdown",
   "metadata": {},
   "source": [
    "Vamos a definir una función que plotea series de tiempo:"
   ]
  },
  {
   "cell_type": "code",
   "execution_count": null,
   "metadata": {},
   "outputs": [],
   "source": [
    "# Función que plotea la serie:\n",
    "def plot_df(df, x, y, title=\"\", xlabel='Fecha', ylabel='Valor', dpi=100):\n",
    "    plt.figure(figsize=(16,5), dpi=dpi)\n",
    "    plt.plot(x, y, color='tab:red')\n",
    "    plt.gca().set(title=title, xlabel=xlabel, ylabel=ylabel)\n",
    "    plt.show()"
   ]
  },
  {
   "cell_type": "markdown",
   "metadata": {},
   "source": [
    "Vamos a trabajar usando la serie **priceMod**.\n",
    "\n",
    "Usá la función que acabamos de definir para plotear 'priceMod'. Recordá que las x tienen que tener un formato de datetime. "
   ]
  },
  {
   "cell_type": "code",
   "execution_count": null,
   "metadata": {},
   "outputs": [],
   "source": [
    "# POR FAVOR COMPLETÁ CON TU CÓDIGO:\n",
    "plot_df(dfBang, x=dfBang.date, y=dfBang.priceMod, title=\"priceMod\")"
   ]
  },
  {
   "cell_type": "markdown",
   "metadata": {},
   "source": [
    "Ahora creá una dummy de tiempo para modelar la tendencia lineal:"
   ]
  },
  {
   "cell_type": "code",
   "execution_count": null,
   "metadata": {},
   "outputs": [],
   "source": [
    "# POR FAVOR COMPLETÁ CON TU CÓDIGO:\n",
    "\n",
    "dfBang[\"timeIndex\"] = pd.Series(np.arange(len(dfBang['priceMod'])), index=dfBang.index)\n",
    "\n",
    "dfBang.head()\n",
    "\n",
    "# Comentario: recordá que la dummy de tiempo es una variable de apoyo que lleva la cuenta de\n",
    "# la cantidad de periodos que pasan desde la primera observación. Sirve para poder hacer\n",
    "# regresiones contra el tiempo y estimar la tendencia. "
   ]
  },
  {
   "cell_type": "code",
   "execution_count": null,
   "metadata": {},
   "outputs": [],
   "source": [
    "dfBang.tail()"
   ]
  },
  {
   "cell_type": "markdown",
   "metadata": {},
   "source": [
    "Ahora creá las dummies de mes y hacé el join con el DataFrame."
   ]
  },
  {
   "cell_type": "code",
   "execution_count": null,
   "metadata": {},
   "outputs": [],
   "source": [
    "# POR FAVOR COMPLETÁ CON TU CÓDIGO:\n",
    "dummies_mes = pd.get_dummies(dfBang['month'], drop_first=True)\n",
    "dfBang =  dfBang.join(dummies_mes)\n",
    "dfBang.sample(10)"
   ]
  },
  {
   "cell_type": "markdown",
   "metadata": {},
   "source": [
    "Hacé el split entre train y test dejando los últimos 12 meses en el set de testeo. Luego corroborá la continuidad entre el set de entrenamiento y de testeo. "
   ]
  },
  {
   "cell_type": "code",
   "execution_count": null,
   "metadata": {},
   "outputs": [],
   "source": [
    "# POR FAVOR COMPLETÁ CON TU CÓDIGO:\n",
    "df_train, df_test = train_test_split(dfBang, test_size=12, random_state=42, shuffle=False)"
   ]
  },
  {
   "cell_type": "code",
   "execution_count": null,
   "metadata": {},
   "outputs": [],
   "source": [
    "# POR FAVOR COMPLETÁ CON TU CÓDIGO:\n",
    "df_train.tail()"
   ]
  },
  {
   "cell_type": "code",
   "execution_count": null,
   "metadata": {},
   "outputs": [],
   "source": [
    "# POR FAVOR COMPLETÁ CON TU CÓDIGO:\n",
    "df_test.head()"
   ]
  },
  {
   "cell_type": "markdown",
   "metadata": {},
   "source": [
    "Creá las transformaciones logarítmicas de priceMod tanto para el set de entrenamiento como para el set de testeo."
   ]
  },
  {
   "cell_type": "code",
   "execution_count": null,
   "metadata": {},
   "outputs": [],
   "source": [
    "# POR FAVOR COMPLETÁ CON TU CÓDIGO:\n",
    "df_train['log_value'] = np.log(df_train['priceMod'])\n",
    "df_test['log_value'] = np.log(df_test['priceMod'])"
   ]
  },
  {
   "cell_type": "markdown",
   "metadata": {},
   "source": [
    "Ploteá la serie logarítmica:"
   ]
  },
  {
   "cell_type": "code",
   "execution_count": null,
   "metadata": {},
   "outputs": [],
   "source": [
    "# POR FAVOR COMPLETÁ CON TU CÓDIGO:\n",
    "plot_df(df_train, x=df_train.date, y=df_train['log_value'],\\\n",
    "    title='Log de priceMod del train set')"
   ]
  },
  {
   "cell_type": "markdown",
   "metadata": {},
   "source": [
    "Vemos que la dispersión de la serie se estabilizó significativamente en t. \n",
    "\n",
    "Ahora entrená un modelo lineal entre la serie transformada y la dummy de tiempo y analizá el summary."
   ]
  },
  {
   "cell_type": "code",
   "execution_count": null,
   "metadata": {},
   "outputs": [],
   "source": [
    "# POR FAVOR COMPLETÁ CON TU CÓDIGO:\n",
    "model_log = smf.ols('log_value ~ timeIndex',\\\n",
    "                          data = df_train).fit()"
   ]
  },
  {
   "cell_type": "code",
   "execution_count": null,
   "metadata": {},
   "outputs": [],
   "source": [
    "# POR FAVOR COMPLETÁ CON TU CÓDIGO:\n",
    "model_log.summary()"
   ]
  },
  {
   "cell_type": "markdown",
   "metadata": {},
   "source": [
    "Agregá las predicciones del modelo en el set de entrenamiento y de testeo con y sin back-transformation:"
   ]
  },
  {
   "cell_type": "code",
   "execution_count": null,
   "metadata": {},
   "outputs": [],
   "source": [
    "# POR FAVOR COMPLETÁ CON TU CÓDIGO:\n",
    "\n",
    "df_train['model_log'] = model_log.predict(df_train[[\"timeIndex\"]])\n",
    "df_test['model_log'] = model_log.predict(df_test[[\"timeIndex\"]])"
   ]
  },
  {
   "cell_type": "code",
   "execution_count": null,
   "metadata": {},
   "outputs": [],
   "source": [
    "# POR FAVOR COMPLETÁ CON TU CÓDIGO:\n",
    "\n",
    "df_train['back_model_log'] = np.exp(df_train['model_log'])\n",
    "df_test['back_model_log'] = np.exp(df_test['model_log'])"
   ]
  },
  {
   "cell_type": "markdown",
   "metadata": {},
   "source": [
    "Ploteá las predicciones vs. las series reales, tanto en el set de entrenamiento como en el de testeo."
   ]
  },
  {
   "cell_type": "code",
   "execution_count": null,
   "metadata": {},
   "outputs": [],
   "source": [
    "# POR FAVOR COMPLETÁ CON TU CÓDIGO:\n",
    "df_train.plot(kind = \"line\", x = \"date\", y = ['log_value', 'model_log']);"
   ]
  },
  {
   "cell_type": "code",
   "execution_count": null,
   "metadata": {},
   "outputs": [],
   "source": [
    "# POR FAVOR COMPLETÁ CON TU CÓDIGO:\n",
    "df_train.plot(kind = \"line\", x = \"date\", y = ['priceMod', 'back_model_log']);"
   ]
  },
  {
   "cell_type": "code",
   "execution_count": null,
   "metadata": {},
   "outputs": [],
   "source": [
    "# POR FAVOR COMPLETÁ CON TU CÓDIGO:\n",
    "df_test.plot(kind = \"line\", x = \"date\", y = ['log_value', 'model_log']);"
   ]
  },
  {
   "cell_type": "code",
   "execution_count": null,
   "metadata": {},
   "outputs": [],
   "source": [
    "# POR FAVOR COMPLETÁ CON TU CÓDIGO:\n",
    "df_test.plot(kind = \"line\", x = \"date\", y = ['priceMod', 'back_model_log']);"
   ]
  },
  {
   "cell_type": "markdown",
   "metadata": {},
   "source": [
    "Creamos la función para calcular el RMSE:"
   ]
  },
  {
   "cell_type": "code",
   "execution_count": null,
   "metadata": {},
   "outputs": [],
   "source": [
    "def RMSE(predicted, actual):\n",
    "    mse = (predicted - actual) ** 2\n",
    "    rmse = np.sqrt(mse.sum() / mse.count())\n",
    "    return rmse"
   ]
  },
  {
   "cell_type": "markdown",
   "metadata": {},
   "source": [
    "Guardá el resultado en un DataFrame:"
   ]
  },
  {
   "cell_type": "code",
   "execution_count": null,
   "metadata": {},
   "outputs": [],
   "source": [
    "# POR FAVOR COMPLETÁ CON TU CÓDIGO:\n",
    "df_Results = pd.DataFrame(columns = [\"Model\", \"RMSE\"])\n",
    "df_Results.loc[0, \"Model\"] = \"Log\"\n",
    "df_Results.loc[0, \"RMSE\"] = RMSE(df_test.back_model_log, df_test.priceMod)\n",
    "df_Results"
   ]
  },
  {
   "cell_type": "markdown",
   "metadata": {},
   "source": [
    "Ahora entrená un modelo agregando variables de estacionalidad mensual y agregá el RMSE en el DataFrame de resultados. "
   ]
  },
  {
   "cell_type": "code",
   "execution_count": null,
   "metadata": {},
   "outputs": [],
   "source": [
    "# POR FAVOR COMPLETÁ CON TU CÓDIGO:\n",
    "\n",
    "model_log_est = smf.ols('log_value ~ timeIndex + August + December + February + January + July + November+ October + September',\\\n",
    "                          data = df_train).fit()\n",
    "\n",
    "# Recordá que tenés que agregar a la función de regresión los nombres de las dummies\n",
    "# mensuales que agregamos antes. Recordá también que dropeamos un mes, por lo cual no lo \n",
    "# tenés que incluir en la expresión de la regresión. \n",
    "# En la solución no estamos incluyendo a los meses de junio, marzo y mayo porque no\n",
    "# son significativos.\n",
    "\n"
   ]
  },
  {
   "cell_type": "code",
   "execution_count": null,
   "metadata": {},
   "outputs": [],
   "source": [
    "# POR FAVOR COMPLETÁ CON TU CÓDIGO:\n",
    "\n",
    "model_log_est.summary()"
   ]
  },
  {
   "cell_type": "markdown",
   "metadata": {},
   "source": [
    "Comentario: recordá que podés usar el método precict del modelo para realizar predicciones.\n",
    "Al método le tenés que pasar el DataFrame y especificar las columnas a incluir. \n",
    "\n",
    "Hacé las predicciones en el set de entrenamiento y testo y almacená los resultados en ambos DataFrames:"
   ]
  },
  {
   "cell_type": "code",
   "execution_count": null,
   "metadata": {},
   "outputs": [],
   "source": [
    "# POR FAVOR COMPLETÁ CON TU CÓDIGO:\n",
    "\n",
    "\n",
    "\n",
    "df_train['model_log_est'] = model_log_est.predict(df_train[[\"timeIndex\",\\\n",
    "                                              \"August\", \"December\", \"February\", \"January\",\\\n",
    "                                               \"July\",\"November\", \"October\", \"September\"]])\n",
    "\n",
    "\n",
    "df_test['model_log_est'] = model_log_est.predict(df_test[[\"timeIndex\",\\\n",
    "                                              \"August\", \"December\", \"February\", \"January\",\\\n",
    "                                               \"July\",\"November\", \"October\", \"September\"]])"
   ]
  },
  {
   "cell_type": "markdown",
   "metadata": {},
   "source": [
    "Comentario: recordá que para hacer back transformation de una transformación logarítmica tenés que usar la función exponencial. \n",
    "\n",
    "Almacená en tus DataFrames los modelos con back transformation. "
   ]
  },
  {
   "cell_type": "code",
   "execution_count": null,
   "metadata": {},
   "outputs": [],
   "source": [
    "# POR FAVOR COMPLETÁ CON TU CÓDIGO:\n",
    "df_train['back_model_log_est'] = np.exp(df_train['model_log_est'])\n",
    "df_test['back_model_log_est'] = np.exp(df_test['model_log_est'])"
   ]
  },
  {
   "cell_type": "markdown",
   "metadata": {},
   "source": [
    "Plotea el modelo con y sin back transformation para el set de entrenamiento:"
   ]
  },
  {
   "cell_type": "code",
   "execution_count": null,
   "metadata": {},
   "outputs": [],
   "source": [
    "# POR FAVOR COMPLETÁ CON TU CÓDIGO:\n",
    "df_train.plot(kind = \"line\", x = \"date\", y = ['log_value', 'model_log_est']);"
   ]
  },
  {
   "cell_type": "code",
   "execution_count": null,
   "metadata": {},
   "outputs": [],
   "source": [
    "# POR FAVOR COMPLETÁ CON TU CÓDIGO:\n",
    "df_train.plot(kind = \"line\", x = \"date\", y = ['priceMod', 'back_model_log_est']);"
   ]
  },
  {
   "cell_type": "markdown",
   "metadata": {},
   "source": [
    "Plotea el modelo con y sin back transformation para el set de testeo:"
   ]
  },
  {
   "cell_type": "code",
   "execution_count": null,
   "metadata": {},
   "outputs": [],
   "source": [
    "# POR FAVOR COMPLETÁ CON TU CÓDIGO:\n",
    "df_test.plot(kind = \"line\", x = \"date\", y = ['log_value', 'model_log_est']);"
   ]
  },
  {
   "cell_type": "code",
   "execution_count": null,
   "metadata": {},
   "outputs": [],
   "source": [
    "# POR FAVOR COMPLETÁ CON TU CÓDIGO:\n",
    "df_test.plot(kind = \"line\", x = \"date\", y = ['priceMod', 'back_model_log_est']);"
   ]
  },
  {
   "cell_type": "markdown",
   "metadata": {},
   "source": [
    "Calculá el RMSE del modelo con transformación logarítmica y estacionalidad mensual y agregala al DataFrame de resultados: "
   ]
  },
  {
   "cell_type": "code",
   "execution_count": null,
   "metadata": {},
   "outputs": [],
   "source": [
    "# POR FAVOR COMPLETÁ CON TU CÓDIGO:\n",
    "df_Results.loc[1, \"Model\"] = \"Log + Est\"\n",
    "df_Results.loc[1, \"RMSE\"] = RMSE(df_test.back_model_log_est, df_test.priceMod)\n",
    "df_Results"
   ]
  }
 ],
 "metadata": {
  "kernelspec": {
   "display_name": "Python 3",
   "language": "python",
   "name": "python3"
  },
  "language_info": {
   "codemirror_mode": {
    "name": "ipython",
    "version": 3
   },
   "file_extension": ".py",
   "mimetype": "text/x-python",
   "name": "python",
   "nbconvert_exporter": "python",
   "pygments_lexer": "ipython3",
   "version": "3.8.5"
  }
 },
 "nbformat": 4,
 "nbformat_minor": 4
}
