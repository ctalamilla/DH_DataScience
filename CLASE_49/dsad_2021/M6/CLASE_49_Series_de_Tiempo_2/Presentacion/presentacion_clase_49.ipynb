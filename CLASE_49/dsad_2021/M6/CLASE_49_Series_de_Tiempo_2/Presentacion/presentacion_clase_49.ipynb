{
 "cells": [
  {
   "cell_type": "code",
   "execution_count": null,
   "metadata": {
    "slideshow": {
     "slide_type": "skip"
    }
   },
   "outputs": [],
   "source": [
    "# initial setup\n",
    "%run \"../../../common/0_notebooks_base_setup.py\"\n"
   ]
  },
  {
   "cell_type": "markdown",
   "metadata": {
    "slideshow": {
     "slide_type": "slide"
    }
   },
   "source": [
    "<link rel=\"stylesheet\" href=\"../../../common/dhds.css\">\n",
    "<div class=\"Table\">\n",
    "    <div class=\"Row\">\n",
    "        <div class=\"Cell grey left\"> <img src=\"https://raw.githubusercontent.com/Digital-House-DATA/ds_blend_2021_img/master/M6/CLASE_49_Series_de_Tiempo_2/Presentacion/img/M6_CLASE_49_portada.jpg\" align=\"center\" width=\"70%\"/></div>\n",
    "        <div class=\"Cell right\">\n",
    "            <div class=\"div-logo\"><img src=\"https://raw.githubusercontent.com/Digital-House-DATA/ds_blend_2021_img/master/common/logo_DH.png\" align=\"center\" width=70% /></div>\n",
    "            <div class=\"div-curso\">DATA SCIENCE</div>\n",
    "            <div class=\"div-modulo\">MÓDULO 6</div>\n",
    "            <div class=\"div-contenido\">Series de Tiempo 2\n",
    "\n",
    "</div>\n",
    "        </div>\n",
    "    </div>\n",
    "</div>"
   ]
  },
  {
   "cell_type": "markdown",
   "metadata": {
    "slideshow": {
     "slide_type": "slide"
    }
   },
   "source": [
    "### Agenda\n",
    "\n",
    "---\n",
    "   - Series Estacionarias.\n",
    "      - Componentes.\n",
    "      - Diferenciación\n",
    "      - Test de Dickey-Fuller Aumentado (ADF)\n",
    "---      \n",
    "   - ARIMA.\n",
    "      - Modelo Auto-Regresivo AR(p)\n",
    "      - Modelo de Media Movil MA(q)\n",
    "      - Modelo ARIMA sin estacionalidad\n",
    "      - Estimación parámetros p y q\n"
   ]
  },
  {
   "cell_type": "markdown",
   "metadata": {
    "slideshow": {
     "slide_type": "slide"
    }
   },
   "source": [
    "<div class=\"div-dhds-fondo-1\"> Introducción\n",
    "<img src=\"https://raw.githubusercontent.com/Digital-House-DATA/ds_blend_2021_img/master/M3/CLASE_21_Regresion_Lineal_Simple/Presentacion/img/M3_CLASE_21_separador.png\" align=\"center\" />\n",
    "\n",
    "</div>"
   ]
  },
  {
   "cell_type": "markdown",
   "metadata": {
    "slideshow": {
     "slide_type": "slide"
    }
   },
   "source": [
    "### Introducción\n",
    "\n",
    "---\n",
    "\n",
    "En esta clase vamos a trabajar con la **componente cíclica** de las series de tiempo. \n",
    "\n",
    "Recordemos la descomposición de una serie de tiempo:\n",
    "\n",
    "$$ y_t = T_t + S_t + C_t + \\varepsilon_t. $$\n",
    "\n",
    "donde T es la tendencia, S es la estacionalidad, C es el ciclo y $ \\varepsilon $ es el error aleatorio.\n",
    "\n",
    "<img src=\"https://raw.githubusercontent.com/Digital-House-DATA/ds_blend_2021_img/master/M6/CLASE_48_Series_de_Tiempo_1/Presentacion/img/M6_CLASE_48_002_componentes.jpg\" alt=\"componentes\" width=50% height=30% align=\"center\"/>"
   ]
  },
  {
   "cell_type": "markdown",
   "metadata": {
    "slideshow": {
     "slide_type": "subslide"
    }
   },
   "source": [
    "Por **ciclo** se entiende cualquier tipo de dinámica *no capturada por la tendencia o la estacionalidad*.\n",
    "\n",
    "Estamos ante la presencia de ciclos cuando observamos algún tipo de dinámica que *vincula al presente con el pasado*. No tiene por qué ser un ciclo rígido.\n",
    "\n",
    "Los ciclos son **más complejos** de analizar que la tendencia y la estacionalidad."
   ]
  },
  {
   "cell_type": "markdown",
   "metadata": {
    "slideshow": {
     "slide_type": "slide"
    }
   },
   "source": [
    "<div class=\"div-dhds-fondo-1\"> Series estacionarias\n",
    "<img src=\"https://raw.githubusercontent.com/Digital-House-DATA/ds_blend_2021_img/master/M3/CLASE_21_Regresion_Lineal_Simple/Presentacion/img/M3_CLASE_21_separador.png\" align=\"center\" />\n",
    "\n",
    "</div>"
   ]
  },
  {
   "cell_type": "markdown",
   "metadata": {
    "slideshow": {
     "slide_type": "slide"
    }
   },
   "source": [
    "### Introducción\n",
    "\n",
    "---\n",
    "Solamente podemos trabajar con ciclos si tenemos **series estacionarias**. \n",
    "\n",
    "En una serie estacionaria las *propiedades estadísticas del proceso* que las genera no cambian en el tiempo.\n",
    "\n",
    "Y estas propiedades nos permiten analizar y predecir las series de tiempo.\n",
    "\n",
    "<img src=\"https://raw.githubusercontent.com/Digital-House-DATA/ds_blend_2021_img/master/M6/CLASE_49_Series_de_Tiempo_2/Presentacion/img/M6_CLASE_49_001_estacionaria.png\" alt=\"estacionaria\" width=40% height=25% align=\"center\"/>"
   ]
  },
  {
   "cell_type": "markdown",
   "metadata": {
    "slideshow": {
     "slide_type": "subslide"
    }
   },
   "source": [
    "Recordemos nuevamente que por la definición de **ciclos**, las series con *tendencia o estacionalidad* no son estacionarias.\n",
    "\n",
    "<img src=\"https://raw.githubusercontent.com/Digital-House-DATA/ds_blend_2021_img/master/M6/CLASE_49_Series_de_Tiempo_2/Presentacion/img/M6_CLASE_49_002_estacionaria_ejemplos.png\" alt=\"estacionaria\" width=50% height=30% align=\"center\"/>\n",
    "\n",
    "Observemos que:\n",
    "- Los casos (d), (h) e (i) tienen estacionalidad. \n",
    "- Los casos (a), (c), (e), (f) e (i) tienen tendencia. \n",
    "- **Solo los casos** (b) and (g) son series estacionarias.\n",
    "\n",
    "El caso (g) parece *no estacionario*, pero sí lo es, ya que los ciclos *no se repiten a intervalos regulares*, son impredecibles."
   ]
  },
  {
   "cell_type": "markdown",
   "metadata": {
    "slideshow": {
     "slide_type": "slide"
    }
   },
   "source": [
    "### Definición\n",
    "\n",
    "---\n",
    "La idea de la definición de serie de tiempo estacionaria es que las medidas estadísticas  *permanezcan constantes o con mínimas variaciones*, independientemente del tiempo.\n",
    "\n",
    "Una **serie es estacionaria** (o bien estacionaria en sentido débil) si:\n",
    "\n",
    "$ 1)\\hspace{1cm}E(y_t) = \\mu,  \\forall t. $\n",
    "\n",
    "$ 2)\\hspace{1cm}Var(y_t) = \\gamma < \\infty,  \\forall t. $\n",
    "\n",
    "$ 3)\\hspace{1cm}Cov(y_t, y_{t-k}) = \\gamma_k < \\infty,  \\forall t,k. $\n",
    "\n",
    "\n",
    "1) Nos indica que *el promedio* es constante a lo largo del tiempo, es decir que no depende de t.\n",
    "\n",
    "2) La *varianza* debe ser un valor constante y finito para todo t.\n",
    "\n",
    "3) La *autocovarianza* es un valor constante. Es la covarianza de la variable contra sí misma en otros momentos del tiempo. Debe depender *solamente de la traslación k (los periodos que me muevo) y no del tiempo*.\n"
   ]
  },
  {
   "cell_type": "markdown",
   "metadata": {
    "slideshow": {
     "slide_type": "subslide"
    }
   },
   "source": [
    "Veamos algunos ejemplos donde se representa el valor constante de las medidas.\n",
    "\n",
    "Es decir, donde podemos observar **la estacionariedad** en la serie.\n",
    "\n",
    "<img src=\"https://raw.githubusercontent.com/Digital-House-DATA/ds_blend_2021_img/master/M6/CLASE_49_Series_de_Tiempo_2/Presentacion/img/M6_CLASE_49_003_estacionaria_ejemplos.png\" alt=\"estacionaria\" width=80% height=40% align=\"center\"/>"
   ]
  },
  {
   "cell_type": "markdown",
   "metadata": {
    "slideshow": {
     "slide_type": "slide"
    }
   },
   "source": [
    "### Diferenciación\n",
    "\n",
    "---"
   ]
  },
  {
   "cell_type": "markdown",
   "metadata": {
    "slideshow": {
     "slide_type": "fragment"
    }
   },
   "source": [
    "Existen procedimientos para **transformar** una serie no estacionaria en estacionaria.\n",
    "\n",
    "Una forma es *computar las diferencias* entre observaciones *separadas por un lag*, generalmente de 1, es decir consecutivas.\n",
    "\n",
    "Al proceso se lo llama **Diferenciación** (differencing).\n",
    "\n",
    "Este proceso tiene un **orden de integración**, que indica el número de veces que debe ser aplicada en forma recursiva para transformar a una serie en estacionaria. Generalmente es de orden 1, se aplica una sola vez.\n",
    "\n",
    "En este ejemplo, a la izquierda vemos la serie del valor de las acciones de Google, y a la derecha, las diferencias entre dias consecutivos.\n",
    "\n",
    "<img src=\"https://raw.githubusercontent.com/Digital-House-DATA/ds_blend_2021_img/master/M6/CLASE_49_Series_de_Tiempo_2/Presentacion/img/M6_CLASE_49_005_comparacion.JPG\" alt=\"comparacion\" width=60% height=30% align=\"center\"/>"
   ]
  },
  {
   "cell_type": "markdown",
   "metadata": {
    "slideshow": {
     "slide_type": "slide"
    }
   },
   "source": [
    "### ACF (Función de autocorrelación)\n",
    "\n",
    "---"
   ]
  },
  {
   "cell_type": "markdown",
   "metadata": {
    "slideshow": {
     "slide_type": "fragment"
    }
   },
   "source": [
    "La *autocorrelación (ACF)* es la correlación de la variable contra sí misma en otro momento del tiempo.\n",
    "\n",
    "Usando *ACF* podemos verificar *si la serie es estacionaria*.\n",
    "\n",
    "A medida que calculamos ACF incrementando la distancia (lag) entre ambas series:\n",
    "\n",
    "- En las series *no estacionarias* ACF desciende **más lentamente**.\n",
    "\n",
    "- En las *estacionarias* desciende a cero **más rápidamente**.\n",
    "\n",
    "<img src=\"https://raw.githubusercontent.com/Digital-House-DATA/ds_blend_2021_img/master/M6/CLASE_49_Series_de_Tiempo_2/Presentacion/img/M6_CLASE_49_004_acf.png\" alt=\"acf\" width=80% height=40% align=\"center\"/>"
   ]
  },
  {
   "cell_type": "markdown",
   "metadata": {
    "slideshow": {
     "slide_type": "slide"
    }
   },
   "source": [
    "### Dataset\n",
    "\n",
    "---\n",
    "\n",
    "Vamos a usar la serie de precios de las acciones de Intel, entre 2010 y 2020, mensualizada.\n",
    "\n",
    "Creamos nuevas variables para aplicar un modelo de Transformación logarítmica + estacionalidad mensual."
   ]
  },
  {
   "cell_type": "code",
   "execution_count": null,
   "metadata": {
    "slideshow": {
     "slide_type": "skip"
    }
   },
   "outputs": [],
   "source": [
    "import pandas as pd\n",
    "import numpy as np\n",
    "\n",
    "import matplotlib.pyplot as plt\n",
    "#import matplotlib as mpl\n",
    "import seaborn as sns\n",
    "\n",
    "import statsmodels.api as sm\n",
    "import statsmodels.formula.api as smf\n",
    "import statsmodels.tsa.api as smt\n",
    "\n",
    "from scipy import stats\n",
    "from statistics import mode\n",
    "\n",
    "import warnings\n",
    "warnings.filterwarnings('ignore')"
   ]
  },
  {
   "cell_type": "code",
   "execution_count": null,
   "metadata": {
    "slideshow": {
     "slide_type": "fragment"
    }
   },
   "outputs": [],
   "source": [
    "df = pd.read_csv(\"../Data/INTC.csv\",sep='\\t', parse_dates=['date'], index_col='date')"
   ]
  },
  {
   "cell_type": "code",
   "execution_count": null,
   "metadata": {
    "slideshow": {
     "slide_type": "fragment"
    }
   },
   "outputs": [],
   "source": [
    "# Generamos nuevas variables\n",
    "df[\"timeIndex\"] = pd.Series(np.arange(len(df['value'])), index=df.index)\n",
    "df['log_value'] = np.log(df['value'])\n",
    "\n",
    "df['month'] = [d.strftime('%b') for d in df.index]\n",
    "dummies_mes = pd.get_dummies(df['month'])\n",
    "df = df.join(dummies_mes)"
   ]
  },
  {
   "cell_type": "code",
   "execution_count": null,
   "metadata": {
    "slideshow": {
     "slide_type": "fragment"
    }
   },
   "outputs": [],
   "source": [
    "df.head(3)"
   ]
  },
  {
   "cell_type": "markdown",
   "metadata": {
    "slideshow": {
     "slide_type": "subslide"
    }
   },
   "source": [
    "Creamos el modelo sobre train, y predecimos el valor (el log de la serie 'model_log_est').\n",
    "\n",
    "Luego generamos el back transformation 'back_model_log_est', con una función exponencial."
   ]
  },
  {
   "cell_type": "code",
   "execution_count": null,
   "metadata": {
    "slideshow": {
     "slide_type": "fragment"
    }
   },
   "outputs": [],
   "source": [
    "# Dividimos en train y test\n",
    "from sklearn.model_selection import train_test_split\n",
    "df_train, df_test = train_test_split(df, test_size=12, random_state=42, shuffle=False)"
   ]
  },
  {
   "cell_type": "code",
   "execution_count": null,
   "metadata": {
    "slideshow": {
     "slide_type": "fragment"
    }
   },
   "outputs": [],
   "source": [
    "model_log_est = smf.ols( \\\n",
    "    'log_value ~ timeIndex + Aug + Dec + Feb + Jan + Jul + Jun + Mar + May + Nov + Oct + Sep',\\\n",
    "    data = df_train).fit()"
   ]
  },
  {
   "cell_type": "code",
   "execution_count": null,
   "metadata": {
    "slideshow": {
     "slide_type": "fragment"
    }
   },
   "outputs": [],
   "source": [
    "df_train['model_log_est'] = model_log_est.predict(\n",
    "    df_train[[\"timeIndex\", \"Aug\", \"Dec\", \"Feb\", \"Jan\", \"Jul\", \"Jun\", \"Mar\", \"May\", \"Nov\", \"Oct\", \"Sep\"]])\n",
    "df_test['model_log_est'] = model_log_est.predict(  \n",
    "    df_test[[\"timeIndex\", \"Aug\", \"Dec\", \"Feb\", \"Jan\",\"Jul\", \"Jun\", \"Mar\", \"May\", \"Nov\", \"Oct\", \"Sep\"]])"
   ]
  },
  {
   "cell_type": "code",
   "execution_count": null,
   "metadata": {
    "slideshow": {
     "slide_type": "fragment"
    }
   },
   "outputs": [],
   "source": [
    "df_train['back_model_log_est'] = np.exp(df_train['model_log_est'])\n",
    "df_test['back_model_log_est'] = np.exp(df_test['model_log_est'])"
   ]
  },
  {
   "cell_type": "markdown",
   "metadata": {
    "slideshow": {
     "slide_type": "subslide"
    }
   },
   "source": [
    "Verificamos analíticamente la performance del modelo."
   ]
  },
  {
   "cell_type": "code",
   "execution_count": null,
   "metadata": {
    "slideshow": {
     "slide_type": "fragment"
    }
   },
   "outputs": [],
   "source": [
    "def RMSE(predicted, actual):\n",
    "    mse = (predicted - actual) ** 2\n",
    "    rmse = np.sqrt(mse.sum() / mse.count())\n",
    "    return rmse"
   ]
  },
  {
   "cell_type": "code",
   "execution_count": null,
   "metadata": {
    "slideshow": {
     "slide_type": "fragment"
    }
   },
   "outputs": [],
   "source": [
    "df_Results = pd.DataFrame(columns = [\"Model\", \"RMSE\"])\n",
    "df_Results.loc[0, \"Model\"] = \"Log Model + est\"\n",
    "df_Results.loc[0, \"RMSE\"] = RMSE(df_test['back_model_log_est'], df_test['value'])\n",
    "df_Results"
   ]
  },
  {
   "cell_type": "markdown",
   "metadata": {
    "slideshow": {
     "slide_type": "slide"
    }
   },
   "source": [
    "### Test de Dickey-Fuller aumentado (ADF)\n",
    "\n",
    "---\n",
    "\n",
    "Podemos detectar series estacionarias con Test estadísticos de hipótesis de estacionaridad.\n",
    "\n",
    "Uno de ellos es el **test de Dickey-Fuller aumentado (ADF)**. \n",
    "\n",
    "Es un test donde la hipótesis nula $H_0$ indica que la serie no es estacionaria.\n",
    "\n",
    "En otras palabras \n",
    "- si p > 0.05 (nivel de significación mayor al 5%),  **$H_0$ no se rechaza**, y la serie *no es estacionaria*.\n",
    "- Caso contrario, si p < 0.05, **la hipótesis nula se rechaza** y se considera *estacionaria*."
   ]
  },
  {
   "cell_type": "markdown",
   "metadata": {
    "slideshow": {
     "slide_type": "subslide"
    }
   },
   "source": [
    "Aplicamos el test a los valores originales de la serie."
   ]
  },
  {
   "cell_type": "code",
   "execution_count": null,
   "metadata": {
    "slideshow": {
     "slide_type": "fragment"
    }
   },
   "outputs": [],
   "source": [
    "plt.figure(figsize=(4,3)); plt.plot(df_train.timeIndex, df_train.value); plt.show()"
   ]
  },
  {
   "cell_type": "markdown",
   "metadata": {
    "slideshow": {
     "slide_type": "subslide"
    }
   },
   "source": [
    "La función `adfuller` implementa ADF. Devuelve como resultados:\n",
    "\n",
    "- p-value. Si es mayor a 5%, $H_0$ no se rechaza, y la serie *no es estacionaria*.\n",
    "- El valor del estadístico. Si es menor a algunos valores críticos, se considera *estacionaria*.\n",
    "- Valores críticos.\n",
    "\n",
    "Se observa un p-value > 0.05 para la serie. Por lo tanto **no es estacionaria**."
   ]
  },
  {
   "cell_type": "code",
   "execution_count": null,
   "metadata": {
    "slideshow": {
     "slide_type": "fragment"
    }
   },
   "outputs": [],
   "source": [
    "from statsmodels.tsa.stattools import adfuller\n",
    "\n",
    "result = adfuller(df_train['value']); \n",
    "print('ADF Statistic: %f' % result[0]); print('p-value: %f' % result[1])\n",
    "for key, value in  result[4].items():\n",
    "    print('Valor crítico %s: %.2f' % (key,value))"
   ]
  },
  {
   "cell_type": "markdown",
   "metadata": {
    "slideshow": {
     "slide_type": "subslide"
    }
   },
   "source": [
    "Aplicamos ahora ADF al **residuo** de la serie entre los valores originales y el valor predicho con back transformation.\n",
    "\n",
    "p-value es menor a 5%, por lo tanto la serie *es estacionaria*."
   ]
  },
  {
   "cell_type": "code",
   "execution_count": null,
   "metadata": {
    "slideshow": {
     "slide_type": "fragment"
    }
   },
   "outputs": [],
   "source": [
    "res_model = df_train['value'] - df_train['back_model_log_est']\n",
    "plt.figure(figsize=(4,2.5)); plt.plot(df_train.timeIndex, res_model, '-');plt.show()"
   ]
  },
  {
   "cell_type": "code",
   "execution_count": null,
   "metadata": {
    "slideshow": {
     "slide_type": "fragment"
    }
   },
   "outputs": [],
   "source": [
    "result = adfuller(res_model); print('ADF Statistic: %f' % result[0]); \n",
    "print('p-value: %f' % result[1])\n",
    "for key, value in  result[4].items():\n",
    "    print('Valor crítico %s: %.2f' % (key,value))"
   ]
  },
  {
   "cell_type": "markdown",
   "metadata": {
    "slideshow": {
     "slide_type": "slide"
    }
   },
   "source": [
    "<div class=\"div-dhds-fondo-1\"> Modelos AR(p) y MA(q)\n",
    "<img src=\"https://raw.githubusercontent.com/Digital-House-DATA/ds_blend_2021_img/master/M3/CLASE_21_Regresion_Lineal_Simple/Presentacion/img/M3_CLASE_21_separador.png\" align=\"center\" />\n",
    "\n",
    "</div>"
   ]
  },
  {
   "cell_type": "markdown",
   "metadata": {
    "slideshow": {
     "slide_type": "slide"
    }
   },
   "source": [
    "### Modelo Auto-Regresivo AR(p)\n",
    "\n",
    "---\n",
    "El término **autorregresión** indica que es una regresión de la variable contra sí misma.\n",
    "\n",
    "Pronosticamos la variable usando **una combinación lineal de valores pasados** de la serie.\n",
    " \n",
    "Un **modelo AR(p)**, es un modelo autorregresivo de orden p, que se expresa:\n",
    "\n",
    "$$ y_t = c + \\phi_1 y_{t-1} + \\phi_2 y_{t-2} + \\phi_3 y_{t-3} + .. + \\phi_p y_{t-p} + \\epsilon_{t} \\\\ $$\n",
    "\n",
    "where $\\epsilon_{t}$ es *white noise* (ruido blanco), $y_{t-x}$ los p valores anteriores de la serie."
   ]
  },
  {
   "cell_type": "markdown",
   "metadata": {
    "slideshow": {
     "slide_type": "subslide"
    }
   },
   "source": [
    "Los modelos autoregresivos manejan un amplio rango de patrones de series de tiempo.\n",
    "\n",
    "Veamos qué diferentes son ambos modelos al cambiar los parámetros:\n",
    "\n",
    "- AR(1) es\n",
    "$$y_t = 18 - 0.8 y_{t-1} + \\epsilon_{t}$$\n",
    "\n",
    "- AR(2) es  \n",
    "$$y_t = 8 + 1.3 y_{t-1} - 0.7 y_{t-2} + \\epsilon_{t}$$\n",
    "\n",
    "<img src=\"https://raw.githubusercontent.com/Digital-House-DATA/ds_blend_2021_img/master/M6/CLASE_49_Series_de_Tiempo_2/Presentacion/img/M6_CLASE_49_006_ar.png\" alt=\"ar\" width=70% height=35% align=\"center\"/>"
   ]
  },
  {
   "cell_type": "markdown",
   "metadata": {
    "slideshow": {
     "slide_type": "subslide"
    }
   },
   "source": [
    "Tenemos casos particulares para AR(1) model: $y_t = c + \\phi_1 y_{t-1} + \\epsilon_{t}$.\n",
    "\n",
    "- Si  $\\phi_1 = 0$ , entonces $y_t = \\epsilon_{t}$. Es **White Noise**.\n",
    "\n",
    "- Si  $\\phi_1 = 1$ y $c=0$, entonces $y_t = y_{t-1} + \\epsilon_{t}$. Es **Random Walk**.\n",
    "\n",
    "- Si  $\\phi_1 = 1$ y $c!=0$, entonces $y_t = c + y_{t-1} + \\epsilon_{t}$. Es **Random Walk con deriva**.\n",
    "\n",
    "- Para que cumpla con las condiciones de estacionaridad, se requiere que $ |\\phi_1| < 1 $."
   ]
  },
  {
   "cell_type": "markdown",
   "metadata": {
    "slideshow": {
     "slide_type": "slide"
    }
   },
   "source": [
    "### Modelo de Media Movil MA(q)\n",
    "\n",
    "---\n",
    "Un modelo de media móvil usa **shocks inobservables presentes y pasados (ruido blanco)** basados en un modelo similar a una regresión.\n",
    "\n",
    "Un **modelo MA(q)**, es un modelo de media movil de orden q, que se expresa:\n",
    "\n",
    "$$ y_t = c + e_t + \\theta_1 e_{t-1} + \\theta_2 e_{t-2} + ... + \\theta_q e_{t-q} $$\n",
    "\n",
    "donde **$e_{t-x}$ es ruido blanco o rezagos**, y $q$ representa la **cantidad de rezagos o componentes aleatorios** considerados en el modelo. \n",
    "\n",
    "Recordemos que el componente aleatorio es la parte de las series de tiempo que *no se explica con la tendencia ni la estacionalidad*."
   ]
  },
  {
   "cell_type": "markdown",
   "metadata": {
    "slideshow": {
     "slide_type": "subslide"
    }
   },
   "source": [
    "Los modelos de Media movil también manejan un amplio rango de patrones de series de tiempo.\n",
    "\n",
    "Veamos las diferencias que se generan cambiando los parámetros:\n",
    "\n",
    "- MA(1) es\n",
    "$$y_t = 20 + e_t + 0.8 e_{t-1}$$\n",
    "\n",
    "- MA(2) es  \n",
    "$$y_t = e_t - e_{t-1} + 0.8 e_{t-2}$$\n",
    "\n",
    "<img src=\"https://raw.githubusercontent.com/Digital-House-DATA/ds_blend_2021_img/master/M6/CLASE_49_Series_de_Tiempo_2/Presentacion/img/M6_CLASE_49_007_ma.png\" alt=\"ma\" width=70% height=35% align=\"center\"/>"
   ]
  },
  {
   "cell_type": "markdown",
   "metadata": {
    "slideshow": {
     "slide_type": "subslide"
    }
   },
   "source": [
    "*No debe confundirse* el modelo MA(q) con la Media movil (Moving Average o Rolling Mean) que vimos en la clase anterior.\n",
    "\n",
    "MA(q) lo usamos para pronosticar valores futuros; Media movil para estimar el ciclo de la tendencia en los valores pasados."
   ]
  },
  {
   "cell_type": "markdown",
   "metadata": {
    "slideshow": {
     "slide_type": "slide"
    }
   },
   "source": [
    "<div class=\"div-dhds-fondo-1\"> Modelo ARIMA\n",
    "<img src=\"https://raw.githubusercontent.com/Digital-House-DATA/ds_blend_2021_img/master/M3/CLASE_21_Regresion_Lineal_Simple/Presentacion/img/M3_CLASE_21_separador.png\" align=\"center\" />\n",
    "\n",
    "</div>"
   ]
  },
  {
   "cell_type": "markdown",
   "metadata": {
    "slideshow": {
     "slide_type": "slide"
    }
   },
   "source": [
    "### Definición\n",
    "\n",
    "---\n",
    "El modelo **ARIMA sin estacionalidad** surge de la combinación de:\n",
    "* Un modelo Auto-Regresivo AR(p).\n",
    "* Un modelo de media móvil MA(q).\n",
    "* Un proceso de Diferenciación con un orden de *Integración*. \n",
    "\n",
    "Su denominación es un acrónimo de: **AutoRegressive Integrated Moving Average** model. "
   ]
  },
  {
   "cell_type": "markdown",
   "metadata": {
    "slideshow": {
     "slide_type": "fragment"
    }
   },
   "source": [
    "---\n",
    "\n",
    "El modelo completo se escribe **ARIMA(p,d,q)** donde:\n",
    "\n",
    "* **Número de términos AR (autorregresivos) (p)**: es el orden p de la parte correspondiente al modelo AR(p).\n",
    "\n",
    "* **Número de términos MA (promedio móvil) (q)**: es el orden q de la parte correspondiente al modelo MA(q).\n",
    "\n",
    "* **Número de diferenciaciones (d)**: es el orden de integración del proceso de diferenciación. Si la serie es estacionaria, es igual a cero, ya que no se necesita."
   ]
  },
  {
   "cell_type": "markdown",
   "metadata": {
    "slideshow": {
     "slide_type": "subslide"
    }
   },
   "source": [
    "Para determinar el valor de $p$ y $q$, usamos:\n",
    "\n",
    "* **Plot de la Función de autocorrelación (ACF)**: Como vimos antes, muestra las autocorrelaciones que miden la relación entre $y_t$ y  $y_{t-k}$, para diferentes valores de k.\n",
    "\n",
    "* **Plot de la Función de autocorrelación parcial (PACF)**: mide la misma relación entre $y_t$ y $y_{t-k}$, pero eliminando los efectos que generan las correlaciones con los valores intermedios $y_{t-x}$, x entre 1 y $k-1$"
   ]
  },
  {
   "cell_type": "markdown",
   "metadata": {
    "slideshow": {
     "slide_type": "slide"
    }
   },
   "source": [
    "### Ejemplo\n",
    "\n",
    "---\n",
    "Vamos a trabajar con los **residuos** de la última serie calculada, previamente calculados.\n",
    "\n",
    "Es decir, las diferencias entre el valor original de la serie y los valores predichos por el modelo con back transformation."
   ]
  },
  {
   "cell_type": "code",
   "execution_count": null,
   "metadata": {
    "slideshow": {
     "slide_type": "fragment"
    }
   },
   "outputs": [],
   "source": [
    "res_model = df_train['value'] - df_train['back_model_log_est']\n",
    "plt.figure(figsize=(4,3)); plt.plot(df_train.timeIndex, res_model, '-');plt.show()"
   ]
  },
  {
   "cell_type": "markdown",
   "metadata": {
    "slideshow": {
     "slide_type": "subslide"
    }
   },
   "source": [
    "Recordemos que al aplicarle el test de Dickey-Fuller, **ADF**, vimos que *es estacionaria*.\n",
    "\n",
    "Lo muestra un p-value menor a 5%."
   ]
  },
  {
   "cell_type": "code",
   "execution_count": null,
   "metadata": {
    "slideshow": {
     "slide_type": "fragment"
    }
   },
   "outputs": [],
   "source": [
    "result = adfuller(res_model)\n",
    "print('ADF Statistic: %f' % result[0])\n",
    "print('p-value: %f' % result[1])\n",
    "for key, value in  result[4].items():\n",
    "    print('Valor crítico %s: %.2f' % (key,value))"
   ]
  },
  {
   "cell_type": "markdown",
   "metadata": {
    "slideshow": {
     "slide_type": "slide"
    }
   },
   "source": [
    "### Parámetros p y q\n",
    "\n",
    "---\n",
    "Para determinar **los parámetros p y q** necesitamos generar los plot ACF y PACF.\n",
    "\n",
    "Idealmente, no queremos ninguna correlación entre la serie y los rezagos de sí misma. Viendo los gráficos, deberían caer todos los picos en la región azul.\n",
    "\n",
    "Los plots son útiles para determinar modelos del tipo **ARIMA(p,d,0) o ARIMA(0,d,q)**.\n",
    "\n",
    "Para estos casos, la regla a aplicar es:\n",
    "\n",
    "- La serie sigue un modelo *ARIMA(p,d,0)* si:\n",
    "    - ACF cae en forma exponencial o sinusoide.\n",
    "    - PACF tiene un pico importante en el lag p, y ningún otro más alla de lag p, es decir que caen en la región azul.\n",
    "    \n",
    "- La serie sigue un modelo *ARIMA(0,d,q)* si sucede lo contrario:\n",
    "    - PACF cae en forma exponencial o sinusoide.\n",
    "    - ACF tiene un pico importante en el lag q, y ningún otro más alla de lag q.\n",
    "    \n",
    "A veces se complementa con otra regla, donde el cero se reemplaza por los primeros rezagos significativamente mayores a cero. "
   ]
  },
  {
   "cell_type": "markdown",
   "metadata": {
    "slideshow": {
     "slide_type": "subslide"
    }
   },
   "source": [
    "Generamos los plot ACF y PACF sobre la serie, con un número de rezagos (lags) suficiente para determinar p y q.\n",
    "\n",
    "En nuestro ejemplo, *ACF cae en forma exponencial* y *PACF tiene dos picos significativos* .\n",
    "\n",
    "Por lo tanto asumimos $p = 2$ y $q = 0$. También podemos considerar  $p = 2$ y $q = 2$."
   ]
  },
  {
   "cell_type": "code",
   "execution_count": null,
   "metadata": {
    "slideshow": {
     "slide_type": "fragment"
    }
   },
   "outputs": [],
   "source": [
    "from statsmodels.tsa.stattools import acf, pacf\n",
    "from statsmodels.graphics.tsaplots import plot_acf, plot_pacf"
   ]
  },
  {
   "cell_type": "code",
   "execution_count": null,
   "metadata": {
    "slideshow": {
     "slide_type": "fragment"
    }
   },
   "outputs": [],
   "source": [
    "fig, axes = plt.subplots(1, 2,figsize=(8,3))\n",
    "smt.graphics.plot_acf(res_model, lags=20,ax=axes[0],title='ACF')\n",
    "smt.graphics.plot_pacf(res_model, lags=20,ax=axes[1],title='PACF')\n",
    "plt.show()"
   ]
  },
  {
   "cell_type": "code",
   "execution_count": null,
   "metadata": {
    "slideshow": {
     "slide_type": "skip"
    }
   },
   "outputs": [],
   "source": [
    "# Crea figura que se muestra cuando explica ACF mas arriba\n",
    "# fig, axes = plt.subplots(1, 2,figsize=(10,4))\n",
    "# smt.graphics.plot_acf(df_train['value'], lags=20,ax=axes[0],title='ACF - serie NO estacionaria')\n",
    "# smt.graphics.plot_acf(res_model, lags=20,ax=axes[1],title='ACF - serie estacionaria')\n",
    "# plt.savefig('img/M6_CLASE_49_004_acf.png')"
   ]
  },
  {
   "cell_type": "markdown",
   "metadata": {
    "slideshow": {
     "slide_type": "slide"
    }
   },
   "source": [
    "### ARIMA\n",
    "\n",
    "---"
   ]
  },
  {
   "cell_type": "code",
   "execution_count": null,
   "metadata": {
    "slideshow": {
     "slide_type": "fragment"
    }
   },
   "outputs": [],
   "source": [
    "# Importamos el modelo ARIMA de statsmodels\n",
    "from statsmodels.tsa.arima_model import ARIMA"
   ]
  },
  {
   "cell_type": "markdown",
   "metadata": {
    "slideshow": {
     "slide_type": "fragment"
    }
   },
   "source": [
    "Instanciamos el modelo con los parámetros determinados en el análisis de ACF y PACF.\n",
    "\n",
    "- p=2, d=0, q=0. \n",
    "\n",
    "$d=0$ porque la serie es estacionaria."
   ]
  },
  {
   "cell_type": "code",
   "execution_count": null,
   "metadata": {
    "slideshow": {
     "slide_type": "fragment"
    }
   },
   "outputs": [],
   "source": [
    "model_ARIMA = ARIMA(res_model, order=(2,0,2))\n",
    "results_ARIMA = model_ARIMA.fit()"
   ]
  },
  {
   "cell_type": "markdown",
   "metadata": {
    "slideshow": {
     "slide_type": "subslide"
    }
   },
   "source": [
    "Analizamos los resultados. Entre otros, **AIC y BIC**, indican, a menor valor, mejor modelo.\n",
    "\n",
    "- AIC - Criterio de Información de Akaike.\n",
    "- BIC - Criterio de Información Bayesiano (Schwartz)."
   ]
  },
  {
   "cell_type": "code",
   "execution_count": null,
   "metadata": {
    "slideshow": {
     "slide_type": "subslide"
    }
   },
   "outputs": [],
   "source": [
    "print(results_ARIMA.summary())"
   ]
  },
  {
   "cell_type": "markdown",
   "metadata": {
    "slideshow": {
     "slide_type": "slide"
    }
   },
   "source": [
    "### ARIMA\n",
    "\n",
    "---"
   ]
  },
  {
   "cell_type": "markdown",
   "metadata": {
    "slideshow": {
     "slide_type": "subslide"
    }
   },
   "source": [
    "Analizamos los residuos del modelo ARIMA que se obtienen con el método `resid()`.\n",
    "\n",
    "Parecen estar correctos, con la media cercana a cero y una varianza uniforme.\n",
    "\n",
    "Viendo los plot ACF y PACF, todos los picos caen en la región azul. Mostrando que no existe autocorrelación.\n",
    "\n",
    "El resíduo ahora es ruido blanco."
   ]
  },
  {
   "cell_type": "code",
   "execution_count": null,
   "metadata": {},
   "outputs": [],
   "source": [
    "residuals = pd.DataFrame(results_ARIMA.resid)\n",
    "fig, axes = plt.subplots(2, 2,figsize=(10,4))\n",
    "\n",
    "residuals.plot(title=\"Residuals\", ax=axes[0,0]); \n",
    "residuals.plot(kind='kde', title='Density', ax=axes[0,1])\n",
    "smt.graphics.plot_acf(residuals, lags=20,ax=axes[1,0],title='ACF'); \n",
    "smt.graphics.plot_pacf(residuals, lags=20,ax=axes[1,1],title='PACF')\n",
    "plt.show()"
   ]
  },
  {
   "cell_type": "markdown",
   "metadata": {
    "slideshow": {
     "slide_type": "slide"
    }
   },
   "source": [
    "### ARIMA\n",
    "\n",
    "---"
   ]
  },
  {
   "cell_type": "markdown",
   "metadata": {
    "slideshow": {
     "slide_type": "fragment"
    }
   },
   "source": [
    "Como los otros modelos que vimos, hacemos las predicciones con el método `forecast()`."
   ]
  },
  {
   "cell_type": "code",
   "execution_count": null,
   "metadata": {
    "slideshow": {
     "slide_type": "fragment"
    }
   },
   "outputs": [],
   "source": [
    "predictions_ARIMA, se, conf = results_ARIMA.forecast(len(df_test['value']), alpha=0.05)"
   ]
  },
  {
   "cell_type": "markdown",
   "metadata": {
    "slideshow": {
     "slide_type": "fragment"
    }
   },
   "source": [
    "Sumamos los resultados del modelo ARIMA a los valores originales.\n",
    "\n",
    "Recordemos que hicimos el modelo sobre los **residuos** de la última serie calculada, previamente calculados: las diferencias entre el valor original de la serie y los valores predichos por el modelo con back transformation."
   ]
  },
  {
   "cell_type": "code",
   "execution_count": null,
   "metadata": {
    "slideshow": {
     "slide_type": "fragment"
    }
   },
   "outputs": [],
   "source": [
    "df_train['model_ARIMA'] = df_train['value'] + results_ARIMA.fittedvalues\n",
    "df_test['model_ARIMA'] = df_test['value'] + predictions_ARIMA"
   ]
  },
  {
   "cell_type": "markdown",
   "metadata": {
    "slideshow": {
     "slide_type": "subslide"
    }
   },
   "source": [
    "Comparamos la serie con las estimaciones del modelo, en train y test."
   ]
  },
  {
   "cell_type": "code",
   "execution_count": null,
   "metadata": {
    "slideshow": {
     "slide_type": "fragment"
    }
   },
   "outputs": [],
   "source": [
    "df_train.plot(kind = \"line\", y = ['value', 'model_ARIMA'],figsize=(10,3));"
   ]
  },
  {
   "cell_type": "code",
   "execution_count": null,
   "metadata": {
    "slideshow": {
     "slide_type": "fragment"
    }
   },
   "outputs": [],
   "source": [
    "df_test.plot(kind = \"line\", y = ['value', 'model_ARIMA'],figsize=(10,3));"
   ]
  },
  {
   "cell_type": "markdown",
   "metadata": {
    "slideshow": {
     "slide_type": "subslide"
    }
   },
   "source": [
    "Comprobamos analíticamente la mejoría que presenta ARIMA respecto al modelo anterior."
   ]
  },
  {
   "cell_type": "code",
   "execution_count": null,
   "metadata": {
    "slideshow": {
     "slide_type": "fragment"
    }
   },
   "outputs": [],
   "source": [
    "df_Results.loc[1, \"Model\"] = \"Log Model + est + ARIMA\"\n",
    "df_Results.loc[1, \"RMSE\"] = RMSE(df_test['model_ARIMA'], df_test['value'])\n",
    "df_Results"
   ]
  },
  {
   "cell_type": "markdown",
   "metadata": {
    "slideshow": {
     "slide_type": "slide"
    }
   },
   "source": [
    "<div class=\"div-dhds-fondo-1\"> Conclusiones\n",
    "<img src=\"https://raw.githubusercontent.com/Digital-House-DATA/ds_blend_2021_img/master/M5/CLASE_34_CART/Presentacion/img/M5_CLASE_34_separador.png\" align=\"center\" />\n",
    "\n",
    "</div>"
   ]
  },
  {
   "cell_type": "markdown",
   "metadata": {
    "slideshow": {
     "slide_type": "slide"
    }
   },
   "source": [
    "## Conclusiones\n",
    "\n",
    "---"
   ]
  },
  {
   "cell_type": "markdown",
   "metadata": {
    "slideshow": {
     "slide_type": "fragment"
    }
   },
   "source": [
    "Estuvimos estudiando las series estacionarias, evaluar si lo son y como transformarlas. Necesarias para aplicar el modelo a las series de tiempo.\n",
    "\n",
    "El modelo ARIMA(p,d,q) se compone de tres modelos:\n",
    "- Un modelo Auto-Regresivo AR(p)\n",
    "- Un modelo de Media Movil MA(q)\n",
    "- Un proceso de diferenciación (d).\n",
    "      \n",
    "Vimos como determinar los parámetros p y q.\n",
    "\n",
    "Y finalmente analizamos algunos resultados de la aplicación del modelo.\n",
    "\n",
    "ARIMA es un modelo que podemos profundizar en su estudio para desarrollar mejores predicciones."
   ]
  },
  {
   "cell_type": "markdown",
   "metadata": {
    "slideshow": {
     "slide_type": "slide"
    }
   },
   "source": [
    "<div class=\"div-dhds-fondo-1\"> Hands-on\n",
    "<img src=\"https://raw.githubusercontent.com/Digital-House-DATA/ds_blend_2021_img/master/M3/CLASE_21_Regresion_Lineal_Simple/Presentacion/img/M3_CLASE_21_separador.png\" align=\"center\" />\n",
    "\n",
    "</div>"
   ]
  },
  {
   "cell_type": "markdown",
   "metadata": {
    "slideshow": {
     "slide_type": "slide"
    }
   },
   "source": [
    "### Ejercicio\n",
    "\n",
    "----\n",
    "\n",
    "A partir de la serie con los valores de las acciones de General Motors:\n",
    "- Se genera un modelo de transformacion logaritmica con estacionalidad mensual.\n",
    "- Y una serie con los residuos: la diferencia entre la serie y los valores predichos.\n",
    "\n",
    "Sobre esta última serie debe:\n",
    "\n",
    "1. Aplicar el test de Dickey-Fuller aumentado, ADF, para validar que es estacionaria.\n",
    "2. Calcular los valores p y q para el modelo ARIMA(p,d,q).\n",
    "3. Generar el modelo ARIMA y calcular las predicciones.\n",
    "4. Sumamos los resultados del modelo ARIMA a los valores originales. Graficamos la serie junto con las estimaciones del modelo, en train y test."
   ]
  },
  {
   "cell_type": "code",
   "execution_count": null,
   "metadata": {
    "colab": {},
    "colab_type": "code",
    "id": "p2PHSRoPK8OK",
    "slideshow": {
     "slide_type": "fragment"
    }
   },
   "outputs": [],
   "source": [
    "import numpy as np\n",
    "import pandas as pd\n",
    "import matplotlib.pyplot as plt\n",
    "import seaborn as sns\n",
    "%matplotlib inline\n",
    "import warnings\n",
    "warnings.filterwarnings('ignore')"
   ]
  },
  {
   "cell_type": "markdown",
   "metadata": {
    "slideshow": {
     "slide_type": "subslide"
    }
   },
   "source": [
    "Leemos la serie y preparamos las variables."
   ]
  },
  {
   "cell_type": "code",
   "execution_count": null,
   "metadata": {
    "slideshow": {
     "slide_type": "fragment"
    }
   },
   "outputs": [],
   "source": [
    "df = pd.read_csv(\"../Data/GE.csv\", parse_dates=['date'], index_col='date')"
   ]
  },
  {
   "cell_type": "code",
   "execution_count": null,
   "metadata": {
    "slideshow": {
     "slide_type": "fragment"
    }
   },
   "outputs": [],
   "source": [
    "# Generamos nuevas variables\n",
    "df[\"timeIndex\"] = pd.Series(np.arange(len(df['value'])), index=df.index)\n",
    "df['log_value'] = np.log(df['value'])\n",
    "\n",
    "df['month'] = [d.strftime('%b') for d in df.index]\n",
    "dummies_mes = pd.get_dummies(df['month'])\n",
    "df = df.join(dummies_mes)"
   ]
  },
  {
   "cell_type": "code",
   "execution_count": null,
   "metadata": {
    "slideshow": {
     "slide_type": "fragment"
    }
   },
   "outputs": [],
   "source": [
    "print(df.shape)\n",
    "df.head(3)"
   ]
  },
  {
   "cell_type": "markdown",
   "metadata": {
    "slideshow": {
     "slide_type": "subslide"
    }
   },
   "source": [
    "Creamos el modelo sobre train, y predecimos el valor (el log de la serie 'model_log_est').\n",
    "\n",
    "Luego generamos el back transformation 'back_model_log_est', con una función exponencial."
   ]
  },
  {
   "cell_type": "code",
   "execution_count": null,
   "metadata": {
    "slideshow": {
     "slide_type": "fragment"
    }
   },
   "outputs": [],
   "source": [
    "# Dividimos en train y test\n",
    "from sklearn.model_selection import train_test_split\n",
    "df_train, df_test = train_test_split(df, test_size=12, random_state=42, shuffle=False)"
   ]
  },
  {
   "cell_type": "code",
   "execution_count": null,
   "metadata": {
    "slideshow": {
     "slide_type": "fragment"
    }
   },
   "outputs": [],
   "source": [
    "model_log_est = smf.ols( \\\n",
    "    'log_value ~ timeIndex + Aug + Dec + Feb + Jan + Jul + Jun + Mar + May + Nov + Oct + Sep', \\\n",
    "    data = df_train).fit()"
   ]
  },
  {
   "cell_type": "code",
   "execution_count": null,
   "metadata": {
    "slideshow": {
     "slide_type": "fragment"
    }
   },
   "outputs": [],
   "source": [
    "df_train['model_log_est'] = model_log_est.predict( \\\n",
    "    df_train[[\"timeIndex\", \"Aug\", \"Dec\", \"Feb\", \"Jan\", \"Jul\", \"Jun\", \"Mar\", \"May\", \"Nov\", \"Oct\", \"Sep\"]])\n",
    "df_test['model_log_est'] = model_log_est.predict( \\\n",
    "    df_test[[\"timeIndex\", \"Aug\", \"Dec\", \"Feb\", \"Jan\",\"Jul\", \"Jun\", \"Mar\", \"May\", \"Nov\", \"Oct\", \"Sep\"]])"
   ]
  },
  {
   "cell_type": "code",
   "execution_count": null,
   "metadata": {
    "slideshow": {
     "slide_type": "fragment"
    }
   },
   "outputs": [],
   "source": [
    "df_train['back_model_log_est'] = np.exp(df_train['model_log_est'])\n",
    "df_test['back_model_log_est'] = np.exp(df_test['model_log_est'])"
   ]
  },
  {
   "cell_type": "markdown",
   "metadata": {
    "slideshow": {
     "slide_type": "subslide"
    }
   },
   "source": [
    "Vamos a trabajar con los **residuos** de la última serie calculada, previamente calculados.\n",
    "\n",
    "Es decir, las diferencias entre el valor original de la serie y los valores predichos por el modelo con back transformation."
   ]
  },
  {
   "cell_type": "code",
   "execution_count": null,
   "metadata": {
    "slideshow": {
     "slide_type": "fragment"
    }
   },
   "outputs": [],
   "source": [
    "res_model = df_train['value'] - df_train['back_model_log_est']\n",
    "plt.figure(figsize=(4,3)); plt.plot(df_train.timeIndex, res_model, '-');plt.show()"
   ]
  },
  {
   "cell_type": "markdown",
   "metadata": {
    "slideshow": {
     "slide_type": "slide"
    }
   },
   "source": [
    "### Ejercicio 1\n",
    "\n",
    "----\n",
    "\n",
    "Aplicar el test de Dickey-Fuller aumentado, ADF, para validar que es estacionaria."
   ]
  },
  {
   "cell_type": "code",
   "execution_count": null,
   "metadata": {
    "slideshow": {
     "slide_type": "fragment"
    }
   },
   "outputs": [],
   "source": [
    "# result = ....\n",
    "# print('ADF Statistic: %f' % result[0])\n",
    "# print('p-value: %f' % result[1])\n",
    "# for key, value in  result[4].items():\n",
    "#     print('Valor crítico %s: %.2f' % (key,value))"
   ]
  },
  {
   "cell_type": "markdown",
   "metadata": {
    "slideshow": {
     "slide_type": "slide"
    }
   },
   "source": [
    "### Ejercicio 2\n",
    "\n",
    "----\n",
    "\n",
    "Calcular los valores p y q para el modelo ARIMA(p,d,q)."
   ]
  },
  {
   "cell_type": "code",
   "execution_count": null,
   "metadata": {
    "slideshow": {
     "slide_type": "fragment"
    }
   },
   "outputs": [],
   "source": [
    "from statsmodels.tsa.stattools import acf, pacf\n",
    "from statsmodels.graphics.tsaplots import plot_acf, plot_pacf"
   ]
  },
  {
   "cell_type": "code",
   "execution_count": null,
   "metadata": {
    "slideshow": {
     "slide_type": "subslide"
    }
   },
   "outputs": [],
   "source": [
    "fig, axes = plt.subplots(1, 2,figsize=(8,3))\n",
    "#smt.graphics.plot_acf(....., ....,ax=axes[0],title='ACF')\n",
    "#smt.graphics.plot_pacf(...., ....,ax=axes[1],title='PACF')\n",
    "plt.show()"
   ]
  },
  {
   "cell_type": "markdown",
   "metadata": {
    "slideshow": {
     "slide_type": "slide"
    }
   },
   "source": [
    "### Ejercicio 3\n",
    "\n",
    "----\n",
    "\n",
    "Generar el modelo ARIMA y calcular las predicciones."
   ]
  },
  {
   "cell_type": "code",
   "execution_count": null,
   "metadata": {
    "slideshow": {
     "slide_type": "fragment"
    }
   },
   "outputs": [],
   "source": [
    "from statsmodels.tsa.arima_model import ARIMA"
   ]
  },
  {
   "cell_type": "code",
   "execution_count": null,
   "metadata": {
    "slideshow": {
     "slide_type": "fragment"
    }
   },
   "outputs": [],
   "source": [
    "#model_ARIMA = ARIMA(....., order=(.,.,.))\n",
    "#results_ARIMA = model_ARIMA.fit()"
   ]
  },
  {
   "cell_type": "code",
   "execution_count": null,
   "metadata": {
    "slideshow": {
     "slide_type": "fragment"
    }
   },
   "outputs": [],
   "source": [
    "#predictions_ARIMA, se, conf = results_ARIMA.forecast(......), alpha=0.05)"
   ]
  },
  {
   "cell_type": "markdown",
   "metadata": {
    "slideshow": {
     "slide_type": "slide"
    }
   },
   "source": [
    "### Ejercicio 4\n",
    "\n",
    "----\n",
    "\n",
    "Sumamos los resultados del modelo ARIMA a los valores originales. Graficamos la serie junto con las estimaciones del modelo, en train y test.\n",
    "\n",
    "Recordemos que hicimos el modelo sobre los **residuos** de la última serie calculada, previamente calculados: las diferencias entre el valor original de la serie y los valores predichos por el modelo con back transformation."
   ]
  },
  {
   "cell_type": "code",
   "execution_count": null,
   "metadata": {
    "slideshow": {
     "slide_type": "fragment"
    }
   },
   "outputs": [],
   "source": [
    "#df_train['model_ARIMA'] = df_train['value'] + .....\n",
    "#df_test['model_ARIMA'] = df_test['value'] + ....."
   ]
  },
  {
   "cell_type": "markdown",
   "metadata": {
    "slideshow": {
     "slide_type": "subslide"
    }
   },
   "source": [
    "Comparamos la serie con las estimaciones del modelo, en train y test."
   ]
  },
  {
   "cell_type": "code",
   "execution_count": null,
   "metadata": {
    "slideshow": {
     "slide_type": "fragment"
    }
   },
   "outputs": [],
   "source": [
    "#df_train.plot(kind = \"line\", y = ['...', '....'],figsize=(10,3));"
   ]
  },
  {
   "cell_type": "code",
   "execution_count": null,
   "metadata": {
    "slideshow": {
     "slide_type": "fragment"
    }
   },
   "outputs": [],
   "source": [
    "#df_test.plot(kind = \"line\", y = ['...', '...'],figsize=(10,3));"
   ]
  },
  {
   "cell_type": "markdown",
   "metadata": {
    "slideshow": {
     "slide_type": "slide"
    }
   },
   "source": [
    "### Solución\n",
    "\n",
    "---"
   ]
  },
  {
   "cell_type": "code",
   "execution_count": null,
   "metadata": {
    "colab": {},
    "colab_type": "code",
    "id": "p2PHSRoPK8OK",
    "slideshow": {
     "slide_type": "fragment"
    }
   },
   "outputs": [],
   "source": [
    "import numpy as np\n",
    "import pandas as pd\n",
    "import matplotlib.pyplot as plt\n",
    "import seaborn as sns\n",
    "%matplotlib inline\n",
    "import warnings\n",
    "warnings.filterwarnings('ignore')"
   ]
  },
  {
   "cell_type": "markdown",
   "metadata": {
    "slideshow": {
     "slide_type": "subslide"
    }
   },
   "source": [
    "Leemos la serie y preparamos las variables."
   ]
  },
  {
   "cell_type": "code",
   "execution_count": null,
   "metadata": {
    "slideshow": {
     "slide_type": "fragment"
    }
   },
   "outputs": [],
   "source": [
    "df = pd.read_csv(\"../Data/GE.csv\", parse_dates=['date'], index_col='date')"
   ]
  },
  {
   "cell_type": "code",
   "execution_count": null,
   "metadata": {
    "slideshow": {
     "slide_type": "fragment"
    }
   },
   "outputs": [],
   "source": [
    "# Generamos nuevas variables\n",
    "df[\"timeIndex\"] = pd.Series(np.arange(len(df['value'])), index=df.index)\n",
    "df['log_value'] = np.log(df['value'])\n",
    "\n",
    "df['month'] = [d.strftime('%b') for d in df.index]\n",
    "dummies_mes = pd.get_dummies(df['month'])\n",
    "df = df.join(dummies_mes)"
   ]
  },
  {
   "cell_type": "code",
   "execution_count": null,
   "metadata": {
    "slideshow": {
     "slide_type": "fragment"
    }
   },
   "outputs": [],
   "source": [
    "print(df.shape)\n",
    "df.head(3)"
   ]
  },
  {
   "cell_type": "markdown",
   "metadata": {
    "slideshow": {
     "slide_type": "subslide"
    }
   },
   "source": [
    "Creamos el modelo sobre train, y predecimos el valor (el log de la serie 'model_log_est').\n",
    "\n",
    "Luego generamos el back transformation 'back_model_log_est', con una función exponencial."
   ]
  },
  {
   "cell_type": "code",
   "execution_count": null,
   "metadata": {
    "slideshow": {
     "slide_type": "fragment"
    }
   },
   "outputs": [],
   "source": [
    "# Dividimos en train y test\n",
    "from sklearn.model_selection import train_test_split\n",
    "df_train, df_test = train_test_split(df, test_size=12, random_state=42, shuffle=False)"
   ]
  },
  {
   "cell_type": "code",
   "execution_count": null,
   "metadata": {
    "slideshow": {
     "slide_type": "fragment"
    }
   },
   "outputs": [],
   "source": [
    "model_log_est = smf.ols( \\\n",
    "    'log_value ~ timeIndex + Aug + Dec + Feb + Jan + Jul + Jun + Mar + May + Nov + Oct + Sep',\\\n",
    "                          data = df_train).fit()"
   ]
  },
  {
   "cell_type": "code",
   "execution_count": null,
   "metadata": {
    "slideshow": {
     "slide_type": "fragment"
    }
   },
   "outputs": [],
   "source": [
    "df_train['model_log_est'] = model_log_est.predict( \\\n",
    "    df_train[[\"timeIndex\", \"Aug\", \"Dec\", \"Feb\", \"Jan\", \"Jul\", \"Jun\", \"Mar\", \"May\", \"Nov\", \"Oct\", \"Sep\"]])\n",
    "df_test['model_log_est'] = model_log_est.predict( \\\n",
    "    df_test[[\"timeIndex\", \"Aug\", \"Dec\", \"Feb\", \"Jan\",\"Jul\", \"Jun\", \"Mar\", \"May\", \"Nov\", \"Oct\", \"Sep\"]])"
   ]
  },
  {
   "cell_type": "code",
   "execution_count": null,
   "metadata": {
    "slideshow": {
     "slide_type": "fragment"
    }
   },
   "outputs": [],
   "source": [
    "df_train['back_model_log_est'] = np.exp(df_train['model_log_est'])\n",
    "df_test['back_model_log_est'] = np.exp(df_test['model_log_est'])"
   ]
  },
  {
   "cell_type": "markdown",
   "metadata": {
    "slideshow": {
     "slide_type": "subslide"
    }
   },
   "source": [
    "Vamos a trabajar con los **residuos** de la última serie calculada, previamente calculados.\n",
    "\n",
    "Es decir, las diferencias entre el valor original de la serie y los valores predichos por el modelo con back transformation."
   ]
  },
  {
   "cell_type": "code",
   "execution_count": null,
   "metadata": {
    "slideshow": {
     "slide_type": "fragment"
    }
   },
   "outputs": [],
   "source": [
    "res_model = df_train['value'] - df_train['back_model_log_est']\n",
    "plt.figure(figsize=(4,3)); plt.plot(df_train.timeIndex, res_model, '-');plt.show()"
   ]
  },
  {
   "cell_type": "markdown",
   "metadata": {
    "slideshow": {
     "slide_type": "slide"
    }
   },
   "source": [
    "### Ejercicio 1\n",
    "\n",
    "----\n",
    "\n",
    "Aplicar el test de Dickey-Fuller aumentado, ADF, para validar que es estacionaria.\n",
    "\n",
    "Muestra un p-value menor a 5%, por lo tanto es estacionaria. La podemos usar para el modelo ARIMA."
   ]
  },
  {
   "cell_type": "code",
   "execution_count": null,
   "metadata": {
    "slideshow": {
     "slide_type": "fragment"
    }
   },
   "outputs": [],
   "source": [
    "result = adfuller(res_model)\n",
    "print('ADF Statistic: %f' % result[0])\n",
    "print('p-value: %f' % result[1])\n",
    "for key, value in  result[4].items():\n",
    "    print('Valor crítico %s: %.2f' % (key,value))"
   ]
  },
  {
   "cell_type": "markdown",
   "metadata": {
    "slideshow": {
     "slide_type": "slide"
    }
   },
   "source": [
    "### Ejercicio 2\n",
    "\n",
    "----\n",
    "\n",
    "Calcular los valores p y q para el modelo ARIMA(p,d,q).\n",
    "\n",
    "Generamos los plot ACF y PACF sobre la serie, con 20 rezagos (lags).\n",
    "\n",
    "En nuestro ejemplo, *ACF cae en forma exponencial* y *PACF tiene dos picos significativos* .\n",
    "\n",
    "Por lo tanto asumimos $p = 2$ y $q = 0$. También podriamos considerar  $p = 2$ y $q = 2$ y chequear cual tiene mejor performance."
   ]
  },
  {
   "cell_type": "code",
   "execution_count": null,
   "metadata": {
    "slideshow": {
     "slide_type": "fragment"
    }
   },
   "outputs": [],
   "source": [
    "from statsmodels.tsa.stattools import acf, pacf\n",
    "from statsmodels.graphics.tsaplots import plot_acf, plot_pacf"
   ]
  },
  {
   "cell_type": "code",
   "execution_count": null,
   "metadata": {
    "slideshow": {
     "slide_type": "subslide"
    }
   },
   "outputs": [],
   "source": [
    "fig, axes = plt.subplots(1, 2,figsize=(8,3))\n",
    "smt.graphics.plot_acf(res_model, lags=20,ax=axes[0],title='ACF')\n",
    "smt.graphics.plot_pacf(res_model, lags=20,ax=axes[1],title='PACF')\n",
    "plt.show()"
   ]
  },
  {
   "cell_type": "markdown",
   "metadata": {
    "slideshow": {
     "slide_type": "slide"
    }
   },
   "source": [
    "### Ejercicio 3\n",
    "\n",
    "----\n",
    "\n",
    "Generar el modelo ARIMA y calcular las predicciones.\n",
    "\n",
    "Instanciamos el modelo con los parámetros determinados en el análisis de ACF y PACF.\n",
    "\n",
    "- p=2, d=0, q=0. \n",
    "\n",
    "$d=0$ porque la serie es estacionaria.\n",
    "\n",
    "Hacemos las predicciones con el método `forecast()`."
   ]
  },
  {
   "cell_type": "code",
   "execution_count": null,
   "metadata": {
    "slideshow": {
     "slide_type": "fragment"
    }
   },
   "outputs": [],
   "source": [
    "from statsmodels.tsa.arima_model import ARIMA"
   ]
  },
  {
   "cell_type": "code",
   "execution_count": null,
   "metadata": {
    "slideshow": {
     "slide_type": "fragment"
    }
   },
   "outputs": [],
   "source": [
    "model_ARIMA = ARIMA(res_model, order=(2,0,0))\n",
    "results_ARIMA = model_ARIMA.fit()"
   ]
  },
  {
   "cell_type": "code",
   "execution_count": null,
   "metadata": {
    "slideshow": {
     "slide_type": "fragment"
    }
   },
   "outputs": [],
   "source": [
    "predictions_ARIMA, se, conf = results_ARIMA.forecast(len(df_test['value']), alpha=0.05)"
   ]
  },
  {
   "cell_type": "markdown",
   "metadata": {
    "slideshow": {
     "slide_type": "slide"
    }
   },
   "source": [
    "### Ejercicio 4\n",
    "\n",
    "----\n",
    "\n",
    "Sumamos los resultados del modelo ARIMA a los valores originales. Graficamos la serie junto con las estimaciones del modelo, en train y test.\n",
    "\n",
    "Recordemos que hicimos el modelo sobre los **residuos** de la última serie calculada, previamente calculados: las diferencias entre el valor original de la serie y los valores predichos por el modelo con back transformation."
   ]
  },
  {
   "cell_type": "code",
   "execution_count": null,
   "metadata": {
    "slideshow": {
     "slide_type": "fragment"
    }
   },
   "outputs": [],
   "source": [
    "df_train['model_ARIMA'] = df_train['value'] + results_ARIMA.fittedvalues\n",
    "df_test['model_ARIMA'] = df_test['value'] + predictions_ARIMA"
   ]
  },
  {
   "cell_type": "markdown",
   "metadata": {
    "slideshow": {
     "slide_type": "subslide"
    }
   },
   "source": [
    "Comparamos la serie con las estimaciones del modelo, en train y test."
   ]
  },
  {
   "cell_type": "code",
   "execution_count": null,
   "metadata": {
    "slideshow": {
     "slide_type": "fragment"
    }
   },
   "outputs": [],
   "source": [
    "df_train.plot(kind = \"line\", y = ['value', 'model_ARIMA'],figsize=(10,3));"
   ]
  },
  {
   "cell_type": "code",
   "execution_count": null,
   "metadata": {
    "slideshow": {
     "slide_type": "fragment"
    }
   },
   "outputs": [],
   "source": [
    "df_test.plot(kind = \"line\", y = ['value', 'model_ARIMA'],figsize=(10,3));"
   ]
  },
  {
   "cell_type": "markdown",
   "metadata": {
    "slideshow": {
     "slide_type": "slide"
    }
   },
   "source": [
    "<div class=\"div-dhds-fondo-1\"> Referencias y Material Adicional\n",
    "<img src=\"https://raw.githubusercontent.com/Digital-House-DATA/ds_blend_2021_img/master/M3/CLASE_21_Regresion_Lineal_Simple/Presentacion/img/M3_CLASE_21_separador.png\" align=\"center\" />\n",
    "\n",
    "</div>"
   ]
  },
  {
   "cell_type": "markdown",
   "metadata": {
    "slideshow": {
     "slide_type": "slide"
    }
   },
   "source": [
    "### Referencias y Material Adicional\n",
    "\n",
    "---\n",
    "\n",
    "<a href=\"https://www.statsmodels.org/stable/index.html\" target=\"_blank\">statmodels</a>\n",
    "\n",
    "<a href=\"https://pandas.pydata.org/pandas-docs/version/0.23/timeseries.html\" target=\"_blank\">Pandas - Time Series / Date functionality</a>\n",
    "\n",
    "<a href=\"https://towardsdatascience.com/stationarity-in-time-series-analysis-90c94f27322\" target=\"_blank\">Stationarity in time series analysis</a>\n",
    "\n",
    "<a href=\"https://otexts.com/fpp2/stationarity.html\" target=\"_blank\">Forecasting: Principles and Practice - Estacionaridad</a>\n",
    "\n",
    "<a href=\"https://towardsdatascience.com/pandas-resample-tricks-you-should-know-for-manipulating-time-series-data-7e9643a7e7f3\" target=\"_blank\">Pandas resample() tricks you should know for manipulating time-series data</a>\n",
    "\n",
    "<a href=\"https://towardsdatascience.com/time-series-in-python-exponential-smoothing-and-arima-processes-2c67f2a52788\" target=\"_blank\">Time Series in Python — Exponential Smoothing and ARIMA processes</a>\n",
    "\n",
    "<a href=\"https://www.analyticsvidhya.com/blog/2018/02/time-series-forecasting-methods/\" target=\"_blank\">Time Series Forecasting Methods</a>\n",
    "\n",
    "<a href=\"https://towardsdatascience.com/moving-averages-in-python-16170e20f6c\" target=\"_blank\">Moving averages with Python</a>\n",
    "\n",
    "<a href=\"https://www.machinelearningplus.com/time-series/augmented-dickey-fuller-test/\" target=\"_blank\">Augmented Dickey Fuller Test</a>\n",
    "\n",
    "<a href=\"https://www.machinelearningplus.com/time-series/arima-model-time-series-forecasting-python/\" target=\"_blank\">ARIMA Model – Complete Guide to Time Series Forecasting in Python</a>"
   ]
  }
 ],
 "metadata": {
  "kernelspec": {
   "display_name": "Python 3",
   "language": "python",
   "name": "python3"
  },
  "language_info": {
   "codemirror_mode": {
    "name": "ipython",
    "version": 3
   },
   "file_extension": ".py",
   "mimetype": "text/x-python",
   "name": "python",
   "nbconvert_exporter": "python",
   "pygments_lexer": "ipython3",
   "version": "3.8.5"
  }
 },
 "nbformat": 4,
 "nbformat_minor": 4
}
