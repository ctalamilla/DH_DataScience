{
 "cells": [
  {
   "cell_type": "code",
   "execution_count": 1,
   "metadata": {},
   "outputs": [
    {
     "name": "stdout",
     "output_type": "stream",
     "text": [
      "/Users/ctalamilla/Desktop/DH_DataScience/clase_09/dsad_2021/common\n",
      "default checking\n",
      "Running command `conda list`... ok\n",
      "jupyterlab=2.2.6 already installed\n",
      "pandas=1.1.5 already installed\n",
      "bokeh=2.2.3 already installed\n",
      "seaborn=0.11.0 already installed\n",
      "matplotlib=3.3.2 already installed\n",
      "ipywidgets=7.5.1 already installed\n",
      "pytest=6.2.1 already installed\n",
      "chardet=4.0.0 already installed\n",
      "psutil=5.7.2 already installed\n",
      "scipy=1.5.2 already installed\n",
      "statsmodels=0.12.1 already installed\n",
      "scikit-learn=0.23.2 already installed\n",
      "xlrd=2.0.1 already installed\n",
      "Running command `conda install --yes nltk=3.5.0`... ok\n",
      "Collecting package metadata (current_repodata.json): ...working... done\n",
      "Solving environment: ...working... done\n",
      "\n",
      "# All requested packages already installed.\n",
      "\n",
      "\n",
      "unidecode=1.1.1 already installed\n",
      "pydotplus=2.0.2 already installed\n",
      "pandas-datareader=0.9.0 already installed\n",
      "flask=1.1.2 already installed\n"
     ]
    }
   ],
   "source": [
    "# initial setup\n",
    "%run \"../../../common/0_notebooks_base_setup.py\"\n"
   ]
  },
  {
   "cell_type": "markdown",
   "metadata": {},
   "source": [
    "Los temas que vimos en esta parte son limpieza de datos, expresiones regulares, funciones lambda, apply .\n",
    "\n",
    "La idea de esta práctica es ejercitar los puntos que vamos a necesitar en la clase presencial.\n",
    "\n",
    "Usaremos el dataset de las obras del Met (The Metropolitan Museum of Art)\n",
    "\n",
    "https://github.com/metmuseum/openaccess/\n",
    "\n"
   ]
  },
  {
   "cell_type": "markdown",
   "metadata": {},
   "source": [
    "## Ejercicio 1\n",
    "Vamos a leer en la variable `data` los datos del archivo /M2/CLASE_05_Limpieza_de_datos/Data/MetObjects_sample.csv en un `DataFrame` de pandas con el método `read_csv` \n",
    "\n",
    "Veamos de qué tipos de datos son las columnas.\n"
   ]
  },
  {
   "cell_type": "code",
   "execution_count": 5,
   "metadata": {},
   "outputs": [
    {
     "data": {
      "text/html": [
       "<div>\n",
       "<style scoped>\n",
       "    .dataframe tbody tr th:only-of-type {\n",
       "        vertical-align: middle;\n",
       "    }\n",
       "\n",
       "    .dataframe tbody tr th {\n",
       "        vertical-align: top;\n",
       "    }\n",
       "\n",
       "    .dataframe thead th {\n",
       "        text-align: right;\n",
       "    }\n",
       "</style>\n",
       "<table border=\"1\" class=\"dataframe\">\n",
       "  <thead>\n",
       "    <tr style=\"text-align: right;\">\n",
       "      <th></th>\n",
       "      <th>Unnamed: 0</th>\n",
       "      <th>Object Number</th>\n",
       "      <th>Is Highlight</th>\n",
       "      <th>Is Public Domain</th>\n",
       "      <th>Is Timeline Work</th>\n",
       "      <th>Object ID</th>\n",
       "      <th>Department</th>\n",
       "      <th>AccessionYear</th>\n",
       "      <th>Object Name</th>\n",
       "      <th>Title</th>\n",
       "      <th>...</th>\n",
       "      <th>Excavation</th>\n",
       "      <th>River</th>\n",
       "      <th>Classification</th>\n",
       "      <th>Rights and Reproduction</th>\n",
       "      <th>Link Resource</th>\n",
       "      <th>Object Wikidata URL</th>\n",
       "      <th>Metadata Date</th>\n",
       "      <th>Repository</th>\n",
       "      <th>Tags</th>\n",
       "      <th>Tags AAT URL</th>\n",
       "    </tr>\n",
       "  </thead>\n",
       "  <tbody>\n",
       "    <tr>\n",
       "      <th>0</th>\n",
       "      <td>297513</td>\n",
       "      <td>Inst.1980.3.1</td>\n",
       "      <td>False</td>\n",
       "      <td>False</td>\n",
       "      <td>False</td>\n",
       "      <td>442985</td>\n",
       "      <td>Islamic Art</td>\n",
       "      <td>NaN</td>\n",
       "      <td>Illustrated single work</td>\n",
       "      <td>Illustrated Single Work</td>\n",
       "      <td>...</td>\n",
       "      <td>NaN</td>\n",
       "      <td>NaN</td>\n",
       "      <td>Codices</td>\n",
       "      <td>NaN</td>\n",
       "      <td>http://www.metmuseum.org/art/collection/search...</td>\n",
       "      <td>NaN</td>\n",
       "      <td>NaN</td>\n",
       "      <td>Metropolitan Museum of Art, New York, NY</td>\n",
       "      <td>Abstraction</td>\n",
       "      <td>http://vocab.getty.edu/page/aat/300056508</td>\n",
       "    </tr>\n",
       "    <tr>\n",
       "      <th>1</th>\n",
       "      <td>366196</td>\n",
       "      <td>175T49 R43</td>\n",
       "      <td>True</td>\n",
       "      <td>False</td>\n",
       "      <td>False</td>\n",
       "      <td>591826</td>\n",
       "      <td>The Libraries</td>\n",
       "      <td>NaN</td>\n",
       "      <td>NaN</td>\n",
       "      <td>Vita del Tintoretto</td>\n",
       "      <td>...</td>\n",
       "      <td>NaN</td>\n",
       "      <td>NaN</td>\n",
       "      <td>NaN</td>\n",
       "      <td>NaN</td>\n",
       "      <td>http://www.metmuseum.org/art/collection/search...</td>\n",
       "      <td>https://www.wikidata.org/wiki/Q29385980</td>\n",
       "      <td>NaN</td>\n",
       "      <td>Metropolitan Museum of Art, New York, NY</td>\n",
       "      <td>NaN</td>\n",
       "      <td>NaN</td>\n",
       "    </tr>\n",
       "    <tr>\n",
       "      <th>2</th>\n",
       "      <td>380983</td>\n",
       "      <td>WW.550</td>\n",
       "      <td>False</td>\n",
       "      <td>False</td>\n",
       "      <td>False</td>\n",
       "      <td>650203</td>\n",
       "      <td>Drawings and Prints</td>\n",
       "      <td>NaN</td>\n",
       "      <td>Print</td>\n",
       "      <td>Flowers and Dragonfly</td>\n",
       "      <td>...</td>\n",
       "      <td>NaN</td>\n",
       "      <td>NaN</td>\n",
       "      <td>Prints</td>\n",
       "      <td>NaN</td>\n",
       "      <td>http://www.metmuseum.org/art/collection/search...</td>\n",
       "      <td>NaN</td>\n",
       "      <td>NaN</td>\n",
       "      <td>Metropolitan Museum of Art, New York, NY</td>\n",
       "      <td>Dragonflies|Flowers</td>\n",
       "      <td>http://vocab.getty.edu/page/aat/300310476|http...</td>\n",
       "    </tr>\n",
       "  </tbody>\n",
       "</table>\n",
       "<p>3 rows × 52 columns</p>\n",
       "</div>"
      ],
      "text/plain": [
       "   Unnamed: 0  Object Number  Is Highlight  Is Public Domain  \\\n",
       "0      297513  Inst.1980.3.1         False             False   \n",
       "1      366196     175T49 R43          True             False   \n",
       "2      380983         WW.550         False             False   \n",
       "\n",
       "   Is Timeline Work  Object ID           Department AccessionYear  \\\n",
       "0             False     442985          Islamic Art           NaN   \n",
       "1             False     591826        The Libraries           NaN   \n",
       "2             False     650203  Drawings and Prints           NaN   \n",
       "\n",
       "               Object Name                    Title  ... Excavation River  \\\n",
       "0  Illustrated single work  Illustrated Single Work  ...        NaN   NaN   \n",
       "1                      NaN      Vita del Tintoretto  ...        NaN   NaN   \n",
       "2                    Print    Flowers and Dragonfly  ...        NaN   NaN   \n",
       "\n",
       "  Classification Rights and Reproduction  \\\n",
       "0        Codices                     NaN   \n",
       "1            NaN                     NaN   \n",
       "2         Prints                     NaN   \n",
       "\n",
       "                                       Link Resource  \\\n",
       "0  http://www.metmuseum.org/art/collection/search...   \n",
       "1  http://www.metmuseum.org/art/collection/search...   \n",
       "2  http://www.metmuseum.org/art/collection/search...   \n",
       "\n",
       "                       Object Wikidata URL Metadata Date  \\\n",
       "0                                      NaN           NaN   \n",
       "1  https://www.wikidata.org/wiki/Q29385980           NaN   \n",
       "2                                      NaN           NaN   \n",
       "\n",
       "                                 Repository                 Tags  \\\n",
       "0  Metropolitan Museum of Art, New York, NY          Abstraction   \n",
       "1  Metropolitan Museum of Art, New York, NY                  NaN   \n",
       "2  Metropolitan Museum of Art, New York, NY  Dragonflies|Flowers   \n",
       "\n",
       "                                        Tags AAT URL  \n",
       "0          http://vocab.getty.edu/page/aat/300056508  \n",
       "1                                                NaN  \n",
       "2  http://vocab.getty.edu/page/aat/300310476|http...  \n",
       "\n",
       "[3 rows x 52 columns]"
      ]
     },
     "execution_count": 5,
     "metadata": {},
     "output_type": "execute_result"
    }
   ],
   "source": [
    "import pandas as pd\n",
    "\n",
    "# local\n",
    "data_location = \"../Data/MetObjects_sample.csv\"\n",
    "\n",
    "data = pd.read_csv(data_location)\n",
    "\n",
    "data.head(3)"
   ]
  },
  {
   "cell_type": "markdown",
   "metadata": {},
   "source": [
    "## Ejercicio 2\n",
    "¿Qué campos tienen valores nulos? ¿Qué porcentaje de nulos tienen cada uno de ellos?"
   ]
  },
  {
   "cell_type": "code",
   "execution_count": 7,
   "metadata": {},
   "outputs": [
    {
     "data": {
      "text/plain": [
       "Index(['Unnamed: 0', 'Object Number', 'Is Highlight', 'Is Public Domain',\n",
       "       'Is Timeline Work', 'Object ID', 'Department', 'AccessionYear',\n",
       "       'Object Name', 'Title', 'Culture', 'Period', 'Dynasty', 'Reign',\n",
       "       'Portfolio', 'Artist Role', 'Artist Prefix', 'Artist Display Name',\n",
       "       'Artist Display Bio', 'Artist Suffix', 'Artist Alpha Sort',\n",
       "       'Artist Nationality', 'Artist Begin Date', 'Artist End Date',\n",
       "       'Artist Gender', 'Artist ULAN URL', 'Artist Wikidata URL',\n",
       "       'Object Date', 'Object Begin Date', 'Object End Date', 'Medium',\n",
       "       'Dimensions', 'Credit Line', 'Geography Type', 'City', 'State',\n",
       "       'County', 'Country', 'Region', 'Subregion', 'Locale', 'Locus',\n",
       "       'Excavation', 'River', 'Classification', 'Rights and Reproduction',\n",
       "       'Link Resource', 'Object Wikidata URL', 'Metadata Date', 'Repository',\n",
       "       'Tags', 'Tags AAT URL'],\n",
       "      dtype='object')"
      ]
     },
     "execution_count": 7,
     "metadata": {},
     "output_type": "execute_result"
    }
   ],
   "source": [
    "data.columns"
   ]
  },
  {
   "cell_type": "code",
   "execution_count": 9,
   "metadata": {},
   "outputs": [
    {
     "data": {
      "text/plain": [
       "Metadata Date              100.000000\n",
       "River                       99.746996\n",
       "State                       99.620493\n",
       "Locus                       99.346405\n",
       "County                      98.545225\n",
       "Reign                       98.503057\n",
       "Excavation                  98.460890\n",
       "Artist Suffix               98.334388\n",
       "Locale                      98.313304\n",
       "Rights and Reproduction     97.301286\n",
       "Subregion                   97.174784\n",
       "Portfolio                   96.963947\n",
       "Dynasty                     96.120599\n",
       "Region                      95.635674\n",
       "Object Wikidata URL         95.424837\n",
       "City                        94.476070\n",
       "Geography Type              88.762387\n",
       "Country                     86.042589\n",
       "Artist Prefix               84.482395\n",
       "Artist Gender               79.084967\n",
       "Artist Wikidata URL         72.317099\n",
       "Period                      72.190597\n",
       "Artist Nationality          66.814253\n",
       "Artist ULAN URL             62.492094\n",
       "Artist End Date             55.977230\n",
       "Artist Begin Date           55.787476\n",
       "Artist Display Bio          55.471221\n",
       "Tags AAT URL                52.435168\n",
       "Tags                        52.435168\n",
       "Culture                     51.127978\n",
       "Artist Role                 49.736454\n",
       "Artist Alpha Sort           49.441282\n",
       "Artist Display Name         49.441282\n",
       "Object Date                 33.101413\n",
       "AccessionYear               21.083702\n",
       "Title                       17.478389\n",
       "Dimensions                  10.710521\n",
       "Classification               9.487666\n",
       "Medium                       2.783049\n",
       "Object Name                  1.855366\n",
       "Credit Line                  1.265022\n",
       "Is Public Domain             0.000000\n",
       "Object ID                    0.000000\n",
       "Is Highlight                 0.000000\n",
       "Object Number                0.000000\n",
       "Is Timeline Work             0.000000\n",
       "Repository                   0.000000\n",
       "Department                   0.000000\n",
       "Link Resource                0.000000\n",
       "Object End Date              0.000000\n",
       "Object Begin Date            0.000000\n",
       "Unnamed: 0                   0.000000\n",
       "dtype: float64"
      ]
     },
     "execution_count": 9,
     "metadata": {},
     "output_type": "execute_result"
    }
   ],
   "source": [
    "data.isnull().sum().apply( lambda x: (x / data.shape[0])*100).sort_values(ascending= False)"
   ]
  },
  {
   "cell_type": "code",
   "execution_count": 18,
   "metadata": {},
   "outputs": [
    {
     "data": {
      "text/plain": [
       "Metadata Date              4743\n",
       "River                      4731\n",
       "State                      4725\n",
       "Locus                      4712\n",
       "County                     4674\n",
       "Reign                      4672\n",
       "Excavation                 4670\n",
       "Artist Suffix              4664\n",
       "Locale                     4663\n",
       "Rights and Reproduction    4615\n",
       "Subregion                  4609\n",
       "Portfolio                  4599\n",
       "Dynasty                    4559\n",
       "Region                     4536\n",
       "Object Wikidata URL        4526\n",
       "City                       4481\n",
       "Geography Type             4210\n",
       "Country                    4081\n",
       "Artist Prefix              4007\n",
       "Artist Gender              3751\n",
       "Artist Wikidata URL        3430\n",
       "Period                     3424\n",
       "Artist Nationality         3169\n",
       "Artist ULAN URL            2964\n",
       "Artist End Date            2655\n",
       "Artist Begin Date          2646\n",
       "Artist Display Bio         2631\n",
       "Tags AAT URL               2487\n",
       "Tags                       2487\n",
       "Culture                    2425\n",
       "Artist Role                2359\n",
       "Artist Alpha Sort          2345\n",
       "Artist Display Name        2345\n",
       "Object Date                1570\n",
       "AccessionYear              1000\n",
       "Title                       829\n",
       "Dimensions                  508\n",
       "Classification              450\n",
       "Medium                      132\n",
       "Object Name                  88\n",
       "Credit Line                  60\n",
       "Is Public Domain              0\n",
       "Object ID                     0\n",
       "Is Highlight                  0\n",
       "Object Number                 0\n",
       "Is Timeline Work              0\n",
       "Repository                    0\n",
       "Department                    0\n",
       "Link Resource                 0\n",
       "Object End Date               0\n",
       "Object Begin Date             0\n",
       "Unnamed: 0                    0\n",
       "dtype: int64"
      ]
     },
     "execution_count": 18,
     "metadata": {},
     "output_type": "execute_result"
    }
   ],
   "source": [
    "data.apply(lambda x: x.isnull().sum(), axis=0).sort_values(ascending= False)"
   ]
  },
  {
   "cell_type": "markdown",
   "metadata": {},
   "source": [
    "## Ejercicio 3\n",
    "\n",
    "Analicemos la columna Object Date\n",
    "\n",
    "¿Qué formato tienen los valores de este campo? ¿Qué patrones pueden identificar?\n",
    "\n",
    "Sugerencia: recuerden el método value_counts\n",
    "https://pandas.pydata.org/pandas-docs/stable/reference/api/pandas.Series.value_counts.html"
   ]
  },
  {
   "cell_type": "code",
   "execution_count": 12,
   "metadata": {},
   "outputs": [
    {
     "data": {
      "text/plain": [
       "str"
      ]
     },
     "execution_count": 12,
     "metadata": {},
     "output_type": "execute_result"
    }
   ],
   "source": [
    "type(data['Object Date'][1])"
   ]
  },
  {
   "cell_type": "code",
   "execution_count": 13,
   "metadata": {},
   "outputs": [
    {
     "data": {
      "text/plain": [
       "0                            20th century\n",
       "1                                    1642\n",
       "2                                    1911\n",
       "3                                    1909\n",
       "4                           June 20, 1867\n",
       "                      ...                \n",
       "4738                    1782, 2nd edition\n",
       "4739                             ca. 1938\n",
       "4740    3rd century B.C.–A.D. 4th century\n",
       "4741                                 1669\n",
       "4742                             ca. 1925\n",
       "Name: Object Date, Length: 4743, dtype: object"
      ]
     },
     "execution_count": 13,
     "metadata": {},
     "output_type": "execute_result"
    }
   ],
   "source": [
    "data['Object Date']"
   ]
  },
  {
   "cell_type": "code",
   "execution_count": 15,
   "metadata": {},
   "outputs": [
    {
     "data": {
      "text/plain": [
       "19th century          130\n",
       "18th century           80\n",
       "17th century           65\n",
       "1912                   54\n",
       "1911                   50\n",
       "                     ... \n",
       "ca. 1623                1\n",
       "ca. 1730–86             1\n",
       "ca. 1504–1492 B.C.      1\n",
       "ca. 1968                1\n",
       "1723–97                 1\n",
       "Name: Object Date, Length: 1378, dtype: int64"
      ]
     },
     "execution_count": 15,
     "metadata": {},
     "output_type": "execute_result"
    }
   ],
   "source": [
    "data['Object Date'].value_counts()"
   ]
  },
  {
   "cell_type": "markdown",
   "metadata": {},
   "source": [
    "## Ejercicio 4\n",
    "\n",
    "Usando expresiones regulares, apply y funciones lambda, creemos un nuevo campo \"ObjectDateClean\" que sea de tipo numérico y tenga el valor del año corresponiente a cada registro extrayéndolo del campo ObjectDate.\n",
    "\n",
    "¿Qué características tienen los valores de los registros que no verificaron ningún patrón de los definidos?\n",
    "\n",
    "Ayuda: Identifiquemos los patrones y decidamos cómo extraer el año de los valores de los registros que verifican cada uno de esos patrones. Después, de a un patrón, usemos la estrategia que definimos antes para extraer el valor del año de los registros que lo verifican."
   ]
  },
  {
   "cell_type": "code",
   "execution_count": 16,
   "metadata": {},
   "outputs": [],
   "source": [
    "import re \n",
    "import numpy as np \n"
   ]
  },
  {
   "cell_type": "code",
   "execution_count": null,
   "metadata": {},
   "outputs": [],
   "source": []
  },
  {
   "cell_type": "markdown",
   "metadata": {},
   "source": [
    "Posiblemente veamos que nos faltó considerar:\n",
    "* los valores terminados en BC o B.C., y marcar esos años como negativos \n",
    "* considerar los períodos que tienen siglos, en lugar de años\n",
    "* borrar las C. que aparecen de sufijo\n",
    "* Considerar pallabras mals escritas como \"cenutry\"\n",
    "\n",
    "Si tienen ganas de seguir practicando pueden resolver algunos de éstos.\n"
   ]
  }
 ],
 "metadata": {
  "kernelspec": {
   "display_name": "Python 3.8.13 ('dhdsblend2021')",
   "language": "python",
   "name": "python3"
  },
  "language_info": {
   "codemirror_mode": {
    "name": "ipython",
    "version": 3
   },
   "file_extension": ".py",
   "mimetype": "text/x-python",
   "name": "python",
   "nbconvert_exporter": "python",
   "pygments_lexer": "ipython3",
   "version": "3.8.13"
  },
  "vscode": {
   "interpreter": {
    "hash": "d8640428ed65ace219c2cd70f99da9356404a09732ea7ac413c5d9f431e79dd4"
   }
  }
 },
 "nbformat": 4,
 "nbformat_minor": 4
}
