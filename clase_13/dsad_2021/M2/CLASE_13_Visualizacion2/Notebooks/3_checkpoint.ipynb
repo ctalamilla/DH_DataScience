{
 "cells": [
  {
   "cell_type": "code",
   "execution_count": 2,
   "metadata": {},
   "outputs": [
    {
     "name": "stdout",
     "output_type": "stream",
     "text": [
      "/media/paulati/Nuevo vol/paula/dh/2021/dsad_2021_paula/common\n",
      "default checking\n",
      "Running command `conda list`... ok\n",
      "jupyterlab=2.2.6 already installed\n",
      "pandas=1.1.5 already installed\n",
      "bokeh=2.2.3 already installed\n",
      "seaborn=0.11.0 already installed\n",
      "matplotlib=3.3.2 already installed\n",
      "ipywidgets=7.5.1 already installed\n",
      "pytest=6.2.1 already installed\n",
      "chardet=4.0.0 already installed\n",
      "psutil=5.7.2 already installed\n",
      "scipy=1.5.2 already installed\n",
      "statsmodels=0.12.1 already installed\n",
      "scikit-learn=0.23.2 already installed\n",
      "xlrd=2.0.1 already installed\n",
      "Running command `conda install --yes nltk=3.5.0`... ok\n",
      "Collecting package metadata (current_repodata.json): ...working... done\n",
      "Solving environment: ...working... done\n",
      "\n",
      "# All requested packages already installed.\n",
      "\n",
      "\n",
      "unidecode=1.1.1 already installed\n",
      "pydotplus=2.0.2 already installed\n",
      "pandas-datareader=0.9.0 already installed\n",
      "flask=1.1.2 already installed\n"
     ]
    }
   ],
   "source": [
    "# initial setup\n",
    "%run \"../../../common/0_notebooks_base_setup.py\"\n"
   ]
  },
  {
   "cell_type": "markdown",
   "metadata": {},
   "source": [
    "---\n",
    "\n",
    "<img src='../../../common/logo_DH.png' align='left' width=35%/>\n"
   ]
  },
  {
   "cell_type": "markdown",
   "metadata": {},
   "source": [
    "# Visualización 2 - bokeh y plotly\n",
    "\n",
    "---"
   ]
  },
  {
   "cell_type": "markdown",
   "metadata": {},
   "source": [
    "## Dataset\n",
    "\n",
    "En esta práctica vamos a usar datos de COVID-19 que disponibiliza Johns Hopkins University en \n",
    "\n",
    "https://github.com/CSSEGISandData/COVID-19\n",
    "\n",
    "Novel Coronavirus COVID-19 (2019-nCoV) Data Repository by Johns Hopkins CSSE (CSSE = Computer Science and Software Engineering)\n",
    "\n",
    "Los datasets que usamos se actualizan diariamente y llevan el registro de cantidad de confirmados, muertos y recuperados por país y región.\n",
    "\n",
    "Usando estos datos vamos a construir algunas visualizaciones con las bibliotecas bokeh y plotly.\n",
    "\n",
    "(Nota: la actualizacion es diaria en mayo 2020.)\n"
   ]
  },
  {
   "cell_type": "markdown",
   "metadata": {},
   "source": [
    "## Imports"
   ]
  },
  {
   "cell_type": "code",
   "execution_count": 3,
   "metadata": {},
   "outputs": [],
   "source": [
    "import pandas as pd\n",
    "import numpy as np\n",
    "import datetime"
   ]
  },
  {
   "cell_type": "markdown",
   "metadata": {},
   "source": [
    "## Leemos los datos desde github"
   ]
  },
  {
   "cell_type": "code",
   "execution_count": 4,
   "metadata": {},
   "outputs": [],
   "source": [
    "world_confirmed_url = 'https://raw.githubusercontent.com/CSSEGISandData/COVID-19/master/csse_covid_19_data/csse_covid_19_time_series/time_series_covid19_confirmed_global.csv'\n",
    "world_deaths_url = 'https://raw.githubusercontent.com/CSSEGISandData/COVID-19/master/csse_covid_19_data/csse_covid_19_time_series/time_series_covid19_deaths_global.csv'\n",
    "world_recovered_url = 'https://raw.githubusercontent.com/CSSEGISandData/COVID-19/master/csse_covid_19_data/csse_covid_19_time_series/time_series_covid19_recovered_global.csv'\n",
    "\n",
    "world_confirmed = pd.read_csv(world_confirmed_url)\n",
    "world_deaths = pd.read_csv(world_deaths_url)\n",
    "world_recovered = pd.read_csv(world_recovered_url)"
   ]
  },
  {
   "cell_type": "markdown",
   "metadata": {},
   "source": [
    "## Ejercicio 1\n",
    "\n",
    "Construyamos tres DataFrame (confirmed_data, deaths_data, recovered_data) con las siguiente columnas\n",
    "* Country, de tipo string\n",
    "* Fecha, de tipo timestamp\n",
    "* Cantidad, de tipo int\n",
    "\n",
    "Como esta operación tenemos que repetirla para los tres DataFrame, definamos una función que lo resuelva.\n",
    "\n",
    "Ayuda: usemos la función `melt` de pandas\n",
    "\n",
    "https://pandas.pydata.org/docs/reference/api/pandas.melt.html\n"
   ]
  },
  {
   "cell_type": "code",
   "execution_count": null,
   "metadata": {},
   "outputs": [],
   "source": []
  },
  {
   "cell_type": "markdown",
   "metadata": {},
   "source": [
    "## Ejercicio 2 - Preparación de datos\n",
    "\n",
    "Vamos a construir dos DataFrames.\n",
    "\n",
    "Elijamos los 10 países con mayor cantidad de infectados para la fecha 2 de mayo de 2020.\n",
    "\n",
    "**DataFrame 1: data_confirmed_countries**\n",
    "\n",
    "Construyamos un dataset con los datos de casos confirmados para esos países y los campos:\n",
    "\n",
    "* Country, de tipo string\n",
    "* Fecha, de tipo timestamp\n",
    "* Cantidad, de tipo int\n",
    "* Delta_Days, de tipo int que representa la cantidad de días desde el primer confirmado en alguno de los 10 países\n",
    "\n",
    "**DataFrame 2: data_confirmed_recovered_countries**\n",
    "\n",
    "Combinemos los datos de infectados y recuperados para los 10 países que elegimos arriba.\n",
    "\n",
    "Los campos deben ser:\n",
    "* Country, de tipo string\n",
    "* Fecha, de tipo timestamp\n",
    "* Cantidad_Recovered, de tipo int\n",
    "* Cantidad_Confirmed, de tipo int\n"
   ]
  },
  {
   "cell_type": "markdown",
   "metadata": {},
   "source": [
    "**DataFrame 1: data_confirmed_countries**"
   ]
  },
  {
   "cell_type": "code",
   "execution_count": null,
   "metadata": {},
   "outputs": [],
   "source": []
  },
  {
   "cell_type": "markdown",
   "metadata": {},
   "source": [
    "Calculamos la fecha del primer caso confirmado en esos países.\n",
    "\n",
    "Para eso vemos cuál es la fecha mínima para los registros cuyo valor en el campo Cantidad es mayor que 0."
   ]
  },
  {
   "cell_type": "code",
   "execution_count": null,
   "metadata": {},
   "outputs": [],
   "source": []
  },
  {
   "cell_type": "markdown",
   "metadata": {},
   "source": [
    "**DataFrame 2: data_confirmed_recovered_countries**"
   ]
  },
  {
   "cell_type": "code",
   "execution_count": null,
   "metadata": {},
   "outputs": [],
   "source": []
  },
  {
   "cell_type": "markdown",
   "metadata": {},
   "source": [
    "# Ejercicio 3 - bokeh\n",
    "\n",
    "Grafiquemos usando la paleta Category20 de bokeh un gráfico de lineas y puntos de cantidad de días desde el primer confirmado vs. cantidad de confirmados, en escala logarítmica, usando los datos del primer DatFrame resultado del ejercicio 3"
   ]
  },
  {
   "cell_type": "code",
   "execution_count": 5,
   "metadata": {},
   "outputs": [],
   "source": [
    "from bokeh.plotting import figure\n",
    "from bokeh.io import show, output_notebook\n",
    "from bokeh.palettes import Category20\n",
    "from bokeh.models import HoverTool\n"
   ]
  },
  {
   "cell_type": "code",
   "execution_count": 6,
   "metadata": {},
   "outputs": [
    {
     "data": {
      "text/plain": [
       "('#1f77b4',\n",
       " '#aec7e8',\n",
       " '#ff7f0e',\n",
       " '#ffbb78',\n",
       " '#2ca02c',\n",
       " '#98df8a',\n",
       " '#d62728',\n",
       " '#ff9896',\n",
       " '#9467bd',\n",
       " '#c5b0d5',\n",
       " '#8c564b',\n",
       " '#c49c94',\n",
       " '#e377c2',\n",
       " '#f7b6d2',\n",
       " '#7f7f7f',\n",
       " '#c7c7c7',\n",
       " '#bcbd22',\n",
       " '#dbdb8d',\n",
       " '#17becf',\n",
       " '#9edae5')"
      ]
     },
     "execution_count": 6,
     "metadata": {},
     "output_type": "execute_result"
    }
   ],
   "source": [
    "Category20[20]"
   ]
  },
  {
   "cell_type": "code",
   "execution_count": null,
   "metadata": {},
   "outputs": [],
   "source": []
  },
  {
   "cell_type": "markdown",
   "metadata": {},
   "source": [
    "## Ejercicio 4 - plotly\n",
    "\n",
    "https://chart-studio.plotly.com\n",
    "\n",
    "Usemos una animación para mostrar la cantidad de confirmados vs. cantidad de recuperados para la última semana de datos.\n",
    "\n",
    "Para ello, filtremos los datos del segundo DataFrame resultado del ejercicio 3.\n",
    "\n"
   ]
  },
  {
   "cell_type": "markdown",
   "metadata": {},
   "source": [
    "Comenzamos calculando la fecha máxima de `data_confirmed_recovered_countries`"
   ]
  },
  {
   "cell_type": "code",
   "execution_count": null,
   "metadata": {},
   "outputs": [],
   "source": []
  },
  {
   "cell_type": "code",
   "execution_count": 7,
   "metadata": {},
   "outputs": [],
   "source": [
    "import plotly\n",
    "import plotly.express as px\n",
    "import chart_studio"
   ]
  },
  {
   "cell_type": "code",
   "execution_count": 8,
   "metadata": {},
   "outputs": [],
   "source": [
    "#chart-studio api\n",
    "username = 'you_username' # your username\n",
    "api_key = 'your_apikey' # your api api_key\n",
    "chart_studio.tools.set_credentials_file(username=username, api_key=api_key)\n",
    "import chart_studio.plotly as py"
   ]
  },
  {
   "cell_type": "code",
   "execution_count": null,
   "metadata": {},
   "outputs": [],
   "source": [
    "\n",
    "\n"
   ]
  }
 ],
 "metadata": {
  "kernelspec": {
   "display_name": "Python 3",
   "language": "python",
   "name": "python3"
  },
  "language_info": {
   "codemirror_mode": {
    "name": "ipython",
    "version": 3
   },
   "file_extension": ".py",
   "mimetype": "text/x-python",
   "name": "python",
   "nbconvert_exporter": "python",
   "pygments_lexer": "ipython3",
   "version": "3.8.5"
  }
 },
 "nbformat": 4,
 "nbformat_minor": 4
}
