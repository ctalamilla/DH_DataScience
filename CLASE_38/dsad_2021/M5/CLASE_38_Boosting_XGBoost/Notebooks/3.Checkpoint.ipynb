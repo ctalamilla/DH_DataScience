{
 "cells": [
  {
   "cell_type": "code",
   "execution_count": null,
   "metadata": {},
   "outputs": [],
   "source": [
    "# initial setup\n",
    "%run \"../../../common/0_notebooks_base_setup.py\"\n"
   ]
  },
  {
   "cell_type": "markdown",
   "metadata": {},
   "source": [
    "**Setup**\n",
    "\n",
    "Si la instalación de lightgbm da error, ejecutar en Anaconda Prompt \n",
    "\n",
    "`conda install -c conda-forge xgboost=1.4.0`\n",
    "\n",
    "`conda install -c conda-forge lightgbm=3.2.1`"
   ]
  },
  {
   "cell_type": "markdown",
   "metadata": {},
   "source": [
    "---\n",
    "\n",
    "<img src='../../../common/logo_DH.png' align='left' width=35%/>\n"
   ]
  },
  {
   "cell_type": "markdown",
   "metadata": {
    "colab_type": "text",
    "id": "knzulYd1Cfir"
   },
   "source": [
    "## Prediciendo quiebra de empresas"
   ]
  },
  {
   "cell_type": "markdown",
   "metadata": {
    "colab_type": "text",
    "id": "961vNjYyCfis"
   },
   "source": [
    "En este Checkpoint vamos a trabajar en predecir la quiebra de empresas en Polonia. La información fue obtenida del Servicio de Información de Mercados Emergentes (EMIS por sus siglas en inglés), que es una base de datos que contiene información de los mercados emergentes alrededor del mundo. Las compañías en bancarrota fueron analizadas en el período 2000-2012, mientras que las que continuan operando se evaluaron desde 2007 a 2013.\n",
    "\n",
    "En este caso sólo vamos a trabajar con el tercer año de los disponibles. Se puede consultar la página de UCI en donde se encuentra alojado <a href='https://archive.ics.uci.edu/ml/datasets/Polish+companies+bankruptcy+data'> aqui </a> \n",
    "\n",
    "El dataset empleado tiene datos de las empresas y su estatus tres años después."
   ]
  },
  {
   "cell_type": "code",
   "execution_count": null,
   "metadata": {
    "colab": {},
    "colab_type": "code",
    "id": "be9V_LltCfiu"
   },
   "outputs": [],
   "source": [
    "import pandas as pd\n",
    "import numpy as np\n",
    "import scipy.stats as st"
   ]
  },
  {
   "cell_type": "code",
   "execution_count": null,
   "metadata": {
    "colab": {},
    "colab_type": "code",
    "id": "1wb2uNoLCfi1"
   },
   "outputs": [],
   "source": [
    "df = pd.read_csv(\"../Data/3year.csv\")"
   ]
  },
  {
   "cell_type": "code",
   "execution_count": null,
   "metadata": {
    "colab": {},
    "colab_type": "code",
    "id": "Z-fgwsKVCfi6",
    "outputId": "8742bfa1-b1d4-490b-ecc2-e1781b4b53e4"
   },
   "outputs": [],
   "source": [
    "df.head()"
   ]
  },
  {
   "cell_type": "code",
   "execution_count": null,
   "metadata": {
    "colab": {},
    "colab_type": "code",
    "id": "DHpJ70GaCfjG"
   },
   "outputs": [],
   "source": [
    "# eliminamos la primera columna que se trata de un indice.\n",
    "df = df.drop(\"Unnamed: 0\", axis = 1)"
   ]
  },
  {
   "cell_type": "markdown",
   "metadata": {
    "colab_type": "text",
    "id": "6uEKVm-QCfjM"
   },
   "source": [
    "Acá hay una descripción de los atributos\n",
    "\n",
    "- Attr1: net profit / total assets\n",
    "- Attr2: total liabilities / total assets\n",
    "- Attr3: working capital / total assets\n",
    "- Attr4: current assets / short-term liabilities\n",
    "- Attr5: [(cash + short-term securities + receivables - short-term liabilities) / (operating expenses - depreciation)] * 365\n",
    "- Attr6: retained earnings / total assets\n",
    "- Attr7: EBIT / total assets\n",
    "- Attr8: book value of equity / total liabilities\n",
    "- Attr9: sales / total assets\n",
    "- Attr10: equity / total assets\n",
    "- Attr11: (gross profit + extraordinary items + financial expenses) / total assets\n",
    "- Attr12: gross profit / short-term liabilities\n",
    "- Attr13: (gross profit + depreciation) / sales\n",
    "- Attr14: (gross profit + interest) / total assets\n",
    "- Attr15: (total liabilities * 365) / (gross profit + depreciation)\n",
    "- Attr16: (gross profit + depreciation) / total liabilities\n",
    "- Attr17: total assets / total liabilities\n",
    "- Attr18: gross profit / total assets\n",
    "- Attr19: gross profit / sales\n",
    "- Attr20: (inventory * 365) / sales\n",
    "- Attr21: sales (n) / sales (n-1)\n",
    "- Attr22: profit on operating activities / total assets\n",
    "- Attr23: net profit / sales\n",
    "- Attr24: gross profit (in 3 years) / total assets\n",
    "- Attr25: (equity - share capital) / total assets\n",
    "- Attr26: (net profit + depreciation) / total liabilities\n",
    "- Attr27: profit on operating activities / financial expenses\n",
    "- Attr28: working capital / fixed assets\n",
    "- Attr29: logarithm of total assets\n",
    "- Attr30: (total liabilities - cash) / sales\n",
    "- Attr31: (gross profit + interest) / sales\n",
    "- Attr32: (current liabilities * 365) / cost of products sold\n",
    "- Attr33: operating expenses / short-term liabilities\n",
    "- Attr34: operating expenses / total liabilities\n",
    "- Attr35: profit on sales / total assets\n",
    "- Attr36: total sales / total assets\n",
    "- Attr37: (current assets - inventories) / long-term liabilities\n",
    "- Attr38: constant capital / total assets\n",
    "- Attr39: profit on sales / sales\n",
    "- Attr40: (current assets - inventory - receivables) / short-term liabilities\n",
    "- Attr41: total liabilities / ((profit on operating activities + depreciation) * (12/365))\n",
    "- Attr42: profit on operating activities / sales\n",
    "- Attr43: rotation receivables + inventory turnover in days\n",
    "- Attr44: (receivables * 365) / sales\n",
    "- Attr45: net profit / inventory\n",
    "- Attr46: (current assets - inventory) / short-term liabilities\n",
    "- Attr47: (inventory * 365) / cost of products sold\n",
    "- Attr48: EBITDA (profit on operating activities - depreciation) / total assets\n",
    "- Attr49: EBITDA (profit on operating activities - depreciation) / sales\n",
    "- Attr50: current assets / total liabilities\n",
    "- Attr51: short-term liabilities / total assets\n",
    "- Attr52: (short-term liabilities * 365) / cost of products sold)\n",
    "- Attr53: equity / fixed assets\n",
    "- Attr54: constant capital / fixed assets\n",
    "- Attr55: working capital\n",
    "- Attr56: (sales - cost of products sold) / sales\n",
    "- Attr57: (current assets - inventory - short-term liabilities) / (sales - gross profit - depreciation)\n",
    "- Attr58: total costs /total sales\n",
    "- Attr59: long-term liabilities / equity\n",
    "- Attr60: sales / inventory\n",
    "- Attr61: sales / receivables\n",
    "- Attr62: (short-term liabilities *365) / sales\n",
    "- Attr63: sales / short-term liabilities\n",
    "- Attr64: sales / fixed assets\n",
    "- class: toma los valores \"b'0'\" y \"b'1'\" indicando si la empresa quebro o no."
   ]
  },
  {
   "cell_type": "markdown",
   "metadata": {},
   "source": [
    "### Ejercicio 1\n",
    "1) Obtener la `matriz de features X` y la `variable target y`  \n",
    "2) Analizar la forma (shape) del dataset.  \n",
    "3) Ver los valores que toma la variable target  \n",
    "4) Aplicar LabelEncoder sobre la variable target."
   ]
  },
  {
   "cell_type": "code",
   "execution_count": null,
   "metadata": {
    "colab": {},
    "colab_type": "code",
    "id": "vlYFzjkxCfjQ"
   },
   "outputs": [],
   "source": []
  },
  {
   "cell_type": "code",
   "execution_count": null,
   "metadata": {},
   "outputs": [],
   "source": []
  },
  {
   "cell_type": "code",
   "execution_count": null,
   "metadata": {
    "colab": {},
    "colab_type": "code",
    "id": "huMAVxxmCfkT",
    "outputId": "4b3f73b9-86c4-4053-f80d-995ab06a89e6"
   },
   "outputs": [],
   "source": []
  },
  {
   "cell_type": "markdown",
   "metadata": {},
   "source": [
    "### Ejercicio 2\n",
    "1) Realizar un split en Train y Test, dejando un 20% para test  \n",
    "2) crear un generador de CV utilizando: `cv = StratifiedKFold(n_splits=5, random_state=41, shuffle=True)` para luego pasarselo tanto a `GridSearchCV` como a `cross_val_score`\n"
   ]
  },
  {
   "cell_type": "code",
   "execution_count": null,
   "metadata": {
    "colab": {},
    "colab_type": "code",
    "id": "1NbebhB0Cfkd"
   },
   "outputs": [],
   "source": []
  },
  {
   "cell_type": "code",
   "execution_count": null,
   "metadata": {
    "colab": {},
    "colab_type": "code",
    "id": "14_X-cEfCfkn"
   },
   "outputs": [],
   "source": []
  },
  {
   "cell_type": "markdown",
   "metadata": {
    "colab_type": "text",
    "id": "xrkS4Qa6Cfng"
   },
   "source": [
    "### Ejercicio 3: Xgboost\n",
    "1) Importar el clasificador `XGBoost` del módulo `xgboost.sklearn` que nos provee clases y métodos aceptados por la API de sklearn. La clase que contiene este clasificador se llama XGBClassifier\n"
   ]
  },
  {
   "cell_type": "code",
   "execution_count": null,
   "metadata": {
    "colab": {},
    "colab_type": "code",
    "id": "Gmhx9Sy1Cfnk"
   },
   "outputs": [],
   "source": []
  },
  {
   "cell_type": "markdown",
   "metadata": {
    "colab_type": "text",
    "id": "R6tDIBUkCfnt"
   },
   "source": [
    "2) Utilizando el siguiente diccionario de parametros, optimizar los hiperparámetros.  \n",
    "3) Imprimir en pantalla la mejor selección de hiperparámetros"
   ]
  },
  {
   "cell_type": "code",
   "execution_count": null,
   "metadata": {
    "colab": {},
    "colab_type": "code",
    "id": "cBQxwRbgCfny"
   },
   "outputs": [],
   "source": [
    "from sklearn.model_selection import GridSearchCV\n",
    "params = {  \n",
    "    \"n_estimators\": [50,100,500],      # Number of boosted trees to fit.\n",
    "    \"max_depth\": [1,2,3,4],            # Maximum tree depth for base learners.\n",
    "    \"learning_rate\": [0.01, 0.1],      # Boosting learning rate (xgb’s “eta”)\n",
    "}"
   ]
  },
  {
   "cell_type": "code",
   "execution_count": null,
   "metadata": {},
   "outputs": [],
   "source": []
  },
  {
   "cell_type": "code",
   "execution_count": null,
   "metadata": {
    "colab": {},
    "colab_type": "code",
    "id": "IevW3viRCfn-",
    "outputId": "d1b30fc4-d0d6-4f87-fe2f-94ae5c424d28"
   },
   "outputs": [],
   "source": []
  },
  {
   "cell_type": "code",
   "execution_count": null,
   "metadata": {},
   "outputs": [],
   "source": []
  },
  {
   "cell_type": "markdown",
   "metadata": {
    "colab": {},
    "colab_type": "code",
    "id": "TWN_SYVkCfoM"
   },
   "source": [
    "5) Evaluar el rendimiento del estimador optimo, utilizando cross validation.  \n",
    "(pasarle como argumento cv el generador de CV splits del creado en el punto 3)  \n",
    "**nota:** ver función evaluar_rendimiento() utilizada en la notebook `2-Boosting_Practica.ipynb`"
   ]
  },
  {
   "cell_type": "code",
   "execution_count": null,
   "metadata": {
    "colab": {},
    "colab_type": "code",
    "id": "CoC30kJgCfoW",
    "outputId": "32a88e44-2471-4b9a-96f7-8294535dd7dc"
   },
   "outputs": [],
   "source": []
  },
  {
   "cell_type": "code",
   "execution_count": null,
   "metadata": {},
   "outputs": [],
   "source": []
  },
  {
   "cell_type": "markdown",
   "metadata": {},
   "source": [
    "6) utilizando roc_auc_score de la libreria sklearn.metrics, determinar el valor del ROC."
   ]
  },
  {
   "cell_type": "code",
   "execution_count": null,
   "metadata": {
    "colab": {},
    "colab_type": "code",
    "id": "iSPh4BliCfob",
    "outputId": "bbcae194-4930-4247-85de-2a8dfa40e9b1"
   },
   "outputs": [],
   "source": [
    "\n"
   ]
  },
  {
   "cell_type": "markdown",
   "metadata": {
    "colab_type": "text",
    "id": "9ccsI2ZnCfog"
   },
   "source": [
    "7) utilizando plot_roc de la libreria sklearn.metrics, graficamos la curva ROC por clase"
   ]
  },
  {
   "cell_type": "code",
   "execution_count": null,
   "metadata": {
    "colab": {},
    "colab_type": "code",
    "id": "ttPIpN_iCfoj",
    "outputId": "bddf28c8-dc31-4df9-a2e2-4b79c73ae726"
   },
   "outputs": [],
   "source": []
  },
  {
   "cell_type": "markdown",
   "metadata": {},
   "source": [
    "### BONUS: \n",
    "graficar la importancia de los atributos del estimador optimizado.  \n",
    "\n",
    "https://machinelearningmastery.com/feature-importance-and-feature-selection-with-xgboost-in-python/"
   ]
  },
  {
   "cell_type": "code",
   "execution_count": null,
   "metadata": {
    "colab": {},
    "colab_type": "code",
    "id": "ZIV1v9ukCfor",
    "outputId": "d3530218-f0ce-46b4-8924-8a07665718d9"
   },
   "outputs": [],
   "source": []
  },
  {
   "cell_type": "code",
   "execution_count": null,
   "metadata": {},
   "outputs": [],
   "source": []
  }
 ],
 "metadata": {
  "colab": {
   "collapsed_sections": [],
   "name": "1.PRACTICA_GUIADA_XGBoost_LightGBM.ipynb",
   "provenance": [],
   "version": "0.3.2"
  },
  "kernelspec": {
   "display_name": "Python 3",
   "language": "python",
   "name": "python3"
  },
  "language_info": {
   "codemirror_mode": {
    "name": "ipython",
    "version": 3
   },
   "file_extension": ".py",
   "mimetype": "text/x-python",
   "name": "python",
   "nbconvert_exporter": "python",
   "pygments_lexer": "ipython3",
   "version": "3.8.5"
  }
 },
 "nbformat": 4,
 "nbformat_minor": 4
}
