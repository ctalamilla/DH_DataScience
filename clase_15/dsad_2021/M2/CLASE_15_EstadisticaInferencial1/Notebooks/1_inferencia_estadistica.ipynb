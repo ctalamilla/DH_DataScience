{
 "cells": [
  {
   "cell_type": "code",
   "execution_count": 1,
   "metadata": {},
   "outputs": [
    {
     "name": "stdout",
     "output_type": "stream",
     "text": [
      "/media/paulati/Nuevo vol/paula/dh/2021/dsad_2021_paula/common\n",
      "default checking\n",
      "Running command `conda list`... ok\n",
      "jupyterlab=2.2.6 already installed\n",
      "pandas=1.1.5 already installed\n",
      "bokeh=2.2.3 already installed\n",
      "seaborn=0.11.0 already installed\n",
      "matplotlib=3.3.2 already installed\n",
      "ipywidgets=7.5.1 already installed\n",
      "pytest=6.2.1 already installed\n",
      "chardet=4.0.0 already installed\n",
      "psutil=5.7.2 already installed\n",
      "scipy=1.5.2 already installed\n",
      "statsmodels=0.12.1 already installed\n",
      "scikit-learn=0.23.2 already installed\n",
      "xlrd=2.0.1 already installed\n",
      "Running command `conda install --yes nltk=3.5.0`... ok\n",
      "Collecting package metadata (current_repodata.json): ...working... done\n",
      "Solving environment: ...working... done\n",
      "\n",
      "# All requested packages already installed.\n",
      "\n",
      "\n",
      "unidecode=1.1.1 already installed\n",
      "pydotplus=2.0.2 already installed\n",
      "pandas-datareader=0.9.0 already installed\n",
      "flask=1.1.2 already installed\n"
     ]
    }
   ],
   "source": [
    "%run \"../../../common/0_notebooks_base_setup.py\"    "
   ]
  },
  {
   "cell_type": "markdown",
   "metadata": {},
   "source": [
    "---\n",
    "\n",
    "<img src='../../../common/logo_DH.png' align='left' width=35%/>\n"
   ]
  },
  {
   "cell_type": "markdown",
   "metadata": {},
   "source": [
    "# Estadística Inferencial - Conceptos"
   ]
  },
  {
   "cell_type": "markdown",
   "metadata": {},
   "source": [
    "<a id=\"section_toc\"></a> \n",
    "## Tabla de Contenidos\n",
    "\n",
    "[Intro](#section_intro)\n",
    "\n",
    "[Definiciones](#section_definiciones)\n",
    "\n",
    "[Relación entre Población, Muestra, Parámetro, y Estimador](#section_poblacion_muestra_parametro_estimador)\n",
    "\n",
    "[Relación entre Parámetro, Estimador y Estimación](#section_parametro_estimador_estimacion)\n",
    "\n",
    "[Ley de grandes números](#section_ley_grandes_numeros)\n",
    "\n",
    "[Teorema Central del Límite](#section_teorema_central_limite)\n",
    "\n",
    "[Intervalos de Confianza](#section_intervalos_confianza)\n",
    "\n",
    "[Referencias](#section_referencias)\n",
    "\n"
   ]
  },
  {
   "cell_type": "markdown",
   "metadata": {},
   "source": [
    "<a id=\"section_intro\"></a> \n",
    "## Intro\n",
    "\n",
    "[volver a TOC](#section_toc)\n",
    "\n",
    "En estadística, una población es un conjunto de seres, individuos, objetos, elementos o eventos con determinadas características. A menudo se obtiene una muestra de dicha población, es decir, un subconjunto representativo. Luego de realizar un análisis estadístico a la muestra, los resultados se extrapolan al resto de la población (inferencia estadística)."
   ]
  },
  {
   "cell_type": "markdown",
   "metadata": {},
   "source": [
    "<a id=\"section_definiciones\"></a> \n",
    "## Definiciones\n",
    "\n",
    "[volver a TOC](#section_toc)"
   ]
  },
  {
   "cell_type": "markdown",
   "metadata": {},
   "source": [
    "### Población\n",
    "\n",
    "La palabra población tiene distintos significados estrechamente relacionados en estadística.\n",
    "\n",
    "1. Un grupo finito y realmente existente de objetos que, aunque posiblemente grande, en teoría pueden enumerarse (por ejemplo, personas que viven en los USA).\n",
    "\n",
    "2. Una generalización de una experiencia que es indefinidamente grande. Por ejemplo: el número total de lanzamientos que podrían realizarse en tiempo ilimitado con un par de dados en particular. Cualquier conjunto real de lanzamientos puede considerarse como una muestra extraída de esta población.\n"
   ]
  },
  {
   "cell_type": "markdown",
   "metadata": {},
   "source": [
    "### Muestra\n",
    "\n",
    "Una muestra es un subconjunto de una población que se obtiene a través de algún proceso, posiblemente selección aleatoria o selección basada en un determinado conjunto de criterios, con el fin de investigar las propiedades de la población subyacente. \n",
    "\n",
    "En particular, las cantidades estadísticas determinadas directamente a partir de la muestra (como la media de la muestra, la varianza de la muestra, etc.) se pueden usar como estimadores de las propiedades correspondientes de la distribución subyacente.\n",
    "\n",
    "El proceso de obtención de una muestra se conoce como muestreo, y el número de miembros en una muestra se llama tamaño muestral.\n",
    "\n",
    "#### Tipos de muestra\n",
    "\n",
    "##### Probabilística\n",
    "\n",
    "Podemos calcular la probabilidad de selección de cada una de las unidades de la muestra, por lo tanto tenemos una medida del error.\n",
    "\n",
    "Algunos tipos son:\n",
    "\n",
    "**1. Muestreo aleatorio simple** \n",
    "\n",
    "Todos los individuos tienen la misma probabilidad de ser seleccionados\n",
    "\n",
    "Las observaciones se realizan con reposición, de forma que la población es igual en todas las extracciones. \n",
    "\n",
    "Supongamos que queremos elegir una muestra de n individuos de una población de N sujetos.\n",
    "\n",
    "Cada elemento tiene probabilidad n/N de ser elegido en la muestra.\n",
    "\n",
    "![Image](img/muestreo-probabilistico.jpg)\n",
    "\n",
    "**2. Muestreo aleatorio estratificado**\n",
    "\n",
    "Los individuos de toda la población se dividen en grupos o estratos. Cada elemento pertenece a un único estrato. La variable elegida para formar los estratos no debe permitir que un individuo o elemento de la población pertenezca a más de uno de ellos.\n",
    "\n",
    "La variable elegida deberá ser significativa para el motivo u objetivo del estudio o investigación.\n",
    "\n",
    "La elección de los elementos en cada estrato se realiza mediante algún método de muestreo aleatorio simple o muestreo sistemático.\n",
    "\n",
    "Suponemos que hay $k$ estratos de tamaños $N_1$, $N_2$,…, $N_k$, de forma que:\n",
    "\n",
    "$$N = N_1 + N_2 + ... + N_k$$ \n",
    "\n",
    "En cada estrato se toman $n_1$, $n_2$,…, $n_k$ elementos para la muestra, de manera que se toman en total $n$ individuos, es decir:\n",
    "\n",
    "$$n = n_1 + n_2 + ... + n_k$$ \n",
    "\n",
    "![Image](img/muestreo-estratificado.jpg)\n",
    "\n",
    "**3. Muestreo por clusters**\n",
    "\n",
    "El método de muestreo por conglomerados se utiliza cuando la población está agrupada en conglomerados naturales.\n",
    "\n",
    "Si se supone que los conglomerados son muestra significativa de la variable que se está estudiando, se puede seleccionar algunos conglomerados al azar (todos los conglomerados deben tener las mismas probabilidades de ser seleccionados) y utilizarlos en representación de la población.\n",
    "\n",
    "Una vez seleccionados los conglomerados, el estudio se simplifica puesto que hay menos individuos en el análisis. El investigador debe elegir si estudiar a todos los sujetos de los conglomerados seleccionados o seleccionar una muestra mediante el método de muestreo aleatorio simple o muestreo sistemático.\n",
    "\n",
    "![Image](img/muestreo-conglomerados.jpg)\n",
    "\n",
    "**4. Muestreo aleatorio por etapas múltiples (combina 3 y 2)**\n",
    "\n"
   ]
  },
  {
   "cell_type": "markdown",
   "metadata": {},
   "source": [
    "### Parámetro\n",
    "\n",
    "Un parámetro estadístico o parámetro de población es una cantidad que define la distribución de probabilidad de una variable aleatoria. \n",
    "\n",
    "Puede considerarse como una característica numérica de una población estadística.\n",
    "\n",
    "En inferencia estadística, los parámetros a veces se consideran inobservables, y en este caso la tarea del estadístico es inferir el valor del parámetro basado en una muestra aleatoria tomada de la población de interés.\n"
   ]
  },
  {
   "cell_type": "markdown",
   "metadata": {},
   "source": [
    "### Estimador\n",
    "\n",
    "Un estimador es un estadístico (esto es, una función de la muestra) usado para estimar un parámetro desconocido de la población.\n",
    "\n",
    "Los estimadores son variables aleatorias."
   ]
  },
  {
   "cell_type": "markdown",
   "metadata": {},
   "source": [
    "### Estimación\n",
    "\n",
    "#### Estimación puntual:\n",
    "\n",
    "La estimación puntual consiste en utilizar el valor de un estadístico (alguna función de los datos) que denominaremos estimador para calcular el valor de un parámetro desconocido de una población. \n",
    "En estadística clásica, los parámetros de una población se consideran fijos (no aleatorios). \n",
    "\n",
    "Ejemplos:\n",
    "* usamos la media muestral para estimar la media de una población, \n",
    "* usamos la proporción de una muestra para estimar el parámetro p de una distribución binomial.\n",
    "\n",
    "Una **estimación puntual** de un parámetro de una población es **un solo valor** obtenido a partir de un estadístico.\n",
    "\n",
    "#### Estimación por intervalos de confianza:\n",
    "\n",
    "Se da una intervalo de valores posibles, un límite inferior (Li) y otro superior (Ls),  tal que la probabilidad de que Li y Ls atrape al parámetro es conocida.\n",
    "\n",
    "<img src='img/confidence_interval.png' align='left' width=50%/>\n",
    "\n"
   ]
  },
  {
   "cell_type": "markdown",
   "metadata": {},
   "source": [
    "<a id=\"section_poblacion_muestra_parametro_estimador\"></a> \n",
    "## Relación entre Población, Muestra, Parámetro, y Estimador\n",
    "\n",
    "[volver a TOC](#section_toc)\n",
    "\n",
    "Un parámetro es a una población como el valor del estimador es a una muestra. \n",
    "\n",
    "En un momento determinado, puede existir algún parámetro para el porcentaje de todos los votantes en un país entero que prefieren un candidato electoral en particular. Pero no es práctico preguntar a cada votante antes de una elección cuáles son sus preferencias de candidato, por lo tanto se encuestará una muestra de votantes y se contará con un estimador, el porcentaje de los votantes encuestados que prefirieron a cada candidato. El valor del estimador se usa para hacer inferencia sobre el parámetro preferencia de todos los votantes por un candidato particular.\n",
    "\n",
    "Del mismo modo, en algunas formas de prueba de productos manufacturados, en lugar de probar destructivamente todos los productos, solo se prueba una muestra de productos. Tales pruebas recopilan valores de estimadores que respaldan la inferencia de que los productos cumplen con las especificaciones."
   ]
  },
  {
   "cell_type": "markdown",
   "metadata": {},
   "source": [
    "<a id=\"section_parametro_estimador_estimacion\"></a> \n",
    "## Relación entre Parámetro, Estimador y Estimación\n",
    "\n",
    "[volver a TOC](#section_toc)\n",
    "\n",
    "\n",
    "Un parámetro de población es una cantidad que define la distribución de probabilidad de una variable aleatoria, y generalmente no lo conocemos.\n",
    "\n",
    "Un estimador es un estadístico (esto es, una función de la muestra) usado para estimar un parámetro desconocido de la población.\n",
    "\n",
    "Una estimación es el valor de un estimador (alguna función de los datos de la muestra).\n"
   ]
  },
  {
   "cell_type": "markdown",
   "metadata": {},
   "source": [
    "<a id=\"section_ley_grandes_numeros\"></a> \n",
    "## Ley de grandes números\n",
    "\n",
    "[volver a TOC](#section_toc)\n",
    "\n",
    "\n",
    "¿Por qué tiene sentido estimar la media poblacional (valor esperado) con la media  muestral?\n",
    "\n",
    "Simplificando los planteos de Kolmogorov:\n",
    "    \n",
    "Supongamos que tenemos observaciones $X_1$, $X_2$, .., $X_n$.\n",
    "\n",
    "Si las $X_i$ son una sucesión de observaciones independientes e idénticamente distribuidas tales que E($X_i$) es igual a una constante $\\mu$ finita.\n",
    "\n",
    "Entonces el promedio de las $X_i$ converge en probabilidad a E($X_i$) cuando $n$ tiende a infinito.\n",
    "\n",
    "**La LGN nos garantiza que, a medida que el tamaño muestral aumenta, la media muestral se acerca a la media poblacional**.\n",
    "\n"
   ]
  },
  {
   "cell_type": "markdown",
   "metadata": {},
   "source": [
    "<a id=\"section_teorema_central_limite\"></a> \n",
    "## Teorema Central del Límite\n",
    "\n",
    "[volver a TOC](#section_toc)\n",
    "\n",
    "\n",
    "Sea $X_1, X_2, ..., X_n$ un conjunto de variables aleatorias, independientes e identicamente distribuídas de una distribución con media $\\mu$ y varianza $\\sigma^2 \\neq 0$. Entonces si $n$ es suficientemente grande, la variable aleatoria $\\hat{X} = \\frac{1}{n} \\sum _{i=1}^{n}{X_i}$ tiene aproximadamente una distribución normal con $\\mu_{\\hat{X}} = \\mu$ y ${\\sigma_{\\hat{X}}^2} = {\\frac{\\sigma^2}{n}}$\n",
    "\n",
    "### Condiciones del TCL\n",
    "\n",
    "* Independencia: las observaciones tienen que provenir de un muestreo aleatorio y deben ser independientes. Si el muestreo es sin reemplazo, entonces n < 10% de la población.\n",
    "\n",
    "* n: si la distribución de una población es muy asimétrica, n deberá ser muy grande (a veces se menciona un n=30 como aproximación, pero en realidad depende de cuán asimétrica es la población). Si la población tiene distribución normal, no hay condiciones sobre n.\n",
    "\n",
    "### Teorema Central del Límite y muestreo\n",
    "\n",
    "El TCL define una distribución para la media muestral como estimador de la media poblacional.\n",
    "\n",
    "El desvío estándar de la distribución muestral se llama error estándar (SE) de la media muestral.\n",
    "\n",
    "Error estandar: $${\\sigma_{\\bar{X}}} = {\\frac{\\sigma}{ \\sqrt{n}}}$$\n",
    "\n",
    "### Aplicación\n",
    "\n",
    "Tomamos como nuestra **población** los resultados posibles al arrojar una vez un dado tetraedrico (de 4 caras)\n",
    "\n"
   ]
  },
  {
   "cell_type": "code",
   "execution_count": 2,
   "metadata": {},
   "outputs": [],
   "source": [
    "import numpy as np\n",
    "import seaborn as sns\n",
    "import math\n",
    "import scipy.stats as stats\n",
    "import pandas as pd\n",
    "import matplotlib.pyplot as plt"
   ]
  },
  {
   "cell_type": "code",
   "execution_count": 3,
   "metadata": {},
   "outputs": [
    {
     "data": {
      "text/plain": [
       "array([1, 2, 3, 4])"
      ]
     },
     "execution_count": 3,
     "metadata": {},
     "output_type": "execute_result"
    }
   ],
   "source": [
    "data_population = np.array([1, 2, 3, 4])\n",
    "data_population"
   ]
  },
  {
   "cell_type": "markdown",
   "metadata": {},
   "source": [
    "Calculamos la media poblacional y el desvío estandar"
   ]
  },
  {
   "cell_type": "code",
   "execution_count": 4,
   "metadata": {},
   "outputs": [
    {
     "name": "stdout",
     "output_type": "stream",
     "text": [
      "2.5 1.118033988749895\n"
     ]
    }
   ],
   "source": [
    "population_mu = data_population.mean()\n",
    "population_sd = data_population.std()\n",
    "print(population_mu, population_sd)"
   ]
  },
  {
   "cell_type": "markdown",
   "metadata": {},
   "source": [
    "Veamos la forma de la distribución de nuestra población, que es **uniforme**"
   ]
  },
  {
   "cell_type": "code",
   "execution_count": 5,
   "metadata": {},
   "outputs": [
    {
     "data": {
      "image/png": "[encoded data removed]",
      "text/plain": [
       "<Figure size 432x288 with 1 Axes>"
      ]
     },
     "metadata": {
      "needs_background": "light"
     },
     "output_type": "display_data"
    }
   ],
   "source": [
    "sns.histplot(data_population, kde = False, stat = 'count', \n",
    "             binrange=(0.5,4.5), bins = 4,\n",
    "             line_kws={'linewidth':5});"
   ]
  },
  {
   "cell_type": "markdown",
   "metadata": {},
   "source": [
    "El teorema central del límite establece que si calculamos la media de un número grande de muestras independientes, la distribución muestral se aproxima a una distribución normal, sin importar la forma de la distribución subyacente.\n",
    "\n",
    "Vamos a ilustrarlo tomando muestras de dos tiradas ($n=2$) del dado tetraedrico, y calculando las medias. Los datos originales tienen distribución uniforme."
   ]
  },
  {
   "cell_type": "code",
   "execution_count": 6,
   "metadata": {},
   "outputs": [],
   "source": [
    "sample_count = 100\n",
    "sample_size = 2\n",
    "\n",
    "random_generator = np.random.default_rng()\n",
    "\n",
    "means = []\n",
    "\n",
    "for i in range(sample_count):\n",
    "    # creo la muestra\n",
    "    data_sample = random_generator.choice(data_population, size = sample_size,  replace=True)\n",
    "    media_muestral = data_sample.mean()\n",
    "    means.append(media_muestral)\n",
    "    "
   ]
  },
  {
   "cell_type": "markdown",
   "metadata": {},
   "source": [
    "Grafiquemos la distribución de las medias muestarles. \n",
    "\n",
    "Vemos que se acercan a una distribución normal aunque la población proviene de una distribución uniforme y n es chico (2)."
   ]
  },
  {
   "cell_type": "code",
   "execution_count": 7,
   "metadata": {},
   "outputs": [
    {
     "data": {
      "image/png": "[encoded data removed]",
      "text/plain": [
       "<Figure size 432x288 with 1 Axes>"
      ]
     },
     "metadata": {
      "needs_background": "light"
     },
     "output_type": "display_data"
    }
   ],
   "source": [
    "#sns.distplot(means, kde=False, hist=True, bins=[1,2,3,4,5], hist_kws={'align':'mid'});\n",
    "sns.histplot(means, kde = False, stat = 'count', \n",
    "             binrange=(0.5,4.5), bins = 4,\n",
    "             line_kws={'linewidth':5});"
   ]
  },
  {
   "cell_type": "markdown",
   "metadata": {},
   "source": [
    "Calculemos la media y el desvío estandar de las medias muestrales"
   ]
  },
  {
   "cell_type": "code",
   "execution_count": 8,
   "metadata": {},
   "outputs": [
    {
     "data": {
      "text/plain": [
       "(2.52, 0.8059776671843955)"
      ]
     },
     "execution_count": 8,
     "metadata": {},
     "output_type": "execute_result"
    }
   ],
   "source": [
    "means_mean = np.mean(means)\n",
    "means_sd = np.std(means)\n",
    "means_mean, means_sd"
   ]
  },
  {
   "cell_type": "markdown",
   "metadata": {},
   "source": [
    "Calculemos el valor que postula el TCL para el desvío de las medias"
   ]
  },
  {
   "cell_type": "code",
   "execution_count": 9,
   "metadata": {},
   "outputs": [
    {
     "data": {
      "text/plain": [
       "0.7905694150420948"
      ]
     },
     "execution_count": 9,
     "metadata": {},
     "output_type": "execute_result"
    }
   ],
   "source": [
    "means_sd_TCL = population_sd / math.sqrt(sample_size)\n",
    "means_sd_TCL"
   ]
  },
  {
   "cell_type": "code",
   "execution_count": 10,
   "metadata": {},
   "outputs": [
    {
     "name": "stdout",
     "output_type": "stream",
     "text": [
      "diferencia entre valor TCL y valor obtenido para la media:  -0.020000000000000018\n",
      "diferencia entre valor TCL y valor obtenido para el desvío:  -0.015408252142300682\n"
     ]
    }
   ],
   "source": [
    "print(\"diferencia entre valor TCL y valor obtenido para la media: \",  population_mu - means_mean)\n",
    "print(\"diferencia entre valor TCL y valor obtenido para el desvío: \", means_sd_TCL - means_sd)"
   ]
  },
  {
   "cell_type": "markdown",
   "metadata": {},
   "source": [
    "### Ejercicio\n",
    "\n",
    "Definamos una función que dada \n",
    "* una población como array, \n",
    "* el valor de sample_size,\n",
    "* el valor de sample_count\n",
    "\n",
    "Construya sample_count muestras de tamaño sample_size, calcule la media muestral de cada una, y devuelva una tupla con los valores\n",
    "* diferencia entre valor téorico calculado a partir del TCL para la media y el valor obtenido para la media de medias muestrales\n",
    "* diferencia entre valor téorico calculado a partir del TCL para el desvío estandar y el valor obtenido para el desvío estandar de las medias muestrales\n",
    "\n",
    "Evaluemos esa función, que encapsula lo mismo que el ejemplo de aplicación, para distintos valores de `sample_count` (1000, 5000, 10000) y veamos cómo se acercan los resultados obtenidos a los postulados por el TCL.\n",
    "\n",
    "Después probemos distintos valores para `sample_size` (10, 50, 100) y veamos cómo cambian los resultados.\n",
    "\n",
    "Interpretemos los resultados e intentemos sacar conclusiones a partir del comportamiento observado."
   ]
  },
  {
   "cell_type": "markdown",
   "metadata": {},
   "source": [
    "<a id=\"section_intervalos_confianza\"></a> \n",
    "## Intervalos de Confianza\n",
    "\n",
    "[volver a TOC](#section_toc)\n",
    "\n",
    "![Image](img/confidence_interval_2.png)\n",
    "\n",
    "La forma general de un Intervalo de Confianza es\n",
    "\n",
    "$$\\bar{x} \\pm z_{\\alpha / 2} \\frac{\\sigma}{\\sqrt(n)}$$\n",
    "\n",
    "donde\n",
    "\n",
    "$\\alpha$ es el nivel de confianza\n",
    "\n",
    "$\\sigma$ es el desvío estandar\n",
    "\n",
    "$n$ es el tamaño de la muestra\n",
    "\n",
    "EL porcentaje del nivel de confinza más $\\alpha$ es igual a 1.\n",
    "\n",
    "Entonces por ejemplo,\n",
    "\n",
    "* si el nivel de confianza del intervalo es 95%, entonces el valor de $\\alpha$ es 0.05\n",
    "\n",
    "* si el nivel de confianza del intervalo es 99%, entonces el valor de $\\alpha$ es 0.01\n",
    "\n",
    "Si varianza poblacional es conocida, calculamos el largo del intervalo de confianza para la media como el máximo menos el mínimo y obtenemos\n",
    "\n",
    "$$tamIC = \\bar{x} + z_{\\alpha / 2} \\frac{\\sigma}{\\sqrt(n)} - (\\bar{x} - z_{\\alpha / 2} \\frac{\\sigma}{\\sqrt(n)})$$\n",
    "\n",
    "$$tamIC = 2 * z_{\\alpha / 2} \\frac{\\sigma}{\\sqrt(n)}$$\n",
    "\n",
    "Vemos que el tamaño del intervalo de confianza depende de \n",
    "\n",
    "* la varianza poblacional\n",
    "* el tamaño muestral\n",
    "* el nivel de confianza\n",
    "\n",
    "### ¿Qué pasa cuando no conocemos el desvío estándar poblacional? \n",
    "\n",
    "Cuando n es grande, el desvío estándar de la muestra S es una buena aproximación a sigma.\n",
    "\n",
    "Cuando la muestra es chica, usamos la distribución T-Student. Normalmente, se considera chica una muestra donde n < 30 pero en realidad depende de la distribución muestral.\n",
    "\n",
    "Esto genera intervalos más anchos para incorporar el hecho de que el desvío estándar muestral es un estimador del poblacional.\n",
    "\n",
    "Usar la distribución T-Student es más conservador, entonces si sigma es desconocido es recomendable usar esta distribución.\n",
    "\n",
    "### Observaciones\n",
    "\n",
    "El intervalo de confianza es siempre función de la muestra que es aleatoria. ¡Entonces los bordes del intervalo también son variables aleatorias! \n",
    "\n",
    "En el caso de intervalos de confianza para la media, los límites del intervalo dependen de la media muestral (que cambia con cada muestra).\n",
    "\n",
    "El intervalo de confianza no puede depender de parámetros que sean desconocidos. \n"
   ]
  },
  {
   "cell_type": "markdown",
   "metadata": {},
   "source": [
    "### Ejemplo\n",
    "\n",
    "Se desea analizar el  ingreso promedio de los científicos de datos. A partir de una muestra al azar de 100 individuos, cuyo ingreso promedio es de 30 mil dólares  y desvío estándar de aproximadamente 7 mil dólares, se desea construir un intervalo de confianza del 90% para el ingreso promedio poblacional.\n",
    "\n",
    "Dado que n puede ser considerado \"grande\", los límites del intervalo de confianza están dados por\n",
    "\n",
    "$$\\bar{x} \\pm z_{\\alpha / 2} \\frac{\\sigma}{\\sqrt(n)}$$\n",
    "\n",
    "El borde inferior del intervalo resulta 30 - 1.645 * 7 / raíz(100) = 28.85\n",
    "\n",
    "El borde inferior del intervalo resulta 30 + 1.645 * 7 / raíz(100) = 31.15\n",
    "\n",
    "Con una confianza del 90%, el intervalo que va de 28.85 a 31.15 contendrá la media poblacional de los ingresos.\n",
    "\n",
    "¿Cómo calculamos $z_{\\alpha / 2}$ ?\n",
    "\n",
    "Vamos a usar el método `stats.norm.ppf` para distribuciones normales y `stats.t.ppf` para distribución t de la biblioteca `scipy`"
   ]
  },
  {
   "cell_type": "code",
   "execution_count": 11,
   "metadata": {},
   "outputs": [
    {
     "data": {
      "text/plain": [
       "-1.6448536269514729"
      ]
     },
     "execution_count": 11,
     "metadata": {},
     "output_type": "execute_result"
    }
   ],
   "source": [
    "alpha = 0.1\n",
    "z_alfa_sobre_2_norm = stats.norm.ppf(alpha/2)\n",
    "z_alfa_sobre_2_norm"
   ]
  },
  {
   "cell_type": "code",
   "execution_count": 12,
   "metadata": {},
   "outputs": [
    {
     "data": {
      "text/plain": [
       "-1.7291328115213678"
      ]
     },
     "execution_count": 12,
     "metadata": {},
     "output_type": "execute_result"
    }
   ],
   "source": [
    "n = 20 # invento este valor, uso un n chico\n",
    "alpha = 0.1\n",
    "grados_libertad = n - 1\n",
    "z_alfa_sobre_2_t = stats.t.ppf(alpha/2, grados_libertad)\n",
    "z_alfa_sobre_2_t"
   ]
  },
  {
   "cell_type": "markdown",
   "metadata": {},
   "source": [
    "### Ejemplo\n",
    "\n",
    "Siguiendo el ejemplo anterior, generemos una población de tamaño 5000 con distribución normal de media 30.000 y desvío 7.000 que represente los valores de los sueldos.\n",
    "\n",
    "Tomemos 100 muestras de 50 individuos, y calculemos el intervalo de confianza del 90% para la media de cada muestra.\n",
    "\n",
    "\n",
    "cuyo ingreso promedio es de 30 mil dólares y desvío estándar de aproximadamente 7 mil dólares, se desea construir un intervalo de confianza del 90% para el ingreso promedio poblacional."
   ]
  },
  {
   "cell_type": "code",
   "execution_count": 13,
   "metadata": {},
   "outputs": [
    {
     "data": {
      "image/png": "[encoded data removed]",
      "text/plain": [
       "<Figure size 432x288 with 1 Axes>"
      ]
     },
     "metadata": {
      "needs_background": "light"
     },
     "output_type": "display_data"
    }
   ],
   "source": [
    "sigma = 7000\n",
    "media_poblacional = 30000\n",
    "random_generator = np.random.default_rng()\n",
    "data_population = random_generator.normal(loc=media_poblacional, scale=sigma, size=5000)\n",
    "sns.histplot(data_population, kde = True, stat = 'density');"
   ]
  },
  {
   "cell_type": "code",
   "execution_count": 14,
   "metadata": {},
   "outputs": [],
   "source": [
    "def confidence_interval(sample_data, alpha, sigma):\n",
    "    sample_mean = np.mean(sample_data)\n",
    "    z_critico = stats.norm.ppf(alpha/2)\n",
    "    n = len(sample_data)\n",
    "    ic_high = sample_mean - z_critico * sigma / math.sqrt(n)\n",
    "    ic_low = sample_mean + z_critico * sigma / math.sqrt(n)\n",
    "    result = (ic_low, ic_high)\n",
    "    return result\n",
    "\n",
    "sample_count = 100\n",
    "sample_size = 30\n",
    "\n",
    "ics = []\n",
    "\n",
    "for i in range(sample_count):\n",
    "    # creo la muestra\n",
    "    sample_data = random_generator.choice(data_population, size = sample_size,  replace=True)\n",
    "    ic = confidence_interval(sample_data, alpha, sigma)\n",
    "    ics.append(ic)\n",
    "    "
   ]
  },
  {
   "cell_type": "markdown",
   "metadata": {},
   "source": [
    "Queremos contar cuántos intervalos incluyen el valor de la media poblacional (esperamos que sean alrededor del 90%).\n",
    "\n",
    "Repitamos este ejercicio con la misma población para distintos valores de alfa, sample_count y sample_size"
   ]
  },
  {
   "cell_type": "code",
   "execution_count": 15,
   "metadata": {},
   "outputs": [
    {
     "data": {
      "text/plain": [
       "0.91"
      ]
     },
     "execution_count": 15,
     "metadata": {},
     "output_type": "execute_result"
    }
   ],
   "source": [
    "media_poblacional_en_ic = []\n",
    "for ic in ics:\n",
    "    low = ic[0]    \n",
    "    high = ic[1]\n",
    "    included = media_poblacional >= low and media_poblacional <= high    \n",
    "    media_poblacional_en_ic.append(included)\n",
    "\n",
    "sum(media_poblacional_en_ic) / len(media_poblacional_en_ic)    \n"
   ]
  },
  {
   "cell_type": "markdown",
   "metadata": {},
   "source": [
    "Grafiquemos los intervamos construídos (ics)"
   ]
  },
  {
   "cell_type": "code",
   "execution_count": 16,
   "metadata": {},
   "outputs": [
    {
     "data": {
      "text/html": [
       "<div>\n",
       "<style scoped>\n",
       "    .dataframe tbody tr th:only-of-type {\n",
       "        vertical-align: middle;\n",
       "    }\n",
       "\n",
       "    .dataframe tbody tr th {\n",
       "        vertical-align: top;\n",
       "    }\n",
       "\n",
       "    .dataframe thead th {\n",
       "        text-align: right;\n",
       "    }\n",
       "</style>\n",
       "<table border=\"1\" class=\"dataframe\">\n",
       "  <thead>\n",
       "    <tr style=\"text-align: right;\">\n",
       "      <th></th>\n",
       "      <th>0</th>\n",
       "      <th>1</th>\n",
       "    </tr>\n",
       "  </thead>\n",
       "  <tbody>\n",
       "    <tr>\n",
       "      <th>0</th>\n",
       "      <td>24160.420888</td>\n",
       "      <td>28364.730252</td>\n",
       "    </tr>\n",
       "    <tr>\n",
       "      <th>1</th>\n",
       "      <td>27774.384774</td>\n",
       "      <td>31978.694139</td>\n",
       "    </tr>\n",
       "    <tr>\n",
       "      <th>2</th>\n",
       "      <td>28124.604900</td>\n",
       "      <td>32328.914265</td>\n",
       "    </tr>\n",
       "  </tbody>\n",
       "</table>\n",
       "</div>"
      ],
      "text/plain": [
       "              0             1\n",
       "0  24160.420888  28364.730252\n",
       "1  27774.384774  31978.694139\n",
       "2  28124.604900  32328.914265"
      ]
     },
     "execution_count": 16,
     "metadata": {},
     "output_type": "execute_result"
    }
   ],
   "source": [
    "ics_data = pd.DataFrame(ics)\n",
    "ics_data.head(3)"
   ]
  },
  {
   "cell_type": "code",
   "execution_count": 17,
   "metadata": {},
   "outputs": [
    {
     "data": {
      "image/png": "[encoded data removed]",
      "text/plain": [
       "<Figure size 432x288 with 1 Axes>"
      ]
     },
     "metadata": {
      "needs_background": "light"
     },
     "output_type": "display_data"
    }
   ],
   "source": [
    "fig = plt.figure()\n",
    "ax = plt.axes()\n",
    "\n",
    "y = ics_data.index.values\n",
    "xmin = ics_data[0]\n",
    "xmax = ics_data[1]\n",
    "\n",
    "ax.hlines(y, xmin, xmax, alpha = 0.6, color = \"blue\")\n",
    "ax.vlines(media_poblacional, 0, sample_count, linestyles=\"dashed\", colors = \"red\");"
   ]
  },
  {
   "cell_type": "markdown",
   "metadata": {},
   "source": [
    "---\n",
    "\n",
    "\n",
    "<a id=\"section_referencias\"></a> \n",
    "## Referencias \n",
    "\n",
    "[volver a TOC](#section_toc)\n",
    "\n",
    "\n",
    "https://mathworld.wolfram.com/Population.html\n",
    "    \n",
    "https://mathworld.wolfram.com/Sample.html    \n",
    "\n",
    "central limit theorem\n",
    "\n",
    "https://github.com/leonvanbokhorst/NoteBooks-Statistics-and-MachineLearning/blob/master/0012%20Exploring%20the%20Central%20Limit%20Theorem.ipynb\n",
    "\n",
    "population parameters\n",
    "\n",
    "https://www.youtube.com/watch?v=vikkiwjQqfU\n",
    "\n",
    "confidence intervals\n",
    "\n",
    "https://www.youtube.com/watch?v=TqOeMYtOc1w"
   ]
  }
 ],
 "metadata": {
  "kernelspec": {
   "display_name": "Python 3",
   "language": "python",
   "name": "python3"
  },
  "language_info": {
   "codemirror_mode": {
    "name": "ipython",
    "version": 3
   },
   "file_extension": ".py",
   "mimetype": "text/x-python",
   "name": "python",
   "nbconvert_exporter": "python",
   "pygments_lexer": "ipython3",
   "version": "3.8.5"
  }
 },
 "nbformat": 4,
 "nbformat_minor": 4
}
