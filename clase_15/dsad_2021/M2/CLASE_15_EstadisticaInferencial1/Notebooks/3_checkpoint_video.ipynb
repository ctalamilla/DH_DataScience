{
 "cells": [
  {
   "cell_type": "code",
   "execution_count": 1,
   "metadata": {},
   "outputs": [
    {
     "name": "stdout",
     "output_type": "stream",
     "text": [
      "C:\\Users\\mbeati\\Documents\\2021\\dsad_2021\\common\n",
      "default checking\n",
      "Running command `conda list`... ok\n",
      "jupyterlab=2.2.6 already installed\n",
      "pandas=1.1.5 already installed\n",
      "bokeh=2.2.3 already installed\n",
      "seaborn=0.11.0 already installed\n",
      "matplotlib=3.3.2 already installed\n",
      "ipywidgets=7.5.1 already installed\n",
      "pytest=6.2.1 already installed\n",
      "chardet=4.0.0 already installed\n",
      "psutil=5.7.2 already installed\n",
      "scipy=1.5.2 already installed\n",
      "statsmodels=0.12.1 already installed\n",
      "scikit-learn=0.23.2 already installed\n",
      "xlrd=2.0.1 already installed\n",
      "Running command `conda install --yes nltk=3.5.0`... ok\n",
      "Collecting package metadata (current_repodata.json): ...working... done\n",
      "Solving environment: ...working... done\n",
      "\n",
      "# All requested packages already installed.\n",
      "\n",
      "\n",
      "unidecode=1.1.1 already installed\n",
      "pydotplus=2.0.2 already installed\n",
      "pandas-datareader=0.9.0 already installed\n",
      "flask=1.1.2 already installed\n"
     ]
    }
   ],
   "source": [
    "%run \"../../../common/0_notebooks_base_setup.py\"    "
   ]
  },
  {
   "cell_type": "markdown",
   "metadata": {},
   "source": [
    "---\n",
    "\n",
    "<img src='../../../common/logo_DH.png' align='left' width=35%/>\n"
   ]
  },
  {
   "cell_type": "markdown",
   "metadata": {},
   "source": [
    "# Estadística Inferencial"
   ]
  },
  {
   "cell_type": "markdown",
   "metadata": {},
   "source": [
    "## Imports"
   ]
  },
  {
   "cell_type": "code",
   "execution_count": 2,
   "metadata": {},
   "outputs": [],
   "source": [
    "import scipy.stats as stats\n",
    "import pandas as pd\n",
    "import numpy as np\n",
    "import math\n",
    "import seaborn as sns\n",
    "import matplotlib.pyplot as plt"
   ]
  },
  {
   "cell_type": "markdown",
   "metadata": {},
   "source": [
    "## Dataset\n",
    "\n",
    "Utilizamos una muestra aleatoria de puntajes de influencia de redes sociales del servicio klout. \n",
    "\n",
    "Klout era un sitio web y una aplicación móvil que utilizaba análisis de redes sociales para calificar usuarios de acuerdo con su influencia social en línea. \n",
    "\n",
    "El sitio calculaba un \"Klout Score\", que era un valor numérico entre 1 y 100 donde puntuaciones más altas correspondian a una mayor \"influencia social\" en línea.\n",
    "\n",
    "De una población de más de 620 millones de puntajes obtuvimos una muestra de tamaño 1048\n",
    "\n",
    "Pueden ver más detalles sobre klout <a href=\"https://topinfluencers.es/que-es-klout/\" target=\"_blank\">aquí</a>"
   ]
  },
  {
   "cell_type": "markdown",
   "metadata": {},
   "source": [
    "## Leemos los datos"
   ]
  },
  {
   "cell_type": "code",
   "execution_count": 3,
   "metadata": {},
   "outputs": [
    {
     "data": {
      "text/html": [
       "<div>\n",
       "<style scoped>\n",
       "    .dataframe tbody tr th:only-of-type {\n",
       "        vertical-align: middle;\n",
       "    }\n",
       "\n",
       "    .dataframe tbody tr th {\n",
       "        vertical-align: top;\n",
       "    }\n",
       "\n",
       "    .dataframe thead th {\n",
       "        text-align: right;\n",
       "    }\n",
       "</style>\n",
       "<table border=\"1\" class=\"dataframe\">\n",
       "  <thead>\n",
       "    <tr style=\"text-align: right;\">\n",
       "      <th></th>\n",
       "      <th>scores</th>\n",
       "    </tr>\n",
       "  </thead>\n",
       "  <tbody>\n",
       "    <tr>\n",
       "      <th>0</th>\n",
       "      <td>25.104179</td>\n",
       "    </tr>\n",
       "    <tr>\n",
       "      <th>1</th>\n",
       "      <td>60.908747</td>\n",
       "    </tr>\n",
       "    <tr>\n",
       "      <th>2</th>\n",
       "      <td>23.222238</td>\n",
       "    </tr>\n",
       "    <tr>\n",
       "      <th>3</th>\n",
       "      <td>51.553491</td>\n",
       "    </tr>\n",
       "    <tr>\n",
       "      <th>4</th>\n",
       "      <td>22.629690</td>\n",
       "    </tr>\n",
       "  </tbody>\n",
       "</table>\n",
       "</div>"
      ],
      "text/plain": [
       "      scores\n",
       "0  25.104179\n",
       "1  60.908747\n",
       "2  23.222238\n",
       "3  51.553491\n",
       "4  22.629690"
      ]
     },
     "execution_count": 3,
     "metadata": {},
     "output_type": "execute_result"
    }
   ],
   "source": [
    "data_klout = pd.read_csv('../Data/klout-scores.csv', header=None, names=['scores'])\n",
    "data_klout.head()"
   ]
  },
  {
   "cell_type": "markdown",
   "metadata": {},
   "source": [
    "## Ejercicio 1: Intervalos de confianza\n",
    "\n",
    "Escribir una función que dado los datos como una instancia de Series, un número n_sample, y un valor alpha tome una muestra de los datos de tamaño n y calcule la media muestral y el intervalo de confianza para la media a partir de esa muestra.\n",
    "\n",
    "$$\\bar{x}-z_{\\alpha/2}\\cdot\\frac{\\sigma}{\\sqrt{n}}\\lt\\mu_{estimator}\\lt\\bar{x}+z_{\\alpha/2}\\cdot\\frac{\\sigma}{\\sqrt{n}}$$ \n",
    "\n",
    "Usemos esa función para calcular los intervalos de confianza de nivel 95% para las medias de los scores de data_klout en una muestra de tamaño 20 y otra de tamaño 100.\n"
   ]
  },
  {
   "cell_type": "code",
   "execution_count": 4,
   "metadata": {},
   "outputs": [],
   "source": [
    "def confidence_interval(data, n_sample, alpha):    \n",
    "\n",
    "    # muestreo:\n",
    "    random_generator = np.random.default_rng()\n",
    "    index_sample = random_generator.choice(data.index, size = n_sample,  replace=False)\n",
    "    data_sample = data.loc[index_sample]\n",
    "        \n",
    "    data_sample_xbar = data_sample.mean()\n",
    "    \n",
    "    data_sample_sd = data_sample.std()\n",
    "\n",
    "    data_sample_se = data_sample_sd / math.sqrt(n_sample)\n",
    "\n",
    "    critical_value = stats.norm.ppf(alpha / 2) * (-1)\n",
    "\n",
    "    sample_CI_mean_lower = data_sample_xbar - critical_value * data_sample_se\n",
    "    sample_CI_mean_upper = data_sample_xbar + critical_value * data_sample_se\n",
    "        \n",
    "    return (data_sample_xbar, sample_CI_mean_lower, sample_CI_mean_upper)\n"
   ]
  },
  {
   "cell_type": "code",
   "execution_count": 5,
   "metadata": {},
   "outputs": [
    {
     "data": {
      "text/plain": [
       "(30.312282701500003, 22.832708085497615, 37.79185731750239)"
      ]
     },
     "execution_count": 5,
     "metadata": {},
     "output_type": "execute_result"
    }
   ],
   "source": [
    "mean_ci_20 = confidence_interval(data_klout.scores, n_sample = 20, alpha = 0.05)\n",
    "mean_ci_20"
   ]
  },
  {
   "cell_type": "code",
   "execution_count": 6,
   "metadata": {},
   "outputs": [
    {
     "data": {
      "text/plain": [
       "(39.2976094709, 35.9935646710193, 42.6016542707807)"
      ]
     },
     "execution_count": 6,
     "metadata": {},
     "output_type": "execute_result"
    }
   ],
   "source": [
    "mean_ci_100 = confidence_interval(data_klout.scores, n_sample = 100, alpha = 0.05)\n",
    "mean_ci_100"
   ]
  },
  {
   "cell_type": "code",
   "execution_count": 7,
   "metadata": {},
   "outputs": [
    {
     "name": "stdout",
     "output_type": "stream",
     "text": [
      "1048\n"
     ]
    },
    {
     "data": {
      "text/plain": [
       "37.71905483253817"
      ]
     },
     "execution_count": 7,
     "metadata": {},
     "output_type": "execute_result"
    }
   ],
   "source": [
    "print(len(data_klout.scores))\n",
    "data_klout.scores.mean()"
   ]
  },
  {
   "cell_type": "code",
   "execution_count": 8,
   "metadata": {},
   "outputs": [
    {
     "data": {
      "text/plain": [
       "(31.644595480500005, 26.505576932565475, 36.783614028434535)"
      ]
     },
     "execution_count": 8,
     "metadata": {},
     "output_type": "execute_result"
    }
   ],
   "source": [
    "mean_ci_20_90 = confidence_interval(data_klout.scores, n_sample = 20, alpha = 0.1)\n",
    "mean_ci_20_90"
   ]
  },
  {
   "cell_type": "code",
   "execution_count": 9,
   "metadata": {},
   "outputs": [
    {
     "data": {
      "text/plain": [
       "(36.6016285517, 33.7470514344568, 39.456205668943205)"
      ]
     },
     "execution_count": 9,
     "metadata": {},
     "output_type": "execute_result"
    }
   ],
   "source": [
    "mean_ci_100_90 = confidence_interval(data_klout.scores, n_sample = 100, alpha = 0.1)\n",
    "mean_ci_100_90"
   ]
  },
  {
   "cell_type": "markdown",
   "metadata": {},
   "source": [
    "## Ejercicio 2: Normal vs. T de Student\n",
    "\n",
    "**2.1** Grafiquemos los datos de klout-scores para tenes alguna intuición sobre su distribución.\n",
    "\n",
    "**2.2** En el ejercicio anterior calculamos los intervalos de confianza de nivel 95% para las medias de los scores de data_klout en una muestra de tamaño 20 y otra de tamaño 100 usando el desvío estándar de la muestra como aproximación a sigma, y distribución normal. \n",
    "\n",
    "Repitamos ahora este cálculo para valores de n entre 5 y 200 con paso 5 (o sea 5, 10, 15, .... 200)\n",
    "\n",
    "Y calculemos para esos mismos valores de n las longitudes de los intervalos de confianza considerando que **no conocemos el desvío estándar poblacional**\n",
    "\n",
    "**2.3** Construyamos un dataset cuyas columnas sean \n",
    "\n",
    "* tamaño del intervalo de confianza de los resultado del ejercicio 1 o 2\n",
    "\n",
    "* n, 5 a 200 con paso 5 \n",
    "\n",
    "* fuente, si el resultado proviene del ejercicio 1 (desvío estándar poblacional conocido) o del ejercicio 2 (desvío estándar poblacional desconocido)\n",
    "\n",
    "**2.4** A partir de este dataset grafiquemos las dos series de resultados en función de n. \n",
    "\n",
    "**2.5** ¿A partir de qué valor de n el cálculo del ejercicio 1 es equivalente al del ejercicio 2? Para responder esta pregunta grafiquemos para cada valor de n el valor absoluto de la diferencia entre los resultados de los ejercicios 1 y 2.\n",
    "\n"
   ]
  },
  {
   "cell_type": "markdown",
   "metadata": {},
   "source": [
    "---\n",
    "\n",
    "**2.1**. Graficamos los datos de klout-scores"
   ]
  },
  {
   "cell_type": "code",
   "execution_count": 10,
   "metadata": {},
   "outputs": [
    {
     "data": {
      "image/png": "[encoded data removed]",
      "text/plain": [
       "<Figure size 432x288 with 1 Axes>"
      ]
     },
     "metadata": {
      "needs_background": "light"
     },
     "output_type": "display_data"
    }
   ],
   "source": [
    "p = sns.histplot(data_klout, kde = True, stat = 'density');"
   ]
  },
  {
   "cell_type": "markdown",
   "metadata": {},
   "source": [
    "No conocemos el desvío estándar poblacional y la distribución no es simétrica"
   ]
  },
  {
   "cell_type": "markdown",
   "metadata": {},
   "source": [
    "---\n",
    "\n",
    "**2.2**"
   ]
  },
  {
   "cell_type": "code",
   "execution_count": 11,
   "metadata": {},
   "outputs": [],
   "source": [
    "def confidence_interval_t(data, n_sample, alpha):    \n",
    "\n",
    "    # muestreo:\n",
    "    random_generator = np.random.default_rng()\n",
    "    index_sample = random_generator.choice(data.index, size = n_sample,  replace=False)\n",
    "    data_sample = data.loc[index_sample]\n",
    "        \n",
    "    data_sample_xbar = data_sample.mean()\n",
    "    \n",
    "    data_sample_sd = data_sample.std()\n",
    "\n",
    "    data_sample_se = data_sample_sd / math.sqrt(n_sample)\n",
    "\n",
    "    nu = n_sample - 1\n",
    "    critical_value = stats.t.ppf(alpha / 2, df = nu) * (-1)\n",
    "\n",
    "    sample_CI_mean_lower = data_sample_xbar - critical_value * data_sample_se\n",
    "    sample_CI_mean_upper = data_sample_xbar + critical_value * data_sample_se\n",
    "        \n",
    "    return (data_sample_xbar, sample_CI_mean_lower, sample_CI_mean_upper)\n"
   ]
  },
  {
   "cell_type": "code",
   "execution_count": 12,
   "metadata": {},
   "outputs": [],
   "source": [
    "alpha = 0.05\n",
    "\n",
    "n = range(5, 205, 5)\n",
    "\n",
    "resultados_ejercicio_1 = []\n",
    "for n_sample in n:\n",
    "    xbar, mean_lower, mean_upper = confidence_interval(data_klout, n_sample, alpha)\n",
    "    ci_length = mean_upper - mean_lower    \n",
    "    resultados_ejercicio_1.extend(ci_length.values)\n",
    "    \n",
    "resultados_ejercicio_2 = []\n",
    "for n_sample in n:    \n",
    "    xbar, mean_lower, mean_upper = confidence_interval_t(data_klout, n_sample, alpha)\n",
    "    ci_length = mean_upper - mean_lower\n",
    "    #print(ci_length)\n",
    "    resultados_ejercicio_2.extend(ci_length.values)\n",
    "\n",
    "#print(resultados_ejercicio_1)    \n",
    "#print(resultados_ejercicio_2)    \n"
   ]
  },
  {
   "cell_type": "markdown",
   "metadata": {},
   "source": [
    "**2.3**"
   ]
  },
  {
   "cell_type": "code",
   "execution_count": 13,
   "metadata": {},
   "outputs": [
    {
     "data": {
      "text/html": [
       "<div>\n",
       "<style scoped>\n",
       "    .dataframe tbody tr th:only-of-type {\n",
       "        vertical-align: middle;\n",
       "    }\n",
       "\n",
       "    .dataframe tbody tr th {\n",
       "        vertical-align: top;\n",
       "    }\n",
       "\n",
       "    .dataframe thead th {\n",
       "        text-align: right;\n",
       "    }\n",
       "</style>\n",
       "<table border=\"1\" class=\"dataframe\">\n",
       "  <thead>\n",
       "    <tr style=\"text-align: right;\">\n",
       "      <th></th>\n",
       "      <th>ci_tam</th>\n",
       "      <th>n</th>\n",
       "      <th>fuente</th>\n",
       "    </tr>\n",
       "  </thead>\n",
       "  <tbody>\n",
       "    <tr>\n",
       "      <th>0</th>\n",
       "      <td>23.676932</td>\n",
       "      <td>5</td>\n",
       "      <td>sd conocido</td>\n",
       "    </tr>\n",
       "    <tr>\n",
       "      <th>1</th>\n",
       "      <td>24.121777</td>\n",
       "      <td>10</td>\n",
       "      <td>sd conocido</td>\n",
       "    </tr>\n",
       "    <tr>\n",
       "      <th>2</th>\n",
       "      <td>18.033511</td>\n",
       "      <td>15</td>\n",
       "      <td>sd conocido</td>\n",
       "    </tr>\n",
       "    <tr>\n",
       "      <th>3</th>\n",
       "      <td>14.934182</td>\n",
       "      <td>20</td>\n",
       "      <td>sd conocido</td>\n",
       "    </tr>\n",
       "    <tr>\n",
       "      <th>4</th>\n",
       "      <td>15.122022</td>\n",
       "      <td>25</td>\n",
       "      <td>sd conocido</td>\n",
       "    </tr>\n",
       "    <tr>\n",
       "      <th>...</th>\n",
       "      <td>...</td>\n",
       "      <td>...</td>\n",
       "      <td>...</td>\n",
       "    </tr>\n",
       "    <tr>\n",
       "      <th>35</th>\n",
       "      <td>4.845887</td>\n",
       "      <td>180</td>\n",
       "      <td>sd desconocido</td>\n",
       "    </tr>\n",
       "    <tr>\n",
       "      <th>36</th>\n",
       "      <td>4.968777</td>\n",
       "      <td>185</td>\n",
       "      <td>sd desconocido</td>\n",
       "    </tr>\n",
       "    <tr>\n",
       "      <th>37</th>\n",
       "      <td>4.603010</td>\n",
       "      <td>190</td>\n",
       "      <td>sd desconocido</td>\n",
       "    </tr>\n",
       "    <tr>\n",
       "      <th>38</th>\n",
       "      <td>4.448558</td>\n",
       "      <td>195</td>\n",
       "      <td>sd desconocido</td>\n",
       "    </tr>\n",
       "    <tr>\n",
       "      <th>39</th>\n",
       "      <td>4.275827</td>\n",
       "      <td>200</td>\n",
       "      <td>sd desconocido</td>\n",
       "    </tr>\n",
       "  </tbody>\n",
       "</table>\n",
       "<p>80 rows × 3 columns</p>\n",
       "</div>"
      ],
      "text/plain": [
       "       ci_tam    n          fuente\n",
       "0   23.676932    5     sd conocido\n",
       "1   24.121777   10     sd conocido\n",
       "2   18.033511   15     sd conocido\n",
       "3   14.934182   20     sd conocido\n",
       "4   15.122022   25     sd conocido\n",
       "..        ...  ...             ...\n",
       "35   4.845887  180  sd desconocido\n",
       "36   4.968777  185  sd desconocido\n",
       "37   4.603010  190  sd desconocido\n",
       "38   4.448558  195  sd desconocido\n",
       "39   4.275827  200  sd desconocido\n",
       "\n",
       "[80 rows x 3 columns]"
      ]
     },
     "execution_count": 13,
     "metadata": {},
     "output_type": "execute_result"
    }
   ],
   "source": [
    "data_ej1_dict = {\"ci_tam\": resultados_ejercicio_1,             \n",
    "            \"n\": n,\n",
    "            \"fuente\": \"sd conocido\"}\n",
    "\n",
    "data_ej2_dict = {\"ci_tam\": resultados_ejercicio_2,             \n",
    "            \"n\": n,\n",
    "            \"fuente\": \"sd desconocido\"}\n",
    "\n",
    "data_ej1 = pd.DataFrame.from_dict(data_ej1_dict)\n",
    "data_ej1\n",
    "\n",
    "data_ej2 = pd.DataFrame.from_dict(data_ej2_dict)\n",
    "data_ej2\n",
    "\n",
    "data = pd.concat([data_ej1, data_ej2])\n",
    "data\n"
   ]
  },
  {
   "cell_type": "markdown",
   "metadata": {},
   "source": [
    "**2.4**\n",
    "\n"
   ]
  },
  {
   "cell_type": "code",
   "execution_count": 14,
   "metadata": {},
   "outputs": [
    {
     "data": {
      "text/plain": [
       "<AxesSubplot:xlabel='n', ylabel='ci_tam'>"
      ]
     },
     "execution_count": 14,
     "metadata": {},
     "output_type": "execute_result"
    },
    {
     "data": {
      "image/png": "[encoded data removed]",
      "text/plain": [
       "<Figure size 432x288 with 1 Axes>"
      ]
     },
     "metadata": {
      "needs_background": "light"
     },
     "output_type": "display_data"
    }
   ],
   "source": [
    "sns.scatterplot(data=data, x=\"n\", y=\"ci_tam\", hue=\"fuente\")"
   ]
  },
  {
   "cell_type": "markdown",
   "metadata": {},
   "source": [
    "Vemos que para valores de n chicos, la longitud de los intervalos son mayores cuando el sd de la población es desconocido.\n",
    "\n",
    "A medida que aumenta n esta diferencia disminuye"
   ]
  },
  {
   "cell_type": "markdown",
   "metadata": {},
   "source": [
    "**2.5**"
   ]
  },
  {
   "cell_type": "code",
   "execution_count": 18,
   "metadata": {},
   "outputs": [
    {
     "data": {
      "text/plain": [
       "<AxesSubplot:xlabel='n', ylabel='distancia'>"
      ]
     },
     "execution_count": 18,
     "metadata": {},
     "output_type": "execute_result"
    },
    {
     "data": {
      "image/png": "[encoded data removed]",
      "text/plain": [
       "<Figure size 432x288 with 1 Axes>"
      ]
     },
     "metadata": {
      "needs_background": "light"
     },
     "output_type": "display_data"
    }
   ],
   "source": [
    "data_dif = pd.merge(data_ej1, data_ej2, how = \"inner\", on = \"n\", suffixes = ('_ej1', '_ej2'))\n",
    "#data_dif\n",
    "data_dif['distancia'] = abs(data_dif.ci_tam_ej2 - data_dif.ci_tam_ej1)\n",
    "#data_dif\n",
    "sns.scatterplot(data=data_dif, x=\"n\", y=\"distancia\")"
   ]
  },
  {
   "cell_type": "markdown",
   "metadata": {},
   "source": [
    "Para valores a partir de 150 vemos que se estabiliza la distancia entre las longitudes de los intervalos de confianza calculados de una y otra forma.\n",
    "\n",
    "Un valor tan grande de n para obtener resultados similares es consecuencia de que la distribución de datos original no es simétrica. Con distribuciones más simétricas, estos resultados convergerán para valores de n más pequeños."
   ]
  }
 ],
 "metadata": {
  "kernelspec": {
   "display_name": "Python 3",
   "language": "python",
   "name": "python3"
  },
  "language_info": {
   "codemirror_mode": {
    "name": "ipython",
    "version": 3
   },
   "file_extension": ".py",
   "mimetype": "text/x-python",
   "name": "python",
   "nbconvert_exporter": "python",
   "pygments_lexer": "ipython3",
   "version": "3.8.5"
  }
 },
 "nbformat": 4,
 "nbformat_minor": 4
}
