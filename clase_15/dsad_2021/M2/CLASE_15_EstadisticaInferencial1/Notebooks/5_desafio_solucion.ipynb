{
 "cells": [
  {
   "cell_type": "code",
   "execution_count": 1,
   "metadata": {},
   "outputs": [
    {
     "name": "stdout",
     "output_type": "stream",
     "text": [
      "/media/paulati/Nuevo vol/paula/dh/2021/dsad_2021_paula/common\n",
      "default checking\n",
      "Running command `conda list`... ok\n",
      "jupyterlab=2.2.6 already installed\n",
      "pandas=1.1.5 already installed\n",
      "bokeh=2.2.3 already installed\n",
      "seaborn=0.11.0 already installed\n",
      "matplotlib=3.3.2 already installed\n",
      "ipywidgets=7.5.1 already installed\n",
      "pytest=6.2.1 already installed\n",
      "chardet=4.0.0 already installed\n",
      "psutil=5.7.2 already installed\n",
      "scipy=1.5.2 already installed\n",
      "statsmodels=0.12.1 already installed\n",
      "scikit-learn=0.23.2 already installed\n",
      "xlrd=2.0.1 already installed\n",
      "Running command `conda install --yes nltk=3.5.0`... ok\n",
      "Collecting package metadata (current_repodata.json): ...working... done\n",
      "Solving environment: ...working... done\n",
      "\n",
      "# All requested packages already installed.\n",
      "\n",
      "\n",
      "unidecode=1.1.1 already installed\n",
      "pydotplus=2.0.2 already installed\n",
      "pandas-datareader=0.9.0 already installed\n",
      "flask=1.1.2 already installed\n"
     ]
    }
   ],
   "source": [
    "%run \"../../../common/0_notebooks_base_setup.py\"    "
   ]
  },
  {
   "cell_type": "markdown",
   "metadata": {},
   "source": [
    "## Imports"
   ]
  },
  {
   "cell_type": "code",
   "execution_count": 2,
   "metadata": {},
   "outputs": [],
   "source": [
    "import numpy as np\n",
    "import pandas as pd\n",
    "import scipy\n",
    "import seaborn as sns\n",
    "import matplotlib.pyplot as plt\n",
    "from scipy import stats\n",
    "import math\n",
    "import datetime\n"
   ]
  },
  {
   "cell_type": "markdown",
   "metadata": {},
   "source": [
    "---\n",
    "\n",
    "## Intervalos de Confianza"
   ]
  },
  {
   "cell_type": "markdown",
   "metadata": {},
   "source": [
    "### Dataset\n",
    "\n",
    "Utilizamos una muestra aleatoria de puntajes de influencia de redes sociales del servicio http://klout.com. \n",
    "\n",
    "Klout era un sitio web y una aplicación móvil que utilizaba análisis de redes sociales para calificar usuarios de acuerdo con su influencia social en línea. \n",
    "\n",
    "El sitio calculaba un \"Klout Score\", que era un valor numérico entre 1 y 100 donde puntuaciones más altas correspondian a una mayor \"influencia social\" en línea.\n",
    "\n",
    "De una población de más de 620 millones de puntajes obtuvimos una muestra de tamaño 1048"
   ]
  },
  {
   "cell_type": "markdown",
   "metadata": {},
   "source": [
    "### Leemos los datos"
   ]
  },
  {
   "cell_type": "code",
   "execution_count": 3,
   "metadata": {},
   "outputs": [
    {
     "name": "stdout",
     "output_type": "stream",
     "text": [
      "(1048, 1)\n"
     ]
    },
    {
     "data": {
      "text/html": [
       "<div>\n",
       "<style scoped>\n",
       "    .dataframe tbody tr th:only-of-type {\n",
       "        vertical-align: middle;\n",
       "    }\n",
       "\n",
       "    .dataframe tbody tr th {\n",
       "        vertical-align: top;\n",
       "    }\n",
       "\n",
       "    .dataframe thead th {\n",
       "        text-align: right;\n",
       "    }\n",
       "</style>\n",
       "<table border=\"1\" class=\"dataframe\">\n",
       "  <thead>\n",
       "    <tr style=\"text-align: right;\">\n",
       "      <th></th>\n",
       "      <th>scores</th>\n",
       "    </tr>\n",
       "  </thead>\n",
       "  <tbody>\n",
       "    <tr>\n",
       "      <th>0</th>\n",
       "      <td>25.104179</td>\n",
       "    </tr>\n",
       "    <tr>\n",
       "      <th>1</th>\n",
       "      <td>60.908747</td>\n",
       "    </tr>\n",
       "    <tr>\n",
       "      <th>2</th>\n",
       "      <td>23.222238</td>\n",
       "    </tr>\n",
       "    <tr>\n",
       "      <th>3</th>\n",
       "      <td>51.553491</td>\n",
       "    </tr>\n",
       "    <tr>\n",
       "      <th>4</th>\n",
       "      <td>22.629690</td>\n",
       "    </tr>\n",
       "  </tbody>\n",
       "</table>\n",
       "</div>"
      ],
      "text/plain": [
       "      scores\n",
       "0  25.104179\n",
       "1  60.908747\n",
       "2  23.222238\n",
       "3  51.553491\n",
       "4  22.629690"
      ]
     },
     "execution_count": 3,
     "metadata": {},
     "output_type": "execute_result"
    }
   ],
   "source": [
    "data = pd.read_csv('../Data/klout-scores.csv', header=None, names=['scores'])\n",
    "print(data.shape)\n",
    "data.head()"
   ]
  },
  {
   "cell_type": "markdown",
   "metadata": {},
   "source": [
    "### Exploratorio\n",
    "\n",
    "Grafiquemos los valores de score que leimos en la variable data, y observemos que hay dos picos. Uno corresponde a los consumidores y el otro a los influencers."
   ]
  },
  {
   "cell_type": "code",
   "execution_count": 4,
   "metadata": {},
   "outputs": [
    {
     "data": {
      "image/png": "[encoded data removed]",
      "text/plain": [
       "<Figure size 432x288 with 1 Axes>"
      ]
     },
     "metadata": {
      "needs_background": "light"
     },
     "output_type": "display_data"
    }
   ],
   "source": [
    "p = sns.histplot(data.scores, kde = True, stat = 'density');"
   ]
  },
  {
   "cell_type": "markdown",
   "metadata": {},
   "source": [
    "### Intervalo de confianza\n",
    "\n",
    "Si queremos estimar un parámetro poblacional (media, proporción, desvío estandar) a partir de un estadístico muestral, no podemos estar seguros del resultado pero podemos dar algún nivel de confianza a nuestra predicción por medio de un intervalo de confianza (CI).\n",
    "\n",
    "|   |media|proporción|desvío estandar|   |\n",
    "|---|:---:|:---:|:---:|---|\n",
    "|población|$\\mu$|$p$|$\\sigma$|parámetros|\n",
    "|muestra|$\\bar{x}$|$\\hat{p}$|$s$|estadísticos|\n",
    "\n",
    "Calculemos un intervalo de confianza del 95% para la media muestral del dataset Klout Scores.\n",
    "\n",
    "Para muestras grandes, podemos resolver esta ecuación con un nivel de alfa de $\\alpha=.05$\n",
    "\n",
    "$$\\bar{x}+z_{\\alpha/2}\\cdot\\frac{\\sigma}{\\sqrt{n}}\\lt\\mu_{estimator}\\lt\\bar{x}-z_{\\alpha/2}\\cdot\\frac{\\sigma}{\\sqrt{n}}$$ \n",
    "\n",
    "Calculemos estos valores para nuestros datos:"
   ]
  },
  {
   "cell_type": "markdown",
   "metadata": {},
   "source": [
    "#### Media muestral:"
   ]
  },
  {
   "cell_type": "code",
   "execution_count": 5,
   "metadata": {},
   "outputs": [
    {
     "data": {
      "text/plain": [
       "37.71905483253817"
      ]
     },
     "execution_count": 5,
     "metadata": {},
     "output_type": "execute_result"
    }
   ],
   "source": [
    "klout_xbar = data.scores.mean()\n",
    "klout_xbar"
   ]
  },
  {
   "cell_type": "markdown",
   "metadata": {},
   "source": [
    "#### Desvío estandar de la muestra\n",
    "\n",
    "Como nuestar muestra es grande (de tamaño mayor que 30) podemos usar el desvío estandar muestral como aproximación de sigma\n"
   ]
  },
  {
   "cell_type": "code",
   "execution_count": 6,
   "metadata": {},
   "outputs": [
    {
     "data": {
      "text/plain": [
       "16.044314979048988"
      ]
     },
     "execution_count": 6,
     "metadata": {},
     "output_type": "execute_result"
    }
   ],
   "source": [
    "klout_sd = data.scores.std()\n",
    "klout_sd"
   ]
  },
  {
   "cell_type": "markdown",
   "metadata": {},
   "source": [
    "#### Error estandar de la muestra:\n"
   ]
  },
  {
   "cell_type": "code",
   "execution_count": 7,
   "metadata": {},
   "outputs": [
    {
     "data": {
      "text/plain": [
       "0.49561054484656253"
      ]
     },
     "execution_count": 7,
     "metadata": {},
     "output_type": "execute_result"
    }
   ],
   "source": [
    "# We need the standard error to calculate the bounds\n",
    "n = data.shape[0]\n",
    "klout_se = klout_sd / math.sqrt(n)\n",
    "klout_se"
   ]
  },
  {
   "cell_type": "markdown",
   "metadata": {},
   "source": [
    "#### z-scores:\n",
    "\n",
    "Calculamos los z-score para poder calcular los límites inferior y superior del intervalo de confianza.\n",
    "\n",
    "https://docs.scipy.org/doc/scipy/reference/generated/scipy.stats.norm.html\n",
    "\n",
    "**CDF**: Cumulative Distribution Function usamos `stats.cdf`\n",
    "\n",
    "**ppf**: Percent Point Function (Inverse of CDF) usamos `stats.ppf`"
   ]
  },
  {
   "cell_type": "code",
   "execution_count": 8,
   "metadata": {},
   "outputs": [],
   "source": [
    "alpha = 0.05"
   ]
  },
  {
   "cell_type": "code",
   "execution_count": 9,
   "metadata": {},
   "outputs": [
    {
     "data": {
      "text/plain": [
       "1.9599639845400545"
      ]
     },
     "execution_count": 9,
     "metadata": {},
     "output_type": "execute_result"
    }
   ],
   "source": [
    "critical_value = stats.norm.ppf(alpha / 2) * (-1)\n",
    "critical_value"
   ]
  },
  {
   "cell_type": "markdown",
   "metadata": {},
   "source": [
    "Una forma alternativa para obtener el intervalo de valores críticos es usar \n",
    "\n",
    "`interval(alpha, loc=0, scale=1)` que devuelve los límites del rango que contiene alfa-porciento de la distribución\n",
    "\n",
    "Observemos que el argumento alfa de esta función **no** es el valor de alfa que definimos arriba, sino 1 - ese valor. \n",
    "\n",
    "Llamaremos nivel de confianza (confidence coefficient) al valor del argumento alpha de la función interval.\n",
    "\n",
    "https://docs.scipy.org/doc/scipy-0.15.1/reference/generated/scipy.stats.norm.html"
   ]
  },
  {
   "cell_type": "code",
   "execution_count": 10,
   "metadata": {},
   "outputs": [
    {
     "data": {
      "text/plain": [
       "(-1.959963984540054, 1.959963984540054)"
      ]
     },
     "execution_count": 10,
     "metadata": {},
     "output_type": "execute_result"
    }
   ],
   "source": [
    "confidence_coef = 1 - alpha\n",
    "zscore_interval = stats.norm.interval(alpha=confidence_coef)\n",
    "zscore_interval"
   ]
  },
  {
   "cell_type": "markdown",
   "metadata": {},
   "source": [
    "#### Calculamos los límites inferior y superior del intervalo de confianza para la media de Klout Score:"
   ]
  },
  {
   "cell_type": "code",
   "execution_count": 11,
   "metadata": {},
   "outputs": [
    {
     "data": {
      "text/plain": [
       "(36.747676014280636, 38.690433650795704)"
      ]
     },
     "execution_count": 11,
     "metadata": {},
     "output_type": "execute_result"
    }
   ],
   "source": [
    "klout_CI_mean_lower = klout_xbar - critical_value * klout_se\n",
    "klout_CI_mean_upper = klout_xbar + critical_value * klout_se\n",
    "klout_CI_mean_lower, klout_CI_mean_upper"
   ]
  },
  {
   "cell_type": "markdown",
   "metadata": {},
   "source": [
    "#### ¿Qué significa este resultado?\n",
    "\n",
    "Un intervalo de confianza trata de capturar la media de la población real de una muestra declarando un intervalo de confianza. Esto significa que el 95% de los intervalos que calculemos a partir de muestras independientes atrapan el verdadero valor de la media poblacional.\n",
    "\n",
    "Klout.com afirma que su puntaje promedio es 40, por lo que no obtuvimos el parámetro promedio de población real (el valor que obtuvimos es 37.7). Dado que nuestros cálculos parecen ser correctos, esto podría significar que:\n",
    "* Tal vez nuestra media muestral está muy por debajo de la media poblacional. Tengamos en cuenta que solo tenemos un 95% de confianza.\n",
    "* Quizás la comunicación de Klout sobre el puntaje promedio se simplifica a un valor fácil de recordar de 40.\n"
   ]
  },
  {
   "cell_type": "markdown",
   "metadata": {},
   "source": [
    "#### Efecto del tamaño de muestra\n",
    "\n",
    "El tamaño de la muestra afecta los límites del intervalo de confianza. Cuanto más pequeña es la muestra, menos confianza tenemos, por lo tanto, más amplio es el intervalo de confianza. Probemos esto con una muestra aleatoria de los datos de Klout Score de n = 50.\n"
   ]
  },
  {
   "cell_type": "code",
   "execution_count": 12,
   "metadata": {},
   "outputs": [
    {
     "data": {
      "text/html": [
       "<div>\n",
       "<style scoped>\n",
       "    .dataframe tbody tr th:only-of-type {\n",
       "        vertical-align: middle;\n",
       "    }\n",
       "\n",
       "    .dataframe tbody tr th {\n",
       "        vertical-align: top;\n",
       "    }\n",
       "\n",
       "    .dataframe thead th {\n",
       "        text-align: right;\n",
       "    }\n",
       "</style>\n",
       "<table border=\"1\" class=\"dataframe\">\n",
       "  <thead>\n",
       "    <tr style=\"text-align: right;\">\n",
       "      <th></th>\n",
       "      <th>scores</th>\n",
       "    </tr>\n",
       "  </thead>\n",
       "  <tbody>\n",
       "    <tr>\n",
       "      <th>632</th>\n",
       "      <td>50.301524</td>\n",
       "    </tr>\n",
       "    <tr>\n",
       "      <th>346</th>\n",
       "      <td>12.139815</td>\n",
       "    </tr>\n",
       "    <tr>\n",
       "      <th>537</th>\n",
       "      <td>17.586335</td>\n",
       "    </tr>\n",
       "    <tr>\n",
       "      <th>466</th>\n",
       "      <td>48.208577</td>\n",
       "    </tr>\n",
       "    <tr>\n",
       "      <th>871</th>\n",
       "      <td>41.088487</td>\n",
       "    </tr>\n",
       "  </tbody>\n",
       "</table>\n",
       "</div>"
      ],
      "text/plain": [
       "        scores\n",
       "632  50.301524\n",
       "346  12.139815\n",
       "537  17.586335\n",
       "466  48.208577\n",
       "871  41.088487"
      ]
     },
     "execution_count": 12,
     "metadata": {},
     "output_type": "execute_result"
    }
   ],
   "source": [
    "n_sample = 50\n",
    "random_generator = np.random.default_rng()\n",
    "index_sample = random_generator.choice(data.index, size = n_sample)\n",
    "data_sample = data.loc[index_sample]\n",
    "data_sample.head()"
   ]
  },
  {
   "cell_type": "markdown",
   "metadata": {},
   "source": [
    "Graficamos la distribución de la muestra"
   ]
  },
  {
   "cell_type": "code",
   "execution_count": 13,
   "metadata": {},
   "outputs": [
    {
     "data": {
      "image/png": "[encoded data removed]",
      "text/plain": [
       "<Figure size 432x288 with 1 Axes>"
      ]
     },
     "metadata": {
      "needs_background": "light"
     },
     "output_type": "display_data"
    }
   ],
   "source": [
    "p = sns.histplot(data_sample.scores, kde = True, stat = 'density');"
   ]
  },
  {
   "cell_type": "markdown",
   "metadata": {},
   "source": [
    "Recalculamos el intervalo de confianza:"
   ]
  },
  {
   "cell_type": "code",
   "execution_count": 14,
   "metadata": {},
   "outputs": [
    {
     "data": {
      "text/plain": [
       "35.6221750362"
      ]
     },
     "execution_count": 14,
     "metadata": {},
     "output_type": "execute_result"
    }
   ],
   "source": [
    "# media muestral\n",
    "klout_sample_xbar = data_sample.scores.mean()\n",
    "klout_sample_xbar"
   ]
  },
  {
   "cell_type": "code",
   "execution_count": 15,
   "metadata": {},
   "outputs": [
    {
     "data": {
      "text/plain": [
       "14.862750918105023"
      ]
     },
     "execution_count": 15,
     "metadata": {},
     "output_type": "execute_result"
    }
   ],
   "source": [
    "# desvío estandar\n",
    "klout_sample_sd = data_sample.scores.std()\n",
    "klout_sample_sd"
   ]
  },
  {
   "cell_type": "code",
   "execution_count": 16,
   "metadata": {},
   "outputs": [
    {
     "data": {
      "text/plain": [
       "2.1019103922557294"
      ]
     },
     "execution_count": 16,
     "metadata": {},
     "output_type": "execute_result"
    }
   ],
   "source": [
    "# error estandar\n",
    "n_sample = data_sample.shape[0]\n",
    "klout_sample_se = klout_sample_sd / math.sqrt(n_sample)\n",
    "klout_sample_se"
   ]
  },
  {
   "cell_type": "code",
   "execution_count": 17,
   "metadata": {},
   "outputs": [
    {
     "data": {
      "text/plain": [
       "1.9599639845400545"
      ]
     },
     "execution_count": 17,
     "metadata": {},
     "output_type": "execute_result"
    }
   ],
   "source": [
    "# z-score\n",
    "alpha = 0.05\n",
    "sample_critical_value = stats.norm.ppf(alpha / 2) * (-1)\n",
    "sample_critical_value"
   ]
  },
  {
   "cell_type": "code",
   "execution_count": 18,
   "metadata": {},
   "outputs": [
    {
     "data": {
      "text/plain": [
       "(31.50250636864831, 39.741843703751684)"
      ]
     },
     "execution_count": 18,
     "metadata": {},
     "output_type": "execute_result"
    }
   ],
   "source": [
    "klout_sample_CI_mean_lower = klout_sample_xbar - sample_critical_value * klout_sample_se\n",
    "klout_sample_CI_mean_upper = klout_sample_xbar + sample_critical_value * klout_sample_se\n",
    "klout_sample_CI_mean_lower, klout_sample_CI_mean_upper"
   ]
  },
  {
   "cell_type": "markdown",
   "metadata": {},
   "source": [
    "Con este tamaño de muestra, estamos 95% seguros de que atrapamos el verdadero valor de la muestra en el intervalo klout_sample_CI_mean_lower, klout_sample_CI_mean_upper. \n",
    "\n",
    "Aunque este intervalo de confianza capta el parámetro medio, también tiene un rango mucho más grande."
   ]
  },
  {
   "cell_type": "markdown",
   "metadata": {},
   "source": [
    "## Ejercicio\n",
    "\n",
    "Hacer una función que dados\n",
    "* una población como una instancia de Series \n",
    "* un tamaño de muestra \n",
    "* un valor de alfa\n",
    "* un valor de sigma\n",
    "Calcule el tamaño del intervarlo de confianza para la media con ese alfa, como máximo - mínimo.\n",
    "\n",
    "Para 20 valores de tamaño de muestra, grafiquemos el tam del intervalo vs tamaño de muestra\n",
    "\n",
    "Ayuda: https://numpy.org/doc/stable/reference/generated/numpy.linspace.html"
   ]
  },
  {
   "cell_type": "code",
   "execution_count": 19,
   "metadata": {},
   "outputs": [],
   "source": [
    "def confidence_interval_size(data, sample_size, alpha, sigma):    \n",
    "    random_generator = np.random.default_rng()\n",
    "    sample_data = random_generator.choice(data, size = sample_size,  replace=True)    \n",
    "    sample_mean = np.mean(sample_data)\n",
    "    z_critico = stats.norm.ppf(alpha/2)\n",
    "    n = len(sample_data)\n",
    "    ic_high = sample_mean - z_critico * sigma / math.sqrt(n)\n",
    "    ic_low = sample_mean + z_critico * sigma / math.sqrt(n)\n",
    "    result = ic_high - ic_low\n",
    "    return result\n",
    "\n",
    "sample_sizes = np.linspace(start=30, stop=200, num=20).astype(int)\n",
    "\n",
    "ic_sizes = []\n",
    "\n",
    "data_population = data.scores\n",
    "sigma = klout_sd\n",
    "\n",
    "for sample_size in sample_sizes:\n",
    "    ic_size = confidence_interval_size(data_population, sample_size, alpha, sigma)\n",
    "    ic_sizes.append(ic_size)\n",
    "\n",
    "result = dict(zip(sample_sizes, ic_sizes))    "
   ]
  },
  {
   "cell_type": "code",
   "execution_count": 20,
   "metadata": {},
   "outputs": [
    {
     "data": {
      "text/plain": [
       "[Text(0.5, 0, 'sample sizes'), Text(0, 0.5, 'ci sizes')]"
      ]
     },
     "execution_count": 20,
     "metadata": {},
     "output_type": "execute_result"
    },
    {
     "data": {
      "image/png": "[encoded data removed]",
      "text/plain": [
       "<Figure size 432x288 with 1 Axes>"
      ]
     },
     "metadata": {
      "needs_background": "light"
     },
     "output_type": "display_data"
    }
   ],
   "source": [
    "ax = sns.scatterplot(x=list(result.keys()), y=list(result.values()), )\n",
    "ax.set(xlabel='sample sizes', ylabel='ci sizes')"
   ]
  },
  {
   "cell_type": "markdown",
   "metadata": {},
   "source": [
    "## Referencias\n",
    "\n",
    "\n",
    "Intervalos de Confianza\n",
    "https://github.com/leonvanbokhorst/NoteBooks-Statistics-and-MachineLearning/blob/master/0013%20Confidence%20Interval%20of%20a%20Klout%20Score%20sample.ipynb\n",
    "\n"
   ]
  }
 ],
 "metadata": {
  "kernelspec": {
   "display_name": "Python 3",
   "language": "python",
   "name": "python3"
  },
  "language_info": {
   "codemirror_mode": {
    "name": "ipython",
    "version": 3
   },
   "file_extension": ".py",
   "mimetype": "text/x-python",
   "name": "python",
   "nbconvert_exporter": "python",
   "pygments_lexer": "ipython3",
   "version": "3.8.5"
  }
 },
 "nbformat": 4,
 "nbformat_minor": 4
}
