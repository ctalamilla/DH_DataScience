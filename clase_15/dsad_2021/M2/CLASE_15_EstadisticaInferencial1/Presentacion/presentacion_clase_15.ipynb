{
 "cells": [
  {
   "cell_type": "code",
   "execution_count": 1,
   "metadata": {
    "slideshow": {
     "slide_type": "skip"
    }
   },
   "outputs": [],
   "source": [
    "# initial setup\n",
    "#%run \"../../../common/0_notebooks_base_setup.py\"\n"
   ]
  },
  {
   "cell_type": "code",
   "execution_count": 2,
   "metadata": {
    "slideshow": {
     "slide_type": "skip"
    }
   },
   "outputs": [],
   "source": [
    "#import pandas as pd\n",
    "#import numpy as np\n",
    "#from datetime import *"
   ]
  },
  {
   "cell_type": "markdown",
   "metadata": {
    "slideshow": {
     "slide_type": "slide"
    }
   },
   "source": [
    "<link rel=\"stylesheet\" href=\"../../../common/dhds.css\">\n",
    "<div class=\"Table\">\n",
    "    <div class=\"Row\">\n",
    "        <div class=\"Cell grey left\"> <img src=\"https://raw.githubusercontent.com/Digital-House-DATA/ds_blend_2021_img/master/M2/CLASE_15_EstadisticaInferencial1/Presentacion/img/M2_CLASE_15_portada.jpg\" align=\"center\" /></div>\n",
    "        <div class=\"Cell right\">\n",
    "            <div class=\"div-logo\"><img src=\"https://raw.githubusercontent.com/Digital-House-DATA/ds_blend_2021_img/master/common/logo_DH.png\" align=\"center\" width=70% /></div>\n",
    "            <div class=\"div-curso\">DATA SCIENCE</div>\n",
    "            <div class=\"div-modulo\">MÓDULO 2</div>\n",
    "            <div class=\"div-contenido\">Estadística Inferencial 1</div>\n",
    "        </div>\n",
    "    </div>\n",
    "</div>"
   ]
  },
  {
   "cell_type": "markdown",
   "metadata": {
    "slideshow": {
     "slide_type": "slide"
    }
   },
   "source": [
    "### Agenda\n",
    "\n",
    "---\n",
    "\n",
    "- Repasar los términos población-muestra; parámetro-estimador\n",
    "\n",
    "- Comprender el concepto de muestreo y de distribución muestral\n",
    "\n",
    "- Calcular estimaciones puntuales y por intervalos de confianza bajo Muestreo Aleatorio Simple\n"
   ]
  },
  {
   "cell_type": "markdown",
   "metadata": {
    "slideshow": {
     "slide_type": "slide"
    }
   },
   "source": [
    "<div class=\"div-dhds-fondo-1\">Población - Muestra\n",
    "\n",
    "<img src=\"https://raw.githubusercontent.com/Digital-House-DATA/ds_blend_2021_img/master/M2/CLASE_15_EstadisticaInferencial1/Presentacion/img/M2_CLASE_15_separador.png\" align=\"center\"></img>    \n",
    "</div>\n"
   ]
  },
  {
   "cell_type": "markdown",
   "metadata": {
    "slideshow": {
     "slide_type": "slide"
    }
   },
   "source": [
    "<img src=\"https://raw.githubusercontent.com/Digital-House-DATA/ds_blend_2021_img/master/M2/CLASE_15_EstadisticaInferencial1/Presentacion/img/M2_CLASE_15_poblacion-muestra.jpg\" align=\"center\" width =\"50%\" />"
   ]
  },
  {
   "cell_type": "markdown",
   "metadata": {
    "slideshow": {
     "slide_type": "slide"
    }
   },
   "source": [
    "### Población\n",
    "\n",
    "---\n",
    "\n",
    "En los problemas de diferentes disciplinas se estudia el comportamiento de varias variables definidas sobre un conjunto de objetos o individuos. \n",
    "\n",
    "**El conjunto de objetos o individuos será denominado población.**\n",
    "\n",
    "Una forma de simbolizar las \"N\" unidades de la población es:\n",
    "\n",
    "\\begin{equation}\n",
    "  \\{ U_i \\   donde \\  i = 1..N \\} = (U_1, U_2, .., U_i, .., U_N) \n",
    "\\end{equation}\n",
    "\n",
    "La población se define en relación al problema de investigación a abordar.\n",
    "\n",
    "Ejemplo: los participantes del curso de Data Science, se busca analizar su altura promedio.\n",
    "\n"
   ]
  },
  {
   "cell_type": "markdown",
   "metadata": {
    "slideshow": {
     "slide_type": "slide"
    }
   },
   "source": [
    "### Tipos de Población\n",
    "\n",
    "---\n",
    "\n",
    "#### **Población finita** \n",
    "\n",
    "El número de individuos que componen a la población es finito. \n",
    "\n",
    "Por ejemplo los habitantes de una ciudad, las unidades producidas por una planta industrial por día, etc.\n",
    "\n",
    "#### **Población infinita** \n",
    "\n",
    "El número de individuos que componen a la población es infinito.\n",
    "\n",
    "Por ejemplo, el conjunto de números positivos, el resultado de un experimento que, al menos teóricamente, se puede repetir tantas veces como se quiera. \n",
    "\n",
    "También se consideran como poblaciones infinitas las que tienen un número extremadamente grande de elementos: granos de arena en una playa, átomos en el universo, etc.\n"
   ]
  },
  {
   "cell_type": "markdown",
   "metadata": {
    "slideshow": {
     "slide_type": "subslide"
    }
   },
   "source": [
    "\n",
    "#### **Población real** \n",
    "\n",
    "Es todo el grupo de elementos concretos, como las personas de Argentina que se dedican a Data Science.\n",
    "\n",
    "#### **Población hipotética** \n",
    "\n",
    "Es el conjunto de situaciones posibles imaginables en que puede presentarse un suceso, como por ejemplo las formas de reaccionar de una persona ante una catástrofe.\n",
    "\n"
   ]
  },
  {
   "cell_type": "markdown",
   "metadata": {
    "slideshow": {
     "slide_type": "slide"
    }
   },
   "source": [
    "### Muestra y Censo\n",
    "\n",
    "---\n",
    "\n",
    "**Muestra**:\n",
    "\n",
    "* Es seleccionada de la población (definida en relación al problema de investigación). \n",
    "\n",
    "* Es el subconjunto de unidades seleccionadas de la población definida. \n",
    "\n",
    "* Sobre cada una de las unidades que componen la muestra se realizan las observaciones, mediciones, etc. Las \"n\" unidades o **muestra** seleccionada de una **población** de \"N\" se simbolizan:\n",
    "\n",
    "\\begin{equation}\n",
    "  \\{ u_i \\   donde \\  i = 1..n \\} = (u_1, u_2, .., u_i, .., u_n) \n",
    "\\end{equation}\n",
    "\n",
    "**Censo**:\n",
    "\n",
    "Si tomamos como muestra a toda la población, entonces se dice **censo**. \n",
    "\n",
    "¿Por qué no es práctico o conveniente realizar siempre un censo?\n"
   ]
  },
  {
   "cell_type": "markdown",
   "metadata": {
    "slideshow": {
     "slide_type": "slide"
    }
   },
   "source": [
    "### Algunos Sesgos Muestrales\n",
    "\n",
    "---\n",
    "\n",
    "**Por conveniencia**: \n",
    "\n",
    "los individuos más accesibles tienen más probabilidades de ser seleccionados.\n",
    "\n",
    "**No respuesta**: \n",
    "\n",
    "si no tenemos datos de una porción no aleatoria de una muestra aleatoria (por ejemplo, porque no responden la encuesta), entonces la muestra ya no será representativa de la población.\n",
    "\n",
    "**Respuesta voluntaria**: \n",
    "\n",
    "la muestra está compuesta solamente por personas que se ofrecen a responder (tienden a ser la personas con opiniones más fuertes).\n",
    "\n",
    "\n"
   ]
  },
  {
   "cell_type": "markdown",
   "metadata": {
    "slideshow": {
     "slide_type": "slide"
    }
   },
   "source": [
    "### Tipos de Muestra\n",
    "\n",
    "---\n",
    "\n",
    "#### **Probabilísticas** \n",
    "\n",
    "Podemos calcular la probabilidad de selección de cada una de las unidades de la muestra, por lo tanto podemos calcular una medida del error.\n",
    "\n"
   ]
  },
  {
   "cell_type": "markdown",
   "metadata": {
    "slideshow": {
     "slide_type": "subslide"
    }
   },
   "source": [
    "##### **Algunos tipos**:\n",
    "\n",
    "    1. Muestreo aleatorio simple \n",
    "\n",
    "Todos los individuos tienen la misma probabilidad de ser elegidos\n",
    "\n",
    "    2. Muestreo aleatorio estratificado\n",
    "\n",
    "Los individuos se dividen en grupos o estratos. La muestra se elige escogiendo en cada estrato individuos elegidos por muestreo aleatorio simple.\n",
    "\n",
    "    3. Muestreo por clusters\n",
    "\n",
    "    4. Muestreo aleatorio por etapas múltiples (combina 3 y 2)  \n",
    "\n",
    "<img src=\"https://raw.githubusercontent.com/Digital-House-DATA/ds_blend_2021_img/master/M2/CLASE_15_EstadisticaInferencial1/Presentacion/img/M2_CLASE_15_tipos_de_muestra.png\" align=\"center\"/>\n"
   ]
  },
  {
   "cell_type": "markdown",
   "metadata": {
    "slideshow": {
     "slide_type": "subslide"
    }
   },
   "source": [
    "<img src=\"https://raw.githubusercontent.com/Digital-House-DATA/ds_blend_2021_img/master/M2/CLASE_15_EstadisticaInferencial1/Presentacion/img/M2_CLASE_15_stratified_vs_cluster_sampling.jpg\" align=\"center\" width=\"70%\"/>\n",
    "\n",
    "Más detalles en <a href=\"http://www.universoformulas.com/estadistica/inferencia/muestreo-probabilistico/\" target=\"_blank\">muestreo probabilistico</a>"
   ]
  },
  {
   "cell_type": "markdown",
   "metadata": {
    "slideshow": {
     "slide_type": "slide"
    }
   },
   "source": [
    "#### **No Probabilísticas** \n",
    "\n",
    "La muestra no probabilística no es el producto de un proceso de selección aleatoria. \n",
    "\n",
    "Los sujetos en una muestra no probabilística generalmente son seleccionados en función de su accesibilidad o a criterio personal e intencional del investigador.\n",
    "\n",
    "##### **Algunos tipos**:\n",
    "\n",
    "    1. Muestreo por conveniencia\n",
    "\n",
    "    2. Muestreo discrecional\n",
    "\n",
    "##### **Ejemplo**:\n",
    "\n",
    "Un hospital desea hacer un estudio para testar la eficacia de su nueva vacuna contra la gripe que acaba de patentar un laboratorio farmacéutico. Realizan el estudio sobre sus pacientes porque así al hospital le supone menos costes económicos.\n",
    "\n",
    "\n",
    "Más detalles en <a href=\"https://explorable.com/es/muestreo-no-probabilistico\" target=\"_blank\">muestreo no probabilistico</a>\n",
    "\n",
    "\n",
    "\n",
    "\n"
   ]
  },
  {
   "cell_type": "markdown",
   "metadata": {
    "slideshow": {
     "slide_type": "slide"
    }
   },
   "source": [
    "<div class=\"div-dhds-fondo-1\">Parámetros, Estimaciones Y Estimadores\n",
    "\n",
    "<img src=\"https://raw.githubusercontent.com/Digital-House-DATA/ds_blend_2021_img/master/M2/CLASE_15_EstadisticaInferencial1/Presentacion/img/M2_CLASE_15_separador.png\" align=\"center\"></img>    \n",
    "</div>\n"
   ]
  },
  {
   "cell_type": "markdown",
   "metadata": {
    "slideshow": {
     "slide_type": "slide"
    }
   },
   "source": [
    "### Parámetros\n",
    "\n",
    "---\n",
    "\n",
    "El objetivo siempre es **\"estimar\"** alguna característica, que se supone fija (no aleatoria), de la población.\n",
    "\n",
    "Pueden ser características simples como una media, una proporción, una varianza\n",
    "\n",
    "O medidas más complejas, como por ejemplo los coeficientes de una regresión o la asociación entre variables \n",
    "\n",
    "A esta característica se la llama **parámetro**.\n",
    "\n",
    "En general, podemos considerar a los parámetros como relativamente \"constantes\" (en tiempo y espacio). Esto los diferencia de los **estimadores** que veremos a continuación.\n"
   ]
  },
  {
   "cell_type": "markdown",
   "metadata": {
    "slideshow": {
     "slide_type": "slide"
    }
   },
   "source": [
    "<img src=\"https://raw.githubusercontent.com/Digital-House-DATA/ds_blend_2021_img/master/M2/CLASE_15_EstadisticaInferencial1/Presentacion/img/M2_CLASE_15_inferencia.png\" width=\"90%\" align=\"center\" />"
   ]
  },
  {
   "cell_type": "markdown",
   "metadata": {
    "slideshow": {
     "slide_type": "slide"
    }
   },
   "source": [
    "### ¿Qué es un estimador?\n",
    "\n",
    "---\n",
    "\n",
    "Un estimador es un estadístico (esto es, una función de la muestra) usado para estimar un parámetro desconocido de la población.\n",
    "\n",
    "Por ejemplo, la **media muestral** es un estimador de la **media poblacional** que se calcula tomando el promedio de los datos.\n",
    "\n",
    "<img src=\"https://raw.githubusercontent.com/Digital-House-DATA/ds_blend_2021_img/master/M2/CLASE_15_EstadisticaInferencial1/Presentacion/img/M2_CLASE_15_parametros_estimadores.png\" align=\"center\" width=50% />\n",
    "\n",
    "**Los estimadores son variables aleatorias**."
   ]
  },
  {
   "cell_type": "markdown",
   "metadata": {
    "slideshow": {
     "slide_type": "subslide"
    }
   },
   "source": [
    "### Recordemos: ¿Qué son variables aleatorias?\n",
    "\n",
    "---\n",
    "\n",
    "Una variable aleatoria es una **transformación $X$** del espacio de resultados $\\Omega$ al conjunto de números reales, esto es,\n",
    "\n",
    "$$ X: \\Omega \\to \\mathbb{R} $$\n",
    "\n",
    "<img src=\"https://raw.githubusercontent.com/Digital-House-DATA/ds_blend_2021_img/master/M1/CLASE_06_Probabilidad/Presentacion/img/M1_CLASE_06_variableAleatoria.png\" align=\"center\" width=50% />\n",
    "\n",
    "\n",
    "El valor que toma una variable aleatoria está asociado al resultado de un experimento aleatorio es un \"número\" cuyo valor está determinado por la realización del experimento. \n"
   ]
  },
  {
   "cell_type": "markdown",
   "metadata": {
    "slideshow": {
     "slide_type": "slide"
    }
   },
   "source": [
    "### Formas de hacer una estimación\n",
    "\n",
    "---\n",
    "\n",
    "#### **Estimación puntual**\n",
    "\n",
    "La estimación puntual consiste en utilizar el valor de un **estadístico** (alguna función de los datos) que denominaremos estimador para calcular el valor de un parámetro desconocido de una población. \n",
    "\n",
    "En la estadística clásica, esos parámetros se consideran **fijos** (no aleatorios). \n",
    "\n",
    "Por ejemplo, usamos la <u>media muestral</u> para estimar la media de una población, o la <u>proporción</u> de una muestra para estimar el parámetro p de una distribución binomial.\n",
    "\n",
    "Una **estimación puntual** de algún parámetro de una población es **un solo valor obtenido a partir de un estadístico**.\n"
   ]
  },
  {
   "cell_type": "markdown",
   "metadata": {
    "slideshow": {
     "slide_type": "subslide"
    }
   },
   "source": [
    "#### **Estimación por intervalos de confianza**\n",
    "\n",
    "\n",
    "Se define por un rango de valores posibles. \n",
    "\n",
    "Generalmente, se da un límite inferior (Li) y otro superior (Ls) tal que **la probabilidad de que Li y Ls atrape al verdadero valor del parámetro es conocida**.\n",
    "\n",
    "<img src=\"https://raw.githubusercontent.com/Digital-House-DATA/ds_blend_2021_img/master/M2/CLASE_15_EstadisticaInferencial1/Presentacion/img/M2_CLASE_15_intervalo_confianza.png\" align=\"center\" width=\"50%\"/>\n",
    "\n"
   ]
  },
  {
   "cell_type": "markdown",
   "metadata": {
    "slideshow": {
     "slide_type": "slide"
    }
   },
   "source": [
    "<div class=\"div-dhds-fondo-1\">Distribuciones Muestrales\n",
    "\n",
    "<img src=\"https://raw.githubusercontent.com/Digital-House-DATA/ds_blend_2021_img/master/M2/CLASE_15_EstadisticaInferencial1/Presentacion/img/M2_CLASE_15_separador.png\" align=\"center\"></img>    \n",
    "</div>\n"
   ]
  },
  {
   "cell_type": "markdown",
   "metadata": {
    "slideshow": {
     "slide_type": "slide"
    }
   },
   "source": [
    "### Distribuciones Muestrales\n",
    "\n",
    "---\n",
    "\n",
    "\n",
    "<img src=\"https://raw.githubusercontent.com/Digital-House-DATA/ds_blend_2021_img/master/M2/CLASE_15_EstadisticaInferencial1/Presentacion/img/M2_CLASE_15_distribuciones_muestrales.png\" width=\"80%\" align=\"center\" />"
   ]
  },
  {
   "cell_type": "markdown",
   "metadata": {
    "slideshow": {
     "slide_type": "subslide"
    }
   },
   "source": [
    "#### Distribución de las medias muestrales\n",
    "\n",
    "<img src=\"https://raw.githubusercontent.com/Digital-House-DATA/ds_blend_2021_img/master/M2/CLASE_15_EstadisticaInferencial1/Presentacion/img/M2_CLASE_15_distribucion_medias_muestrales.png\" width=\"80%\" align=\"center\" />\n",
    "\n",
    "\n",
    "\n",
    "##### Simulación\n",
    "\n",
    "<a href=\"https://gallery.shinyapps.io/CLT_mean/\" target=\"_blank\">https://gallery.shinyapps.io/CLT_mean/</a>\n"
   ]
  },
  {
   "cell_type": "markdown",
   "metadata": {
    "slideshow": {
     "slide_type": "slide"
    }
   },
   "source": [
    "<div class=\"div-dhds-fondo-1\">Ley de Grandes Números\n",
    "\n",
    "<img src=\"https://raw.githubusercontent.com/Digital-House-DATA/ds_blend_2021_img/master/M2/CLASE_15_EstadisticaInferencial1/Presentacion/img/M2_CLASE_15_separador.png\" align=\"center\" />\n",
    "\n",
    "</div>\n"
   ]
  },
  {
   "cell_type": "markdown",
   "metadata": {
    "slideshow": {
     "slide_type": "slide"
    }
   },
   "source": [
    "### Estimadores y Ley de los Grandes Números\n",
    "\n",
    "---\n",
    "\n",
    "#### Ley de los Grandes Números\n",
    "\n",
    "¿Por qué tiene sentido estimar la media poblacional (valor esperado) con la media  muestral?\n",
    "\n",
    "Simplificando los planteos de **Kolmogorov**:\n",
    "\n",
    "Supongamos que tenemos extracciones $X_1, X_2, .., X_n$.\n",
    "\n",
    "Si las $X_i$ son una sucesión de observaciones **independientes** e **idénticamente distribuidas** tales que $E(X_i)$ es igual a una constante $\\mu$ finita.\n",
    "\n",
    "Entonces el promedio de las $X_i$ converge en probabilidad a $E(X_i)$ cuando $n$ tiende a infinito.\n",
    "\n",
    "La LGN nos garantiza que, **a medida que el tamaño muestral aumenta, la media muestral se acerca a la media poblacional**.\n",
    "\n",
    "\n"
   ]
  },
  {
   "cell_type": "markdown",
   "metadata": {
    "slideshow": {
     "slide_type": "slide"
    }
   },
   "source": [
    "<div class=\"div-dhds-fondo-1\">Teorema Central del Límite\n",
    "\n",
    "<img src=\"https://raw.githubusercontent.com/Digital-House-DATA/ds_blend_2021_img/master/M2/CLASE_15_EstadisticaInferencial1/Presentacion/img/M2_CLASE_15_separador.png\" align=\"center\" />\n",
    "\n",
    "</div>\n"
   ]
  },
  {
   "cell_type": "markdown",
   "metadata": {
    "slideshow": {
     "slide_type": "slide"
    }
   },
   "source": [
    "### Teorema Central del Límite\n",
    "\n",
    "---\n",
    "\n",
    "Sea $X_1, X_2, .., X_n$ un conjunto de variables aleatorias, independientes, e idénticamente distribuídas de una distribución con media $\\mu$ y varianza $\\sigma^2 \\neq 0$. Entonces, si $n$ es suficientemente grande, la variable aleatoria \n",
    "\n",
    "\\begin{equation}\n",
    "\\bar {X} = {\\frac {1}{n}} \\sum _{i=1}^{n}X_{i}\n",
    "\\end{equation}\n",
    "\n",
    "tienen aproximadamete una distribución normal con $\\mu_{\\bar{X}} = \\mu$ y $\\sigma^2_{\\bar{X}} = \\frac{\\sigma^2}{n}$\n",
    "\n",
    "\n",
    "\n",
    "#### Condiciones del TCL\n",
    "\n",
    "* **Independencia**. Las observaciones tienen que provenir de un muestreo aleatorio y deben ser independientes. Si el muestreo es sin reemplazo, entonces n < 10% de la población.\n",
    "\n",
    "* Si la **distribución** de una población es muy **asimétrica**, **n deberá ser muy grande** (a veces se menciona un n=30 como aproximación, pero en realidad depende de cuán asimétrica es la población). Si la población tiene distribución normal, no hay condiciones sobre n.\n"
   ]
  },
  {
   "cell_type": "markdown",
   "metadata": {
    "slideshow": {
     "slide_type": "slide"
    }
   },
   "source": [
    "### Teorema Central del Límite y muestreo\n",
    "\n",
    "---\n",
    "\n",
    "* El TCL nos da una distribución para nuestro estimador de la media poblacional dado por la **media muestral**.\n",
    "\n",
    "* El **desvío estándar** de la distribución muestral se llama **error estándar (SE)** de la media muestral.\n",
    "\n",
    "    Error Estándar:    \n",
    "    \n",
    "\\begin{equation}\n",
    "\\sigma_{\\bar {x}} = {\\frac {\\sigma}{\\sqrt{n}}}\n",
    "\\end{equation}\n",
    "\n",
    "* En el caso que no dispongamos del desvío estándar de la población, el error estándar se aproxima utilizando el desvío estándar muestral ($s$):\n",
    "\n",
    "\\begin{equation}\n",
    "\\sigma_{\\bar {x}} = {\\frac {s}{\\sqrt{n}}}\n",
    "\\end{equation}\n",
    "\n",
    "* El error estándar (SE) nos permite medir dispersión respecto a la media muestral, ajustando por el tamaño muestral (podemos comparar dispersión para estimadores de la media que usan diferentes tamaños muestrales).\n"
   ]
  },
  {
   "cell_type": "markdown",
   "metadata": {
    "slideshow": {
     "slide_type": "slide"
    }
   },
   "source": [
    "### Intuición Teorema Central del Límite (¿qué NO dice el TCL?)\n",
    "\n",
    "---\n",
    "\n",
    "El resultado es **asintótico**, es decir sucede en el límite **cuando n se acerca a infinito**.\n",
    "\n",
    "En una aplicación del TCL con una muestra particular n siempre será finito.\n",
    "\n",
    "\"*Yo escuché que si n mayor o igual a 30 puedo usar la aproximación del TCL*\"\n",
    "\n",
    "El tamaño muestral necesario para que la aproximación normal sea válida (podemos pensarlo como que el histograma de los promedios sea exactamente igual al de una normal con media $\\mu$  y varianza $\\sigma^2$) se puede analizar por simulación partiendo de cierta distribución original de los datos. \n",
    "\n",
    "Por lo tanto **el tamaño muestral necesario dependerá de la distribución original de la que partamos**. \n",
    "\n"
   ]
  },
  {
   "cell_type": "markdown",
   "metadata": {
    "slideshow": {
     "slide_type": "slide"
    }
   },
   "source": [
    "<div class=\"div-dhds-fondo-1\">Algunos Estimadores Puntuales\n",
    "\n",
    "<img src=\"https://raw.githubusercontent.com/Digital-House-DATA/ds_blend_2021_img/master/M2/CLASE_15_EstadisticaInferencial1/Presentacion/img/M2_CLASE_15_separador.png\" align=\"center\" />\n",
    "\n",
    "</div>\n"
   ]
  },
  {
   "cell_type": "markdown",
   "metadata": {
    "slideshow": {
     "slide_type": "slide"
    }
   },
   "source": [
    "<table style=\"font-size: 25px\">    \n",
    "    <tr>\n",
    "        <td style=\"width:30%\">Population Parameter</td>\n",
    "        <td style=\"width:40%\">Estimator</td>\n",
    "        <td style=\"width:30%\">Estimate</td>\n",
    "    </tr>\n",
    "    <tr>\n",
    "        <td style=\"width:30%\">Mean ($\\mu$)</td>\n",
    "        <td style=\"width:40%\">$\\bar {X} = {\\frac{1}{n}} \\sum _{i=1}^{n}X_{i}$</td>\n",
    "        <td style=\"width:30%\">$\\bar {x}$</td>        \n",
    "    </tr>\n",
    "    <tr>\n",
    "        <td style=\"width:30%\">Variance ($\\sigma^2$)</td>    \n",
    "        <td style=\"width:40%\">$S^2 = \\frac{\\sum _{i=1}^{n}({X_{i} - \\bar{X}})^2}{n-1} $</td>\n",
    "        <td style=\"width:30%\">$s^2$</td>\n",
    "    </tr>\n",
    "    <tr>\n",
    "        <td style=\"width:30%\">Standard Deviation ($\\sigma$)</td>    \n",
    "        <td style=\"width:40%\">$S = \\sqrt{\\frac{\\sum _{i=1}^{n}({X_{i} - \\bar{X}})^2}{n-1}}$</td>\n",
    "        <td style=\"width:30%\">$s$</td>\n",
    "    </tr>\n",
    "    <tr>\n",
    "        <td style=\"width:30%\">Proportion ($P$)</td>    \n",
    "        <td style=\"width:40%\">$\\hat{P} = \\frac{X}{n}$</td>\n",
    "        <td style=\"width:30%\">$\\hat{p}$</td>        \n",
    "    </tr>\n",
    "    </table>"
   ]
  },
  {
   "cell_type": "markdown",
   "metadata": {
    "slideshow": {
     "slide_type": "slide"
    }
   },
   "source": [
    "<div class=\"div-dhds-fondo-1\">Intervalos de Confianza\n",
    "\n",
    "<img src=\"https://raw.githubusercontent.com/Digital-House-DATA/ds_blend_2021_img/master/M2/CLASE_15_EstadisticaInferencial1/Presentacion/img/M2_CLASE_15_separador.png\" align=\"center\" />\n",
    "\n",
    "</div>\n"
   ]
  },
  {
   "cell_type": "markdown",
   "metadata": {
    "slideshow": {
     "slide_type": "slide"
    }
   },
   "source": [
    "### Estimación puntual y por intervalos: Caso de la Media\n",
    "\n",
    "---\n",
    "\n",
    "* **Estimación puntual**:\n",
    "\n",
    "    Media de la muestra, es el valor del estadístico en esa muestra.\n",
    "\n",
    "    No sirve de mucho. ¿Por qué?\n",
    "\n",
    "* **Estimación por intervalos**: \n",
    "\n",
    "    La idea es dar un rango de valores posibles para el parámetro con un valor de confianza asociado.\n",
    "\n",
    "    \"El parámetro de la población está entre 4,5 y 8,2 con una confianza del 95%\"\n",
    "\n",
    "    **¿Cómo se logra?** A partir de poder obtener un estadístico cuya distribución sea conocida y no dependa de parámetros desconocidos."
   ]
  },
  {
   "cell_type": "markdown",
   "metadata": {
    "slideshow": {
     "slide_type": "slide"
    }
   },
   "source": [
    "<img src=\"https://raw.githubusercontent.com/Digital-House-DATA/ds_blend_2021_img/master/M2/CLASE_15_EstadisticaInferencial1/Presentacion/img/M2_CLASE_15_intervalo_confianza_3.png\" width=\"80%\" align=\"center\"/>"
   ]
  },
  {
   "cell_type": "markdown",
   "metadata": {
    "slideshow": {
     "slide_type": "slide"
    }
   },
   "source": [
    "### Interpretación del Intervalo de Confianza\n",
    "\n",
    "---\n",
    "\n",
    "El intervalo de confianza nos dice que de todas las veces que tomemos una muestra y calculemos el IC, (1- α)% tenderá a contener al verdadero parámetro poblacional. \n",
    "\n",
    "<img src=\"https://raw.githubusercontent.com/Digital-House-DATA/ds_blend_2021_img/master/M2/CLASE_15_EstadisticaInferencial1/Presentacion/img/M2_CLASE_15_intervalo_confianza_4.png\" width=\"50%\" align=\"center\" />"
   ]
  },
  {
   "cell_type": "markdown",
   "metadata": {
    "slideshow": {
     "slide_type": "slide"
    }
   },
   "source": [
    "### Forma general de un Intervalo de Confianza \n",
    "\n",
    "---\n",
    "\n",
    "<p style=\"font-size: 50px\">\\begin{equation}\n",
    "\\bar{X} \\pm z_{\\alpha/2} \\times \\frac{\\sigma}{\\sqrt(n)}\n",
    "\\end{equation}</p>    \n",
    "    \n",
    "Margen de Error:\n",
    "\n",
    "<img src=\"https://raw.githubusercontent.com/Digital-House-DATA/ds_blend_2021_img/master/M2/CLASE_15_EstadisticaInferencial1/Presentacion/img/M2_CLASE_15_intervalo_confianza_2.png\" wudth=\"80%\" align=\"center\"/>"
   ]
  },
  {
   "cell_type": "markdown",
   "metadata": {
    "slideshow": {
     "slide_type": "slide"
    }
   },
   "source": [
    "### Largo de un intervalo de confianza\n",
    "\n",
    "---\n",
    "\n",
    "En el caso de varianza poblacional conocida, el largo del intervalo de confianza resulta\n",
    "\n",
    "<p style=\"font-size: 30px\">\\begin{equation}\n",
    "Length = [ \\bar{X} + z_{\\alpha/2} \\frac{\\sigma}{\\sqrt(n)}] - [\\bar{X} - z_{\\alpha/2} \\frac{\\sigma}{\\sqrt(n)}]    \n",
    "\\end{equation}\n",
    "\\begin{equation}\n",
    "Length = 2 z_{\\alpha/2} \\frac{\\sigma}{\\sqrt(n)}   \n",
    "\\end{equation}\n",
    "</p>\n",
    "\n",
    "El largo del intervalo de confianza depende de \n",
    "* la varianza poblacional\n",
    "* el tamaño muestral\n",
    "* el nivel de confianza\n"
   ]
  },
  {
   "cell_type": "markdown",
   "metadata": {
    "slideshow": {
     "slide_type": "subslide"
    }
   },
   "source": [
    "Estamos interesados en obtener **intervalos de confianza lo más estrechos posible**.\n",
    "\n",
    "Después de todo, ¿Cuál de las siguientes afirmaciones es más útil?\n",
    "\n",
    "* *Podemos estar seguros al 95% de que la cantidad promedio de dinero que se gasta mensualmente en alquileres se encuentra entre 300 y 3300 USD*.\n",
    "\n",
    "* *Podemos tener una confianza del 95% en que la cantidad promedio de dinero que se gasta mensualmente en alquileres se encuentre entre 1100 y 1300 USD*.\n"
   ]
  },
  {
   "cell_type": "markdown",
   "metadata": {
    "slideshow": {
     "slide_type": "slide"
    }
   },
   "source": [
    "###  Ejemplo\n",
    "\n",
    "---\n",
    "\n",
    "Se desea analizar el  ingreso promedio de los científicos de datos. \n",
    "\n",
    "A partir de una muestra al azar de 100 individuos, cuyo ingreso promedio es de 30 mil dólares y desvío estándar de aproximadamente 7 mil dólares, se desea construir un intervalo de confianza del 90% para el ingreso promedio poblacional.\n",
    "\n",
    "* Dado que n puede ser considerado \"grande\", entonces <p style=\"font-size: 18px\">$\\bar{x} \\sim N(\\mu, \\frac{\\sigma}{\\sqrt(n)})$</p>\n",
    "\n",
    "* El límite inferior del intervalo resulta <p style=\"font-size: 18px\">$30 - 1.645 \\times \\frac{7}{\\sqrt(100)} = 28.85 $</p>\n",
    "\n",
    "* El límite superior del intervalo resulta <p style=\"font-size: 18px\">$30 + 1.645 \\times \\frac{7}{\\sqrt(100)} = 31.15 $</p>\n",
    "\n",
    "**Con una confianza del 90%, el intervalo que va de 28.85 a 31.15 contendrá la media poblacional de los ingresos**\n"
   ]
  },
  {
   "cell_type": "markdown",
   "metadata": {
    "slideshow": {
     "slide_type": "slide"
    }
   },
   "source": [
    "### ¿Qué pasa cuando no conocemos el desvío estándar poblacional?\n",
    "\n",
    "---\n",
    "\n",
    "* Cuando **n** es grande, entonces el **desvío estándar de la muestra S** es una **buena aproximación a sigma**.\n",
    "\n",
    "* Cuando **la muestra es chica**, entonces usamos la distribución **T-Student**. \n",
    "\n",
    "    Normalmente, se considera chica una muestra cuando n < 30 pero en realidad depende de la distribución muestral.\n",
    "\n",
    "* La distribución T-Student es simétrica pero dada una probabilidad $\\alpha / 2$ que se busca acumular en cada cola, el valor t de la distribución T-Student que acumula esa probabilidad es mayor en valor en la normal estándar. \n",
    "\n",
    "  ¿Intuición? \n",
    "  \n",
    "  Esto genera **intervalos más anchos** para incorporar el hecho de que el desvío estándar muestral es un estimador del poblacional.\n",
    "\n",
    "* **Usar la distribución T-Student es más conservador, por lo que si sigma es desconocido, lo recomendable es usar la distribución T**\n",
    "\n",
    "\n"
   ]
  },
  {
   "cell_type": "markdown",
   "metadata": {
    "slideshow": {
     "slide_type": "slide"
    }
   },
   "source": [
    "### Normal vs. T de Student\n",
    "\n",
    "---\n",
    "\n",
    "<img src=\"https://raw.githubusercontent.com/Digital-House-DATA/ds_blend_2021_img/master/M2/CLASE_15_EstadisticaInferencial1/Presentacion/img/M2_CLASE_15_normal_t.png\" width=\"80%\" align=\"center\"/>"
   ]
  },
  {
   "cell_type": "markdown",
   "metadata": {
    "slideshow": {
     "slide_type": "slide"
    }
   },
   "source": [
    "### T de Student\n",
    "\n",
    "---\n",
    "\n",
    "<img src=\"https://raw.githubusercontent.com/Digital-House-DATA/ds_blend_2021_img/master/M2/CLASE_15_EstadisticaInferencial1/Presentacion/img/M2_CLASE_15_T_de_Student.png\" width=\"80%\" align=\"center\"/>\n",
    "\n",
    "* La curva t tiene media = 0\n",
    "\n",
    "* La curva t es más dispersa que la normal\n",
    "\n",
    "* A medida que aumentan los grados de libertad, la dispersión disminuye y la curva t se aproxima a la normal. grados de libertad: **v = n - 1**\n"
   ]
  },
  {
   "cell_type": "markdown",
   "metadata": {
    "slideshow": {
     "slide_type": "slide"
    }
   },
   "source": [
    "### Observaciones\n",
    "\n",
    "---\n",
    "\n",
    "El **intervalo de confianza** es siempre **función de la muestra que es aleatoria**. ¡Entonces los bordes del intervalo también son variables aleatorias! En este caso el borde del intervalo depende de la media muestral (que cambia con cada muestra).\n",
    "\n",
    "El intervalo de confianza no puede depender de parámetros que sean desconocidos. Usamos un estimador del desvío poblacional o asumimos conocido el desvío poblacional.\n"
   ]
  },
  {
   "cell_type": "markdown",
   "metadata": {
    "slideshow": {
     "slide_type": "slide"
    }
   },
   "source": [
    "<div class=\"div-dhds-fondo-1\"> Hands-on\n",
    "<img src=\"https://raw.githubusercontent.com/Digital-House-DATA/ds_blend_2021_img/master/M2/CLASE_15_EstadisticaInferencial1/Presentacion/img/M2_CLASE_15_separador.png\" align=\"center\" />\n",
    "\n",
    "</div>"
   ]
  },
  {
   "cell_type": "markdown",
   "metadata": {
    "slideshow": {
     "slide_type": "slide"
    }
   },
   "source": [
    "#### Ejercicio 1. Sample.\n",
    "\n",
    "1.1 \n",
    "\n",
    "Dado el dataframe klout-scores (población)y usando el método `sample`, obtener una muestra de tamaño 25 de esos datos\n",
    "\n",
    "https://pandas.pydata.org/pandas-docs/stable/reference/api/pandas.DataFrame.sample.html\n",
    "\n",
    "1.2\n",
    "\n",
    "Repetir el punto anterior usando un generador de número aleatorios de distribución uniforme para generar los índices de las filas a seleccionar\n",
    "\n",
    "---\n",
    "\n",
    "#### Ejercicio 2. Valores Críticos\n",
    "\n",
    "Calcular los valores críticos que usariamos en la construcción de intervalos de confianza del 95% para el valor medio de una muestra de tamaño 20\n",
    "\n",
    "* con desvío estandar poblacional conocido\n",
    "\n",
    "* con desvío estandar poblacional desconocido\n"
   ]
  },
  {
   "cell_type": "markdown",
   "metadata": {
    "slideshow": {
     "slide_type": "slide"
    }
   },
   "source": [
    "### Solución\n",
    "\n",
    "---\n"
   ]
  },
  {
   "cell_type": "markdown",
   "metadata": {
    "slideshow": {
     "slide_type": "slide"
    }
   },
   "source": [
    "#### Ejercicio 1"
   ]
  },
  {
   "cell_type": "code",
   "execution_count": 3,
   "metadata": {
    "slideshow": {
     "slide_type": "subslide"
    }
   },
   "outputs": [
    {
     "name": "stdout",
     "output_type": "stream",
     "text": [
      "(1048, 1)\n"
     ]
    }
   ],
   "source": [
    "import pandas as pd\n",
    "import numpy as np\n",
    "\n",
    "data_klout = pd.read_csv('../Data/klout-scores.csv', header=None, names=['scores'])\n",
    "\n",
    "print(data_klout.shape)"
   ]
  },
  {
   "cell_type": "code",
   "execution_count": 4,
   "metadata": {
    "slideshow": {
     "slide_type": "subslide"
    }
   },
   "outputs": [
    {
     "name": "stdout",
     "output_type": "stream",
     "text": [
      "(25, 1)\n"
     ]
    }
   ],
   "source": [
    "#1.1\n",
    "\n",
    "sample = data_klout.sample(n = 25, replace = False, random_state = 1234, axis=0)\n",
    "\n",
    "print(sample.shape)\n",
    "\n",
    "#sample"
   ]
  },
  {
   "cell_type": "code",
   "execution_count": 5,
   "metadata": {
    "slideshow": {
     "slide_type": "subslide"
    }
   },
   "outputs": [
    {
     "name": "stdout",
     "output_type": "stream",
     "text": [
      "(25, 1)\n"
     ]
    }
   ],
   "source": [
    "# 1.2\n",
    "\n",
    "random_generator = np.random.default_rng(seed = 1234)\n",
    "\n",
    "index_sample = random_generator.choice(data_klout.index, size = 25,  replace=False)\n",
    "\n",
    "sample = data_klout.loc[index_sample]\n",
    "\n",
    "print(sample.shape)\n",
    "\n",
    "#sample"
   ]
  },
  {
   "cell_type": "markdown",
   "metadata": {
    "slideshow": {
     "slide_type": "slide"
    }
   },
   "source": [
    "#### Ejercicio 2\n",
    "\n",
    "https://docs.scipy.org/doc/scipy/reference/generated/scipy.stats.norm.html\n",
    "\n",
    "https://docs.scipy.org/doc/scipy/reference/generated/scipy.stats.t.html\n",
    "\n",
    "Como n es menor que 30 \n",
    "\n",
    "* si el desvío estandar poblacional es conocido usamos distribución normal para calcular los valores críticos del intervalo de confianza.\n",
    "\n",
    "* si el desvío estandar poblacional es desconocido usamos distribución t de Student para calcular los valores críticos del intervalo de confianza.\n",
    "\n",
    "Si n fuera mayor que 30 y la distribución de los datos fuera simétrica, usaríamos una distribución normal para calcular los valores críticos del intervalo de confianza.\n",
    "\n"
   ]
  },
  {
   "cell_type": "code",
   "execution_count": 6,
   "metadata": {
    "slideshow": {
     "slide_type": "subslide"
    }
   },
   "outputs": [
    {
     "name": "stdout",
     "output_type": "stream",
     "text": [
      "-1.9599639845400545\n",
      "-2.0930240544082634\n"
     ]
    }
   ],
   "source": [
    "from scipy import stats\n",
    "\n",
    "n = 20\n",
    "\n",
    "alpha = 0.05\n",
    "\n",
    "critical_value_normal = stats.norm.ppf(alpha / 2)\n",
    "print(critical_value_normal)\n",
    "\n",
    "df = n - 1\n",
    "critical_value_t = stats.t.ppf(alpha / 2, df)\n",
    "print(critical_value_t)\n",
    "\n"
   ]
  },
  {
   "cell_type": "markdown",
   "metadata": {
    "slideshow": {
     "slide_type": "slide"
    }
   },
   "source": [
    "<div class=\"div-dhds-fondo-1\"> Material Adicional\n",
    "<img src=\"https://raw.githubusercontent.com/Digital-House-DATA/ds_blend_2021_img/master/M2/CLASE_15_EstadisticaInferencial1/Presentacion/img/M2_CLASE_15_separador.png\" align=\"center\" />\n",
    "\n",
    "</div>"
   ]
  },
  {
   "cell_type": "markdown",
   "metadata": {
    "slideshow": {
     "slide_type": "slide"
    }
   },
   "source": [
    "### Material Adicional\n",
    "\n",
    "---\n",
    "\n",
    "Confidence intervals and the t distribution\n",
    "\n",
    "https://www.stat.tamu.edu/~suhasini/teaching301/stat301CI_t-dist.pdf\n",
    "\n",
    "StatQuest: Confidence Intervals \n",
    "\n",
    "https://www.youtube.com/watch?v=TqOeMYtOc1w\n",
    "\n"
   ]
  }
 ],
 "metadata": {
  "kernelspec": {
   "display_name": "Python 3",
   "language": "python",
   "name": "python3"
  },
  "language_info": {
   "codemirror_mode": {
    "name": "ipython",
    "version": 3
   },
   "file_extension": ".py",
   "mimetype": "text/x-python",
   "name": "python",
   "nbconvert_exporter": "python",
   "pygments_lexer": "ipython3",
   "version": "3.8.5"
  }
 },
 "nbformat": 4,
 "nbformat_minor": 4
}
