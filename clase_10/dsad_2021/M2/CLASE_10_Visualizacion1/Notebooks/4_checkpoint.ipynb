{
 "cells": [
  {
   "cell_type": "code",
   "execution_count": 1,
   "metadata": {},
   "outputs": [
    {
     "name": "stdout",
     "output_type": "stream",
     "text": [
      "/media/paulati/Nuevo vol/paula/dh/2021/dsad_2021_paula/common\n",
      "default checking\n",
      "Running command `conda list`... ok\n",
      "jupyterlab=2.2.6 already installed\n",
      "pandas=1.1.5 already installed\n",
      "bokeh=2.2.3 already installed\n",
      "seaborn=0.11.0 already installed\n",
      "matplotlib=3.3.2 already installed\n",
      "ipywidgets=7.5.1 already installed\n",
      "pytest=6.2.1 already installed\n",
      "chardet=4.0.0 already installed\n",
      "psutil=5.7.2 already installed\n",
      "scipy=1.5.2 already installed\n",
      "statsmodels=0.12.1 already installed\n",
      "scikit-learn=0.23.2 already installed\n",
      "xlrd=2.0.1 already installed\n",
      "Running command `conda install --yes nltk=3.5.0`... ok\n",
      "Collecting package metadata (current_repodata.json): ...working... done\n",
      "Solving environment: ...working... done\n",
      "\n",
      "# All requested packages already installed.\n",
      "\n",
      "\n",
      "unidecode=1.1.1 already installed\n",
      "pydotplus=2.0.2 already installed\n",
      "pandas-datareader=0.9.0 already installed\n",
      "flask=1.1.2 already installed\n"
     ]
    }
   ],
   "source": [
    "# initial setup\n",
    "%run \"../../../common/0_notebooks_base_setup.py\"\n"
   ]
  },
  {
   "cell_type": "markdown",
   "metadata": {},
   "source": [
    "---\n",
    "\n",
    "<img src='../../../common/logo_DH.png' align='left' width=35%/>\n"
   ]
  },
  {
   "cell_type": "markdown",
   "metadata": {},
   "source": [
    "En esta parte vimos dos bibliotecas muy usadas para visualizaciones en python, que son matplotlib y seaborn.\n",
    "\n",
    "https://matplotlib.org/\n",
    "\n",
    "https://seaborn.pydata.org/index.html\n",
    "\n",
    "En este curso vamos a usar herramientas de visualización prinicipalmente para análisis exploratorio de datos.\n",
    "\n",
    "La idea de esta práctica es ejercitar algunos gráficos de seaborn que vamos a volver a usar en la clase presencial.\n",
    "\n",
    "Usaremos el dataset con las propiedades inmobiliarias en Melbourne, que ya conocemos de la práctica de Limpieza de Datos.\n"
   ]
  },
  {
   "cell_type": "markdown",
   "metadata": {},
   "source": [
    "## Dataset\n",
    "\n",
    "https://www.kaggle.com/dansbecker/melbourne-housing-snapshot\n",
    "\n",
    "El dataset que usaremos en esta parte, del 2017, está construido con los datos que se publicaron cada semana en https://www.domain.com.au/ \n",
    "\n",
    "Los datos incluyen dirección, tipo de inmueble, barrio, método de venta, habitaciones, precio, agente inmobiliario, fecha de venta y distancia a CBD (Central Business District).\n",
    "\n",
    "Los campos que incluye son:\n",
    "\n",
    "**Rooms**: cantidad de habitaciones\n",
    "\n",
    "**Price**: precio en dolares\n",
    "\n",
    "**Method**: S - property sold; SP - property sold prior; PI - property passed in; PN - sold prior not disclosed; SN - sold not disclosed; NB - no bid; VB - vendor bid; W - withdrawn prior to auction; SA - sold after auction; SS - sold after auction price not disclosed. N/A - price or highest bid not available.\n",
    "\n",
    "**Type**: br - bedroom(s); h - house,cottage,villa, semi,terrace; u - unit, duplex; t - townhouse; dev site - development site; o res - other residential.\n",
    "\n",
    "**SellerG**: agente inmobiliario\n",
    "\n",
    "**Date**: fecha de venta\n",
    "\n",
    "**Distance**: distancia a CBD\n",
    "\n",
    "**Regionname**: región (West, North West, North, North east …etc)\n",
    "\n",
    "**Propertycount**: cantidad de inmuebles que existen en ese suburbio.\n",
    "\n",
    "**Bedroom2** : Scraped # habitaciones (de distintas fuentes)\n",
    "\n",
    "**Bathroom**: cantidad de baños\n",
    "\n",
    "**Car**: cantidad de carspots\n",
    "\n",
    "**Landsize**: superficie\n",
    "\n",
    "**BuildingArea**: tamaño del edificio\n",
    "\n",
    "**CouncilArea**: municipio\n",
    "\n"
   ]
  },
  {
   "cell_type": "markdown",
   "metadata": {},
   "source": [
    "### Ejercicio 1: Leemos los datos\n",
    "\n",
    "Importar el archivo melb_data.csv e inspeccionar los primeros casos y los tipos de datos."
   ]
  },
  {
   "cell_type": "code",
   "execution_count": null,
   "metadata": {},
   "outputs": [],
   "source": []
  },
  {
   "cell_type": "markdown",
   "metadata": {},
   "source": [
    "### Ejercicio 2: boxplot\n",
    "\n",
    "Vamos usar un boxplot para ver la distribución de valores de la columna Rooms para cinco valores de Suburb (Reservoir, Richmond, Bentleigh East, Preston, Brunswick)\n",
    "\n",
    "https://seaborn.pydata.org/generated/seaborn.boxplot.html\n",
    "\n",
    "Usaremos \n",
    "\n",
    "* x: Suburb\n",
    "\n",
    "* y: Rooms\n",
    "\n",
    "* palette: [\"lightblue\", \"pink\", \"yellow\", \"green\", \"orange\"]\n",
    "\n",
    "* data: el dataset filtrado por los valores de Suburb de interés\n"
   ]
  },
  {
   "cell_type": "code",
   "execution_count": null,
   "metadata": {},
   "outputs": [],
   "source": []
  },
  {
   "cell_type": "markdown",
   "metadata": {},
   "source": [
    "### Ejercicio 3: violinplot"
   ]
  },
  {
   "cell_type": "markdown",
   "metadata": {},
   "source": [
    "Vamos usar un violinplot para ver la distribución de valores de la columna Car para los cinco valores de Suburb del ejercicio anterior (Reservoir, Richmond, Bentleigh East, Preston, Brunswick)\n",
    "\n",
    "https://seaborn.pydata.org/generated/seaborn.violinplot.html\n",
    "\n",
    "Usaremos \n",
    "\n",
    "* x: Suburb\n",
    "\n",
    "* y: Rooms\n",
    "\n",
    "* palette: [\"lightblue\", \"pink\", \"yellow\", \"green\", \"orange\"]\n",
    "\n",
    "* data: el dataset filtrado por los valores de Suburb de interés\n",
    "     "
   ]
  },
  {
   "cell_type": "code",
   "execution_count": null,
   "metadata": {},
   "outputs": [],
   "source": []
  },
  {
   "cell_type": "markdown",
   "metadata": {},
   "source": [
    "### Ejercicio 4: PairGrid\n",
    "\n",
    "https://seaborn.pydata.org/generated/seaborn.PairGrid.html\n",
    "\n",
    "Veamos ahora si existe alguna correlación entre los valores de las columnas Car, Rooms, Distance, Landsize, Price para los valores de Suburb del ejercicio anterior (Reservoir, Richmond, Bentleigh East, Preston, Brunswick)\n",
    "\n",
    "Usemos para eso `PairGrid`.\n",
    "\n",
    "¿Qué conclusiones podemos sacar de estos gráficos?\n",
    "\n",
    "Paletas: \n",
    "https://seaborn.pydata.org/tutorial/color_palettes.html"
   ]
  },
  {
   "cell_type": "code",
   "execution_count": null,
   "metadata": {},
   "outputs": [],
   "source": []
  },
  {
   "cell_type": "markdown",
   "metadata": {},
   "source": [
    "### Ejercicio 5: distplot\n",
    "\n",
    "El campo Type toma valores\n",
    "\n",
    "h: house, cottage, villa, semi,terrace; \n",
    "\n",
    "u: unit, duplex;\n",
    "\n",
    "t: townhouse\n",
    "\n",
    "https://seaborn.pydata.org/generated/seaborn.distplot.html\n",
    "\n",
    "Veamos cómo se ditribuye la variable Price para cada uno de los tipos de inmueble h, u, t."
   ]
  },
  {
   "cell_type": "code",
   "execution_count": null,
   "metadata": {},
   "outputs": [],
   "source": []
  },
  {
   "cell_type": "markdown",
   "metadata": {},
   "source": [
    "### Ejercicio 6: joinplot\n",
    "\n",
    "Veamos a filtrar los imuebles por su valor en el campo Price.\n",
    "\n",
    "Nos vamos a quedar con los que valen hasta 5 millones (0.5E7) y graficaremos la relación entre los campos Price y Propertycount usando un jointplot.\n",
    "\n",
    "https://seaborn.pydata.org/generated/seaborn.jointplot.html"
   ]
  },
  {
   "cell_type": "code",
   "execution_count": null,
   "metadata": {},
   "outputs": [],
   "source": []
  },
  {
   "cell_type": "markdown",
   "metadata": {},
   "source": [
    "### Adicional\n",
    "\n",
    "Revisemos algunos de los ejemplos de gráficos que están en este link\n",
    "\n",
    "https://python-graph-gallery.com/\n",
    "\n",
    "Miremos los ejemplos de código de \n",
    "\n",
    "* boxplot http://python-graph-gallery.com/boxplot/\n",
    "\n",
    "* scatterplot http://python-graph-gallery.com/scatter-plot/\n",
    "\n",
    "* violin https://python-graph-gallery.com/violin-plot/\n",
    "\n",
    "* seaborn https://python-graph-gallery.com/seaborn/\n",
    "\n",
    "* matplotlib https://python-graph-gallery.com/matplotlib/\n",
    "\n"
   ]
  }
 ],
 "metadata": {
  "kernelspec": {
   "display_name": "Python 3",
   "language": "python",
   "name": "python3"
  },
  "language_info": {
   "codemirror_mode": {
    "name": "ipython",
    "version": 3
   },
   "file_extension": ".py",
   "mimetype": "text/x-python",
   "name": "python",
   "nbconvert_exporter": "python",
   "pygments_lexer": "ipython3",
   "version": "3.8.5"
  }
 },
 "nbformat": 4,
 "nbformat_minor": 4
}
