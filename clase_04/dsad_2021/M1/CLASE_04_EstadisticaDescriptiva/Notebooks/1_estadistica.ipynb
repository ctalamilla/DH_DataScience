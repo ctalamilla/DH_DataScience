{
 "cells": [
  {
   "cell_type": "code",
   "execution_count": 1,
   "metadata": {},
   "outputs": [
    {
     "name": "stdout",
     "output_type": "stream",
     "text": [
      "/Users/ctalamilla/Desktop/DH_DataScience/clase_04/dsad_2021/common\n",
      "default checking\n",
      "Running command `conda list`... ok\n",
      "jupyterlab=2.2.6 already installed\n",
      "pandas=1.1.5 already installed\n",
      "bokeh=2.2.3 already installed\n",
      "seaborn=0.11.0 already installed\n",
      "matplotlib=3.3.2 already installed\n",
      "ipywidgets=7.5.1 already installed\n",
      "pytest=6.2.1 already installed\n",
      "chardet=4.0.0 already installed\n",
      "psutil=5.7.2 already installed\n",
      "scipy=1.5.2 already installed\n",
      "statsmodels=0.12.1 already installed\n",
      "scikit-learn=0.23.2 already installed\n",
      "xlrd=2.0.1 already installed\n",
      "Running command `conda install --yes nltk=3.5.0`... ok\n",
      "Collecting package metadata (current_repodata.json): ...working... done\n",
      "Solving environment: ...working... done\n",
      "\n",
      "## Package Plan ##\n",
      "\n",
      "  environment location: /usr/local/Caskroom/miniconda/base/envs/dhdsblend2021\n",
      "\n",
      "  added / updated specs:\n",
      "    - nltk=3.5.0\n",
      "\n",
      "\n",
      "The following packages will be downloaded:\n",
      "\n",
      "    package                    |            build\n",
      "    ---------------------------|-----------------\n",
      "    ca-certificates-2022.07.19 |       hecd8cb5_0         124 KB\n",
      "    ------------------------------------------------------------\n",
      "                                           Total:         124 KB\n",
      "\n",
      "The following packages will be UPDATED:\n",
      "\n",
      "  ca-certificates                      2022.4.26-hecd8cb5_0 --> 2022.07.19-hecd8cb5_0\n",
      "\n",
      "\n",
      "\n",
      "Downloading and Extracting Packages\n",
      "\n",
      "ca-certificates-2022 | 124 KB    |            |   0% \n",
      "ca-certificates-2022 | 124 KB    | #2         |  13% \n",
      "ca-certificates-2022 | 124 KB    | ########## | 100% \n",
      "Preparing transaction: ...working... done\n",
      "Verifying transaction: ...working... done\n",
      "Executing transaction: ...working... done\n",
      "\n",
      "unidecode=1.1.1 already installed\n",
      "pydotplus=2.0.2 already installed\n",
      "pandas-datareader=0.9.0 already installed\n",
      "flask=1.1.2 already installed\n"
     ]
    }
   ],
   "source": [
    "%run \"../../../common/0_notebooks_base_setup.py\"    "
   ]
  },
  {
   "cell_type": "markdown",
   "metadata": {},
   "source": [
    "---\n",
    "\n",
    "<img src='../../../common/logo_DH.png' align='left' width=35%/>\n"
   ]
  },
  {
   "cell_type": "markdown",
   "metadata": {},
   "source": [
    "# Estadística Descriptiva"
   ]
  },
  {
   "cell_type": "markdown",
   "metadata": {},
   "source": [
    "<a id=\"section_toc\"></a> \n",
    "## Tabla de Contenidos\n",
    "\n",
    "[Intro](#section_intro)\n",
    "\n",
    "[Estadística Descriptiva](#section_descriptive)\n",
    "\n",
    "[Cuarteto de Ansombe](#section_anscombe)\n",
    "\n",
    "---"
   ]
  },
  {
   "cell_type": "markdown",
   "metadata": {},
   "source": [
    "## Estadística\n",
    "\n",
    "<a id=\"section_intro\"></a> \n",
    "### Intro\n",
    "[volver a TOC](#section_toc)\n",
    "\n",
    "En esta parte vamos a revisar conceptos de estadística descriptiva.\n",
    "\n",
    "La estadística descriptiva busca describir, sumarizar y comprender los datos.\n",
    "\n",
    "Para ello empleamos Medidas de Tendencia Central, y medidas de Variabilidad.\n",
    "\n",
    "La función de las Medidas de Tendencia Central es proveer información descriptiva sobre el valor numérico que es considerado el más usual para una variable cuantitativa.\n",
    "\n",
    "Las medidas de tendencia central son\n",
    "* **Media**\n",
    "\n",
    "Dados los n números ${\\{x_{1},x_{2},\\ldots ,x_{n}\\}}$ la media aritmética se define como: \n",
    "\n",
    "\\begin{equation}\n",
    "    \\bar {x} = {\\frac {1}{n}} \\sum _{i=1}^{n}x_{i} ={\\frac {x_{1}+x_{2}+\\cdots +x_{n}}{n}}\n",
    "\\end{equation}\n",
    "\n",
    "* **Mediana**\n",
    "\n",
    "Sean ${ x_{1},x_{2},x_{3},\\ldots ,x_{n} }$ los datos de una muestra ordenada en orden creciente y designando la mediana como $M_{e}$, distinguimos dos casos:\n",
    "\n",
    "a) Si n es impar, la mediana es el valor que ocupa la posición $(n+1)/2$ una vez que los datos han sido ordenados (en orden creciente o decreciente), porque este es el valor central. Es decir: $M_{e}=x_{{(n+1)/2}}$.\n",
    "\n",
    "b) Si n es par, la mediana es la media aritmética de los dos valores centrales. Cuando $n$ es par, los dos datos que están en el centro de la muestra ocupan las posiciones $n/2$ y $(n/2)+1$. Es decir: $M_{e}=(x_{{{\\frac{n}{2}}}}+x_{{{{\\frac{n}{2}}}+1}})/2$.\n",
    "\n",
    "\n",
    "* **Moda**\n",
    "\n",
    "Es el valor del dato con mayor frecuencia en un conjunto.\n",
    "\n",
    "Las medidas de variabilidad o dispersión nos indican si los valores de los datos están próximos entre sí o si \n",
    "por el contrario están muy dispersos. Estas medidas se determinan en función de la distancia entre los datos y algún estadístico de tendencia central.\n",
    "\n",
    "Las medidas de variabilidad son\n",
    "* **Rango**\n",
    "\n",
    "Sean ${ x_{1},x_{2},x_{3},\\ldots ,x_{n} }$ los datos de una muestra ordenada en orden creciente, el rango es $x_{n} - x_{1}$\n",
    "\n",
    "\n",
    "* **Varianza**\n",
    "\n",
    "Si tenemos un conjunto de valores de una variable, la varianza se calcula de la siguiente forma:\n",
    "\n",
    "\\begin{equation}\n",
    "\\sigma_{n}^{2} = \\frac{1}{n} \\sum _{i=1}^{n} (x_i - \\bar{X})^{2}\n",
    "\\end{equation}\n",
    "\n",
    "Siendo:\n",
    "\n",
    "$x_{i}$: cada dato\n",
    "\n",
    "$\\bar{X}$: media de los datos\n",
    "\n",
    "$n$: número de datos\n",
    "\n",
    "\n",
    "* **Desvío Estándar**\n",
    "\n",
    "Es la raíz cuadrada de la varianza\n",
    "\n",
    "\\begin{equation}\n",
    "\\sigma_{n} = \\sqrt{\\frac{1}{n} \\sum _{i=1}^{n} (x_i - \\bar{X})^{2}}\n",
    "\\end{equation}\n",
    "\n",
    "\n",
    "* **Coeficiente de Variación**\n",
    "\n",
    "Es el desvío estándar dividido por la media\n",
    "\n",
    "\\begin{equation}\n",
    "CV = \\frac{\\sigma_{n}}{\\bar{X}} . 100 \n",
    "\\end{equation}\n",
    "\n",
    "\n",
    "\n",
    "\n",
    "NumPy tiene funciones para calcular todas estas medidas.\n",
    "\n",
    "---\n",
    "\n"
   ]
  },
  {
   "cell_type": "markdown",
   "metadata": {},
   "source": [
    "Vamos a ver cómo calcular algunas medidas de estadística descriptiva usando Numpy.\n",
    "\n",
    "Para eso, usaremos datos que tenemos en un csv con tres poblaciones:\n",
    "* conejos\n",
    "* linces \n",
    "* zanahorias\n",
    "\n",
    "Leeremos los datos del csv usando `genfromtxt` de Numpy\n",
    "\n",
    "La primera columna de la matriz corresponde al año, la segunda a la población de conejos, la tercera corresponde a la población de linces, y la cuarta a la población de zanahorias.\n",
    "\n",
    "Y luego vamos a convertir en arrays, que aprendimos a usar recientemente, cada una de sus columnas. ¿Cómo hacemos esto?"
   ]
  },
  {
   "cell_type": "code",
   "execution_count": 2,
   "metadata": {},
   "outputs": [
    {
     "data": {
      "text/plain": [
       "array([[ 1900., 30000.,  4000., 48300.],\n",
       "       [ 1901., 47200.,  6100., 48200.],\n",
       "       [ 1902., 70200.,  9800., 41500.],\n",
       "       [ 1903., 77400., 35200., 38200.],\n",
       "       [ 1904., 36300., 59400., 40600.],\n",
       "       [ 1905., 20600., 41700., 39800.],\n",
       "       [ 1906., 18100., 19000., 38600.],\n",
       "       [ 1907., 21400., 13000., 42300.],\n",
       "       [ 1908., 22000.,  8300., 44500.],\n",
       "       [ 1909., 25400.,  9100., 42100.],\n",
       "       [ 1910., 27100.,  7400., 46000.],\n",
       "       [ 1911., 40300.,  8000., 46800.],\n",
       "       [ 1912., 57000., 12300., 43800.],\n",
       "       [ 1913., 76600., 19500., 40900.],\n",
       "       [ 1914., 52300., 45700., 39400.],\n",
       "       [ 1915., 19500., 51100., 39000.],\n",
       "       [ 1916., 11200., 29700., 36700.],\n",
       "       [ 1917.,  7600., 15800., 41800.],\n",
       "       [ 1918., 14600.,  9700., 43300.],\n",
       "       [ 1919., 16200., 10100., 41300.],\n",
       "       [ 1920., 24700.,  8600., 47300.]])"
      ]
     },
     "execution_count": 2,
     "metadata": {},
     "output_type": "execute_result"
    }
   ],
   "source": [
    "import numpy as np\n",
    "\n",
    "data_location = '../Data/populations.txt'\n",
    "data = np.genfromtxt(data_location, skip_header=1, delimiter='\\t')\n",
    "data"
   ]
  },
  {
   "cell_type": "markdown",
   "metadata": {},
   "source": [
    "Definimos variables con el índice que corresponde a cada población:"
   ]
  },
  {
   "cell_type": "code",
   "execution_count": 3,
   "metadata": {},
   "outputs": [],
   "source": [
    "anno_col_index  = 0\n",
    "conejos_col_index = 1\n",
    "linces_col_index = 2\n",
    "zanahorias_col_index = 3"
   ]
  },
  {
   "cell_type": "markdown",
   "metadata": {},
   "source": [
    "Vamos a crear un array de Numpy para cada población y para el año, usando slicing (si no lo recuerdan, revisen la clase  de Numpy):"
   ]
  },
  {
   "cell_type": "code",
   "execution_count": 4,
   "metadata": {},
   "outputs": [
    {
     "name": "stdout",
     "output_type": "stream",
     "text": [
      "[1900. 1901. 1902. 1903. 1904. 1905. 1906. 1907. 1908. 1909. 1910. 1911.\n",
      " 1912. 1913. 1914. 1915. 1916. 1917. 1918. 1919. 1920.]\n",
      "[30000. 47200. 70200. 77400. 36300. 20600. 18100. 21400. 22000. 25400.\n",
      " 27100. 40300. 57000. 76600. 52300. 19500. 11200.  7600. 14600. 16200.\n",
      " 24700.]\n",
      "[ 4000.  6100.  9800. 35200. 59400. 41700. 19000. 13000.  8300.  9100.\n",
      "  7400.  8000. 12300. 19500. 45700. 51100. 29700. 15800.  9700. 10100.\n",
      "  8600.]\n",
      "[48300. 48200. 41500. 38200. 40600. 39800. 38600. 42300. 44500. 42100.\n",
      " 46000. 46800. 43800. 40900. 39400. 39000. 36700. 41800. 43300. 41300.\n",
      " 47300.]\n"
     ]
    }
   ],
   "source": [
    "anno = data[:, anno_col_index]\n",
    "print(anno)\n",
    "conejos = data[:, conejos_col_index]\n",
    "print(conejos)\n",
    "linces = data[:, linces_col_index]\n",
    "print(linces)\n",
    "zanahorias = data[:, zanahorias_col_index]\n",
    "print(zanahorias)"
   ]
  },
  {
   "cell_type": "markdown",
   "metadata": {},
   "source": [
    "Y por último vamos crear una variable poblaciones, que tenga todos los datos de la matriz data menos la columna \"# year\""
   ]
  },
  {
   "cell_type": "code",
   "execution_count": 5,
   "metadata": {},
   "outputs": [
    {
     "data": {
      "text/plain": [
       "array([[30000.,  4000., 48300.],\n",
       "       [47200.,  6100., 48200.],\n",
       "       [70200.,  9800., 41500.],\n",
       "       [77400., 35200., 38200.],\n",
       "       [36300., 59400., 40600.],\n",
       "       [20600., 41700., 39800.],\n",
       "       [18100., 19000., 38600.],\n",
       "       [21400., 13000., 42300.],\n",
       "       [22000.,  8300., 44500.],\n",
       "       [25400.,  9100., 42100.],\n",
       "       [27100.,  7400., 46000.],\n",
       "       [40300.,  8000., 46800.],\n",
       "       [57000., 12300., 43800.],\n",
       "       [76600., 19500., 40900.],\n",
       "       [52300., 45700., 39400.],\n",
       "       [19500., 51100., 39000.],\n",
       "       [11200., 29700., 36700.],\n",
       "       [ 7600., 15800., 41800.],\n",
       "       [14600.,  9700., 43300.],\n",
       "       [16200., 10100., 41300.],\n",
       "       [24700.,  8600., 47300.]])"
      ]
     },
     "execution_count": 5,
     "metadata": {},
     "output_type": "execute_result"
    }
   ],
   "source": [
    "poblaciones = data[:, 1:]\n",
    "poblaciones"
   ]
  },
  {
   "cell_type": "markdown",
   "metadata": {},
   "source": [
    "<a id=\"section_descriptive\"></a> \n",
    "### Estadística descriptiva\n",
    "[volver a TOC](#section_toc)\n",
    "\n",
    "Para cada variable de la serie histórica, calculamos la media y el desvío. Redondeamos los valores para que tengan sólo 2 decimales.\n",
    "\n",
    "Vamos a usar los métodos de Numpy\n",
    "* **mean**: calcula la media de los valores pasados en el primer parámetro https://docs.scipy.org/doc/numpy/reference/generated/numpy.mean.html\n",
    "* **std**: calcula el desvio standard de los valores pasados en el primer parámetro  https://docs.scipy.org/doc/numpy/reference/generated/numpy.std.html\n",
    "* **around**: redondea los valores a la cantidad de decimales pasada como parámetro, el default es 0 https://docs.scipy.org/doc/numpy/reference/generated/numpy.around.html\n",
    "\n"
   ]
  },
  {
   "cell_type": "markdown",
   "metadata": {},
   "source": [
    "Ahora vamos a calcular la media de cada una de las poblaciones usando la matriz `poblaciones` y el método `mean` de Numpy, redondenado a dos decimales.\n",
    "\n",
    "¿Qué valor de `axis` debemos usar? ¿Por qué?"
   ]
  },
  {
   "cell_type": "markdown",
   "metadata": {},
   "source": [
    "Respuesta: Cada población está representada por una columna en la matriz poblaciones, por lo tanto para calcular la media por población debemos colapsar las filas, y para eso el valor de axis debe ser 0"
   ]
  },
  {
   "cell_type": "code",
   "execution_count": 6,
   "metadata": {},
   "outputs": [
    {
     "name": "stdout",
     "output_type": "stream",
     "text": [
      "        Conejos, Linces, Zanahorias\n",
      "Mean: [34080.95 20166.67 42400.  ]\n",
      "Std: [20897.91 16254.59  3322.51]\n"
     ]
    }
   ],
   "source": [
    "print (\"        Conejos, Linces, Zanahorias\")\n",
    "print (\"Mean:\", np.around(poblaciones.mean(axis=0), decimals=2))\n",
    "print (\"Std:\", np.around(poblaciones.std(axis=0), decimals=2))"
   ]
  },
  {
   "cell_type": "markdown",
   "metadata": {},
   "source": [
    "A continuación, calculamos para cada especie el año en el que tuvieron máxima población. \n",
    "\n",
    "Para eso vamos a usar el método `argmax` de Numpy que devuelve el índice en el array del valor máximo https://docs.scipy.org/doc/numpy/reference/generated/numpy.argmax.html\n",
    "\n",
    "Igual que en el punto anterior, las poblaciones están representadas por columnas, entonces debemos colapsar filas y así axis debe tener valor 0. \n",
    "\n",
    "`indice_max_poblacion` tendrá tantos elementos como poblaciones considero (3 en este caso: conejos, linces, zanahorias) y cada elemento será **el índice de la fila** donde esa población tuvo la máxima cantidad de individuos."
   ]
  },
  {
   "cell_type": "code",
   "execution_count": 7,
   "metadata": {},
   "outputs": [
    {
     "data": {
      "text/plain": [
       "array([3, 4, 0])"
      ]
     },
     "execution_count": 7,
     "metadata": {},
     "output_type": "execute_result"
    }
   ],
   "source": [
    "indice_max_poblacion = np.argmax(poblaciones, axis=0)\n",
    "indice_max_poblacion"
   ]
  },
  {
   "cell_type": "markdown",
   "metadata": {},
   "source": [
    "Por lo tanto, la población de conejos fue máxima en la cuarta fila, la de linces en la quinta fila, la de zanahorias en la primer fila.\n",
    "\n",
    "Veamos a que años corresponden esas filas, usando Fancy indexing (si no lo recuerdan, por favor revisen la guía de numpy1!)"
   ]
  },
  {
   "cell_type": "code",
   "execution_count": 8,
   "metadata": {},
   "outputs": [
    {
     "data": {
      "text/plain": [
       "array([1903., 1904., 1900.])"
      ]
     },
     "execution_count": 8,
     "metadata": {},
     "output_type": "execute_result"
    }
   ],
   "source": [
    "annos_con_maximos = anno[indice_max_poblacion]\n",
    "annos_con_maximos"
   ]
  },
  {
   "cell_type": "markdown",
   "metadata": {},
   "source": [
    "Entonces la máxima población de conejos fue en 1903, la de linces fue en 1904, y la de zanahorias fue en 1900"
   ]
  },
  {
   "cell_type": "code",
   "execution_count": 9,
   "metadata": {},
   "outputs": [
    {
     "name": "stdout",
     "output_type": "stream",
     "text": [
      "                          Conejos, Linces, Zanahorias\n",
      "Años de máxima población: [1903. 1904. 1900.]\n"
     ]
    }
   ],
   "source": [
    "# Fancy Indexing\n",
    "print (\"                          Conejos, Linces, Zanahorias\")\n",
    "print (\"Años de máxima población:\", anno[indice_max_poblacion])"
   ]
  },
  {
   "cell_type": "markdown",
   "metadata": {},
   "source": [
    "Como adicional, vamos a graficar estas tres poblaciones para ver si los resultados que obtuvimos se corresponden con los graficados. \n",
    "\n",
    "En unos días vamos a tener una clase de visualización y veremos en detalle bibliotecas como `matplotlib` que usamos ahora de forma muy básica."
   ]
  },
  {
   "cell_type": "code",
   "execution_count": 10,
   "metadata": {},
   "outputs": [
    {
     "data": {
      "image/png": "[encoded data removed]",
      "text/plain": [
       "<Figure size 432x288 with 1 Axes>"
      ]
     },
     "metadata": {
      "needs_background": "light"
     },
     "output_type": "display_data"
    }
   ],
   "source": [
    "%matplotlib inline\n",
    "import matplotlib.pyplot as plt\n",
    "plt.plot(anno, conejos, anno, linces, anno, zanahorias) \n",
    "plt.legend(('Conejos (hares)', 'Linces (lynxes)', 'Zanahorias (carrots)'), loc=(1.05, 0.5)) \n",
    "plt.show()"
   ]
  },
  {
   "cell_type": "markdown",
   "metadata": {},
   "source": [
    "<div id=\"ejercicio1\" style=\"float:left;width: 100%;\">\n",
    "  <div style=\"float:left;width: 15%;\"><img src=\"../../../common/icons/ponete_a_prueba.png\" style=\"align:left\"/> </div>\n",
    "    <div style=\"float:left;width: 85%;\"><label>\n",
    "<b>Ejercicio</b>:\n",
    "    \n",
    "¿En qué años alguna de las poblaciones se encuentra por encima de 50000?\n",
    "    \n",
    "Ayuda: boolean indexing\n",
    "    \n",
    "Ayuda 2: podemos resolverlo usando la matriz poblaciones o usando los array de poblaciones por separado\n",
    "    \n",
    "Podemos autocorregir los ejercicios mirando el gráfico</label></div>\n",
    "</div>\n",
    "    \n"
   ]
  },
  {
   "cell_type": "markdown",
   "metadata": {},
   "source": [
    "<div id=\"ejercicio2\" style=\"float:left;width: 100%;\">\n",
    "  <div style=\"float:left;width: 15%;\"><img src=\"../../../common/icons/ponete_a_prueba.png\" style=\"align:left\"/> </div>\n",
    "    <div style=\"float:left;width: 85%;\"><label>\n",
    "<b>Ejercicio</b>:\n",
    "    \n",
    "¿En qué dos años, cada especie tuvo sus niveles más bajos de población?\n",
    "\n",
    "Ayuda: pueden buscar la documentación de `argsort` de Numpy\n",
    "    \n",
    "Ayuda 2: podemos resolverlo usando la matriz poblaciones o usando los array de poblaciones por separado\n",
    "    \n",
    "Podemos autocorregir los ejercicios mirando el gráfico</label></div>\n",
    "</div>\n",
    "    "
   ]
  },
  {
   "cell_type": "code",
   "execution_count": 23,
   "metadata": {},
   "outputs": [
    {
     "data": {
      "text/plain": [
       "array([[False, False, False],\n",
       "       [False, False, False],\n",
       "       [ True, False, False],\n",
       "       [ True, False, False],\n",
       "       [False,  True, False],\n",
       "       [False, False, False],\n",
       "       [False, False, False],\n",
       "       [False, False, False],\n",
       "       [False, False, False],\n",
       "       [False, False, False],\n",
       "       [False, False, False],\n",
       "       [False, False, False],\n",
       "       [ True, False, False],\n",
       "       [ True, False, False],\n",
       "       [ True, False, False],\n",
       "       [False,  True, False],\n",
       "       [False, False, False],\n",
       "       [False, False, False],\n",
       "       [False, False, False],\n",
       "       [False, False, False],\n",
       "       [False, False, False]])"
      ]
     },
     "execution_count": 23,
     "metadata": {},
     "output_type": "execute_result"
    }
   ],
   "source": [
    "poblaciones>50000"
   ]
  },
  {
   "cell_type": "code",
   "execution_count": 22,
   "metadata": {},
   "outputs": [
    {
     "name": "stdout",
     "output_type": "stream",
     "text": [
      "[1902. 1903. 1912. 1913. 1914.]\n",
      "[1904. 1915.]\n",
      "[]\n"
     ]
    }
   ],
   "source": [
    "#¿En qué años alguna de las poblaciones se encuentra por encima de 50000?\n",
    "for i in range(0, 3):\n",
    "    print(anno[(poblaciones>50000)[:, i]])"
   ]
  },
  {
   "cell_type": "markdown",
   "metadata": {},
   "source": [
    "#### Covarianza\n",
    "\n",
    "La covarianza es un valor que indica el grado de variación conjunta de dos variables aleatorias respecto a sus medias. \n",
    "\n",
    "Es el dato básico para determinar si existe una dependencia entre ambas variables \n",
    "\n",
    "El método que calcula la covarianza en Numpy es `cov`\n",
    "https://docs.scipy.org/doc/numpy/reference/generated/numpy.cov.html"
   ]
  },
  {
   "cell_type": "code",
   "execution_count": 26,
   "metadata": {},
   "outputs": [
    {
     "data": {
      "text/plain": [
       "array([[ 4.58558619e+08,  2.56418333e+07, -1.21050000e+06],\n",
       "       [ 2.56418333e+07,  2.77422333e+08, -3.85930000e+07],\n",
       "       [-1.21050000e+06, -3.85930000e+07,  1.15910000e+07]])"
      ]
     },
     "execution_count": 26,
     "metadata": {},
     "output_type": "execute_result"
    }
   ],
   "source": [
    "np.cov([conejos, linces, zanahorias])"
   ]
  },
  {
   "cell_type": "markdown",
   "metadata": {},
   "source": [
    "<div id=\"caja1\" style=\"float:left;width: 100%;\">\n",
    "  <div style=\"float:left;width: 15%;\"><img src=\"../../../common/icons/para_seguir_pensando.png\" style=\"align:left\"/> </div>\n",
    "  <div style=\"float:left;width: 85%;\"><label>Ahora intentemos responder estas preguntas:\n",
    "\n",
    "      \n",
    "* **¿Puedo comparar las distintas varianzas? ¿Por qué?**\n",
    "\n",
    "Si las variables se miden en las misma unidades y sus valores son de magnitudes parecidas, puedo comparar sus varianzas. Pero sólo en ese caso y no en general.\n",
    "\n",
    "* **¿Qué variable tiene la mayor varianza? ¿Cómo se ve esto en el gráfico?**\n",
    "\n",
    "Podemos mirar los valores de la diagonal de la matriz de covarianzas para obtener los valores de las varianzas de esas variables. \n",
    "\n",
    "La variable de mayor varianza es el conejo, su valor está en el elemento (0,0) de la matriz de varianzas y covarianzas. \n",
    "\n",
    "En el gráfico podemos ver que la dispersión de la serie de los conejos es parecida a la serie de los linces, pero la serie de conejos tiene mayor rango (diferencia entre los valores máximo y mínimo) por lo tanto aporta más en la suma de distancias a la media.\n",
    "\n",
    "* **¿Qué significa una covarianza positiva? ¿Y una negativa?**\n",
    "\n",
    "Dos variables X e Y, tienen covarianza positiva cuando tienden a encontrarse por encima de su media al mismo tiempo y tienen covarianza negativa cuando al mismo tiempo, tienden a encontrarse una por debajo y otra por encima.\n",
    "\n",
    "En cambio X e Y tienen covarianza cercana a cero cuando las variables pueden encontrarse por encima o por debajo de su media independientemente de lo que haga la otra.\n",
    "\n",
    "La covarianza mide la relación lineal entre ambas variables, es decir, qué tanto se asemeja la relación con una función lineal.</label></div>\n",
    "</div>    \n",
    "\n"
   ]
  },
  {
   "cell_type": "markdown",
   "metadata": {},
   "source": [
    "#### Correlación\n",
    "\n",
    "El coeficiente de correlación de Pearson es una medida lineal entre dos variables aleatorias cuantitativas. \n",
    "\n",
    "A diferencia de la covarianza, la correlación de Pearson es independiente de la escala de medida de las variables.\n",
    "\n",
    "Podemos definir el coeficiente de correlación de Pearson como un índice que puede utilizarse para medir el grado de relación de dos variables siempre y cuando ambas sean cuantitativas.\n",
    "\n",
    "El método que calcula la correlación de Pearson en Numpy es `corrcoef`. Los valores de los elementos de la matriz de correlación están entre -1 y 1 inclusive. Es equivalente a la matriz de covarianzas normalizada.\n",
    "https://docs.scipy.org/doc/numpy/reference/generated/numpy.corrcoef.html\n",
    "\n"
   ]
  },
  {
   "cell_type": "code",
   "execution_count": 27,
   "metadata": {},
   "outputs": [
    {
     "data": {
      "text/plain": [
       "array([[ 1.        ,  0.07189206, -0.01660378],\n",
       "       [ 0.07189206,  1.        , -0.68057717],\n",
       "       [-0.01660378, -0.68057717,  1.        ]])"
      ]
     },
     "execution_count": 27,
     "metadata": {},
     "output_type": "execute_result"
    }
   ],
   "source": [
    "np.corrcoef([conejos, linces, zanahorias])"
   ]
  },
  {
   "cell_type": "markdown",
   "metadata": {},
   "source": [
    "<div id=\"caja1\" style=\"float:left;width: 100%;\">\n",
    "  <div style=\"float:left;width: 15%;\"><img src=\"../../../common/icons/para_seguir_pensando.png\" style=\"align:left\"/> </div>\n",
    "  <div style=\"float:left;width: 85%;\"><label>Intentemos responder estas preguntas:\n",
    "\n",
    "* **¿Cómo es el signo de la correlación con respecto al de la covarianza?**\n",
    "\n",
    "El signo de la correlación y la covarianza son iguales.\n",
    "\n",
    "* **¿En qué unidades físicas está la correlación? ¿Y la covarianza?**\n",
    "\n",
    "La covarianza tiene las unidades que la variable al cuadrado. La correlación no tiene unidades.\n",
    "\n",
    "* **¿Cuáles son las especies que están más correlacionadas? ¿Cómo se ve esto en el gráfico?**\n",
    "\n",
    "Las especies que están más correlacionadas son los linces y zanahorias, son los elementos de la matriz de correlación con mayor valor absoluto (módulo).\n",
    "\n",
    "Las dos lineas que representan las series parecen \"acompañarse\", cuando una aumenta la otra disminuye.</label></div>\n",
    "</div>    "
   ]
  },
  {
   "cell_type": "markdown",
   "metadata": {},
   "source": [
    "<a id=\"section_anscombe\"></a> \n",
    "### Extra: Cuarteto de Anscombe\n",
    "[volver a TOC](#section_toc)\n",
    "\n",
    "El cuarteto de Anscombe comprende cuatro conjuntos de datos que tienen las mismas propiedades estadísticas, pero que evidentemente son distintas al inspeccionar sus gráficos respectivos.\n",
    "\n",
    "Cada conjunto consiste de once puntos (x, y) y fueron construidos por el estadístico F. J. Anscombe. El cuarteto es una demostración de la **importancia de mirar gráficamente un conjunto de datos** antes de analizarlos.\n",
    "\n",
    "Para los cuatro conjuntos de datos:\n",
    "\n",
    "![Image](img/anscombe_medidas.jpg)\n",
    "\n",
    "Los datos de los cuatro conjuntos son: \n",
    "\n",
    "![Image](img/anscombe_datos.jpg)\n",
    "\n",
    "![Image](img/anscombe.jpg)\n",
    "\n",
    "Referencia: https://es.wikipedia.org/wiki/Cuarteto_de_Anscombe\n"
   ]
  },
  {
   "cell_type": "markdown",
   "metadata": {},
   "source": [
    "<a id=\"\"></a> \n",
    "### Bonus\n",
    "[volver a TOC](#section_toc)\n",
    "\n",
    "\n",
    "<a href=\"https://twitter.com/JustinMatejka/status/859075295059562498\">Same Stats, Different Graphs: Generating Datasets with Varied Appearance and Identical Statistics through Simulated Annealing</a>    \n",
    "\n",
    "<img src=\"https://damassets.autodesk.net/content/dam/autodesk/www/autodesk-reasearch/Publications/images/same-stats-different-graphs-image-1920x1000.gif\" width=\"30%\" />"
   ]
  }
 ],
 "metadata": {
  "kernelspec": {
   "display_name": "Python 3.8.13 ('dhdsblend2021')",
   "language": "python",
   "name": "python3"
  },
  "language_info": {
   "codemirror_mode": {
    "name": "ipython",
    "version": 3
   },
   "file_extension": ".py",
   "mimetype": "text/x-python",
   "name": "python",
   "nbconvert_exporter": "python",
   "pygments_lexer": "ipython3",
   "version": "3.8.13"
  },
  "vscode": {
   "interpreter": {
    "hash": "d8640428ed65ace219c2cd70f99da9356404a09732ea7ac413c5d9f431e79dd4"
   }
  }
 },
 "nbformat": 4,
 "nbformat_minor": 4
}
