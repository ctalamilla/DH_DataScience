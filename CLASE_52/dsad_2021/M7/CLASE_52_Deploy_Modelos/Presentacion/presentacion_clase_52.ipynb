{
 "cells": [
  {
   "cell_type": "code",
   "execution_count": null,
   "metadata": {
    "slideshow": {
     "slide_type": "skip"
    }
   },
   "outputs": [],
   "source": [
    "# initial setup\n",
    "%run \"../../../common/0_notebooks_base_setup.py\"\n"
   ]
  },
  {
   "cell_type": "markdown",
   "metadata": {
    "slideshow": {
     "slide_type": "slide"
    }
   },
   "source": [
    "<link rel=\"stylesheet\" href=\"../../../common/dhds.css\">\n",
    "<div class=\"Table\">\n",
    "    <div class=\"Row\">\n",
    "        <div class=\"Cell grey left\"> <img src=\"https://raw.githubusercontent.com/Digital-House-DATA/ds_blend_2021_img/master/M7/CLASE_52_Deploy_Modelos/Presentacion/img/M7_CLASE_52_portada.png\" align=\"center\" width=\"90%\"/></div>                \n",
    "        <div class=\"Cell right\">\n",
    "            <div class=\"div-logo\"><img src=\"https://raw.githubusercontent.com/Digital-House-DATA/ds_blend_2021_img/master/common/logo_DH.png\" align=\"center\" width=70% /></div>\n",
    "            <div class=\"div-curso\">DATA SCIENCE</div>\n",
    "            <div class=\"div-modulo\">MÓDULO 7</div>\n",
    "            <div class=\"div-contenido\">Deploy de Modelos</div>\n",
    "        </div>\n",
    "    </div>\n",
    "</div>"
   ]
  },
  {
   "cell_type": "markdown",
   "metadata": {
    "slideshow": {
     "slide_type": "slide"
    }
   },
   "source": [
    "## Agenda\n",
    "\n",
    "---\n",
    "\n",
    "- Pickle\n",
    "\n",
    "- Shelve\n",
    "\n",
    "- Flask\n"
   ]
  },
  {
   "cell_type": "markdown",
   "metadata": {
    "slideshow": {
     "slide_type": "slide"
    }
   },
   "source": [
    "<div class=\"div-dhds-fondo-1\"> Introducción\n",
    "<img src=\"https://raw.githubusercontent.com/Digital-House-DATA/ds_blend_2021_img/master/M7/CLASE_52_Deploy_Modelos/Presentacion/img/M7_CLASE_52_separador.png\" align=\"center\" />\n",
    "\n",
    "</div>\n"
   ]
  },
  {
   "cell_type": "markdown",
   "metadata": {
    "slideshow": {
     "slide_type": "slide"
    }
   },
   "source": [
    "## Introducción\n",
    "\n",
    "---\n",
    "\n",
    "<img src=\"https://raw.githubusercontent.com/Digital-House-DATA/ds_blend_2021_img/master/M7/CLASE_52_Deploy_Modelos/Presentacion/img/M7_CLASE_52_intro.png\" align=\"center\" />"
   ]
  },
  {
   "cell_type": "markdown",
   "metadata": {
    "slideshow": {
     "slide_type": "subslide"
    }
   },
   "source": [
    "<img src=\"https://raw.githubusercontent.com/Digital-House-DATA/ds_blend_2021_img/master/M7/CLASE_52_Deploy_Modelos/Presentacion/img/M7_CLASE_52_pipe.png\" align=\"center\" />\n",
    "\n",
    "El **deployment** de un modelo de machine learning simplemente significa la **integración del modelo en un entorno de producción existente** que puede tomar una entrada y devolver una salida útil para tomar decisiones comerciales prácticas.\n"
   ]
  },
  {
   "cell_type": "markdown",
   "metadata": {
    "slideshow": {
     "slide_type": "subslide"
    }
   },
   "source": [
    "Pickle, Shelve y Flask son las herramientas que vamos a presentar en esta clase para hacer el deploy de modelos de machine learninng\n",
    "\n",
    "<img src=\"https://raw.githubusercontent.com/Digital-House-DATA/ds_blend_2021_img/master/M7/CLASE_52_Deploy_Modelos/Presentacion/img/M7_CLASE_52_objetivos.png\" align=\"center\" />\n"
   ]
  },
  {
   "cell_type": "markdown",
   "metadata": {
    "slideshow": {
     "slide_type": "subslide"
    }
   },
   "source": [
    "<img src=\"https://raw.githubusercontent.com/Digital-House-DATA/ds_blend_2021_img/master/M7/CLASE_52_Deploy_Modelos/Presentacion/img/M7_CLASE_52_ejemplo_1.png\" align=\"center\" />"
   ]
  },
  {
   "cell_type": "markdown",
   "metadata": {
    "slideshow": {
     "slide_type": "subslide"
    }
   },
   "source": [
    "<img src=\"https://raw.githubusercontent.com/Digital-House-DATA/ds_blend_2021_img/master/M7/CLASE_52_Deploy_Modelos/Presentacion/img/M7_CLASE_52_perfiles.png\" align=\"center\" />"
   ]
  },
  {
   "cell_type": "markdown",
   "metadata": {
    "slideshow": {
     "slide_type": "slide"
    }
   },
   "source": [
    "<div class=\"div-dhds-fondo-1\"> Serialización\n",
    "<img src=\"https://raw.githubusercontent.com/Digital-House-DATA/ds_blend_2021_img/master/M7/CLASE_52_Deploy_Modelos/Presentacion/img/M7_CLASE_52_separador.png\" align=\"center\" />\n",
    "</div>\n"
   ]
  },
  {
   "cell_type": "markdown",
   "metadata": {
    "slideshow": {
     "slide_type": "slide"
    }
   },
   "source": [
    "## Serialización\n",
    "\n",
    "---\n",
    "\n",
    "En algunas circunstancias nos encontramos con la necesidad de enviar un objeto python de un programa a otro, o a otra computadora, o **guardarlo** para utilizarlo en algún otro momento o ir **grabando sus diferentes estados**.\n",
    "\n",
    "Existen diferentes soluciones para realizar estas acciones, y dependen del tipo de objeto que se quiera enviar o guardar.\n",
    "\n",
    "Por ejemplo: si tenemos un texto, lo podemos representar en formato json o xml, por otra parte  un dataframe de pandas se puede persistir en un csv o un excel. \n",
    "\n",
    "En el caso de **objetos más complicados como un modelo** de regresión lineal o un knn, ¿como podríamos representarlo?\n"
   ]
  },
  {
   "cell_type": "markdown",
   "metadata": {
    "slideshow": {
     "slide_type": "subslide"
    }
   },
   "source": [
    "<table><tr><td style=\"font-size:16px;width:50%;line-height:2;\">       \n",
    "La serialización es una técnica en donde se representan objetos por medio de una codificación binaria.\n",
    "<br/>\n",
    "Permite realizar la codificación sobre objetos y estructuras de datos.\n",
    "<br/>\n",
    "Es posible enviar a través de la red un objeto serializado como un conjunto de bytes para eventualmente guardarlo, cargarlo en memoria y volverlo a utilizar con la posibilidad de poder transmitirlo.</td><td><img src=\"https://raw.githubusercontent.com/Digital-House-DATA/ds_blend_2021_img/master/M7/CLASE_52_Deploy_Modelos/Presentacion/img/M7_CLASE_52_serialization.png\"/></td></tr></table>    \n"
   ]
  },
  {
   "cell_type": "markdown",
   "metadata": {
    "slideshow": {
     "slide_type": "slide"
    }
   },
   "source": [
    "## Pickle\n",
    "\n",
    "---\n",
    "\n",
    "Para serializar objetos python vamos a utilizar la librería pickle.\n",
    "\n",
    "Pickle es un estandar python, por lo que **no es compatible con otros lenguajes de programación**.\n",
    "\n",
    "\n",
    "\n",
    "<table><tr><td style=\"font-size:16px;width:30%;line-height:2;\">\n",
    "<h4> ¿Qué puede serializar pickle?</h4><ul>\n",
    "<li> Enteros </li>\n",
    "<li> Float </li>                    \n",
    "<li> Tuplas </li>\n",
    "<li> Listas </li>\n",
    "<li> Diccionarios </li>\n",
    "<li> Conjuntos </li> \n",
    "<li> Funciones </li>\n",
    "<li> Clases </li>\n",
    "    <li> <b>Instancias de Clases</b> </li></ul></td><td><img src=\"https://raw.githubusercontent.com/Digital-House-DATA/ds_blend_2021_img/master/M7/CLASE_52_Deploy_Modelos/Presentacion/img/M7_CLASE_52_pickle.jpg\"/></td></tr></table>    \n",
    "\n",
    "\n",
    "<p style=\"background-color:#f76b5d;\">\n",
    "<b>Pickle no es seguro contra data errónea o maliciosa, se recomienda no deserializar data proveniente de fuentes desconocidas.</b>\n",
    "</p>    "
   ]
  },
  {
   "cell_type": "markdown",
   "metadata": {
    "slideshow": {
     "slide_type": "subslide"
    }
   },
   "source": [
    "### Ejemplo\n",
    "\n",
    "---\n",
    "\n",
    "Podemos probar de guardar dos listas en dos archivos en disco: \n"
   ]
  },
  {
   "cell_type": "code",
   "execution_count": null,
   "metadata": {
    "slideshow": {
     "slide_type": "fragment"
    }
   },
   "outputs": [],
   "source": [
    "import pickle\n",
    "\n",
    "animales = [\"piton\", \"mono\", \"camello\" ]\n",
    "alimentos = [\"vegetales\", \"mani\", \"agua\"]\n",
    "\n",
    "with open('../Data/animales.pkl', 'wb') as f_animales:\n",
    "    pickle.dump(animales, f_animales)\n",
    "\n",
    "with open('../Data/alimentos.pkl', 'wb') as f_alimentos:\n",
    "    pickle.dump(alimentos, f_alimentos)\n",
    "        "
   ]
  },
  {
   "cell_type": "markdown",
   "metadata": {
    "slideshow": {
     "slide_type": "subslide"
    }
   },
   "source": [
    "Si ya tenemos guardados objetos serializados y queremos levantarla de disco, lo hacemos de la siguiente manera:"
   ]
  },
  {
   "cell_type": "code",
   "execution_count": null,
   "metadata": {
    "slideshow": {
     "slide_type": "fragment"
    }
   },
   "outputs": [],
   "source": [
    "with open('../Data/animales.pkl', 'rb') as f_animales:\n",
    "    animales_from_disk = pickle.load(f_animales)\n",
    "    \n",
    "with open('../Data/alimentos.pkl', 'rb') as f_alimentos:\n",
    "    alimentos_from_disk = pickle.load(f_alimentos)    \n",
    "    \n",
    "display(animales_from_disk, alimentos_from_disk)    "
   ]
  },
  {
   "cell_type": "markdown",
   "metadata": {
    "slideshow": {
     "slide_type": "slide"
    }
   },
   "source": [
    "## Shelve\n",
    "\n",
    "---\n",
    "\n",
    "Otra biblioteca que podemos utilizar para serializar es Shelve\n",
    "\n",
    "https://docs.python.org/3/library/shelve.html\n",
    "\n",
    "El módulo Shelve extiende Pickle para proporcionar una forma de realizar la serialización más clara y sencilla, en la que podemos **acceder a la versión serializada de un objeto mediante un string asociada, a través de una estructura parecida a un diccionario**. \n",
    "\n",
    "Es decir, que Shelve nos permite guardar en disco **más de un objeto en el mismo archivo** y acceder a cada uno de estos objetos (ya sean listas, diccionarios, modelos entrenados, etc.) **utilizando las claves tal como si fuera un diccionario**. \n"
   ]
  },
  {
   "cell_type": "markdown",
   "metadata": {
    "slideshow": {
     "slide_type": "subslide"
    }
   },
   "source": [
    "### Ejemplo\n",
    "\n",
    "---\n",
    "\n",
    "Podemos probar de guardar dos listas en un mismo archivo en disco y que cada lista esté identificada con una clave: \n"
   ]
  },
  {
   "cell_type": "code",
   "execution_count": null,
   "metadata": {
    "slideshow": {
     "slide_type": "fragment"
    }
   },
   "outputs": [],
   "source": [
    "import shelve\n",
    "\n",
    "s = shelve.open(\"../Data/listas.db\")\n",
    "s[\"animales\"] = [\"piton\", \"mono\", \"camello\" ]\n",
    "s[\"alimentos\"]= [\"vegetales\", \"mani\", \"agua\"]\n",
    "s.close()"
   ]
  },
  {
   "cell_type": "markdown",
   "metadata": {
    "slideshow": {
     "slide_type": "subslide"
    }
   },
   "source": [
    "Si ya tenemos guardado una database y queremos levantarla de disco, lo hacemos de la siguiente manera:"
   ]
  },
  {
   "cell_type": "code",
   "execution_count": null,
   "metadata": {
    "slideshow": {
     "slide_type": "fragment"
    }
   },
   "outputs": [],
   "source": [
    "s = shelve.open(\"../Data/listas.db\")\n",
    "animales = s[\"animales\"]\n",
    "alimentos = s[\"alimentos\"]\n",
    "display(animales, alimentos)"
   ]
  },
  {
   "cell_type": "markdown",
   "metadata": {
    "slideshow": {
     "slide_type": "slide"
    }
   },
   "source": [
    "<div class=\"div-dhds-fondo-1\"> Flask\n",
    "<img src=\"https://raw.githubusercontent.com/Digital-House-DATA/ds_blend_2021_img/master/M7/CLASE_52_Deploy_Modelos/Presentacion/img/M7_CLASE_52_separador.png\" align=\"center\" />\n",
    "</div>\n"
   ]
  },
  {
   "cell_type": "markdown",
   "metadata": {
    "slideshow": {
     "slide_type": "slide"
    }
   },
   "source": [
    "## Arquitectura de una aplicación web\n",
    "\n",
    "---\n",
    "\n",
    "<img src=\"https://raw.githubusercontent.com/Digital-House-DATA/ds_blend_2021_img/master/M7/CLASE_52_Deploy_Modelos/Presentacion/img/M7_CLASE_52_web_app_architecture_diagram.png\" align=\"center\" />"
   ]
  },
  {
   "cell_type": "markdown",
   "metadata": {
    "slideshow": {
     "slide_type": "slide"
    }
   },
   "source": [
    "## Flask\n",
    "\n",
    "---\n",
    "\n",
    "¿Qué es Flask?\n",
    "\n",
    "Flask es una API de Python que nos permite crear aplicaciones web. \n",
    "\n",
    "Un framework de aplicaciónes web o web framework es la **colección de módulos y bibliotecas que ayuda al desarrollador a escribir aplicaciones sin escribir los códigos de bajo nivel, como protocolos, administración de subprocesos, etc.** \n",
    "\n",
    "Flask permite tomar una **función python y asociarla a una URL** a través del routing utilizando el diseño REST.\n",
    "\n",
    "Vamos a usar Flask para crear APIs que al recibir un request con los datos de las features de una instancia puedan devolver la predicción de un modelo para esta instancia."
   ]
  },
  {
   "cell_type": "markdown",
   "metadata": {
    "slideshow": {
     "slide_type": "slide"
    }
   },
   "source": [
    "## Flask: recordando URL\n",
    "\n",
    "---\n",
    "\n",
    "¿Como hace nuestra aplicación para saber qué es lo que se está pidiendo en la solicitud? \n",
    "\n",
    "<img src=\"https://raw.githubusercontent.com/Digital-House-DATA/ds_blend_2021_img/master/M7/CLASE_51_APIs/Presentacion/img/M7_CLASE_51_url.png\" align=\"center\" />\n",
    "\n",
    "* protocol: Indica el protocolo que será utilizado para acceder. ej HTTP, FTP, HTTPS\n",
    "\n",
    "* host: Indica cómo encontrar en la red el servidor que tiene el recurso.\n",
    "\n",
    "* port: Indica en qué puerto TCP/IP está escuchando el servidor\n",
    "\n",
    "* path: Indica la ruta para localizar el recurso dentro del servidor\n",
    "\n",
    "* query: Indica cuál es la consulta que se está realizando\n",
    "\n",
    "\n"
   ]
  },
  {
   "cell_type": "markdown",
   "metadata": {
    "slideshow": {
     "slide_type": "subslide"
    }
   },
   "source": [
    "Sobre este recurso se puede definir un método http:\n",
    "\n",
    "* GET  : Solicita una representación de un recurso específico (sólo se recuperan datos).\n",
    "* PUT  :  Reemplaza la representación con los datos en la petición.\n",
    "* POST : El método POST se utiliza para enviar una entidad a un recurso (puede generar un cambio).\n",
    "* DELETE : Borra la representación de un recurso.\n"
   ]
  },
  {
   "cell_type": "markdown",
   "metadata": {
    "slideshow": {
     "slide_type": "slide"
    }
   },
   "source": [
    "## Ejemplo\n",
    "\n",
    "---\n",
    "\n",
    "Vamos a crear una aplicación web que exponga la función `mi_saludo` usando como url `http://localhost:5010/hola`\n",
    "\n",
    "Puede accederse a este recurso mediante los métodos GET y POST"
   ]
  },
  {
   "cell_type": "code",
   "execution_count": null,
   "metadata": {
    "slideshow": {
     "slide_type": "fragment"
    }
   },
   "outputs": [],
   "source": [
    "from flask import  Flask\n",
    "\n",
    "app = Flask('my_first_webapp')\n",
    "\n",
    "@app.route('/hola', methods=['GET', 'POST'])\n",
    "def mi_saludo():\n",
    "    texto = \"¡Hola, mundo!\"\n",
    "    return texto\n"
   ]
  },
  {
   "cell_type": "markdown",
   "metadata": {
    "slideshow": {
     "slide_type": "subslide"
    }
   },
   "source": [
    "Iniciamos la aplicación en el puerto 5010"
   ]
  },
  {
   "cell_type": "code",
   "execution_count": null,
   "metadata": {
    "slideshow": {
     "slide_type": "fragment"
    }
   },
   "outputs": [],
   "source": [
    "app.run(host='0.0.0.0', port = 5010)\n"
   ]
  },
  {
   "cell_type": "markdown",
   "metadata": {
    "slideshow": {
     "slide_type": "fragment"
    }
   },
   "source": [
    "Abrimos en un browser esta url (GET)\n",
    "\n",
    "http://localhost:5010/hola"
   ]
  },
  {
   "cell_type": "markdown",
   "metadata": {
    "slideshow": {
     "slide_type": "slide"
    }
   },
   "source": [
    "<div class=\"div-dhds-fondo-1\"> Conclusión\n",
    "<img src=\"https://raw.githubusercontent.com/Digital-House-DATA/ds_blend_2021_img/master/M7/CLASE_52_Deploy_Modelos/Presentacion/img/M7_CLASE_52_separador.png\" align=\"center\" />\n",
    "</div>\n"
   ]
  },
  {
   "cell_type": "markdown",
   "metadata": {
    "slideshow": {
     "slide_type": "slide"
    }
   },
   "source": [
    "## Conclusión\n",
    "\n",
    "---\n",
    "\n",
    "* Hemos aprendido sobre serialización y representación de recursos en una aplicación web con python utilizando Flask, Pickle y Shelve. \n",
    "\n",
    "\n",
    "* Esto es importante para entender cómo se realiza la puesta en producción de un modelo\n"
   ]
  },
  {
   "cell_type": "markdown",
   "metadata": {
    "slideshow": {
     "slide_type": "slide"
    }
   },
   "source": [
    "<div class=\"div-dhds-fondo-1\"> Hands-on\n",
    "<img src=\"https://raw.githubusercontent.com/Digital-House-DATA/ds_blend_2021_img/master/M7/CLASE_52_Deploy_Modelos/Presentacion/img/M7_CLASE_52_separador.png\" align=\"center\" />\n",
    "</div>"
   ]
  },
  {
   "cell_type": "markdown",
   "metadata": {
    "slideshow": {
     "slide_type": "slide"
    }
   },
   "source": [
    "## Ejercicio\n",
    "\n",
    "---\n",
    "\n",
    "1. Usando el dataset `advertising.csv` entrenemos una regresión lineal simple para predecir el valor de la columna `Sales` a partir del valor de `TV`\n",
    "\n",
    "2. Guardemos el modelo entrenado usan shelve\n",
    "\n",
    "3. Creemos una aplicación web que reciba en un request los valores de TV y devuelva la predicción del valor de Sales que hace el modelo\n",
    "\n",
    "4. Escribamos código python que consulte el valor predicho por el modelo para un valor de TV de 250 usando un web get\n"
   ]
  },
  {
   "cell_type": "code",
   "execution_count": null,
   "metadata": {
    "slideshow": {
     "slide_type": "subslide"
    }
   },
   "outputs": [],
   "source": [
    "import pandas as pd\n",
    "import shelve\n",
    "import seaborn as sns\n",
    "import requests\n",
    "from flask import  Flask\n",
    "from sklearn.model_selection import train_test_split\n",
    "from sklearn import linear_model\n",
    "from sklearn.metrics import mean_squared_error, r2_score"
   ]
  },
  {
   "cell_type": "code",
   "execution_count": null,
   "metadata": {
    "slideshow": {
     "slide_type": "fragment"
    }
   },
   "outputs": [],
   "source": [
    "data = pd.read_csv(\"../Data/advertising.csv\")\n",
    "data"
   ]
  },
  {
   "cell_type": "code",
   "execution_count": null,
   "metadata": {
    "slideshow": {
     "slide_type": "subslide"
    }
   },
   "outputs": [],
   "source": [
    "sns.scatterplot(data = data, x = \"TV\", y = \"Sales\");"
   ]
  },
  {
   "cell_type": "markdown",
   "metadata": {
    "slideshow": {
     "slide_type": "slide"
    }
   },
   "source": [
    "## Solución\n",
    "\n",
    "---"
   ]
  },
  {
   "cell_type": "code",
   "execution_count": null,
   "metadata": {
    "slideshow": {
     "slide_type": "slide"
    }
   },
   "outputs": [],
   "source": [
    "y = data.Sales\n",
    "X = pd.DataFrame(data.TV)\n",
    "X_train, X_test, y_train, y_test = train_test_split(X, y, test_size=0.33,random_state = 127)"
   ]
  },
  {
   "cell_type": "code",
   "execution_count": null,
   "metadata": {
    "slideshow": {
     "slide_type": "fragment"
    }
   },
   "outputs": [],
   "source": [
    "lm = linear_model.LinearRegression()\n",
    "\n",
    "model = lm.fit(X_train, y_train)\n",
    "\n",
    "predictions_train = model.predict(X_train)\n",
    "\n",
    "predictions_test = model.predict(X_test)\n",
    "\n",
    "print ('R2_train =', ' ', r2_score(y_train, predictions_train))\n",
    "print ('R2_test =', ' ', r2_score(y_test, predictions_test))\n",
    "\n",
    "print ('MSE_train =', ' ', mean_squared_error(y_train, predictions_train))\n",
    "print ('MSE_test =', ' ', mean_squared_error(y_test, predictions_test))\n",
    "\n",
    "\n",
    "# Imprimimos el intercepto y los coeficientes como atributos del objeto entrenado.\n",
    "print ('Intercepto=', ' ', model.intercept_)\n",
    "print ('RM = ', ' ', model.coef_)\n"
   ]
  },
  {
   "cell_type": "markdown",
   "metadata": {
    "slideshow": {
     "slide_type": "subslide"
    }
   },
   "source": [
    "Guardamos el modelo entrenado usan shelve"
   ]
  },
  {
   "cell_type": "code",
   "execution_count": null,
   "metadata": {
    "slideshow": {
     "slide_type": "fragment"
    }
   },
   "outputs": [],
   "source": [
    "s = shelve.open(\"../Data/handson_model.db\")\n",
    "s[\"model\"] = model\n",
    "s.close()"
   ]
  },
  {
   "cell_type": "markdown",
   "metadata": {
    "slideshow": {
     "slide_type": "subslide"
    }
   },
   "source": [
    "Creamos una aplicación web que recibe en un request los valores de TV y devuelve la predicción del valor de Sales que hace el modelo"
   ]
  },
  {
   "cell_type": "code",
   "execution_count": null,
   "metadata": {
    "slideshow": {
     "slide_type": "fragment"
    }
   },
   "outputs": [],
   "source": [
    "app = Flask('Modelo Hands-on')"
   ]
  },
  {
   "cell_type": "code",
   "execution_count": null,
   "metadata": {
    "slideshow": {
     "slide_type": "fragment"
    }
   },
   "outputs": [],
   "source": [
    "@app.route(\"/\", methods=['GET'])\n",
    "def hello():\n",
    "    alive = \"La app está viva\"\n",
    "    return alive\n",
    "\n",
    "@app.route(\"/predict/<tv>\", methods=['GET'])\n",
    "def predictSales(tv):\n",
    "    s = shelve.open(\"../Data/handson_model.db\")\n",
    "    model = s[\"model\"]\n",
    "    tv_df = pd.DataFrame(data = [tv], columns = [\"TV\"])\n",
    "    prediction = model.predict(tv_df)\n",
    "    # The return type must be a string, dict, tuple, Response instance, or WSGI callable\n",
    "    result = {\"Sales\": prediction[0]}\n",
    "    return result\n"
   ]
  },
  {
   "cell_type": "code",
   "execution_count": null,
   "metadata": {
    "slideshow": {
     "slide_type": "subslide"
    }
   },
   "outputs": [],
   "source": [
    "app.run(host='0.0.0.0', port = 5017)"
   ]
  },
  {
   "cell_type": "markdown",
   "metadata": {
    "slideshow": {
     "slide_type": "fragment"
    }
   },
   "source": [
    "http://localhost:5017/\n",
    "\n",
    "http://localhost:5017/predict/100"
   ]
  },
  {
   "cell_type": "markdown",
   "metadata": {
    "slideshow": {
     "slide_type": "fragment"
    }
   },
   "source": [
    "La ejecución de la celda anterior (server) no termina excepto que la detengamos explícitamente, y sólo mientras está corriendo nuestra aplicación web puede recibir y responder request.\n",
    "\n",
    "Por lo tanto, la ejecución de las celdas que siguen (client) debe hacerse desde otra notebook.\n",
    "\n",
    "Escribimos código python que haga in request al server para obtener el valor predicho por el modelo para un valor de TV de 250"
   ]
  },
  {
   "cell_type": "code",
   "execution_count": null,
   "metadata": {
    "slideshow": {
     "slide_type": "subslide"
    }
   },
   "outputs": [],
   "source": [
    "tv_value = 250\n",
    "endpoint = \"http://localhost:5017/predict/\" + str(tv_value)\n",
    "print(endpoint)\n",
    "response = requests.get(endpoint)\n"
   ]
  },
  {
   "cell_type": "code",
   "execution_count": null,
   "metadata": {
    "slideshow": {
     "slide_type": "fragment"
    }
   },
   "outputs": [],
   "source": [
    "print(response.status_code)"
   ]
  },
  {
   "cell_type": "code",
   "execution_count": null,
   "metadata": {
    "slideshow": {
     "slide_type": "fragment"
    }
   },
   "outputs": [],
   "source": [
    "response.json()"
   ]
  },
  {
   "cell_type": "code",
   "execution_count": null,
   "metadata": {
    "slideshow": {
     "slide_type": "fragment"
    }
   },
   "outputs": [],
   "source": [
    "response.json()[\"Sales\"]"
   ]
  },
  {
   "cell_type": "markdown",
   "metadata": {
    "slideshow": {
     "slide_type": "slide"
    }
   },
   "source": [
    "<div class=\"div-dhds-fondo-1\"> Referencias\n",
    "<img src=\"https://raw.githubusercontent.com/Digital-House-DATA/ds_blend_2021_img/master/M7/CLASE_52_Deploy_Modelos/Presentacion/img/M7_CLASE_52_separador.png\" align=\"center\" />\n",
    "</div>"
   ]
  },
  {
   "cell_type": "markdown",
   "metadata": {
    "slideshow": {
     "slide_type": "slide"
    }
   },
   "source": [
    "## Referencias\n",
    "\n",
    "---\n",
    "\n",
    "<a href=\"https://docs.python.org/3/library/shelve.html\" target=\"_blank\">Shelve</a>\n",
    "\n",
    "<a href=\"https://docs.python.org/3/library/pickle.html\" target=\"_blank\">Pickle</a>\n",
    "\n",
    "<a href=\"https://flask.palletsprojects.com/en/2.0.x/\" target=\"_blank\">Flask</a>\n",
    "\n",
    "<a href=\"https://www.youtube.com/watch?v=9J1nJOivdyw\" target=\"_blank\">Web Server Concepts and Examples</a>"
   ]
  }
 ],
 "metadata": {
  "kernelspec": {
   "display_name": "Python 3",
   "language": "python",
   "name": "python3"
  },
  "language_info": {
   "codemirror_mode": {
    "name": "ipython",
    "version": 3
   },
   "file_extension": ".py",
   "mimetype": "text/x-python",
   "name": "python",
   "nbconvert_exporter": "python",
   "pygments_lexer": "ipython3",
   "version": "3.8.5"
  }
 },
 "nbformat": 4,
 "nbformat_minor": 4
}
