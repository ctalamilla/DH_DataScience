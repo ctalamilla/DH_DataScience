{
 "cells": [
  {
   "cell_type": "code",
   "execution_count": null,
   "metadata": {},
   "outputs": [],
   "source": [
    "# initial setup\n",
    "%run \"../../../common/0_notebooks_base_setup.py\"\n"
   ]
  },
  {
   "cell_type": "markdown",
   "metadata": {},
   "source": [
    "---\n",
    "\n",
    "<img src='../../../common/logo_DH.png' align='left' width=35%/>"
   ]
  },
  {
   "cell_type": "markdown",
   "metadata": {},
   "source": [
    "# <h1><center><ins>PICKLE y FLASK</ins></center></h1>\n",
    "<h1><center>Checkpoint [CLIENTE]  —solución—:</center></h1>\n",
    "<img src=\"img/00_pickle.jpg\" alt=\"Drawing\" style=\"width: 400px;\"/>\n",
    "<img src=\"img/04_flask.jpg\" alt=\"Drawing\" style=\"width: 500px;\"/>"
   ]
  },
  {
   "cell_type": "markdown",
   "metadata": {},
   "source": [
    "Si todo salió bien, en este preciso momento tienen otra notebook abierta, simulando ser un **SERVIDOR**, en la cual definieron DOS funciones asociadas cada una a un endpoint de nuestra API. \n",
    "La idea de esta notebook es hacer los distintos llamados a esos endpoints para que la magia de nuestra API suceda. Si todavía NO construyeron los endpoints, entonces vuelvan a la notebook **Checkpoint_Pickle_shelve_flask_API** y sigan las instrucciones."
   ]
  },
  {
   "cell_type": "markdown",
   "metadata": {},
   "source": [
    "Importamos las librerías que vamos a utilizar"
   ]
  },
  {
   "cell_type": "code",
   "execution_count": null,
   "metadata": {},
   "outputs": [],
   "source": [
    "# Algunas de las de siempre\n",
    "import numpy as np\n",
    "import pandas as pd\n",
    "\n",
    "# Las que vamos a necesitar para hacer los llamados y para lidiar con los datos en formato json\n",
    "import requests\n",
    "from flask import  Flask, request, jsonify, render_template\n",
    "import json"
   ]
  },
  {
   "cell_type": "markdown",
   "metadata": {},
   "source": [
    "***"
   ]
  },
  {
   "cell_type": "markdown",
   "metadata": {},
   "source": [
    "## **PRIMERA FUNCIÓN/ENDOPOINT:** filtrar por club, guardar nuevo dataframe y figura"
   ]
  },
  {
   "cell_type": "markdown",
   "metadata": {},
   "source": [
    "Para este primer endpoint, necesitamos cargar la base con los datos de los jugadores."
   ]
  },
  {
   "cell_type": "code",
   "execution_count": null,
   "metadata": {},
   "outputs": [],
   "source": [
    "df = pd.read_csv('../Data/fifa_2018_completo_editado.csv',index_col='Unnamed: 0')"
   ]
  },
  {
   "cell_type": "markdown",
   "metadata": {},
   "source": [
    "Usando la librería **request**, usamos el método **post** para enviar el input del primer llamado (en la notebook que simula ser el servidor está el detalle de lo que tenemos que pasarle a este **endpoint**). Tengan en cuenta que el dataframe lo tienen que pasar a un formato json con el métod de pandas <a class=\"reference internal\" href=https://pandas.pydata.org/pandas-docs/stable/reference/api/pandas.DataFrame.to_json.html><b><code>.to_json()</code></b></a>)"
   ]
  },
  {
   "cell_type": "code",
   "execution_count": null,
   "metadata": {},
   "outputs": [],
   "source": [
    "# Definimos los datos que vamos a pasar en el request\n",
    "base=df.to_json() #dataframe en formato json\n",
    "club_elegido='FC Barcelona'\n",
    "radar_color='b'\n",
    "fig_size=(25,15)\n",
    "url = 'http://localhost:5008/describir_equipo' #definimos la URL para hacer el llamado local con el endpoint correspondiente"
   ]
  },
  {
   "cell_type": "code",
   "execution_count": null,
   "metadata": {},
   "outputs": [],
   "source": [
    "# Hacemos el pedido y vemos los resultados.\n",
    "# Si todo salió bien se tiene que haber guardado en la carpeta Data el output de este primer endpoint como un pickle\n",
    "des = requests.post(url,\n",
    "                       json = {'base' : base,\n",
    "                               'club_elegido':club_elegido,\n",
    "                               'radar_color':radar_color,\n",
    "                               'fig_size':fig_size})\n",
    "print(des.json())"
   ]
  },
  {
   "cell_type": "markdown",
   "metadata": {},
   "source": [
    "***"
   ]
  },
  {
   "cell_type": "markdown",
   "metadata": {},
   "source": [
    "## **SEGUNDA FUNCIÓN/ENDOPOINT:** comparar jugadores del club elegido"
   ]
  },
  {
   "cell_type": "code",
   "execution_count": null,
   "metadata": {},
   "outputs": [],
   "source": [
    "#Definimos las variables que vamos a utilizar para el pedido\n",
    "club_elegido='FC Barcelona'\n",
    "jugador_uno='L. Suárez' #dirección donde se encuentra el modelo grabado\n",
    "jugador_dos='L. Messi' #nombre del modelo grabado\n",
    "color_uno='b'\n",
    "color_dos='r'\n",
    "url = 'http://localhost:5008/comparar_jugadores' #definimos la URL para hacer el llamado local con el endpoint correspondiente\n"
   ]
  },
  {
   "cell_type": "code",
   "execution_count": null,
   "metadata": {},
   "outputs": [],
   "source": [
    "#Hacemos el llamado\n",
    "jug = requests.get(url, \n",
    "                    params = {'club':club_elegido,\n",
    "                              'jugador_uno':jugador_uno,\n",
    "                              'jugador_dos':jugador_dos,\n",
    "                              'color_uno':color_uno,\n",
    "                              'color_dos':color_dos})\n",
    "print(jug.json())"
   ]
  },
  {
   "cell_type": "code",
   "execution_count": null,
   "metadata": {},
   "outputs": [],
   "source": []
  }
 ],
 "metadata": {
  "kernelspec": {
   "display_name": "Python 3",
   "language": "python",
   "name": "python3"
  },
  "language_info": {
   "codemirror_mode": {
    "name": "ipython",
    "version": 3
   },
   "file_extension": ".py",
   "mimetype": "text/x-python",
   "name": "python",
   "nbconvert_exporter": "python",
   "pygments_lexer": "ipython3",
   "version": "3.8.5"
  }
 },
 "nbformat": 4,
 "nbformat_minor": 4
}
