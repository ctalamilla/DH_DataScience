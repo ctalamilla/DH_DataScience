{
 "cells": [
  {
   "cell_type": "code",
   "execution_count": null,
   "metadata": {},
   "outputs": [],
   "source": [
    "# initial setup\n",
    "%run \"../../../common/0_notebooks_base_setup.py\"\n"
   ]
  },
  {
   "cell_type": "markdown",
   "metadata": {},
   "source": [
    "---\n",
    "\n",
    "<img src='../../../common/logo_DH.png' align='left' width=35%/>"
   ]
  },
  {
   "cell_type": "markdown",
   "metadata": {},
   "source": [
    "# <h1><center><ins>PICKLE y FLASK</ins></center></h1>\n",
    "<h1><center>Checkpoint [API]:</center></h1>\n",
    "<img src=\"img/00_pickle.jpg\" alt=\"Drawing\" style=\"width: 400px;\"/>\n",
    "<img src=\"img/04_flask.jpg\" alt=\"Drawing\" style=\"width: 500px;\"/>"
   ]
  },
  {
   "cell_type": "markdown",
   "metadata": {},
   "source": [
    "<a id=\"tabla_contenidos\"></a> \n",
    "## Tabla de Contenidos\n",
    "\n",
    "### <a href='#section_objetivos'>0. Objetivos de la Notebook</a>\n",
    "\n",
    "\n",
    "### <a href='#section_repaso'>1. Lo que tenés que hacer es...</a>"
   ]
  },
  {
   "cell_type": "markdown",
   "metadata": {},
   "source": [
    "<a id=\"section_objetivos\"></a> \n",
    "## 0. Objetivos de la Notebook"
   ]
  },
  {
   "cell_type": "markdown",
   "metadata": {},
   "source": [
    "<div id=\"caja11\" style=\"float:left;width: 100%;\">\n",
    "  <div style=\"float:left;width: 9%;\"><img src=\"../../../common/icons/haciendo_foco.png\" style=\"align:left\"/> </div>\n",
    "  <br>\n",
    "  <div style=\"float:left;width: 85%;\">\n",
    "      <label>Poner en práctica lo aprendido en la notebook de práctica guiada.</label>\n",
    "  <div style=\"float:left;width: 85%;\">\n",
    "      <label>Es importante que antes de la clase resuelvan esta notebook ya que es fundamental que sepan utilizar las herramientas que vimos en la práctica guiada para después trabajar el caso práctico en la clase.</label>        \n",
    "</div>    \n",
    "</div>"
   ]
  },
  {
   "cell_type": "markdown",
   "metadata": {},
   "source": [
    "<a href='#tabla_contenidos'>Volver a TOC</a>"
   ]
  },
  {
   "cell_type": "markdown",
   "metadata": {},
   "source": [
    "***"
   ]
  },
  {
   "cell_type": "markdown",
   "metadata": {},
   "source": [
    "<a id=\"section_repaso\"></a> \n",
    "## 1. Lo que tenés que hacer es..."
   ]
  },
  {
   "cell_type": "markdown",
   "metadata": {},
   "source": [
    "El objetivo de esta práctica es simular nuestro propio servidor para poner a disposición nuestra API para un cliente interno. \n",
    "\n",
    "Vamos a utilizar un set de datos adaptados de una competencia de kaggle ya cerrada: https://www.kaggle.com/kevinmh/fifa-18-more-complete-player-dataset\n",
    "\n",
    "En el dataset vamos a encontrar todos los jugadores de fútbol que están en el juego fifa-18, y contaremos con las siguientes variables: \n",
    "- **ID**: un número único que identifica al jugador en toda la base.\n",
    "- **full_name**: nombre completo del jugador.\n",
    "- **age**\n",
    "- **club**: del jugador\n",
    "- **height_cm**\n",
    "- **weight_kg**\n",
    "- **puntaje_global**: puntaje que identifica la habilidad general del jugador.\n",
    "- **potencia**: potencia física del jugador.\n",
    "- **ritmo**: velocidad de aceleración del jugador.\n",
    "- **disparos**: nivel de precisión y potencia de sus remates.\n",
    "- **pases**: nivel de precisión en sus pases.\n",
    "- **amagues**: nivel de habilidad para amagar a un rival.\n",
    "- **defensa**: capacidad defensiva general del jugador.\n",
    "- **físico**: estado físico del jugador (nos indicaría qué tan rápido se cansa)\n",
    "\n",
    "Su **misión** es simular en esta notebook un **SERVIDOR** donde está alojada su API y, desde otra notebook (Checkpoint_Pickle_shelve_flask_CLIENT) hacer los pedidos simulando que son un **CLIENTE**.\n",
    "\n",
    "Su API va a hacer dos cosas (con dos funciones/endpoints distintos): \n",
    "- recibir el dataframe completo con todos los jugadores y quedarse con aquellos que pertenecen a un club específico.\n",
    "- hacer una comparación de dos jugadores del mismo equipo."
   ]
  },
  {
   "cell_type": "markdown",
   "metadata": {},
   "source": [
    "<div id=\"caja9\" style=\"float:left;width: 100%;\">\n",
    "  <div style=\"float:left;width: 15%;\"><img src=\"../../../common/icons/kit_de_salida.png\" style=\"align:left\"/> </div>\n",
    "  <br>\n",
    "  <div style=\"float:left;width: 85%;\"><label><b>Para tener en cuenta:</b> Tal como vimos en las notebooks de la práctica guiada, por un lado tienen que definir las funionces/endopoints de su API y, al final de la notebook, ejecutar la línea de código <b>app.run(host='0.0.0.0')</b>. Recuerden que esta línea hace que la notebook simule ser un servidor que está poniendo a disposición a nuestra API para que podamos acceder desde la otra notebook que es el cliente (usando la librería request). Y por último: mientras esté en ejecución esta línea de código, acuérdense de que no pueden ejecutar ninguna otra celda de esta notebook. </label></div>\n",
    "</div>"
   ]
  },
  {
   "cell_type": "markdown",
   "metadata": {},
   "source": [
    "Importamos las librerías que vamos a utilizar"
   ]
  },
  {
   "cell_type": "code",
   "execution_count": null,
   "metadata": {},
   "outputs": [],
   "source": [
    "# Algunas de las de siempre\n",
    "import numpy as np\n",
    "import pandas as pd\n",
    "\n",
    "# Las que vamos a necesitar para hacer los llamados y para lidiar con los datos en formato json\n",
    "import requests\n",
    "from flask import  Flask, request, jsonify, render_template\n",
    "import json\n",
    "import pickle\n",
    "\n",
    "# Librerías y configuración para visualizaciones\n",
    "import matplotlib.pyplot as plt\n",
    "import seaborn as sns\n",
    "\n",
    "sns.set_context(\"talk\")\n",
    "sns.set_style('darkgrid')\n",
    "sns.set_context(rc={'xtick.labelsize': 13,'ytick.labelsize': 13, 'axes.labelsize': 16, 'axes.titlesize': 18})\n",
    "# Esta función la vamos a utilizar para hacer un radar-chart\n",
    "from math import pi\n"
   ]
  },
  {
   "cell_type": "markdown",
   "metadata": {},
   "source": [
    "***"
   ]
  },
  {
   "cell_type": "markdown",
   "metadata": {},
   "source": [
    "## **PRIMERA FUNCIÓN/ENDOPOINT:** filtrar por club, guardar nuevo dataframe y figura\n",
    "\n",
    "> La primera función/endpoint tiene que recibir, por lo menos:\n",
    "\n",
    "- (i) el dataframe con la base de jugadores completos \"fifa_2018_completo_editado.csv\" que se encuentra dentro de la carpeta Data (tienen que pasar la base como un json), \n",
    "- (ii) el club por el cual quieren filtrar la base completa\n",
    "\n",
    "> El **output** de esta primera función/endpoint tiene que ser: \n",
    "\n",
    "- (i) un json que contenga la cantidad de jugadores del equipo elegido, la media de la edad, el peso y la altura de los jugadores del equipo, y la lista completa de jugadores del equipo.\n",
    "- (ii) guardar el dataframe filtrado con los jugadores del club elegido usando la librería pickle.\n",
    "- (iii) guardar una figura (puede ser un barplot) que contenga la media del equipo entre todos los jugadores de las siguientes features: ['potencia','ritmo','disparos','pases','amagues','defensa','fisico']."
   ]
  },
  {
   "cell_type": "code",
   "execution_count": null,
   "metadata": {},
   "outputs": [],
   "source": [
    "# Iniciamos nuestra API\n",
    "app = Flask('Analisis equipo')"
   ]
  },
  {
   "cell_type": "code",
   "execution_count": null,
   "metadata": {},
   "outputs": [],
   "source": [
    "# Iniciamos nuestro primera función asociada a su endpoint. Usamos el método POST ya que vamos a enviar información\n",
    "# al servidor: el dataframe filtrado y vamos a guardar un radar chart con la media de las características más \n",
    "# importantes del equipo"
   ]
  },
  {
   "cell_type": "code",
   "execution_count": null,
   "metadata": {},
   "outputs": [],
   "source": [
    "@app.route('/describir_equipo',methods=['POST'])\n",
    "def descriptivos_equipo():\n",
    "    # la función \"request.get_json\" de Flask para capturar la información que le envíemos a la API\n",
    "    data = request.get_json(force=True)\n",
    "    \n",
    "    # Separamos la información de data y usamos json.loads() para transformar el dataframe que está en formato\n",
    "    # json a un diccionario y luego lo convertimos en un DataFrame.\n",
    "   \n",
    "    \n",
    "    \n",
    "    # Filtramos el dataframe para quedarnos con los jugadores pertenecientes al club elegido por el usuario\n",
    "    \n",
    "    \n",
    "    # Guardamos la base filtrada con el nombre del club usando PICKLE en la carpeta Data\n",
    "    \n",
    "    \n",
    "    \n",
    "    # Hacemos un gráfico que muestre la media del equipo de las siguientes features: \n",
    "    # ['potencia','ritmo','disparos','pases','amagues','defensa','fisico']\n",
    "    # Pueden utilizar cualquier clase de gráfico, pero para los que se animen pueden \n",
    "    # intentar hacer un radar chart adaptando el código que se encuentra aquí = \n",
    "    # https://python-graph-gallery.com/390-basic-radar-chart/\n",
    "    \n",
    "    \n",
    "    \n",
    "    \n",
    "    # Armamos el return con los datos descriptivos del equipo seleccionado que no están en el gráfico\n",
    "\n",
    "    return {}\n",
    "    "
   ]
  },
  {
   "cell_type": "markdown",
   "metadata": {},
   "source": [
    "***"
   ]
  },
  {
   "cell_type": "markdown",
   "metadata": {},
   "source": [
    "## **SEGUNDA FUNCIÓN/ENDOPOINT:** comparar jugadores del club elegido\n",
    "> La segunda función/endpoint tiene que recibir, por lo menos:\n",
    "- (i) el nombre del dataframe filtrado que se guardó como un pickle con la función anterior.\n",
    "- (ii) nombre de los dos jugadores que se quieren comparar.\n",
    "\n",
    "> El **output** de esta primera función/endpoint tiene que ser: \n",
    "- (i) un json que contenga las características de cada uno de los jugadores elegidos en las siguientes features: ['potencia','ritmo','disparos','pases','amagues','defensa','fisico']\n",
    "- (ii) guardar una figura (puede ser un barplot) que compare la media entre los dos jugadores de las siguientes features: ['potencia','ritmo','disparos','pases','amagues','defensa','fisico']"
   ]
  },
  {
   "cell_type": "code",
   "execution_count": null,
   "metadata": {},
   "outputs": [],
   "source": [
    "# Iniciamos nuestro primera función asociada a su endpoint. Usamos el método GET ya que no le vamos a enviar información\n",
    "# al servidor, sino que le vamos a pedir información a partir de la base que se filtra en el primer endpoint"
   ]
  },
  {
   "cell_type": "code",
   "execution_count": null,
   "metadata": {},
   "outputs": [],
   "source": [
    "@app.route(\"/comparar_jugadores\",methods=['GET'])\n",
    "def comparador():\n",
    "    \n",
    "    # Usamos request.args para tomar las query que le pasamos a la URL\n",
    "    \n",
    "    \n",
    "    # Levantamos el dataframe que tenemos guardado en disco\n",
    "    \n",
    "        \n",
    "    # Hacemos la figura comparando a ambos jugadores en las siguientes features: \n",
    "    # ['name','potencia','ritmo','disparos','pases','amagues','defensa','fisico']\n",
    "    # Puden hacer un barplot, o pueden probar también usar radar-chart: \n",
    "    # https://python-graph-gallery.com/391-radar-chart-with-several-individuals/\n",
    "    \n",
    "    \n",
    "    # return datos individuales de los jugadores en un json\n",
    "    return \n",
    "    "
   ]
  },
  {
   "cell_type": "code",
   "execution_count": null,
   "metadata": {},
   "outputs": [],
   "source": [
    "# Ahora ejecutamos esta línea de código que pone a disposición los endpoints que armamos arriba. \n",
    "# Es hora de ir a la otra notebook en la que simulamos ser un cliente y hacer los llamadados para cada\n",
    "# uno de estos endopoints...\n",
    "app.run(host='0.0.0.0')"
   ]
  },
  {
   "cell_type": "code",
   "execution_count": null,
   "metadata": {},
   "outputs": [],
   "source": []
  },
  {
   "cell_type": "code",
   "execution_count": null,
   "metadata": {},
   "outputs": [],
   "source": []
  },
  {
   "cell_type": "code",
   "execution_count": null,
   "metadata": {},
   "outputs": [],
   "source": []
  }
 ],
 "metadata": {
  "kernelspec": {
   "display_name": "Python 3",
   "language": "python",
   "name": "python3"
  },
  "language_info": {
   "codemirror_mode": {
    "name": "ipython",
    "version": 3
   },
   "file_extension": ".py",
   "mimetype": "text/x-python",
   "name": "python",
   "nbconvert_exporter": "python",
   "pygments_lexer": "ipython3",
   "version": "3.8.5"
  }
 },
 "nbformat": 4,
 "nbformat_minor": 4
}
