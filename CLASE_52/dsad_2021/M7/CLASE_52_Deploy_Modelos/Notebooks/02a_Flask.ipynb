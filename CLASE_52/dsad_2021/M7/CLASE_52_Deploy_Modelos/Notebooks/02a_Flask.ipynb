{
 "cells": [
  {
   "cell_type": "code",
   "execution_count": null,
   "metadata": {},
   "outputs": [],
   "source": [
    "# initial setup\n",
    "%run \"../../../common/0_notebooks_base_setup.py\"\n"
   ]
  },
  {
   "cell_type": "markdown",
   "metadata": {},
   "source": [
    "---\n",
    "\n",
    "<img src='../../../common/logo_DH.png' align='left' width=35%/>"
   ]
  },
  {
   "cell_type": "markdown",
   "metadata": {},
   "source": [
    "# <h1><center><ins>FLASK</ins></center></h1>\n",
    "<h1><center>Práctica guiada:</center></h1>\n",
    "<img src=\"img/01_flask.jpg\" alt=\"Drawing\" style=\"width: 400px;\"/>"
   ]
  },
  {
   "cell_type": "markdown",
   "metadata": {},
   "source": [
    "<a id=\"tabla_contenidos\"></a> \n",
    "## Tabla de Contenidos\n",
    "\n",
    "### <a href='#0'>0. Objetivos de la Notebook</a>\n",
    "\n",
    "\n",
    "### <a href='#1'>1. Introducción</a>\n",
    "- #### <a href='#1.1'>1.1 Simular nuestro propio \"SERVIDOR\"</a>\n",
    "- #### <a href='#1.2'>1.2 Flask</a>\n",
    "\n",
    "\n",
    "### <a href='#2.'>2. Simulamos el armado de nuestra propia API</a>"
   ]
  },
  {
   "cell_type": "markdown",
   "metadata": {},
   "source": [
    "***"
   ]
  },
  {
   "cell_type": "markdown",
   "metadata": {},
   "source": [
    "<a id=\"0\"></a> \n",
    "## 0. Objetivos de la Notebook"
   ]
  },
  {
   "cell_type": "markdown",
   "metadata": {},
   "source": [
    "<div id=\"caja11\" style=\"float:left;width: 100%;\">\n",
    "  <div style=\"float:left;width: 9%;\"><img src=\"../../../common/icons/haciendo_foco.png\" style=\"align:left\"/> </div>\n",
    "  <br>\n",
    "  <div style=\"float:left;width: 85%;\">\n",
    "      <label>Levantar los modelos ya entrenados usando </label>\n",
    "      <a class=\"reference internal\" href=https://docs.python.org/3/library/pickle.html><b><code>Pickle</code></b></a> \n",
    "  <div style=\"float:left;width: 85%;\">\n",
    "      <label>Usar <a class=\"reference internal\" href=https://flask.palletsprojects.com/en/1.1.x/><b><code>Flask</code></b></a> para simular que armamos una API en un servidor y hacerle diferentes pedidos."
   ]
  },
  {
   "cell_type": "markdown",
   "metadata": {},
   "source": [
    "<a href='#tabla_contenidos'>Volver a TOC</a>"
   ]
  },
  {
   "cell_type": "markdown",
   "metadata": {},
   "source": [
    "---"
   ]
  },
  {
   "cell_type": "markdown",
   "metadata": {},
   "source": [
    "<a id=\"1\"></a> \n",
    "## 1. Introducción"
   ]
  },
  {
   "cell_type": "markdown",
   "metadata": {},
   "source": [
    "<a id=\"1.1\"></a> \n",
    "### 1.1 Simular nuestro propio \"SERVIDOR\"\n",
    "<img src=\"img/02_flask.jpg\" alt=\"Drawing\" style=\"width: 350px;\"/>\n",
    "\n",
    "<br>  \n",
    "\n",
    "El `Deploy` un modelo de machine-learning significa integrar el modelo en un ambiente de producción, en el cual puede tomar un input y retornar un output:\n",
    "\n",
    "<br>  \n",
    "\n",
    "<img src=\"img/03_flask.jpg\" alt=\"Drawing\" style=\"width: 800px;\"/>\n",
    "\n",
    "<br>  \n",
    "\n",
    "\n",
    "Ahora vamos a simular este contextos de producción usando los modelos entrenados que guardamos en la notebook anterior. Vamos a llevar esos archivos a nuestro \"SERVIDOR\" y lo que vamos a hacer es armar nuestra API para que otros servicios o usuarios de afuera (según como esté armada la infraestructura en nuestro trabajo) puedan acceder a los resultados de nuestros modelos.\n",
    "\n",
    "**Algo a tener en cuenta:** es importante que en nuestro servior tengamos todos los requerimientos, librerías y archivos (por ejemplo, los modelos, o databse si vamos a entrenar un modelo) para nuestra API (al final les dejamos varios links que explican cómo hacer esto para quien tenga curiosidad y ganas de ver cómo se hace). \n",
    "\n"
   ]
  },
  {
   "cell_type": "markdown",
   "metadata": {},
   "source": [
    "<a id=\"1.2\"></a> \n",
    "### 1.2 Flask\n",
    "<img src=\"img/04_flask.jpg\" alt=\"Drawing\" style=\"width: 500px;\"/>\n",
    "\n",
    "<br>  \n",
    "\n",
    "\n",
    "<a class=\"reference internal\" href=https://flask.palletsprojects.com/en/1.1.x/><b><code>Flask</code></b></a> es un conjunto de herramientas para desarrollar aplicaciones web que también es definido (por la misma librería) como un web micro-framework. \"Micro\" en el término microframework se refiere a que Flask tiene un nucleo simple pero que permite agregar extensiones con mucha faciliad. Es decir, que no obliga a usar un determinado tipo de database, y permite cambiar fácilmente el motor que se usa como template para mostrar la aplicación web. Además, la librería está escrita en lenguaje Python y hecha para aplicaciones del mismo lenguaje. \n",
    "\n",
    "\n",
    "\n",
    "<br>  \n",
    "\n",
    "`Flask` permite llevar nuestros modelos de machine-learning a un entorno e aplicación web de una manera sencilla, y está basada en dos componentes principales: \n",
    "        - **Web Server Gateway Interface (WSGI):** es un conjunto de convenciones y especificaciones que describen cómo una servidor web se comunica con otras aplicaciones web, y cómo las aplicaciones web procesan un pedido en lenguaje Python (si quieren saber un poco más: https://en.wikipedia.org/wiki/Web_Server_Gateway_Interface). \n",
    "        - **Jinja2**:  es un motor de templates para Python que se encuentra configurado automáticamente en el framework Flask y permite renderizar páginas web (si quieren más información: https://pypi.org/project/Jinja2/). Es decir,  permite definir cómo se va a mostrar la información que devuelva nuestra API en la web (y acá pueden encontrar algunos templates HTML https://juncotic.com/jinja2-en-flask-introduccion/).\n",
    "        "
   ]
  },
  {
   "cell_type": "markdown",
   "metadata": {},
   "source": [
    "#### Manos a la obra: \n",
    "Hagamos una primera prueba de \"juguete\" para analizar cómo podemos simular un servidor local (y de paso probar un template). Vamos a empezar con algo muy simple, un servidor que nos devuelva la frase \"Hola, mundo!\" con una foto del mundo. \n",
    "\n",
    "\n",
    "<br>  \n",
    "\n",
    "<img src=\"img/05_flask.jpg\" alt=\"Drawing\" style=\"width: 300px;\"/>"
   ]
  },
  {
   "cell_type": "markdown",
   "metadata": {},
   "source": [
    "### Imports:"
   ]
  },
  {
   "cell_type": "code",
   "execution_count": null,
   "metadata": {},
   "outputs": [],
   "source": [
    "# importamos las librerías que vamos a usar\n",
    "from flask import  Flask, request, jsonify, render_template, send_file\n",
    "import pandas as pd\n",
    "import numpy as np\n",
    "import json\n",
    "import pickle"
   ]
  },
  {
   "cell_type": "markdown",
   "metadata": {},
   "source": [
    "Analicemos nuestro ejemplo base y sus distintas partes:"
   ]
  },
  {
   "cell_type": "code",
   "execution_count": null,
   "metadata": {},
   "outputs": [],
   "source": [
    "# En una variable instanciamos la clase Flask con el nombre de nuestra api (en este caso la llamamos \"hola\").\n",
    "# Además, le pasamos un argumento \"template_folder\" donde le indicamos en qué carpeta se encuentra la plantilla\n",
    "# HTML que vamos a utilizar para formatear el output de nuestra API. Si van a la carpeta plantilla, van a encontrar\n",
    "# un archivo \"template1.html\" que está basado en un template de esta página: \n",
    "# https://juncotic.com/jinja2-en-flask-introduccion/ . Este es el template que Flask en base a Jinja2 va a renderizar.\n",
    "app = Flask('bienvenida',template_folder='plantillas')"
   ]
  },
  {
   "cell_type": "code",
   "execution_count": null,
   "metadata": {},
   "outputs": [],
   "source": [
    "# \"@app.route\" es un decorador que modifica la función que se define luego (\"holas\"). Este decorador convierte al \n",
    "# string que está entre paréntesis ('/hola') en la ruta o endpoint con el cual nuestra API va a encontrar esta función.\n",
    "@app.route('/hola')\n",
    "def holas():\n",
    "    texto = \"¡Hola, mundo!\"\n",
    "    return render_template('template1.html' , texto = texto)\n",
    "    # en el return de la función, indicamos que devuelva la variable texto pero usando como render el archivo HTML\n",
    "    # que tenemos en la carpeta plantilla. \n",
    "    \n",
    "@app.route('/rock')\n",
    "def get_image():\n",
    "    filename = 'plantillas/rock.png'\n",
    "    return send_file(filename, mimetype='image/png')    \n",
    "    "
   ]
  },
  {
   "cell_type": "code",
   "execution_count": null,
   "metadata": {},
   "outputs": [],
   "source": [
    "# Cuando ejecuten esta celda, verán que la notebook se queda \"trabajando\" sin terminar nunca. Eso es porque lo que\n",
    "# esta línea hace que la notebook simule ser un servidor que está poniendo a disposición a nuestra api \"bienvendia\"\n",
    "# para que podemos acceder localmente. Lo que tienen que hacer es lo siguiente: mientras se está ejecutando esta celda\n",
    "# ejecutar esta celda antes de entrar en la dirección): http://localhost:5001/hola\n",
    "app.run(host='0.0.0.0', port = 5001)"
   ]
  },
  {
   "cell_type": "markdown",
   "metadata": {},
   "source": [
    "http://localhost:5001/hola"
   ]
  },
  {
   "cell_type": "markdown",
   "metadata": {},
   "source": [
    "Si lo anterior funcionó correctamente, les tiene que haber aparecido en su navegador algo como esto: \n",
    "\n",
    "<br>  \n",
    "\n",
    "<img src=\"img/06_flask.jpg\" alt=\"Drawing\" style=\"width: 500px;\"/>\n",
    "\n",
    "\n",
    "<br>  \n",
    "\n",
    "Fijense que el kernel de su notebook sigue funcionando y no van a poder ejecutar líneas de código en otras celdas. Para `volver a hacer uso de la notebook (y que deje de actuar como nuestro servidor) tienen que ir a la celda anterior (la que tiene la línea \"app.run(host='0.0.0.0')\" y darle detener`, así dejamos de disponibilizar localmente en el puerto 500 la función de nuestra API \"bienvenida\").\n",
    "\n",
    "Con esto ya estamos listos para armar una API más compleja en la cual utilicemos los modelos que entrenamos en la otra notebook. "
   ]
  },
  {
   "cell_type": "markdown",
   "metadata": {},
   "source": [
    "<a href='#tabla_contenidos'>Volver a TOC</a>"
   ]
  },
  {
   "cell_type": "markdown",
   "metadata": {},
   "source": [
    "***"
   ]
  },
  {
   "cell_type": "markdown",
   "metadata": {},
   "source": [
    "<a id=\"2.\"></a> \n",
    "## 2. Simulamos el armado de nuestra propia API"
   ]
  },
  {
   "cell_type": "markdown",
   "metadata": {},
   "source": [
    "### Definimos el nombre de nuestra API y una primera ruta con las instrucciones de su uso"
   ]
  },
  {
   "cell_type": "markdown",
   "metadata": {},
   "source": [
    "Levantamos la lista de variables dummmies para pasarlas en las instrucciones"
   ]
  },
  {
   "cell_type": "code",
   "execution_count": null,
   "metadata": {},
   "outputs": [],
   "source": [
    "with open('dummies_order.pkl', 'rb') as f_dummy:\n",
    "    dummies_encoder = pickle.load(f_dummy)\n",
    "\n",
    "dummies_encoder"
   ]
  },
  {
   "cell_type": "markdown",
   "metadata": {},
   "source": [
    "Instanciamos y definimos nuestra función de bienvenida"
   ]
  },
  {
   "cell_type": "code",
   "execution_count": null,
   "metadata": {},
   "outputs": [],
   "source": [
    "app = Flask('Predictor de examenes')"
   ]
  },
  {
   "cell_type": "code",
   "execution_count": null,
   "metadata": {},
   "outputs": [],
   "source": [
    "@app.route(\"/\")\n",
    "def hello():\n",
    "    instrucciones_html = '''Para utilizar esta api se debe poner \n",
    "    el nombre del modelo y los predictores %s''' % dummies_encoder\n",
    "    \n",
    "    return instrucciones_html"
   ]
  },
  {
   "cell_type": "code",
   "execution_count": null,
   "metadata": {},
   "outputs": [],
   "source": [
    "# Tal como hicimos antes, ejecutamos esta celda e ingresamos a la siguiente dirección para ver su resultado \n",
    "# (fijense que esta vez no estamos usando la función \"render_template\" así que el output será un string de \n",
    "# texto sin formato): http://localhost:5002/\n",
    "app.run(host='0.0.0.0', port = 5002)"
   ]
  },
  {
   "cell_type": "markdown",
   "metadata": {},
   "source": [
    "http://localhost:5002/"
   ]
  },
  {
   "cell_type": "markdown",
   "metadata": {},
   "source": [
    "Si todo funcionó correctamente, tienen que estar viendo lo que nuestra API devuelve cuando el endpoint no contiene ninguna especificación:\n",
    "\n",
    "<br>  \n",
    "\n",
    "<img src=\"img/07_flask.jpg\" alt=\"Drawing\" style=\"width: 800px;\"/>\n",
    "\n",
    "\n",
    "<br>  \n",
    "\n",
    "Recuerden ahora para continuar, detener la ejecución de la línea `app.run(host='0.0.0.0')` de la celda previa."
   ]
  },
  {
   "cell_type": "markdown",
   "metadata": {},
   "source": [
    "### Probamos el método GET\n",
    "<br>  \n",
    "\n",
    "<img src=\"img/10_flask.jpg\" alt=\"Drawing\" style=\"width: 400px;\"/>\n",
    "\n",
    "\n",
    "<br>  \n",
    "En la clase de APIs vimos que `HTTP` es uno de los protocolos base para la transferencia de datos en la web y para los protocolos de intercambio entre clientes y servidores. Este protocolo está basado en la architectura `REST` (Representational State Transfer) que determina una serie de reglas para el diseño de un sistema distribuido en una red (como internet). Esta arquitectura plantea una serie de reglas que los desarrolladores deben seguir al momento de crear las APIs, y a las que adhiere Flask. \n",
    "\n",
    "En el contexto de la arquitectura `REST` nos encontramos con la siguiente estructura básica: \n",
    "<br>  \n",
    "\n",
    "<img src=\"img/08_flask.jpg\" alt=\"Drawing\" style=\"width: 800px;\"/>\n",
    "\n",
    "\n",
    "<br>  \n",
    "\n",
    "\n",
    "\n",
    "Como ya vimos en la clase de APIs existen distintos verbos HTTP que regula la relación entre cliente y servidor (de los cuales nosotros veremos cómo definir dos de ellos en nuetra API): \n",
    "\n",
    "\n",
    "<br>  \n",
    "\n",
    "\n",
    "- **GET:** sólo se usa para obtener información que brinda el servidor. Un pedido de esta clase no debería tener un efecto en la información en el servidor. \n",
    "\n",
    "- **POST:** este pedido permite enviar datos al servidor usando información HTML (puede generar un cambio). \n",
    "\n",
    "- **DELETE:** borra la representación de un recurso. \n",
    "\n",
    "- **PUT:** reemplaza la representacióon con los datos en la petición. \n",
    "\n",
    "\n",
    "<br>  \n",
    "\n",
    "Nuestra aplicación va a saber identificar qué solicitud se le está haciendo a partir de la `URL (Uniform Resource Locator)` que es la ruta que indica dónde se puede encontrar un recurso: \n",
    "<br>  \n",
    "\n",
    "<img src=\"img/11_flask.jpg\" alt=\"Drawing\" style=\"width: 800px;\"/>\n",
    "\n",
    "\n",
    "<br>  \n",
    "\n",
    "\n",
    "Fijensé que en el ejemplo que hicimos antes también definimos una URL (aunque local) en la que el `puerto` que definimos era el **500**, el `resource path` era la **/** (o su ausencia), y no teníamos ninguna `query` que determinara lo que se iba a devolver a partir de la solicitud. \n",
    "\n",
    "<br>  \n",
    "\n",
    "Ahora vamos a definir otro endpoint en nuestra API, donde vamos a explicitar que el método de este endpoint es GET y vamos a probar cómo podemos pasarle diferentes query al endpoint y cómo las recibe el servidor:\n",
    "\n"
   ]
  },
  {
   "cell_type": "code",
   "execution_count": null,
   "metadata": {},
   "outputs": [],
   "source": [
    "# Definimos un nuevo endoint o resource path (prueba_get) y explicitamos el método.\n",
    "@app.route(\"/prueba_get\",methods=['GET'])\n",
    "def pruebaGet():\n",
    "    #request.args\n",
    "    \n",
    "    return jsonify(request.args)\n",
    "    # request.args nos va a permitir capturar la información que pasemos en las query como si fueran\n",
    "    # diccionarios (ya veremos ejemplos más concretos más adelante), en este caso no definimos \n",
    "    # ninguna que la función pruebaGet necesite ya que lo estamos haciendo para probar su funcionamiento. \n",
    "    # Por otro lado, el método jsonify pasa a json los valores que le pasemos a la solicitud para que \n",
    "    # puedan ser devueltos por la API en formato json. "
   ]
  },
  {
   "cell_type": "code",
   "execution_count": null,
   "metadata": {},
   "outputs": [],
   "source": [
    "# disponibilizamos el servidor, y probamos el siguiente llamado con dos query inventadas para ver qué nos devuelve: \n",
    "# http://localhost:5003/prueba_get?id=1555&math=10\n",
    "# Fijensé que para unir dos query se usa el símbolo \"&\"\n",
    "app.run(host='0.0.0.0', port = 5003)"
   ]
  },
  {
   "cell_type": "markdown",
   "metadata": {},
   "source": [
    "http://localhost:5003/prueba_get?id=1555&math=10"
   ]
  },
  {
   "cell_type": "markdown",
   "metadata": {},
   "source": [
    "Con la llamada anterior, les tendría que haber aparecido algo así: \n",
    "<br>  \n",
    "\n",
    "<img src=\"img/12_flask.jpg\" alt=\"Drawing\" style=\"width: 600px;\"/>\n",
    "\n",
    "\n",
    "<br>  \n",
    "\n",
    "\n",
    "\n",
    "Fijensé que tal como habíamos planteado, `request.args` toma las query y las transforma en un diccionario. Entender este funcionamiento es muy importante porque nos va permitir que nuestra API devuelva información específica o realice determinados procesos en función de cuál sea la información que se pase en las query. "
   ]
  },
  {
   "cell_type": "markdown",
   "metadata": {},
   "source": [
    "Ahora vamos a construir un recurso más complicado: vamos a armar una función que si le pasamos el nombre del modelo en la query, devuelva estadísticos de los puntajes de los alumnos en cada prueba de ese modelo. Además, le vamos a poder especificar si queremos que nos devuelva una versión simple de la estadística o una versión más completa (recuerden de detener la celda donde disponibilizamos nuestra API para poder seguir ejecutando las siguientes celdas)."
   ]
  },
  {
   "cell_type": "code",
   "execution_count": null,
   "metadata": {},
   "outputs": [],
   "source": [
    "@app.route(\"/descriptivos_base\",methods=['GET'])\n",
    "def estadistica_Base():\n",
    "    \n",
    "    # 1) Importamos la base desde donde la tengamos almacenada en el \"servidor\"\n",
    "    df=pd.read_csv('../Data/StudentsPerformance.csv')\n",
    "    \n",
    "    \n",
    "    # 2) Sacamos los datos de las queries (chequeamos que estén y sino mandamos mensaje de error)\n",
    "    if 'modelo' not in request.args.keys():\n",
    "        return ('''Debés especificar en el pedido el modelo\n",
    "                   que puede ser a) math, b)read or c)write ''')\n",
    "    elif 'modelo' in request.args.keys():\n",
    "        modelo=request.args['modelo']\n",
    "    \n",
    "    if 'metodo' not in request.args.keys():\n",
    "        return ('''Debés especificar en el pedido el metodo. Puede ser \n",
    "                       a) metodo=simple que devuelve la media\n",
    "                       b) metodo=completo que devuelve la media, el desvío y la mediana''')\n",
    "    elif 'metodo' in request.args.keys():\n",
    "        metodo=request.args['metodo']\n",
    "    \n",
    "    \n",
    "    # 3) Elegimos el modelo del que queremos devolver información\n",
    "    # Matematica\n",
    "    if modelo=='math':\n",
    "        if metodo=='simple':\n",
    "            return jsonify({'media':df['math score'].mean()})\n",
    "        elif metodo=='completo':\n",
    "            return jsonify({'media':df['math score'].mean(),\n",
    "                            'std':df['math score'].mean(),\n",
    "                            'mediana':df['math score'].median()})\n",
    "        else:\n",
    "            return ('''Solo puedes hacer pedidos por los siguientes\n",
    "                       metodos: \n",
    "                       a) metodo=simple que devuelve la media\n",
    "                       b) metodo=completo que devuelve la media, el desvío y la mediana''')\n",
    "    \n",
    "    # Lectura\n",
    "    if modelo=='read':\n",
    "        if metodo=='simple':\n",
    "            return jsonify({'media':df['reading score'].mean()})\n",
    "        elif metodo=='completo':\n",
    "            return jsonify({'media':df['reading score'].mean(),\n",
    "                            'std':df['reading score'].mean(),\n",
    "                            'mediana':df['reading score'].median()})\n",
    "        else:\n",
    "            return ('''Solo puedes hacer pedidos por los siguientes\n",
    "                       metodos: \n",
    "                       a) metodo=simple que devuelve la media\n",
    "                       b) metodo=completo que devuelve la media, el desvío y la mediana''')\n",
    "        \n",
    "    # Escritura\n",
    "    if modelo=='write':\n",
    "        if metodo=='simple':\n",
    "            return jsonify({'media':df['writing score'].mean()})\n",
    "        elif metodo=='completo':\n",
    "            return jsonify({'media':df['writing score'].mean(),\n",
    "                            'std':df['writing score'].mean(),\n",
    "                            'mediana':df['writing score'].median()})\n",
    "        else:\n",
    "            return ('''Solo puedes hacer pedidos por los siguientes\n",
    "                       metodos: \n",
    "                       a) metodo=simple que devuelve la media\n",
    "                       b) metodo=completo que devuelve la media, el desvío y la mediana''')"
   ]
  },
  {
   "cell_type": "code",
   "execution_count": null,
   "metadata": {},
   "outputs": [],
   "source": [
    "# Disponibilizamos nuestra API. Pueden probar pasar el siguiente llamado: \n",
    "# http://localhost:5004/descriptivos_base?modelo=math&metodo=simple\n",
    "# y prueben qué sucede si pasan el siguiente: \n",
    "# http://localhost:5004/descriptivos_base?modelo=math&metodo=completo\n",
    "# y prueben qué sucede si le pasan una query equivocada.\n",
    "app.run(host='0.0.0.0', port = 5004)"
   ]
  },
  {
   "cell_type": "markdown",
   "metadata": {},
   "source": [
    "http://localhost:5004/descriptivos_base?modelo=math&metodo=simple\n",
    "\n",
    "http://localhost:5004/descriptivos_base?modelo=math&metodo=completo"
   ]
  },
  {
   "cell_type": "markdown",
   "metadata": {},
   "source": [
    "Este es un ejemplo de lo que tendrían que haber obtenido con el segundo llamado: \n",
    "<br>  \n",
    "\n",
    "<img src=\"img/13_flask.jpg\" alt=\"Drawing\" style=\"width: 600px;\"/>\n",
    "\n"
   ]
  },
  {
   "cell_type": "markdown",
   "metadata": {},
   "source": [
    "### Probamos ahora distintas formas para generar una predicción con nuestros modelos\n",
    "<br>  \n",
    "\n",
    "<img src=\"img/14_flask.jpg\" alt=\"Drawing\" style=\"width: 600px;\"/>\n",
    "\n",
    "<br> "
   ]
  },
  {
   "cell_type": "markdown",
   "metadata": {},
   "source": [
    "**CONVERTERS**"
   ]
  },
  {
   "cell_type": "markdown",
   "metadata": {},
   "source": [
    "Vamos a armar ahora la función para hacer el pedido de la predicción. Las variables de nuestro modelo son dummies que pueden tomar valores de 0 y 1. Una primera forma de pasar los valores de un nuevo caso es a través de **converters** que nos permiten especificar partes del URL como variables de Python y pasárselas a la función asignada en la llamada. En esta página pueden encontrar información de cómo definir los distintos tipos de **converters**."
   ]
  },
  {
   "cell_type": "code",
   "execution_count": null,
   "metadata": {},
   "outputs": [],
   "source": [
    "with open('dummies_order.pkl', 'rb') as f_dummy:\n",
    "    dummies_encoder = pickle.load(f_dummy)\n",
    "\n",
    "dummies_encoder"
   ]
  },
  {
   "cell_type": "code",
   "execution_count": null,
   "metadata": {},
   "outputs": [],
   "source": [
    "# definimos los converters asociados a las variables dummies y establecemos que son de tipo \"int\"\n",
    "parametros_url = '<int:' + '>/<int:'.join(dummies_encoder) + '>'\n",
    "parametros_url"
   ]
  },
  {
   "cell_type": "code",
   "execution_count": null,
   "metadata": {},
   "outputs": [],
   "source": [
    "# pasamos en la URL asociada a la función los converters que definimos arriba y, además uno llamado <model> que va a\n",
    "# tomar un string y con el cual vamos a poder definir cuál modelo de los tres que guardamos en la notebook anterior\n",
    "# queremos ejecutar.\n",
    "@app.route('/prediccion/<model>/' + parametros_url)\n",
    "def prediccion(model, \n",
    "               gender_female, gender_male, \n",
    "               race_ethnicity_group_A, race_ethnicity_group_B, \n",
    "               race_ethnicity_group_C, race_ethnicity_group_D, race_ethnicity_group_E, \n",
    "               parental_level_of_education_associates_degree, \n",
    "               parental_level_of_education_bachelors_degree, \n",
    "               parental_level_of_education_high_school, parental_level_of_education_masters_degree, \n",
    "               parental_level_of_education_some_college, parental_level_of_education_some_high_school, \n",
    "               lunch_free_reduced, lunch_standard, \n",
    "               test_preparation_course_completed, test_preparation_course_none):\n",
    "               # Fijense que en la función, tenemos que pasar como argumentos cada uno de los converters \n",
    "               # que definimos en la URL. \n",
    "    \n",
    "    \n",
    "    # 1) Levantamos el modelo seleccionado desde nuestro servidor local\n",
    "    if model == 'math':\n",
    "        \n",
    "        # Cargamos el modelos desde nuestra carpeta local en el servidor usando Pickle\n",
    "        with open('./math_model.pkl', 'rb') as f_math:\n",
    "            modelo_matematicas = pickle.load(f_math)\n",
    "        \n",
    "        m = modelo_matematicas\n",
    "        \n",
    "    else:\n",
    "        return 'modelo %s no existe' % model\n",
    "    \n",
    "    \n",
    "    pred = m.predict([[gender_female, gender_male, \n",
    "               race_ethnicity_group_A, race_ethnicity_group_B, race_ethnicity_group_C, race_ethnicity_group_D, race_ethnicity_group_E, \n",
    "               parental_level_of_education_associates_degree, parental_level_of_education_bachelors_degree, parental_level_of_education_high_school, parental_level_of_education_masters_degree, parental_level_of_education_some_college, parental_level_of_education_some_high_school, \n",
    "               lunch_free_reduced, lunch_standard, \n",
    "               test_preparation_course_completed, test_preparation_course_none]])\n",
    "    \n",
    "    pred = 'La prediccion para matematicas es ' + str(pred)\n",
    "    \n",
    "    return pred"
   ]
  },
  {
   "cell_type": "code",
   "execution_count": null,
   "metadata": {},
   "outputs": [],
   "source": [
    "# Ponemos a correr la api y le pasamos una URL. Dado que le estamos pasando la información con los converters\n",
    "# le tenemos que pasar los valores de las dummies en la posición que corresponda: \n",
    "# http://localhost:5005/prediccion/math/1/0/1/0/0/0/0/1/1/0/0/0/1/0/1/0/1\n",
    "app.run(host='0.0.0.0', port = 5005)"
   ]
  },
  {
   "cell_type": "markdown",
   "metadata": {},
   "source": [
    "http://localhost:5005/prediccion/math/1/0/1/0/0/0/0/1/1/0/0/0/1/0/1/0/1"
   ]
  },
  {
   "cell_type": "markdown",
   "metadata": {},
   "source": [
    "**QUERY**"
   ]
  },
  {
   "cell_type": "markdown",
   "metadata": {},
   "source": [
    "Vamos a probar de pasarlo de otra manera, usando query."
   ]
  },
  {
   "cell_type": "code",
   "execution_count": null,
   "metadata": {},
   "outputs": [],
   "source": [
    "@app.route(\"/prediccion_get\", methods=['GET'])\n",
    "def prediccion_get():\n",
    "    \n",
    "    # 1) Tomamos los datos de las queries\n",
    "    #    En este caso no definimos en la ruta ni en la función cuáles son los valores que va a tomar, sino que\n",
    "    #    definimos el método GET y usamos \"request.args\" para traducir en diccionarios las query que pasemos. \n",
    "    #    Al convertirse en diccionarios, podemos usar las claves para guardar la información de cada query en \n",
    "    #    una variable, y luego operar con ellas como hacemos normalmente. \n",
    "    modelo=request.args['modelo']\n",
    "    features=request.args['features']\n",
    "    \n",
    "    # 2) Levantamos el modelo seleccionado desde nuestro servidor local\n",
    "    if modelo == 'math':\n",
    "        \n",
    "        # Cargamos el modelos desde nuestra carpeta local en el servidor usando Pickle\n",
    "        with open('./math_model.pkl', 'rb') as f_math:\n",
    "            modelo_matematicas = pickle.load(f_math)\n",
    "        \n",
    "        m = modelo_matematicas\n",
    "        \n",
    "    else:\n",
    "        return 'modelo %s no existe' % model\n",
    "    \n",
    "    # 3) Hacemos la predicción\n",
    "    # Es importante tener en cuenta que las query que levantamos con \"request.args\" vienen en formato json. \n",
    "    # Si las vamos a usar como texto, no tenemos que hacer nada, pero si son listas, diccionarios, int, floats\n",
    "    # o booleanos, usamos \"json.loads\" para pasarlo al formato de objeto que querramos usar. En este caso, \n",
    "    # transformamos el texto \"[1,0,1,0,0,0,0,1,1,0,0,0,1,0,1,0,1]\" en una lista para poder convertirla en un \n",
    "    # dataframe y realizar la predicción. \n",
    "    datos = pd.DataFrame(json.loads(features)).T\n",
    "    res = m.predict(datos)\n",
    "    \n",
    "    pred = 'La prediccion para matematicas es ' + str(res)\n",
    "    \n",
    "    return pred"
   ]
  },
  {
   "cell_type": "code",
   "execution_count": null,
   "metadata": {},
   "outputs": [],
   "source": [
    "# Pasamos la nueva forma de hacer el llamado: \n",
    "# http://localhost:5006/prediccion_get?modelo=math&features=[1,0,1,0,0,0,0,1,1,0,0,0,1,0,1,0,1]\n",
    "app.run(host='0.0.0.0', port = 5006)"
   ]
  },
  {
   "cell_type": "markdown",
   "metadata": {},
   "source": [
    "http://localhost:5006/prediccion_get?modelo=math&features=[1,0,1,0,0,0,0,1,1,0,0,0,1,0,1,0,1]"
   ]
  },
  {
   "cell_type": "markdown",
   "metadata": {},
   "source": [
    "**USANDO UN JSON + MÉTODO POST**"
   ]
  },
  {
   "cell_type": "markdown",
   "metadata": {},
   "source": [
    "Ahora, vamos a probar enviar realmente datos al servidor con el método post usando un json y que este nos devuelva la solicitud. En los ejemplos anteriores también estábamos enviando información pero lo hacíamos usando partes de la URL, donde técnicamente no estábamos enviando información al servidor, sino indicando una ruta o camino de acceso. Ahora sí vamos a enviar esa misma información pero como un dato que va a ir al servidor. Por eso vamos a usar el método `POST` y no `GET`. "
   ]
  },
  {
   "cell_type": "code",
   "execution_count": null,
   "metadata": {},
   "outputs": [],
   "source": [
    "# definimos el método post en nuestra URL\n",
    "@app.route('/api',methods=['POST'])\n",
    "def predict_post():\n",
    "    # obtengo los datos del request post.\n",
    "    data = request.get_json(force=True)\n",
    "    # data va a ser el json que le vamos a pasar:\n",
    "    #https://kite.com/python/docs/flask.request.get_json\n",
    "    \n",
    "    # 2) Levantamos el modelo seleccionado desde nuestro servidor local\n",
    "    if data['model'] == 'math':\n",
    "        \n",
    "        # Cargamos el modelos desde nuestra carpeta local en el servidor usando Pickle\n",
    "        with open('./math_model.pkl', 'rb') as f_math:\n",
    "            modelo_matematicas = pickle.load(f_math)\n",
    "        \n",
    "        m = modelo_matematicas\n",
    "        \n",
    "    else:\n",
    "        return 'modelo %s no existe' % model\n",
    "        \n",
    "    predictions = m.predict([[int(d) for d in  data['dummies']]])\n",
    "    \n",
    "    return jsonify({'result': predictions[0]})"
   ]
  },
  {
   "cell_type": "code",
   "execution_count": null,
   "metadata": {},
   "outputs": [],
   "source": [
    "# Ponemos a correr el servidor. Dado que ahora vamos a usar el método POST para pasar la información, ya no podemos\n",
    "# hacerlo a partir de informació que esté en la URL. Así que para poder hacer un request con POST, mientras esta \n",
    "# notebook queda corriendo manteniendo nuestra API \"online\" (localmente), vamos a ir a la siguiente notebook: \n",
    "# \"02b_Flask.ipynb\" y hacer el request con POST: \n",
    "app.run(host='0.0.0.0', port = 5007)"
   ]
  },
  {
   "cell_type": "markdown",
   "metadata": {},
   "source": [
    "<a href='#tabla_contenidos'>Volver a TOC</a>"
   ]
  }
 ],
 "metadata": {
  "kernelspec": {
   "display_name": "Python 3",
   "language": "python",
   "name": "python3"
  },
  "language_info": {
   "codemirror_mode": {
    "name": "ipython",
    "version": 3
   },
   "file_extension": ".py",
   "mimetype": "text/x-python",
   "name": "python",
   "nbconvert_exporter": "python",
   "pygments_lexer": "ipython3",
   "version": "3.8.5"
  }
 },
 "nbformat": 4,
 "nbformat_minor": 4
}
