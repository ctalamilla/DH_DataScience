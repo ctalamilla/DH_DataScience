{
 "cells": [
  {
   "cell_type": "code",
   "execution_count": null,
   "metadata": {},
   "outputs": [],
   "source": [
    "# initial setup\n",
    "%run \"../../../common/0_notebooks_base_setup.py\"\n"
   ]
  },
  {
   "cell_type": "markdown",
   "metadata": {},
   "source": [
    "---\n",
    "\n",
    "<img src='../../../common/logo_DH.png' align='left' width=35%/>"
   ]
  },
  {
   "cell_type": "markdown",
   "metadata": {},
   "source": [
    "# <h1><center><ins>PICKLE: serialización</ins></center></h1>\n",
    "<h1><center>Práctica guiada:</center></h1>\n",
    "<img src=\"img/00_pickle.jpg\" alt=\"Drawing\" style=\"width: 400px;\"/>"
   ]
  },
  {
   "cell_type": "markdown",
   "metadata": {},
   "source": [
    "<a id=\"tabla_contenidos\"></a> \n",
    "## Tabla de Contenidos\n",
    "\n",
    "### <a href='#0'>0. Objetivos de la Notebook</a>\n",
    "\n",
    "\n",
    "### <a href='#1'>1. Introducción</a>\n",
    "- #### <a href='#1.1'>1.1 ¿Qué es serializar un objeto de python?</a>\n",
    "- #### <a href='#1.2'>1.2 Serialización con PICKLE</a>\n",
    "- #### <a href='#1.3'>1.3 Serialización con SHELVE</a>\n",
    "- #### <a href='#1.4'>1.4 Diferencias con JSON</a>\n",
    "\n",
    "\n",
    "### <a href='#2.'>2. Un caso práctico de serialización con PICKLE</a>\n",
    "\n",
    "### <a href='#3.'>3. Un ejemplo con SHELVE</a>\n",
    "\n",
    "### <a href='#4.'>4. Comentarios finales</a>\n",
    "---"
   ]
  },
  {
   "cell_type": "markdown",
   "metadata": {},
   "source": [
    "<a id=\"0\"></a> \n",
    "## 0. Objetivos de la Notebook"
   ]
  },
  {
   "cell_type": "markdown",
   "metadata": {},
   "source": [
    "<div id=\"caja11\" style=\"float:left;width: 100%;\">\n",
    "  <div style=\"float:left;width: 9%;\"><img src=\"../../../common/icons/haciendo_foco.png\" style=\"align:left\"/> </div>\n",
    "  <br>\n",
    "  <div style=\"float:left;width: 85%;\">\n",
    "      <label>Aprender concepto de serialización y persistencia</label><div style=\"float:left;width: 85%;\">\n",
    "      <label>Usar <a class=\"reference internal\" href=https://docs.python.org/3/library/pickle.html><b><code>Pickle</code></b></a> para realizar la persistencia de objetos PYTHON</label>\n",
    "  <div style=\"float:left;width: 85%;\">\n",
    "      <label>Usar <a class=\"reference internal\" href=https://docs.python.org/3/library/shelve.html><b><code>Shelve</code></b></a> para realizar la persistencia de objetos PYTHON</label>\n",
    "  <div style=\"float:left;width: 85%;\">"
   ]
  },
  {
   "cell_type": "markdown",
   "metadata": {},
   "source": [
    "<a href='#tabla_contenidos'>Volver a TOC</a>"
   ]
  },
  {
   "cell_type": "markdown",
   "metadata": {},
   "source": [
    "---"
   ]
  },
  {
   "cell_type": "markdown",
   "metadata": {},
   "source": [
    "<a id=\"1\"></a> \n",
    "## 1. Introducción"
   ]
  },
  {
   "cell_type": "markdown",
   "metadata": {},
   "source": [
    "<img src=\"img/02_pickle.jpg\" alt=\"Drawing\" style=\"width: 300px;\"/>"
   ]
  },
  {
   "cell_type": "markdown",
   "metadata": {},
   "source": [
    "<a id=\"1.1\"></a> \n",
    "### 1.1 ¿Qué es serializar un objeto de Python?\n",
    "\n",
    "Algunas veces tenemos la necesidad de `guardar un objeto a disco` para poder recuperarlo más tarde, o puede que necesitemos enviar un objeto a través de la red, o a otro programa en Python ejecutándose en otra máquina. Al proceso de transformar un objeto a un formato que se pueda almacenar, recuperar y transportar se le conoce con el nombre de `serialización`. En Python tenemos varios módulos que nos facilitan esta tarea, como <a class=\"reference internal\" href=https://docs.python.org/3/library/pickle.html><b><code>Pickle</code></b></a> y <a class=\"reference internal\" href=https://docs.python.org/3/library/shelve.html><b><code>Shelve</code></b></a>.\n",
    "\n",
    "<br>\n",
    "\n",
    "`¿Por qué necesitamos serializar objetos?` \n",
    "\n",
    "Guardar objetos en disco nos puede ahorrar mucho tiempo ya que podemos tener un modelo ya entrenado con un set de datos y así nos evitamos tener que entrenarlo cada vez que lo querramos aplicar. Cuando serializamos un modelo, lo podemos bajar a disco, luego levantarlo y usar el método `.predict` con un nuevo dato para obtener su predicción. En esta misma línea, serializar un modelo nos permite poder poner en producción, es decir en un contexto en el cual reciba nueva información y genere predicciones (en la próxima notebook vamos a profundizar aún más sobre esta idea). "
   ]
  },
  {
   "cell_type": "markdown",
   "metadata": {},
   "source": [
    "<a id=\"1.2\"></a> \n",
    "### 1.2 Serialización con PICKLE\n",
    "\n",
    "<img src=\"img/03_pickle.png\" alt=\"Drawing\" style=\"width: 200px;\"/>\n",
    "\n",
    "\n",
    "\n",
    "<a class=\"reference internal\" href=https://docs.python.org/3/library/pickle.html><b><code>Pickle</code></b></a> es un módulo de python para serializar un objeto python en un formato binario, el cual luego puede ser deserializado de nuevo a un objeto python. Es decir que este módulo implementa protocolos de binarización para serializar y deserializar los objetos python. `Pickle`, por su parte, permite serializar casi cualquier objeto (objetos de tipos definidos por el usuario, colecciones que contienen colecciones, etc) y cuenta con algunos mecanismos de seguridad básicos.\n",
    "\n",
    "<br>  \n",
    "\n",
    "La forma más sencilla de serializar un objeto usando pickle es mediante una llamada a la función `dump` pasando como argumento el objeto a serializar y un objeto archivo en el que guardarlo (o cualquier otro tipo de objeto similar a un archivo, siempre que ofrezca métodos read, realine y write). \n",
    "\n",
    "\n",
    "<img src=\"img/04_pickle.jpg\" alt=\"Drawing\" style=\"width: 1900px;\"/>\n",
    "\n",
    "En el ejemplo, estamos bajando a disco la lista `animales`. `open()` se utiliza para abrir archivos en el sistema, y `lista_animales.pkl` es el nombre del archivo que se va a abrir. El modo indica cómo se va a abrir el archivo: r para reading, w para writing y a para appending. El término b indica que el archivo se abre en modo binario, por lo que wb indica binary writing. Es decir que `open()` tiene dos argumentos el nombre del archivo y el modo en que abrimos el archivo (el default del modo es reading).\n",
    "\n",
    "\n",
    "<br>  \n",
    "\n",
    "\n",
    "\n",
    "Para volver a cargar un objeto serializado se utiliza la función `load`, a la que se le pasa el archivo en el que se guardó:\n",
    "\n",
    "<img src=\"img/05_pickle.jpg\" alt=\"Drawing\" style=\"width: 1900px;\"/>"
   ]
  },
  {
   "cell_type": "markdown",
   "metadata": {},
   "source": [
    "<a id=\"1.3\"></a> \n",
    "### 1.3 Serialización con SHELVE\n",
    "<img src=\"img/06_pickle.jpg\" alt=\"Drawing\" style=\"width: 400px;\"/>\n",
    "\n",
    "\n",
    "\n",
    "<br>  \n",
    "\n",
    "\n",
    "\n",
    "Pero, ¿y si hubiéramos guardado 30 objetos y quisiéramos acceder al último de ellos? ¿o si no recordáramos en qué posición lo habíamos guardado? El módulo <a class=\"reference internal\" href=https://docs.python.org/3/library/shelve.html><b><code>Shelve</code></b></a> extiende Pickle para proporcionar una forma de realizar la serialización más clara y sencilla, en la que podemos acceder a la versión serializada de un objeto mediante un string asociada, a través de una estructura parecida a un diccionario. Es decir, que `Shelve` nos permite guardar en disco más de un objeto en el mismo archivo y acceder a cada uno de estos objetos (ya sean listas, diccionarios, modelos entrenados, etc.) utilizando las `claves` tal como si fuera un diccionario. De este modo, el archivo que guardaron se convierte en una `database` con un formato binario (igual que sucedía con pickle) a la que pueden acceder en cualquier momento. \n",
    "\n",
    "La única función que necesitamos conocer del módulo shelve es `open`, que cuenta con un parámetro `filename` mediante el que indicar la ruta a un archivo en el que guardar los objetos. La función `open` también cuenta con un parámetro opcional `protocol`, con el que especificar el protocolo que queremos que utilice pickle por debajo.\n",
    "\n",
    "Como resultado de la llamada a `open` obtenemos un `objeto Shelf`, con el que podemos trabajar como si de un diccionario normal se tratase (a excepción de que las claves sólo pueden ser strings) para almacenar y recuperar nuestros objetos. Como un diccionario cualquiera la clase Shelf cuenta con métodos `get`, `has_key`, `items`, `keys`, `values`.\n",
    "\n",
    "\n",
    "<br>  \n",
    "\n",
    "\n",
    "\n",
    "Por ejemplo, podemos probar de guardar dos listas en un mismo archivo en disco y que cada lista esté identificada con una clave: \n",
    "\n",
    "\n",
    "<br>  \n",
    "\n",
    "\n",
    "\n",
    "<img src=\"img/07_pickle.jpg\" alt=\"Drawing\" style=\"width: 1900px;\"/>\n",
    "\n",
    "\n",
    "<br>  \n",
    "\n",
    "\n",
    "Una vez hayamos terminado de trabajar con el `objeto Shelf`, lo cerraremos utilizando el método `close`. Esto es importante ya que sino la `database` con nuestros objetos python queda abierta en memoria consumiendo recursos. \n",
    "\n",
    "\n",
    "<br>  \n",
    "\n",
    "\n",
    "Si ya tenemos guardado una `database` y queremos levantarla de disco, lo hacemos de la siguiente manera: \n",
    "\n",
    "\n",
    "<br>  \n",
    "\n",
    "\n",
    "\n",
    "<img src=\"img/08_pickle.jpg\" alt=\"Drawing\" style=\"width: 1900px;\"/>\n",
    "\n",
    "\n",
    "<br>  \n",
    "\n",
    "Con las `claves` (animales y alimentos) podemos acceder a cada uno de los objetos que guardamos en la `database`. \n"
   ]
  },
  {
   "cell_type": "markdown",
   "metadata": {},
   "source": [
    "<div id=\"caja9\" style=\"float:left;width: 100%;\">\n",
    "  <div style=\"float:left;width: 15%;\"><img src=\"../../../common/icons/kit_de_salida.png\" style=\"align:left\"/> </div>\n",
    "  <br>\n",
    "  <div style=\"float:left;width: 85%;\"><label><b>Para tener en cuenta:</b> Si quieren usar datos con distintos lenguajes de programación, no sería recomendable utilizar Pickle o Shelve. Sus <b>protocolos son específicos de Python</b>, lo cual puede generar incompatibilidad entre lenguajes (incluso pueden tener problemas entre diferentes versiones de Python). Por otro lado, eviten levantar data que fue guardada con Pickle o Shelve si no conocen su procedencia o su origen es poco confiable ya que <b>podría contener código malicioso</b> que se ejecute en forma automática cuando levanten el archivo de disco. Por último, es importante que <b>todos los módulos y dependencias existan en el entorno de serialización</b>. </label></div>\n",
    "</div>"
   ]
  },
  {
   "cell_type": "markdown",
   "metadata": {},
   "source": [
    "<a id=\"1.4\"></a> \n",
    "### 1.4 Diferencias con JSON\n",
    "<img src=\"img/09_pickle.jpg\" alt=\"Drawing\" style=\"width: 800px;\"/>\n",
    "\n",
    "\n",
    "\n",
    "<br>  \n",
    "\n",
    "\n",
    "`JSON` se refiere a <b>JavaScript Object Notation</b>, es un formato liviano para intercambiar data que viene en formato texto (en su mayoría en UTF-8) y que es fácilmente comprensible para humanos (se puede leer). Aunque se deriva de JavaScript, `JSON` está estandarizado y, a diferencia de los archivos guardados con Pickle o Shelve, es independiente del lenguaje de programación (lo que permite que pueda ser consumido por diferentes lenguajes). Además, es más seguro que Pickle o Shelve, y más rápido. Quizás su mayor desventaja es que sólo puede representar algunos tipos de objetos python y no todos. \n",
    "\n",
    "\n"
   ]
  },
  {
   "cell_type": "markdown",
   "metadata": {},
   "source": [
    "<a href='#tabla_contenidos'>Volver a TOC</a>"
   ]
  },
  {
   "cell_type": "markdown",
   "metadata": {},
   "source": [
    "---"
   ]
  },
  {
   "cell_type": "markdown",
   "metadata": {},
   "source": [
    "<a id=\"2.\"></a> \n",
    "## 2. Un caso práctico de serialización con PICKLE"
   ]
  },
  {
   "cell_type": "markdown",
   "metadata": {},
   "source": [
    "Para probar la funcionalidad de `Pickle` vamos a utilizar un dataset de estudiantes con distintas características, vamos a generar 3 modelos simples para predecir el puntaje de los alumnos en tres exámenes: uno de matemáticas, otro de lectura y un último de escritura. "
   ]
  },
  {
   "cell_type": "markdown",
   "metadata": {},
   "source": [
    "### Levantamos los datos y hacemos un preprocesamiento de algunas características del dataframe"
   ]
  },
  {
   "cell_type": "code",
   "execution_count": null,
   "metadata": {},
   "outputs": [],
   "source": [
    "import numpy as np\n",
    "import pandas as pd\n",
    "from sklearn.model_selection import train_test_split"
   ]
  },
  {
   "cell_type": "code",
   "execution_count": null,
   "metadata": {},
   "outputs": [],
   "source": [
    "df = pd.read_csv('../Data/StudentsPerformance.csv')"
   ]
  },
  {
   "cell_type": "markdown",
   "metadata": {},
   "source": [
    "Exploramos qué tiene el dataframe (y si tenemos datos faltantes)"
   ]
  },
  {
   "cell_type": "code",
   "execution_count": null,
   "metadata": {},
   "outputs": [],
   "source": [
    "df.info()"
   ]
  },
  {
   "cell_type": "markdown",
   "metadata": {},
   "source": [
    "- Vemos que no hay datos faltantes. Dado que las columnas tienen espacios (que pueden traernos problemas para lo que vamos a hacer después en la notebook), vamos a reempalzarlos por guiones bajos."
   ]
  },
  {
   "cell_type": "code",
   "execution_count": null,
   "metadata": {},
   "outputs": [],
   "source": [
    "df.columns = [x.replace(' ', '_') for x in df.columns]\n",
    "df.head(4)"
   ]
  },
  {
   "cell_type": "markdown",
   "metadata": {},
   "source": [
    "Dado que, salvo nuestras columnas target (math_score, reading_score y writing_score), el resto son categóricas, vamos a generar dummies para incorporarlas en el modelo que vamos a entrenar"
   ]
  },
  {
   "cell_type": "code",
   "execution_count": null,
   "metadata": {},
   "outputs": [],
   "source": [
    "columnas_categoricas = ['gender', 'race/ethnicity', 'parental_level_of_education', 'lunch', 'test_preparation_course']\n",
    "columnas_respuestas  = ['math_score', 'reading_score', 'writing_score']\n",
    "\n",
    "df_dummies = pd.get_dummies(df, columns = columnas_categoricas)\n",
    "df_dummies.head(4)"
   ]
  },
  {
   "cell_type": "markdown",
   "metadata": {},
   "source": [
    "Ahora que tenemos la base lista, vamos a separar los datos para los modelos"
   ]
  },
  {
   "cell_type": "code",
   "execution_count": null,
   "metadata": {},
   "outputs": [],
   "source": [
    "X = df_dummies.drop(labels = columnas_respuestas, axis=1)\n",
    "display(X.shape, X.head())"
   ]
  },
  {
   "cell_type": "code",
   "execution_count": null,
   "metadata": {},
   "outputs": [],
   "source": [
    "y = df_dummies[[x for x in df_dummies.columns if x in columnas_respuestas]]\n",
    "display(y.shape, y.head())"
   ]
  },
  {
   "cell_type": "markdown",
   "metadata": {},
   "source": [
    "Vemos que en la **\"y\"** nos quedaron los tres scores que luego utilizaremos como target para cada uno de los modelos que vamos a entrenar."
   ]
  },
  {
   "cell_type": "code",
   "execution_count": null,
   "metadata": {},
   "outputs": [],
   "source": [
    "X_train, X_test, y_train, y_test = train_test_split(X, y, test_size=0.33,random_state=2020)\n",
    "\n",
    "display(X_train.shape, X_test.shape, y_train.shape, y_test.shape)"
   ]
  },
  {
   "cell_type": "markdown",
   "metadata": {},
   "source": [
    "### Generamos los modelos\n",
    "Dado que nuestro objetivo es probar cómo funcionan Pickle (y luego Shelve) vamos a hacer una hiperparametrización muy simple sobre un sólo algoritmo de regresión: ElasticNet"
   ]
  },
  {
   "cell_type": "code",
   "execution_count": null,
   "metadata": {},
   "outputs": [],
   "source": [
    "from sklearn.linear_model import ElasticNetCV as eNetCv\n",
    "from sklearn.model_selection import KFold"
   ]
  },
  {
   "cell_type": "markdown",
   "metadata": {},
   "source": [
    "Entrenamos el modelo primero para **Matemáticas**"
   ]
  },
  {
   "cell_type": "code",
   "execution_count": null,
   "metadata": {},
   "outputs": [],
   "source": [
    "k=KFold(n_splits=3, shuffle=True, random_state=45)\n",
    "\n",
    "model_math = eNetCv(alphas=np.linspace(0.001, 10, 100), cv = k, n_jobs=-1, verbose=1)\n",
    "\n",
    "model_math.fit(X_train, y_train['math_score'])"
   ]
  },
  {
   "cell_type": "code",
   "execution_count": null,
   "metadata": {},
   "outputs": [],
   "source": [
    "# Nos fijamos cuál fue el mejor alpha\n",
    "model_math.alpha_"
   ]
  },
  {
   "cell_type": "code",
   "execution_count": null,
   "metadata": {},
   "outputs": [],
   "source": [
    "# Evaluams el modelo..., aunque no nos importa demasiado cómo sea su desempeño\n",
    "from sklearn.metrics import r2_score\n",
    "from sklearn.metrics import mean_squared_error"
   ]
  },
  {
   "cell_type": "code",
   "execution_count": null,
   "metadata": {},
   "outputs": [],
   "source": [
    "r2_score(y_test['math_score'],model_math.predict(X_test))"
   ]
  },
  {
   "cell_type": "code",
   "execution_count": null,
   "metadata": {},
   "outputs": [],
   "source": [
    "np.sqrt(mean_squared_error(y_test['math_score'],model_math.predict(X_test)))"
   ]
  },
  {
   "cell_type": "markdown",
   "metadata": {},
   "source": [
    "Entrenamos el modelo para **Lectura**"
   ]
  },
  {
   "cell_type": "code",
   "execution_count": null,
   "metadata": {},
   "outputs": [],
   "source": [
    "# entrenamos\n",
    "model_read = eNetCv(alphas=np.linspace(0.001, 10, 100), cv = k, n_jobs=-1)\n",
    "model_read.fit(X_train, y_train['reading_score'])\n",
    "\n",
    "# evaluamos el modelo\n",
    "display(r2_score(y_test['reading_score'],model_math.predict(X_test)))\n",
    "display(np.sqrt(mean_squared_error(y_test['reading_score'],model_math.predict(X_test))))"
   ]
  },
  {
   "cell_type": "markdown",
   "metadata": {},
   "source": [
    "Entrenamos el modelo para **Escritura**"
   ]
  },
  {
   "cell_type": "code",
   "execution_count": null,
   "metadata": {},
   "outputs": [],
   "source": [
    "# entrenamos\n",
    "model_write = eNetCv(alphas=np.linspace(0.001, 10, 100), cv = k, n_jobs=-1)\n",
    "model_write.fit(X_train, y_train['writing_score'])\n",
    "\n",
    "# evaluamos el modelo\n",
    "display(r2_score(y_test['writing_score'],model_math.predict(X_test)))\n",
    "display(np.sqrt(mean_squared_error(y_test['writing_score'],model_math.predict(X_test))))"
   ]
  },
  {
   "cell_type": "markdown",
   "metadata": {},
   "source": [
    "Tal como anticipamos, nuestros modelos no fueron **muy buenos**...\n",
    "\n",
    "<img src=\"img/10_pickle.jpg\" alt=\"Drawing\" style=\"width: 350px;\"/>\n",
    "\n",
    "\n",
    "\n",
    "<br>  \n",
    "\n",
    "\n",
    "Pero bueno, recordemos que nuestro objetivo es probar **Pickle**, así que...\n",
    "\n",
    "<img src=\"img/11_pickle.gif\" alt=\"Drawing\" style=\"width: 350px;\"/>"
   ]
  },
  {
   "cell_type": "markdown",
   "metadata": {},
   "source": [
    "### ¡Finalmente... probamos Pickle!"
   ]
  },
  {
   "cell_type": "markdown",
   "metadata": {},
   "source": [
    "Importamos la librería"
   ]
  },
  {
   "cell_type": "code",
   "execution_count": null,
   "metadata": {},
   "outputs": [],
   "source": [
    "import pickle"
   ]
  },
  {
   "cell_type": "markdown",
   "metadata": {},
   "source": [
    "Tal como vimos en la introducción, bajamos a disco cada uno de los objetos que tiene nuestros modelos entrenados. Vamos a guardar un archivo por cada modelo:"
   ]
  },
  {
   "cell_type": "code",
   "execution_count": null,
   "metadata": {},
   "outputs": [],
   "source": [
    "# Matemáticas\n",
    "with open('math_model.pkl', 'wb') as f_math:\n",
    "    pickle.dump(model_math, f_math)"
   ]
  },
  {
   "cell_type": "code",
   "execution_count": null,
   "metadata": {},
   "outputs": [],
   "source": [
    "# Escritura\n",
    "with open('write_model.pkl', 'wb') as f_write:\n",
    "    pickle.dump(model_write, f_write)"
   ]
  },
  {
   "cell_type": "code",
   "execution_count": null,
   "metadata": {},
   "outputs": [],
   "source": [
    "# Lectura\n",
    "with open('read_model.pkl', 'wb') as f_read:\n",
    "    pickle.dump(model_read, f_read)"
   ]
  },
  {
   "cell_type": "markdown",
   "metadata": {},
   "source": [
    "Para ver si se crearon los archivos que queríamos, usamos la librería <a class=\"reference internal\" href=https://docs.python.org/3/library/os.html><b><code>OS</code></b></a> que nos permite usar el sistema operativo:"
   ]
  },
  {
   "cell_type": "code",
   "execution_count": null,
   "metadata": {},
   "outputs": [],
   "source": [
    "import os\n",
    "\n",
    "# observamos si los archivos se crearon en la carpeta en donde estamos ejecutando la notebook\n",
    "[x for x in os.listdir() if 'pkl' in x]"
   ]
  },
  {
   "cell_type": "markdown",
   "metadata": {},
   "source": [
    "- Podemos ver que los modelos entrenados se guardaron en el disco, ahora vamos a guardar una lista con los nombres de las columnas del dataframe con el que entrenamos los modelos (ya que los vamos a utilizar en la próxima notebook)"
   ]
  },
  {
   "cell_type": "code",
   "execution_count": null,
   "metadata": {},
   "outputs": [],
   "source": [
    "dummies_encoder = [x.replace(' ', '_').replace(\"'\", '').replace('/', '_') for x in list(X.columns) ]\n",
    "\n",
    "with open('dummies_order.pkl', 'wb') as f_orden_dummy:\n",
    "    pickle.dump(list(dummies_encoder), f_orden_dummy)\n"
   ]
  },
  {
   "cell_type": "markdown",
   "metadata": {},
   "source": [
    "Para probar lo que hicimos, vamos a levantar uno de los modelos ya entrenados y pasarle un nuevo caso para ver que todo funcione bien."
   ]
  },
  {
   "cell_type": "code",
   "execution_count": null,
   "metadata": {},
   "outputs": [],
   "source": [
    "#  Probamos levantar el modelo de matemáticas, y lo llamamos con otro nombre\n",
    "with open('./math_model.pkl', 'rb') as f_math:\n",
    "        modelo_matematicas = pickle.load(f_math)"
   ]
  },
  {
   "cell_type": "code",
   "execution_count": null,
   "metadata": {},
   "outputs": [],
   "source": [
    "# Podemos ver que el modelo tiene guardado el atributo con los coeficientes, ya que lo guardamos ya entrenado\n",
    "modelo_matematicas.coef_"
   ]
  },
  {
   "cell_type": "code",
   "execution_count": null,
   "metadata": {},
   "outputs": [],
   "source": [
    "# Para hacer un chequeo más, podemos comparar los valores de los coeficientes con el modelo entrenado original \n",
    "# y con el que acabamos de levantar del disco:\n",
    "all(model_math.coef_==modelo_matematicas.coef_)"
   ]
  },
  {
   "cell_type": "markdown",
   "metadata": {},
   "source": [
    "- ¡Ambos objetos tienen los mismos valores de coeficientes!"
   ]
  },
  {
   "cell_type": "code",
   "execution_count": null,
   "metadata": {},
   "outputs": [],
   "source": [
    "# Pedimos una prediccion [Simulamos lo que sería un \"caso real\"]\n",
    "modelo_matematicas.predict([[0 for x in range(X.shape[1])]])"
   ]
  },
  {
   "cell_type": "markdown",
   "metadata": {},
   "source": [
    "- Con esto comprobamos que el modelo ya entrenado del disco está listo para hacer predicciones"
   ]
  },
  {
   "cell_type": "markdown",
   "metadata": {},
   "source": [
    "<a href='#tabla_contenidos'>Volver a TOC</a>"
   ]
  },
  {
   "cell_type": "markdown",
   "metadata": {},
   "source": [
    "***"
   ]
  },
  {
   "cell_type": "markdown",
   "metadata": {},
   "source": [
    "<a id=\"3.\"></a> \n",
    "## 3. Un ejemplo con SHELVE"
   ]
  },
  {
   "cell_type": "markdown",
   "metadata": {},
   "source": [
    "Vamos a usar **Shelve** que a diferencia de **Pickle** nos permite guardar los 3 modelos en un mismo archivo, usando claves para poder identificarlos y luego acceder en forma específica a ellos. "
   ]
  },
  {
   "cell_type": "code",
   "execution_count": null,
   "metadata": {},
   "outputs": [],
   "source": [
    "import shelve"
   ]
  },
  {
   "cell_type": "code",
   "execution_count": null,
   "metadata": {},
   "outputs": [],
   "source": [
    "models = shelve.open('modelos.db')\n",
    "\n",
    "models['matematicas']=model_math\n",
    "models['escritura']=model_write\n",
    "models['lectura']=model_read\n",
    "\n",
    "models.close()"
   ]
  },
  {
   "cell_type": "code",
   "execution_count": null,
   "metadata": {},
   "outputs": [],
   "source": [
    "[x for x in os.listdir() if 'db' in x]"
   ]
  },
  {
   "cell_type": "markdown",
   "metadata": {},
   "source": [
    "- Vemos que **Shelve** nos generó 3 archivos con el mismo nombre pero diferentes terminaciones (son siempre 3 archivos, que tengamos 3 modelos es, en este caso, una coincidencia). Esos archivos contienen nuestra **database** con los 3 modelos. Vamos a probar levantarlo tal como hicimos con **Pickle**"
   ]
  },
  {
   "cell_type": "code",
   "execution_count": null,
   "metadata": {},
   "outputs": [],
   "source": [
    "modelos_=shelve.open('modelos.db')\n",
    "modelo_matematicas_shelve=modelos_['matematicas']"
   ]
  },
  {
   "cell_type": "markdown",
   "metadata": {},
   "source": [
    "Probamos comparar los coeficientes entre este modelo y el que levantamos con **Pickle**"
   ]
  },
  {
   "cell_type": "code",
   "execution_count": null,
   "metadata": {},
   "outputs": [],
   "source": [
    "all(modelo_matematicas_shelve.coef_==modelo_matematicas.coef_)"
   ]
  },
  {
   "cell_type": "markdown",
   "metadata": {},
   "source": [
    "Probamos hacer una predicción para ver si obtenemos el mismo valor que antes"
   ]
  },
  {
   "cell_type": "code",
   "execution_count": null,
   "metadata": {},
   "outputs": [],
   "source": [
    "modelo_matematicas.predict([[0 for x in range(X.shape[1])]])==modelo_matematicas_shelve.predict([[0 for x in range(X.shape[1])]])"
   ]
  },
  {
   "cell_type": "markdown",
   "metadata": {},
   "source": [
    "<a href='#tabla_contenidos'>Volver a TOC</a>"
   ]
  },
  {
   "cell_type": "markdown",
   "metadata": {},
   "source": [
    "***"
   ]
  },
  {
   "cell_type": "markdown",
   "metadata": {},
   "source": [
    "<a id=\"4.\"></a> \n",
    "## 4. Comentarios finales\n",
    "<img src=\"img/23_conclusion.jpg\" alt=\"Drawing\" style=\"width: 400px;\"/>"
   ]
  },
  {
   "cell_type": "markdown",
   "metadata": {},
   "source": [
    "<div id=\"caja7\" style=\"float:left;width: 100%;\">\n",
    "  <div style=\"float:left;width: 15%;\"><img src=\"../../../common/icons/en_resumen.png\" style=\"align:left\"/> </div>\n",
    "  <br>\n",
    "  <br>  \n",
    "  <div style=\"float:left;width: 85%;\"><label><b>En conclusión...</b></label></div>\n",
    "</div>\n",
    "<br>\n",
    " \n",
    " <br>\n",
    " \n",
    "- `Serialización` es el proceso de transformar un objeto a un formato que se pueda almacenar, recuperar y transportar.\n",
    " \n",
    " <br>\n",
    " \n",
    "- `Pickle` es un módulo de Python para serializar un objeto python en un formato binario, el cual luego puede ser deserializado de nuevo a un objeto python.\n",
    " \n",
    " <br>\n",
    " \n",
    "- `Shelve` extiende Pickle para proporcionar una forma de realizar la serialización más clara y sencilla, en la que podemos acceder a la versión serializada de un objeto mediante un string asociada, a través de una estructura parecida a un diccionario.\n",
    " \n",
    " <br>\n",
    " \n",
    "- `Pickle` y `Shelve` son protocolos  específicos de Python lo cual puede generar incompatibilidad entre lenguajes, a diferencia de lo que sucede con un `JSON`\n",
    " \n",
    " <br>\n",
    " \n",
    "- Si no conocen la procedencia de un archivo `Pickle` o `Shelve`  tengan cuidado ya que podría contener código malicioso.\n",
    " \n",
    " <br>\n",
    " \n",
    "- Es importante que todos los módulos y dependencias existan en el entorno de serialización."
   ]
  },
  {
   "cell_type": "markdown",
   "metadata": {},
   "source": [
    "> **FIN ENTRENAMIENTO**\n",
    "\n",
    "> Con esto terminamos de entrenar nuestros modelos y grabarlos a disco. En la próxima práctica guiada de esta clase vamos a simular un contexto de puesta en producción, en el cual vamos a generar en el servidor de nuestra empresa una API para que otros servicios de la empresa o usuarios puedan comunicarse y hacer pedidos."
   ]
  },
  {
   "cell_type": "markdown",
   "metadata": {},
   "source": [
    "<a href='#tabla_contenidos'>Volver a TOC</a>"
   ]
  }
 ],
 "metadata": {
  "kernelspec": {
   "display_name": "Python 3",
   "language": "python",
   "name": "python3"
  },
  "language_info": {
   "codemirror_mode": {
    "name": "ipython",
    "version": 3
   },
   "file_extension": ".py",
   "mimetype": "text/x-python",
   "name": "python",
   "nbconvert_exporter": "python",
   "pygments_lexer": "ipython3",
   "version": "3.8.5"
  }
 },
 "nbformat": 4,
 "nbformat_minor": 4
}
