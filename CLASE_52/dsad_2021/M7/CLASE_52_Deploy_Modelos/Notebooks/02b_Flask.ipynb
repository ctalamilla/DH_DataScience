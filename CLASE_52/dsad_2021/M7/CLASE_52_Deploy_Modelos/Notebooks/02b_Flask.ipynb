{
 "cells": [
  {
   "cell_type": "code",
   "execution_count": null,
   "metadata": {},
   "outputs": [],
   "source": [
    "# initial setup\n",
    "%run \"../../../common/0_notebooks_base_setup.py\"\n"
   ]
  },
  {
   "cell_type": "markdown",
   "metadata": {},
   "source": [
    "---\n",
    "\n",
    "<img src='../../../common/logo_DH.png' align='left' width=35%/>"
   ]
  },
  {
   "cell_type": "markdown",
   "metadata": {},
   "source": [
    "## DEL LADO DEL CIENTE"
   ]
  },
  {
   "cell_type": "markdown",
   "metadata": {},
   "source": [
    "Nos ponemos del lado del cliente y hacemos un POST usando la librería request a la API que tenemos corriendo en nuestro \"servidor\" (es decir la notebook \"01b_Flask\")"
   ]
  },
  {
   "cell_type": "code",
   "execution_count": null,
   "metadata": {},
   "outputs": [],
   "source": [
    "import requests\n",
    "\n",
    "url = 'http://localhost:5007/api'\n",
    "\n",
    "r = requests.post(url,\n",
    "                  json = {'model' : 'math',\n",
    "                          'dummies':['1','1', '1', '0', '0', '0', '0', '1', '1', '0', '0', '0', '1', '0', '1', '0', '1']})\n",
    "print(r.json())"
   ]
  },
  {
   "cell_type": "markdown",
   "metadata": {},
   "source": [
    "## 3. Comentarios finales"
   ]
  },
  {
   "cell_type": "markdown",
   "metadata": {},
   "source": [
    "<img src=\"img/23_conclusion.jpg\" alt=\"Drawing\" style=\"width: 400px;\"/>"
   ]
  },
  {
   "cell_type": "markdown",
   "metadata": {},
   "source": [
    "<div id=\"caja7\" style=\"float:left;width: 100%;\">\n",
    "  <div style=\"float:left;width: 15%;\"><img src=\"../../../common/icons/en_resumen.png\" style=\"align:left\"/> </div>\n",
    "  <br>\n",
    "  <br>  \n",
    "  <div style=\"float:left;width: 85%;\"><label><b>En conclusión...</b></label></div>\n",
    "</div>\n",
    "<br>\n",
    "\n",
    "- Hemos aprendido sobre Serialización, deploy y representación de recursos en una aplicación web con Python utilizando `Pickle` y `Flask`.\n",
    "\n",
    "- Hay que tener en cuenta que los servidores `Flask` están pensados en especial para hacer una simulación de producción en los entornos de desarrollo. En comparación a una app web de producción con otro lenguaje, `Flask` sólo permite que la API reciba una información a la vez y puede volverse muy lenta. Lo importante es que es un entorno donde podemos probar cómo integrar nuestros desarrollos en la web de producción, para que luego una persona que se encarga de hacer las implementaciones, utilice nuestra integración para subir, por ejemplo, los modelos entrenados a la web para que sean accedidos. \n"
   ]
  },
  {
   "cell_type": "markdown",
   "metadata": {},
   "source": [
    "**YAPA: algunos links para profundizar y hasta animarse a armar su propia api en la web**"
   ]
  },
  {
   "cell_type": "markdown",
   "metadata": {},
   "source": [
    "> Tutorial \"how to create an api in amazon?\": \n",
    "- https://medium.com/@rodkey/deploying-a-flask-application-on-aws-a72daba6bb80  \n",
    "\n",
    "> Muy buena páginas sobre Flask\n",
    "- https://programminghistorian.org/en/lessons/creating-apis-with-python-and-flask  \n",
    "- https://kite.com/blog/python/flask-restful-api-tutorial/  \n",
    "\n",
    "> Otra muy buena guía para generar una api en un servidor con Flask (proceso punta a punta): \n",
    "- https://blog.miguelgrinberg.com/post/the-flask-mega-tutorial-part-i-hello-world\n",
    "\n",
    "> Anatomía de una URL: \n",
    "- https://doepud.co.uk/blog/anatomy-of-a-url  \n"
   ]
  },
  {
   "cell_type": "code",
   "execution_count": null,
   "metadata": {},
   "outputs": [],
   "source": []
  }
 ],
 "metadata": {
  "kernelspec": {
   "display_name": "Python 3",
   "language": "python",
   "name": "python3"
  },
  "language_info": {
   "codemirror_mode": {
    "name": "ipython",
    "version": 3
   },
   "file_extension": ".py",
   "mimetype": "text/x-python",
   "name": "python",
   "nbconvert_exporter": "python",
   "pygments_lexer": "ipython3",
   "version": "3.8.5"
  }
 },
 "nbformat": 4,
 "nbformat_minor": 4
}
