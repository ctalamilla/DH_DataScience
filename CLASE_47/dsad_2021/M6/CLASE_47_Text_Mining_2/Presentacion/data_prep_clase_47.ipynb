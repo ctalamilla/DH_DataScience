{
 "cells": [
  {
   "cell_type": "code",
   "execution_count": 1,
   "id": "dutch-administrator",
   "metadata": {},
   "outputs": [],
   "source": [
    "import pandas as pd\n",
    "import zipfile\n",
    "from os import path, remove"
   ]
  },
  {
   "cell_type": "code",
   "execution_count": 2,
   "id": "framed-anchor",
   "metadata": {},
   "outputs": [],
   "source": [
    "directory_to_extract_to = '../Data/'"
   ]
  },
  {
   "cell_type": "code",
   "execution_count": 3,
   "id": "going-glasgow",
   "metadata": {},
   "outputs": [],
   "source": [
    "train_path_to_zip_file = '../Data/full_train.zip'\n",
    "with zipfile.ZipFile(train_path_to_zip_file, 'r') as zip_ref:\n",
    "    zip_ref.extractall(directory_to_extract_to)\n",
    "    \n",
    "test_path_to_zip_file = '../Data/full_test.zip'\n",
    "with zipfile.ZipFile(test_path_to_zip_file, 'r') as zip_ref:\n",
    "    zip_ref.extractall(directory_to_extract_to)\n",
    "    "
   ]
  },
  {
   "cell_type": "code",
   "execution_count": 4,
   "id": "sunset-budapest",
   "metadata": {},
   "outputs": [],
   "source": [
    "train_file_path = path.join(directory_to_extract_to, 'full_train.txt')\n",
    "\n",
    "test_file_path = path.join(directory_to_extract_to, 'full_test.txt')\n"
   ]
  },
  {
   "cell_type": "code",
   "execution_count": 5,
   "id": "public-ancient",
   "metadata": {},
   "outputs": [
    {
     "name": "stdout",
     "output_type": "stream",
     "text": [
      "25000\n"
     ]
    }
   ],
   "source": [
    "reviews_train = []\n",
    "for line in open(train_file_path, 'r'):\n",
    "    reviews_train.append(line.strip())\n",
    "\n",
    "print(len(reviews_train))    \n"
   ]
  },
  {
   "cell_type": "code",
   "execution_count": 6,
   "id": "dimensional-constraint",
   "metadata": {},
   "outputs": [
    {
     "name": "stdout",
     "output_type": "stream",
     "text": [
      "25000\n"
     ]
    }
   ],
   "source": [
    "reviews_test = []\n",
    "for line in open('../Data/full_test.txt', 'r'):\n",
    "    reviews_test.append(line.strip())\n",
    "    \n",
    "print(len(reviews_test))        "
   ]
  },
  {
   "cell_type": "markdown",
   "id": "addressed-tradition",
   "metadata": {},
   "source": [
    "The targets/labels we use will be the same for training and testing because both datasets are structured the same, where the first 12.5k are positive and the last 12.5k are negative."
   ]
  },
  {
   "cell_type": "code",
   "execution_count": 7,
   "id": "smaller-church",
   "metadata": {},
   "outputs": [
    {
     "name": "stderr",
     "output_type": "stream",
     "text": [
      "/home/paulati/anaconda3/envs/dhdsblend2021/lib/python3.8/site-packages/pandas/core/indexing.py:670: SettingWithCopyWarning: \n",
      "A value is trying to be set on a copy of a slice from a DataFrame\n",
      "\n",
      "See the caveats in the documentation: https://pandas.pydata.org/pandas-docs/stable/user_guide/indexing.html#returning-a-view-versus-a-copy\n",
      "  iloc._setitem_with_indexer(indexer, value)\n"
     ]
    }
   ],
   "source": [
    "reviews_train_df = pd.DataFrame(reviews_train, columns = [\"text\"])\n",
    "reviews_train_df[\"label\"] = 0 # inicializo todos en negativos\n",
    "reviews_train_df.label.iloc[0:12500] = 1"
   ]
  },
  {
   "cell_type": "code",
   "execution_count": 8,
   "id": "grand-placement",
   "metadata": {},
   "outputs": [],
   "source": [
    "reviews_test_df = pd.DataFrame(reviews_test, columns = [\"text\"])\n",
    "reviews_test_df[\"label\"] = 0 # inicializo todos en negativos\n",
    "reviews_test_df.label.iloc[0:12500] = 1"
   ]
  },
  {
   "cell_type": "code",
   "execution_count": 9,
   "id": "affected-market",
   "metadata": {},
   "outputs": [],
   "source": [
    "out_train_file_path = path.join(directory_to_extract_to, 'imdb_train.txt')\n",
    "\n",
    "out_test_file_path = path.join(directory_to_extract_to, 'imdb_test.txt')\n",
    "\n",
    "reviews_train_df.to_csv(out_train_file_path, sep='\\t', encoding= \"utf-8\",header = True, index = False)\n",
    "\n",
    "reviews_test_df.to_csv(out_test_file_path, sep='\\t', encoding= \"utf-8\", header = True, index = False)\n"
   ]
  },
  {
   "cell_type": "code",
   "execution_count": 19,
   "id": "comprehensive-burlington",
   "metadata": {},
   "outputs": [],
   "source": [
    "#train_path_file = '../Data/imdb_train.txt'\n",
    "#train_path_file_zip = '../Data/imdb_train.zip'\n",
    "\n",
    "#with zipfile.ZipFile(train_path_file_zip, 'w') as zip_ref:\n",
    "#    zip_ref.write(train_path_file)\n",
    "    "
   ]
  },
  {
   "cell_type": "code",
   "execution_count": null,
   "id": "happy-crazy",
   "metadata": {},
   "outputs": [],
   "source": []
  },
  {
   "cell_type": "markdown",
   "id": "religious-static",
   "metadata": {},
   "source": [
    "## Cleanup"
   ]
  },
  {
   "cell_type": "code",
   "execution_count": 14,
   "id": "external-gross",
   "metadata": {},
   "outputs": [],
   "source": [
    "#remove(train_file_path)\n",
    "#remove(test_file_path)"
   ]
  },
  {
   "cell_type": "code",
   "execution_count": null,
   "id": "circular-orchestra",
   "metadata": {},
   "outputs": [],
   "source": []
  }
 ],
 "metadata": {
  "kernelspec": {
   "display_name": "Python 3",
   "language": "python",
   "name": "python3"
  },
  "language_info": {
   "codemirror_mode": {
    "name": "ipython",
    "version": 3
   },
   "file_extension": ".py",
   "mimetype": "text/x-python",
   "name": "python",
   "nbconvert_exporter": "python",
   "pygments_lexer": "ipython3",
   "version": "3.8.5"
  }
 },
 "nbformat": 4,
 "nbformat_minor": 5
}
